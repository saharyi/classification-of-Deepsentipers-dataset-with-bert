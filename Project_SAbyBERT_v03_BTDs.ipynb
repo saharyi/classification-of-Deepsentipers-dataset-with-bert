{
  "nbformat": 4,
  "nbformat_minor": 0,
  "metadata": {
    "accelerator": "GPU",
    "colab": {
      "name": "Project-SAbyBERT_v03_BTDs.ipynb",
      "provenance": [],
      "collapsed_sections": [
        "7tJiFIDMyvy-",
        "sw4kYH2HygE_",
        "tGGK1DeyzQdp",
        "cr9L9N91gSpm",
        "Pr8cRm9xiyKh",
        "doP5OE1OWP38"
      ],
      "toc_visible": true
    },
    "kernelspec": {
      "display_name": "Python 3",
      "name": "python3"
    },
    "language_info": {
      "name": "python"
    },
    "widgets": {
      "application/vnd.jupyter.widget-state+json": {
        "455f1251625d4acead31008a673e8694": {
          "model_module": "@jupyter-widgets/controls",
          "model_name": "HBoxModel",
          "state": {
            "_view_name": "HBoxView",
            "_dom_classes": [],
            "_model_name": "HBoxModel",
            "_view_module": "@jupyter-widgets/controls",
            "_model_module_version": "1.5.0",
            "_view_count": null,
            "_view_module_version": "1.5.0",
            "box_style": "",
            "layout": "IPY_MODEL_3d782d7260ce4b6dbe2cd80571e976c3",
            "_model_module": "@jupyter-widgets/controls",
            "children": [
              "IPY_MODEL_06a3d91fdb8e40ffb6d9d0fc3a6284eb",
              "IPY_MODEL_fed4bc14cfdc4b6b8f8225573e8df7e9"
            ]
          }
        },
        "3d782d7260ce4b6dbe2cd80571e976c3": {
          "model_module": "@jupyter-widgets/base",
          "model_name": "LayoutModel",
          "state": {
            "_view_name": "LayoutView",
            "grid_template_rows": null,
            "right": null,
            "justify_content": null,
            "_view_module": "@jupyter-widgets/base",
            "overflow": null,
            "_model_module_version": "1.2.0",
            "_view_count": null,
            "flex_flow": null,
            "width": null,
            "min_width": null,
            "border": null,
            "align_items": null,
            "bottom": null,
            "_model_module": "@jupyter-widgets/base",
            "top": null,
            "grid_column": null,
            "overflow_y": null,
            "overflow_x": null,
            "grid_auto_flow": null,
            "grid_area": null,
            "grid_template_columns": null,
            "flex": null,
            "_model_name": "LayoutModel",
            "justify_items": null,
            "grid_row": null,
            "max_height": null,
            "align_content": null,
            "visibility": null,
            "align_self": null,
            "height": null,
            "min_height": null,
            "padding": null,
            "grid_auto_rows": null,
            "grid_gap": null,
            "max_width": null,
            "order": null,
            "_view_module_version": "1.2.0",
            "grid_template_areas": null,
            "object_position": null,
            "object_fit": null,
            "grid_auto_columns": null,
            "margin": null,
            "display": null,
            "left": null
          }
        },
        "06a3d91fdb8e40ffb6d9d0fc3a6284eb": {
          "model_module": "@jupyter-widgets/controls",
          "model_name": "FloatProgressModel",
          "state": {
            "_view_name": "ProgressView",
            "style": "IPY_MODEL_b44fcae57f804443a3c17a1e50cbd3d1",
            "_dom_classes": [],
            "description": "Downloading: 100%",
            "_model_name": "FloatProgressModel",
            "bar_style": "success",
            "max": 1198122,
            "_view_module": "@jupyter-widgets/controls",
            "_model_module_version": "1.5.0",
            "value": 1198122,
            "_view_count": null,
            "_view_module_version": "1.5.0",
            "orientation": "horizontal",
            "min": 0,
            "description_tooltip": null,
            "_model_module": "@jupyter-widgets/controls",
            "layout": "IPY_MODEL_47918c4a1111469ea74106d2d6eea45a"
          }
        },
        "fed4bc14cfdc4b6b8f8225573e8df7e9": {
          "model_module": "@jupyter-widgets/controls",
          "model_name": "HTMLModel",
          "state": {
            "_view_name": "HTMLView",
            "style": "IPY_MODEL_910036d213444de4a6c31547d367b45e",
            "_dom_classes": [],
            "description": "",
            "_model_name": "HTMLModel",
            "placeholder": "​",
            "_view_module": "@jupyter-widgets/controls",
            "_model_module_version": "1.5.0",
            "value": " 1.20M/1.20M [00:00&lt;00:00, 4.48MB/s]",
            "_view_count": null,
            "_view_module_version": "1.5.0",
            "description_tooltip": null,
            "_model_module": "@jupyter-widgets/controls",
            "layout": "IPY_MODEL_1fca9a42d20d47fd838967fe676b1837"
          }
        },
        "b44fcae57f804443a3c17a1e50cbd3d1": {
          "model_module": "@jupyter-widgets/controls",
          "model_name": "ProgressStyleModel",
          "state": {
            "_view_name": "StyleView",
            "_model_name": "ProgressStyleModel",
            "description_width": "initial",
            "_view_module": "@jupyter-widgets/base",
            "_model_module_version": "1.5.0",
            "_view_count": null,
            "_view_module_version": "1.2.0",
            "bar_color": null,
            "_model_module": "@jupyter-widgets/controls"
          }
        },
        "47918c4a1111469ea74106d2d6eea45a": {
          "model_module": "@jupyter-widgets/base",
          "model_name": "LayoutModel",
          "state": {
            "_view_name": "LayoutView",
            "grid_template_rows": null,
            "right": null,
            "justify_content": null,
            "_view_module": "@jupyter-widgets/base",
            "overflow": null,
            "_model_module_version": "1.2.0",
            "_view_count": null,
            "flex_flow": null,
            "width": null,
            "min_width": null,
            "border": null,
            "align_items": null,
            "bottom": null,
            "_model_module": "@jupyter-widgets/base",
            "top": null,
            "grid_column": null,
            "overflow_y": null,
            "overflow_x": null,
            "grid_auto_flow": null,
            "grid_area": null,
            "grid_template_columns": null,
            "flex": null,
            "_model_name": "LayoutModel",
            "justify_items": null,
            "grid_row": null,
            "max_height": null,
            "align_content": null,
            "visibility": null,
            "align_self": null,
            "height": null,
            "min_height": null,
            "padding": null,
            "grid_auto_rows": null,
            "grid_gap": null,
            "max_width": null,
            "order": null,
            "_view_module_version": "1.2.0",
            "grid_template_areas": null,
            "object_position": null,
            "object_fit": null,
            "grid_auto_columns": null,
            "margin": null,
            "display": null,
            "left": null
          }
        },
        "910036d213444de4a6c31547d367b45e": {
          "model_module": "@jupyter-widgets/controls",
          "model_name": "DescriptionStyleModel",
          "state": {
            "_view_name": "StyleView",
            "_model_name": "DescriptionStyleModel",
            "description_width": "",
            "_view_module": "@jupyter-widgets/base",
            "_model_module_version": "1.5.0",
            "_view_count": null,
            "_view_module_version": "1.2.0",
            "_model_module": "@jupyter-widgets/controls"
          }
        },
        "1fca9a42d20d47fd838967fe676b1837": {
          "model_module": "@jupyter-widgets/base",
          "model_name": "LayoutModel",
          "state": {
            "_view_name": "LayoutView",
            "grid_template_rows": null,
            "right": null,
            "justify_content": null,
            "_view_module": "@jupyter-widgets/base",
            "overflow": null,
            "_model_module_version": "1.2.0",
            "_view_count": null,
            "flex_flow": null,
            "width": null,
            "min_width": null,
            "border": null,
            "align_items": null,
            "bottom": null,
            "_model_module": "@jupyter-widgets/base",
            "top": null,
            "grid_column": null,
            "overflow_y": null,
            "overflow_x": null,
            "grid_auto_flow": null,
            "grid_area": null,
            "grid_template_columns": null,
            "flex": null,
            "_model_name": "LayoutModel",
            "justify_items": null,
            "grid_row": null,
            "max_height": null,
            "align_content": null,
            "visibility": null,
            "align_self": null,
            "height": null,
            "min_height": null,
            "padding": null,
            "grid_auto_rows": null,
            "grid_gap": null,
            "max_width": null,
            "order": null,
            "_view_module_version": "1.2.0",
            "grid_template_areas": null,
            "object_position": null,
            "object_fit": null,
            "grid_auto_columns": null,
            "margin": null,
            "display": null,
            "left": null
          }
        },
        "288c37a5d244431199b37d3cdea576d5": {
          "model_module": "@jupyter-widgets/controls",
          "model_name": "HBoxModel",
          "state": {
            "_view_name": "HBoxView",
            "_dom_classes": [],
            "_model_name": "HBoxModel",
            "_view_module": "@jupyter-widgets/controls",
            "_model_module_version": "1.5.0",
            "_view_count": null,
            "_view_module_version": "1.5.0",
            "box_style": "",
            "layout": "IPY_MODEL_cc61b372492b455db8a9fec9fc954c86",
            "_model_module": "@jupyter-widgets/controls",
            "children": [
              "IPY_MODEL_da13435e56a7495780d376e5ff90e59d",
              "IPY_MODEL_edc4bcd1b7004d4e939526044e4b5566"
            ]
          }
        },
        "cc61b372492b455db8a9fec9fc954c86": {
          "model_module": "@jupyter-widgets/base",
          "model_name": "LayoutModel",
          "state": {
            "_view_name": "LayoutView",
            "grid_template_rows": null,
            "right": null,
            "justify_content": null,
            "_view_module": "@jupyter-widgets/base",
            "overflow": null,
            "_model_module_version": "1.2.0",
            "_view_count": null,
            "flex_flow": null,
            "width": null,
            "min_width": null,
            "border": null,
            "align_items": null,
            "bottom": null,
            "_model_module": "@jupyter-widgets/base",
            "top": null,
            "grid_column": null,
            "overflow_y": null,
            "overflow_x": null,
            "grid_auto_flow": null,
            "grid_area": null,
            "grid_template_columns": null,
            "flex": null,
            "_model_name": "LayoutModel",
            "justify_items": null,
            "grid_row": null,
            "max_height": null,
            "align_content": null,
            "visibility": null,
            "align_self": null,
            "height": null,
            "min_height": null,
            "padding": null,
            "grid_auto_rows": null,
            "grid_gap": null,
            "max_width": null,
            "order": null,
            "_view_module_version": "1.2.0",
            "grid_template_areas": null,
            "object_position": null,
            "object_fit": null,
            "grid_auto_columns": null,
            "margin": null,
            "display": null,
            "left": null
          }
        },
        "da13435e56a7495780d376e5ff90e59d": {
          "model_module": "@jupyter-widgets/controls",
          "model_name": "FloatProgressModel",
          "state": {
            "_view_name": "ProgressView",
            "style": "IPY_MODEL_5b0646dae7de4846b770f5ef1310ed50",
            "_dom_classes": [],
            "description": "Downloading: 100%",
            "_model_name": "FloatProgressModel",
            "bar_style": "success",
            "max": 440,
            "_view_module": "@jupyter-widgets/controls",
            "_model_module_version": "1.5.0",
            "value": 440,
            "_view_count": null,
            "_view_module_version": "1.5.0",
            "orientation": "horizontal",
            "min": 0,
            "description_tooltip": null,
            "_model_module": "@jupyter-widgets/controls",
            "layout": "IPY_MODEL_779825abeb4946bf9aed0f256b1ea962"
          }
        },
        "edc4bcd1b7004d4e939526044e4b5566": {
          "model_module": "@jupyter-widgets/controls",
          "model_name": "HTMLModel",
          "state": {
            "_view_name": "HTMLView",
            "style": "IPY_MODEL_1f860b5642c842a69bdc41a202e2536e",
            "_dom_classes": [],
            "description": "",
            "_model_name": "HTMLModel",
            "placeholder": "​",
            "_view_module": "@jupyter-widgets/controls",
            "_model_module_version": "1.5.0",
            "value": " 440/440 [00:00&lt;00:00, 4.37kB/s]",
            "_view_count": null,
            "_view_module_version": "1.5.0",
            "description_tooltip": null,
            "_model_module": "@jupyter-widgets/controls",
            "layout": "IPY_MODEL_c1f94fdff28f4dd3b5c608a192d35fcf"
          }
        },
        "5b0646dae7de4846b770f5ef1310ed50": {
          "model_module": "@jupyter-widgets/controls",
          "model_name": "ProgressStyleModel",
          "state": {
            "_view_name": "StyleView",
            "_model_name": "ProgressStyleModel",
            "description_width": "initial",
            "_view_module": "@jupyter-widgets/base",
            "_model_module_version": "1.5.0",
            "_view_count": null,
            "_view_module_version": "1.2.0",
            "bar_color": null,
            "_model_module": "@jupyter-widgets/controls"
          }
        },
        "779825abeb4946bf9aed0f256b1ea962": {
          "model_module": "@jupyter-widgets/base",
          "model_name": "LayoutModel",
          "state": {
            "_view_name": "LayoutView",
            "grid_template_rows": null,
            "right": null,
            "justify_content": null,
            "_view_module": "@jupyter-widgets/base",
            "overflow": null,
            "_model_module_version": "1.2.0",
            "_view_count": null,
            "flex_flow": null,
            "width": null,
            "min_width": null,
            "border": null,
            "align_items": null,
            "bottom": null,
            "_model_module": "@jupyter-widgets/base",
            "top": null,
            "grid_column": null,
            "overflow_y": null,
            "overflow_x": null,
            "grid_auto_flow": null,
            "grid_area": null,
            "grid_template_columns": null,
            "flex": null,
            "_model_name": "LayoutModel",
            "justify_items": null,
            "grid_row": null,
            "max_height": null,
            "align_content": null,
            "visibility": null,
            "align_self": null,
            "height": null,
            "min_height": null,
            "padding": null,
            "grid_auto_rows": null,
            "grid_gap": null,
            "max_width": null,
            "order": null,
            "_view_module_version": "1.2.0",
            "grid_template_areas": null,
            "object_position": null,
            "object_fit": null,
            "grid_auto_columns": null,
            "margin": null,
            "display": null,
            "left": null
          }
        },
        "1f860b5642c842a69bdc41a202e2536e": {
          "model_module": "@jupyter-widgets/controls",
          "model_name": "DescriptionStyleModel",
          "state": {
            "_view_name": "StyleView",
            "_model_name": "DescriptionStyleModel",
            "description_width": "",
            "_view_module": "@jupyter-widgets/base",
            "_model_module_version": "1.5.0",
            "_view_count": null,
            "_view_module_version": "1.2.0",
            "_model_module": "@jupyter-widgets/controls"
          }
        },
        "c1f94fdff28f4dd3b5c608a192d35fcf": {
          "model_module": "@jupyter-widgets/base",
          "model_name": "LayoutModel",
          "state": {
            "_view_name": "LayoutView",
            "grid_template_rows": null,
            "right": null,
            "justify_content": null,
            "_view_module": "@jupyter-widgets/base",
            "overflow": null,
            "_model_module_version": "1.2.0",
            "_view_count": null,
            "flex_flow": null,
            "width": null,
            "min_width": null,
            "border": null,
            "align_items": null,
            "bottom": null,
            "_model_module": "@jupyter-widgets/base",
            "top": null,
            "grid_column": null,
            "overflow_y": null,
            "overflow_x": null,
            "grid_auto_flow": null,
            "grid_area": null,
            "grid_template_columns": null,
            "flex": null,
            "_model_name": "LayoutModel",
            "justify_items": null,
            "grid_row": null,
            "max_height": null,
            "align_content": null,
            "visibility": null,
            "align_self": null,
            "height": null,
            "min_height": null,
            "padding": null,
            "grid_auto_rows": null,
            "grid_gap": null,
            "max_width": null,
            "order": null,
            "_view_module_version": "1.2.0",
            "grid_template_areas": null,
            "object_position": null,
            "object_fit": null,
            "grid_auto_columns": null,
            "margin": null,
            "display": null,
            "left": null
          }
        },
        "c125d8121b574552bd5a3d4dc1c1c645": {
          "model_module": "@jupyter-widgets/controls",
          "model_name": "HBoxModel",
          "state": {
            "_view_name": "HBoxView",
            "_dom_classes": [],
            "_model_name": "HBoxModel",
            "_view_module": "@jupyter-widgets/controls",
            "_model_module_version": "1.5.0",
            "_view_count": null,
            "_view_module_version": "1.5.0",
            "box_style": "",
            "layout": "IPY_MODEL_b95172a8f9904196b7e147e93a5a1683",
            "_model_module": "@jupyter-widgets/controls",
            "children": [
              "IPY_MODEL_c92e308e99e645a6b5ecaa7b1cd7d2fc",
              "IPY_MODEL_e52dc1d26814452cb04ff986e5a9a056"
            ]
          }
        },
        "b95172a8f9904196b7e147e93a5a1683": {
          "model_module": "@jupyter-widgets/base",
          "model_name": "LayoutModel",
          "state": {
            "_view_name": "LayoutView",
            "grid_template_rows": null,
            "right": null,
            "justify_content": null,
            "_view_module": "@jupyter-widgets/base",
            "overflow": null,
            "_model_module_version": "1.2.0",
            "_view_count": null,
            "flex_flow": null,
            "width": null,
            "min_width": null,
            "border": null,
            "align_items": null,
            "bottom": null,
            "_model_module": "@jupyter-widgets/base",
            "top": null,
            "grid_column": null,
            "overflow_y": null,
            "overflow_x": null,
            "grid_auto_flow": null,
            "grid_area": null,
            "grid_template_columns": null,
            "flex": null,
            "_model_name": "LayoutModel",
            "justify_items": null,
            "grid_row": null,
            "max_height": null,
            "align_content": null,
            "visibility": null,
            "align_self": null,
            "height": null,
            "min_height": null,
            "padding": null,
            "grid_auto_rows": null,
            "grid_gap": null,
            "max_width": null,
            "order": null,
            "_view_module_version": "1.2.0",
            "grid_template_areas": null,
            "object_position": null,
            "object_fit": null,
            "grid_auto_columns": null,
            "margin": null,
            "display": null,
            "left": null
          }
        },
        "c92e308e99e645a6b5ecaa7b1cd7d2fc": {
          "model_module": "@jupyter-widgets/controls",
          "model_name": "FloatProgressModel",
          "state": {
            "_view_name": "ProgressView",
            "style": "IPY_MODEL_bf49084c08a34a7a9d096fbccfa84b59",
            "_dom_classes": [],
            "description": "Downloading: 100%",
            "_model_name": "FloatProgressModel",
            "bar_style": "success",
            "max": 654226731,
            "_view_module": "@jupyter-widgets/controls",
            "_model_module_version": "1.5.0",
            "value": 654226731,
            "_view_count": null,
            "_view_module_version": "1.5.0",
            "orientation": "horizontal",
            "min": 0,
            "description_tooltip": null,
            "_model_module": "@jupyter-widgets/controls",
            "layout": "IPY_MODEL_23a5fd57ca544047999c3ff9154da69d"
          }
        },
        "e52dc1d26814452cb04ff986e5a9a056": {
          "model_module": "@jupyter-widgets/controls",
          "model_name": "HTMLModel",
          "state": {
            "_view_name": "HTMLView",
            "style": "IPY_MODEL_ff1546216bca4380b97d0ae7432da2a4",
            "_dom_classes": [],
            "description": "",
            "_model_name": "HTMLModel",
            "placeholder": "​",
            "_view_module": "@jupyter-widgets/controls",
            "_model_module_version": "1.5.0",
            "value": " 654M/654M [00:33&lt;00:00, 19.4MB/s]",
            "_view_count": null,
            "_view_module_version": "1.5.0",
            "description_tooltip": null,
            "_model_module": "@jupyter-widgets/controls",
            "layout": "IPY_MODEL_21ba0af93ec0444f9896cb3851f38e4a"
          }
        },
        "bf49084c08a34a7a9d096fbccfa84b59": {
          "model_module": "@jupyter-widgets/controls",
          "model_name": "ProgressStyleModel",
          "state": {
            "_view_name": "StyleView",
            "_model_name": "ProgressStyleModel",
            "description_width": "initial",
            "_view_module": "@jupyter-widgets/base",
            "_model_module_version": "1.5.0",
            "_view_count": null,
            "_view_module_version": "1.2.0",
            "bar_color": null,
            "_model_module": "@jupyter-widgets/controls"
          }
        },
        "23a5fd57ca544047999c3ff9154da69d": {
          "model_module": "@jupyter-widgets/base",
          "model_name": "LayoutModel",
          "state": {
            "_view_name": "LayoutView",
            "grid_template_rows": null,
            "right": null,
            "justify_content": null,
            "_view_module": "@jupyter-widgets/base",
            "overflow": null,
            "_model_module_version": "1.2.0",
            "_view_count": null,
            "flex_flow": null,
            "width": null,
            "min_width": null,
            "border": null,
            "align_items": null,
            "bottom": null,
            "_model_module": "@jupyter-widgets/base",
            "top": null,
            "grid_column": null,
            "overflow_y": null,
            "overflow_x": null,
            "grid_auto_flow": null,
            "grid_area": null,
            "grid_template_columns": null,
            "flex": null,
            "_model_name": "LayoutModel",
            "justify_items": null,
            "grid_row": null,
            "max_height": null,
            "align_content": null,
            "visibility": null,
            "align_self": null,
            "height": null,
            "min_height": null,
            "padding": null,
            "grid_auto_rows": null,
            "grid_gap": null,
            "max_width": null,
            "order": null,
            "_view_module_version": "1.2.0",
            "grid_template_areas": null,
            "object_position": null,
            "object_fit": null,
            "grid_auto_columns": null,
            "margin": null,
            "display": null,
            "left": null
          }
        },
        "ff1546216bca4380b97d0ae7432da2a4": {
          "model_module": "@jupyter-widgets/controls",
          "model_name": "DescriptionStyleModel",
          "state": {
            "_view_name": "StyleView",
            "_model_name": "DescriptionStyleModel",
            "description_width": "",
            "_view_module": "@jupyter-widgets/base",
            "_model_module_version": "1.5.0",
            "_view_count": null,
            "_view_module_version": "1.2.0",
            "_model_module": "@jupyter-widgets/controls"
          }
        },
        "21ba0af93ec0444f9896cb3851f38e4a": {
          "model_module": "@jupyter-widgets/base",
          "model_name": "LayoutModel",
          "state": {
            "_view_name": "LayoutView",
            "grid_template_rows": null,
            "right": null,
            "justify_content": null,
            "_view_module": "@jupyter-widgets/base",
            "overflow": null,
            "_model_module_version": "1.2.0",
            "_view_count": null,
            "flex_flow": null,
            "width": null,
            "min_width": null,
            "border": null,
            "align_items": null,
            "bottom": null,
            "_model_module": "@jupyter-widgets/base",
            "top": null,
            "grid_column": null,
            "overflow_y": null,
            "overflow_x": null,
            "grid_auto_flow": null,
            "grid_area": null,
            "grid_template_columns": null,
            "flex": null,
            "_model_name": "LayoutModel",
            "justify_items": null,
            "grid_row": null,
            "max_height": null,
            "align_content": null,
            "visibility": null,
            "align_self": null,
            "height": null,
            "min_height": null,
            "padding": null,
            "grid_auto_rows": null,
            "grid_gap": null,
            "max_width": null,
            "order": null,
            "_view_module_version": "1.2.0",
            "grid_template_areas": null,
            "object_position": null,
            "object_fit": null,
            "grid_auto_columns": null,
            "margin": null,
            "display": null,
            "left": null
          }
        },
        "522b90a0230d46b0829f014d251ec5fd": {
          "model_module": "@jupyter-widgets/controls",
          "model_name": "HBoxModel",
          "state": {
            "_view_name": "HBoxView",
            "_dom_classes": [],
            "_model_name": "HBoxModel",
            "_view_module": "@jupyter-widgets/controls",
            "_model_module_version": "1.5.0",
            "_view_count": null,
            "_view_module_version": "1.5.0",
            "box_style": "",
            "layout": "IPY_MODEL_b1e4baba682447cfbfd1bd3902d64891",
            "_model_module": "@jupyter-widgets/controls",
            "children": [
              "IPY_MODEL_f5ff5897260649d7be200723890381e9",
              "IPY_MODEL_ef7eb20d951041539bb8cfe5237b271e"
            ]
          }
        },
        "b1e4baba682447cfbfd1bd3902d64891": {
          "model_module": "@jupyter-widgets/base",
          "model_name": "LayoutModel",
          "state": {
            "_view_name": "LayoutView",
            "grid_template_rows": null,
            "right": null,
            "justify_content": null,
            "_view_module": "@jupyter-widgets/base",
            "overflow": null,
            "_model_module_version": "1.2.0",
            "_view_count": null,
            "flex_flow": null,
            "width": null,
            "min_width": null,
            "border": null,
            "align_items": null,
            "bottom": null,
            "_model_module": "@jupyter-widgets/base",
            "top": null,
            "grid_column": null,
            "overflow_y": null,
            "overflow_x": null,
            "grid_auto_flow": null,
            "grid_area": null,
            "grid_template_columns": null,
            "flex": null,
            "_model_name": "LayoutModel",
            "justify_items": null,
            "grid_row": null,
            "max_height": null,
            "align_content": null,
            "visibility": null,
            "align_self": null,
            "height": null,
            "min_height": null,
            "padding": null,
            "grid_auto_rows": null,
            "grid_gap": null,
            "max_width": null,
            "order": null,
            "_view_module_version": "1.2.0",
            "grid_template_areas": null,
            "object_position": null,
            "object_fit": null,
            "grid_auto_columns": null,
            "margin": null,
            "display": null,
            "left": null
          }
        },
        "f5ff5897260649d7be200723890381e9": {
          "model_module": "@jupyter-widgets/controls",
          "model_name": "FloatProgressModel",
          "state": {
            "_view_name": "ProgressView",
            "style": "IPY_MODEL_0cb256b88efb4f79b2fe329bd294c2cd",
            "_dom_classes": [],
            "description": "Epochs... : 100%",
            "_model_name": "FloatProgressModel",
            "bar_style": "success",
            "max": 3,
            "_view_module": "@jupyter-widgets/controls",
            "_model_module_version": "1.5.0",
            "value": 3,
            "_view_count": null,
            "_view_module_version": "1.5.0",
            "orientation": "horizontal",
            "min": 0,
            "description_tooltip": null,
            "_model_module": "@jupyter-widgets/controls",
            "layout": "IPY_MODEL_976703dcf9f04a68b238a215f41e823a"
          }
        },
        "ef7eb20d951041539bb8cfe5237b271e": {
          "model_module": "@jupyter-widgets/controls",
          "model_name": "HTMLModel",
          "state": {
            "_view_name": "HTMLView",
            "style": "IPY_MODEL_1f866b255c6748ccbfd740fd8e9daff2",
            "_dom_classes": [],
            "description": "",
            "_model_name": "HTMLModel",
            "placeholder": "​",
            "_view_module": "@jupyter-widgets/controls",
            "_model_module_version": "1.5.0",
            "value": " 3/3 [03:47&lt;00:00, 75.82s/it]",
            "_view_count": null,
            "_view_module_version": "1.5.0",
            "description_tooltip": null,
            "_model_module": "@jupyter-widgets/controls",
            "layout": "IPY_MODEL_76bd5da218c54cf3929bc9c3e096d464"
          }
        },
        "0cb256b88efb4f79b2fe329bd294c2cd": {
          "model_module": "@jupyter-widgets/controls",
          "model_name": "ProgressStyleModel",
          "state": {
            "_view_name": "StyleView",
            "_model_name": "ProgressStyleModel",
            "description_width": "initial",
            "_view_module": "@jupyter-widgets/base",
            "_model_module_version": "1.5.0",
            "_view_count": null,
            "_view_module_version": "1.2.0",
            "bar_color": null,
            "_model_module": "@jupyter-widgets/controls"
          }
        },
        "976703dcf9f04a68b238a215f41e823a": {
          "model_module": "@jupyter-widgets/base",
          "model_name": "LayoutModel",
          "state": {
            "_view_name": "LayoutView",
            "grid_template_rows": null,
            "right": null,
            "justify_content": null,
            "_view_module": "@jupyter-widgets/base",
            "overflow": null,
            "_model_module_version": "1.2.0",
            "_view_count": null,
            "flex_flow": null,
            "width": null,
            "min_width": null,
            "border": null,
            "align_items": null,
            "bottom": null,
            "_model_module": "@jupyter-widgets/base",
            "top": null,
            "grid_column": null,
            "overflow_y": null,
            "overflow_x": null,
            "grid_auto_flow": null,
            "grid_area": null,
            "grid_template_columns": null,
            "flex": null,
            "_model_name": "LayoutModel",
            "justify_items": null,
            "grid_row": null,
            "max_height": null,
            "align_content": null,
            "visibility": null,
            "align_self": null,
            "height": null,
            "min_height": null,
            "padding": null,
            "grid_auto_rows": null,
            "grid_gap": null,
            "max_width": null,
            "order": null,
            "_view_module_version": "1.2.0",
            "grid_template_areas": null,
            "object_position": null,
            "object_fit": null,
            "grid_auto_columns": null,
            "margin": null,
            "display": null,
            "left": null
          }
        },
        "1f866b255c6748ccbfd740fd8e9daff2": {
          "model_module": "@jupyter-widgets/controls",
          "model_name": "DescriptionStyleModel",
          "state": {
            "_view_name": "StyleView",
            "_model_name": "DescriptionStyleModel",
            "description_width": "",
            "_view_module": "@jupyter-widgets/base",
            "_model_module_version": "1.5.0",
            "_view_count": null,
            "_view_module_version": "1.2.0",
            "_model_module": "@jupyter-widgets/controls"
          }
        },
        "76bd5da218c54cf3929bc9c3e096d464": {
          "model_module": "@jupyter-widgets/base",
          "model_name": "LayoutModel",
          "state": {
            "_view_name": "LayoutView",
            "grid_template_rows": null,
            "right": null,
            "justify_content": null,
            "_view_module": "@jupyter-widgets/base",
            "overflow": null,
            "_model_module_version": "1.2.0",
            "_view_count": null,
            "flex_flow": null,
            "width": null,
            "min_width": null,
            "border": null,
            "align_items": null,
            "bottom": null,
            "_model_module": "@jupyter-widgets/base",
            "top": null,
            "grid_column": null,
            "overflow_y": null,
            "overflow_x": null,
            "grid_auto_flow": null,
            "grid_area": null,
            "grid_template_columns": null,
            "flex": null,
            "_model_name": "LayoutModel",
            "justify_items": null,
            "grid_row": null,
            "max_height": null,
            "align_content": null,
            "visibility": null,
            "align_self": null,
            "height": null,
            "min_height": null,
            "padding": null,
            "grid_auto_rows": null,
            "grid_gap": null,
            "max_width": null,
            "order": null,
            "_view_module_version": "1.2.0",
            "grid_template_areas": null,
            "object_position": null,
            "object_fit": null,
            "grid_auto_columns": null,
            "margin": null,
            "display": null,
            "left": null
          }
        },
        "253c3aed97fb4c11a6d9e293650b0786": {
          "model_module": "@jupyter-widgets/controls",
          "model_name": "HBoxModel",
          "state": {
            "_view_name": "HBoxView",
            "_dom_classes": [],
            "_model_name": "HBoxModel",
            "_view_module": "@jupyter-widgets/controls",
            "_model_module_version": "1.5.0",
            "_view_count": null,
            "_view_module_version": "1.5.0",
            "box_style": "",
            "layout": "IPY_MODEL_b644eb37359e43aea6097233f4431732",
            "_model_module": "@jupyter-widgets/controls",
            "children": [
              "IPY_MODEL_e81e30ecd7454ca3bcf0309bebe7dbc5",
              "IPY_MODEL_377f648ecae648deba841d72ef55f3f8"
            ]
          }
        },
        "b644eb37359e43aea6097233f4431732": {
          "model_module": "@jupyter-widgets/base",
          "model_name": "LayoutModel",
          "state": {
            "_view_name": "LayoutView",
            "grid_template_rows": null,
            "right": null,
            "justify_content": null,
            "_view_module": "@jupyter-widgets/base",
            "overflow": null,
            "_model_module_version": "1.2.0",
            "_view_count": null,
            "flex_flow": null,
            "width": null,
            "min_width": null,
            "border": null,
            "align_items": null,
            "bottom": null,
            "_model_module": "@jupyter-widgets/base",
            "top": null,
            "grid_column": null,
            "overflow_y": null,
            "overflow_x": null,
            "grid_auto_flow": null,
            "grid_area": null,
            "grid_template_columns": null,
            "flex": null,
            "_model_name": "LayoutModel",
            "justify_items": null,
            "grid_row": null,
            "max_height": null,
            "align_content": null,
            "visibility": null,
            "align_self": null,
            "height": null,
            "min_height": null,
            "padding": null,
            "grid_auto_rows": null,
            "grid_gap": null,
            "max_width": null,
            "order": null,
            "_view_module_version": "1.2.0",
            "grid_template_areas": null,
            "object_position": null,
            "object_fit": null,
            "grid_auto_columns": null,
            "margin": null,
            "display": null,
            "left": null
          }
        },
        "e81e30ecd7454ca3bcf0309bebe7dbc5": {
          "model_module": "@jupyter-widgets/controls",
          "model_name": "FloatProgressModel",
          "state": {
            "_view_name": "ProgressView",
            "style": "IPY_MODEL_848e9d92b14f47b8bceca68eefa5ef35",
            "_dom_classes": [],
            "description": "Training... : 100%",
            "_model_name": "FloatProgressModel",
            "bar_style": "success",
            "max": 158,
            "_view_module": "@jupyter-widgets/controls",
            "_model_module_version": "1.5.0",
            "value": 158,
            "_view_count": null,
            "_view_module_version": "1.5.0",
            "orientation": "horizontal",
            "min": 0,
            "description_tooltip": null,
            "_model_module": "@jupyter-widgets/controls",
            "layout": "IPY_MODEL_cc4602f412284c58a2c5b58a0112e98e"
          }
        },
        "377f648ecae648deba841d72ef55f3f8": {
          "model_module": "@jupyter-widgets/controls",
          "model_name": "HTMLModel",
          "state": {
            "_view_name": "HTMLView",
            "style": "IPY_MODEL_ff0d599074f446dfac28fba05c36fcd7",
            "_dom_classes": [],
            "description": "",
            "_model_name": "HTMLModel",
            "placeholder": "​",
            "_view_module": "@jupyter-widgets/controls",
            "_model_module_version": "1.5.0",
            "value": " 158/158 [03:47&lt;00:00,  1.44s/it]",
            "_view_count": null,
            "_view_module_version": "1.5.0",
            "description_tooltip": null,
            "_model_module": "@jupyter-widgets/controls",
            "layout": "IPY_MODEL_040f678fa6c2477987df3be62358ce68"
          }
        },
        "848e9d92b14f47b8bceca68eefa5ef35": {
          "model_module": "@jupyter-widgets/controls",
          "model_name": "ProgressStyleModel",
          "state": {
            "_view_name": "StyleView",
            "_model_name": "ProgressStyleModel",
            "description_width": "initial",
            "_view_module": "@jupyter-widgets/base",
            "_model_module_version": "1.5.0",
            "_view_count": null,
            "_view_module_version": "1.2.0",
            "bar_color": null,
            "_model_module": "@jupyter-widgets/controls"
          }
        },
        "cc4602f412284c58a2c5b58a0112e98e": {
          "model_module": "@jupyter-widgets/base",
          "model_name": "LayoutModel",
          "state": {
            "_view_name": "LayoutView",
            "grid_template_rows": null,
            "right": null,
            "justify_content": null,
            "_view_module": "@jupyter-widgets/base",
            "overflow": null,
            "_model_module_version": "1.2.0",
            "_view_count": null,
            "flex_flow": null,
            "width": null,
            "min_width": null,
            "border": null,
            "align_items": null,
            "bottom": null,
            "_model_module": "@jupyter-widgets/base",
            "top": null,
            "grid_column": null,
            "overflow_y": null,
            "overflow_x": null,
            "grid_auto_flow": null,
            "grid_area": null,
            "grid_template_columns": null,
            "flex": null,
            "_model_name": "LayoutModel",
            "justify_items": null,
            "grid_row": null,
            "max_height": null,
            "align_content": null,
            "visibility": null,
            "align_self": null,
            "height": null,
            "min_height": null,
            "padding": null,
            "grid_auto_rows": null,
            "grid_gap": null,
            "max_width": null,
            "order": null,
            "_view_module_version": "1.2.0",
            "grid_template_areas": null,
            "object_position": null,
            "object_fit": null,
            "grid_auto_columns": null,
            "margin": null,
            "display": null,
            "left": null
          }
        },
        "ff0d599074f446dfac28fba05c36fcd7": {
          "model_module": "@jupyter-widgets/controls",
          "model_name": "DescriptionStyleModel",
          "state": {
            "_view_name": "StyleView",
            "_model_name": "DescriptionStyleModel",
            "description_width": "",
            "_view_module": "@jupyter-widgets/base",
            "_model_module_version": "1.5.0",
            "_view_count": null,
            "_view_module_version": "1.2.0",
            "_model_module": "@jupyter-widgets/controls"
          }
        },
        "040f678fa6c2477987df3be62358ce68": {
          "model_module": "@jupyter-widgets/base",
          "model_name": "LayoutModel",
          "state": {
            "_view_name": "LayoutView",
            "grid_template_rows": null,
            "right": null,
            "justify_content": null,
            "_view_module": "@jupyter-widgets/base",
            "overflow": null,
            "_model_module_version": "1.2.0",
            "_view_count": null,
            "flex_flow": null,
            "width": null,
            "min_width": null,
            "border": null,
            "align_items": null,
            "bottom": null,
            "_model_module": "@jupyter-widgets/base",
            "top": null,
            "grid_column": null,
            "overflow_y": null,
            "overflow_x": null,
            "grid_auto_flow": null,
            "grid_area": null,
            "grid_template_columns": null,
            "flex": null,
            "_model_name": "LayoutModel",
            "justify_items": null,
            "grid_row": null,
            "max_height": null,
            "align_content": null,
            "visibility": null,
            "align_self": null,
            "height": null,
            "min_height": null,
            "padding": null,
            "grid_auto_rows": null,
            "grid_gap": null,
            "max_width": null,
            "order": null,
            "_view_module_version": "1.2.0",
            "grid_template_areas": null,
            "object_position": null,
            "object_fit": null,
            "grid_auto_columns": null,
            "margin": null,
            "display": null,
            "left": null
          }
        },
        "4610a4090f46419cb5ed0c3827bdeb05": {
          "model_module": "@jupyter-widgets/controls",
          "model_name": "HBoxModel",
          "state": {
            "_view_name": "HBoxView",
            "_dom_classes": [],
            "_model_name": "HBoxModel",
            "_view_module": "@jupyter-widgets/controls",
            "_model_module_version": "1.5.0",
            "_view_count": null,
            "_view_module_version": "1.5.0",
            "box_style": "",
            "layout": "IPY_MODEL_bdf1452203a242adb6d48fa908c717af",
            "_model_module": "@jupyter-widgets/controls",
            "children": [
              "IPY_MODEL_8c4673f880594015923106fd4c90a8ac",
              "IPY_MODEL_32c5a72c7c8647e58503c63474d63a54"
            ]
          }
        },
        "bdf1452203a242adb6d48fa908c717af": {
          "model_module": "@jupyter-widgets/base",
          "model_name": "LayoutModel",
          "state": {
            "_view_name": "LayoutView",
            "grid_template_rows": null,
            "right": null,
            "justify_content": null,
            "_view_module": "@jupyter-widgets/base",
            "overflow": null,
            "_model_module_version": "1.2.0",
            "_view_count": null,
            "flex_flow": null,
            "width": null,
            "min_width": null,
            "border": null,
            "align_items": null,
            "bottom": null,
            "_model_module": "@jupyter-widgets/base",
            "top": null,
            "grid_column": null,
            "overflow_y": null,
            "overflow_x": null,
            "grid_auto_flow": null,
            "grid_area": null,
            "grid_template_columns": null,
            "flex": null,
            "_model_name": "LayoutModel",
            "justify_items": null,
            "grid_row": null,
            "max_height": null,
            "align_content": null,
            "visibility": null,
            "align_self": null,
            "height": null,
            "min_height": null,
            "padding": null,
            "grid_auto_rows": null,
            "grid_gap": null,
            "max_width": null,
            "order": null,
            "_view_module_version": "1.2.0",
            "grid_template_areas": null,
            "object_position": null,
            "object_fit": null,
            "grid_auto_columns": null,
            "margin": null,
            "display": null,
            "left": null
          }
        },
        "8c4673f880594015923106fd4c90a8ac": {
          "model_module": "@jupyter-widgets/controls",
          "model_name": "FloatProgressModel",
          "state": {
            "_view_name": "ProgressView",
            "style": "IPY_MODEL_f71d3840e90f474f8c42cc560646e708",
            "_dom_classes": [],
            "description": "Evaluation... : 100%",
            "_model_name": "FloatProgressModel",
            "bar_style": "success",
            "max": 68,
            "_view_module": "@jupyter-widgets/controls",
            "_model_module_version": "1.5.0",
            "value": 68,
            "_view_count": null,
            "_view_module_version": "1.5.0",
            "orientation": "horizontal",
            "min": 0,
            "description_tooltip": null,
            "_model_module": "@jupyter-widgets/controls",
            "layout": "IPY_MODEL_dba699d836f54c2789c786cc59125532"
          }
        },
        "32c5a72c7c8647e58503c63474d63a54": {
          "model_module": "@jupyter-widgets/controls",
          "model_name": "HTMLModel",
          "state": {
            "_view_name": "HTMLView",
            "style": "IPY_MODEL_5e2800173d944530b11d62fdde57c25a",
            "_dom_classes": [],
            "description": "",
            "_model_name": "HTMLModel",
            "placeholder": "​",
            "_view_module": "@jupyter-widgets/controls",
            "_model_module_version": "1.5.0",
            "value": " 68/68 [02:46&lt;00:00,  2.45s/it]",
            "_view_count": null,
            "_view_module_version": "1.5.0",
            "description_tooltip": null,
            "_model_module": "@jupyter-widgets/controls",
            "layout": "IPY_MODEL_f6b6ed256f9b43dcbbc0075c0b97a8ec"
          }
        },
        "f71d3840e90f474f8c42cc560646e708": {
          "model_module": "@jupyter-widgets/controls",
          "model_name": "ProgressStyleModel",
          "state": {
            "_view_name": "StyleView",
            "_model_name": "ProgressStyleModel",
            "description_width": "initial",
            "_view_module": "@jupyter-widgets/base",
            "_model_module_version": "1.5.0",
            "_view_count": null,
            "_view_module_version": "1.2.0",
            "bar_color": null,
            "_model_module": "@jupyter-widgets/controls"
          }
        },
        "dba699d836f54c2789c786cc59125532": {
          "model_module": "@jupyter-widgets/base",
          "model_name": "LayoutModel",
          "state": {
            "_view_name": "LayoutView",
            "grid_template_rows": null,
            "right": null,
            "justify_content": null,
            "_view_module": "@jupyter-widgets/base",
            "overflow": null,
            "_model_module_version": "1.2.0",
            "_view_count": null,
            "flex_flow": null,
            "width": null,
            "min_width": null,
            "border": null,
            "align_items": null,
            "bottom": null,
            "_model_module": "@jupyter-widgets/base",
            "top": null,
            "grid_column": null,
            "overflow_y": null,
            "overflow_x": null,
            "grid_auto_flow": null,
            "grid_area": null,
            "grid_template_columns": null,
            "flex": null,
            "_model_name": "LayoutModel",
            "justify_items": null,
            "grid_row": null,
            "max_height": null,
            "align_content": null,
            "visibility": null,
            "align_self": null,
            "height": null,
            "min_height": null,
            "padding": null,
            "grid_auto_rows": null,
            "grid_gap": null,
            "max_width": null,
            "order": null,
            "_view_module_version": "1.2.0",
            "grid_template_areas": null,
            "object_position": null,
            "object_fit": null,
            "grid_auto_columns": null,
            "margin": null,
            "display": null,
            "left": null
          }
        },
        "5e2800173d944530b11d62fdde57c25a": {
          "model_module": "@jupyter-widgets/controls",
          "model_name": "DescriptionStyleModel",
          "state": {
            "_view_name": "StyleView",
            "_model_name": "DescriptionStyleModel",
            "description_width": "",
            "_view_module": "@jupyter-widgets/base",
            "_model_module_version": "1.5.0",
            "_view_count": null,
            "_view_module_version": "1.2.0",
            "_model_module": "@jupyter-widgets/controls"
          }
        },
        "f6b6ed256f9b43dcbbc0075c0b97a8ec": {
          "model_module": "@jupyter-widgets/base",
          "model_name": "LayoutModel",
          "state": {
            "_view_name": "LayoutView",
            "grid_template_rows": null,
            "right": null,
            "justify_content": null,
            "_view_module": "@jupyter-widgets/base",
            "overflow": null,
            "_model_module_version": "1.2.0",
            "_view_count": null,
            "flex_flow": null,
            "width": null,
            "min_width": null,
            "border": null,
            "align_items": null,
            "bottom": null,
            "_model_module": "@jupyter-widgets/base",
            "top": null,
            "grid_column": null,
            "overflow_y": null,
            "overflow_x": null,
            "grid_auto_flow": null,
            "grid_area": null,
            "grid_template_columns": null,
            "flex": null,
            "_model_name": "LayoutModel",
            "justify_items": null,
            "grid_row": null,
            "max_height": null,
            "align_content": null,
            "visibility": null,
            "align_self": null,
            "height": null,
            "min_height": null,
            "padding": null,
            "grid_auto_rows": null,
            "grid_gap": null,
            "max_width": null,
            "order": null,
            "_view_module_version": "1.2.0",
            "grid_template_areas": null,
            "object_position": null,
            "object_fit": null,
            "grid_auto_columns": null,
            "margin": null,
            "display": null,
            "left": null
          }
        },
        "462935ddbde246d6874682da61249c84": {
          "model_module": "@jupyter-widgets/controls",
          "model_name": "HBoxModel",
          "state": {
            "_view_name": "HBoxView",
            "_dom_classes": [],
            "_model_name": "HBoxModel",
            "_view_module": "@jupyter-widgets/controls",
            "_model_module_version": "1.5.0",
            "_view_count": null,
            "_view_module_version": "1.5.0",
            "box_style": "",
            "layout": "IPY_MODEL_44dabf9774a74d3db0ceb8e86c3dedca",
            "_model_module": "@jupyter-widgets/controls",
            "children": [
              "IPY_MODEL_0187e7382b6b40d7b874496925e91f13",
              "IPY_MODEL_5173b37dc9554c3a8596731ea2ff31f5"
            ]
          }
        },
        "44dabf9774a74d3db0ceb8e86c3dedca": {
          "model_module": "@jupyter-widgets/base",
          "model_name": "LayoutModel",
          "state": {
            "_view_name": "LayoutView",
            "grid_template_rows": null,
            "right": null,
            "justify_content": null,
            "_view_module": "@jupyter-widgets/base",
            "overflow": null,
            "_model_module_version": "1.2.0",
            "_view_count": null,
            "flex_flow": null,
            "width": null,
            "min_width": null,
            "border": null,
            "align_items": null,
            "bottom": null,
            "_model_module": "@jupyter-widgets/base",
            "top": null,
            "grid_column": null,
            "overflow_y": null,
            "overflow_x": null,
            "grid_auto_flow": null,
            "grid_area": null,
            "grid_template_columns": null,
            "flex": null,
            "_model_name": "LayoutModel",
            "justify_items": null,
            "grid_row": null,
            "max_height": null,
            "align_content": null,
            "visibility": null,
            "align_self": null,
            "height": null,
            "min_height": null,
            "padding": null,
            "grid_auto_rows": null,
            "grid_gap": null,
            "max_width": null,
            "order": null,
            "_view_module_version": "1.2.0",
            "grid_template_areas": null,
            "object_position": null,
            "object_fit": null,
            "grid_auto_columns": null,
            "margin": null,
            "display": null,
            "left": null
          }
        },
        "0187e7382b6b40d7b874496925e91f13": {
          "model_module": "@jupyter-widgets/controls",
          "model_name": "FloatProgressModel",
          "state": {
            "_view_name": "ProgressView",
            "style": "IPY_MODEL_4679a211f3cf42359b06bc594b417fa5",
            "_dom_classes": [],
            "description": "Training... : 100%",
            "_model_name": "FloatProgressModel",
            "bar_style": "success",
            "max": 158,
            "_view_module": "@jupyter-widgets/controls",
            "_model_module_version": "1.5.0",
            "value": 158,
            "_view_count": null,
            "_view_module_version": "1.5.0",
            "orientation": "horizontal",
            "min": 0,
            "description_tooltip": null,
            "_model_module": "@jupyter-widgets/controls",
            "layout": "IPY_MODEL_bf5ad84673ea424f9fe6a93ed88cc486"
          }
        },
        "5173b37dc9554c3a8596731ea2ff31f5": {
          "model_module": "@jupyter-widgets/controls",
          "model_name": "HTMLModel",
          "state": {
            "_view_name": "HTMLView",
            "style": "IPY_MODEL_a27f795e49d54bfe977d52faabd3507a",
            "_dom_classes": [],
            "description": "",
            "_model_name": "HTMLModel",
            "placeholder": "​",
            "_view_module": "@jupyter-widgets/controls",
            "_model_module_version": "1.5.0",
            "value": " 158/158 [02:37&lt;00:00,  1.01it/s]",
            "_view_count": null,
            "_view_module_version": "1.5.0",
            "description_tooltip": null,
            "_model_module": "@jupyter-widgets/controls",
            "layout": "IPY_MODEL_31ec1692fe174c3bba9be77391124fc0"
          }
        },
        "4679a211f3cf42359b06bc594b417fa5": {
          "model_module": "@jupyter-widgets/controls",
          "model_name": "ProgressStyleModel",
          "state": {
            "_view_name": "StyleView",
            "_model_name": "ProgressStyleModel",
            "description_width": "initial",
            "_view_module": "@jupyter-widgets/base",
            "_model_module_version": "1.5.0",
            "_view_count": null,
            "_view_module_version": "1.2.0",
            "bar_color": null,
            "_model_module": "@jupyter-widgets/controls"
          }
        },
        "bf5ad84673ea424f9fe6a93ed88cc486": {
          "model_module": "@jupyter-widgets/base",
          "model_name": "LayoutModel",
          "state": {
            "_view_name": "LayoutView",
            "grid_template_rows": null,
            "right": null,
            "justify_content": null,
            "_view_module": "@jupyter-widgets/base",
            "overflow": null,
            "_model_module_version": "1.2.0",
            "_view_count": null,
            "flex_flow": null,
            "width": null,
            "min_width": null,
            "border": null,
            "align_items": null,
            "bottom": null,
            "_model_module": "@jupyter-widgets/base",
            "top": null,
            "grid_column": null,
            "overflow_y": null,
            "overflow_x": null,
            "grid_auto_flow": null,
            "grid_area": null,
            "grid_template_columns": null,
            "flex": null,
            "_model_name": "LayoutModel",
            "justify_items": null,
            "grid_row": null,
            "max_height": null,
            "align_content": null,
            "visibility": null,
            "align_self": null,
            "height": null,
            "min_height": null,
            "padding": null,
            "grid_auto_rows": null,
            "grid_gap": null,
            "max_width": null,
            "order": null,
            "_view_module_version": "1.2.0",
            "grid_template_areas": null,
            "object_position": null,
            "object_fit": null,
            "grid_auto_columns": null,
            "margin": null,
            "display": null,
            "left": null
          }
        },
        "a27f795e49d54bfe977d52faabd3507a": {
          "model_module": "@jupyter-widgets/controls",
          "model_name": "DescriptionStyleModel",
          "state": {
            "_view_name": "StyleView",
            "_model_name": "DescriptionStyleModel",
            "description_width": "",
            "_view_module": "@jupyter-widgets/base",
            "_model_module_version": "1.5.0",
            "_view_count": null,
            "_view_module_version": "1.2.0",
            "_model_module": "@jupyter-widgets/controls"
          }
        },
        "31ec1692fe174c3bba9be77391124fc0": {
          "model_module": "@jupyter-widgets/base",
          "model_name": "LayoutModel",
          "state": {
            "_view_name": "LayoutView",
            "grid_template_rows": null,
            "right": null,
            "justify_content": null,
            "_view_module": "@jupyter-widgets/base",
            "overflow": null,
            "_model_module_version": "1.2.0",
            "_view_count": null,
            "flex_flow": null,
            "width": null,
            "min_width": null,
            "border": null,
            "align_items": null,
            "bottom": null,
            "_model_module": "@jupyter-widgets/base",
            "top": null,
            "grid_column": null,
            "overflow_y": null,
            "overflow_x": null,
            "grid_auto_flow": null,
            "grid_area": null,
            "grid_template_columns": null,
            "flex": null,
            "_model_name": "LayoutModel",
            "justify_items": null,
            "grid_row": null,
            "max_height": null,
            "align_content": null,
            "visibility": null,
            "align_self": null,
            "height": null,
            "min_height": null,
            "padding": null,
            "grid_auto_rows": null,
            "grid_gap": null,
            "max_width": null,
            "order": null,
            "_view_module_version": "1.2.0",
            "grid_template_areas": null,
            "object_position": null,
            "object_fit": null,
            "grid_auto_columns": null,
            "margin": null,
            "display": null,
            "left": null
          }
        },
        "5e89ef9757d946f3858127db1baa0187": {
          "model_module": "@jupyter-widgets/controls",
          "model_name": "HBoxModel",
          "state": {
            "_view_name": "HBoxView",
            "_dom_classes": [],
            "_model_name": "HBoxModel",
            "_view_module": "@jupyter-widgets/controls",
            "_model_module_version": "1.5.0",
            "_view_count": null,
            "_view_module_version": "1.5.0",
            "box_style": "",
            "layout": "IPY_MODEL_8c5588f341d049c59be06c46ff25122b",
            "_model_module": "@jupyter-widgets/controls",
            "children": [
              "IPY_MODEL_802c9e17776e415cbc0022e3cb70f079",
              "IPY_MODEL_03933e91f80d495e8b1c3aab4d7aa2d4"
            ]
          }
        },
        "8c5588f341d049c59be06c46ff25122b": {
          "model_module": "@jupyter-widgets/base",
          "model_name": "LayoutModel",
          "state": {
            "_view_name": "LayoutView",
            "grid_template_rows": null,
            "right": null,
            "justify_content": null,
            "_view_module": "@jupyter-widgets/base",
            "overflow": null,
            "_model_module_version": "1.2.0",
            "_view_count": null,
            "flex_flow": null,
            "width": null,
            "min_width": null,
            "border": null,
            "align_items": null,
            "bottom": null,
            "_model_module": "@jupyter-widgets/base",
            "top": null,
            "grid_column": null,
            "overflow_y": null,
            "overflow_x": null,
            "grid_auto_flow": null,
            "grid_area": null,
            "grid_template_columns": null,
            "flex": null,
            "_model_name": "LayoutModel",
            "justify_items": null,
            "grid_row": null,
            "max_height": null,
            "align_content": null,
            "visibility": null,
            "align_self": null,
            "height": null,
            "min_height": null,
            "padding": null,
            "grid_auto_rows": null,
            "grid_gap": null,
            "max_width": null,
            "order": null,
            "_view_module_version": "1.2.0",
            "grid_template_areas": null,
            "object_position": null,
            "object_fit": null,
            "grid_auto_columns": null,
            "margin": null,
            "display": null,
            "left": null
          }
        },
        "802c9e17776e415cbc0022e3cb70f079": {
          "model_module": "@jupyter-widgets/controls",
          "model_name": "FloatProgressModel",
          "state": {
            "_view_name": "ProgressView",
            "style": "IPY_MODEL_a3c57f6522d447848744c72285af05dc",
            "_dom_classes": [],
            "description": "Evaluation... : 100%",
            "_model_name": "FloatProgressModel",
            "bar_style": "success",
            "max": 68,
            "_view_module": "@jupyter-widgets/controls",
            "_model_module_version": "1.5.0",
            "value": 68,
            "_view_count": null,
            "_view_module_version": "1.5.0",
            "orientation": "horizontal",
            "min": 0,
            "description_tooltip": null,
            "_model_module": "@jupyter-widgets/controls",
            "layout": "IPY_MODEL_d57083bee4304c9d8cbd6599bf2f48c6"
          }
        },
        "03933e91f80d495e8b1c3aab4d7aa2d4": {
          "model_module": "@jupyter-widgets/controls",
          "model_name": "HTMLModel",
          "state": {
            "_view_name": "HTMLView",
            "style": "IPY_MODEL_0705cc0e359146b3a9b4d4ac6759fd71",
            "_dom_classes": [],
            "description": "",
            "_model_name": "HTMLModel",
            "placeholder": "​",
            "_view_module": "@jupyter-widgets/controls",
            "_model_module_version": "1.5.0",
            "value": " 68/68 [01:32&lt;00:00,  1.37s/it]",
            "_view_count": null,
            "_view_module_version": "1.5.0",
            "description_tooltip": null,
            "_model_module": "@jupyter-widgets/controls",
            "layout": "IPY_MODEL_eb94ba9e82fa41d795f1bce1819ae067"
          }
        },
        "a3c57f6522d447848744c72285af05dc": {
          "model_module": "@jupyter-widgets/controls",
          "model_name": "ProgressStyleModel",
          "state": {
            "_view_name": "StyleView",
            "_model_name": "ProgressStyleModel",
            "description_width": "initial",
            "_view_module": "@jupyter-widgets/base",
            "_model_module_version": "1.5.0",
            "_view_count": null,
            "_view_module_version": "1.2.0",
            "bar_color": null,
            "_model_module": "@jupyter-widgets/controls"
          }
        },
        "d57083bee4304c9d8cbd6599bf2f48c6": {
          "model_module": "@jupyter-widgets/base",
          "model_name": "LayoutModel",
          "state": {
            "_view_name": "LayoutView",
            "grid_template_rows": null,
            "right": null,
            "justify_content": null,
            "_view_module": "@jupyter-widgets/base",
            "overflow": null,
            "_model_module_version": "1.2.0",
            "_view_count": null,
            "flex_flow": null,
            "width": null,
            "min_width": null,
            "border": null,
            "align_items": null,
            "bottom": null,
            "_model_module": "@jupyter-widgets/base",
            "top": null,
            "grid_column": null,
            "overflow_y": null,
            "overflow_x": null,
            "grid_auto_flow": null,
            "grid_area": null,
            "grid_template_columns": null,
            "flex": null,
            "_model_name": "LayoutModel",
            "justify_items": null,
            "grid_row": null,
            "max_height": null,
            "align_content": null,
            "visibility": null,
            "align_self": null,
            "height": null,
            "min_height": null,
            "padding": null,
            "grid_auto_rows": null,
            "grid_gap": null,
            "max_width": null,
            "order": null,
            "_view_module_version": "1.2.0",
            "grid_template_areas": null,
            "object_position": null,
            "object_fit": null,
            "grid_auto_columns": null,
            "margin": null,
            "display": null,
            "left": null
          }
        },
        "0705cc0e359146b3a9b4d4ac6759fd71": {
          "model_module": "@jupyter-widgets/controls",
          "model_name": "DescriptionStyleModel",
          "state": {
            "_view_name": "StyleView",
            "_model_name": "DescriptionStyleModel",
            "description_width": "",
            "_view_module": "@jupyter-widgets/base",
            "_model_module_version": "1.5.0",
            "_view_count": null,
            "_view_module_version": "1.2.0",
            "_model_module": "@jupyter-widgets/controls"
          }
        },
        "eb94ba9e82fa41d795f1bce1819ae067": {
          "model_module": "@jupyter-widgets/base",
          "model_name": "LayoutModel",
          "state": {
            "_view_name": "LayoutView",
            "grid_template_rows": null,
            "right": null,
            "justify_content": null,
            "_view_module": "@jupyter-widgets/base",
            "overflow": null,
            "_model_module_version": "1.2.0",
            "_view_count": null,
            "flex_flow": null,
            "width": null,
            "min_width": null,
            "border": null,
            "align_items": null,
            "bottom": null,
            "_model_module": "@jupyter-widgets/base",
            "top": null,
            "grid_column": null,
            "overflow_y": null,
            "overflow_x": null,
            "grid_auto_flow": null,
            "grid_area": null,
            "grid_template_columns": null,
            "flex": null,
            "_model_name": "LayoutModel",
            "justify_items": null,
            "grid_row": null,
            "max_height": null,
            "align_content": null,
            "visibility": null,
            "align_self": null,
            "height": null,
            "min_height": null,
            "padding": null,
            "grid_auto_rows": null,
            "grid_gap": null,
            "max_width": null,
            "order": null,
            "_view_module_version": "1.2.0",
            "grid_template_areas": null,
            "object_position": null,
            "object_fit": null,
            "grid_auto_columns": null,
            "margin": null,
            "display": null,
            "left": null
          }
        },
        "791186b5d39543da8e56ee69c0f02023": {
          "model_module": "@jupyter-widgets/controls",
          "model_name": "HBoxModel",
          "state": {
            "_view_name": "HBoxView",
            "_dom_classes": [],
            "_model_name": "HBoxModel",
            "_view_module": "@jupyter-widgets/controls",
            "_model_module_version": "1.5.0",
            "_view_count": null,
            "_view_module_version": "1.5.0",
            "box_style": "",
            "layout": "IPY_MODEL_9b44b0eae27d46a59798cc0401573928",
            "_model_module": "@jupyter-widgets/controls",
            "children": [
              "IPY_MODEL_1d90cc1965b74f9599c632d72663e9e2",
              "IPY_MODEL_60d6ad23f4574dc6bb142656efcd0104"
            ]
          }
        },
        "9b44b0eae27d46a59798cc0401573928": {
          "model_module": "@jupyter-widgets/base",
          "model_name": "LayoutModel",
          "state": {
            "_view_name": "LayoutView",
            "grid_template_rows": null,
            "right": null,
            "justify_content": null,
            "_view_module": "@jupyter-widgets/base",
            "overflow": null,
            "_model_module_version": "1.2.0",
            "_view_count": null,
            "flex_flow": null,
            "width": null,
            "min_width": null,
            "border": null,
            "align_items": null,
            "bottom": null,
            "_model_module": "@jupyter-widgets/base",
            "top": null,
            "grid_column": null,
            "overflow_y": null,
            "overflow_x": null,
            "grid_auto_flow": null,
            "grid_area": null,
            "grid_template_columns": null,
            "flex": null,
            "_model_name": "LayoutModel",
            "justify_items": null,
            "grid_row": null,
            "max_height": null,
            "align_content": null,
            "visibility": null,
            "align_self": null,
            "height": null,
            "min_height": null,
            "padding": null,
            "grid_auto_rows": null,
            "grid_gap": null,
            "max_width": null,
            "order": null,
            "_view_module_version": "1.2.0",
            "grid_template_areas": null,
            "object_position": null,
            "object_fit": null,
            "grid_auto_columns": null,
            "margin": null,
            "display": null,
            "left": null
          }
        },
        "1d90cc1965b74f9599c632d72663e9e2": {
          "model_module": "@jupyter-widgets/controls",
          "model_name": "FloatProgressModel",
          "state": {
            "_view_name": "ProgressView",
            "style": "IPY_MODEL_4b33aea922fe4471b914bb31b3e5d2f6",
            "_dom_classes": [],
            "description": "Training... : 100%",
            "_model_name": "FloatProgressModel",
            "bar_style": "success",
            "max": 158,
            "_view_module": "@jupyter-widgets/controls",
            "_model_module_version": "1.5.0",
            "value": 158,
            "_view_count": null,
            "_view_module_version": "1.5.0",
            "orientation": "horizontal",
            "min": 0,
            "description_tooltip": null,
            "_model_module": "@jupyter-widgets/controls",
            "layout": "IPY_MODEL_41331252c59946f79918277c6bd959cb"
          }
        },
        "60d6ad23f4574dc6bb142656efcd0104": {
          "model_module": "@jupyter-widgets/controls",
          "model_name": "HTMLModel",
          "state": {
            "_view_name": "HTMLView",
            "style": "IPY_MODEL_319b8fd0eada4777b46df11b7923d436",
            "_dom_classes": [],
            "description": "",
            "_model_name": "HTMLModel",
            "placeholder": "​",
            "_view_module": "@jupyter-widgets/controls",
            "_model_module_version": "1.5.0",
            "value": " 158/158 [01:23&lt;00:00,  1.89it/s]",
            "_view_count": null,
            "_view_module_version": "1.5.0",
            "description_tooltip": null,
            "_model_module": "@jupyter-widgets/controls",
            "layout": "IPY_MODEL_cab2b546a5f64f0894b7f8e08269fb9c"
          }
        },
        "4b33aea922fe4471b914bb31b3e5d2f6": {
          "model_module": "@jupyter-widgets/controls",
          "model_name": "ProgressStyleModel",
          "state": {
            "_view_name": "StyleView",
            "_model_name": "ProgressStyleModel",
            "description_width": "initial",
            "_view_module": "@jupyter-widgets/base",
            "_model_module_version": "1.5.0",
            "_view_count": null,
            "_view_module_version": "1.2.0",
            "bar_color": null,
            "_model_module": "@jupyter-widgets/controls"
          }
        },
        "41331252c59946f79918277c6bd959cb": {
          "model_module": "@jupyter-widgets/base",
          "model_name": "LayoutModel",
          "state": {
            "_view_name": "LayoutView",
            "grid_template_rows": null,
            "right": null,
            "justify_content": null,
            "_view_module": "@jupyter-widgets/base",
            "overflow": null,
            "_model_module_version": "1.2.0",
            "_view_count": null,
            "flex_flow": null,
            "width": null,
            "min_width": null,
            "border": null,
            "align_items": null,
            "bottom": null,
            "_model_module": "@jupyter-widgets/base",
            "top": null,
            "grid_column": null,
            "overflow_y": null,
            "overflow_x": null,
            "grid_auto_flow": null,
            "grid_area": null,
            "grid_template_columns": null,
            "flex": null,
            "_model_name": "LayoutModel",
            "justify_items": null,
            "grid_row": null,
            "max_height": null,
            "align_content": null,
            "visibility": null,
            "align_self": null,
            "height": null,
            "min_height": null,
            "padding": null,
            "grid_auto_rows": null,
            "grid_gap": null,
            "max_width": null,
            "order": null,
            "_view_module_version": "1.2.0",
            "grid_template_areas": null,
            "object_position": null,
            "object_fit": null,
            "grid_auto_columns": null,
            "margin": null,
            "display": null,
            "left": null
          }
        },
        "319b8fd0eada4777b46df11b7923d436": {
          "model_module": "@jupyter-widgets/controls",
          "model_name": "DescriptionStyleModel",
          "state": {
            "_view_name": "StyleView",
            "_model_name": "DescriptionStyleModel",
            "description_width": "",
            "_view_module": "@jupyter-widgets/base",
            "_model_module_version": "1.5.0",
            "_view_count": null,
            "_view_module_version": "1.2.0",
            "_model_module": "@jupyter-widgets/controls"
          }
        },
        "cab2b546a5f64f0894b7f8e08269fb9c": {
          "model_module": "@jupyter-widgets/base",
          "model_name": "LayoutModel",
          "state": {
            "_view_name": "LayoutView",
            "grid_template_rows": null,
            "right": null,
            "justify_content": null,
            "_view_module": "@jupyter-widgets/base",
            "overflow": null,
            "_model_module_version": "1.2.0",
            "_view_count": null,
            "flex_flow": null,
            "width": null,
            "min_width": null,
            "border": null,
            "align_items": null,
            "bottom": null,
            "_model_module": "@jupyter-widgets/base",
            "top": null,
            "grid_column": null,
            "overflow_y": null,
            "overflow_x": null,
            "grid_auto_flow": null,
            "grid_area": null,
            "grid_template_columns": null,
            "flex": null,
            "_model_name": "LayoutModel",
            "justify_items": null,
            "grid_row": null,
            "max_height": null,
            "align_content": null,
            "visibility": null,
            "align_self": null,
            "height": null,
            "min_height": null,
            "padding": null,
            "grid_auto_rows": null,
            "grid_gap": null,
            "max_width": null,
            "order": null,
            "_view_module_version": "1.2.0",
            "grid_template_areas": null,
            "object_position": null,
            "object_fit": null,
            "grid_auto_columns": null,
            "margin": null,
            "display": null,
            "left": null
          }
        },
        "c65620b1cac249478729e17977ab394c": {
          "model_module": "@jupyter-widgets/controls",
          "model_name": "HBoxModel",
          "state": {
            "_view_name": "HBoxView",
            "_dom_classes": [],
            "_model_name": "HBoxModel",
            "_view_module": "@jupyter-widgets/controls",
            "_model_module_version": "1.5.0",
            "_view_count": null,
            "_view_module_version": "1.5.0",
            "box_style": "",
            "layout": "IPY_MODEL_054c46f1d20344cf82fd348f61e24f01",
            "_model_module": "@jupyter-widgets/controls",
            "children": [
              "IPY_MODEL_eae34793a43a4121be1cd833d0c3f478",
              "IPY_MODEL_4c5ec929ec4c433c971d750f92eecbb6"
            ]
          }
        },
        "054c46f1d20344cf82fd348f61e24f01": {
          "model_module": "@jupyter-widgets/base",
          "model_name": "LayoutModel",
          "state": {
            "_view_name": "LayoutView",
            "grid_template_rows": null,
            "right": null,
            "justify_content": null,
            "_view_module": "@jupyter-widgets/base",
            "overflow": null,
            "_model_module_version": "1.2.0",
            "_view_count": null,
            "flex_flow": null,
            "width": null,
            "min_width": null,
            "border": null,
            "align_items": null,
            "bottom": null,
            "_model_module": "@jupyter-widgets/base",
            "top": null,
            "grid_column": null,
            "overflow_y": null,
            "overflow_x": null,
            "grid_auto_flow": null,
            "grid_area": null,
            "grid_template_columns": null,
            "flex": null,
            "_model_name": "LayoutModel",
            "justify_items": null,
            "grid_row": null,
            "max_height": null,
            "align_content": null,
            "visibility": null,
            "align_self": null,
            "height": null,
            "min_height": null,
            "padding": null,
            "grid_auto_rows": null,
            "grid_gap": null,
            "max_width": null,
            "order": null,
            "_view_module_version": "1.2.0",
            "grid_template_areas": null,
            "object_position": null,
            "object_fit": null,
            "grid_auto_columns": null,
            "margin": null,
            "display": null,
            "left": null
          }
        },
        "eae34793a43a4121be1cd833d0c3f478": {
          "model_module": "@jupyter-widgets/controls",
          "model_name": "FloatProgressModel",
          "state": {
            "_view_name": "ProgressView",
            "style": "IPY_MODEL_b5b3789a61974545b5b716309649f965",
            "_dom_classes": [],
            "description": "Evaluation... : 100%",
            "_model_name": "FloatProgressModel",
            "bar_style": "success",
            "max": 68,
            "_view_module": "@jupyter-widgets/controls",
            "_model_module_version": "1.5.0",
            "value": 68,
            "_view_count": null,
            "_view_module_version": "1.5.0",
            "orientation": "horizontal",
            "min": 0,
            "description_tooltip": null,
            "_model_module": "@jupyter-widgets/controls",
            "layout": "IPY_MODEL_e6b3151a237a49eeb01abbd822d1e89d"
          }
        },
        "4c5ec929ec4c433c971d750f92eecbb6": {
          "model_module": "@jupyter-widgets/controls",
          "model_name": "HTMLModel",
          "state": {
            "_view_name": "HTMLView",
            "style": "IPY_MODEL_74c0adec4f7e4e88bf6befbfda24cc15",
            "_dom_classes": [],
            "description": "",
            "_model_name": "HTMLModel",
            "placeholder": "​",
            "_view_module": "@jupyter-widgets/controls",
            "_model_module_version": "1.5.0",
            "value": " 68/68 [00:12&lt;00:00,  5.34it/s]",
            "_view_count": null,
            "_view_module_version": "1.5.0",
            "description_tooltip": null,
            "_model_module": "@jupyter-widgets/controls",
            "layout": "IPY_MODEL_f6cd9f46632240cc950ce1aacf7c7c86"
          }
        },
        "b5b3789a61974545b5b716309649f965": {
          "model_module": "@jupyter-widgets/controls",
          "model_name": "ProgressStyleModel",
          "state": {
            "_view_name": "StyleView",
            "_model_name": "ProgressStyleModel",
            "description_width": "initial",
            "_view_module": "@jupyter-widgets/base",
            "_model_module_version": "1.5.0",
            "_view_count": null,
            "_view_module_version": "1.2.0",
            "bar_color": null,
            "_model_module": "@jupyter-widgets/controls"
          }
        },
        "e6b3151a237a49eeb01abbd822d1e89d": {
          "model_module": "@jupyter-widgets/base",
          "model_name": "LayoutModel",
          "state": {
            "_view_name": "LayoutView",
            "grid_template_rows": null,
            "right": null,
            "justify_content": null,
            "_view_module": "@jupyter-widgets/base",
            "overflow": null,
            "_model_module_version": "1.2.0",
            "_view_count": null,
            "flex_flow": null,
            "width": null,
            "min_width": null,
            "border": null,
            "align_items": null,
            "bottom": null,
            "_model_module": "@jupyter-widgets/base",
            "top": null,
            "grid_column": null,
            "overflow_y": null,
            "overflow_x": null,
            "grid_auto_flow": null,
            "grid_area": null,
            "grid_template_columns": null,
            "flex": null,
            "_model_name": "LayoutModel",
            "justify_items": null,
            "grid_row": null,
            "max_height": null,
            "align_content": null,
            "visibility": null,
            "align_self": null,
            "height": null,
            "min_height": null,
            "padding": null,
            "grid_auto_rows": null,
            "grid_gap": null,
            "max_width": null,
            "order": null,
            "_view_module_version": "1.2.0",
            "grid_template_areas": null,
            "object_position": null,
            "object_fit": null,
            "grid_auto_columns": null,
            "margin": null,
            "display": null,
            "left": null
          }
        },
        "74c0adec4f7e4e88bf6befbfda24cc15": {
          "model_module": "@jupyter-widgets/controls",
          "model_name": "DescriptionStyleModel",
          "state": {
            "_view_name": "StyleView",
            "_model_name": "DescriptionStyleModel",
            "description_width": "",
            "_view_module": "@jupyter-widgets/base",
            "_model_module_version": "1.5.0",
            "_view_count": null,
            "_view_module_version": "1.2.0",
            "_model_module": "@jupyter-widgets/controls"
          }
        },
        "f6cd9f46632240cc950ce1aacf7c7c86": {
          "model_module": "@jupyter-widgets/base",
          "model_name": "LayoutModel",
          "state": {
            "_view_name": "LayoutView",
            "grid_template_rows": null,
            "right": null,
            "justify_content": null,
            "_view_module": "@jupyter-widgets/base",
            "overflow": null,
            "_model_module_version": "1.2.0",
            "_view_count": null,
            "flex_flow": null,
            "width": null,
            "min_width": null,
            "border": null,
            "align_items": null,
            "bottom": null,
            "_model_module": "@jupyter-widgets/base",
            "top": null,
            "grid_column": null,
            "overflow_y": null,
            "overflow_x": null,
            "grid_auto_flow": null,
            "grid_area": null,
            "grid_template_columns": null,
            "flex": null,
            "_model_name": "LayoutModel",
            "justify_items": null,
            "grid_row": null,
            "max_height": null,
            "align_content": null,
            "visibility": null,
            "align_self": null,
            "height": null,
            "min_height": null,
            "padding": null,
            "grid_auto_rows": null,
            "grid_gap": null,
            "max_width": null,
            "order": null,
            "_view_module_version": "1.2.0",
            "grid_template_areas": null,
            "object_position": null,
            "object_fit": null,
            "grid_auto_columns": null,
            "margin": null,
            "display": null,
            "left": null
          }
        },
        "0821df5bcf18456d833ec15bc7b9c323": {
          "model_module": "@jupyter-widgets/controls",
          "model_name": "HBoxModel",
          "state": {
            "_view_name": "HBoxView",
            "_dom_classes": [],
            "_model_name": "HBoxModel",
            "_view_module": "@jupyter-widgets/controls",
            "_model_module_version": "1.5.0",
            "_view_count": null,
            "_view_module_version": "1.5.0",
            "box_style": "",
            "layout": "IPY_MODEL_c3472f11018c41df8a115a82d436cbc5",
            "_model_module": "@jupyter-widgets/controls",
            "children": [
              "IPY_MODEL_36b63f2eaa7c4e5aa1fe548faea9e19f",
              "IPY_MODEL_a49d435c8e4a4c51adad0365e7db78c1"
            ]
          }
        },
        "c3472f11018c41df8a115a82d436cbc5": {
          "model_module": "@jupyter-widgets/base",
          "model_name": "LayoutModel",
          "state": {
            "_view_name": "LayoutView",
            "grid_template_rows": null,
            "right": null,
            "justify_content": null,
            "_view_module": "@jupyter-widgets/base",
            "overflow": null,
            "_model_module_version": "1.2.0",
            "_view_count": null,
            "flex_flow": null,
            "width": null,
            "min_width": null,
            "border": null,
            "align_items": null,
            "bottom": null,
            "_model_module": "@jupyter-widgets/base",
            "top": null,
            "grid_column": null,
            "overflow_y": null,
            "overflow_x": null,
            "grid_auto_flow": null,
            "grid_area": null,
            "grid_template_columns": null,
            "flex": null,
            "_model_name": "LayoutModel",
            "justify_items": null,
            "grid_row": null,
            "max_height": null,
            "align_content": null,
            "visibility": null,
            "align_self": null,
            "height": null,
            "min_height": null,
            "padding": null,
            "grid_auto_rows": null,
            "grid_gap": null,
            "max_width": null,
            "order": null,
            "_view_module_version": "1.2.0",
            "grid_template_areas": null,
            "object_position": null,
            "object_fit": null,
            "grid_auto_columns": null,
            "margin": null,
            "display": null,
            "left": null
          }
        },
        "36b63f2eaa7c4e5aa1fe548faea9e19f": {
          "model_module": "@jupyter-widgets/controls",
          "model_name": "FloatProgressModel",
          "state": {
            "_view_name": "ProgressView",
            "style": "IPY_MODEL_1c3bd5bc27df431e8fe534e5ebe6394c",
            "_dom_classes": [],
            "description": "100%",
            "_model_name": "FloatProgressModel",
            "bar_style": "success",
            "max": 13,
            "_view_module": "@jupyter-widgets/controls",
            "_model_module_version": "1.5.0",
            "value": 13,
            "_view_count": null,
            "_view_module_version": "1.5.0",
            "orientation": "horizontal",
            "min": 0,
            "description_tooltip": null,
            "_model_module": "@jupyter-widgets/controls",
            "layout": "IPY_MODEL_e6dd317d41ca44c6ad8f6fe8aee2b4cc"
          }
        },
        "a49d435c8e4a4c51adad0365e7db78c1": {
          "model_module": "@jupyter-widgets/controls",
          "model_name": "HTMLModel",
          "state": {
            "_view_name": "HTMLView",
            "style": "IPY_MODEL_2405c7bb11bd45a2b4279d3f44d2a4bb",
            "_dom_classes": [],
            "description": "",
            "_model_name": "HTMLModel",
            "placeholder": "​",
            "_view_module": "@jupyter-widgets/controls",
            "_model_module_version": "1.5.0",
            "value": " 13/13 [00:03&lt;00:00,  3.81it/s]",
            "_view_count": null,
            "_view_module_version": "1.5.0",
            "description_tooltip": null,
            "_model_module": "@jupyter-widgets/controls",
            "layout": "IPY_MODEL_55042876dd8a4c7dbd6ab248b24b6e09"
          }
        },
        "1c3bd5bc27df431e8fe534e5ebe6394c": {
          "model_module": "@jupyter-widgets/controls",
          "model_name": "ProgressStyleModel",
          "state": {
            "_view_name": "StyleView",
            "_model_name": "ProgressStyleModel",
            "description_width": "initial",
            "_view_module": "@jupyter-widgets/base",
            "_model_module_version": "1.5.0",
            "_view_count": null,
            "_view_module_version": "1.2.0",
            "bar_color": null,
            "_model_module": "@jupyter-widgets/controls"
          }
        },
        "e6dd317d41ca44c6ad8f6fe8aee2b4cc": {
          "model_module": "@jupyter-widgets/base",
          "model_name": "LayoutModel",
          "state": {
            "_view_name": "LayoutView",
            "grid_template_rows": null,
            "right": null,
            "justify_content": null,
            "_view_module": "@jupyter-widgets/base",
            "overflow": null,
            "_model_module_version": "1.2.0",
            "_view_count": null,
            "flex_flow": null,
            "width": null,
            "min_width": null,
            "border": null,
            "align_items": null,
            "bottom": null,
            "_model_module": "@jupyter-widgets/base",
            "top": null,
            "grid_column": null,
            "overflow_y": null,
            "overflow_x": null,
            "grid_auto_flow": null,
            "grid_area": null,
            "grid_template_columns": null,
            "flex": null,
            "_model_name": "LayoutModel",
            "justify_items": null,
            "grid_row": null,
            "max_height": null,
            "align_content": null,
            "visibility": null,
            "align_self": null,
            "height": null,
            "min_height": null,
            "padding": null,
            "grid_auto_rows": null,
            "grid_gap": null,
            "max_width": null,
            "order": null,
            "_view_module_version": "1.2.0",
            "grid_template_areas": null,
            "object_position": null,
            "object_fit": null,
            "grid_auto_columns": null,
            "margin": null,
            "display": null,
            "left": null
          }
        },
        "2405c7bb11bd45a2b4279d3f44d2a4bb": {
          "model_module": "@jupyter-widgets/controls",
          "model_name": "DescriptionStyleModel",
          "state": {
            "_view_name": "StyleView",
            "_model_name": "DescriptionStyleModel",
            "description_width": "",
            "_view_module": "@jupyter-widgets/base",
            "_model_module_version": "1.5.0",
            "_view_count": null,
            "_view_module_version": "1.2.0",
            "_model_module": "@jupyter-widgets/controls"
          }
        },
        "55042876dd8a4c7dbd6ab248b24b6e09": {
          "model_module": "@jupyter-widgets/base",
          "model_name": "LayoutModel",
          "state": {
            "_view_name": "LayoutView",
            "grid_template_rows": null,
            "right": null,
            "justify_content": null,
            "_view_module": "@jupyter-widgets/base",
            "overflow": null,
            "_model_module_version": "1.2.0",
            "_view_count": null,
            "flex_flow": null,
            "width": null,
            "min_width": null,
            "border": null,
            "align_items": null,
            "bottom": null,
            "_model_module": "@jupyter-widgets/base",
            "top": null,
            "grid_column": null,
            "overflow_y": null,
            "overflow_x": null,
            "grid_auto_flow": null,
            "grid_area": null,
            "grid_template_columns": null,
            "flex": null,
            "_model_name": "LayoutModel",
            "justify_items": null,
            "grid_row": null,
            "max_height": null,
            "align_content": null,
            "visibility": null,
            "align_self": null,
            "height": null,
            "min_height": null,
            "padding": null,
            "grid_auto_rows": null,
            "grid_gap": null,
            "max_width": null,
            "order": null,
            "_view_module_version": "1.2.0",
            "grid_template_areas": null,
            "object_position": null,
            "object_fit": null,
            "grid_auto_columns": null,
            "margin": null,
            "display": null,
            "left": null
          }
        },
        "ffc113ad2c2748fb9ff551042edda9f3": {
          "model_module": "@jupyter-widgets/controls",
          "model_name": "HBoxModel",
          "state": {
            "_view_name": "HBoxView",
            "_dom_classes": [],
            "_model_name": "HBoxModel",
            "_view_module": "@jupyter-widgets/controls",
            "_model_module_version": "1.5.0",
            "_view_count": null,
            "_view_module_version": "1.5.0",
            "box_style": "",
            "layout": "IPY_MODEL_170eb681add74c9aaa97dfb0ea5320d1",
            "_model_module": "@jupyter-widgets/controls",
            "children": [
              "IPY_MODEL_3ebd4e536cc94ae0b41200f6e772d760",
              "IPY_MODEL_71b417a754e74e06a52c20f547c1c320"
            ]
          }
        },
        "170eb681add74c9aaa97dfb0ea5320d1": {
          "model_module": "@jupyter-widgets/base",
          "model_name": "LayoutModel",
          "state": {
            "_view_name": "LayoutView",
            "grid_template_rows": null,
            "right": null,
            "justify_content": null,
            "_view_module": "@jupyter-widgets/base",
            "overflow": null,
            "_model_module_version": "1.2.0",
            "_view_count": null,
            "flex_flow": null,
            "width": null,
            "min_width": null,
            "border": null,
            "align_items": null,
            "bottom": null,
            "_model_module": "@jupyter-widgets/base",
            "top": null,
            "grid_column": null,
            "overflow_y": null,
            "overflow_x": null,
            "grid_auto_flow": null,
            "grid_area": null,
            "grid_template_columns": null,
            "flex": null,
            "_model_name": "LayoutModel",
            "justify_items": null,
            "grid_row": null,
            "max_height": null,
            "align_content": null,
            "visibility": null,
            "align_self": null,
            "height": null,
            "min_height": null,
            "padding": null,
            "grid_auto_rows": null,
            "grid_gap": null,
            "max_width": null,
            "order": null,
            "_view_module_version": "1.2.0",
            "grid_template_areas": null,
            "object_position": null,
            "object_fit": null,
            "grid_auto_columns": null,
            "margin": null,
            "display": null,
            "left": null
          }
        },
        "3ebd4e536cc94ae0b41200f6e772d760": {
          "model_module": "@jupyter-widgets/controls",
          "model_name": "FloatProgressModel",
          "state": {
            "_view_name": "ProgressView",
            "style": "IPY_MODEL_81e1089840794afb80492d8ac0919a12",
            "_dom_classes": [],
            "description": "100%",
            "_model_name": "FloatProgressModel",
            "bar_style": "success",
            "max": 2526,
            "_view_module": "@jupyter-widgets/controls",
            "_model_module_version": "1.5.0",
            "value": 2526,
            "_view_count": null,
            "_view_module_version": "1.5.0",
            "orientation": "horizontal",
            "min": 0,
            "description_tooltip": null,
            "_model_module": "@jupyter-widgets/controls",
            "layout": "IPY_MODEL_b254b70ff1af46c394b334526598ea26"
          }
        },
        "71b417a754e74e06a52c20f547c1c320": {
          "model_module": "@jupyter-widgets/controls",
          "model_name": "HTMLModel",
          "state": {
            "_view_name": "HTMLView",
            "style": "IPY_MODEL_6df1432899084af4bb95e80b653adb71",
            "_dom_classes": [],
            "description": "",
            "_model_name": "HTMLModel",
            "placeholder": "​",
            "_view_module": "@jupyter-widgets/controls",
            "_model_module_version": "1.5.0",
            "value": " 2526/2526 [00:06&lt;00:00, 370.11it/s]",
            "_view_count": null,
            "_view_module_version": "1.5.0",
            "description_tooltip": null,
            "_model_module": "@jupyter-widgets/controls",
            "layout": "IPY_MODEL_6a71c7667248428e9e2ec72f6ce85f66"
          }
        },
        "81e1089840794afb80492d8ac0919a12": {
          "model_module": "@jupyter-widgets/controls",
          "model_name": "ProgressStyleModel",
          "state": {
            "_view_name": "StyleView",
            "_model_name": "ProgressStyleModel",
            "description_width": "initial",
            "_view_module": "@jupyter-widgets/base",
            "_model_module_version": "1.5.0",
            "_view_count": null,
            "_view_module_version": "1.2.0",
            "bar_color": null,
            "_model_module": "@jupyter-widgets/controls"
          }
        },
        "b254b70ff1af46c394b334526598ea26": {
          "model_module": "@jupyter-widgets/base",
          "model_name": "LayoutModel",
          "state": {
            "_view_name": "LayoutView",
            "grid_template_rows": null,
            "right": null,
            "justify_content": null,
            "_view_module": "@jupyter-widgets/base",
            "overflow": null,
            "_model_module_version": "1.2.0",
            "_view_count": null,
            "flex_flow": null,
            "width": null,
            "min_width": null,
            "border": null,
            "align_items": null,
            "bottom": null,
            "_model_module": "@jupyter-widgets/base",
            "top": null,
            "grid_column": null,
            "overflow_y": null,
            "overflow_x": null,
            "grid_auto_flow": null,
            "grid_area": null,
            "grid_template_columns": null,
            "flex": null,
            "_model_name": "LayoutModel",
            "justify_items": null,
            "grid_row": null,
            "max_height": null,
            "align_content": null,
            "visibility": null,
            "align_self": null,
            "height": null,
            "min_height": null,
            "padding": null,
            "grid_auto_rows": null,
            "grid_gap": null,
            "max_width": null,
            "order": null,
            "_view_module_version": "1.2.0",
            "grid_template_areas": null,
            "object_position": null,
            "object_fit": null,
            "grid_auto_columns": null,
            "margin": null,
            "display": null,
            "left": null
          }
        },
        "6df1432899084af4bb95e80b653adb71": {
          "model_module": "@jupyter-widgets/controls",
          "model_name": "DescriptionStyleModel",
          "state": {
            "_view_name": "StyleView",
            "_model_name": "DescriptionStyleModel",
            "description_width": "",
            "_view_module": "@jupyter-widgets/base",
            "_model_module_version": "1.5.0",
            "_view_count": null,
            "_view_module_version": "1.2.0",
            "_model_module": "@jupyter-widgets/controls"
          }
        },
        "6a71c7667248428e9e2ec72f6ce85f66": {
          "model_module": "@jupyter-widgets/base",
          "model_name": "LayoutModel",
          "state": {
            "_view_name": "LayoutView",
            "grid_template_rows": null,
            "right": null,
            "justify_content": null,
            "_view_module": "@jupyter-widgets/base",
            "overflow": null,
            "_model_module_version": "1.2.0",
            "_view_count": null,
            "flex_flow": null,
            "width": null,
            "min_width": null,
            "border": null,
            "align_items": null,
            "bottom": null,
            "_model_module": "@jupyter-widgets/base",
            "top": null,
            "grid_column": null,
            "overflow_y": null,
            "overflow_x": null,
            "grid_auto_flow": null,
            "grid_area": null,
            "grid_template_columns": null,
            "flex": null,
            "_model_name": "LayoutModel",
            "justify_items": null,
            "grid_row": null,
            "max_height": null,
            "align_content": null,
            "visibility": null,
            "align_self": null,
            "height": null,
            "min_height": null,
            "padding": null,
            "grid_auto_rows": null,
            "grid_gap": null,
            "max_width": null,
            "order": null,
            "_view_module_version": "1.2.0",
            "grid_template_areas": null,
            "object_position": null,
            "object_fit": null,
            "grid_auto_columns": null,
            "margin": null,
            "display": null,
            "left": null
          }
        },
        "185ffea6015742f694ec432c7d77b6d1": {
          "model_module": "@jupyter-widgets/controls",
          "model_name": "HBoxModel",
          "state": {
            "_view_name": "HBoxView",
            "_dom_classes": [],
            "_model_name": "HBoxModel",
            "_view_module": "@jupyter-widgets/controls",
            "_model_module_version": "1.5.0",
            "_view_count": null,
            "_view_module_version": "1.5.0",
            "box_style": "",
            "layout": "IPY_MODEL_7456d501eeac442e99fd85d0924c7f08",
            "_model_module": "@jupyter-widgets/controls",
            "children": [
              "IPY_MODEL_4d0a14f8c4f040df966de5f4afd1e508",
              "IPY_MODEL_bab1721ccf5c4924ae2802e29831c011"
            ]
          }
        },
        "7456d501eeac442e99fd85d0924c7f08": {
          "model_module": "@jupyter-widgets/base",
          "model_name": "LayoutModel",
          "state": {
            "_view_name": "LayoutView",
            "grid_template_rows": null,
            "right": null,
            "justify_content": null,
            "_view_module": "@jupyter-widgets/base",
            "overflow": null,
            "_model_module_version": "1.2.0",
            "_view_count": null,
            "flex_flow": null,
            "width": null,
            "min_width": null,
            "border": null,
            "align_items": null,
            "bottom": null,
            "_model_module": "@jupyter-widgets/base",
            "top": null,
            "grid_column": null,
            "overflow_y": null,
            "overflow_x": null,
            "grid_auto_flow": null,
            "grid_area": null,
            "grid_template_columns": null,
            "flex": null,
            "_model_name": "LayoutModel",
            "justify_items": null,
            "grid_row": null,
            "max_height": null,
            "align_content": null,
            "visibility": null,
            "align_self": null,
            "height": null,
            "min_height": null,
            "padding": null,
            "grid_auto_rows": null,
            "grid_gap": null,
            "max_width": null,
            "order": null,
            "_view_module_version": "1.2.0",
            "grid_template_areas": null,
            "object_position": null,
            "object_fit": null,
            "grid_auto_columns": null,
            "margin": null,
            "display": null,
            "left": null
          }
        },
        "4d0a14f8c4f040df966de5f4afd1e508": {
          "model_module": "@jupyter-widgets/controls",
          "model_name": "FloatProgressModel",
          "state": {
            "_view_name": "ProgressView",
            "style": "IPY_MODEL_b7bf21c07a4444058de1ae4c206c6364",
            "_dom_classes": [],
            "description": "100%",
            "_model_name": "FloatProgressModel",
            "bar_style": "success",
            "max": 2526,
            "_view_module": "@jupyter-widgets/controls",
            "_model_module_version": "1.5.0",
            "value": 2526,
            "_view_count": null,
            "_view_module_version": "1.5.0",
            "orientation": "horizontal",
            "min": 0,
            "description_tooltip": null,
            "_model_module": "@jupyter-widgets/controls",
            "layout": "IPY_MODEL_b89ea28f51b34f2b9cd692a648850fd7"
          }
        },
        "bab1721ccf5c4924ae2802e29831c011": {
          "model_module": "@jupyter-widgets/controls",
          "model_name": "HTMLModel",
          "state": {
            "_view_name": "HTMLView",
            "style": "IPY_MODEL_06140baa730e4acba03599a0581b81d3",
            "_dom_classes": [],
            "description": "",
            "_model_name": "HTMLModel",
            "placeholder": "​",
            "_view_module": "@jupyter-widgets/controls",
            "_model_module_version": "1.5.0",
            "value": " 2526/2526 [00:05&lt;00:00, 429.51it/s]",
            "_view_count": null,
            "_view_module_version": "1.5.0",
            "description_tooltip": null,
            "_model_module": "@jupyter-widgets/controls",
            "layout": "IPY_MODEL_96cd45ecb56f4470969fdba3dce421eb"
          }
        },
        "b7bf21c07a4444058de1ae4c206c6364": {
          "model_module": "@jupyter-widgets/controls",
          "model_name": "ProgressStyleModel",
          "state": {
            "_view_name": "StyleView",
            "_model_name": "ProgressStyleModel",
            "description_width": "initial",
            "_view_module": "@jupyter-widgets/base",
            "_model_module_version": "1.5.0",
            "_view_count": null,
            "_view_module_version": "1.2.0",
            "bar_color": null,
            "_model_module": "@jupyter-widgets/controls"
          }
        },
        "b89ea28f51b34f2b9cd692a648850fd7": {
          "model_module": "@jupyter-widgets/base",
          "model_name": "LayoutModel",
          "state": {
            "_view_name": "LayoutView",
            "grid_template_rows": null,
            "right": null,
            "justify_content": null,
            "_view_module": "@jupyter-widgets/base",
            "overflow": null,
            "_model_module_version": "1.2.0",
            "_view_count": null,
            "flex_flow": null,
            "width": null,
            "min_width": null,
            "border": null,
            "align_items": null,
            "bottom": null,
            "_model_module": "@jupyter-widgets/base",
            "top": null,
            "grid_column": null,
            "overflow_y": null,
            "overflow_x": null,
            "grid_auto_flow": null,
            "grid_area": null,
            "grid_template_columns": null,
            "flex": null,
            "_model_name": "LayoutModel",
            "justify_items": null,
            "grid_row": null,
            "max_height": null,
            "align_content": null,
            "visibility": null,
            "align_self": null,
            "height": null,
            "min_height": null,
            "padding": null,
            "grid_auto_rows": null,
            "grid_gap": null,
            "max_width": null,
            "order": null,
            "_view_module_version": "1.2.0",
            "grid_template_areas": null,
            "object_position": null,
            "object_fit": null,
            "grid_auto_columns": null,
            "margin": null,
            "display": null,
            "left": null
          }
        },
        "06140baa730e4acba03599a0581b81d3": {
          "model_module": "@jupyter-widgets/controls",
          "model_name": "DescriptionStyleModel",
          "state": {
            "_view_name": "StyleView",
            "_model_name": "DescriptionStyleModel",
            "description_width": "",
            "_view_module": "@jupyter-widgets/base",
            "_model_module_version": "1.5.0",
            "_view_count": null,
            "_view_module_version": "1.2.0",
            "_model_module": "@jupyter-widgets/controls"
          }
        },
        "96cd45ecb56f4470969fdba3dce421eb": {
          "model_module": "@jupyter-widgets/base",
          "model_name": "LayoutModel",
          "state": {
            "_view_name": "LayoutView",
            "grid_template_rows": null,
            "right": null,
            "justify_content": null,
            "_view_module": "@jupyter-widgets/base",
            "overflow": null,
            "_model_module_version": "1.2.0",
            "_view_count": null,
            "flex_flow": null,
            "width": null,
            "min_width": null,
            "border": null,
            "align_items": null,
            "bottom": null,
            "_model_module": "@jupyter-widgets/base",
            "top": null,
            "grid_column": null,
            "overflow_y": null,
            "overflow_x": null,
            "grid_auto_flow": null,
            "grid_area": null,
            "grid_template_columns": null,
            "flex": null,
            "_model_name": "LayoutModel",
            "justify_items": null,
            "grid_row": null,
            "max_height": null,
            "align_content": null,
            "visibility": null,
            "align_self": null,
            "height": null,
            "min_height": null,
            "padding": null,
            "grid_auto_rows": null,
            "grid_gap": null,
            "max_width": null,
            "order": null,
            "_view_module_version": "1.2.0",
            "grid_template_areas": null,
            "object_position": null,
            "object_fit": null,
            "grid_auto_columns": null,
            "margin": null,
            "display": null,
            "left": null
          }
        },
        "dc0e8a0f978b42bfbaa23df460c28468": {
          "model_module": "@jupyter-widgets/controls",
          "model_name": "HBoxModel",
          "state": {
            "_view_name": "HBoxView",
            "_dom_classes": [],
            "_model_name": "HBoxModel",
            "_view_module": "@jupyter-widgets/controls",
            "_model_module_version": "1.5.0",
            "_view_count": null,
            "_view_module_version": "1.5.0",
            "box_style": "",
            "layout": "IPY_MODEL_008df5a84f5f4a418a6fa9b1e7f4551a",
            "_model_module": "@jupyter-widgets/controls",
            "children": [
              "IPY_MODEL_788aba45b43748ad9ce6d58efdbf009b",
              "IPY_MODEL_ebd62965844b4f6296804787a208fc54"
            ]
          }
        },
        "008df5a84f5f4a418a6fa9b1e7f4551a": {
          "model_module": "@jupyter-widgets/base",
          "model_name": "LayoutModel",
          "state": {
            "_view_name": "LayoutView",
            "grid_template_rows": null,
            "right": null,
            "justify_content": null,
            "_view_module": "@jupyter-widgets/base",
            "overflow": null,
            "_model_module_version": "1.2.0",
            "_view_count": null,
            "flex_flow": null,
            "width": null,
            "min_width": null,
            "border": null,
            "align_items": null,
            "bottom": null,
            "_model_module": "@jupyter-widgets/base",
            "top": null,
            "grid_column": null,
            "overflow_y": null,
            "overflow_x": null,
            "grid_auto_flow": null,
            "grid_area": null,
            "grid_template_columns": null,
            "flex": null,
            "_model_name": "LayoutModel",
            "justify_items": null,
            "grid_row": null,
            "max_height": null,
            "align_content": null,
            "visibility": null,
            "align_self": null,
            "height": null,
            "min_height": null,
            "padding": null,
            "grid_auto_rows": null,
            "grid_gap": null,
            "max_width": null,
            "order": null,
            "_view_module_version": "1.2.0",
            "grid_template_areas": null,
            "object_position": null,
            "object_fit": null,
            "grid_auto_columns": null,
            "margin": null,
            "display": null,
            "left": null
          }
        },
        "788aba45b43748ad9ce6d58efdbf009b": {
          "model_module": "@jupyter-widgets/controls",
          "model_name": "FloatProgressModel",
          "state": {
            "_view_name": "ProgressView",
            "style": "IPY_MODEL_7ad58f1f2de243c4b377e5c9ec51443b",
            "_dom_classes": [],
            "description": "100%",
            "_model_name": "FloatProgressModel",
            "bar_style": "success",
            "max": 1083,
            "_view_module": "@jupyter-widgets/controls",
            "_model_module_version": "1.5.0",
            "value": 1083,
            "_view_count": null,
            "_view_module_version": "1.5.0",
            "orientation": "horizontal",
            "min": 0,
            "description_tooltip": null,
            "_model_module": "@jupyter-widgets/controls",
            "layout": "IPY_MODEL_b5c29cc449934487b11bc92e9258d658"
          }
        },
        "ebd62965844b4f6296804787a208fc54": {
          "model_module": "@jupyter-widgets/controls",
          "model_name": "HTMLModel",
          "state": {
            "_view_name": "HTMLView",
            "style": "IPY_MODEL_de77dad69fb14bc1b193818d437e5fbb",
            "_dom_classes": [],
            "description": "",
            "_model_name": "HTMLModel",
            "placeholder": "​",
            "_view_module": "@jupyter-widgets/controls",
            "_model_module_version": "1.5.0",
            "value": " 1083/1083 [00:00&lt;00:00, 2480.14it/s]",
            "_view_count": null,
            "_view_module_version": "1.5.0",
            "description_tooltip": null,
            "_model_module": "@jupyter-widgets/controls",
            "layout": "IPY_MODEL_751504eae3594ac0a7517e1a7cf3df1c"
          }
        },
        "7ad58f1f2de243c4b377e5c9ec51443b": {
          "model_module": "@jupyter-widgets/controls",
          "model_name": "ProgressStyleModel",
          "state": {
            "_view_name": "StyleView",
            "_model_name": "ProgressStyleModel",
            "description_width": "initial",
            "_view_module": "@jupyter-widgets/base",
            "_model_module_version": "1.5.0",
            "_view_count": null,
            "_view_module_version": "1.2.0",
            "bar_color": null,
            "_model_module": "@jupyter-widgets/controls"
          }
        },
        "b5c29cc449934487b11bc92e9258d658": {
          "model_module": "@jupyter-widgets/base",
          "model_name": "LayoutModel",
          "state": {
            "_view_name": "LayoutView",
            "grid_template_rows": null,
            "right": null,
            "justify_content": null,
            "_view_module": "@jupyter-widgets/base",
            "overflow": null,
            "_model_module_version": "1.2.0",
            "_view_count": null,
            "flex_flow": null,
            "width": null,
            "min_width": null,
            "border": null,
            "align_items": null,
            "bottom": null,
            "_model_module": "@jupyter-widgets/base",
            "top": null,
            "grid_column": null,
            "overflow_y": null,
            "overflow_x": null,
            "grid_auto_flow": null,
            "grid_area": null,
            "grid_template_columns": null,
            "flex": null,
            "_model_name": "LayoutModel",
            "justify_items": null,
            "grid_row": null,
            "max_height": null,
            "align_content": null,
            "visibility": null,
            "align_self": null,
            "height": null,
            "min_height": null,
            "padding": null,
            "grid_auto_rows": null,
            "grid_gap": null,
            "max_width": null,
            "order": null,
            "_view_module_version": "1.2.0",
            "grid_template_areas": null,
            "object_position": null,
            "object_fit": null,
            "grid_auto_columns": null,
            "margin": null,
            "display": null,
            "left": null
          }
        },
        "de77dad69fb14bc1b193818d437e5fbb": {
          "model_module": "@jupyter-widgets/controls",
          "model_name": "DescriptionStyleModel",
          "state": {
            "_view_name": "StyleView",
            "_model_name": "DescriptionStyleModel",
            "description_width": "",
            "_view_module": "@jupyter-widgets/base",
            "_model_module_version": "1.5.0",
            "_view_count": null,
            "_view_module_version": "1.2.0",
            "_model_module": "@jupyter-widgets/controls"
          }
        },
        "751504eae3594ac0a7517e1a7cf3df1c": {
          "model_module": "@jupyter-widgets/base",
          "model_name": "LayoutModel",
          "state": {
            "_view_name": "LayoutView",
            "grid_template_rows": null,
            "right": null,
            "justify_content": null,
            "_view_module": "@jupyter-widgets/base",
            "overflow": null,
            "_model_module_version": "1.2.0",
            "_view_count": null,
            "flex_flow": null,
            "width": null,
            "min_width": null,
            "border": null,
            "align_items": null,
            "bottom": null,
            "_model_module": "@jupyter-widgets/base",
            "top": null,
            "grid_column": null,
            "overflow_y": null,
            "overflow_x": null,
            "grid_auto_flow": null,
            "grid_area": null,
            "grid_template_columns": null,
            "flex": null,
            "_model_name": "LayoutModel",
            "justify_items": null,
            "grid_row": null,
            "max_height": null,
            "align_content": null,
            "visibility": null,
            "align_self": null,
            "height": null,
            "min_height": null,
            "padding": null,
            "grid_auto_rows": null,
            "grid_gap": null,
            "max_width": null,
            "order": null,
            "_view_module_version": "1.2.0",
            "grid_template_areas": null,
            "object_position": null,
            "object_fit": null,
            "grid_auto_columns": null,
            "margin": null,
            "display": null,
            "left": null
          }
        },
        "b411eb7c6a6f481cb1e9f6e485ff25ac": {
          "model_module": "@jupyter-widgets/controls",
          "model_name": "HBoxModel",
          "state": {
            "_view_name": "HBoxView",
            "_dom_classes": [],
            "_model_name": "HBoxModel",
            "_view_module": "@jupyter-widgets/controls",
            "_model_module_version": "1.5.0",
            "_view_count": null,
            "_view_module_version": "1.5.0",
            "box_style": "",
            "layout": "IPY_MODEL_e1cd4954a62e4db3b84c26d433dcb9bf",
            "_model_module": "@jupyter-widgets/controls",
            "children": [
              "IPY_MODEL_7d0a94a2057d45efba1fe9e547bfdabf",
              "IPY_MODEL_9c1e26128455459ba7d4a67d96c473ae"
            ]
          }
        },
        "e1cd4954a62e4db3b84c26d433dcb9bf": {
          "model_module": "@jupyter-widgets/base",
          "model_name": "LayoutModel",
          "state": {
            "_view_name": "LayoutView",
            "grid_template_rows": null,
            "right": null,
            "justify_content": null,
            "_view_module": "@jupyter-widgets/base",
            "overflow": null,
            "_model_module_version": "1.2.0",
            "_view_count": null,
            "flex_flow": null,
            "width": null,
            "min_width": null,
            "border": null,
            "align_items": null,
            "bottom": null,
            "_model_module": "@jupyter-widgets/base",
            "top": null,
            "grid_column": null,
            "overflow_y": null,
            "overflow_x": null,
            "grid_auto_flow": null,
            "grid_area": null,
            "grid_template_columns": null,
            "flex": null,
            "_model_name": "LayoutModel",
            "justify_items": null,
            "grid_row": null,
            "max_height": null,
            "align_content": null,
            "visibility": null,
            "align_self": null,
            "height": null,
            "min_height": null,
            "padding": null,
            "grid_auto_rows": null,
            "grid_gap": null,
            "max_width": null,
            "order": null,
            "_view_module_version": "1.2.0",
            "grid_template_areas": null,
            "object_position": null,
            "object_fit": null,
            "grid_auto_columns": null,
            "margin": null,
            "display": null,
            "left": null
          }
        },
        "7d0a94a2057d45efba1fe9e547bfdabf": {
          "model_module": "@jupyter-widgets/controls",
          "model_name": "FloatProgressModel",
          "state": {
            "_view_name": "ProgressView",
            "style": "IPY_MODEL_e4f18a4483814fecbafb278ab767c84a",
            "_dom_classes": [],
            "description": "100%",
            "_model_name": "FloatProgressModel",
            "bar_style": "success",
            "max": 1083,
            "_view_module": "@jupyter-widgets/controls",
            "_model_module_version": "1.5.0",
            "value": 1083,
            "_view_count": null,
            "_view_module_version": "1.5.0",
            "orientation": "horizontal",
            "min": 0,
            "description_tooltip": null,
            "_model_module": "@jupyter-widgets/controls",
            "layout": "IPY_MODEL_47c41662720b4ab5817ae58b8d134f9d"
          }
        },
        "9c1e26128455459ba7d4a67d96c473ae": {
          "model_module": "@jupyter-widgets/controls",
          "model_name": "HTMLModel",
          "state": {
            "_view_name": "HTMLView",
            "style": "IPY_MODEL_08ecca51908b41e389e9ed57e06b2e9f",
            "_dom_classes": [],
            "description": "",
            "_model_name": "HTMLModel",
            "placeholder": "​",
            "_view_module": "@jupyter-widgets/controls",
            "_model_module_version": "1.5.0",
            "value": " 1083/1083 [00:00&lt;00:00, 13332.84it/s]",
            "_view_count": null,
            "_view_module_version": "1.5.0",
            "description_tooltip": null,
            "_model_module": "@jupyter-widgets/controls",
            "layout": "IPY_MODEL_9f07e39fdfd34ceca002a823b58b30e8"
          }
        },
        "e4f18a4483814fecbafb278ab767c84a": {
          "model_module": "@jupyter-widgets/controls",
          "model_name": "ProgressStyleModel",
          "state": {
            "_view_name": "StyleView",
            "_model_name": "ProgressStyleModel",
            "description_width": "initial",
            "_view_module": "@jupyter-widgets/base",
            "_model_module_version": "1.5.0",
            "_view_count": null,
            "_view_module_version": "1.2.0",
            "bar_color": null,
            "_model_module": "@jupyter-widgets/controls"
          }
        },
        "47c41662720b4ab5817ae58b8d134f9d": {
          "model_module": "@jupyter-widgets/base",
          "model_name": "LayoutModel",
          "state": {
            "_view_name": "LayoutView",
            "grid_template_rows": null,
            "right": null,
            "justify_content": null,
            "_view_module": "@jupyter-widgets/base",
            "overflow": null,
            "_model_module_version": "1.2.0",
            "_view_count": null,
            "flex_flow": null,
            "width": null,
            "min_width": null,
            "border": null,
            "align_items": null,
            "bottom": null,
            "_model_module": "@jupyter-widgets/base",
            "top": null,
            "grid_column": null,
            "overflow_y": null,
            "overflow_x": null,
            "grid_auto_flow": null,
            "grid_area": null,
            "grid_template_columns": null,
            "flex": null,
            "_model_name": "LayoutModel",
            "justify_items": null,
            "grid_row": null,
            "max_height": null,
            "align_content": null,
            "visibility": null,
            "align_self": null,
            "height": null,
            "min_height": null,
            "padding": null,
            "grid_auto_rows": null,
            "grid_gap": null,
            "max_width": null,
            "order": null,
            "_view_module_version": "1.2.0",
            "grid_template_areas": null,
            "object_position": null,
            "object_fit": null,
            "grid_auto_columns": null,
            "margin": null,
            "display": null,
            "left": null
          }
        },
        "08ecca51908b41e389e9ed57e06b2e9f": {
          "model_module": "@jupyter-widgets/controls",
          "model_name": "DescriptionStyleModel",
          "state": {
            "_view_name": "StyleView",
            "_model_name": "DescriptionStyleModel",
            "description_width": "",
            "_view_module": "@jupyter-widgets/base",
            "_model_module_version": "1.5.0",
            "_view_count": null,
            "_view_module_version": "1.2.0",
            "_model_module": "@jupyter-widgets/controls"
          }
        },
        "9f07e39fdfd34ceca002a823b58b30e8": {
          "model_module": "@jupyter-widgets/base",
          "model_name": "LayoutModel",
          "state": {
            "_view_name": "LayoutView",
            "grid_template_rows": null,
            "right": null,
            "justify_content": null,
            "_view_module": "@jupyter-widgets/base",
            "overflow": null,
            "_model_module_version": "1.2.0",
            "_view_count": null,
            "flex_flow": null,
            "width": null,
            "min_width": null,
            "border": null,
            "align_items": null,
            "bottom": null,
            "_model_module": "@jupyter-widgets/base",
            "top": null,
            "grid_column": null,
            "overflow_y": null,
            "overflow_x": null,
            "grid_auto_flow": null,
            "grid_area": null,
            "grid_template_columns": null,
            "flex": null,
            "_model_name": "LayoutModel",
            "justify_items": null,
            "grid_row": null,
            "max_height": null,
            "align_content": null,
            "visibility": null,
            "align_self": null,
            "height": null,
            "min_height": null,
            "padding": null,
            "grid_auto_rows": null,
            "grid_gap": null,
            "max_width": null,
            "order": null,
            "_view_module_version": "1.2.0",
            "grid_template_areas": null,
            "object_position": null,
            "object_fit": null,
            "grid_auto_columns": null,
            "margin": null,
            "display": null,
            "left": null
          }
        },
        "d882a29ddc904da19eb07f24d443f348": {
          "model_module": "@jupyter-widgets/controls",
          "model_name": "HBoxModel",
          "state": {
            "_view_name": "HBoxView",
            "_dom_classes": [],
            "_model_name": "HBoxModel",
            "_view_module": "@jupyter-widgets/controls",
            "_model_module_version": "1.5.0",
            "_view_count": null,
            "_view_module_version": "1.5.0",
            "box_style": "",
            "layout": "IPY_MODEL_455d18534013430c898e680b1c10a919",
            "_model_module": "@jupyter-widgets/controls",
            "children": [
              "IPY_MODEL_1e26f9304502453bbdccdb5b48ecfbca",
              "IPY_MODEL_7070b373459049e7a95c346bb6ec1dfb"
            ]
          }
        },
        "455d18534013430c898e680b1c10a919": {
          "model_module": "@jupyter-widgets/base",
          "model_name": "LayoutModel",
          "state": {
            "_view_name": "LayoutView",
            "grid_template_rows": null,
            "right": null,
            "justify_content": null,
            "_view_module": "@jupyter-widgets/base",
            "overflow": null,
            "_model_module_version": "1.2.0",
            "_view_count": null,
            "flex_flow": null,
            "width": null,
            "min_width": null,
            "border": null,
            "align_items": null,
            "bottom": null,
            "_model_module": "@jupyter-widgets/base",
            "top": null,
            "grid_column": null,
            "overflow_y": null,
            "overflow_x": null,
            "grid_auto_flow": null,
            "grid_area": null,
            "grid_template_columns": null,
            "flex": null,
            "_model_name": "LayoutModel",
            "justify_items": null,
            "grid_row": null,
            "max_height": null,
            "align_content": null,
            "visibility": null,
            "align_self": null,
            "height": null,
            "min_height": null,
            "padding": null,
            "grid_auto_rows": null,
            "grid_gap": null,
            "max_width": null,
            "order": null,
            "_view_module_version": "1.2.0",
            "grid_template_areas": null,
            "object_position": null,
            "object_fit": null,
            "grid_auto_columns": null,
            "margin": null,
            "display": null,
            "left": null
          }
        },
        "1e26f9304502453bbdccdb5b48ecfbca": {
          "model_module": "@jupyter-widgets/controls",
          "model_name": "FloatProgressModel",
          "state": {
            "_view_name": "ProgressView",
            "style": "IPY_MODEL_908b0de659e64f20a54901c69a524edf",
            "_dom_classes": [],
            "description": "100%",
            "_model_name": "FloatProgressModel",
            "bar_style": "success",
            "max": 401,
            "_view_module": "@jupyter-widgets/controls",
            "_model_module_version": "1.5.0",
            "value": 401,
            "_view_count": null,
            "_view_module_version": "1.5.0",
            "orientation": "horizontal",
            "min": 0,
            "description_tooltip": null,
            "_model_module": "@jupyter-widgets/controls",
            "layout": "IPY_MODEL_98988336d2384f34ba5b384409d591e9"
          }
        },
        "7070b373459049e7a95c346bb6ec1dfb": {
          "model_module": "@jupyter-widgets/controls",
          "model_name": "HTMLModel",
          "state": {
            "_view_name": "HTMLView",
            "style": "IPY_MODEL_93641c759fa54e4993813b168f00b1a1",
            "_dom_classes": [],
            "description": "",
            "_model_name": "HTMLModel",
            "placeholder": "​",
            "_view_module": "@jupyter-widgets/controls",
            "_model_module_version": "1.5.0",
            "value": " 401/401 [00:00&lt;00:00, 1543.79it/s]",
            "_view_count": null,
            "_view_module_version": "1.5.0",
            "description_tooltip": null,
            "_model_module": "@jupyter-widgets/controls",
            "layout": "IPY_MODEL_7254bc212b5343baa215adba3d17ba99"
          }
        },
        "908b0de659e64f20a54901c69a524edf": {
          "model_module": "@jupyter-widgets/controls",
          "model_name": "ProgressStyleModel",
          "state": {
            "_view_name": "StyleView",
            "_model_name": "ProgressStyleModel",
            "description_width": "initial",
            "_view_module": "@jupyter-widgets/base",
            "_model_module_version": "1.5.0",
            "_view_count": null,
            "_view_module_version": "1.2.0",
            "bar_color": null,
            "_model_module": "@jupyter-widgets/controls"
          }
        },
        "98988336d2384f34ba5b384409d591e9": {
          "model_module": "@jupyter-widgets/base",
          "model_name": "LayoutModel",
          "state": {
            "_view_name": "LayoutView",
            "grid_template_rows": null,
            "right": null,
            "justify_content": null,
            "_view_module": "@jupyter-widgets/base",
            "overflow": null,
            "_model_module_version": "1.2.0",
            "_view_count": null,
            "flex_flow": null,
            "width": null,
            "min_width": null,
            "border": null,
            "align_items": null,
            "bottom": null,
            "_model_module": "@jupyter-widgets/base",
            "top": null,
            "grid_column": null,
            "overflow_y": null,
            "overflow_x": null,
            "grid_auto_flow": null,
            "grid_area": null,
            "grid_template_columns": null,
            "flex": null,
            "_model_name": "LayoutModel",
            "justify_items": null,
            "grid_row": null,
            "max_height": null,
            "align_content": null,
            "visibility": null,
            "align_self": null,
            "height": null,
            "min_height": null,
            "padding": null,
            "grid_auto_rows": null,
            "grid_gap": null,
            "max_width": null,
            "order": null,
            "_view_module_version": "1.2.0",
            "grid_template_areas": null,
            "object_position": null,
            "object_fit": null,
            "grid_auto_columns": null,
            "margin": null,
            "display": null,
            "left": null
          }
        },
        "93641c759fa54e4993813b168f00b1a1": {
          "model_module": "@jupyter-widgets/controls",
          "model_name": "DescriptionStyleModel",
          "state": {
            "_view_name": "StyleView",
            "_model_name": "DescriptionStyleModel",
            "description_width": "",
            "_view_module": "@jupyter-widgets/base",
            "_model_module_version": "1.5.0",
            "_view_count": null,
            "_view_module_version": "1.2.0",
            "_model_module": "@jupyter-widgets/controls"
          }
        },
        "7254bc212b5343baa215adba3d17ba99": {
          "model_module": "@jupyter-widgets/base",
          "model_name": "LayoutModel",
          "state": {
            "_view_name": "LayoutView",
            "grid_template_rows": null,
            "right": null,
            "justify_content": null,
            "_view_module": "@jupyter-widgets/base",
            "overflow": null,
            "_model_module_version": "1.2.0",
            "_view_count": null,
            "flex_flow": null,
            "width": null,
            "min_width": null,
            "border": null,
            "align_items": null,
            "bottom": null,
            "_model_module": "@jupyter-widgets/base",
            "top": null,
            "grid_column": null,
            "overflow_y": null,
            "overflow_x": null,
            "grid_auto_flow": null,
            "grid_area": null,
            "grid_template_columns": null,
            "flex": null,
            "_model_name": "LayoutModel",
            "justify_items": null,
            "grid_row": null,
            "max_height": null,
            "align_content": null,
            "visibility": null,
            "align_self": null,
            "height": null,
            "min_height": null,
            "padding": null,
            "grid_auto_rows": null,
            "grid_gap": null,
            "max_width": null,
            "order": null,
            "_view_module_version": "1.2.0",
            "grid_template_areas": null,
            "object_position": null,
            "object_fit": null,
            "grid_auto_columns": null,
            "margin": null,
            "display": null,
            "left": null
          }
        },
        "825ae9288c98416ab47a716b1ef76fbd": {
          "model_module": "@jupyter-widgets/controls",
          "model_name": "HBoxModel",
          "state": {
            "_view_name": "HBoxView",
            "_dom_classes": [],
            "_model_name": "HBoxModel",
            "_view_module": "@jupyter-widgets/controls",
            "_model_module_version": "1.5.0",
            "_view_count": null,
            "_view_module_version": "1.5.0",
            "box_style": "",
            "layout": "IPY_MODEL_eeeb4c08c1984d5fb07796de7673f222",
            "_model_module": "@jupyter-widgets/controls",
            "children": [
              "IPY_MODEL_bae9d40301a24a4cbcc25ef808e7b670",
              "IPY_MODEL_6be954c5231641ac9747a805fb34005f"
            ]
          }
        },
        "eeeb4c08c1984d5fb07796de7673f222": {
          "model_module": "@jupyter-widgets/base",
          "model_name": "LayoutModel",
          "state": {
            "_view_name": "LayoutView",
            "grid_template_rows": null,
            "right": null,
            "justify_content": null,
            "_view_module": "@jupyter-widgets/base",
            "overflow": null,
            "_model_module_version": "1.2.0",
            "_view_count": null,
            "flex_flow": null,
            "width": null,
            "min_width": null,
            "border": null,
            "align_items": null,
            "bottom": null,
            "_model_module": "@jupyter-widgets/base",
            "top": null,
            "grid_column": null,
            "overflow_y": null,
            "overflow_x": null,
            "grid_auto_flow": null,
            "grid_area": null,
            "grid_template_columns": null,
            "flex": null,
            "_model_name": "LayoutModel",
            "justify_items": null,
            "grid_row": null,
            "max_height": null,
            "align_content": null,
            "visibility": null,
            "align_self": null,
            "height": null,
            "min_height": null,
            "padding": null,
            "grid_auto_rows": null,
            "grid_gap": null,
            "max_width": null,
            "order": null,
            "_view_module_version": "1.2.0",
            "grid_template_areas": null,
            "object_position": null,
            "object_fit": null,
            "grid_auto_columns": null,
            "margin": null,
            "display": null,
            "left": null
          }
        },
        "bae9d40301a24a4cbcc25ef808e7b670": {
          "model_module": "@jupyter-widgets/controls",
          "model_name": "FloatProgressModel",
          "state": {
            "_view_name": "ProgressView",
            "style": "IPY_MODEL_22a864d8841c499baae145c75274ccba",
            "_dom_classes": [],
            "description": "100%",
            "_model_name": "FloatProgressModel",
            "bar_style": "success",
            "max": 401,
            "_view_module": "@jupyter-widgets/controls",
            "_model_module_version": "1.5.0",
            "value": 401,
            "_view_count": null,
            "_view_module_version": "1.5.0",
            "orientation": "horizontal",
            "min": 0,
            "description_tooltip": null,
            "_model_module": "@jupyter-widgets/controls",
            "layout": "IPY_MODEL_f033733e12a6428eaec4213bab2e7b06"
          }
        },
        "6be954c5231641ac9747a805fb34005f": {
          "model_module": "@jupyter-widgets/controls",
          "model_name": "HTMLModel",
          "state": {
            "_view_name": "HTMLView",
            "style": "IPY_MODEL_a3a97e0696ce444ca1726b0310fbc317",
            "_dom_classes": [],
            "description": "",
            "_model_name": "HTMLModel",
            "placeholder": "​",
            "_view_module": "@jupyter-widgets/controls",
            "_model_module_version": "1.5.0",
            "value": " 401/401 [00:26&lt;00:00, 15.22it/s]",
            "_view_count": null,
            "_view_module_version": "1.5.0",
            "description_tooltip": null,
            "_model_module": "@jupyter-widgets/controls",
            "layout": "IPY_MODEL_7eb4a7de19a440dfaa1f0166d738b69e"
          }
        },
        "22a864d8841c499baae145c75274ccba": {
          "model_module": "@jupyter-widgets/controls",
          "model_name": "ProgressStyleModel",
          "state": {
            "_view_name": "StyleView",
            "_model_name": "ProgressStyleModel",
            "description_width": "initial",
            "_view_module": "@jupyter-widgets/base",
            "_model_module_version": "1.5.0",
            "_view_count": null,
            "_view_module_version": "1.2.0",
            "bar_color": null,
            "_model_module": "@jupyter-widgets/controls"
          }
        },
        "f033733e12a6428eaec4213bab2e7b06": {
          "model_module": "@jupyter-widgets/base",
          "model_name": "LayoutModel",
          "state": {
            "_view_name": "LayoutView",
            "grid_template_rows": null,
            "right": null,
            "justify_content": null,
            "_view_module": "@jupyter-widgets/base",
            "overflow": null,
            "_model_module_version": "1.2.0",
            "_view_count": null,
            "flex_flow": null,
            "width": null,
            "min_width": null,
            "border": null,
            "align_items": null,
            "bottom": null,
            "_model_module": "@jupyter-widgets/base",
            "top": null,
            "grid_column": null,
            "overflow_y": null,
            "overflow_x": null,
            "grid_auto_flow": null,
            "grid_area": null,
            "grid_template_columns": null,
            "flex": null,
            "_model_name": "LayoutModel",
            "justify_items": null,
            "grid_row": null,
            "max_height": null,
            "align_content": null,
            "visibility": null,
            "align_self": null,
            "height": null,
            "min_height": null,
            "padding": null,
            "grid_auto_rows": null,
            "grid_gap": null,
            "max_width": null,
            "order": null,
            "_view_module_version": "1.2.0",
            "grid_template_areas": null,
            "object_position": null,
            "object_fit": null,
            "grid_auto_columns": null,
            "margin": null,
            "display": null,
            "left": null
          }
        },
        "a3a97e0696ce444ca1726b0310fbc317": {
          "model_module": "@jupyter-widgets/controls",
          "model_name": "DescriptionStyleModel",
          "state": {
            "_view_name": "StyleView",
            "_model_name": "DescriptionStyleModel",
            "description_width": "",
            "_view_module": "@jupyter-widgets/base",
            "_model_module_version": "1.5.0",
            "_view_count": null,
            "_view_module_version": "1.2.0",
            "_model_module": "@jupyter-widgets/controls"
          }
        },
        "7eb4a7de19a440dfaa1f0166d738b69e": {
          "model_module": "@jupyter-widgets/base",
          "model_name": "LayoutModel",
          "state": {
            "_view_name": "LayoutView",
            "grid_template_rows": null,
            "right": null,
            "justify_content": null,
            "_view_module": "@jupyter-widgets/base",
            "overflow": null,
            "_model_module_version": "1.2.0",
            "_view_count": null,
            "flex_flow": null,
            "width": null,
            "min_width": null,
            "border": null,
            "align_items": null,
            "bottom": null,
            "_model_module": "@jupyter-widgets/base",
            "top": null,
            "grid_column": null,
            "overflow_y": null,
            "overflow_x": null,
            "grid_auto_flow": null,
            "grid_area": null,
            "grid_template_columns": null,
            "flex": null,
            "_model_name": "LayoutModel",
            "justify_items": null,
            "grid_row": null,
            "max_height": null,
            "align_content": null,
            "visibility": null,
            "align_self": null,
            "height": null,
            "min_height": null,
            "padding": null,
            "grid_auto_rows": null,
            "grid_gap": null,
            "max_width": null,
            "order": null,
            "_view_module_version": "1.2.0",
            "grid_template_areas": null,
            "object_position": null,
            "object_fit": null,
            "grid_auto_columns": null,
            "margin": null,
            "display": null,
            "left": null
          }
        },
        "61550fc09ee54db5b22b42d4a2fb37da": {
          "model_module": "@jupyter-widgets/controls",
          "model_name": "HBoxModel",
          "state": {
            "_view_name": "HBoxView",
            "_dom_classes": [],
            "_model_name": "HBoxModel",
            "_view_module": "@jupyter-widgets/controls",
            "_model_module_version": "1.5.0",
            "_view_count": null,
            "_view_module_version": "1.5.0",
            "box_style": "",
            "layout": "IPY_MODEL_c4677a643e2846d1a7178a4275a0fafe",
            "_model_module": "@jupyter-widgets/controls",
            "children": [
              "IPY_MODEL_47bb8379eb9b4c018a20a8683ec373a9",
              "IPY_MODEL_b8ecc7163abc4fa88611ab5ed7e68553"
            ]
          }
        },
        "c4677a643e2846d1a7178a4275a0fafe": {
          "model_module": "@jupyter-widgets/base",
          "model_name": "LayoutModel",
          "state": {
            "_view_name": "LayoutView",
            "grid_template_rows": null,
            "right": null,
            "justify_content": null,
            "_view_module": "@jupyter-widgets/base",
            "overflow": null,
            "_model_module_version": "1.2.0",
            "_view_count": null,
            "flex_flow": null,
            "width": null,
            "min_width": null,
            "border": null,
            "align_items": null,
            "bottom": null,
            "_model_module": "@jupyter-widgets/base",
            "top": null,
            "grid_column": null,
            "overflow_y": null,
            "overflow_x": null,
            "grid_auto_flow": null,
            "grid_area": null,
            "grid_template_columns": null,
            "flex": null,
            "_model_name": "LayoutModel",
            "justify_items": null,
            "grid_row": null,
            "max_height": null,
            "align_content": null,
            "visibility": null,
            "align_self": null,
            "height": null,
            "min_height": null,
            "padding": null,
            "grid_auto_rows": null,
            "grid_gap": null,
            "max_width": null,
            "order": null,
            "_view_module_version": "1.2.0",
            "grid_template_areas": null,
            "object_position": null,
            "object_fit": null,
            "grid_auto_columns": null,
            "margin": null,
            "display": null,
            "left": null
          }
        },
        "47bb8379eb9b4c018a20a8683ec373a9": {
          "model_module": "@jupyter-widgets/controls",
          "model_name": "FloatProgressModel",
          "state": {
            "_view_name": "ProgressView",
            "style": "IPY_MODEL_18f6643406724abca649f2735f9accda",
            "_dom_classes": [],
            "description": "100%",
            "_model_name": "FloatProgressModel",
            "bar_style": "success",
            "max": 401,
            "_view_module": "@jupyter-widgets/controls",
            "_model_module_version": "1.5.0",
            "value": 401,
            "_view_count": null,
            "_view_module_version": "1.5.0",
            "orientation": "horizontal",
            "min": 0,
            "description_tooltip": null,
            "_model_module": "@jupyter-widgets/controls",
            "layout": "IPY_MODEL_68a509a9a84c4a6ab6a5ea91cc6830e6"
          }
        },
        "b8ecc7163abc4fa88611ab5ed7e68553": {
          "model_module": "@jupyter-widgets/controls",
          "model_name": "HTMLModel",
          "state": {
            "_view_name": "HTMLView",
            "style": "IPY_MODEL_4b77c52316a84e2eb5a9e0bea541d605",
            "_dom_classes": [],
            "description": "",
            "_model_name": "HTMLModel",
            "placeholder": "​",
            "_view_module": "@jupyter-widgets/controls",
            "_model_module_version": "1.5.0",
            "value": " 401/401 [00:00&lt;00:00, 2022.70it/s]",
            "_view_count": null,
            "_view_module_version": "1.5.0",
            "description_tooltip": null,
            "_model_module": "@jupyter-widgets/controls",
            "layout": "IPY_MODEL_4f1bac6dbcdc4181bdf951069b5eb5f5"
          }
        },
        "18f6643406724abca649f2735f9accda": {
          "model_module": "@jupyter-widgets/controls",
          "model_name": "ProgressStyleModel",
          "state": {
            "_view_name": "StyleView",
            "_model_name": "ProgressStyleModel",
            "description_width": "initial",
            "_view_module": "@jupyter-widgets/base",
            "_model_module_version": "1.5.0",
            "_view_count": null,
            "_view_module_version": "1.2.0",
            "bar_color": null,
            "_model_module": "@jupyter-widgets/controls"
          }
        },
        "68a509a9a84c4a6ab6a5ea91cc6830e6": {
          "model_module": "@jupyter-widgets/base",
          "model_name": "LayoutModel",
          "state": {
            "_view_name": "LayoutView",
            "grid_template_rows": null,
            "right": null,
            "justify_content": null,
            "_view_module": "@jupyter-widgets/base",
            "overflow": null,
            "_model_module_version": "1.2.0",
            "_view_count": null,
            "flex_flow": null,
            "width": null,
            "min_width": null,
            "border": null,
            "align_items": null,
            "bottom": null,
            "_model_module": "@jupyter-widgets/base",
            "top": null,
            "grid_column": null,
            "overflow_y": null,
            "overflow_x": null,
            "grid_auto_flow": null,
            "grid_area": null,
            "grid_template_columns": null,
            "flex": null,
            "_model_name": "LayoutModel",
            "justify_items": null,
            "grid_row": null,
            "max_height": null,
            "align_content": null,
            "visibility": null,
            "align_self": null,
            "height": null,
            "min_height": null,
            "padding": null,
            "grid_auto_rows": null,
            "grid_gap": null,
            "max_width": null,
            "order": null,
            "_view_module_version": "1.2.0",
            "grid_template_areas": null,
            "object_position": null,
            "object_fit": null,
            "grid_auto_columns": null,
            "margin": null,
            "display": null,
            "left": null
          }
        },
        "4b77c52316a84e2eb5a9e0bea541d605": {
          "model_module": "@jupyter-widgets/controls",
          "model_name": "DescriptionStyleModel",
          "state": {
            "_view_name": "StyleView",
            "_model_name": "DescriptionStyleModel",
            "description_width": "",
            "_view_module": "@jupyter-widgets/base",
            "_model_module_version": "1.5.0",
            "_view_count": null,
            "_view_module_version": "1.2.0",
            "_model_module": "@jupyter-widgets/controls"
          }
        },
        "4f1bac6dbcdc4181bdf951069b5eb5f5": {
          "model_module": "@jupyter-widgets/base",
          "model_name": "LayoutModel",
          "state": {
            "_view_name": "LayoutView",
            "grid_template_rows": null,
            "right": null,
            "justify_content": null,
            "_view_module": "@jupyter-widgets/base",
            "overflow": null,
            "_model_module_version": "1.2.0",
            "_view_count": null,
            "flex_flow": null,
            "width": null,
            "min_width": null,
            "border": null,
            "align_items": null,
            "bottom": null,
            "_model_module": "@jupyter-widgets/base",
            "top": null,
            "grid_column": null,
            "overflow_y": null,
            "overflow_x": null,
            "grid_auto_flow": null,
            "grid_area": null,
            "grid_template_columns": null,
            "flex": null,
            "_model_name": "LayoutModel",
            "justify_items": null,
            "grid_row": null,
            "max_height": null,
            "align_content": null,
            "visibility": null,
            "align_self": null,
            "height": null,
            "min_height": null,
            "padding": null,
            "grid_auto_rows": null,
            "grid_gap": null,
            "max_width": null,
            "order": null,
            "_view_module_version": "1.2.0",
            "grid_template_areas": null,
            "object_position": null,
            "object_fit": null,
            "grid_auto_columns": null,
            "margin": null,
            "display": null,
            "left": null
          }
        },
        "2369b324354d4271aaaf9b1dce5a908c": {
          "model_module": "@jupyter-widgets/controls",
          "model_name": "HBoxModel",
          "state": {
            "_view_name": "HBoxView",
            "_dom_classes": [],
            "_model_name": "HBoxModel",
            "_view_module": "@jupyter-widgets/controls",
            "_model_module_version": "1.5.0",
            "_view_count": null,
            "_view_module_version": "1.5.0",
            "box_style": "",
            "layout": "IPY_MODEL_3eec0f6f3f494f04b4ff6c13c3e843c8",
            "_model_module": "@jupyter-widgets/controls",
            "children": [
              "IPY_MODEL_d393e0c23bdb49f8b55fb20b7b4693e1",
              "IPY_MODEL_edd25ac94a3e49078633f2f1f3203424"
            ]
          }
        },
        "3eec0f6f3f494f04b4ff6c13c3e843c8": {
          "model_module": "@jupyter-widgets/base",
          "model_name": "LayoutModel",
          "state": {
            "_view_name": "LayoutView",
            "grid_template_rows": null,
            "right": null,
            "justify_content": null,
            "_view_module": "@jupyter-widgets/base",
            "overflow": null,
            "_model_module_version": "1.2.0",
            "_view_count": null,
            "flex_flow": null,
            "width": null,
            "min_width": null,
            "border": null,
            "align_items": null,
            "bottom": null,
            "_model_module": "@jupyter-widgets/base",
            "top": null,
            "grid_column": null,
            "overflow_y": null,
            "overflow_x": null,
            "grid_auto_flow": null,
            "grid_area": null,
            "grid_template_columns": null,
            "flex": null,
            "_model_name": "LayoutModel",
            "justify_items": null,
            "grid_row": null,
            "max_height": null,
            "align_content": null,
            "visibility": null,
            "align_self": null,
            "height": null,
            "min_height": null,
            "padding": null,
            "grid_auto_rows": null,
            "grid_gap": null,
            "max_width": null,
            "order": null,
            "_view_module_version": "1.2.0",
            "grid_template_areas": null,
            "object_position": null,
            "object_fit": null,
            "grid_auto_columns": null,
            "margin": null,
            "display": null,
            "left": null
          }
        },
        "d393e0c23bdb49f8b55fb20b7b4693e1": {
          "model_module": "@jupyter-widgets/controls",
          "model_name": "FloatProgressModel",
          "state": {
            "_view_name": "ProgressView",
            "style": "IPY_MODEL_edce8431cd9e499483b312bbfabe1b82",
            "_dom_classes": [],
            "description": "100%",
            "_model_name": "FloatProgressModel",
            "bar_style": "success",
            "max": 401,
            "_view_module": "@jupyter-widgets/controls",
            "_model_module_version": "1.5.0",
            "value": 401,
            "_view_count": null,
            "_view_module_version": "1.5.0",
            "orientation": "horizontal",
            "min": 0,
            "description_tooltip": null,
            "_model_module": "@jupyter-widgets/controls",
            "layout": "IPY_MODEL_3f6f14d6ae4c4a698352572f77047d9f"
          }
        },
        "edd25ac94a3e49078633f2f1f3203424": {
          "model_module": "@jupyter-widgets/controls",
          "model_name": "HTMLModel",
          "state": {
            "_view_name": "HTMLView",
            "style": "IPY_MODEL_4cd01633931a4c418c5cb11ff91d91e7",
            "_dom_classes": [],
            "description": "",
            "_model_name": "HTMLModel",
            "placeholder": "​",
            "_view_module": "@jupyter-widgets/controls",
            "_model_module_version": "1.5.0",
            "value": " 401/401 [00:00&lt;00:00, 1839.74it/s]",
            "_view_count": null,
            "_view_module_version": "1.5.0",
            "description_tooltip": null,
            "_model_module": "@jupyter-widgets/controls",
            "layout": "IPY_MODEL_52d78355599947798ad804e67b0ecbc9"
          }
        },
        "edce8431cd9e499483b312bbfabe1b82": {
          "model_module": "@jupyter-widgets/controls",
          "model_name": "ProgressStyleModel",
          "state": {
            "_view_name": "StyleView",
            "_model_name": "ProgressStyleModel",
            "description_width": "initial",
            "_view_module": "@jupyter-widgets/base",
            "_model_module_version": "1.5.0",
            "_view_count": null,
            "_view_module_version": "1.2.0",
            "bar_color": null,
            "_model_module": "@jupyter-widgets/controls"
          }
        },
        "3f6f14d6ae4c4a698352572f77047d9f": {
          "model_module": "@jupyter-widgets/base",
          "model_name": "LayoutModel",
          "state": {
            "_view_name": "LayoutView",
            "grid_template_rows": null,
            "right": null,
            "justify_content": null,
            "_view_module": "@jupyter-widgets/base",
            "overflow": null,
            "_model_module_version": "1.2.0",
            "_view_count": null,
            "flex_flow": null,
            "width": null,
            "min_width": null,
            "border": null,
            "align_items": null,
            "bottom": null,
            "_model_module": "@jupyter-widgets/base",
            "top": null,
            "grid_column": null,
            "overflow_y": null,
            "overflow_x": null,
            "grid_auto_flow": null,
            "grid_area": null,
            "grid_template_columns": null,
            "flex": null,
            "_model_name": "LayoutModel",
            "justify_items": null,
            "grid_row": null,
            "max_height": null,
            "align_content": null,
            "visibility": null,
            "align_self": null,
            "height": null,
            "min_height": null,
            "padding": null,
            "grid_auto_rows": null,
            "grid_gap": null,
            "max_width": null,
            "order": null,
            "_view_module_version": "1.2.0",
            "grid_template_areas": null,
            "object_position": null,
            "object_fit": null,
            "grid_auto_columns": null,
            "margin": null,
            "display": null,
            "left": null
          }
        },
        "4cd01633931a4c418c5cb11ff91d91e7": {
          "model_module": "@jupyter-widgets/controls",
          "model_name": "DescriptionStyleModel",
          "state": {
            "_view_name": "StyleView",
            "_model_name": "DescriptionStyleModel",
            "description_width": "",
            "_view_module": "@jupyter-widgets/base",
            "_model_module_version": "1.5.0",
            "_view_count": null,
            "_view_module_version": "1.2.0",
            "_model_module": "@jupyter-widgets/controls"
          }
        },
        "52d78355599947798ad804e67b0ecbc9": {
          "model_module": "@jupyter-widgets/base",
          "model_name": "LayoutModel",
          "state": {
            "_view_name": "LayoutView",
            "grid_template_rows": null,
            "right": null,
            "justify_content": null,
            "_view_module": "@jupyter-widgets/base",
            "overflow": null,
            "_model_module_version": "1.2.0",
            "_view_count": null,
            "flex_flow": null,
            "width": null,
            "min_width": null,
            "border": null,
            "align_items": null,
            "bottom": null,
            "_model_module": "@jupyter-widgets/base",
            "top": null,
            "grid_column": null,
            "overflow_y": null,
            "overflow_x": null,
            "grid_auto_flow": null,
            "grid_area": null,
            "grid_template_columns": null,
            "flex": null,
            "_model_name": "LayoutModel",
            "justify_items": null,
            "grid_row": null,
            "max_height": null,
            "align_content": null,
            "visibility": null,
            "align_self": null,
            "height": null,
            "min_height": null,
            "padding": null,
            "grid_auto_rows": null,
            "grid_gap": null,
            "max_width": null,
            "order": null,
            "_view_module_version": "1.2.0",
            "grid_template_areas": null,
            "object_position": null,
            "object_fit": null,
            "grid_auto_columns": null,
            "margin": null,
            "display": null,
            "left": null
          }
        },
        "6c358b81ae98466aa039d8528f3a9831": {
          "model_module": "@jupyter-widgets/controls",
          "model_name": "HBoxModel",
          "state": {
            "_view_name": "HBoxView",
            "_dom_classes": [],
            "_model_name": "HBoxModel",
            "_view_module": "@jupyter-widgets/controls",
            "_model_module_version": "1.5.0",
            "_view_count": null,
            "_view_module_version": "1.5.0",
            "box_style": "",
            "layout": "IPY_MODEL_b2481526f3f64e73b6f1a1ab86f6b323",
            "_model_module": "@jupyter-widgets/controls",
            "children": [
              "IPY_MODEL_ec52cde320634db391988c65212326d8",
              "IPY_MODEL_c414805ca09f44d4b8ca907d56512d53"
            ]
          }
        },
        "b2481526f3f64e73b6f1a1ab86f6b323": {
          "model_module": "@jupyter-widgets/base",
          "model_name": "LayoutModel",
          "state": {
            "_view_name": "LayoutView",
            "grid_template_rows": null,
            "right": null,
            "justify_content": null,
            "_view_module": "@jupyter-widgets/base",
            "overflow": null,
            "_model_module_version": "1.2.0",
            "_view_count": null,
            "flex_flow": null,
            "width": null,
            "min_width": null,
            "border": null,
            "align_items": null,
            "bottom": null,
            "_model_module": "@jupyter-widgets/base",
            "top": null,
            "grid_column": null,
            "overflow_y": null,
            "overflow_x": null,
            "grid_auto_flow": null,
            "grid_area": null,
            "grid_template_columns": null,
            "flex": null,
            "_model_name": "LayoutModel",
            "justify_items": null,
            "grid_row": null,
            "max_height": null,
            "align_content": null,
            "visibility": null,
            "align_self": null,
            "height": null,
            "min_height": null,
            "padding": null,
            "grid_auto_rows": null,
            "grid_gap": null,
            "max_width": null,
            "order": null,
            "_view_module_version": "1.2.0",
            "grid_template_areas": null,
            "object_position": null,
            "object_fit": null,
            "grid_auto_columns": null,
            "margin": null,
            "display": null,
            "left": null
          }
        },
        "ec52cde320634db391988c65212326d8": {
          "model_module": "@jupyter-widgets/controls",
          "model_name": "FloatProgressModel",
          "state": {
            "_view_name": "ProgressView",
            "style": "IPY_MODEL_5558eba6a9a34502890db4f5b150f068",
            "_dom_classes": [],
            "description": "Downloading: 100%",
            "_model_name": "FloatProgressModel",
            "bar_style": "success",
            "max": 963211760,
            "_view_module": "@jupyter-widgets/controls",
            "_model_module_version": "1.5.0",
            "value": 963211760,
            "_view_count": null,
            "_view_module_version": "1.5.0",
            "orientation": "horizontal",
            "min": 0,
            "description_tooltip": null,
            "_model_module": "@jupyter-widgets/controls",
            "layout": "IPY_MODEL_b01b43b38c344b839e9f6e8ef35378a9"
          }
        },
        "c414805ca09f44d4b8ca907d56512d53": {
          "model_module": "@jupyter-widgets/controls",
          "model_name": "HTMLModel",
          "state": {
            "_view_name": "HTMLView",
            "style": "IPY_MODEL_86dcbb8ec2254f178f911ffb7f327b7e",
            "_dom_classes": [],
            "description": "",
            "_model_name": "HTMLModel",
            "placeholder": "​",
            "_view_module": "@jupyter-widgets/controls",
            "_model_module_version": "1.5.0",
            "value": " 963M/963M [00:19&lt;00:00, 48.2MB/s]",
            "_view_count": null,
            "_view_module_version": "1.5.0",
            "description_tooltip": null,
            "_model_module": "@jupyter-widgets/controls",
            "layout": "IPY_MODEL_de624bca1aab496e8f35f29e37793e8f"
          }
        },
        "5558eba6a9a34502890db4f5b150f068": {
          "model_module": "@jupyter-widgets/controls",
          "model_name": "ProgressStyleModel",
          "state": {
            "_view_name": "StyleView",
            "_model_name": "ProgressStyleModel",
            "description_width": "initial",
            "_view_module": "@jupyter-widgets/base",
            "_model_module_version": "1.5.0",
            "_view_count": null,
            "_view_module_version": "1.2.0",
            "bar_color": null,
            "_model_module": "@jupyter-widgets/controls"
          }
        },
        "b01b43b38c344b839e9f6e8ef35378a9": {
          "model_module": "@jupyter-widgets/base",
          "model_name": "LayoutModel",
          "state": {
            "_view_name": "LayoutView",
            "grid_template_rows": null,
            "right": null,
            "justify_content": null,
            "_view_module": "@jupyter-widgets/base",
            "overflow": null,
            "_model_module_version": "1.2.0",
            "_view_count": null,
            "flex_flow": null,
            "width": null,
            "min_width": null,
            "border": null,
            "align_items": null,
            "bottom": null,
            "_model_module": "@jupyter-widgets/base",
            "top": null,
            "grid_column": null,
            "overflow_y": null,
            "overflow_x": null,
            "grid_auto_flow": null,
            "grid_area": null,
            "grid_template_columns": null,
            "flex": null,
            "_model_name": "LayoutModel",
            "justify_items": null,
            "grid_row": null,
            "max_height": null,
            "align_content": null,
            "visibility": null,
            "align_self": null,
            "height": null,
            "min_height": null,
            "padding": null,
            "grid_auto_rows": null,
            "grid_gap": null,
            "max_width": null,
            "order": null,
            "_view_module_version": "1.2.0",
            "grid_template_areas": null,
            "object_position": null,
            "object_fit": null,
            "grid_auto_columns": null,
            "margin": null,
            "display": null,
            "left": null
          }
        },
        "86dcbb8ec2254f178f911ffb7f327b7e": {
          "model_module": "@jupyter-widgets/controls",
          "model_name": "DescriptionStyleModel",
          "state": {
            "_view_name": "StyleView",
            "_model_name": "DescriptionStyleModel",
            "description_width": "",
            "_view_module": "@jupyter-widgets/base",
            "_model_module_version": "1.5.0",
            "_view_count": null,
            "_view_module_version": "1.2.0",
            "_model_module": "@jupyter-widgets/controls"
          }
        },
        "de624bca1aab496e8f35f29e37793e8f": {
          "model_module": "@jupyter-widgets/base",
          "model_name": "LayoutModel",
          "state": {
            "_view_name": "LayoutView",
            "grid_template_rows": null,
            "right": null,
            "justify_content": null,
            "_view_module": "@jupyter-widgets/base",
            "overflow": null,
            "_model_module_version": "1.2.0",
            "_view_count": null,
            "flex_flow": null,
            "width": null,
            "min_width": null,
            "border": null,
            "align_items": null,
            "bottom": null,
            "_model_module": "@jupyter-widgets/base",
            "top": null,
            "grid_column": null,
            "overflow_y": null,
            "overflow_x": null,
            "grid_auto_flow": null,
            "grid_area": null,
            "grid_template_columns": null,
            "flex": null,
            "_model_name": "LayoutModel",
            "justify_items": null,
            "grid_row": null,
            "max_height": null,
            "align_content": null,
            "visibility": null,
            "align_self": null,
            "height": null,
            "min_height": null,
            "padding": null,
            "grid_auto_rows": null,
            "grid_gap": null,
            "max_width": null,
            "order": null,
            "_view_module_version": "1.2.0",
            "grid_template_areas": null,
            "object_position": null,
            "object_fit": null,
            "grid_auto_columns": null,
            "margin": null,
            "display": null,
            "left": null
          }
        }
      }
    }
  },
  "cells": [
    {
      "cell_type": "markdown",
      "metadata": {
        "id": "2aE0LqIWukiw"
      },
      "source": [
        "<div dir=\"rtl\">\n",
        "این فایل اولیه است و همه پیش پردازش ها روش انجام شده: \n",
        "تعداد کلمه های ر کامنت بدست اومده\n",
        "کامنت های ۲ کلمه ای و کمتر حدود ۹۶ تا بوده که حذف شده چون بیش از ۹۹ درصد کامنت ها بین ۲ تا ۲۵۶ کلمه داشتن\n",
        "\n",
        "کامنت های خنثی حذف شده\n",
        "بعد رندوم از کامنت‌های مثبت به تعداد منفی‌های انتخاب شده و بقیه حذف شده تا دیتاست مجدد بالانس بشه\n",
        "رکوردها شافل شدن که بهم بریزه و به ترتیب نباشه رکوردها\n",
        "بعد داده ها به تست و ولید و ترین شکسته شدن\n",
        "بعد برای مدل ها آماده سازی و ترین شده و تست شده هر مدل\n",
        "\n",
        "اینجا ایپوک ۳ و ماکس سایز ۱۲۸ هست\n",
        "و ورژن پارس بر استفاده شده ۲ هست، سه نذاشتم هنوز\n",
        "</div>"
      ]
    },
    {
      "cell_type": "markdown",
      "metadata": {
        "id": "dOmc4dkPt22h"
      },
      "source": [
        "# Introducing ParsBERT:\n",
        "**ParsBERT (Transformer-based Model for Persian Language Understanding)** Is a monolingual language model based on Google's BERT architecture. This model is pre-trained on large Persian corpora with various writing styles from numerous subjects (e.g., scientific, novels, news, ...) with more than 3.9M documents, 73M sentences, and 1.3B words.\n",
        "\n",
        "## Evaluation\n",
        "\n",
        "ParsBERT is evaluated on three NLP downstream tasks: Sentiment Analysis (SA), Text Classification, and Named Entity Recognition (NER). \n",
        "\n",
        "ParsBERT outperformed all other language models, including multilingual BERT and other hybrid deep learning models for all tasks, improving the state-of-the-art performance in Persian language modeling.\n",
        "\n",
        "## Results\n",
        "\n",
        "The following table summarizes the F1 score obtained by ParsBERT V2.0 as compared to other models and architectures.\n",
        "\n",
        "\n",
        "\n",
        "### Sentiment Analysis (SA) task\n",
        "\n",
        "|           Dataset          |  ParsBERT | mBERT | DeepSentiPers |\n",
        "|:--------------------------:|:---------:|:-----:|:-------------:|\n",
        "|   Digikala User Comments   |   81.74*  | 80.74 |       -       |\n",
        "|   SnappFood User Comments  |   88.12*  | 87.87 |       -       |\n",
        "|   SentiPers (Multi Class)  |   71.11*  |   -   |     69.33     |\n",
        "|  SentiPers (Binary Class)  |   92.13*  |   -   |     91.98     |\n",
        "\n",
        "Paper presenting ParsBERT: [arXiv:2005.12515](https://arxiv.org/abs/2005.12515)\n",
        "\n",
        "\n",
        "\n"
      ]
    },
    {
      "cell_type": "markdown",
      "metadata": {
        "id": "700YHK7gXA_4"
      },
      "source": [
        "# what are we going to do in our project?\n",
        "***Bulid a SA Binary classification for DeepSentiPers using ParsBERT*** wich is a Transformer-based Model for Persian Language Understanding\n"
      ]
    },
    {
      "cell_type": "markdown",
      "metadata": {
        "id": "bOZRJxD4yjN1"
      },
      "source": [
        "# Preparing System"
      ]
    },
    {
      "cell_type": "markdown",
      "metadata": {
        "id": "7tJiFIDMyvy-"
      },
      "source": [
        "## check GPU\n",
        "\n",
        "A GPU can be added by going to the menu and selecting one of the falowing 2:\n",
        "\n",
        "  1- Edit 🡒 Notebook Settings 🡒 Hardware accelerator 🡒 (GPU)\n",
        "  <br/>\n",
        "  2- Runtime 🡒  change runtime type 🡒 Hardware accelerator 🡒 (GPU)"
      ]
    },
    {
      "cell_type": "code",
      "metadata": {
        "colab": {
          "base_uri": "https://localhost:8080/"
        },
        "id": "NST8XTKswGGx",
        "outputId": "ca25e8ff-1a80-4216-8e82-74af383538f0"
      },
      "source": [
        "#The NVIDIA System Management Interface (nvidia-smi) is a command line utility, \n",
        "# intended to aid in the management and monitoring of NVIDIA GPU devices. \n",
        "!nvidia-smi "
      ],
      "execution_count": null,
      "outputs": [
        {
          "output_type": "stream",
          "text": [
            "Thu Jul  8 08:20:08 2021       \n",
            "+-----------------------------------------------------------------------------+\n",
            "| NVIDIA-SMI 470.42.01    Driver Version: 460.32.03    CUDA Version: 11.2     |\n",
            "|-------------------------------+----------------------+----------------------+\n",
            "| GPU  Name        Persistence-M| Bus-Id        Disp.A | Volatile Uncorr. ECC |\n",
            "| Fan  Temp  Perf  Pwr:Usage/Cap|         Memory-Usage | GPU-Util  Compute M. |\n",
            "|                               |                      |               MIG M. |\n",
            "|===============================+======================+======================|\n",
            "|   0  Tesla K80           Off  | 00000000:00:04.0 Off |                    0 |\n",
            "| N/A   52C    P8    31W / 149W |      0MiB / 11441MiB |      0%      Default |\n",
            "|                               |                      |                  N/A |\n",
            "+-------------------------------+----------------------+----------------------+\n",
            "                                                                               \n",
            "+-----------------------------------------------------------------------------+\n",
            "| Processes:                                                                  |\n",
            "|  GPU   GI   CI        PID   Type   Process name                  GPU Memory |\n",
            "|        ID   ID                                                   Usage      |\n",
            "|=============================================================================|\n",
            "|  No running processes found                                                 |\n",
            "+-----------------------------------------------------------------------------+\n"
          ],
          "name": "stdout"
        }
      ]
    },
    {
      "cell_type": "markdown",
      "metadata": {
        "id": "sw4kYH2HygE_"
      },
      "source": [
        "## Install required packages"
      ]
    },
    {
      "cell_type": "code",
      "metadata": {
        "id": "5g0lGX5uy7EG",
        "colab": {
          "base_uri": "https://localhost:8080/"
        },
        "outputId": "c37b4270-b5f8-4f81-e0ed-932409fe80e4"
      },
      "source": [
        "!pip install -q transformers==3\n",
        "!pip install -q hazm\n",
        "!pip install -q clean-text[gpl]"
      ],
      "execution_count": null,
      "outputs": [
        {
          "output_type": "stream",
          "text": [
            "\u001b[K     |████████████████████████████████| 757kB 9.4MB/s \n",
            "\u001b[K     |████████████████████████████████| 3.0MB 38.8MB/s \n",
            "\u001b[K     |████████████████████████████████| 901kB 38.3MB/s \n",
            "\u001b[K     |████████████████████████████████| 1.2MB 36.5MB/s \n",
            "\u001b[K     |████████████████████████████████| 317kB 13.4MB/s \n",
            "\u001b[K     |████████████████████████████████| 235kB 43.0MB/s \n",
            "\u001b[K     |████████████████████████████████| 1.4MB 29.8MB/s \n",
            "\u001b[?25h  Building wheel for libwapiti (setup.py) ... \u001b[?25l\u001b[?25hdone\n",
            "  Building wheel for nltk (setup.py) ... \u001b[?25l\u001b[?25hdone\n",
            "\u001b[K     |████████████████████████████████| 71kB 6.8MB/s \n",
            "\u001b[K     |████████████████████████████████| 133kB 25.4MB/s \n",
            "\u001b[K     |████████████████████████████████| 245kB 37.0MB/s \n",
            "\u001b[?25h  Building wheel for ftfy (setup.py) ... \u001b[?25l\u001b[?25hdone\n"
          ],
          "name": "stdout"
        }
      ]
    },
    {
      "cell_type": "markdown",
      "metadata": {
        "id": "tGGK1DeyzQdp"
      },
      "source": [
        "## Import required packages"
      ]
    },
    {
      "cell_type": "code",
      "metadata": {
        "id": "WQf66HJFzUcF"
      },
      "source": [
        "import numpy as np\n",
        "import pandas as pd\n",
        "\n",
        "from sklearn.model_selection import train_test_split\n",
        "from sklearn.metrics import classification_report\n",
        "from sklearn.metrics import f1_score\n",
        "from sklearn.utils import shuffle\n",
        "\n",
        "import hazm\n",
        "from cleantext import clean\n",
        "\n",
        "import plotly.express as px\n",
        "import plotly.graph_objects as go\n",
        "import matplotlib.pyplot as plt\n",
        "\n",
        "from tqdm.notebook import tqdm\n",
        "\n",
        "import requests\n",
        "import os\n",
        "import io\n",
        "import re\n",
        "import json\n",
        "import copy\n",
        "import collections"
      ],
      "execution_count": null,
      "outputs": []
    },
    {
      "cell_type": "markdown",
      "metadata": {
        "id": "XGXU4G0S1Grw"
      },
      "source": [
        "# Dataset\n",
        "\n",
        "We are going to use [DeepSentiPers Dataset](https://github.com/JoyeBright/DeepSentiPers/tree/master/Dataset) from our base articale whici is presented on class. called [DeepSentiPers: Novel Deep Learning Models Trained Over Proposed Augmented Persian Sentiment Corpus](file:///C:/MCs/0_Term-03/KnowledgeBaseManagement/DeepSentiPers/DeepSentiPers_Art.pdf).\n",
        "They proposed  2 Augmentated balanced dataset as \"Balanced\" and \"Translation\". We used both for our model apart and combine them as \"BT Ds\" without duplicate records, wich is use in this file.\n",
        "<table style=\"width:100%\">\n",
        "  <tr>\n",
        "    <th>Polarity</th>\n",
        "    <th>-2</th>\n",
        "    <th>-1</th>\n",
        "    <th>0</th>\n",
        "    <th>+1</th>\n",
        "    <th>+2</th>\n",
        "  </tr>\n",
        "  <tr>\n",
        "    <td>Original (SentiPers) DS</td>\n",
        "    <td>28</td>\n",
        "    <td>513</td>\n",
        "    <td>2409</td>\n",
        "    <td>1623</td>\n",
        "    <td>988</td>\n",
        "  </tr>\n",
        "    <tr>\n",
        "    <td>Balanced DS</td>\n",
        "    <td>158</td>\n",
        "    <td>937</td>\n",
        "    <td>2000</td>\n",
        "    <td>2000</td>\n",
        "    <td>1928</td>\n",
        "  </tr>\n",
        "    <tr>\n",
        "    <td>Translation DS</td>\n",
        "    <td>56</td>\n",
        "    <td>1026</td>\n",
        "    <td>4818</td>\n",
        "    <td>3246</td>\n",
        "    <td>1976</td>\n",
        "  </tr>\n",
        "    <tr>\n",
        "    <td>BT DS</td>\n",
        "    <td>299</td>\n",
        "    <td>1706</td>\n",
        "    <td>3661</td>\n",
        "    <td>3667</td>\n",
        "    <td>3277</td>\n",
        "  </tr>\n",
        "</table>\n",
        "\n"
      ]
    },
    {
      "cell_type": "markdown",
      "metadata": {
        "id": "Ro4v3Wr2RX4q"
      },
      "source": [
        "## Load"
      ]
    },
    {
      "cell_type": "code",
      "metadata": {
        "colab": {
          "base_uri": "https://localhost:8080/"
        },
        "id": "TLTJPAHM1ItB",
        "outputId": "3d0966a9-554b-4586-e202-5d203a96e6f6"
      },
      "source": [
        "# Loading a Balanced Ds csv file from GitHub\n",
        "url = \"https://raw.githubusercontent.com/JoyeBright/DeepSentiPers/master/Dataset/balanced.csv\" \n",
        "download = requests.get(url).content\n",
        "\n",
        "# Reading the downloaded content and turning it into a pandas dataframe\n",
        "B_data = pd.read_csv(io.StringIO(download.decode('utf-8')))\n",
        "B_data.set_axis(['comment', 'rate'], axis='columns', inplace=True)\n",
        "\n",
        "# Printing out the first 5 rows of the dataframe\n",
        "print('The first 5 rows of the dataset: \\n', B_data.head())\n",
        "\n",
        "# print data information\n",
        "print('\\n ________________________________________ \\n\\n'\n",
        "  'Data information:\\n')\n",
        "B_data.info()"
      ],
      "execution_count": null,
      "outputs": [
        {
          "output_type": "stream",
          "text": [
            "The first 5 rows of the dataset: \n",
            "                                              comment  rate\n",
            "0  کارت‌های حافظه ای که معمولا بر روی گوشی‌های هو...     0\n",
            "1  اندازه رزولوشن نمایشگر iPod دقیقا همانند iPhon...     0\n",
            "2  اما صفحه نمایش دوربین فیلمبرداری JVC GZ-MG335،...     0\n",
            "3  نهایتا، بر روی قاب پشتی گوشی نیز، دوربین به هم...     0\n",
            "4  ایسوس در پایین این گوشی یک پورت ترکیبی قرار دا...     0\n",
            "\n",
            " ________________________________________ \n",
            "\n",
            "Data information:\n",
            "\n",
            "<class 'pandas.core.frame.DataFrame'>\n",
            "RangeIndex: 7022 entries, 0 to 7021\n",
            "Data columns (total 2 columns):\n",
            " #   Column   Non-Null Count  Dtype \n",
            "---  ------   --------------  ----- \n",
            " 0   comment  7022 non-null   object\n",
            " 1   rate     7022 non-null   int64 \n",
            "dtypes: int64(1), object(1)\n",
            "memory usage: 109.8+ KB\n"
          ],
          "name": "stdout"
        }
      ]
    },
    {
      "cell_type": "code",
      "metadata": {
        "colab": {
          "base_uri": "https://localhost:8080/"
        },
        "id": "klc0Wz-_zIic",
        "outputId": "15206410-a8c3-49a3-a17e-cb6971747e24"
      },
      "source": [
        "# Loading a Translation DS csv file from GitHub\n",
        "url = \"https://raw.githubusercontent.com/JoyeBright/DeepSentiPers/master/Dataset/translation.csv\" \n",
        "download = requests.get(url).content\n",
        "\n",
        "T_data = pd.read_csv(io.StringIO(download.decode('utf-8')))\n",
        "T_data.set_axis(['comment', 'rate'], axis='columns', inplace=True)\n",
        "\n",
        "print('The first 5 rows of the dataset: \\n', T_data.head())\n",
        "print('\\n ________________________________________ \\n\\n'\n",
        "  'Data information:\\n')\n",
        "T_data.info()"
      ],
      "execution_count": null,
      "outputs": [
        {
          "output_type": "stream",
          "text": [
            "The first 5 rows of the dataset: \n",
            "                                              comment  rate\n",
            "0  کارتهای حافظه معمولاً در تلفنهای همراه به جای ...     0\n",
            "1          وضوح نمایشگر iPod دقیقاً مشابه آیفون است.     0\n",
            "2  اما صفحه نمایش JVC GZ-MG335 از نوع TFT 2.7 این...     0\n",
            "3  سرانجام ، در پشت گوشی ، دوربین از یک فلاش بلند...     0\n",
            "4  در انتهای گوشی ، ایسوس درگاهی را به نام MHL قر...     0\n",
            "\n",
            " ________________________________________ \n",
            "\n",
            "Data information:\n",
            "\n",
            "<class 'pandas.core.frame.DataFrame'>\n",
            "RangeIndex: 14045 entries, 0 to 14044\n",
            "Data columns (total 2 columns):\n",
            " #   Column   Non-Null Count  Dtype \n",
            "---  ------   --------------  ----- \n",
            " 0   comment  14045 non-null  object\n",
            " 1   rate     14045 non-null  int64 \n",
            "dtypes: int64(1), object(1)\n",
            "memory usage: 219.6+ KB\n"
          ],
          "name": "stdout"
        }
      ]
    },
    {
      "cell_type": "markdown",
      "metadata": {
        "id": "dB7k6h66t5vX"
      },
      "source": [
        "## Combine 2 datasets and remolve dublicate\n"
      ]
    },
    {
      "cell_type": "code",
      "metadata": {
        "colab": {
          "base_uri": "https://localhost:8080/"
        },
        "id": "4TkLdqXX0brS",
        "outputId": "e6794774-e7a0-47c9-e66a-d014a789cded"
      },
      "source": [
        "# Combine 2 datasets:\n",
        "data = pd.concat([B_data, T_data])\n",
        "\n",
        "data.info()"
      ],
      "execution_count": null,
      "outputs": [
        {
          "output_type": "stream",
          "text": [
            "<class 'pandas.core.frame.DataFrame'>\n",
            "Int64Index: 21067 entries, 0 to 14044\n",
            "Data columns (total 2 columns):\n",
            " #   Column   Non-Null Count  Dtype \n",
            "---  ------   --------------  ----- \n",
            " 0   comment  21067 non-null  object\n",
            " 1   rate     21067 non-null  int64 \n",
            "dtypes: int64(1), object(1)\n",
            "memory usage: 493.8+ KB\n"
          ],
          "name": "stdout"
        }
      ]
    },
    {
      "cell_type": "code",
      "metadata": {
        "colab": {
          "base_uri": "https://localhost:8080/"
        },
        "id": "Wb10W7l5aY5_",
        "outputId": "0cda36db-e13f-47f6-c622-d59016b773ef"
      },
      "source": [
        "# Remolve dublicate:\n",
        "data = data.drop_duplicates(subset=['comment'])\n",
        "print('The BT Ds information: \\n')\n",
        "data.info()\n",
        "\n",
        "# Printing out the first 5 rows of the dataframe\n",
        "print('\\n -----------------------------------------------------\\n'\n",
        "      'The first 5 rows of the dataset: \\n', data.head())"
      ],
      "execution_count": null,
      "outputs": [
        {
          "output_type": "stream",
          "text": [
            "The BT Ds information: \n",
            "\n",
            "<class 'pandas.core.frame.DataFrame'>\n",
            "Int64Index: 12610 entries, 0 to 7021\n",
            "Data columns (total 2 columns):\n",
            " #   Column   Non-Null Count  Dtype \n",
            "---  ------   --------------  ----- \n",
            " 0   comment  12610 non-null  object\n",
            " 1   rate     12610 non-null  int64 \n",
            "dtypes: int64(1), object(1)\n",
            "memory usage: 295.5+ KB\n",
            "\n",
            " -----------------------------------------------------\n",
            "The first 5 rows of the dataset: \n",
            "                                              comment  rate\n",
            "0  کارت‌های حافظه ای که معمولا بر روی گوشی‌های هو...     0\n",
            "1  اندازه رزولوشن نمایشگر iPod دقیقا همانند iPhon...     0\n",
            "2  اما صفحه نمایش دوربین فیلمبرداری JVC GZ-MG335،...     0\n",
            "3  نهایتا، بر روی قاب پشتی گوشی نیز، دوربین به هم...     0\n",
            "4  ایسوس در پایین این گوشی یک پورت ترکیبی قرار دا...     0\n"
          ],
          "name": "stdout"
        }
      ]
    },
    {
      "cell_type": "code",
      "metadata": {
        "colab": {
          "base_uri": "https://localhost:8080/",
          "height": 542
        },
        "id": "cper3CEIu1Fk",
        "outputId": "ef425991-35c2-4c3b-8569-247659ed15b6"
      },
      "source": [
        "fig = go.Figure()\n",
        "\n",
        "BT_groupby_rate = data.groupby('rate')['rate'].count()\n",
        "\n",
        "fig.add_trace(go.Bar(\n",
        "    x=list(sorted(BT_groupby_rate.index)),\n",
        "    y=BT_groupby_rate.tolist(),\n",
        "    text=BT_groupby_rate.tolist(),\n",
        "    textposition='auto'\n",
        "))\n",
        "\n",
        "fig.update_layout(\n",
        "    title_text='Distribution of rate within comments in BT DS',\n",
        "    xaxis_title_text='Rate',\n",
        "    yaxis_title_text='Frequency',\n",
        "    bargap=0.2,\n",
        "    bargroupgap=0.2)\n",
        "\n",
        "fig.show()"
      ],
      "execution_count": null,
      "outputs": [
        {
          "output_type": "display_data",
          "data": {
            "text/html": [
              "<html>\n",
              "<head><meta charset=\"utf-8\" /></head>\n",
              "<body>\n",
              "    <div>\n",
              "            <script src=\"https://cdnjs.cloudflare.com/ajax/libs/mathjax/2.7.5/MathJax.js?config=TeX-AMS-MML_SVG\"></script><script type=\"text/javascript\">if (window.MathJax) {MathJax.Hub.Config({SVG: {font: \"STIX-Web\"}});}</script>\n",
              "                <script type=\"text/javascript\">window.PlotlyConfig = {MathJaxConfig: 'local'};</script>\n",
              "        <script src=\"https://cdn.plot.ly/plotly-latest.min.js\"></script>    \n",
              "            <div id=\"da1f5ae5-2d22-4416-a096-1e82262abb22\" class=\"plotly-graph-div\" style=\"height:525px; width:100%;\"></div>\n",
              "            <script type=\"text/javascript\">\n",
              "                \n",
              "                    window.PLOTLYENV=window.PLOTLYENV || {};\n",
              "                    \n",
              "                if (document.getElementById(\"da1f5ae5-2d22-4416-a096-1e82262abb22\")) {\n",
              "                    Plotly.newPlot(\n",
              "                        'da1f5ae5-2d22-4416-a096-1e82262abb22',\n",
              "                        [{\"text\": [\"299\", \"1706\", \"3661\", \"3667\", \"3277\"], \"textposition\": \"auto\", \"type\": \"bar\", \"x\": [-2, -1, 0, 1, 2], \"y\": [299, 1706, 3661, 3667, 3277]}],\n",
              "                        {\"bargap\": 0.2, \"bargroupgap\": 0.2, \"template\": {\"data\": {\"bar\": [{\"error_x\": {\"color\": \"#2a3f5f\"}, \"error_y\": {\"color\": \"#2a3f5f\"}, \"marker\": {\"line\": {\"color\": \"#E5ECF6\", \"width\": 0.5}}, \"type\": \"bar\"}], \"barpolar\": [{\"marker\": {\"line\": {\"color\": \"#E5ECF6\", \"width\": 0.5}}, \"type\": \"barpolar\"}], \"carpet\": [{\"aaxis\": {\"endlinecolor\": \"#2a3f5f\", \"gridcolor\": \"white\", \"linecolor\": \"white\", \"minorgridcolor\": \"white\", \"startlinecolor\": \"#2a3f5f\"}, \"baxis\": {\"endlinecolor\": \"#2a3f5f\", \"gridcolor\": \"white\", \"linecolor\": \"white\", \"minorgridcolor\": \"white\", \"startlinecolor\": \"#2a3f5f\"}, \"type\": \"carpet\"}], \"choropleth\": [{\"colorbar\": {\"outlinewidth\": 0, \"ticks\": \"\"}, \"type\": \"choropleth\"}], \"contour\": [{\"colorbar\": {\"outlinewidth\": 0, \"ticks\": \"\"}, \"colorscale\": [[0.0, \"#0d0887\"], [0.1111111111111111, \"#46039f\"], [0.2222222222222222, \"#7201a8\"], [0.3333333333333333, \"#9c179e\"], [0.4444444444444444, \"#bd3786\"], [0.5555555555555556, \"#d8576b\"], [0.6666666666666666, \"#ed7953\"], [0.7777777777777778, \"#fb9f3a\"], [0.8888888888888888, \"#fdca26\"], [1.0, \"#f0f921\"]], \"type\": \"contour\"}], \"contourcarpet\": [{\"colorbar\": {\"outlinewidth\": 0, \"ticks\": \"\"}, \"type\": \"contourcarpet\"}], \"heatmap\": [{\"colorbar\": {\"outlinewidth\": 0, \"ticks\": \"\"}, \"colorscale\": [[0.0, \"#0d0887\"], [0.1111111111111111, \"#46039f\"], [0.2222222222222222, \"#7201a8\"], [0.3333333333333333, \"#9c179e\"], [0.4444444444444444, \"#bd3786\"], [0.5555555555555556, \"#d8576b\"], [0.6666666666666666, \"#ed7953\"], [0.7777777777777778, \"#fb9f3a\"], [0.8888888888888888, \"#fdca26\"], [1.0, \"#f0f921\"]], \"type\": \"heatmap\"}], \"heatmapgl\": [{\"colorbar\": {\"outlinewidth\": 0, \"ticks\": \"\"}, \"colorscale\": [[0.0, \"#0d0887\"], [0.1111111111111111, \"#46039f\"], [0.2222222222222222, \"#7201a8\"], [0.3333333333333333, \"#9c179e\"], [0.4444444444444444, \"#bd3786\"], [0.5555555555555556, \"#d8576b\"], [0.6666666666666666, \"#ed7953\"], [0.7777777777777778, \"#fb9f3a\"], [0.8888888888888888, \"#fdca26\"], [1.0, \"#f0f921\"]], \"type\": \"heatmapgl\"}], \"histogram\": [{\"marker\": {\"colorbar\": {\"outlinewidth\": 0, \"ticks\": \"\"}}, \"type\": \"histogram\"}], \"histogram2d\": [{\"colorbar\": {\"outlinewidth\": 0, \"ticks\": \"\"}, \"colorscale\": [[0.0, \"#0d0887\"], [0.1111111111111111, \"#46039f\"], [0.2222222222222222, \"#7201a8\"], [0.3333333333333333, \"#9c179e\"], [0.4444444444444444, \"#bd3786\"], [0.5555555555555556, \"#d8576b\"], [0.6666666666666666, \"#ed7953\"], [0.7777777777777778, \"#fb9f3a\"], [0.8888888888888888, \"#fdca26\"], [1.0, \"#f0f921\"]], \"type\": \"histogram2d\"}], \"histogram2dcontour\": [{\"colorbar\": {\"outlinewidth\": 0, \"ticks\": \"\"}, \"colorscale\": [[0.0, \"#0d0887\"], [0.1111111111111111, \"#46039f\"], [0.2222222222222222, \"#7201a8\"], [0.3333333333333333, \"#9c179e\"], [0.4444444444444444, \"#bd3786\"], [0.5555555555555556, \"#d8576b\"], [0.6666666666666666, \"#ed7953\"], [0.7777777777777778, \"#fb9f3a\"], [0.8888888888888888, \"#fdca26\"], [1.0, \"#f0f921\"]], \"type\": \"histogram2dcontour\"}], \"mesh3d\": [{\"colorbar\": {\"outlinewidth\": 0, \"ticks\": \"\"}, \"type\": \"mesh3d\"}], \"parcoords\": [{\"line\": {\"colorbar\": {\"outlinewidth\": 0, \"ticks\": \"\"}}, \"type\": \"parcoords\"}], \"pie\": [{\"automargin\": true, \"type\": \"pie\"}], \"scatter\": [{\"marker\": {\"colorbar\": {\"outlinewidth\": 0, \"ticks\": \"\"}}, \"type\": \"scatter\"}], \"scatter3d\": [{\"line\": {\"colorbar\": {\"outlinewidth\": 0, \"ticks\": \"\"}}, \"marker\": {\"colorbar\": {\"outlinewidth\": 0, \"ticks\": \"\"}}, \"type\": \"scatter3d\"}], \"scattercarpet\": [{\"marker\": {\"colorbar\": {\"outlinewidth\": 0, \"ticks\": \"\"}}, \"type\": \"scattercarpet\"}], \"scattergeo\": [{\"marker\": {\"colorbar\": {\"outlinewidth\": 0, \"ticks\": \"\"}}, \"type\": \"scattergeo\"}], \"scattergl\": [{\"marker\": {\"colorbar\": {\"outlinewidth\": 0, \"ticks\": \"\"}}, \"type\": \"scattergl\"}], \"scattermapbox\": [{\"marker\": {\"colorbar\": {\"outlinewidth\": 0, \"ticks\": \"\"}}, \"type\": \"scattermapbox\"}], \"scatterpolar\": [{\"marker\": {\"colorbar\": {\"outlinewidth\": 0, \"ticks\": \"\"}}, \"type\": \"scatterpolar\"}], \"scatterpolargl\": [{\"marker\": {\"colorbar\": {\"outlinewidth\": 0, \"ticks\": \"\"}}, \"type\": \"scatterpolargl\"}], \"scatterternary\": [{\"marker\": {\"colorbar\": {\"outlinewidth\": 0, \"ticks\": \"\"}}, \"type\": \"scatterternary\"}], \"surface\": [{\"colorbar\": {\"outlinewidth\": 0, \"ticks\": \"\"}, \"colorscale\": [[0.0, \"#0d0887\"], [0.1111111111111111, \"#46039f\"], [0.2222222222222222, \"#7201a8\"], [0.3333333333333333, \"#9c179e\"], [0.4444444444444444, \"#bd3786\"], [0.5555555555555556, \"#d8576b\"], [0.6666666666666666, \"#ed7953\"], [0.7777777777777778, \"#fb9f3a\"], [0.8888888888888888, \"#fdca26\"], [1.0, \"#f0f921\"]], \"type\": \"surface\"}], \"table\": [{\"cells\": {\"fill\": {\"color\": \"#EBF0F8\"}, \"line\": {\"color\": \"white\"}}, \"header\": {\"fill\": {\"color\": \"#C8D4E3\"}, \"line\": {\"color\": \"white\"}}, \"type\": \"table\"}]}, \"layout\": {\"annotationdefaults\": {\"arrowcolor\": \"#2a3f5f\", \"arrowhead\": 0, \"arrowwidth\": 1}, \"coloraxis\": {\"colorbar\": {\"outlinewidth\": 0, \"ticks\": \"\"}}, \"colorscale\": {\"diverging\": [[0, \"#8e0152\"], [0.1, \"#c51b7d\"], [0.2, \"#de77ae\"], [0.3, \"#f1b6da\"], [0.4, \"#fde0ef\"], [0.5, \"#f7f7f7\"], [0.6, \"#e6f5d0\"], [0.7, \"#b8e186\"], [0.8, \"#7fbc41\"], [0.9, \"#4d9221\"], [1, \"#276419\"]], \"sequential\": [[0.0, \"#0d0887\"], [0.1111111111111111, \"#46039f\"], [0.2222222222222222, \"#7201a8\"], [0.3333333333333333, \"#9c179e\"], [0.4444444444444444, \"#bd3786\"], [0.5555555555555556, \"#d8576b\"], [0.6666666666666666, \"#ed7953\"], [0.7777777777777778, \"#fb9f3a\"], [0.8888888888888888, \"#fdca26\"], [1.0, \"#f0f921\"]], \"sequentialminus\": [[0.0, \"#0d0887\"], [0.1111111111111111, \"#46039f\"], [0.2222222222222222, \"#7201a8\"], [0.3333333333333333, \"#9c179e\"], [0.4444444444444444, \"#bd3786\"], [0.5555555555555556, \"#d8576b\"], [0.6666666666666666, \"#ed7953\"], [0.7777777777777778, \"#fb9f3a\"], [0.8888888888888888, \"#fdca26\"], [1.0, \"#f0f921\"]]}, \"colorway\": [\"#636efa\", \"#EF553B\", \"#00cc96\", \"#ab63fa\", \"#FFA15A\", \"#19d3f3\", \"#FF6692\", \"#B6E880\", \"#FF97FF\", \"#FECB52\"], \"font\": {\"color\": \"#2a3f5f\"}, \"geo\": {\"bgcolor\": \"white\", \"lakecolor\": \"white\", \"landcolor\": \"#E5ECF6\", \"showlakes\": true, \"showland\": true, \"subunitcolor\": \"white\"}, \"hoverlabel\": {\"align\": \"left\"}, \"hovermode\": \"closest\", \"mapbox\": {\"style\": \"light\"}, \"paper_bgcolor\": \"white\", \"plot_bgcolor\": \"#E5ECF6\", \"polar\": {\"angularaxis\": {\"gridcolor\": \"white\", \"linecolor\": \"white\", \"ticks\": \"\"}, \"bgcolor\": \"#E5ECF6\", \"radialaxis\": {\"gridcolor\": \"white\", \"linecolor\": \"white\", \"ticks\": \"\"}}, \"scene\": {\"xaxis\": {\"backgroundcolor\": \"#E5ECF6\", \"gridcolor\": \"white\", \"gridwidth\": 2, \"linecolor\": \"white\", \"showbackground\": true, \"ticks\": \"\", \"zerolinecolor\": \"white\"}, \"yaxis\": {\"backgroundcolor\": \"#E5ECF6\", \"gridcolor\": \"white\", \"gridwidth\": 2, \"linecolor\": \"white\", \"showbackground\": true, \"ticks\": \"\", \"zerolinecolor\": \"white\"}, \"zaxis\": {\"backgroundcolor\": \"#E5ECF6\", \"gridcolor\": \"white\", \"gridwidth\": 2, \"linecolor\": \"white\", \"showbackground\": true, \"ticks\": \"\", \"zerolinecolor\": \"white\"}}, \"shapedefaults\": {\"line\": {\"color\": \"#2a3f5f\"}}, \"ternary\": {\"aaxis\": {\"gridcolor\": \"white\", \"linecolor\": \"white\", \"ticks\": \"\"}, \"baxis\": {\"gridcolor\": \"white\", \"linecolor\": \"white\", \"ticks\": \"\"}, \"bgcolor\": \"#E5ECF6\", \"caxis\": {\"gridcolor\": \"white\", \"linecolor\": \"white\", \"ticks\": \"\"}}, \"title\": {\"x\": 0.05}, \"xaxis\": {\"automargin\": true, \"gridcolor\": \"white\", \"linecolor\": \"white\", \"ticks\": \"\", \"title\": {\"standoff\": 15}, \"zerolinecolor\": \"white\", \"zerolinewidth\": 2}, \"yaxis\": {\"automargin\": true, \"gridcolor\": \"white\", \"linecolor\": \"white\", \"ticks\": \"\", \"title\": {\"standoff\": 15}, \"zerolinecolor\": \"white\", \"zerolinewidth\": 2}}}, \"title\": {\"text\": \"Distribution of rate within comments in BT DS\"}, \"xaxis\": {\"title\": {\"text\": \"Rate\"}}, \"yaxis\": {\"title\": {\"text\": \"Frequency\"}}},\n",
              "                        {\"responsive\": true}\n",
              "                    ).then(function(){\n",
              "                            \n",
              "var gd = document.getElementById('da1f5ae5-2d22-4416-a096-1e82262abb22');\n",
              "var x = new MutationObserver(function (mutations, observer) {{\n",
              "        var display = window.getComputedStyle(gd).display;\n",
              "        if (!display || display === 'none') {{\n",
              "            console.log([gd, 'removed!']);\n",
              "            Plotly.purge(gd);\n",
              "            observer.disconnect();\n",
              "        }}\n",
              "}});\n",
              "\n",
              "// Listen for the removal of the full notebook cells\n",
              "var notebookContainer = gd.closest('#notebook-container');\n",
              "if (notebookContainer) {{\n",
              "    x.observe(notebookContainer, {childList: true});\n",
              "}}\n",
              "\n",
              "// Listen for the clearing of the current output cell\n",
              "var outputEl = gd.closest('.output');\n",
              "if (outputEl) {{\n",
              "    x.observe(outputEl, {childList: true});\n",
              "}}\n",
              "\n",
              "                        })\n",
              "                };\n",
              "                \n",
              "            </script>\n",
              "        </div>\n",
              "</body>\n",
              "</html>"
            ]
          },
          "metadata": {
            "tags": []
          }
        }
      ]
    },
    {
      "cell_type": "markdown",
      "metadata": {
        "id": "IYD6ei8Jeb4W"
      },
      "source": [
        "## Preprocessing\n",
        "\n",
        "The comments have different lengths based on words! Detecting the most normal range could help us find the maximum length of the sequences for the preprocessing step. On the other hand, we suppose that the minimum word combination for having a meaningful phrase for our learning process is 1 such as \"عالی\" and \"عالیه\"."
      ]
    },
    {
      "cell_type": "code",
      "metadata": {
        "id": "35qF9kA9esGS"
      },
      "source": [
        "# calculate the length of Blanced DS comments based on their words\n",
        "data['comment_len_by_words'] = data['comment'].apply(lambda t: len(hazm.word_tokenize(t)))"
      ],
      "execution_count": null,
      "outputs": []
    },
    {
      "cell_type": "code",
      "metadata": {
        "colab": {
          "base_uri": "https://localhost:8080/"
        },
        "id": "0CO3wJr4Q3gK",
        "outputId": "0068bc57-d467-45da-bc0e-bb2a9878c8a5"
      },
      "source": [
        "min_max_lenB = data[\"comment_len_by_words\"].min(), data[\"comment_len_by_words\"].max()\n",
        "print(f'Min of B DS: {min_max_lenB[0]} \\tMax of B DS: {min_max_lenB[1]}')\n",
        "\n",
        "#bara tol emmbedinga"
      ],
      "execution_count": null,
      "outputs": [
        {
          "output_type": "stream",
          "text": [
            "Min of B DS: 1 \tMax of B DS: 281\n"
          ],
          "name": "stdout"
        }
      ]
    },
    {
      "cell_type": "code",
      "metadata": {
        "colab": {
          "base_uri": "https://localhost:8080/"
        },
        "id": "-jZtC8bpkJl6",
        "outputId": "cb972387-a835-4590-e43c-ad517bf40cc0"
      },
      "source": [
        "Rec = 0\n",
        "for j in range(len(data)):\n",
        "  if (data.iloc[j]['comment_len_by_words'] < 3):\n",
        "    Rec = Rec + 1\n",
        "    print(data.iloc[j]['comment'],data.iloc[j]['rate'],)\n",
        "print(Rec, ' records found with upper comments')"
      ],
      "execution_count": null,
      "outputs": [
        {
          "output_type": "stream",
          "text": [
            "ديروز گرفتم 0\n",
            "موفق باشيد 0\n",
            "قديمى شده 0\n",
            "موفق باشين 0\n",
            "با سلام 0\n",
            "با تشکر 0\n",
            "خدايا ممنونم 0\n",
            "شارژش خوبه 1\n",
            "مرسي digikala 1\n",
            "دوربينش خوبه 1\n",
            "سرعتش خوبه 1\n",
            "حرف نداره 1\n",
            "گرم نميکنه 1\n",
            "واقعا متفاوت 1\n",
            "واقعا زيباست 1\n",
            "عالي بود 1\n",
            "چه جالب 1\n",
            "واقعاً ممنون 1\n",
            "ممنون DigiKala 1\n",
            "دوربين خوبيه 1\n",
            "واقعا محشره 2\n",
            "بي نظيره 2\n",
            "واقعاً عاليه 2\n",
            "واقعا عاليه 2\n",
            "گوشي فوق‌العاده‌ايه 2\n",
            "حيرت انگيزه 2\n",
            "واقعاً فوق‌العادست 2\n",
            "بسيار عالي 2\n",
            "عاشق دوربينشم 2\n",
            "فوق العادست 2\n",
            "خيلي عاليست 2\n",
            "واقعا معرکست 2\n",
            "عاشق محصولاتشم 2\n",
            "کارش بيسته 2\n",
            "مراقب باشيد -1\n",
            "دارای 264 0\n",
            "موفق باشید 0\n",
            "قدیمی است 0\n",
            "بسیار قوی 0\n",
            "فرومایه 0\n",
            "مشاهده کام 0\n",
            "سلام. 0\n",
            "پخش HD 0\n",
            "سلام 0\n",
            "فروشگاه برنامه 0\n",
            "دوربین نیست 0\n",
            "قضاوت شماست 0\n",
            "شیک زیبا 1\n",
            "خیلی باحال 1\n",
            "داشتنش خوبه 1\n",
            "مرسی دیجیکالا 1\n",
            "عالی 1\n",
            "سرعت خوب 1\n",
            "قیمت مناسب 1\n",
            "کالای عالی 1\n",
            "خارق العاده 1\n",
            "کامل 1\n",
            "بهتر بود 1\n",
            "داغ نیست 1\n",
            "رنگهای واضح 1\n",
            "بدون کنه 1\n",
            "واقعاً زیباست 1\n",
            "عالی بود 1\n",
            "بد نیست 1\n",
            "خیلی بزرگ 1\n",
            "کامل. 1\n",
            "لمس عالی 1\n",
            "آویزان نیست 1\n",
            "شکرگذاری 1\n",
            "بهترین گوشه 1\n",
            "دوربین عالی 2\n",
            "سرعت عالی 2\n",
            "عالیه! 2\n",
            "بسیار جذاب 2\n",
            "عالی. 2\n",
            "خیلی راحت 2\n",
            "تلفن زیبا 2\n",
            "منحصر بفرد 2\n",
            "عالیه. 2\n",
            "واقعا عالیه 2\n",
            "تلفن عالی 2\n",
            "عجیب 2\n",
            "صدای عالی 2\n",
            "خیلی کوچک 2\n",
            "عالیه 2\n",
            "دوباره عالی 2\n",
            "واقعا خوب 2\n",
            "واقعا قشنگه 2\n",
            "خیلی خوب 2\n",
            "واقعا خوبه 2\n",
            "توقف کار 2\n",
            "فردی است 2\n",
            "واقعاً شیک 2\n",
            "عالی! 2\n",
            "مراقب باش -1\n",
            "کمی! -1\n",
            "96  records found with upper comments\n"
          ],
          "name": "stdout"
        }
      ]
    },
    {
      "cell_type": "code",
      "metadata": {
        "id": "rnCj-iLe3cjb"
      },
      "source": [
        "def data_gl_than(data, less_than=100.0, greater_than=0.0, col='comment_len_by_words'):\n",
        "    data_length = data[col].values\n",
        "\n",
        "    data_glt = sum([1 for length in data_length if greater_than < length <= less_than])\n",
        "\n",
        "    data_glt_rate = (data_glt / len(data_length)) * 100\n",
        "\n",
        "    print(f'Texts with word length of greater than {greater_than} and less than {less_than} includes {data_glt_rate:.2f}% of the whole!')"
      ],
      "execution_count": null,
      "outputs": []
    },
    {
      "cell_type": "code",
      "metadata": {
        "id": "iket7VRN5cgG",
        "colab": {
          "base_uri": "https://localhost:8080/"
        },
        "outputId": "5bf27532-ec31-4b71-ce03-7a9fe8cf79bc"
      },
      "source": [
        "data_gl_than(data, 256, 2)"
      ],
      "execution_count": null,
      "outputs": [
        {
          "output_type": "stream",
          "text": [
            "Texts with word length of greater than 2 and less than 256 includes 99.21% of the whole!\n"
          ],
          "name": "stdout"
        }
      ]
    },
    {
      "cell_type": "code",
      "metadata": {
        "id": "kNausH6L55fQ"
      },
      "source": [
        "minlim, maxlim = 2, 256"
      ],
      "execution_count": null,
      "outputs": []
    },
    {
      "cell_type": "code",
      "metadata": {
        "id": "kliWRX7-3U1c",
        "colab": {
          "base_uri": "https://localhost:8080/"
        },
        "outputId": "0f2896f5-b562-4153-dbed-82a711b300b5"
      },
      "source": [
        "# remove comments with the length beetween 2 and 256 \n",
        "data['comment_len_by_words'] = data['comment_len_by_words'].apply(lambda len_t: len_t if minlim <= len_t <= maxlim else None)\n",
        "data = data.dropna(subset=['comment_len_by_words'])\n",
        "data = data.reset_index(drop=True)\n",
        "data.info()"
      ],
      "execution_count": null,
      "outputs": [
        {
          "output_type": "stream",
          "text": [
            "<class 'pandas.core.frame.DataFrame'>\n",
            "RangeIndex: 12599 entries, 0 to 12598\n",
            "Data columns (total 3 columns):\n",
            " #   Column                Non-Null Count  Dtype  \n",
            "---  ------                --------------  -----  \n",
            " 0   comment               12599 non-null  object \n",
            " 1   rate                  12599 non-null  int64  \n",
            " 2   comment_len_by_words  12599 non-null  float64\n",
            "dtypes: float64(1), int64(1), object(1)\n",
            "memory usage: 295.4+ KB\n"
          ],
          "name": "stdout"
        }
      ]
    },
    {
      "cell_type": "code",
      "metadata": {
        "colab": {
          "base_uri": "https://localhost:8080/",
          "height": 542
        },
        "id": "q5UgJoPlQ4l6",
        "outputId": "a958fa31-c195-4e27-ba13-c0e49c5e7680"
      },
      "source": [
        "fig = go.Figure()\n",
        "\n",
        "fig.add_trace(go.Histogram(\n",
        "    x=data['comment_len_by_words']\n",
        "))\n",
        "\n",
        "fig.update_layout(\n",
        "    title_text='Distribution of word counts within comments in BT DS',\n",
        "    xaxis_title_text='Word Count',\n",
        "    yaxis_title_text='Frequency',\n",
        "    bargap=0.2,\n",
        "    bargroupgap=0.2)\n",
        "\n",
        "fig.show()"
      ],
      "execution_count": null,
      "outputs": [
        {
          "output_type": "display_data",
          "data": {
            "text/html": [
              "<html>\n",
              "<head><meta charset=\"utf-8\" /></head>\n",
              "<body>\n",
              "    <div>\n",
              "            <script src=\"https://cdnjs.cloudflare.com/ajax/libs/mathjax/2.7.5/MathJax.js?config=TeX-AMS-MML_SVG\"></script><script type=\"text/javascript\">if (window.MathJax) {MathJax.Hub.Config({SVG: {font: \"STIX-Web\"}});}</script>\n",
              "                <script type=\"text/javascript\">window.PlotlyConfig = {MathJaxConfig: 'local'};</script>\n",
              "        <script src=\"https://cdn.plot.ly/plotly-latest.min.js\"></script>    \n",
              "            <div id=\"4d7efb51-0951-4d3d-bebd-5b8c8ee8e7dc\" class=\"plotly-graph-div\" style=\"height:525px; width:100%;\"></div>\n",
              "            <script type=\"text/javascript\">\n",
              "                \n",
              "                    window.PLOTLYENV=window.PLOTLYENV || {};\n",
              "                    \n",
              "                if (document.getElementById(\"4d7efb51-0951-4d3d-bebd-5b8c8ee8e7dc\")) {\n",
              "                    Plotly.newPlot(\n",
              "                        '4d7efb51-0951-4d3d-bebd-5b8c8ee8e7dc',\n",
              "                        [{\"type\": \"histogram\", \"x\": [16.0, 10.0, 25.0, 19.0, 16.0, 36.0, 33.0, 46.0, 31.0, 4.0, 45.0, 11.0, 14.0, 22.0, 29.0, 26.0, 18.0, 6.0, 11.0, 14.0, 8.0, 39.0, 14.0, 21.0, 21.0, 22.0, 15.0, 17.0, 13.0, 24.0, 15.0, 45.0, 23.0, 23.0, 6.0, 17.0, 11.0, 15.0, 16.0, 18.0, 14.0, 10.0, 15.0, 17.0, 9.0, 20.0, 13.0, 37.0, 26.0, 15.0, 29.0, 26.0, 12.0, 15.0, 41.0, 20.0, 29.0, 15.0, 19.0, 27.0, 5.0, 16.0, 24.0, 19.0, 16.0, 21.0, 3.0, 24.0, 19.0, 29.0, 28.0, 20.0, 17.0, 21.0, 7.0, 32.0, 3.0, 23.0, 42.0, 19.0, 24.0, 21.0, 33.0, 19.0, 26.0, 33.0, 10.0, 14.0, 18.0, 11.0, 38.0, 5.0, 26.0, 20.0, 24.0, 21.0, 7.0, 32.0, 13.0, 20.0, 19.0, 17.0, 36.0, 15.0, 30.0, 26.0, 23.0, 27.0, 19.0, 18.0, 13.0, 44.0, 11.0, 7.0, 31.0, 7.0, 35.0, 12.0, 6.0, 15.0, 17.0, 16.0, 32.0, 31.0, 9.0, 11.0, 15.0, 17.0, 15.0, 8.0, 6.0, 6.0, 18.0, 12.0, 25.0, 64.0, 16.0, 29.0, 26.0, 19.0, 29.0, 4.0, 27.0, 22.0, 13.0, 13.0, 21.0, 15.0, 37.0, 8.0, 26.0, 11.0, 10.0, 14.0, 23.0, 45.0, 40.0, 25.0, 19.0, 8.0, 40.0, 18.0, 4.0, 9.0, 22.0, 15.0, 33.0, 11.0, 18.0, 16.0, 26.0, 24.0, 20.0, 48.0, 24.0, 33.0, 6.0, 14.0, 23.0, 33.0, 22.0, 11.0, 21.0, 14.0, 26.0, 42.0, 61.0, 6.0, 12.0, 22.0, 17.0, 25.0, 14.0, 18.0, 74.0, 12.0, 22.0, 18.0, 6.0, 16.0, 3.0, 16.0, 7.0, 26.0, 8.0, 23.0, 15.0, 17.0, 22.0, 13.0, 45.0, 10.0, 15.0, 14.0, 23.0, 11.0, 6.0, 7.0, 21.0, 14.0, 15.0, 14.0, 23.0, 14.0, 17.0, 3.0, 11.0, 11.0, 47.0, 25.0, 22.0, 21.0, 12.0, 25.0, 7.0, 22.0, 13.0, 22.0, 29.0, 3.0, 23.0, 20.0, 20.0, 11.0, 13.0, 14.0, 49.0, 27.0, 36.0, 8.0, 10.0, 26.0, 13.0, 12.0, 14.0, 22.0, 8.0, 18.0, 13.0, 16.0, 13.0, 7.0, 6.0, 8.0, 18.0, 31.0, 2.0, 19.0, 18.0, 25.0, 7.0, 13.0, 23.0, 26.0, 16.0, 18.0, 32.0, 40.0, 24.0, 30.0, 14.0, 20.0, 36.0, 12.0, 15.0, 20.0, 18.0, 9.0, 11.0, 10.0, 7.0, 10.0, 31.0, 19.0, 21.0, 6.0, 8.0, 33.0, 9.0, 22.0, 19.0, 30.0, 52.0, 17.0, 39.0, 15.0, 24.0, 17.0, 20.0, 14.0, 14.0, 17.0, 11.0, 54.0, 26.0, 17.0, 14.0, 26.0, 29.0, 21.0, 37.0, 27.0, 30.0, 30.0, 38.0, 25.0, 26.0, 15.0, 12.0, 25.0, 26.0, 46.0, 13.0, 14.0, 12.0, 32.0, 35.0, 42.0, 5.0, 19.0, 30.0, 22.0, 14.0, 9.0, 15.0, 30.0, 40.0, 9.0, 16.0, 9.0, 19.0, 18.0, 30.0, 9.0, 21.0, 13.0, 21.0, 33.0, 13.0, 11.0, 17.0, 41.0, 12.0, 28.0, 24.0, 35.0, 16.0, 23.0, 12.0, 16.0, 26.0, 19.0, 9.0, 19.0, 23.0, 9.0, 17.0, 11.0, 27.0, 20.0, 29.0, 15.0, 18.0, 17.0, 19.0, 13.0, 21.0, 28.0, 5.0, 21.0, 13.0, 17.0, 13.0, 17.0, 19.0, 15.0, 23.0, 27.0, 12.0, 34.0, 35.0, 23.0, 3.0, 24.0, 15.0, 9.0, 33.0, 9.0, 15.0, 17.0, 38.0, 20.0, 22.0, 21.0, 2.0, 62.0, 11.0, 33.0, 45.0, 12.0, 12.0, 8.0, 18.0, 12.0, 16.0, 13.0, 20.0, 38.0, 43.0, 4.0, 27.0, 49.0, 16.0, 6.0, 9.0, 22.0, 17.0, 20.0, 20.0, 4.0, 42.0, 21.0, 22.0, 12.0, 40.0, 13.0, 32.0, 30.0, 12.0, 20.0, 6.0, 22.0, 6.0, 9.0, 23.0, 31.0, 18.0, 12.0, 12.0, 18.0, 9.0, 10.0, 5.0, 26.0, 19.0, 15.0, 19.0, 12.0, 12.0, 13.0, 29.0, 21.0, 13.0, 22.0, 2.0, 3.0, 7.0, 14.0, 20.0, 5.0, 18.0, 35.0, 24.0, 12.0, 14.0, 36.0, 46.0, 3.0, 2.0, 18.0, 26.0, 8.0, 14.0, 13.0, 31.0, 23.0, 21.0, 22.0, 10.0, 23.0, 17.0, 29.0, 7.0, 22.0, 13.0, 3.0, 3.0, 42.0, 27.0, 17.0, 35.0, 6.0, 31.0, 18.0, 14.0, 16.0, 6.0, 24.0, 15.0, 14.0, 9.0, 21.0, 6.0, 18.0, 17.0, 26.0, 23.0, 27.0, 3.0, 23.0, 39.0, 19.0, 15.0, 45.0, 14.0, 10.0, 7.0, 28.0, 3.0, 18.0, 22.0, 18.0, 11.0, 24.0, 44.0, 23.0, 4.0, 32.0, 15.0, 9.0, 24.0, 3.0, 14.0, 18.0, 11.0, 10.0, 26.0, 16.0, 28.0, 20.0, 13.0, 18.0, 46.0, 25.0, 5.0, 13.0, 21.0, 14.0, 22.0, 11.0, 17.0, 14.0, 13.0, 29.0, 21.0, 33.0, 19.0, 40.0, 19.0, 22.0, 10.0, 41.0, 11.0, 9.0, 5.0, 44.0, 11.0, 28.0, 25.0, 5.0, 14.0, 20.0, 12.0, 15.0, 28.0, 13.0, 22.0, 36.0, 21.0, 10.0, 61.0, 25.0, 25.0, 34.0, 24.0, 13.0, 36.0, 19.0, 15.0, 43.0, 22.0, 28.0, 28.0, 26.0, 38.0, 29.0, 14.0, 24.0, 24.0, 27.0, 20.0, 18.0, 11.0, 8.0, 17.0, 19.0, 18.0, 17.0, 14.0, 8.0, 22.0, 29.0, 36.0, 51.0, 11.0, 40.0, 35.0, 57.0, 16.0, 10.0, 11.0, 20.0, 8.0, 24.0, 28.0, 24.0, 31.0, 40.0, 13.0, 29.0, 35.0, 5.0, 27.0, 12.0, 17.0, 11.0, 6.0, 33.0, 32.0, 17.0, 6.0, 23.0, 19.0, 31.0, 10.0, 7.0, 36.0, 19.0, 13.0, 18.0, 20.0, 61.0, 14.0, 21.0, 14.0, 21.0, 13.0, 16.0, 21.0, 5.0, 14.0, 15.0, 33.0, 32.0, 11.0, 15.0, 14.0, 29.0, 20.0, 17.0, 3.0, 35.0, 20.0, 14.0, 26.0, 18.0, 25.0, 8.0, 24.0, 10.0, 4.0, 29.0, 28.0, 14.0, 22.0, 6.0, 30.0, 5.0, 26.0, 33.0, 22.0, 10.0, 20.0, 17.0, 19.0, 20.0, 29.0, 53.0, 21.0, 29.0, 7.0, 28.0, 22.0, 10.0, 29.0, 18.0, 25.0, 25.0, 26.0, 23.0, 21.0, 5.0, 37.0, 20.0, 18.0, 24.0, 11.0, 21.0, 14.0, 27.0, 5.0, 9.0, 36.0, 9.0, 48.0, 11.0, 24.0, 10.0, 37.0, 47.0, 22.0, 17.0, 17.0, 3.0, 9.0, 18.0, 12.0, 20.0, 19.0, 18.0, 29.0, 19.0, 31.0, 19.0, 3.0, 13.0, 23.0, 11.0, 16.0, 15.0, 25.0, 33.0, 50.0, 11.0, 33.0, 27.0, 14.0, 16.0, 15.0, 3.0, 23.0, 18.0, 16.0, 4.0, 23.0, 16.0, 9.0, 34.0, 14.0, 3.0, 8.0, 13.0, 18.0, 29.0, 18.0, 22.0, 15.0, 5.0, 15.0, 12.0, 6.0, 17.0, 23.0, 39.0, 11.0, 23.0, 39.0, 2.0, 16.0, 12.0, 13.0, 26.0, 22.0, 9.0, 21.0, 46.0, 17.0, 18.0, 23.0, 39.0, 21.0, 14.0, 17.0, 9.0, 12.0, 27.0, 20.0, 14.0, 27.0, 11.0, 6.0, 18.0, 5.0, 11.0, 15.0, 26.0, 20.0, 14.0, 7.0, 21.0, 9.0, 5.0, 10.0, 9.0, 18.0, 77.0, 29.0, 29.0, 5.0, 81.0, 8.0, 31.0, 18.0, 30.0, 28.0, 26.0, 28.0, 26.0, 12.0, 22.0, 23.0, 40.0, 5.0, 37.0, 32.0, 37.0, 11.0, 10.0, 33.0, 38.0, 6.0, 7.0, 25.0, 21.0, 15.0, 14.0, 20.0, 12.0, 23.0, 7.0, 5.0, 21.0, 15.0, 16.0, 62.0, 13.0, 18.0, 13.0, 20.0, 18.0, 19.0, 31.0, 13.0, 15.0, 23.0, 12.0, 12.0, 7.0, 26.0, 17.0, 26.0, 23.0, 18.0, 6.0, 59.0, 18.0, 19.0, 4.0, 35.0, 23.0, 21.0, 10.0, 13.0, 31.0, 14.0, 6.0, 23.0, 27.0, 11.0, 27.0, 5.0, 20.0, 28.0, 9.0, 11.0, 26.0, 10.0, 18.0, 32.0, 17.0, 19.0, 21.0, 17.0, 12.0, 17.0, 17.0, 4.0, 8.0, 23.0, 16.0, 7.0, 5.0, 21.0, 12.0, 36.0, 13.0, 12.0, 14.0, 9.0, 32.0, 11.0, 22.0, 15.0, 9.0, 19.0, 13.0, 27.0, 9.0, 17.0, 8.0, 16.0, 18.0, 10.0, 17.0, 20.0, 10.0, 24.0, 10.0, 13.0, 12.0, 7.0, 35.0, 33.0, 38.0, 21.0, 19.0, 36.0, 16.0, 28.0, 21.0, 16.0, 16.0, 8.0, 3.0, 16.0, 17.0, 9.0, 34.0, 27.0, 19.0, 26.0, 11.0, 16.0, 17.0, 9.0, 17.0, 31.0, 14.0, 11.0, 17.0, 32.0, 9.0, 23.0, 7.0, 19.0, 7.0, 14.0, 14.0, 14.0, 31.0, 21.0, 16.0, 12.0, 14.0, 6.0, 12.0, 12.0, 28.0, 37.0, 25.0, 14.0, 14.0, 4.0, 28.0, 36.0, 32.0, 21.0, 18.0, 28.0, 20.0, 21.0, 25.0, 16.0, 30.0, 3.0, 20.0, 12.0, 20.0, 5.0, 15.0, 37.0, 32.0, 11.0, 11.0, 15.0, 13.0, 12.0, 14.0, 89.0, 10.0, 34.0, 28.0, 18.0, 55.0, 22.0, 32.0, 49.0, 8.0, 14.0, 13.0, 14.0, 11.0, 34.0, 12.0, 30.0, 32.0, 32.0, 20.0, 32.0, 3.0, 10.0, 23.0, 30.0, 16.0, 21.0, 9.0, 10.0, 8.0, 26.0, 15.0, 24.0, 13.0, 32.0, 14.0, 22.0, 12.0, 6.0, 17.0, 9.0, 18.0, 7.0, 4.0, 11.0, 5.0, 21.0, 18.0, 9.0, 18.0, 38.0, 7.0, 19.0, 6.0, 11.0, 17.0, 19.0, 22.0, 13.0, 23.0, 10.0, 12.0, 40.0, 20.0, 34.0, 10.0, 5.0, 23.0, 18.0, 40.0, 4.0, 16.0, 11.0, 43.0, 12.0, 21.0, 3.0, 22.0, 18.0, 9.0, 6.0, 43.0, 13.0, 6.0, 9.0, 35.0, 6.0, 13.0, 11.0, 5.0, 22.0, 13.0, 18.0, 8.0, 10.0, 22.0, 4.0, 29.0, 14.0, 27.0, 25.0, 22.0, 79.0, 16.0, 16.0, 33.0, 36.0, 13.0, 14.0, 17.0, 22.0, 26.0, 20.0, 22.0, 27.0, 17.0, 12.0, 6.0, 43.0, 4.0, 16.0, 26.0, 23.0, 11.0, 17.0, 37.0, 55.0, 15.0, 18.0, 8.0, 8.0, 8.0, 10.0, 11.0, 19.0, 37.0, 6.0, 17.0, 12.0, 35.0, 14.0, 26.0, 10.0, 11.0, 32.0, 5.0, 4.0, 41.0, 17.0, 14.0, 12.0, 8.0, 56.0, 38.0, 40.0, 2.0, 29.0, 10.0, 19.0, 19.0, 20.0, 18.0, 30.0, 23.0, 6.0, 17.0, 9.0, 13.0, 18.0, 8.0, 21.0, 20.0, 8.0, 12.0, 13.0, 24.0, 27.0, 14.0, 20.0, 20.0, 22.0, 20.0, 19.0, 18.0, 17.0, 14.0, 14.0, 22.0, 22.0, 17.0, 10.0, 31.0, 28.0, 20.0, 49.0, 11.0, 30.0, 9.0, 31.0, 13.0, 20.0, 21.0, 18.0, 4.0, 11.0, 6.0, 12.0, 33.0, 15.0, 15.0, 18.0, 8.0, 25.0, 11.0, 17.0, 14.0, 24.0, 16.0, 8.0, 13.0, 30.0, 12.0, 19.0, 12.0, 10.0, 29.0, 19.0, 9.0, 30.0, 32.0, 6.0, 15.0, 25.0, 13.0, 42.0, 16.0, 4.0, 7.0, 33.0, 25.0, 8.0, 7.0, 16.0, 7.0, 7.0, 17.0, 21.0, 5.0, 24.0, 14.0, 23.0, 21.0, 25.0, 22.0, 18.0, 14.0, 13.0, 7.0, 30.0, 34.0, 39.0, 18.0, 21.0, 10.0, 5.0, 39.0, 26.0, 21.0, 34.0, 11.0, 9.0, 14.0, 20.0, 13.0, 11.0, 24.0, 5.0, 35.0, 17.0, 6.0, 6.0, 12.0, 15.0, 17.0, 15.0, 24.0, 49.0, 18.0, 15.0, 27.0, 14.0, 48.0, 24.0, 14.0, 4.0, 18.0, 22.0, 9.0, 18.0, 25.0, 9.0, 6.0, 26.0, 39.0, 19.0, 18.0, 26.0, 18.0, 19.0, 20.0, 14.0, 22.0, 9.0, 9.0, 49.0, 16.0, 14.0, 15.0, 21.0, 26.0, 31.0, 13.0, 25.0, 13.0, 51.0, 18.0, 13.0, 17.0, 14.0, 11.0, 29.0, 22.0, 11.0, 23.0, 26.0, 13.0, 20.0, 13.0, 32.0, 42.0, 18.0, 27.0, 9.0, 17.0, 32.0, 13.0, 13.0, 25.0, 11.0, 38.0, 25.0, 12.0, 37.0, 16.0, 23.0, 9.0, 8.0, 3.0, 5.0, 17.0, 20.0, 27.0, 27.0, 17.0, 27.0, 38.0, 3.0, 22.0, 49.0, 14.0, 27.0, 13.0, 22.0, 21.0, 7.0, 16.0, 30.0, 7.0, 44.0, 15.0, 22.0, 36.0, 11.0, 9.0, 12.0, 7.0, 11.0, 22.0, 22.0, 40.0, 11.0, 92.0, 29.0, 12.0, 16.0, 11.0, 12.0, 24.0, 25.0, 31.0, 5.0, 12.0, 21.0, 14.0, 28.0, 29.0, 17.0, 11.0, 3.0, 45.0, 8.0, 13.0, 30.0, 207.0, 14.0, 9.0, 3.0, 27.0, 4.0, 43.0, 11.0, 55.0, 13.0, 35.0, 12.0, 7.0, 22.0, 25.0, 18.0, 10.0, 14.0, 10.0, 8.0, 9.0, 33.0, 17.0, 20.0, 20.0, 5.0, 11.0, 10.0, 5.0, 11.0, 14.0, 23.0, 18.0, 6.0, 23.0, 56.0, 8.0, 24.0, 12.0, 39.0, 15.0, 37.0, 23.0, 20.0, 17.0, 17.0, 8.0, 19.0, 16.0, 24.0, 6.0, 15.0, 9.0, 15.0, 6.0, 13.0, 21.0, 22.0, 23.0, 6.0, 13.0, 16.0, 3.0, 27.0, 24.0, 29.0, 4.0, 51.0, 19.0, 28.0, 4.0, 42.0, 15.0, 12.0, 10.0, 13.0, 9.0, 21.0, 40.0, 27.0, 32.0, 33.0, 12.0, 13.0, 17.0, 20.0, 16.0, 20.0, 9.0, 24.0, 8.0, 12.0, 13.0, 12.0, 9.0, 18.0, 27.0, 19.0, 7.0, 4.0, 36.0, 17.0, 18.0, 31.0, 11.0, 28.0, 32.0, 13.0, 14.0, 36.0, 23.0, 12.0, 13.0, 34.0, 43.0, 22.0, 54.0, 7.0, 25.0, 19.0, 29.0, 13.0, 21.0, 8.0, 21.0, 6.0, 22.0, 9.0, 4.0, 21.0, 19.0, 14.0, 13.0, 18.0, 5.0, 20.0, 19.0, 4.0, 13.0, 50.0, 10.0, 14.0, 9.0, 7.0, 9.0, 17.0, 9.0, 10.0, 40.0, 22.0, 7.0, 15.0, 8.0, 18.0, 26.0, 15.0, 6.0, 19.0, 34.0, 13.0, 16.0, 2.0, 31.0, 10.0, 11.0, 39.0, 8.0, 32.0, 9.0, 30.0, 15.0, 11.0, 22.0, 12.0, 33.0, 22.0, 18.0, 14.0, 36.0, 22.0, 21.0, 16.0, 51.0, 42.0, 31.0, 6.0, 12.0, 7.0, 18.0, 19.0, 10.0, 7.0, 19.0, 23.0, 16.0, 14.0, 15.0, 14.0, 20.0, 50.0, 44.0, 32.0, 17.0, 44.0, 16.0, 19.0, 16.0, 13.0, 53.0, 20.0, 13.0, 19.0, 23.0, 11.0, 28.0, 6.0, 54.0, 29.0, 8.0, 31.0, 17.0, 29.0, 16.0, 14.0, 31.0, 22.0, 3.0, 18.0, 27.0, 9.0, 21.0, 14.0, 25.0, 14.0, 21.0, 27.0, 21.0, 19.0, 20.0, 40.0, 21.0, 22.0, 19.0, 4.0, 28.0, 5.0, 13.0, 13.0, 8.0, 16.0, 4.0, 4.0, 12.0, 36.0, 9.0, 7.0, 20.0, 14.0, 24.0, 14.0, 13.0, 12.0, 20.0, 28.0, 13.0, 6.0, 35.0, 11.0, 12.0, 26.0, 9.0, 24.0, 10.0, 6.0, 14.0, 68.0, 7.0, 26.0, 20.0, 9.0, 19.0, 21.0, 23.0, 14.0, 13.0, 20.0, 10.0, 14.0, 31.0, 11.0, 12.0, 41.0, 40.0, 34.0, 14.0, 16.0, 20.0, 13.0, 15.0, 29.0, 23.0, 9.0, 22.0, 24.0, 9.0, 36.0, 13.0, 13.0, 9.0, 17.0, 14.0, 11.0, 23.0, 9.0, 18.0, 22.0, 17.0, 8.0, 15.0, 7.0, 22.0, 11.0, 19.0, 12.0, 16.0, 40.0, 19.0, 23.0, 24.0, 46.0, 43.0, 24.0, 5.0, 4.0, 29.0, 21.0, 9.0, 16.0, 38.0, 14.0, 20.0, 13.0, 16.0, 18.0, 21.0, 22.0, 7.0, 4.0, 25.0, 9.0, 8.0, 13.0, 34.0, 25.0, 23.0, 26.0, 14.0, 16.0, 6.0, 50.0, 37.0, 8.0, 11.0, 21.0, 20.0, 20.0, 12.0, 15.0, 28.0, 35.0, 20.0, 16.0, 16.0, 13.0, 13.0, 16.0, 14.0, 10.0, 11.0, 25.0, 31.0, 22.0, 21.0, 16.0, 4.0, 20.0, 8.0, 6.0, 17.0, 27.0, 6.0, 5.0, 21.0, 19.0, 12.0, 41.0, 3.0, 18.0, 3.0, 19.0, 8.0, 31.0, 3.0, 24.0, 41.0, 31.0, 23.0, 5.0, 20.0, 20.0, 13.0, 28.0, 13.0, 19.0, 36.0, 15.0, 25.0, 35.0, 14.0, 20.0, 16.0, 78.0, 12.0, 27.0, 7.0, 8.0, 26.0, 25.0, 27.0, 12.0, 31.0, 19.0, 11.0, 19.0, 29.0, 23.0, 11.0, 21.0, 16.0, 10.0, 10.0, 4.0, 20.0, 48.0, 19.0, 54.0, 23.0, 26.0, 18.0, 36.0, 23.0, 16.0, 54.0, 23.0, 10.0, 37.0, 39.0, 14.0, 24.0, 5.0, 2.0, 28.0, 13.0, 13.0, 33.0, 3.0, 41.0, 50.0, 18.0, 7.0, 3.0, 49.0, 25.0, 10.0, 41.0, 12.0, 28.0, 18.0, 9.0, 26.0, 9.0, 13.0, 33.0, 22.0, 2.0, 18.0, 15.0, 16.0, 6.0, 14.0, 16.0, 27.0, 31.0, 14.0, 38.0, 20.0, 3.0, 23.0, 15.0, 103.0, 4.0, 22.0, 9.0, 5.0, 10.0, 14.0, 17.0, 32.0, 36.0, 11.0, 23.0, 25.0, 26.0, 4.0, 26.0, 26.0, 33.0, 10.0, 7.0, 42.0, 20.0, 21.0, 6.0, 24.0, 22.0, 11.0, 29.0, 23.0, 18.0, 25.0, 18.0, 12.0, 22.0, 36.0, 15.0, 26.0, 11.0, 29.0, 34.0, 15.0, 25.0, 32.0, 5.0, 15.0, 28.0, 15.0, 37.0, 19.0, 16.0, 22.0, 20.0, 29.0, 29.0, 17.0, 6.0, 42.0, 36.0, 6.0, 2.0, 8.0, 19.0, 17.0, 23.0, 32.0, 54.0, 18.0, 43.0, 8.0, 21.0, 18.0, 14.0, 16.0, 18.0, 20.0, 3.0, 15.0, 27.0, 7.0, 18.0, 24.0, 29.0, 20.0, 19.0, 12.0, 17.0, 24.0, 6.0, 91.0, 3.0, 45.0, 34.0, 6.0, 14.0, 35.0, 22.0, 25.0, 34.0, 26.0, 7.0, 41.0, 26.0, 14.0, 48.0, 25.0, 19.0, 17.0, 39.0, 8.0, 7.0, 61.0, 25.0, 11.0, 52.0, 47.0, 23.0, 14.0, 21.0, 26.0, 12.0, 14.0, 40.0, 13.0, 59.0, 38.0, 19.0, 31.0, 5.0, 8.0, 10.0, 20.0, 13.0, 25.0, 23.0, 10.0, 27.0, 5.0, 28.0, 15.0, 19.0, 20.0, 15.0, 44.0, 59.0, 5.0, 5.0, 15.0, 42.0, 6.0, 29.0, 4.0, 28.0, 8.0, 18.0, 13.0, 23.0, 14.0, 44.0, 10.0, 34.0, 13.0, 11.0, 41.0, 26.0, 20.0, 5.0, 22.0, 74.0, 18.0, 25.0, 63.0, 40.0, 15.0, 87.0, 23.0, 21.0, 16.0, 12.0, 25.0, 27.0, 9.0, 2.0, 13.0, 10.0, 31.0, 7.0, 18.0, 29.0, 9.0, 24.0, 26.0, 23.0, 49.0, 3.0, 26.0, 29.0, 16.0, 6.0, 42.0, 23.0, 18.0, 6.0, 9.0, 6.0, 39.0, 21.0, 21.0, 25.0, 5.0, 13.0, 23.0, 15.0, 13.0, 16.0, 11.0, 15.0, 23.0, 12.0, 5.0, 22.0, 4.0, 16.0, 32.0, 17.0, 8.0, 37.0, 36.0, 13.0, 32.0, 17.0, 12.0, 9.0, 21.0, 8.0, 20.0, 21.0, 27.0, 31.0, 23.0, 22.0, 17.0, 26.0, 27.0, 19.0, 17.0, 23.0, 29.0, 10.0, 18.0, 16.0, 14.0, 16.0, 25.0, 13.0, 19.0, 34.0, 15.0, 28.0, 36.0, 21.0, 5.0, 35.0, 22.0, 23.0, 10.0, 27.0, 23.0, 21.0, 7.0, 14.0, 4.0, 45.0, 22.0, 33.0, 12.0, 17.0, 27.0, 36.0, 16.0, 8.0, 24.0, 20.0, 32.0, 34.0, 14.0, 6.0, 20.0, 11.0, 35.0, 27.0, 20.0, 36.0, 20.0, 21.0, 43.0, 10.0, 3.0, 30.0, 14.0, 22.0, 14.0, 29.0, 21.0, 36.0, 37.0, 27.0, 16.0, 14.0, 15.0, 25.0, 55.0, 26.0, 25.0, 16.0, 15.0, 15.0, 32.0, 19.0, 6.0, 26.0, 19.0, 30.0, 10.0, 40.0, 9.0, 7.0, 16.0, 17.0, 28.0, 36.0, 13.0, 20.0, 39.0, 15.0, 17.0, 13.0, 6.0, 14.0, 20.0, 12.0, 17.0, 16.0, 35.0, 17.0, 23.0, 13.0, 11.0, 20.0, 14.0, 16.0, 22.0, 8.0, 19.0, 29.0, 18.0, 47.0, 26.0, 17.0, 37.0, 9.0, 14.0, 8.0, 18.0, 33.0, 17.0, 21.0, 32.0, 48.0, 9.0, 10.0, 14.0, 14.0, 28.0, 16.0, 24.0, 24.0, 28.0, 29.0, 14.0, 26.0, 29.0, 8.0, 30.0, 6.0, 28.0, 3.0, 32.0, 38.0, 29.0, 29.0, 28.0, 71.0, 9.0, 33.0, 26.0, 45.0, 7.0, 24.0, 24.0, 18.0, 10.0, 21.0, 24.0, 45.0, 11.0, 29.0, 37.0, 14.0, 34.0, 31.0, 32.0, 25.0, 20.0, 27.0, 19.0, 10.0, 40.0, 33.0, 9.0, 23.0, 27.0, 25.0, 36.0, 48.0, 19.0, 4.0, 9.0, 20.0, 20.0, 25.0, 3.0, 18.0, 21.0, 46.0, 26.0, 31.0, 10.0, 49.0, 28.0, 30.0, 8.0, 90.0, 17.0, 25.0, 9.0, 28.0, 30.0, 19.0, 23.0, 5.0, 10.0, 5.0, 26.0, 7.0, 32.0, 7.0, 18.0, 27.0, 14.0, 17.0, 49.0, 35.0, 26.0, 4.0, 31.0, 3.0, 29.0, 17.0, 21.0, 32.0, 16.0, 19.0, 21.0, 15.0, 18.0, 12.0, 11.0, 126.0, 38.0, 17.0, 35.0, 17.0, 12.0, 5.0, 28.0, 13.0, 15.0, 26.0, 5.0, 12.0, 29.0, 53.0, 11.0, 16.0, 28.0, 26.0, 41.0, 17.0, 39.0, 22.0, 41.0, 24.0, 22.0, 16.0, 38.0, 6.0, 22.0, 25.0, 16.0, 29.0, 52.0, 34.0, 52.0, 12.0, 6.0, 15.0, 23.0, 34.0, 118.0, 34.0, 24.0, 4.0, 32.0, 33.0, 18.0, 26.0, 12.0, 24.0, 4.0, 20.0, 2.0, 35.0, 17.0, 7.0, 20.0, 23.0, 10.0, 17.0, 9.0, 8.0, 30.0, 11.0, 41.0, 15.0, 25.0, 21.0, 13.0, 2.0, 25.0, 11.0, 42.0, 19.0, 27.0, 20.0, 15.0, 39.0, 32.0, 27.0, 13.0, 34.0, 5.0, 30.0, 14.0, 9.0, 63.0, 27.0, 56.0, 6.0, 6.0, 34.0, 27.0, 18.0, 29.0, 33.0, 17.0, 13.0, 24.0, 53.0, 21.0, 30.0, 9.0, 48.0, 10.0, 28.0, 4.0, 14.0, 22.0, 14.0, 16.0, 16.0, 33.0, 19.0, 28.0, 3.0, 14.0, 21.0, 15.0, 18.0, 18.0, 26.0, 8.0, 14.0, 63.0, 31.0, 17.0, 4.0, 37.0, 29.0, 20.0, 18.0, 32.0, 5.0, 27.0, 3.0, 13.0, 11.0, 18.0, 15.0, 27.0, 14.0, 5.0, 44.0, 20.0, 5.0, 9.0, 16.0, 8.0, 15.0, 9.0, 20.0, 15.0, 87.0, 4.0, 3.0, 5.0, 31.0, 5.0, 27.0, 30.0, 20.0, 4.0, 22.0, 23.0, 6.0, 29.0, 19.0, 34.0, 17.0, 30.0, 16.0, 13.0, 7.0, 9.0, 23.0, 11.0, 40.0, 41.0, 29.0, 37.0, 8.0, 15.0, 9.0, 32.0, 12.0, 35.0, 23.0, 4.0, 20.0, 32.0, 14.0, 3.0, 35.0, 19.0, 84.0, 9.0, 18.0, 40.0, 15.0, 2.0, 20.0, 13.0, 52.0, 50.0, 8.0, 28.0, 17.0, 36.0, 28.0, 14.0, 12.0, 15.0, 18.0, 11.0, 20.0, 25.0, 80.0, 11.0, 4.0, 10.0, 7.0, 20.0, 7.0, 26.0, 5.0, 12.0, 34.0, 29.0, 39.0, 11.0, 31.0, 21.0, 31.0, 21.0, 29.0, 28.0, 13.0, 22.0, 6.0, 21.0, 9.0, 3.0, 12.0, 11.0, 21.0, 24.0, 33.0, 13.0, 29.0, 7.0, 6.0, 34.0, 8.0, 4.0, 32.0, 12.0, 20.0, 27.0, 37.0, 18.0, 35.0, 10.0, 24.0, 40.0, 11.0, 20.0, 28.0, 43.0, 19.0, 18.0, 16.0, 54.0, 6.0, 23.0, 7.0, 24.0, 23.0, 27.0, 37.0, 16.0, 20.0, 22.0, 39.0, 21.0, 44.0, 8.0, 17.0, 4.0, 18.0, 30.0, 31.0, 32.0, 21.0, 6.0, 32.0, 9.0, 9.0, 57.0, 16.0, 15.0, 38.0, 21.0, 52.0, 24.0, 4.0, 13.0, 29.0, 7.0, 7.0, 37.0, 23.0, 23.0, 30.0, 36.0, 9.0, 5.0, 27.0, 20.0, 8.0, 24.0, 21.0, 41.0, 15.0, 10.0, 15.0, 11.0, 23.0, 39.0, 28.0, 8.0, 12.0, 11.0, 42.0, 24.0, 22.0, 4.0, 44.0, 22.0, 15.0, 27.0, 22.0, 29.0, 13.0, 25.0, 6.0, 16.0, 11.0, 23.0, 9.0, 37.0, 16.0, 22.0, 11.0, 31.0, 14.0, 5.0, 25.0, 27.0, 26.0, 28.0, 17.0, 39.0, 16.0, 13.0, 36.0, 32.0, 15.0, 13.0, 30.0, 23.0, 19.0, 19.0, 14.0, 17.0, 38.0, 50.0, 27.0, 33.0, 27.0, 22.0, 43.0, 19.0, 15.0, 25.0, 19.0, 36.0, 33.0, 14.0, 24.0, 21.0, 14.0, 12.0, 13.0, 15.0, 17.0, 31.0, 37.0, 23.0, 24.0, 16.0, 24.0, 36.0, 23.0, 48.0, 4.0, 14.0, 9.0, 28.0, 5.0, 125.0, 9.0, 2.0, 17.0, 18.0, 51.0, 21.0, 14.0, 23.0, 29.0, 16.0, 31.0, 15.0, 23.0, 25.0, 28.0, 6.0, 14.0, 20.0, 4.0, 15.0, 17.0, 12.0, 30.0, 17.0, 38.0, 7.0, 25.0, 23.0, 2.0, 4.0, 19.0, 11.0, 17.0, 44.0, 28.0, 26.0, 14.0, 22.0, 9.0, 14.0, 30.0, 12.0, 23.0, 33.0, 59.0, 6.0, 41.0, 17.0, 13.0, 25.0, 15.0, 38.0, 6.0, 26.0, 22.0, 9.0, 37.0, 13.0, 26.0, 23.0, 32.0, 15.0, 4.0, 39.0, 24.0, 11.0, 45.0, 12.0, 12.0, 24.0, 5.0, 24.0, 20.0, 28.0, 31.0, 22.0, 16.0, 28.0, 17.0, 16.0, 29.0, 28.0, 10.0, 16.0, 17.0, 21.0, 34.0, 33.0, 26.0, 8.0, 19.0, 32.0, 18.0, 15.0, 6.0, 24.0, 36.0, 11.0, 20.0, 3.0, 24.0, 25.0, 3.0, 47.0, 23.0, 18.0, 9.0, 27.0, 7.0, 83.0, 39.0, 33.0, 23.0, 29.0, 28.0, 21.0, 17.0, 12.0, 3.0, 24.0, 6.0, 41.0, 44.0, 21.0, 26.0, 68.0, 27.0, 7.0, 23.0, 14.0, 22.0, 16.0, 22.0, 7.0, 15.0, 40.0, 31.0, 3.0, 57.0, 12.0, 23.0, 10.0, 9.0, 16.0, 11.0, 55.0, 26.0, 18.0, 20.0, 16.0, 8.0, 30.0, 10.0, 19.0, 7.0, 12.0, 12.0, 23.0, 22.0, 19.0, 24.0, 5.0, 8.0, 40.0, 22.0, 7.0, 27.0, 8.0, 33.0, 18.0, 10.0, 32.0, 10.0, 16.0, 13.0, 9.0, 25.0, 42.0, 20.0, 34.0, 59.0, 7.0, 42.0, 11.0, 108.0, 11.0, 25.0, 27.0, 16.0, 20.0, 13.0, 39.0, 7.0, 41.0, 16.0, 29.0, 27.0, 9.0, 18.0, 12.0, 19.0, 69.0, 32.0, 59.0, 16.0, 17.0, 16.0, 7.0, 30.0, 9.0, 10.0, 21.0, 41.0, 19.0, 5.0, 11.0, 29.0, 8.0, 28.0, 13.0, 15.0, 16.0, 33.0, 23.0, 13.0, 13.0, 7.0, 20.0, 33.0, 11.0, 37.0, 23.0, 47.0, 21.0, 9.0, 20.0, 24.0, 2.0, 16.0, 14.0, 19.0, 8.0, 9.0, 14.0, 40.0, 27.0, 19.0, 12.0, 54.0, 13.0, 35.0, 39.0, 7.0, 40.0, 57.0, 22.0, 16.0, 23.0, 10.0, 16.0, 40.0, 34.0, 16.0, 34.0, 21.0, 28.0, 13.0, 40.0, 36.0, 9.0, 76.0, 41.0, 35.0, 22.0, 23.0, 17.0, 9.0, 21.0, 22.0, 25.0, 24.0, 40.0, 6.0, 21.0, 47.0, 24.0, 8.0, 26.0, 9.0, 10.0, 27.0, 23.0, 14.0, 22.0, 14.0, 33.0, 10.0, 13.0, 34.0, 23.0, 16.0, 4.0, 20.0, 53.0, 24.0, 39.0, 24.0, 17.0, 39.0, 17.0, 23.0, 17.0, 16.0, 51.0, 24.0, 43.0, 52.0, 15.0, 14.0, 57.0, 9.0, 19.0, 32.0, 29.0, 26.0, 8.0, 23.0, 47.0, 4.0, 24.0, 26.0, 24.0, 21.0, 20.0, 33.0, 17.0, 28.0, 21.0, 2.0, 3.0, 15.0, 39.0, 23.0, 37.0, 37.0, 21.0, 15.0, 6.0, 23.0, 14.0, 13.0, 24.0, 3.0, 36.0, 3.0, 9.0, 35.0, 8.0, 23.0, 24.0, 15.0, 55.0, 18.0, 23.0, 24.0, 41.0, 7.0, 25.0, 17.0, 11.0, 8.0, 26.0, 47.0, 6.0, 35.0, 12.0, 5.0, 34.0, 30.0, 22.0, 49.0, 34.0, 14.0, 35.0, 9.0, 4.0, 39.0, 18.0, 22.0, 7.0, 49.0, 47.0, 5.0, 35.0, 20.0, 34.0, 28.0, 41.0, 34.0, 11.0, 9.0, 10.0, 13.0, 25.0, 19.0, 25.0, 36.0, 14.0, 23.0, 5.0, 104.0, 38.0, 26.0, 12.0, 32.0, 30.0, 17.0, 50.0, 15.0, 12.0, 44.0, 10.0, 7.0, 16.0, 21.0, 38.0, 10.0, 23.0, 30.0, 3.0, 16.0, 20.0, 28.0, 3.0, 40.0, 4.0, 40.0, 30.0, 2.0, 7.0, 40.0, 20.0, 22.0, 36.0, 7.0, 11.0, 24.0, 27.0, 17.0, 24.0, 22.0, 18.0, 42.0, 17.0, 16.0, 18.0, 39.0, 19.0, 77.0, 20.0, 26.0, 18.0, 24.0, 8.0, 37.0, 36.0, 9.0, 43.0, 18.0, 37.0, 28.0, 12.0, 3.0, 18.0, 30.0, 17.0, 3.0, 34.0, 21.0, 13.0, 12.0, 13.0, 23.0, 23.0, 13.0, 13.0, 23.0, 32.0, 29.0, 28.0, 21.0, 11.0, 31.0, 21.0, 23.0, 25.0, 6.0, 35.0, 48.0, 4.0, 3.0, 10.0, 14.0, 16.0, 25.0, 34.0, 9.0, 21.0, 39.0, 37.0, 20.0, 10.0, 51.0, 4.0, 3.0, 22.0, 33.0, 20.0, 9.0, 5.0, 32.0, 5.0, 5.0, 10.0, 12.0, 76.0, 25.0, 38.0, 10.0, 15.0, 28.0, 9.0, 18.0, 60.0, 18.0, 3.0, 20.0, 18.0, 27.0, 3.0, 16.0, 16.0, 28.0, 7.0, 5.0, 10.0, 14.0, 25.0, 40.0, 36.0, 79.0, 10.0, 11.0, 29.0, 11.0, 11.0, 23.0, 15.0, 18.0, 15.0, 46.0, 19.0, 18.0, 18.0, 3.0, 55.0, 7.0, 26.0, 19.0, 39.0, 28.0, 5.0, 17.0, 20.0, 12.0, 17.0, 4.0, 17.0, 24.0, 26.0, 19.0, 25.0, 21.0, 15.0, 46.0, 25.0, 43.0, 11.0, 50.0, 22.0, 6.0, 18.0, 27.0, 17.0, 16.0, 5.0, 27.0, 24.0, 19.0, 17.0, 26.0, 20.0, 28.0, 21.0, 18.0, 6.0, 39.0, 26.0, 21.0, 25.0, 36.0, 19.0, 27.0, 57.0, 100.0, 4.0, 31.0, 10.0, 19.0, 31.0, 42.0, 33.0, 14.0, 16.0, 53.0, 29.0, 34.0, 28.0, 40.0, 80.0, 43.0, 22.0, 27.0, 25.0, 15.0, 22.0, 32.0, 36.0, 30.0, 11.0, 5.0, 28.0, 30.0, 8.0, 10.0, 8.0, 24.0, 13.0, 10.0, 56.0, 6.0, 61.0, 56.0, 14.0, 10.0, 23.0, 26.0, 48.0, 23.0, 21.0, 17.0, 7.0, 20.0, 9.0, 19.0, 22.0, 22.0, 24.0, 6.0, 20.0, 21.0, 12.0, 29.0, 41.0, 36.0, 32.0, 35.0, 23.0, 34.0, 9.0, 18.0, 25.0, 27.0, 8.0, 22.0, 19.0, 16.0, 20.0, 17.0, 11.0, 4.0, 20.0, 29.0, 37.0, 5.0, 30.0, 3.0, 5.0, 62.0, 11.0, 23.0, 16.0, 2.0, 28.0, 116.0, 3.0, 29.0, 28.0, 23.0, 74.0, 24.0, 3.0, 4.0, 34.0, 13.0, 25.0, 26.0, 9.0, 11.0, 66.0, 44.0, 26.0, 15.0, 16.0, 14.0, 11.0, 15.0, 15.0, 19.0, 13.0, 16.0, 13.0, 28.0, 36.0, 8.0, 32.0, 8.0, 22.0, 6.0, 57.0, 21.0, 11.0, 18.0, 6.0, 7.0, 26.0, 11.0, 22.0, 30.0, 13.0, 44.0, 23.0, 24.0, 25.0, 5.0, 11.0, 37.0, 28.0, 10.0, 8.0, 35.0, 36.0, 28.0, 17.0, 26.0, 28.0, 26.0, 4.0, 37.0, 29.0, 5.0, 105.0, 38.0, 15.0, 5.0, 9.0, 12.0, 21.0, 3.0, 11.0, 13.0, 31.0, 10.0, 7.0, 18.0, 22.0, 16.0, 14.0, 25.0, 35.0, 22.0, 29.0, 24.0, 19.0, 30.0, 10.0, 7.0, 29.0, 27.0, 32.0, 14.0, 15.0, 23.0, 18.0, 11.0, 3.0, 43.0, 60.0, 7.0, 8.0, 15.0, 12.0, 25.0, 13.0, 25.0, 40.0, 26.0, 11.0, 4.0, 16.0, 21.0, 20.0, 25.0, 25.0, 20.0, 3.0, 19.0, 43.0, 88.0, 20.0, 22.0, 24.0, 11.0, 33.0, 9.0, 27.0, 2.0, 29.0, 37.0, 35.0, 31.0, 24.0, 38.0, 11.0, 19.0, 16.0, 13.0, 18.0, 28.0, 16.0, 21.0, 55.0, 31.0, 33.0, 13.0, 60.0, 48.0, 16.0, 7.0, 32.0, 4.0, 23.0, 4.0, 26.0, 9.0, 15.0, 20.0, 29.0, 23.0, 32.0, 13.0, 19.0, 22.0, 7.0, 51.0, 19.0, 22.0, 37.0, 26.0, 11.0, 33.0, 6.0, 35.0, 36.0, 6.0, 17.0, 32.0, 10.0, 18.0, 16.0, 4.0, 18.0, 8.0, 31.0, 16.0, 33.0, 6.0, 20.0, 11.0, 19.0, 6.0, 7.0, 31.0, 15.0, 25.0, 31.0, 40.0, 19.0, 9.0, 4.0, 7.0, 33.0, 9.0, 20.0, 29.0, 17.0, 14.0, 12.0, 18.0, 16.0, 15.0, 25.0, 33.0, 28.0, 9.0, 28.0, 11.0, 7.0, 19.0, 14.0, 30.0, 24.0, 6.0, 18.0, 15.0, 8.0, 3.0, 8.0, 7.0, 15.0, 25.0, 7.0, 30.0, 25.0, 17.0, 18.0, 22.0, 39.0, 35.0, 25.0, 39.0, 27.0, 9.0, 19.0, 30.0, 11.0, 141.0, 9.0, 17.0, 26.0, 37.0, 17.0, 19.0, 12.0, 26.0, 41.0, 27.0, 6.0, 4.0, 38.0, 16.0, 25.0, 36.0, 50.0, 25.0, 29.0, 36.0, 12.0, 27.0, 58.0, 15.0, 17.0, 36.0, 25.0, 32.0, 32.0, 21.0, 9.0, 21.0, 29.0, 28.0, 6.0, 40.0, 7.0, 22.0, 14.0, 32.0, 14.0, 16.0, 4.0, 26.0, 34.0, 21.0, 19.0, 26.0, 22.0, 34.0, 22.0, 16.0, 9.0, 13.0, 5.0, 38.0, 9.0, 16.0, 41.0, 11.0, 22.0, 4.0, 5.0, 25.0, 35.0, 12.0, 11.0, 30.0, 11.0, 15.0, 13.0, 36.0, 10.0, 19.0, 3.0, 17.0, 8.0, 8.0, 44.0, 3.0, 15.0, 31.0, 14.0, 28.0, 38.0, 4.0, 9.0, 22.0, 20.0, 32.0, 21.0, 58.0, 9.0, 94.0, 24.0, 3.0, 64.0, 53.0, 7.0, 31.0, 6.0, 21.0, 9.0, 12.0, 4.0, 13.0, 4.0, 6.0, 30.0, 16.0, 14.0, 5.0, 5.0, 23.0, 7.0, 23.0, 16.0, 12.0, 117.0, 19.0, 12.0, 24.0, 11.0, 34.0, 14.0, 23.0, 57.0, 13.0, 12.0, 22.0, 30.0, 22.0, 24.0, 28.0, 6.0, 13.0, 23.0, 15.0, 9.0, 11.0, 8.0, 22.0, 18.0, 35.0, 22.0, 5.0, 6.0, 19.0, 35.0, 8.0, 6.0, 12.0, 7.0, 19.0, 7.0, 37.0, 43.0, 3.0, 49.0, 9.0, 23.0, 28.0, 10.0, 5.0, 30.0, 26.0, 6.0, 4.0, 3.0, 35.0, 20.0, 17.0, 8.0, 21.0, 13.0, 37.0, 49.0, 3.0, 13.0, 9.0, 9.0, 15.0, 21.0, 20.0, 19.0, 25.0, 23.0, 23.0, 4.0, 40.0, 10.0, 25.0, 10.0, 53.0, 9.0, 18.0, 29.0, 23.0, 16.0, 20.0, 10.0, 9.0, 69.0, 12.0, 33.0, 30.0, 56.0, 26.0, 9.0, 38.0, 35.0, 33.0, 18.0, 32.0, 8.0, 9.0, 25.0, 15.0, 6.0, 9.0, 34.0, 9.0, 36.0, 7.0, 13.0, 21.0, 8.0, 4.0, 11.0, 18.0, 6.0, 21.0, 27.0, 14.0, 19.0, 22.0, 11.0, 3.0, 18.0, 15.0, 50.0, 8.0, 21.0, 22.0, 5.0, 9.0, 12.0, 28.0, 14.0, 3.0, 15.0, 20.0, 4.0, 12.0, 16.0, 33.0, 4.0, 14.0, 10.0, 20.0, 13.0, 24.0, 12.0, 7.0, 20.0, 13.0, 23.0, 18.0, 13.0, 27.0, 11.0, 22.0, 12.0, 3.0, 14.0, 26.0, 11.0, 34.0, 9.0, 25.0, 17.0, 11.0, 13.0, 13.0, 24.0, 45.0, 12.0, 12.0, 36.0, 10.0, 18.0, 12.0, 18.0, 7.0, 6.0, 18.0, 72.0, 19.0, 18.0, 14.0, 19.0, 24.0, 3.0, 20.0, 4.0, 37.0, 9.0, 36.0, 17.0, 28.0, 25.0, 37.0, 20.0, 17.0, 14.0, 19.0, 4.0, 13.0, 22.0, 2.0, 15.0, 4.0, 13.0, 30.0, 40.0, 7.0, 14.0, 3.0, 25.0, 41.0, 3.0, 6.0, 27.0, 15.0, 39.0, 19.0, 6.0, 70.0, 9.0, 28.0, 32.0, 19.0, 16.0, 19.0, 42.0, 18.0, 33.0, 4.0, 30.0, 15.0, 9.0, 34.0, 14.0, 23.0, 20.0, 24.0, 32.0, 22.0, 38.0, 5.0, 20.0, 9.0, 31.0, 25.0, 71.0, 38.0, 13.0, 49.0, 12.0, 21.0, 25.0, 31.0, 22.0, 6.0, 20.0, 26.0, 23.0, 2.0, 2.0, 90.0, 21.0, 31.0, 26.0, 34.0, 6.0, 25.0, 9.0, 25.0, 55.0, 18.0, 15.0, 22.0, 28.0, 41.0, 6.0, 21.0, 47.0, 10.0, 21.0, 4.0, 39.0, 24.0, 15.0, 6.0, 53.0, 13.0, 24.0, 30.0, 32.0, 10.0, 30.0, 11.0, 8.0, 24.0, 22.0, 10.0, 21.0, 57.0, 7.0, 19.0, 46.0, 23.0, 7.0, 9.0, 46.0, 18.0, 30.0, 14.0, 32.0, 16.0, 8.0, 32.0, 22.0, 14.0, 22.0, 39.0, 17.0, 19.0, 19.0, 12.0, 22.0, 26.0, 15.0, 8.0, 19.0, 9.0, 6.0, 15.0, 27.0, 21.0, 16.0, 21.0, 8.0, 22.0, 12.0, 35.0, 55.0, 46.0, 27.0, 33.0, 16.0, 5.0, 27.0, 29.0, 24.0, 105.0, 16.0, 15.0, 9.0, 10.0, 6.0, 24.0, 41.0, 11.0, 18.0, 19.0, 9.0, 20.0, 6.0, 16.0, 24.0, 22.0, 21.0, 5.0, 7.0, 4.0, 10.0, 31.0, 22.0, 39.0, 21.0, 37.0, 11.0, 26.0, 27.0, 41.0, 14.0, 30.0, 15.0, 6.0, 9.0, 27.0, 16.0, 9.0, 5.0, 7.0, 14.0, 18.0, 19.0, 17.0, 15.0, 5.0, 6.0, 30.0, 29.0, 10.0, 14.0, 20.0, 6.0, 78.0, 29.0, 21.0, 16.0, 30.0, 4.0, 8.0, 6.0, 19.0, 10.0, 46.0, 12.0, 12.0, 21.0, 10.0, 26.0, 13.0, 28.0, 14.0, 2.0, 12.0, 36.0, 44.0, 35.0, 2.0, 15.0, 6.0, 22.0, 8.0, 19.0, 32.0, 4.0, 44.0, 26.0, 75.0, 17.0, 13.0, 18.0, 32.0, 2.0, 20.0, 15.0, 20.0, 28.0, 28.0, 21.0, 14.0, 27.0, 26.0, 5.0, 31.0, 32.0, 63.0, 13.0, 17.0, 50.0, 26.0, 50.0, 19.0, 30.0, 17.0, 24.0, 39.0, 53.0, 32.0, 17.0, 6.0, 24.0, 16.0, 27.0, 19.0, 51.0, 11.0, 28.0, 64.0, 24.0, 23.0, 16.0, 20.0, 9.0, 10.0, 9.0, 68.0, 23.0, 61.0, 34.0, 7.0, 20.0, 20.0, 24.0, 9.0, 16.0, 26.0, 5.0, 7.0, 12.0, 6.0, 27.0, 19.0, 31.0, 10.0, 17.0, 11.0, 29.0, 6.0, 26.0, 27.0, 7.0, 28.0, 20.0, 24.0, 42.0, 20.0, 53.0, 8.0, 15.0, 28.0, 7.0, 3.0, 12.0, 22.0, 7.0, 26.0, 5.0, 9.0, 6.0, 16.0, 4.0, 14.0, 22.0, 13.0, 24.0, 36.0, 18.0, 11.0, 6.0, 15.0, 18.0, 4.0, 17.0, 26.0, 12.0, 17.0, 31.0, 17.0, 19.0, 14.0, 22.0, 11.0, 12.0, 3.0, 19.0, 24.0, 38.0, 12.0, 11.0, 11.0, 14.0, 32.0, 23.0, 5.0, 33.0, 38.0, 10.0, 33.0, 15.0, 15.0, 4.0, 65.0, 26.0, 9.0, 7.0, 13.0, 34.0, 20.0, 16.0, 44.0, 22.0, 26.0, 6.0, 41.0, 3.0, 2.0, 33.0, 39.0, 24.0, 6.0, 15.0, 42.0, 66.0, 6.0, 46.0, 16.0, 26.0, 27.0, 17.0, 18.0, 23.0, 30.0, 30.0, 23.0, 26.0, 26.0, 26.0, 7.0, 36.0, 22.0, 3.0, 17.0, 47.0, 4.0, 22.0, 10.0, 17.0, 22.0, 21.0, 9.0, 11.0, 19.0, 30.0, 34.0, 11.0, 6.0, 3.0, 20.0, 7.0, 11.0, 6.0, 39.0, 14.0, 15.0, 22.0, 21.0, 4.0, 9.0, 11.0, 32.0, 19.0, 13.0, 31.0, 4.0, 22.0, 14.0, 126.0, 9.0, 19.0, 44.0, 14.0, 5.0, 22.0, 41.0, 26.0, 38.0, 8.0, 11.0, 30.0, 46.0, 30.0, 20.0, 15.0, 17.0, 34.0, 41.0, 4.0, 25.0, 46.0, 34.0, 43.0, 9.0, 15.0, 23.0, 30.0, 27.0, 23.0, 3.0, 14.0, 42.0, 4.0, 50.0, 8.0, 9.0, 35.0, 10.0, 4.0, 28.0, 10.0, 8.0, 20.0, 40.0, 16.0, 34.0, 39.0, 24.0, 29.0, 11.0, 2.0, 3.0, 6.0, 2.0, 39.0, 14.0, 9.0, 22.0, 28.0, 34.0, 31.0, 20.0, 38.0, 7.0, 7.0, 22.0, 13.0, 55.0, 11.0, 14.0, 15.0, 8.0, 44.0, 24.0, 40.0, 8.0, 34.0, 11.0, 22.0, 121.0, 4.0, 27.0, 8.0, 12.0, 24.0, 31.0, 16.0, 15.0, 6.0, 26.0, 4.0, 47.0, 11.0, 22.0, 5.0, 8.0, 23.0, 23.0, 30.0, 23.0, 27.0, 10.0, 30.0, 5.0, 16.0, 35.0, 22.0, 15.0, 29.0, 35.0, 13.0, 14.0, 4.0, 19.0, 14.0, 30.0, 24.0, 35.0, 25.0, 6.0, 17.0, 9.0, 17.0, 20.0, 19.0, 17.0, 6.0, 29.0, 4.0, 17.0, 32.0, 9.0, 9.0, 23.0, 25.0, 20.0, 110.0, 26.0, 18.0, 18.0, 5.0, 7.0, 13.0, 11.0, 17.0, 30.0, 35.0, 28.0, 17.0, 61.0, 10.0, 9.0, 83.0, 27.0, 19.0, 38.0, 6.0, 10.0, 9.0, 27.0, 14.0, 41.0, 19.0, 21.0, 14.0, 17.0, 4.0, 35.0, 16.0, 18.0, 14.0, 18.0, 26.0, 30.0, 15.0, 12.0, 35.0, 75.0, 11.0, 14.0, 29.0, 19.0, 21.0, 47.0, 6.0, 44.0, 15.0, 5.0, 14.0, 7.0, 28.0, 8.0, 5.0, 11.0, 16.0, 8.0, 14.0, 12.0, 4.0, 3.0, 9.0, 24.0, 29.0, 27.0, 20.0, 22.0, 32.0, 21.0, 25.0, 2.0, 9.0, 25.0, 31.0, 29.0, 8.0, 14.0, 18.0, 5.0, 20.0, 35.0, 26.0, 32.0, 9.0, 6.0, 40.0, 13.0, 129.0, 38.0, 12.0, 23.0, 43.0, 21.0, 58.0, 17.0, 40.0, 20.0, 32.0, 41.0, 18.0, 93.0, 5.0, 15.0, 19.0, 27.0, 17.0, 32.0, 12.0, 21.0, 16.0, 7.0, 21.0, 35.0, 5.0, 37.0, 16.0, 6.0, 21.0, 23.0, 24.0, 72.0, 20.0, 17.0, 6.0, 6.0, 9.0, 73.0, 60.0, 7.0, 6.0, 13.0, 10.0, 24.0, 17.0, 35.0, 22.0, 31.0, 2.0, 12.0, 34.0, 5.0, 47.0, 17.0, 20.0, 5.0, 30.0, 19.0, 5.0, 58.0, 12.0, 30.0, 27.0, 36.0, 35.0, 11.0, 11.0, 23.0, 29.0, 33.0, 23.0, 26.0, 5.0, 8.0, 15.0, 29.0, 34.0, 16.0, 3.0, 30.0, 11.0, 12.0, 5.0, 24.0, 68.0, 24.0, 31.0, 14.0, 33.0, 41.0, 4.0, 4.0, 3.0, 8.0, 29.0, 4.0, 7.0, 6.0, 16.0, 3.0, 12.0, 24.0, 46.0, 15.0, 7.0, 32.0, 40.0, 15.0, 5.0, 13.0, 20.0, 11.0, 21.0, 16.0, 15.0, 17.0, 29.0, 22.0, 11.0, 10.0, 42.0, 14.0, 19.0, 26.0, 12.0, 9.0, 6.0, 31.0, 13.0, 9.0, 25.0, 10.0, 16.0, 24.0, 16.0, 12.0, 18.0, 18.0, 21.0, 4.0, 21.0, 11.0, 70.0, 12.0, 10.0, 21.0, 21.0, 31.0, 20.0, 11.0, 24.0, 22.0, 3.0, 30.0, 21.0, 33.0, 25.0, 19.0, 15.0, 23.0, 8.0, 32.0, 11.0, 28.0, 14.0, 9.0, 36.0, 23.0, 5.0, 8.0, 15.0, 6.0, 12.0, 25.0, 21.0, 16.0, 11.0, 29.0, 32.0, 30.0, 22.0, 8.0, 39.0, 7.0, 22.0, 42.0, 19.0, 45.0, 13.0, 10.0, 20.0, 6.0, 19.0, 39.0, 28.0, 20.0, 16.0, 18.0, 3.0, 12.0, 11.0, 18.0, 18.0, 9.0, 8.0, 4.0, 8.0, 29.0, 22.0, 17.0, 16.0, 19.0, 17.0, 48.0, 23.0, 24.0, 92.0, 17.0, 16.0, 5.0, 16.0, 54.0, 9.0, 25.0, 13.0, 38.0, 27.0, 26.0, 22.0, 21.0, 18.0, 20.0, 18.0, 18.0, 8.0, 92.0, 13.0, 56.0, 18.0, 35.0, 5.0, 52.0, 17.0, 29.0, 16.0, 17.0, 9.0, 3.0, 38.0, 9.0, 20.0, 17.0, 4.0, 12.0, 6.0, 56.0, 11.0, 27.0, 21.0, 10.0, 11.0, 30.0, 13.0, 3.0, 11.0, 15.0, 8.0, 19.0, 3.0, 12.0, 17.0, 22.0, 14.0, 17.0, 11.0, 48.0, 13.0, 22.0, 7.0, 3.0, 27.0, 36.0, 17.0, 41.0, 16.0, 7.0, 37.0, 18.0, 26.0, 56.0, 55.0, 18.0, 89.0, 20.0, 2.0, 23.0, 30.0, 30.0, 23.0, 38.0, 3.0, 32.0, 19.0, 24.0, 20.0, 6.0, 97.0, 37.0, 25.0, 6.0, 7.0, 13.0, 24.0, 77.0, 36.0, 47.0, 11.0, 16.0, 30.0, 15.0, 5.0, 19.0, 53.0, 9.0, 37.0, 38.0, 24.0, 17.0, 36.0, 44.0, 10.0, 9.0, 12.0, 11.0, 4.0, 23.0, 31.0, 7.0, 24.0, 26.0, 8.0, 9.0, 5.0, 23.0, 19.0, 20.0, 10.0, 32.0, 6.0, 6.0, 48.0, 27.0, 6.0, 33.0, 8.0, 41.0, 8.0, 18.0, 6.0, 16.0, 15.0, 21.0, 5.0, 4.0, 27.0, 14.0, 33.0, 2.0, 13.0, 55.0, 20.0, 6.0, 20.0, 17.0, 20.0, 8.0, 19.0, 19.0, 12.0, 17.0, 8.0, 10.0, 19.0, 18.0, 20.0, 8.0, 4.0, 19.0, 11.0, 23.0, 18.0, 10.0, 34.0, 14.0, 28.0, 5.0, 25.0, 12.0, 9.0, 26.0, 90.0, 19.0, 20.0, 28.0, 14.0, 27.0, 10.0, 41.0, 30.0, 16.0, 7.0, 96.0, 5.0, 46.0, 13.0, 11.0, 11.0, 26.0, 5.0, 32.0, 51.0, 57.0, 38.0, 25.0, 16.0, 20.0, 15.0, 18.0, 8.0, 20.0, 30.0, 27.0, 11.0, 9.0, 4.0, 20.0, 5.0, 19.0, 18.0, 17.0, 47.0, 34.0, 20.0, 5.0, 11.0, 11.0, 51.0, 22.0, 14.0, 4.0, 4.0, 31.0, 15.0, 22.0, 20.0, 8.0, 3.0, 22.0, 22.0, 74.0, 8.0, 15.0, 24.0, 16.0, 22.0, 14.0, 11.0, 24.0, 55.0, 11.0, 45.0, 30.0, 74.0, 32.0, 12.0, 11.0, 10.0, 40.0, 19.0, 18.0, 27.0, 6.0, 15.0, 22.0, 15.0, 20.0, 10.0, 3.0, 4.0, 8.0, 36.0, 32.0, 5.0, 4.0, 3.0, 33.0, 30.0, 8.0, 21.0, 18.0, 8.0, 16.0, 23.0, 27.0, 23.0, 12.0, 21.0, 11.0, 6.0, 14.0, 12.0, 9.0, 12.0, 12.0, 9.0, 6.0, 21.0, 15.0, 15.0, 27.0, 14.0, 35.0, 23.0, 7.0, 29.0, 3.0, 20.0, 17.0, 46.0, 15.0, 12.0, 11.0, 26.0, 31.0, 22.0, 6.0, 13.0, 22.0, 13.0, 33.0, 18.0, 12.0, 30.0, 6.0, 42.0, 32.0, 28.0, 23.0, 21.0, 73.0, 29.0, 13.0, 16.0, 28.0, 10.0, 29.0, 16.0, 61.0, 19.0, 4.0, 14.0, 17.0, 27.0, 8.0, 10.0, 15.0, 6.0, 14.0, 32.0, 10.0, 22.0, 9.0, 22.0, 20.0, 23.0, 17.0, 4.0, 8.0, 22.0, 6.0, 15.0, 18.0, 64.0, 43.0, 54.0, 28.0, 4.0, 12.0, 25.0, 23.0, 6.0, 70.0, 24.0, 19.0, 25.0, 6.0, 5.0, 19.0, 6.0, 4.0, 24.0, 12.0, 11.0, 10.0, 16.0, 24.0, 43.0, 40.0, 34.0, 27.0, 23.0, 20.0, 44.0, 5.0, 15.0, 12.0, 12.0, 22.0, 12.0, 13.0, 7.0, 18.0, 16.0, 21.0, 10.0, 8.0, 6.0, 23.0, 77.0, 16.0, 26.0, 8.0, 17.0, 21.0, 8.0, 45.0, 8.0, 30.0, 7.0, 15.0, 10.0, 22.0, 21.0, 5.0, 15.0, 8.0, 38.0, 13.0, 22.0, 38.0, 10.0, 14.0, 28.0, 18.0, 20.0, 10.0, 37.0, 40.0, 24.0, 19.0, 7.0, 18.0, 9.0, 13.0, 5.0, 12.0, 33.0, 30.0, 19.0, 34.0, 14.0, 15.0, 15.0, 58.0, 11.0, 19.0, 28.0, 4.0, 28.0, 13.0, 19.0, 30.0, 31.0, 10.0, 21.0, 16.0, 42.0, 16.0, 8.0, 10.0, 35.0, 36.0, 27.0, 23.0, 6.0, 24.0, 29.0, 43.0, 7.0, 36.0, 42.0, 28.0, 36.0, 7.0, 26.0, 13.0, 10.0, 13.0, 19.0, 20.0, 22.0, 22.0, 32.0, 37.0, 10.0, 20.0, 14.0, 4.0, 33.0, 23.0, 27.0, 64.0, 21.0, 51.0, 17.0, 21.0, 7.0, 25.0, 41.0, 17.0, 17.0, 8.0, 30.0, 3.0, 9.0, 124.0, 30.0, 21.0, 4.0, 18.0, 4.0, 6.0, 16.0, 19.0, 7.0, 32.0, 11.0, 36.0, 22.0, 11.0, 29.0, 7.0, 7.0, 20.0, 11.0, 15.0, 6.0, 13.0, 21.0, 16.0, 21.0, 21.0, 17.0, 54.0, 9.0, 8.0, 15.0, 11.0, 28.0, 25.0, 22.0, 14.0, 24.0, 18.0, 21.0, 31.0, 22.0, 6.0, 32.0, 13.0, 17.0, 20.0, 14.0, 33.0, 28.0, 22.0, 31.0, 6.0, 15.0, 12.0, 13.0, 11.0, 24.0, 14.0, 28.0, 36.0, 13.0, 14.0, 16.0, 17.0, 35.0, 49.0, 22.0, 5.0, 27.0, 10.0, 6.0, 24.0, 32.0, 10.0, 11.0, 16.0, 29.0, 12.0, 21.0, 5.0, 23.0, 12.0, 12.0, 14.0, 7.0, 14.0, 13.0, 29.0, 6.0, 30.0, 23.0, 20.0, 14.0, 21.0, 6.0, 12.0, 14.0, 7.0, 25.0, 4.0, 25.0, 41.0, 15.0, 35.0, 16.0, 23.0, 16.0, 37.0, 33.0, 12.0, 5.0, 27.0, 10.0, 23.0, 16.0, 21.0, 11.0, 38.0, 13.0, 16.0, 16.0, 20.0, 34.0, 19.0, 14.0, 33.0, 19.0, 13.0, 37.0, 5.0, 25.0, 33.0, 18.0, 38.0, 26.0, 11.0, 26.0, 13.0, 15.0, 8.0, 19.0, 11.0, 12.0, 18.0, 27.0, 23.0, 27.0, 19.0, 27.0, 9.0, 7.0, 9.0, 10.0, 11.0, 15.0, 20.0, 15.0, 53.0, 7.0, 14.0, 13.0, 21.0, 30.0, 23.0, 25.0, 6.0, 40.0, 19.0, 5.0, 12.0, 10.0, 5.0, 7.0, 32.0, 33.0, 6.0, 19.0, 9.0, 14.0, 24.0, 87.0, 15.0, 13.0, 32.0, 30.0, 24.0, 15.0, 10.0, 6.0, 11.0, 11.0, 17.0, 26.0, 13.0, 9.0, 43.0, 10.0, 25.0, 34.0, 28.0, 9.0, 3.0, 37.0, 29.0, 9.0, 37.0, 9.0, 31.0, 22.0, 6.0, 14.0, 72.0, 26.0, 36.0, 10.0, 23.0, 17.0, 10.0, 11.0, 13.0, 21.0, 30.0, 19.0, 39.0, 14.0, 19.0, 5.0, 42.0, 12.0, 24.0, 41.0, 33.0, 21.0, 20.0, 18.0, 25.0, 27.0, 26.0, 17.0, 13.0, 8.0, 34.0, 63.0, 14.0, 40.0, 21.0, 10.0, 12.0, 8.0, 21.0, 26.0, 21.0, 15.0, 26.0, 17.0, 20.0, 10.0, 20.0, 36.0, 8.0, 33.0, 10.0, 23.0, 33.0, 17.0, 25.0, 11.0, 47.0, 20.0, 13.0, 12.0, 21.0, 27.0, 16.0, 7.0, 18.0, 20.0, 10.0, 12.0, 48.0, 32.0, 53.0, 25.0, 8.0, 47.0, 14.0, 5.0, 17.0, 68.0, 27.0, 37.0, 67.0, 8.0, 7.0, 9.0, 22.0, 14.0, 81.0, 19.0, 26.0, 24.0, 8.0, 40.0, 27.0, 41.0, 20.0, 11.0, 7.0, 44.0, 43.0, 35.0, 32.0, 32.0, 10.0, 16.0, 11.0, 24.0, 17.0, 23.0, 17.0, 13.0, 6.0, 64.0, 11.0, 42.0, 39.0, 18.0, 26.0, 19.0, 18.0, 26.0, 5.0, 36.0, 24.0, 24.0, 21.0, 8.0, 26.0, 12.0, 5.0, 35.0, 24.0, 18.0, 10.0, 12.0, 15.0, 21.0, 60.0, 24.0, 16.0, 30.0, 25.0, 27.0, 15.0, 40.0, 17.0, 8.0, 29.0, 12.0, 7.0, 2.0, 36.0, 38.0, 14.0, 22.0, 11.0, 7.0, 28.0, 14.0, 19.0, 10.0, 34.0, 14.0, 3.0, 11.0, 14.0, 29.0, 30.0, 22.0, 13.0, 20.0, 15.0, 28.0, 12.0, 27.0, 18.0, 21.0, 12.0, 12.0, 18.0, 13.0, 7.0, 13.0, 20.0, 17.0, 10.0, 8.0, 7.0, 55.0, 14.0, 28.0, 30.0, 9.0, 19.0, 20.0, 26.0, 13.0, 9.0, 18.0, 25.0, 31.0, 8.0, 16.0, 26.0, 14.0, 9.0, 7.0, 43.0, 22.0, 15.0, 4.0, 24.0, 15.0, 23.0, 7.0, 18.0, 22.0, 26.0, 16.0, 11.0, 20.0, 36.0, 10.0, 33.0, 24.0, 32.0, 24.0, 14.0, 19.0, 49.0, 14.0, 23.0, 50.0, 32.0, 48.0, 13.0, 19.0, 27.0, 29.0, 14.0, 89.0, 9.0, 13.0, 12.0, 33.0, 26.0, 27.0, 20.0, 28.0, 14.0, 17.0, 14.0, 11.0, 13.0, 13.0, 32.0, 46.0, 15.0, 12.0, 13.0, 25.0, 11.0, 17.0, 16.0, 18.0, 19.0, 15.0, 17.0, 12.0, 35.0, 7.0, 28.0, 12.0, 14.0, 44.0, 6.0, 24.0, 8.0, 37.0, 7.0, 17.0, 29.0, 7.0, 15.0, 14.0, 8.0, 11.0, 37.0, 29.0, 5.0, 30.0, 22.0, 53.0, 11.0, 63.0, 58.0, 31.0, 5.0, 27.0, 27.0, 17.0, 29.0, 16.0, 18.0, 8.0, 27.0, 16.0, 45.0, 33.0, 6.0, 33.0, 17.0, 11.0, 39.0, 45.0, 33.0, 12.0, 31.0, 52.0, 14.0, 12.0, 25.0, 28.0, 19.0, 76.0, 24.0, 13.0, 23.0, 30.0, 17.0, 29.0, 11.0, 12.0, 17.0, 11.0, 12.0, 3.0, 8.0, 11.0, 29.0, 21.0, 54.0, 20.0, 10.0, 35.0, 20.0, 19.0, 15.0, 33.0, 15.0, 24.0, 14.0, 22.0, 35.0, 14.0, 28.0, 14.0, 17.0, 18.0, 34.0, 14.0, 30.0, 18.0, 67.0, 16.0, 7.0, 33.0, 18.0, 13.0, 15.0, 45.0, 14.0, 25.0, 64.0, 39.0, 14.0, 7.0, 29.0, 11.0, 5.0, 7.0, 10.0, 35.0, 23.0, 14.0, 11.0, 18.0, 23.0, 8.0, 22.0, 30.0, 27.0, 20.0, 22.0, 19.0, 27.0, 18.0, 12.0, 45.0, 11.0, 21.0, 34.0, 20.0, 30.0, 21.0, 10.0, 12.0, 8.0, 36.0, 27.0, 12.0, 22.0, 10.0, 6.0, 37.0, 23.0, 22.0, 62.0, 33.0, 15.0, 51.0, 22.0, 12.0, 12.0, 9.0, 38.0, 10.0, 23.0, 15.0, 20.0, 12.0, 23.0, 25.0, 37.0, 17.0, 13.0, 27.0, 12.0, 21.0, 37.0, 17.0, 14.0, 34.0, 17.0, 19.0, 28.0, 43.0, 22.0, 50.0, 31.0, 31.0, 16.0, 11.0, 41.0, 13.0, 29.0, 4.0, 16.0, 15.0, 21.0, 10.0, 20.0, 7.0, 11.0, 16.0, 37.0, 10.0, 15.0, 36.0, 38.0, 38.0, 72.0, 40.0, 33.0, 19.0, 45.0, 10.0, 23.0, 7.0, 15.0, 6.0, 19.0, 22.0, 35.0, 4.0, 25.0, 22.0, 29.0, 47.0, 5.0, 10.0, 82.0, 21.0, 12.0, 6.0, 21.0, 48.0, 17.0, 22.0, 35.0, 29.0, 18.0, 64.0, 82.0, 18.0, 27.0, 30.0, 16.0, 17.0, 23.0, 17.0, 18.0, 25.0, 60.0, 16.0, 5.0, 6.0, 24.0, 24.0, 8.0, 17.0, 21.0, 12.0, 14.0, 34.0, 6.0, 3.0, 21.0, 17.0, 68.0, 8.0, 13.0, 22.0, 50.0, 63.0, 11.0, 6.0, 17.0, 34.0, 16.0, 7.0, 4.0, 30.0, 66.0, 14.0, 9.0, 41.0, 27.0, 25.0, 4.0, 34.0, 67.0, 48.0, 48.0, 31.0, 49.0, 20.0, 7.0, 7.0, 18.0, 35.0, 21.0, 40.0, 7.0, 21.0, 7.0, 18.0, 11.0, 4.0, 40.0, 10.0, 40.0, 83.0, 48.0, 7.0, 19.0, 19.0, 20.0, 4.0, 23.0, 157.0, 7.0, 24.0, 99.0, 27.0, 48.0, 16.0, 7.0, 49.0, 10.0, 6.0, 30.0, 28.0, 15.0, 20.0, 20.0, 13.0, 8.0, 17.0, 15.0, 13.0, 37.0, 25.0, 39.0, 30.0, 6.0, 25.0, 11.0, 16.0, 15.0, 27.0, 27.0, 15.0, 4.0, 13.0, 13.0, 10.0, 33.0, 12.0, 32.0, 20.0, 22.0, 21.0, 17.0, 12.0, 23.0, 16.0, 32.0, 24.0, 22.0, 9.0, 20.0, 8.0, 14.0, 13.0, 17.0, 16.0, 10.0, 14.0, 24.0, 9.0, 20.0, 9.0, 35.0, 21.0, 15.0, 28.0, 22.0, 13.0, 11.0, 32.0, 25.0, 27.0, 17.0, 16.0, 21.0, 7.0, 21.0, 23.0, 18.0, 15.0, 20.0, 5.0, 24.0, 17.0, 27.0, 26.0, 24.0, 15.0, 17.0, 10.0, 37.0, 3.0, 28.0, 39.0, 21.0, 22.0, 22.0, 26.0, 13.0, 31.0, 31.0, 9.0, 17.0, 17.0, 10.0, 25.0, 5.0, 25.0, 22.0, 20.0, 17.0, 7.0, 32.0, 12.0, 23.0, 23.0, 18.0, 30.0, 12.0, 25.0, 29.0, 19.0, 26.0, 24.0, 18.0, 19.0, 51.0, 11.0, 6.0, 30.0, 9.0, 29.0, 16.0, 8.0, 19.0, 11.0, 15.0, 27.0, 34.0, 8.0, 10.0, 14.0, 16.0, 13.0, 8.0, 5.0, 8.0, 21.0, 11.0, 25.0, 66.0, 14.0, 25.0, 25.0, 19.0, 20.0, 2.0, 27.0, 18.0, 12.0, 12.0, 19.0, 12.0, 38.0, 9.0, 28.0, 12.0, 7.0, 13.0, 22.0, 46.0, 40.0, 22.0, 17.0, 7.0, 41.0, 18.0, 5.0, 7.0, 19.0, 13.0, 34.0, 10.0, 15.0, 15.0, 25.0, 19.0, 20.0, 51.0, 25.0, 28.0, 3.0, 12.0, 27.0, 26.0, 16.0, 13.0, 20.0, 14.0, 17.0, 44.0, 67.0, 4.0, 19.0, 25.0, 16.0, 22.0, 16.0, 16.0, 77.0, 12.0, 18.0, 17.0, 7.0, 16.0, 3.0, 16.0, 6.0, 25.0, 9.0, 31.0, 13.0, 14.0, 24.0, 16.0, 43.0, 12.0, 17.0, 16.0, 23.0, 11.0, 6.0, 6.0, 22.0, 13.0, 18.0, 14.0, 20.0, 9.0, 15.0, 5.0, 10.0, 11.0, 41.0, 22.0, 19.0, 14.0, 11.0, 21.0, 7.0, 26.0, 13.0, 20.0, 19.0, 3.0, 29.0, 18.0, 21.0, 9.0, 11.0, 17.0, 43.0, 18.0, 30.0, 4.0, 11.0, 24.0, 15.0, 8.0, 13.0, 27.0, 10.0, 14.0, 13.0, 11.0, 13.0, 5.0, 5.0, 10.0, 18.0, 32.0, 3.0, 19.0, 24.0, 23.0, 9.0, 13.0, 21.0, 26.0, 21.0, 17.0, 31.0, 37.0, 22.0, 31.0, 13.0, 16.0, 32.0, 13.0, 15.0, 16.0, 20.0, 9.0, 10.0, 7.0, 6.0, 10.0, 30.0, 16.0, 21.0, 6.0, 7.0, 34.0, 6.0, 15.0, 17.0, 27.0, 48.0, 15.0, 36.0, 16.0, 21.0, 12.0, 22.0, 13.0, 13.0, 15.0, 6.0, 48.0, 21.0, 17.0, 9.0, 17.0, 25.0, 17.0, 41.0, 26.0, 28.0, 23.0, 41.0, 32.0, 26.0, 16.0, 12.0, 24.0, 22.0, 53.0, 12.0, 16.0, 11.0, 25.0, 38.0, 41.0, 5.0, 19.0, 20.0, 24.0, 10.0, 6.0, 16.0, 32.0, 37.0, 12.0, 13.0, 8.0, 19.0, 14.0, 29.0, 9.0, 16.0, 13.0, 21.0, 31.0, 13.0, 13.0, 16.0, 38.0, 12.0, 26.0, 23.0, 27.0, 16.0, 18.0, 14.0, 14.0, 17.0, 15.0, 10.0, 22.0, 24.0, 6.0, 16.0, 9.0, 21.0, 19.0, 26.0, 14.0, 16.0, 21.0, 24.0, 15.0, 26.0, 24.0, 5.0, 22.0, 9.0, 15.0, 12.0, 16.0, 22.0, 16.0, 26.0, 17.0, 8.0, 30.0, 32.0, 19.0, 5.0, 22.0, 12.0, 9.0, 37.0, 10.0, 19.0, 15.0, 39.0, 18.0, 19.0, 20.0, 2.0, 64.0, 11.0, 23.0, 37.0, 11.0, 11.0, 14.0, 9.0, 16.0, 14.0, 18.0, 39.0, 47.0, 17.0, 52.0, 28.0, 7.0, 10.0, 26.0, 11.0, 24.0, 13.0, 5.0, 36.0, 19.0, 18.0, 10.0, 36.0, 13.0, 34.0, 27.0, 10.0, 21.0, 8.0, 22.0, 7.0, 10.0, 23.0, 33.0, 19.0, 17.0, 14.0, 13.0, 10.0, 5.0, 8.0, 25.0, 15.0, 12.0, 19.0, 10.0, 10.0, 5.0, 27.0, 17.0, 15.0, 14.0, 2.0, 3.0, 10.0, 14.0, 15.0, 6.0, 17.0, 32.0, 26.0, 12.0, 10.0, 31.0, 44.0, 3.0, 22.0, 25.0, 8.0, 12.0, 10.0, 29.0, 19.0, 22.0, 17.0, 8.0, 21.0, 17.0, 23.0, 10.0, 15.0, 13.0, 3.0, 2.0, 47.0, 24.0, 18.0, 34.0, 6.0, 36.0, 19.0, 18.0, 11.0, 7.0, 17.0, 14.0, 13.0, 8.0, 24.0, 5.0, 14.0, 16.0, 24.0, 22.0, 28.0, 19.0, 37.0, 16.0, 14.0, 47.0, 18.0, 13.0, 9.0, 26.0, 18.0, 22.0, 18.0, 14.0, 24.0, 44.0, 18.0, 2.0, 34.0, 11.0, 9.0, 24.0, 3.0, 10.0, 18.0, 9.0, 11.0, 23.0, 19.0, 31.0, 17.0, 9.0, 16.0, 37.0, 24.0, 13.0, 12.0, 16.0, 19.0, 10.0, 16.0, 14.0, 11.0, 24.0, 25.0, 26.0, 18.0, 40.0, 19.0, 23.0, 8.0, 37.0, 11.0, 9.0, 5.0, 44.0, 12.0, 26.0, 22.0, 4.0, 11.0, 19.0, 11.0, 8.0, 23.0, 15.0, 31.0, 34.0, 22.0, 10.0, 66.0, 19.0, 31.0, 33.0, 22.0, 11.0, 34.0, 22.0, 12.0, 39.0, 21.0, 27.0, 26.0, 26.0, 28.0, 27.0, 17.0, 26.0, 24.0, 26.0, 18.0, 16.0, 11.0, 9.0, 18.0, 17.0, 17.0, 13.0, 15.0, 10.0, 19.0, 28.0, 34.0, 55.0, 14.0, 37.0, 35.0, 49.0, 18.0, 8.0, 9.0, 19.0, 10.0, 17.0, 28.0, 17.0, 26.0, 36.0, 9.0, 31.0, 31.0, 8.0, 28.0, 12.0, 14.0, 9.0, 6.0, 33.0, 30.0, 13.0, 4.0, 19.0, 22.0, 35.0, 8.0, 7.0, 28.0, 15.0, 11.0, 18.0, 21.0, 43.0, 9.0, 18.0, 13.0, 18.0, 10.0, 12.0, 16.0, 7.0, 15.0, 16.0, 29.0, 34.0, 11.0, 18.0, 13.0, 30.0, 21.0, 15.0, 2.0, 37.0, 24.0, 15.0, 28.0, 20.0, 21.0, 9.0, 24.0, 11.0, 3.0, 22.0, 23.0, 13.0, 18.0, 5.0, 32.0, 6.0, 25.0, 28.0, 22.0, 6.0, 16.0, 26.0, 12.0, 24.0, 30.0, 56.0, 17.0, 22.0, 9.0, 31.0, 17.0, 9.0, 24.0, 17.0, 24.0, 22.0, 27.0, 23.0, 16.0, 6.0, 32.0, 22.0, 18.0, 24.0, 10.0, 16.0, 14.0, 20.0, 6.0, 9.0, 28.0, 8.0, 41.0, 14.0, 10.0, 24.0, 41.0, 22.0, 15.0, 12.0, 9.0, 17.0, 11.0, 14.0, 17.0, 19.0, 30.0, 21.0, 29.0, 14.0, 3.0, 10.0, 16.0, 9.0, 18.0, 14.0, 20.0, 25.0, 49.0, 10.0, 28.0, 22.0, 12.0, 14.0, 13.0, 2.0, 24.0, 16.0, 19.0, 6.0, 15.0, 12.0, 12.0, 28.0, 12.0, 5.0, 8.0, 11.0, 17.0, 30.0, 12.0, 25.0, 11.0, 3.0, 17.0, 11.0, 4.0, 17.0, 26.0, 41.0, 12.0, 24.0, 43.0, 12.0, 14.0, 12.0, 24.0, 15.0, 8.0, 25.0, 31.0, 17.0, 18.0, 11.0, 36.0, 18.0, 20.0, 15.0, 9.0, 16.0, 25.0, 29.0, 13.0, 25.0, 11.0, 7.0, 18.0, 7.0, 12.0, 16.0, 20.0, 11.0, 15.0, 6.0, 20.0, 11.0, 7.0, 13.0, 9.0, 18.0, 55.0, 20.0, 19.0, 5.0, 78.0, 7.0, 29.0, 17.0, 30.0, 25.0, 19.0, 30.0, 21.0, 13.0, 22.0, 25.0, 34.0, 7.0, 31.0, 29.0, 35.0, 11.0, 10.0, 34.0, 33.0, 6.0, 8.0, 21.0, 12.0, 17.0, 12.0, 20.0, 8.0, 29.0, 7.0, 6.0, 18.0, 15.0, 14.0, 80.0, 16.0, 16.0, 14.0, 21.0, 18.0, 21.0, 36.0, 12.0, 16.0, 22.0, 11.0, 13.0, 9.0, 20.0, 12.0, 25.0, 26.0, 15.0, 5.0, 63.0, 18.0, 23.0, 3.0, 31.0, 22.0, 24.0, 11.0, 14.0, 28.0, 11.0, 7.0, 17.0, 23.0, 12.0, 21.0, 7.0, 15.0, 22.0, 12.0, 10.0, 21.0, 12.0, 17.0, 31.0, 15.0, 13.0, 20.0, 13.0, 13.0, 17.0, 20.0, 5.0, 9.0, 13.0, 13.0, 6.0, 7.0, 18.0, 13.0, 33.0, 13.0, 13.0, 13.0, 11.0, 30.0, 12.0, 21.0, 12.0, 7.0, 19.0, 14.0, 24.0, 11.0, 18.0, 8.0, 16.0, 19.0, 9.0, 22.0, 18.0, 14.0, 19.0, 10.0, 14.0, 13.0, 9.0, 36.0, 35.0, 45.0, 20.0, 17.0, 34.0, 13.0, 26.0, 20.0, 13.0, 14.0, 8.0, 5.0, 11.0, 20.0, 8.0, 32.0, 23.0, 21.0, 25.0, 11.0, 10.0, 15.0, 10.0, 13.0, 31.0, 13.0, 13.0, 14.0, 26.0, 5.0, 26.0, 5.0, 21.0, 9.0, 14.0, 18.0, 9.0, 31.0, 19.0, 17.0, 10.0, 12.0, 6.0, 9.0, 15.0, 31.0, 31.0, 20.0, 15.0, 13.0, 3.0, 27.0, 33.0, 32.0, 16.0, 16.0, 28.0, 18.0, 23.0, 31.0, 17.0, 26.0, 2.0, 16.0, 10.0, 20.0, 4.0, 15.0, 27.0, 34.0, 11.0, 10.0, 12.0, 11.0, 14.0, 12.0, 91.0, 14.0, 26.0, 26.0, 17.0, 46.0, 16.0, 30.0, 42.0, 11.0, 14.0, 15.0, 15.0, 14.0, 29.0, 17.0, 24.0, 26.0, 29.0, 19.0, 32.0, 3.0, 8.0, 25.0, 33.0, 16.0, 21.0, 10.0, 8.0, 8.0, 25.0, 12.0, 22.0, 12.0, 28.0, 14.0, 20.0, 12.0, 6.0, 17.0, 12.0, 21.0, 4.0, 4.0, 14.0, 5.0, 24.0, 17.0, 10.0, 12.0, 34.0, 6.0, 16.0, 7.0, 11.0, 18.0, 20.0, 24.0, 12.0, 23.0, 11.0, 11.0, 35.0, 19.0, 39.0, 12.0, 5.0, 26.0, 13.0, 41.0, 4.0, 16.0, 10.0, 37.0, 12.0, 20.0, 3.0, 22.0, 20.0, 9.0, 5.0, 38.0, 10.0, 6.0, 12.0, 37.0, 6.0, 15.0, 12.0, 7.0, 26.0, 15.0, 16.0, 9.0, 9.0, 21.0, 27.0, 13.0, 30.0, 23.0, 19.0, 87.0, 13.0, 14.0, 32.0, 26.0, 15.0, 15.0, 18.0, 15.0, 19.0, 15.0, 22.0, 29.0, 20.0, 13.0, 4.0, 33.0, 3.0, 13.0, 20.0, 30.0, 11.0, 15.0, 30.0, 57.0, 13.0, 18.0, 7.0, 13.0, 7.0, 9.0, 13.0, 16.0, 26.0, 5.0, 15.0, 9.0, 31.0, 9.0, 30.0, 12.0, 11.0, 28.0, 6.0, 5.0, 39.0, 12.0, 14.0, 10.0, 11.0, 47.0, 31.0, 40.0, 29.0, 9.0, 18.0, 21.0, 17.0, 17.0, 26.0, 20.0, 4.0, 12.0, 10.0, 14.0, 16.0, 6.0, 21.0, 17.0, 9.0, 14.0, 13.0, 29.0, 26.0, 17.0, 21.0, 21.0, 15.0, 17.0, 16.0, 14.0, 14.0, 12.0, 15.0, 22.0, 19.0, 15.0, 10.0, 20.0, 28.0, 19.0, 51.0, 13.0, 17.0, 10.0, 28.0, 17.0, 19.0, 22.0, 17.0, 4.0, 11.0, 8.0, 10.0, 27.0, 13.0, 16.0, 19.0, 10.0, 22.0, 11.0, 16.0, 14.0, 24.0, 17.0, 8.0, 12.0, 27.0, 14.0, 17.0, 9.0, 9.0, 29.0, 17.0, 5.0, 22.0, 32.0, 7.0, 16.0, 21.0, 14.0, 41.0, 15.0, 5.0, 5.0, 24.0, 26.0, 12.0, 7.0, 14.0, 8.0, 8.0, 16.0, 19.0, 5.0, 24.0, 12.0, 24.0, 22.0, 27.0, 23.0, 16.0, 14.0, 12.0, 6.0, 27.0, 26.0, 38.0, 20.0, 18.0, 11.0, 6.0, 27.0, 24.0, 19.0, 32.0, 8.0, 7.0, 14.0, 17.0, 13.0, 12.0, 22.0, 6.0, 35.0, 18.0, 6.0, 6.0, 10.0, 14.0, 15.0, 12.0, 23.0, 47.0, 17.0, 16.0, 24.0, 11.0, 36.0, 20.0, 17.0, 4.0, 18.0, 23.0, 8.0, 20.0, 18.0, 12.0, 7.0, 18.0, 40.0, 11.0, 15.0, 25.0, 15.0, 16.0, 22.0, 14.0, 21.0, 9.0, 8.0, 39.0, 13.0, 14.0, 10.0, 14.0, 27.0, 32.0, 11.0, 26.0, 9.0, 48.0, 10.0, 11.0, 16.0, 15.0, 9.0, 30.0, 26.0, 12.0, 16.0, 23.0, 14.0, 14.0, 11.0, 30.0, 43.0, 12.0, 32.0, 11.0, 16.0, 33.0, 13.0, 9.0, 31.0, 14.0, 37.0, 22.0, 13.0, 33.0, 16.0, 23.0, 13.0, 9.0, 3.0, 4.0, 18.0, 19.0, 20.0, 31.0, 18.0, 25.0, 37.0, 8.0, 20.0, 34.0, 17.0, 29.0, 11.0, 22.0, 22.0, 7.0, 13.0, 28.0, 7.0, 32.0, 9.0, 23.0, 34.0, 11.0, 9.0, 13.0, 6.0, 13.0, 22.0, 24.0, 34.0, 10.0, 81.0, 22.0, 13.0, 14.0, 10.0, 16.0, 27.0, 25.0, 27.0, 12.0, 19.0, 14.0, 21.0, 28.0, 14.0, 10.0, 2.0, 38.0, 8.0, 14.0, 27.0, 175.0, 11.0, 15.0, 8.0, 24.0, 40.0, 11.0, 60.0, 11.0, 31.0, 11.0, 9.0, 13.0, 31.0, 17.0, 7.0, 16.0, 8.0, 8.0, 10.0, 27.0, 16.0, 18.0, 15.0, 6.0, 10.0, 7.0, 6.0, 14.0, 14.0, 25.0, 14.0, 7.0, 27.0, 48.0, 9.0, 22.0, 9.0, 34.0, 14.0, 36.0, 21.0, 20.0, 20.0, 18.0, 9.0, 18.0, 17.0, 27.0, 9.0, 14.0, 10.0, 16.0, 11.0, 14.0, 18.0, 24.0, 23.0, 5.0, 11.0, 19.0, 2.0, 18.0, 15.0, 30.0, 44.0, 19.0, 26.0, 3.0, 45.0, 10.0, 13.0, 9.0, 12.0, 10.0, 17.0, 34.0, 22.0, 32.0, 31.0, 14.0, 11.0, 14.0, 25.0, 17.0, 8.0, 20.0, 10.0, 11.0, 12.0, 12.0, 8.0, 13.0, 28.0, 19.0, 10.0, 3.0, 31.0, 14.0, 22.0, 30.0, 10.0, 23.0, 30.0, 12.0, 16.0, 33.0, 19.0, 11.0, 13.0, 34.0, 26.0, 23.0, 56.0, 7.0, 19.0, 23.0, 29.0, 11.0, 18.0, 12.0, 15.0, 6.0, 20.0, 10.0, 4.0, 14.0, 23.0, 21.0, 18.0, 21.0, 7.0, 19.0, 24.0, 4.0, 15.0, 38.0, 12.0, 10.0, 8.0, 10.0, 7.0, 17.0, 8.0, 11.0, 39.0, 17.0, 7.0, 13.0, 9.0, 26.0, 27.0, 11.0, 7.0, 21.0, 23.0, 15.0, 15.0, 3.0, 27.0, 10.0, 10.0, 31.0, 9.0, 35.0, 7.0, 26.0, 14.0, 13.0, 24.0, 14.0, 36.0, 17.0, 20.0, 12.0, 34.0, 25.0, 20.0, 15.0, 52.0, 32.0, 35.0, 7.0, 14.0, 9.0, 15.0, 21.0, 11.0, 9.0, 23.0, 18.0, 14.0, 17.0, 10.0, 13.0, 21.0, 61.0, 48.0, 33.0, 14.0, 34.0, 13.0, 19.0, 14.0, 13.0, 49.0, 17.0, 16.0, 17.0, 18.0, 11.0, 26.0, 7.0, 40.0, 33.0, 9.0, 26.0, 14.0, 28.0, 15.0, 14.0, 32.0, 19.0, 3.0, 16.0, 29.0, 22.0, 15.0, 31.0, 16.0, 19.0, 32.0, 20.0, 17.0, 19.0, 42.0, 27.0, 19.0, 21.0, 5.0, 33.0, 5.0, 13.0, 14.0, 9.0, 15.0, 4.0, 3.0, 11.0, 36.0, 11.0, 8.0, 17.0, 13.0, 24.0, 13.0, 13.0, 10.0, 17.0, 28.0, 11.0, 6.0, 38.0, 11.0, 16.0, 27.0, 8.0, 15.0, 13.0, 5.0, 20.0, 71.0, 6.0, 25.0, 19.0, 7.0, 17.0, 21.0, 22.0, 10.0, 10.0, 19.0, 10.0, 10.0, 27.0, 8.0, 12.0, 41.0, 41.0, 30.0, 14.0, 19.0, 23.0, 12.0, 15.0, 25.0, 22.0, 8.0, 19.0, 23.0, 10.0, 32.0, 13.0, 11.0, 9.0, 13.0, 14.0, 14.0, 19.0, 7.0, 27.0, 15.0, 13.0, 12.0, 17.0, 19.0, 9.0, 17.0, 12.0, 15.0, 46.0, 16.0, 25.0, 29.0, 41.0, 39.0, 22.0, 4.0, 25.0, 19.0, 10.0, 17.0, 33.0, 17.0, 13.0, 13.0, 9.0, 17.0, 19.0, 23.0, 7.0, 4.0, 22.0, 8.0, 11.0, 11.0, 45.0, 25.0, 19.0, 23.0, 10.0, 15.0, 6.0, 57.0, 33.0, 14.0, 19.0, 24.0, 20.0, 12.0, 22.0, 27.0, 29.0, 16.0, 13.0, 12.0, 17.0, 16.0, 17.0, 13.0, 11.0, 10.0, 28.0, 26.0, 23.0, 16.0, 19.0, 4.0, 19.0, 9.0, 7.0, 10.0, 28.0, 7.0, 5.0, 15.0, 22.0, 9.0, 34.0, 4.0, 15.0, 2.0, 20.0, 10.0, 26.0, 2.0, 27.0, 46.0, 31.0, 23.0, 7.0, 25.0, 20.0, 12.0, 27.0, 12.0, 14.0, 27.0, 14.0, 22.0, 38.0, 11.0, 16.0, 24.0, 67.0, 9.0, 23.0, 7.0, 9.0, 24.0, 26.0, 26.0, 11.0, 19.0, 19.0, 12.0, 16.0, 40.0, 20.0, 12.0, 20.0, 19.0, 11.0, 12.0, 4.0, 18.0, 57.0, 18.0, 48.0, 26.0, 28.0, 19.0, 42.0, 22.0, 16.0, 49.0, 21.0, 8.0, 33.0, 31.0, 12.0, 19.0, 7.0, 3.0, 25.0, 13.0, 14.0, 29.0, 2.0, 47.0, 43.0, 19.0, 9.0, 5.0, 41.0, 22.0, 12.0, 30.0, 12.0, 31.0, 13.0, 11.0, 22.0, 9.0, 20.0, 33.0, 21.0, 2.0, 15.0, 16.0, 16.0, 5.0, 13.0, 18.0, 23.0, 30.0, 13.0, 31.0, 21.0, 4.0, 24.0, 9.0, 62.0, 3.0, 18.0, 12.0, 7.0, 10.0, 17.0, 21.0, 34.0, 47.0, 14.0, 24.0, 28.0, 26.0, 5.0, 27.0, 27.0, 21.0, 13.0, 5.0, 34.0, 19.0, 20.0, 6.0, 23.0, 15.0, 11.0, 28.0, 32.0, 20.0, 18.0, 21.0, 12.0, 25.0, 32.0, 16.0, 23.0, 13.0, 32.0, 40.0, 18.0, 23.0, 25.0, 5.0, 18.0, 29.0, 18.0, 34.0, 18.0, 11.0, 29.0, 17.0, 32.0, 27.0, 16.0, 8.0, 42.0, 33.0, 3.0, 7.0, 22.0, 22.0, 27.0, 31.0, 46.0, 15.0, 33.0, 9.0, 14.0, 19.0, 13.0, 19.0, 20.0, 19.0, 3.0, 12.0, 29.0, 8.0, 19.0, 21.0, 30.0, 18.0, 18.0, 10.0, 22.0, 15.0, 8.0, 100.0, 40.0, 29.0, 7.0, 16.0, 31.0, 26.0, 23.0, 18.0, 25.0, 5.0, 38.0, 26.0, 14.0, 53.0, 28.0, 19.0, 16.0, 36.0, 11.0, 7.0, 59.0, 20.0, 11.0, 47.0, 58.0, 20.0, 13.0, 32.0, 26.0, 14.0, 17.0, 35.0, 11.0, 55.0, 31.0, 22.0, 23.0, 7.0, 9.0, 9.0, 20.0, 15.0, 16.0, 21.0, 10.0, 28.0, 5.0, 23.0, 18.0, 21.0, 26.0, 15.0, 45.0, 50.0, 3.0, 7.0, 14.0, 37.0, 9.0, 27.0, 7.0, 25.0, 8.0, 20.0, 18.0, 22.0, 17.0, 47.0, 12.0, 31.0, 13.0, 10.0, 36.0, 23.0, 18.0, 8.0, 17.0, 74.0, 17.0, 24.0, 53.0, 29.0, 17.0, 84.0, 21.0, 20.0, 17.0, 14.0, 24.0, 30.0, 9.0, 2.0, 17.0, 11.0, 33.0, 8.0, 17.0, 28.0, 11.0, 23.0, 25.0, 28.0, 58.0, 2.0, 25.0, 23.0, 13.0, 8.0, 42.0, 26.0, 15.0, 6.0, 9.0, 7.0, 38.0, 19.0, 16.0, 23.0, 6.0, 12.0, 19.0, 16.0, 9.0, 16.0, 9.0, 21.0, 23.0, 13.0, 3.0, 25.0, 4.0, 17.0, 28.0, 20.0, 13.0, 38.0, 28.0, 17.0, 30.0, 15.0, 10.0, 10.0, 19.0, 8.0, 27.0, 24.0, 20.0, 30.0, 19.0, 18.0, 18.0, 20.0, 24.0, 16.0, 16.0, 20.0, 35.0, 8.0, 18.0, 14.0, 13.0, 18.0, 24.0, 11.0, 23.0, 33.0, 14.0, 31.0, 29.0, 17.0, 4.0, 40.0, 27.0, 14.0, 24.0, 18.0, 20.0, 11.0, 10.0, 4.0, 25.0, 18.0, 32.0, 8.0, 21.0, 24.0, 32.0, 16.0, 7.0, 27.0, 21.0, 30.0, 34.0, 13.0, 6.0, 21.0, 13.0, 36.0, 24.0, 19.0, 36.0, 15.0, 21.0, 41.0, 14.0, 3.0, 23.0, 18.0, 22.0, 11.0, 22.0, 23.0, 36.0, 39.0, 20.0, 11.0, 12.0, 17.0, 25.0, 47.0, 26.0, 23.0, 17.0, 15.0, 16.0, 35.0, 19.0, 7.0, 22.0, 19.0, 24.0, 10.0, 10.0, 6.0, 16.0, 21.0, 27.0, 31.0, 13.0, 22.0, 33.0, 16.0, 22.0, 13.0, 12.0, 15.0, 14.0, 15.0, 13.0, 15.0, 32.0, 15.0, 28.0, 17.0, 11.0, 18.0, 12.0, 19.0, 33.0, 8.0, 18.0, 21.0, 19.0, 40.0, 26.0, 16.0, 43.0, 10.0, 11.0, 8.0, 16.0, 35.0, 17.0, 23.0, 37.0, 37.0, 14.0, 11.0, 19.0, 19.0, 41.0, 22.0, 22.0, 26.0, 24.0, 14.0, 32.0, 24.0, 8.0, 30.0, 2.0, 27.0, 5.0, 33.0, 37.0, 29.0, 28.0, 25.0, 66.0, 9.0, 34.0, 29.0, 31.0, 21.0, 27.0, 19.0, 16.0, 25.0, 23.0, 40.0, 11.0, 21.0, 37.0, 9.0, 34.0, 23.0, 27.0, 24.0, 23.0, 22.0, 29.0, 9.0, 35.0, 31.0, 9.0, 27.0, 30.0, 20.0, 31.0, 42.0, 19.0, 3.0, 7.0, 16.0, 16.0, 27.0, 6.0, 14.0, 21.0, 37.0, 20.0, 32.0, 10.0, 38.0, 24.0, 23.0, 8.0, 102.0, 16.0, 28.0, 12.0, 26.0, 31.0, 22.0, 21.0, 4.0, 13.0, 7.0, 21.0, 7.0, 25.0, 11.0, 12.0, 27.0, 15.0, 17.0, 40.0, 29.0, 26.0, 5.0, 35.0, 2.0, 32.0, 20.0, 15.0, 30.0, 19.0, 24.0, 22.0, 11.0, 17.0, 12.0, 13.0, 135.0, 36.0, 16.0, 31.0, 16.0, 12.0, 7.0, 28.0, 12.0, 15.0, 27.0, 6.0, 12.0, 30.0, 47.0, 12.0, 15.0, 34.0, 23.0, 35.0, 19.0, 37.0, 23.0, 41.0, 23.0, 23.0, 21.0, 33.0, 8.0, 21.0, 23.0, 13.0, 27.0, 46.0, 32.0, 45.0, 15.0, 9.0, 11.0, 24.0, 33.0, 107.0, 29.0, 25.0, 4.0, 36.0, 30.0, 19.0, 25.0, 9.0, 26.0, 4.0, 12.0, 37.0, 14.0, 5.0, 19.0, 22.0, 12.0, 15.0, 10.0, 7.0, 30.0, 11.0, 34.0, 14.0, 23.0, 22.0, 12.0, 3.0, 22.0, 8.0, 44.0, 14.0, 30.0, 14.0, 12.0, 39.0, 21.0, 28.0, 20.0, 35.0, 8.0, 24.0, 14.0, 9.0, 57.0, 25.0, 44.0, 11.0, 8.0, 26.0, 22.0, 18.0, 34.0, 28.0, 17.0, 11.0, 18.0, 52.0, 24.0, 31.0, 8.0, 38.0, 11.0, 28.0, 3.0, 18.0, 18.0, 19.0, 16.0, 13.0, 28.0, 18.0, 32.0, 4.0, 9.0, 19.0, 11.0, 18.0, 16.0, 21.0, 9.0, 15.0, 53.0, 24.0, 16.0, 5.0, 34.0, 28.0, 18.0, 20.0, 33.0, 5.0, 27.0, 5.0, 9.0, 12.0, 22.0, 15.0, 21.0, 10.0, 4.0, 34.0, 26.0, 5.0, 7.0, 17.0, 6.0, 13.0, 11.0, 18.0, 14.0, 88.0, 2.0, 4.0, 5.0, 29.0, 4.0, 22.0, 21.0, 18.0, 7.0, 24.0, 24.0, 10.0, 28.0, 16.0, 33.0, 15.0, 31.0, 14.0, 12.0, 6.0, 11.0, 21.0, 10.0, 41.0, 39.0, 26.0, 30.0, 9.0, 15.0, 11.0, 34.0, 12.0, 39.0, 23.0, 3.0, 23.0, 33.0, 13.0, 2.0, 20.0, 20.0, 90.0, 12.0, 20.0, 34.0, 20.0, 3.0, 20.0, 13.0, 46.0, 53.0, 11.0, 25.0, 15.0, 36.0, 24.0, 12.0, 10.0, 18.0, 16.0, 9.0, 16.0, 24.0, 84.0, 11.0, 8.0, 12.0, 8.0, 21.0, 6.0, 23.0, 9.0, 15.0, 31.0, 33.0, 42.0, 10.0, 27.0, 26.0, 28.0, 21.0, 28.0, 25.0, 13.0, 22.0, 8.0, 17.0, 12.0, 5.0, 10.0, 14.0, 19.0, 28.0, 36.0, 17.0, 30.0, 9.0, 6.0, 25.0, 7.0, 4.0, 30.0, 14.0, 20.0, 28.0, 36.0, 15.0, 32.0, 8.0, 22.0, 34.0, 11.0, 20.0, 26.0, 40.0, 18.0, 15.0, 61.0, 6.0, 25.0, 5.0, 20.0, 24.0, 29.0, 39.0, 15.0, 21.0, 26.0, 31.0, 17.0, 39.0, 7.0, 18.0, 4.0, 15.0, 31.0, 30.0, 34.0, 23.0, 7.0, 38.0, 12.0, 13.0, 56.0, 16.0, 22.0, 30.0, 22.0, 56.0, 23.0, 6.0, 14.0, 34.0, 6.0, 5.0, 31.0, 24.0, 29.0, 33.0, 30.0, 12.0, 7.0, 24.0, 21.0, 9.0, 25.0, 19.0, 29.0, 11.0, 8.0, 17.0, 10.0, 32.0, 41.0, 33.0, 8.0, 15.0, 11.0, 45.0, 21.0, 21.0, 2.0, 48.0, 12.0, 17.0, 33.0, 35.0, 25.0, 17.0, 23.0, 7.0, 13.0, 9.0, 16.0, 8.0, 36.0, 11.0, 24.0, 13.0, 28.0, 16.0, 4.0, 25.0, 22.0, 24.0, 29.0, 19.0, 35.0, 21.0, 14.0, 32.0, 34.0, 17.0, 15.0, 31.0, 23.0, 22.0, 12.0, 14.0, 10.0, 43.0, 47.0, 26.0, 34.0, 28.0, 24.0, 39.0, 18.0, 16.0, 22.0, 17.0, 36.0, 24.0, 15.0, 30.0, 21.0, 17.0, 11.0, 9.0, 15.0, 25.0, 28.0, 38.0, 22.0, 23.0, 15.0, 21.0, 40.0, 23.0, 40.0, 2.0, 15.0, 10.0, 27.0, 5.0, 131.0, 8.0, 2.0, 15.0, 21.0, 48.0, 22.0, 14.0, 15.0, 20.0, 15.0, 32.0, 17.0, 22.0, 25.0, 28.0, 9.0, 16.0, 20.0, 5.0, 21.0, 16.0, 13.0, 32.0, 18.0, 41.0, 10.0, 26.0, 19.0, 2.0, 5.0, 19.0, 11.0, 17.0, 44.0, 25.0, 31.0, 14.0, 25.0, 9.0, 14.0, 28.0, 9.0, 17.0, 34.0, 60.0, 8.0, 39.0, 16.0, 12.0, 25.0, 13.0, 28.0, 7.0, 23.0, 24.0, 9.0, 41.0, 14.0, 18.0, 25.0, 38.0, 16.0, 2.0, 40.0, 25.0, 11.0, 42.0, 11.0, 10.0, 27.0, 4.0, 19.0, 24.0, 22.0, 25.0, 22.0, 13.0, 26.0, 16.0, 12.0, 30.0, 23.0, 11.0, 14.0, 9.0, 22.0, 27.0, 32.0, 20.0, 6.0, 20.0, 28.0, 16.0, 17.0, 6.0, 24.0, 29.0, 6.0, 19.0, 2.0, 20.0, 28.0, 2.0, 49.0, 24.0, 19.0, 12.0, 38.0, 9.0, 86.0, 42.0, 34.0, 21.0, 26.0, 29.0, 23.0, 19.0, 12.0, 4.0, 25.0, 7.0, 44.0, 40.0, 21.0, 24.0, 69.0, 23.0, 6.0, 20.0, 13.0, 25.0, 15.0, 25.0, 7.0, 14.0, 40.0, 32.0, 5.0, 46.0, 9.0, 16.0, 11.0, 9.0, 15.0, 11.0, 57.0, 29.0, 20.0, 21.0, 19.0, 8.0, 31.0, 9.0, 20.0, 8.0, 17.0, 15.0, 24.0, 20.0, 20.0, 23.0, 4.0, 9.0, 39.0, 22.0, 7.0, 23.0, 11.0, 32.0, 20.0, 11.0, 24.0, 9.0, 13.0, 15.0, 14.0, 27.0, 52.0, 22.0, 39.0, 55.0, 12.0, 35.0, 11.0, 121.0, 11.0, 27.0, 33.0, 13.0, 21.0, 12.0, 37.0, 7.0, 34.0, 17.0, 28.0, 21.0, 9.0, 16.0, 11.0, 23.0, 69.0, 31.0, 57.0, 21.0, 20.0, 20.0, 5.0, 34.0, 10.0, 12.0, 29.0, 44.0, 21.0, 3.0, 14.0, 30.0, 9.0, 21.0, 12.0, 15.0, 15.0, 42.0, 23.0, 11.0, 15.0, 8.0, 23.0, 40.0, 8.0, 33.0, 18.0, 47.0, 27.0, 10.0, 13.0, 22.0, 14.0, 17.0, 21.0, 7.0, 9.0, 16.0, 37.0, 22.0, 18.0, 9.0, 49.0, 10.0, 33.0, 36.0, 6.0, 31.0, 49.0, 21.0, 13.0, 22.0, 10.0, 17.0, 38.0, 29.0, 20.0, 31.0, 14.0, 26.0, 14.0, 40.0, 33.0, 8.0, 58.0, 42.0, 26.0, 22.0, 22.0, 17.0, 7.0, 21.0, 23.0, 21.0, 23.0, 34.0, 7.0, 19.0, 50.0, 24.0, 8.0, 35.0, 10.0, 11.0, 31.0, 19.0, 12.0, 19.0, 9.0, 32.0, 11.0, 15.0, 26.0, 29.0, 15.0, 3.0, 14.0, 71.0, 23.0, 29.0, 22.0, 18.0, 37.0, 17.0, 17.0, 20.0, 16.0, 58.0, 26.0, 35.0, 50.0, 16.0, 14.0, 50.0, 10.0, 18.0, 35.0, 25.0, 27.0, 7.0, 25.0, 55.0, 7.0, 26.0, 24.0, 20.0, 15.0, 18.0, 28.0, 13.0, 27.0, 22.0, 4.0, 2.0, 18.0, 33.0, 18.0, 42.0, 33.0, 18.0, 18.0, 9.0, 21.0, 14.0, 14.0, 21.0, 4.0, 34.0, 3.0, 7.0, 36.0, 12.0, 25.0, 21.0, 17.0, 48.0, 14.0, 18.0, 24.0, 40.0, 6.0, 22.0, 23.0, 13.0, 7.0, 25.0, 42.0, 5.0, 26.0, 8.0, 7.0, 37.0, 30.0, 24.0, 38.0, 33.0, 12.0, 31.0, 13.0, 6.0, 40.0, 19.0, 26.0, 8.0, 40.0, 40.0, 9.0, 28.0, 12.0, 35.0, 21.0, 33.0, 32.0, 17.0, 7.0, 11.0, 13.0, 31.0, 19.0, 25.0, 37.0, 13.0, 20.0, 5.0, 94.0, 31.0, 27.0, 14.0, 23.0, 23.0, 14.0, 45.0, 17.0, 16.0, 45.0, 11.0, 7.0, 16.0, 22.0, 32.0, 10.0, 16.0, 35.0, 3.0, 16.0, 18.0, 22.0, 6.0, 30.0, 4.0, 33.0, 28.0, 4.0, 11.0, 32.0, 20.0, 20.0, 36.0, 8.0, 11.0, 24.0, 22.0, 15.0, 26.0, 25.0, 14.0, 37.0, 24.0, 13.0, 16.0, 33.0, 23.0, 58.0, 18.0, 25.0, 17.0, 22.0, 5.0, 32.0, 30.0, 10.0, 38.0, 20.0, 33.0, 20.0, 13.0, 3.0, 17.0, 23.0, 19.0, 4.0, 34.0, 23.0, 15.0, 8.0, 14.0, 21.0, 21.0, 13.0, 11.0, 23.0, 25.0, 27.0, 31.0, 15.0, 10.0, 22.0, 23.0, 24.0, 25.0, 8.0, 35.0, 43.0, 4.0, 3.0, 9.0, 13.0, 15.0, 17.0, 33.0, 14.0, 21.0, 34.0, 37.0, 15.0, 10.0, 50.0, 5.0, 24.0, 35.0, 20.0, 8.0, 32.0, 8.0, 6.0, 12.0, 10.0, 76.0, 22.0, 26.0, 8.0, 15.0, 28.0, 10.0, 20.0, 66.0, 22.0, 3.0, 30.0, 20.0, 25.0, 2.0, 16.0, 14.0, 21.0, 6.0, 5.0, 11.0, 12.0, 20.0, 43.0, 38.0, 81.0, 12.0, 10.0, 27.0, 15.0, 11.0, 31.0, 15.0, 18.0, 13.0, 56.0, 23.0, 16.0, 17.0, 62.0, 11.0, 31.0, 19.0, 34.0, 24.0, 6.0, 18.0, 17.0, 11.0, 17.0, 3.0, 16.0, 27.0, 25.0, 19.0, 24.0, 13.0, 12.0, 42.0, 24.0, 45.0, 10.0, 50.0, 19.0, 4.0, 21.0, 20.0, 14.0, 12.0, 6.0, 22.0, 24.0, 19.0, 14.0, 24.0, 18.0, 23.0, 15.0, 16.0, 6.0, 26.0, 21.0, 17.0, 22.0, 28.0, 24.0, 23.0, 48.0, 116.0, 5.0, 25.0, 16.0, 17.0, 31.0, 39.0, 28.0, 14.0, 13.0, 51.0, 27.0, 31.0, 29.0, 33.0, 80.0, 33.0, 27.0, 26.0, 22.0, 13.0, 15.0, 30.0, 37.0, 30.0, 8.0, 5.0, 31.0, 22.0, 10.0, 6.0, 7.0, 26.0, 11.0, 8.0, 54.0, 6.0, 54.0, 51.0, 15.0, 7.0, 22.0, 22.0, 44.0, 22.0, 16.0, 9.0, 22.0, 10.0, 18.0, 21.0, 22.0, 22.0, 7.0, 21.0, 20.0, 11.0, 23.0, 40.0, 33.0, 29.0, 36.0, 23.0, 36.0, 10.0, 19.0, 16.0, 25.0, 6.0, 29.0, 18.0, 17.0, 19.0, 21.0, 13.0, 5.0, 20.0, 24.0, 41.0, 5.0, 31.0, 3.0, 4.0, 64.0, 13.0, 25.0, 15.0, 27.0, 116.0, 2.0, 27.0, 31.0, 18.0, 81.0, 22.0, 7.0, 4.0, 31.0, 12.0, 24.0, 24.0, 10.0, 15.0, 59.0, 42.0, 23.0, 17.0, 13.0, 11.0, 14.0, 17.0, 28.0, 14.0, 15.0, 14.0, 24.0, 43.0, 11.0, 35.0, 10.0, 24.0, 7.0, 57.0, 15.0, 16.0, 16.0, 6.0, 5.0, 28.0, 11.0, 25.0, 28.0, 11.0, 47.0, 32.0, 24.0, 20.0, 5.0, 13.0, 39.0, 30.0, 8.0, 10.0, 44.0, 23.0, 28.0, 14.0, 25.0, 28.0, 25.0, 4.0, 37.0, 22.0, 7.0, 99.0, 42.0, 13.0, 8.0, 22.0, 5.0, 8.0, 16.0, 30.0, 16.0, 7.0, 16.0, 22.0, 15.0, 19.0, 25.0, 36.0, 25.0, 29.0, 29.0, 21.0, 29.0, 9.0, 7.0, 24.0, 34.0, 27.0, 14.0, 17.0, 21.0, 19.0, 11.0, 5.0, 41.0, 62.0, 9.0, 8.0, 13.0, 11.0, 21.0, 16.0, 25.0, 34.0, 22.0, 12.0, 7.0, 16.0, 15.0, 15.0, 25.0, 26.0, 17.0, 16.0, 35.0, 85.0, 22.0, 17.0, 31.0, 11.0, 18.0, 10.0, 27.0, 3.0, 25.0, 37.0, 24.0, 29.0, 16.0, 39.0, 12.0, 20.0, 17.0, 12.0, 19.0, 21.0, 15.0, 13.0, 56.0, 30.0, 34.0, 12.0, 70.0, 45.0, 15.0, 6.0, 24.0, 5.0, 24.0, 3.0, 20.0, 9.0, 19.0, 16.0, 25.0, 21.0, 32.0, 11.0, 15.0, 25.0, 11.0, 57.0, 20.0, 17.0, 36.0, 24.0, 7.0, 33.0, 7.0, 31.0, 39.0, 6.0, 16.0, 29.0, 9.0, 21.0, 16.0, 7.0, 16.0, 8.0, 30.0, 15.0, 25.0, 7.0, 21.0, 11.0, 20.0, 7.0, 7.0, 24.0, 16.0, 20.0, 33.0, 36.0, 18.0, 11.0, 5.0, 8.0, 31.0, 9.0, 15.0, 24.0, 11.0, 13.0, 12.0, 17.0, 15.0, 17.0, 22.0, 26.0, 19.0, 11.0, 26.0, 11.0, 10.0, 18.0, 11.0, 31.0, 26.0, 8.0, 16.0, 12.0, 6.0, 3.0, 8.0, 7.0, 14.0, 22.0, 9.0, 31.0, 29.0, 16.0, 17.0, 21.0, 31.0, 23.0, 26.0, 45.0, 23.0, 10.0, 23.0, 31.0, 12.0, 138.0, 11.0, 18.0, 28.0, 34.0, 18.0, 22.0, 11.0, 26.0, 36.0, 22.0, 5.0, 5.0, 28.0, 16.0, 22.0, 35.0, 44.0, 21.0, 26.0, 39.0, 9.0, 23.0, 58.0, 14.0, 14.0, 38.0, 27.0, 30.0, 40.0, 26.0, 5.0, 14.0, 26.0, 23.0, 5.0, 42.0, 7.0, 22.0, 17.0, 33.0, 14.0, 19.0, 22.0, 41.0, 15.0, 18.0, 35.0, 14.0, 30.0, 22.0, 15.0, 8.0, 11.0, 5.0, 31.0, 9.0, 17.0, 41.0, 11.0, 16.0, 6.0, 4.0, 29.0, 36.0, 14.0, 16.0, 19.0, 11.0, 13.0, 16.0, 33.0, 11.0, 20.0, 3.0, 19.0, 6.0, 13.0, 37.0, 2.0, 16.0, 40.0, 13.0, 25.0, 30.0, 4.0, 7.0, 22.0, 18.0, 31.0, 18.0, 36.0, 10.0, 85.0, 24.0, 2.0, 67.0, 39.0, 10.0, 18.0, 7.0, 21.0, 8.0, 13.0, 4.0, 12.0, 5.0, 6.0, 30.0, 17.0, 11.0, 7.0, 6.0, 28.0, 7.0, 20.0, 12.0, 15.0, 131.0, 14.0, 12.0, 20.0, 10.0, 35.0, 15.0, 27.0, 51.0, 15.0, 12.0, 16.0, 35.0, 21.0, 20.0, 31.0, 9.0, 8.0, 22.0, 16.0, 5.0, 13.0, 12.0, 18.0, 22.0, 35.0, 22.0, 4.0, 4.0, 23.0, 24.0, 10.0, 5.0, 11.0, 7.0, 22.0, 8.0, 28.0, 43.0, 2.0, 36.0, 7.0, 14.0, 28.0, 7.0, 4.0, 23.0, 21.0, 4.0, 6.0, 2.0, 35.0, 20.0, 19.0, 8.0, 18.0, 17.0, 38.0, 41.0, 3.0, 13.0, 9.0, 8.0, 17.0, 20.0, 29.0, 16.0, 34.0, 23.0, 25.0, 3.0, 33.0, 11.0, 28.0, 10.0, 40.0, 19.0, 19.0, 30.0, 17.0, 21.0, 22.0, 9.0, 9.0, 57.0, 15.0, 31.0, 28.0, 57.0, 22.0, 10.0, 35.0, 37.0, 31.0, 18.0, 26.0, 9.0, 11.0, 24.0, 14.0, 6.0, 10.0, 37.0, 10.0, 35.0, 10.0, 14.0, 24.0, 9.0, 3.0, 11.0, 17.0, 7.0, 23.0, 25.0, 15.0, 16.0, 24.0, 12.0, 4.0, 19.0, 13.0, 48.0, 8.0, 21.0, 24.0, 4.0, 13.0, 13.0, 25.0, 11.0, 2.0, 10.0, 16.0, 4.0, 12.0, 20.0, 32.0, 5.0, 16.0, 12.0, 19.0, 11.0, 25.0, 11.0, 8.0, 18.0, 11.0, 19.0, 19.0, 13.0, 29.0, 15.0, 26.0, 15.0, 2.0, 12.0, 26.0, 13.0, 30.0, 13.0, 23.0, 16.0, 10.0, 10.0, 11.0, 20.0, 50.0, 13.0, 10.0, 28.0, 11.0, 18.0, 10.0, 12.0, 7.0, 8.0, 17.0, 61.0, 19.0, 16.0, 17.0, 20.0, 23.0, 2.0, 21.0, 7.0, 28.0, 6.0, 37.0, 16.0, 27.0, 22.0, 39.0, 17.0, 13.0, 11.0, 20.0, 3.0, 11.0, 18.0, 2.0, 13.0, 4.0, 12.0, 32.0, 43.0, 7.0, 15.0, 2.0, 36.0, 4.0, 7.0, 33.0, 13.0, 39.0, 14.0, 6.0, 64.0, 15.0, 29.0, 27.0, 19.0, 12.0, 16.0, 45.0, 21.0, 35.0, 3.0, 28.0, 11.0, 10.0, 28.0, 23.0, 14.0, 24.0, 31.0, 20.0, 36.0, 6.0, 19.0, 9.0, 32.0, 28.0, 75.0, 29.0, 15.0, 43.0, 13.0, 23.0, 16.0, 33.0, 22.0, 5.0, 21.0, 22.0, 23.0, 2.0, 88.0, 25.0, 31.0, 26.0, 33.0, 8.0, 25.0, 8.0, 25.0, 49.0, 27.0, 15.0, 19.0, 25.0, 38.0, 4.0, 15.0, 46.0, 8.0, 20.0, 4.0, 34.0, 28.0, 19.0, 5.0, 53.0, 16.0, 24.0, 27.0, 31.0, 11.0, 33.0, 10.0, 9.0, 26.0, 24.0, 14.0, 15.0, 48.0, 7.0, 13.0, 56.0, 23.0, 6.0, 10.0, 48.0, 16.0, 25.0, 13.0, 31.0, 14.0, 8.0, 49.0, 22.0, 13.0, 20.0, 34.0, 18.0, 19.0, 21.0, 13.0, 20.0, 24.0, 13.0, 8.0, 19.0, 10.0, 7.0, 11.0, 27.0, 25.0, 17.0, 24.0, 7.0, 21.0, 16.0, 47.0, 57.0, 44.0, 26.0, 25.0, 15.0, 3.0, 31.0, 29.0, 115.0, 14.0, 14.0, 9.0, 5.0, 9.0, 23.0, 41.0, 8.0, 15.0, 19.0, 10.0, 14.0, 5.0, 19.0, 22.0, 20.0, 22.0, 5.0, 9.0, 3.0, 12.0, 29.0, 22.0, 33.0, 21.0, 39.0, 10.0, 26.0, 20.0, 39.0, 12.0, 29.0, 12.0, 5.0, 9.0, 21.0, 18.0, 8.0, 3.0, 8.0, 24.0, 21.0, 16.0, 25.0, 13.0, 4.0, 8.0, 25.0, 31.0, 8.0, 16.0, 17.0, 3.0, 77.0, 26.0, 18.0, 15.0, 22.0, 5.0, 8.0, 23.0, 9.0, 38.0, 13.0, 16.0, 20.0, 11.0, 23.0, 13.0, 37.0, 9.0, 2.0, 12.0, 41.0, 41.0, 28.0, 9.0, 6.0, 24.0, 10.0, 17.0, 40.0, 2.0, 44.0, 25.0, 73.0, 18.0, 15.0, 20.0, 29.0, 22.0, 10.0, 21.0, 32.0, 34.0, 19.0, 13.0, 19.0, 22.0, 4.0, 31.0, 35.0, 69.0, 12.0, 14.0, 45.0, 21.0, 45.0, 33.0, 19.0, 26.0, 42.0, 54.0, 33.0, 21.0, 8.0, 23.0, 16.0, 24.0, 16.0, 45.0, 12.0, 26.0, 61.0, 20.0, 24.0, 15.0, 21.0, 10.0, 10.0, 9.0, 67.0, 19.0, 60.0, 38.0, 10.0, 21.0, 20.0, 20.0, 10.0, 17.0, 24.0, 3.0, 12.0, 12.0, 6.0, 24.0, 21.0, 32.0, 10.0, 20.0, 14.0, 25.0, 8.0, 22.0, 27.0, 10.0, 30.0, 16.0, 26.0, 42.0, 21.0, 53.0, 6.0, 14.0, 29.0, 12.0, 12.0, 18.0, 4.0, 23.0, 6.0, 11.0, 6.0, 13.0, 5.0, 13.0, 19.0, 22.0, 40.0, 23.0, 12.0, 4.0, 13.0, 12.0, 2.0, 14.0, 21.0, 12.0, 12.0, 28.0, 16.0, 27.0, 13.0, 28.0, 9.0, 15.0, 4.0, 25.0, 21.0, 31.0, 11.0, 13.0, 11.0, 20.0, 33.0, 28.0, 5.0, 47.0, 33.0, 10.0, 26.0, 11.0, 17.0, 3.0, 65.0, 27.0, 8.0, 10.0, 13.0, 41.0, 20.0, 15.0, 35.0, 20.0, 30.0, 6.0, 39.0, 31.0, 45.0, 21.0, 5.0, 14.0, 31.0, 71.0, 6.0, 40.0, 12.0, 19.0, 26.0, 15.0, 17.0, 19.0, 20.0, 28.0, 26.0, 23.0, 26.0, 29.0, 7.0, 33.0, 25.0, 14.0, 54.0, 4.0, 24.0, 8.0, 17.0, 20.0, 23.0, 6.0, 8.0, 17.0, 40.0, 26.0, 13.0, 7.0, 3.0, 21.0, 7.0, 13.0, 7.0, 36.0, 12.0, 16.0, 22.0, 19.0, 2.0, 8.0, 13.0, 32.0, 24.0, 15.0, 25.0, 21.0, 13.0, 124.0, 13.0, 17.0, 29.0, 16.0, 5.0, 27.0, 40.0, 25.0, 32.0, 10.0, 9.0, 31.0, 47.0, 41.0, 19.0, 12.0, 14.0, 20.0, 37.0, 4.0, 33.0, 48.0, 42.0, 32.0, 12.0, 13.0, 17.0, 30.0, 23.0, 23.0, 3.0, 12.0, 48.0, 4.0, 54.0, 9.0, 11.0, 34.0, 13.0, 4.0, 34.0, 11.0, 6.0, 18.0, 40.0, 12.0, 25.0, 24.0, 23.0, 25.0, 12.0, 4.0, 2.0, 4.0, 37.0, 14.0, 9.0, 12.0, 30.0, 33.0, 34.0, 27.0, 43.0, 7.0, 6.0, 23.0, 14.0, 56.0, 11.0, 14.0, 17.0, 9.0, 43.0, 24.0, 49.0, 8.0, 30.0, 18.0, 24.0, 122.0, 6.0, 28.0, 9.0, 14.0, 18.0, 31.0, 16.0, 13.0, 5.0, 20.0, 4.0, 30.0, 12.0, 23.0, 4.0, 13.0, 21.0, 23.0, 23.0, 19.0, 21.0, 7.0, 34.0, 5.0, 16.0, 36.0, 24.0, 17.0, 27.0, 49.0, 15.0, 13.0, 7.0, 24.0, 17.0, 34.0, 25.0, 31.0, 22.0, 8.0, 15.0, 8.0, 18.0, 21.0, 16.0, 17.0, 8.0, 23.0, 4.0, 16.0, 22.0, 9.0, 7.0, 18.0, 23.0, 17.0, 104.0, 28.0, 21.0, 14.0, 9.0, 10.0, 15.0, 17.0, 31.0, 27.0, 25.0, 19.0, 60.0, 8.0, 10.0, 85.0, 23.0, 18.0, 38.0, 4.0, 10.0, 7.0, 26.0, 14.0, 50.0, 13.0, 20.0, 18.0, 3.0, 27.0, 13.0, 18.0, 15.0, 20.0, 26.0, 31.0, 13.0, 11.0, 30.0, 75.0, 11.0, 29.0, 18.0, 25.0, 42.0, 7.0, 33.0, 18.0, 8.0, 15.0, 25.0, 9.0, 4.0, 12.0, 20.0, 7.0, 15.0, 13.0, 5.0, 4.0, 9.0, 31.0, 24.0, 31.0, 17.0, 19.0, 26.0, 20.0, 19.0, 21.0, 29.0, 29.0, 8.0, 10.0, 17.0, 5.0, 15.0, 39.0, 31.0, 30.0, 7.0, 6.0, 40.0, 15.0, 123.0, 35.0, 7.0, 21.0, 38.0, 21.0, 61.0, 13.0, 35.0, 23.0, 26.0, 31.0, 17.0, 88.0, 5.0, 20.0, 21.0, 28.0, 15.0, 33.0, 10.0, 17.0, 13.0, 8.0, 21.0, 36.0, 31.0, 14.0, 10.0, 21.0, 28.0, 29.0, 72.0, 21.0, 23.0, 7.0, 8.0, 6.0, 69.0, 57.0, 7.0, 6.0, 14.0, 12.0, 21.0, 19.0, 34.0, 32.0, 2.0, 7.0, 31.0, 6.0, 41.0, 18.0, 20.0, 8.0, 39.0, 17.0, 6.0, 59.0, 12.0, 36.0, 27.0, 33.0, 32.0, 12.0, 9.0, 22.0, 32.0, 25.0, 17.0, 22.0, 6.0, 7.0, 18.0, 36.0, 35.0, 16.0, 42.0, 13.0, 17.0, 4.0, 28.0, 62.0, 27.0, 28.0, 11.0, 32.0, 46.0, 5.0, 4.0, 10.0, 35.0, 6.0, 7.0, 6.0, 16.0, 2.0, 15.0, 21.0, 42.0, 15.0, 5.0, 25.0, 43.0, 15.0, 6.0, 15.0, 20.0, 12.0, 20.0, 17.0, 14.0, 16.0, 21.0, 19.0, 12.0, 10.0, 40.0, 14.0, 19.0, 20.0, 10.0, 7.0, 5.0, 27.0, 13.0, 12.0, 19.0, 9.0, 14.0, 18.0, 20.0, 12.0, 14.0, 17.0, 23.0, 3.0, 20.0, 12.0, 69.0, 12.0, 11.0, 18.0, 21.0, 33.0, 20.0, 12.0, 19.0, 20.0, 3.0, 29.0, 22.0, 34.0, 21.0, 12.0, 13.0, 24.0, 8.0, 29.0, 10.0, 31.0, 17.0, 7.0, 28.0, 20.0, 6.0, 6.0, 17.0, 6.0, 10.0, 19.0, 23.0, 16.0, 13.0, 24.0, 17.0, 21.0, 6.0, 38.0, 10.0, 17.0, 31.0, 16.0, 41.0, 15.0, 8.0, 16.0, 4.0, 18.0, 34.0, 28.0, 19.0, 15.0, 19.0, 11.0, 9.0, 19.0, 22.0, 9.0, 12.0, 4.0, 8.0, 24.0, 27.0, 15.0, 16.0, 19.0, 16.0, 43.0, 22.0, 30.0, 99.0, 16.0, 22.0, 7.0, 65.0, 8.0, 18.0, 15.0, 37.0, 32.0, 35.0, 22.0, 11.0, 15.0, 16.0, 18.0, 18.0, 10.0, 93.0, 18.0, 58.0, 16.0, 39.0, 5.0, 45.0, 17.0, 24.0, 9.0, 15.0, 8.0, 5.0, 33.0, 8.0, 29.0, 18.0, 5.0, 12.0, 5.0, 57.0, 10.0, 22.0, 19.0, 9.0, 13.0, 28.0, 17.0, 3.0, 10.0, 17.0, 9.0, 20.0, 11.0, 17.0, 19.0, 18.0, 18.0, 11.0, 49.0, 15.0, 19.0, 9.0, 2.0, 27.0, 33.0, 19.0, 30.0, 12.0, 7.0, 54.0, 17.0, 25.0, 58.0, 60.0, 21.0, 92.0, 19.0, 4.0, 18.0, 30.0, 27.0, 19.0, 35.0, 3.0, 30.0, 15.0, 18.0, 21.0, 7.0, 101.0, 42.0, 27.0, 4.0, 8.0, 14.0, 23.0, 76.0, 27.0, 47.0, 11.0, 19.0, 22.0, 10.0, 6.0, 20.0, 46.0, 10.0, 30.0, 36.0, 18.0, 23.0, 39.0, 41.0, 9.0, 9.0, 14.0, 13.0, 5.0, 17.0, 29.0, 7.0, 21.0, 23.0, 6.0, 8.0, 4.0, 18.0, 20.0, 18.0, 10.0, 26.0, 7.0, 6.0, 48.0, 26.0, 6.0, 23.0, 9.0, 27.0, 10.0, 23.0, 7.0, 17.0, 17.0, 18.0, 4.0, 4.0, 20.0, 16.0, 25.0, 2.0, 12.0, 69.0, 28.0, 9.0, 12.0, 18.0, 13.0, 9.0, 17.0, 15.0, 10.0, 12.0, 7.0, 9.0, 16.0, 15.0, 16.0, 7.0, 20.0, 11.0, 21.0, 22.0, 10.0, 38.0, 11.0, 21.0, 5.0, 30.0, 11.0, 9.0, 22.0, 80.0, 20.0, 17.0, 27.0, 15.0, 29.0, 12.0, 37.0, 34.0, 16.0, 12.0, 99.0, 7.0, 46.0, 13.0, 10.0, 8.0, 25.0, 4.0, 35.0, 39.0, 56.0, 27.0, 44.0, 19.0, 15.0, 17.0, 17.0, 5.0, 16.0, 31.0, 22.0, 10.0, 10.0, 4.0, 19.0, 5.0, 22.0, 21.0, 14.0, 32.0, 36.0, 5.0, 7.0, 11.0, 48.0, 18.0, 15.0, 5.0, 22.0, 12.0, 25.0, 22.0, 7.0, 2.0, 18.0, 22.0, 79.0, 10.0, 14.0, 24.0, 17.0, 21.0, 8.0, 23.0, 63.0, 10.0, 46.0, 19.0, 78.0, 28.0, 7.0, 8.0, 13.0, 35.0, 15.0, 24.0, 26.0, 5.0, 12.0, 19.0, 14.0, 22.0, 5.0, 3.0, 8.0, 36.0, 32.0, 2.0, 5.0, 4.0, 31.0, 25.0, 5.0, 22.0, 17.0, 14.0, 15.0, 21.0, 28.0, 15.0, 11.0, 22.0, 10.0, 7.0, 14.0, 9.0, 10.0, 13.0, 12.0, 8.0, 6.0, 28.0, 13.0, 19.0, 26.0, 17.0, 35.0, 18.0, 10.0, 21.0, 2.0, 24.0, 15.0, 41.0, 16.0, 13.0, 13.0, 24.0, 33.0, 24.0, 6.0, 15.0, 21.0, 16.0, 29.0, 18.0, 14.0, 30.0, 5.0, 30.0, 34.0, 35.0, 19.0, 22.0, 72.0, 26.0, 12.0, 14.0, 30.0, 14.0, 24.0, 16.0, 69.0, 14.0, 4.0, 10.0, 16.0, 19.0, 7.0, 9.0, 10.0, 5.0, 12.0, 18.0, 11.0, 25.0, 10.0, 22.0, 24.0, 23.0, 15.0, 4.0, 8.0, 20.0, 5.0, 19.0, 20.0, 68.0, 44.0, 55.0, 25.0, 5.0, 9.0, 19.0, 24.0, 7.0, 47.0, 20.0, 17.0, 25.0, 8.0, 5.0, 20.0, 6.0, 4.0, 23.0, 14.0, 9.0, 12.0, 16.0, 20.0, 46.0, 32.0, 32.0, 26.0, 25.0, 20.0, 43.0, 5.0, 16.0, 14.0, 13.0, 20.0, 13.0, 11.0, 4.0, 19.0, 13.0, 16.0, 7.0, 11.0, 4.0, 16.0, 59.0, 15.0, 29.0, 4.0, 9.0, 23.0, 8.0, 35.0, 6.0, 22.0, 11.0, 14.0, 11.0, 20.0, 18.0, 3.0, 15.0, 9.0, 33.0, 14.0, 18.0, 31.0, 14.0, 17.0, 22.0, 17.0, 16.0, 11.0, 33.0, 36.0, 21.0, 22.0, 8.0, 19.0, 10.0, 11.0, 9.0, 12.0, 25.0, 29.0, 22.0, 24.0, 18.0, 10.0, 13.0, 47.0, 11.0, 22.0, 30.0, 4.0, 27.0, 15.0, 11.0, 30.0, 29.0, 12.0, 22.0, 12.0, 38.0, 18.0, 9.0, 14.0, 36.0, 34.0, 31.0, 22.0, 7.0, 26.0, 35.0, 33.0, 7.0, 30.0, 47.0, 27.0, 33.0, 8.0, 26.0, 13.0, 12.0, 16.0, 23.0, 18.0, 31.0, 18.0, 28.0, 32.0, 16.0, 19.0, 18.0, 4.0, 28.0, 19.0, 29.0, 66.0, 15.0, 38.0, 16.0, 25.0, 6.0, 25.0, 38.0, 21.0, 17.0, 9.0, 26.0, 5.0, 13.0, 117.0, 23.0, 20.0, 5.0, 17.0, 5.0, 10.0, 17.0, 18.0, 8.0, 27.0, 7.0, 28.0, 31.0, 10.0, 30.0, 7.0, 7.0, 18.0, 10.0, 18.0, 4.0, 15.0, 24.0, 20.0, 18.0, 20.0, 11.0, 56.0, 9.0, 8.0, 8.0, 13.0, 28.0, 22.0, 19.0, 9.0, 26.0, 23.0, 26.0, 28.0, 19.0, 5.0, 28.0, 6.0, 25.0, 15.0, 15.0, 30.0, 23.0, 17.0, 36.0, 5.0, 18.0, 11.0, 11.0, 14.0, 25.0, 16.0, 23.0, 35.0, 13.0, 14.0, 13.0, 11.0, 29.0, 40.0, 26.0, 4.0, 26.0, 10.0, 12.0, 20.0, 37.0, 12.0, 9.0, 16.0, 18.0, 13.0, 16.0, 5.0, 14.0, 10.0, 14.0, 13.0, 6.0, 20.0, 18.0, 28.0, 7.0, 27.0, 17.0, 23.0, 19.0, 23.0, 5.0, 13.0, 14.0, 5.0, 22.0, 6.0, 29.0, 35.0, 17.0, 30.0, 13.0, 23.0, 12.0, 32.0, 33.0, 9.0, 5.0, 22.0, 11.0, 30.0, 12.0, 25.0, 11.0, 35.0, 13.0, 14.0, 14.0, 21.0, 27.0, 20.0, 14.0, 31.0, 17.0, 10.0, 37.0, 5.0, 32.0, 26.0, 16.0, 31.0, 29.0, 9.0, 22.0, 16.0, 18.0, 10.0, 17.0, 15.0, 10.0, 22.0, 28.0, 22.0, 32.0, 24.0, 23.0, 9.0, 6.0, 7.0, 10.0, 10.0, 13.0, 16.0, 10.0, 50.0, 7.0, 21.0, 12.0, 17.0, 30.0, 20.0, 20.0, 6.0, 42.0, 21.0, 7.0, 11.0, 10.0, 6.0, 12.0, 29.0, 21.0, 7.0, 23.0, 10.0, 13.0, 23.0, 88.0, 19.0, 11.0, 32.0, 29.0, 22.0, 17.0, 10.0, 6.0, 9.0, 15.0, 17.0, 23.0, 16.0, 9.0, 53.0, 5.0, 20.0, 32.0, 27.0, 9.0, 3.0, 30.0, 27.0, 11.0, 33.0, 13.0, 33.0, 26.0, 7.0, 10.0, 55.0, 17.0, 33.0, 11.0, 13.0, 22.0, 10.0, 14.0, 13.0, 21.0, 26.0, 18.0, 34.0, 14.0, 16.0, 5.0, 44.0, 11.0, 25.0, 47.0, 27.0, 29.0, 22.0, 26.0, 23.0, 28.0, 28.0, 14.0, 13.0, 8.0, 61.0, 12.0, 38.0, 15.0, 6.0, 12.0, 9.0, 20.0, 28.0, 20.0, 13.0, 26.0, 20.0, 16.0, 5.0, 18.0, 36.0, 8.0, 34.0, 13.0, 25.0, 29.0, 15.0, 29.0, 8.0, 27.0, 18.0, 14.0, 7.0, 18.0, 25.0, 21.0, 7.0, 23.0, 20.0, 9.0, 17.0, 44.0, 29.0, 45.0, 19.0, 9.0, 39.0, 15.0, 7.0, 20.0, 64.0, 29.0, 42.0, 59.0, 10.0, 11.0, 16.0, 14.0, 93.0, 12.0, 26.0, 23.0, 10.0, 36.0, 24.0, 31.0, 19.0, 17.0, 9.0, 44.0, 44.0, 31.0, 37.0, 25.0, 8.0, 13.0, 10.0, 15.0, 16.0, 19.0, 21.0, 15.0, 6.0, 58.0, 8.0, 39.0, 29.0, 18.0, 29.0, 24.0, 18.0, 29.0, 3.0, 33.0, 19.0, 23.0, 19.0, 10.0, 25.0, 11.0, 6.0, 34.0, 24.0, 17.0, 10.0, 12.0, 19.0, 52.0, 27.0, 14.0, 30.0, 22.0, 28.0, 12.0, 41.0, 18.0, 6.0, 28.0, 11.0, 11.0, 2.0, 45.0, 32.0, 14.0, 21.0, 13.0, 8.0, 28.0, 14.0, 17.0, 14.0, 35.0, 13.0, 2.0, 14.0, 15.0, 29.0, 35.0, 21.0, 12.0, 21.0, 16.0, 29.0, 13.0, 16.0, 20.0, 15.0, 13.0, 12.0, 19.0, 15.0, 8.0, 15.0, 18.0, 15.0, 9.0, 10.0, 10.0, 50.0, 18.0, 25.0, 27.0, 6.0, 19.0, 17.0, 26.0, 14.0, 11.0, 22.0, 22.0, 33.0, 6.0, 17.0, 29.0, 14.0, 9.0, 9.0, 43.0, 28.0, 16.0, 7.0, 26.0, 15.0, 22.0, 8.0, 13.0, 22.0, 26.0, 20.0, 11.0, 21.0, 34.0, 9.0, 25.0, 22.0, 28.0, 26.0, 12.0, 13.0, 50.0, 12.0, 26.0, 39.0, 28.0, 52.0, 16.0, 16.0, 27.0, 32.0, 11.0, 96.0, 9.0, 13.0, 10.0, 24.0, 26.0, 24.0, 21.0, 22.0, 10.0, 19.0, 17.0, 12.0, 11.0, 13.0, 30.0, 43.0, 15.0, 12.0, 10.0, 25.0, 10.0, 16.0, 12.0, 15.0, 14.0, 13.0, 14.0, 9.0, 33.0, 8.0, 27.0, 13.0, 14.0, 32.0, 7.0, 20.0, 12.0, 29.0, 13.0, 15.0, 27.0, 7.0, 14.0, 11.0, 9.0, 11.0, 31.0, 22.0, 6.0, 32.0, 19.0, 47.0, 14.0, 58.0, 76.0, 32.0, 4.0, 31.0, 37.0, 19.0, 21.0, 15.0, 16.0, 8.0, 20.0, 19.0, 42.0, 40.0, 4.0, 33.0, 15.0, 12.0, 49.0, 46.0, 31.0, 12.0, 39.0, 57.0, 15.0, 11.0, 29.0, 32.0, 21.0, 63.0, 21.0, 14.0, 22.0, 32.0, 18.0, 30.0, 10.0, 13.0, 17.0, 13.0, 15.0, 5.0, 8.0, 11.0, 24.0, 24.0, 52.0, 17.0, 8.0, 34.0, 18.0, 18.0, 13.0, 34.0, 16.0, 21.0, 10.0, 21.0, 37.0, 18.0, 23.0, 16.0, 10.0, 21.0, 31.0, 28.0, 21.0, 61.0, 18.0, 8.0, 35.0, 14.0, 15.0, 14.0, 30.0, 17.0, 22.0, 60.0, 32.0, 11.0, 3.0, 24.0, 13.0, 5.0, 11.0, 9.0, 26.0, 23.0, 15.0, 11.0, 21.0, 18.0, 11.0, 25.0, 32.0, 30.0, 22.0, 25.0, 14.0, 27.0, 14.0, 12.0, 45.0, 13.0, 21.0, 22.0, 22.0, 25.0, 13.0, 11.0, 9.0, 32.0, 29.0, 12.0, 21.0, 11.0, 6.0, 26.0, 19.0, 60.0, 37.0, 11.0, 53.0, 18.0, 16.0, 11.0, 16.0, 27.0, 18.0, 22.0, 14.0, 23.0, 13.0, 21.0, 27.0, 36.0, 14.0, 21.0, 27.0, 8.0, 21.0, 35.0, 19.0, 18.0, 27.0, 20.0, 18.0, 22.0, 56.0, 20.0, 54.0, 33.0, 22.0, 13.0, 12.0, 38.0, 19.0, 27.0, 6.0, 28.0, 18.0, 21.0, 11.0, 19.0, 8.0, 10.0, 15.0, 35.0, 11.0, 13.0, 37.0, 35.0, 31.0, 86.0, 41.0, 36.0, 19.0, 45.0, 9.0, 23.0, 7.0, 17.0, 5.0, 17.0, 30.0, 31.0, 4.0, 23.0, 17.0, 26.0, 45.0, 5.0, 8.0, 87.0, 21.0, 15.0, 7.0, 23.0, 59.0, 13.0, 22.0, 37.0, 27.0, 16.0, 74.0, 83.0, 21.0, 23.0, 27.0, 13.0, 17.0, 29.0, 18.0, 19.0, 24.0, 57.0, 19.0, 6.0, 7.0, 21.0, 20.0, 9.0, 13.0, 19.0, 10.0, 15.0, 37.0, 5.0, 3.0, 28.0, 16.0, 66.0, 11.0, 17.0, 26.0, 40.0, 59.0, 11.0, 6.0, 14.0, 34.0, 16.0, 7.0, 6.0, 43.0, 73.0, 15.0, 11.0, 38.0, 29.0, 26.0, 5.0, 27.0, 71.0, 48.0, 50.0, 24.0, 37.0, 13.0, 7.0, 16.0, 33.0, 20.0, 6.0, 18.0, 7.0, 15.0, 15.0, 5.0, 42.0, 13.0, 50.0, 77.0, 47.0, 8.0, 15.0, 17.0, 4.0, 22.0, 140.0, 8.0, 22.0, 109.0, 25.0, 46.0, 10.0, 7.0, 53.0, 12.0, 6.0, 25.0, 21.0, 15.0, 22.0, 21.0]}],\n",
              "                        {\"bargap\": 0.2, \"bargroupgap\": 0.2, \"template\": {\"data\": {\"bar\": [{\"error_x\": {\"color\": \"#2a3f5f\"}, \"error_y\": {\"color\": \"#2a3f5f\"}, \"marker\": {\"line\": {\"color\": \"#E5ECF6\", \"width\": 0.5}}, \"type\": \"bar\"}], \"barpolar\": [{\"marker\": {\"line\": {\"color\": \"#E5ECF6\", \"width\": 0.5}}, \"type\": \"barpolar\"}], \"carpet\": [{\"aaxis\": {\"endlinecolor\": \"#2a3f5f\", \"gridcolor\": \"white\", \"linecolor\": \"white\", \"minorgridcolor\": \"white\", \"startlinecolor\": \"#2a3f5f\"}, \"baxis\": {\"endlinecolor\": \"#2a3f5f\", \"gridcolor\": \"white\", \"linecolor\": \"white\", \"minorgridcolor\": \"white\", \"startlinecolor\": \"#2a3f5f\"}, \"type\": \"carpet\"}], \"choropleth\": [{\"colorbar\": {\"outlinewidth\": 0, \"ticks\": \"\"}, \"type\": \"choropleth\"}], \"contour\": [{\"colorbar\": {\"outlinewidth\": 0, \"ticks\": \"\"}, \"colorscale\": [[0.0, \"#0d0887\"], [0.1111111111111111, \"#46039f\"], [0.2222222222222222, \"#7201a8\"], [0.3333333333333333, \"#9c179e\"], [0.4444444444444444, \"#bd3786\"], [0.5555555555555556, \"#d8576b\"], [0.6666666666666666, \"#ed7953\"], [0.7777777777777778, \"#fb9f3a\"], [0.8888888888888888, \"#fdca26\"], [1.0, \"#f0f921\"]], \"type\": \"contour\"}], \"contourcarpet\": [{\"colorbar\": {\"outlinewidth\": 0, \"ticks\": \"\"}, \"type\": \"contourcarpet\"}], \"heatmap\": [{\"colorbar\": {\"outlinewidth\": 0, \"ticks\": \"\"}, \"colorscale\": [[0.0, \"#0d0887\"], [0.1111111111111111, \"#46039f\"], [0.2222222222222222, \"#7201a8\"], [0.3333333333333333, \"#9c179e\"], [0.4444444444444444, \"#bd3786\"], [0.5555555555555556, \"#d8576b\"], [0.6666666666666666, \"#ed7953\"], [0.7777777777777778, \"#fb9f3a\"], [0.8888888888888888, \"#fdca26\"], [1.0, \"#f0f921\"]], \"type\": \"heatmap\"}], \"heatmapgl\": [{\"colorbar\": {\"outlinewidth\": 0, \"ticks\": \"\"}, \"colorscale\": [[0.0, \"#0d0887\"], [0.1111111111111111, \"#46039f\"], [0.2222222222222222, \"#7201a8\"], [0.3333333333333333, \"#9c179e\"], [0.4444444444444444, \"#bd3786\"], [0.5555555555555556, \"#d8576b\"], [0.6666666666666666, \"#ed7953\"], [0.7777777777777778, \"#fb9f3a\"], [0.8888888888888888, \"#fdca26\"], [1.0, \"#f0f921\"]], \"type\": \"heatmapgl\"}], \"histogram\": [{\"marker\": {\"colorbar\": {\"outlinewidth\": 0, \"ticks\": \"\"}}, \"type\": \"histogram\"}], \"histogram2d\": [{\"colorbar\": {\"outlinewidth\": 0, \"ticks\": \"\"}, \"colorscale\": [[0.0, \"#0d0887\"], [0.1111111111111111, \"#46039f\"], [0.2222222222222222, \"#7201a8\"], [0.3333333333333333, \"#9c179e\"], [0.4444444444444444, \"#bd3786\"], [0.5555555555555556, \"#d8576b\"], [0.6666666666666666, \"#ed7953\"], [0.7777777777777778, \"#fb9f3a\"], [0.8888888888888888, \"#fdca26\"], [1.0, \"#f0f921\"]], \"type\": \"histogram2d\"}], \"histogram2dcontour\": [{\"colorbar\": {\"outlinewidth\": 0, \"ticks\": \"\"}, \"colorscale\": [[0.0, \"#0d0887\"], [0.1111111111111111, \"#46039f\"], [0.2222222222222222, \"#7201a8\"], [0.3333333333333333, \"#9c179e\"], [0.4444444444444444, \"#bd3786\"], [0.5555555555555556, \"#d8576b\"], [0.6666666666666666, \"#ed7953\"], [0.7777777777777778, \"#fb9f3a\"], [0.8888888888888888, \"#fdca26\"], [1.0, \"#f0f921\"]], \"type\": \"histogram2dcontour\"}], \"mesh3d\": [{\"colorbar\": {\"outlinewidth\": 0, \"ticks\": \"\"}, \"type\": \"mesh3d\"}], \"parcoords\": [{\"line\": {\"colorbar\": {\"outlinewidth\": 0, \"ticks\": \"\"}}, \"type\": \"parcoords\"}], \"pie\": [{\"automargin\": true, \"type\": \"pie\"}], \"scatter\": [{\"marker\": {\"colorbar\": {\"outlinewidth\": 0, \"ticks\": \"\"}}, \"type\": \"scatter\"}], \"scatter3d\": [{\"line\": {\"colorbar\": {\"outlinewidth\": 0, \"ticks\": \"\"}}, \"marker\": {\"colorbar\": {\"outlinewidth\": 0, \"ticks\": \"\"}}, \"type\": \"scatter3d\"}], \"scattercarpet\": [{\"marker\": {\"colorbar\": {\"outlinewidth\": 0, \"ticks\": \"\"}}, \"type\": \"scattercarpet\"}], \"scattergeo\": [{\"marker\": {\"colorbar\": {\"outlinewidth\": 0, \"ticks\": \"\"}}, \"type\": \"scattergeo\"}], \"scattergl\": [{\"marker\": {\"colorbar\": {\"outlinewidth\": 0, \"ticks\": \"\"}}, \"type\": \"scattergl\"}], \"scattermapbox\": [{\"marker\": {\"colorbar\": {\"outlinewidth\": 0, \"ticks\": \"\"}}, \"type\": \"scattermapbox\"}], \"scatterpolar\": [{\"marker\": {\"colorbar\": {\"outlinewidth\": 0, \"ticks\": \"\"}}, \"type\": \"scatterpolar\"}], \"scatterpolargl\": [{\"marker\": {\"colorbar\": {\"outlinewidth\": 0, \"ticks\": \"\"}}, \"type\": \"scatterpolargl\"}], \"scatterternary\": [{\"marker\": {\"colorbar\": {\"outlinewidth\": 0, \"ticks\": \"\"}}, \"type\": \"scatterternary\"}], \"surface\": [{\"colorbar\": {\"outlinewidth\": 0, \"ticks\": \"\"}, \"colorscale\": [[0.0, \"#0d0887\"], [0.1111111111111111, \"#46039f\"], [0.2222222222222222, \"#7201a8\"], [0.3333333333333333, \"#9c179e\"], [0.4444444444444444, \"#bd3786\"], [0.5555555555555556, \"#d8576b\"], [0.6666666666666666, \"#ed7953\"], [0.7777777777777778, \"#fb9f3a\"], [0.8888888888888888, \"#fdca26\"], [1.0, \"#f0f921\"]], \"type\": \"surface\"}], \"table\": [{\"cells\": {\"fill\": {\"color\": \"#EBF0F8\"}, \"line\": {\"color\": \"white\"}}, \"header\": {\"fill\": {\"color\": \"#C8D4E3\"}, \"line\": {\"color\": \"white\"}}, \"type\": \"table\"}]}, \"layout\": {\"annotationdefaults\": {\"arrowcolor\": \"#2a3f5f\", \"arrowhead\": 0, \"arrowwidth\": 1}, \"coloraxis\": {\"colorbar\": {\"outlinewidth\": 0, \"ticks\": \"\"}}, \"colorscale\": {\"diverging\": [[0, \"#8e0152\"], [0.1, \"#c51b7d\"], [0.2, \"#de77ae\"], [0.3, \"#f1b6da\"], [0.4, \"#fde0ef\"], [0.5, \"#f7f7f7\"], [0.6, \"#e6f5d0\"], [0.7, \"#b8e186\"], [0.8, \"#7fbc41\"], [0.9, \"#4d9221\"], [1, \"#276419\"]], \"sequential\": [[0.0, \"#0d0887\"], [0.1111111111111111, \"#46039f\"], [0.2222222222222222, \"#7201a8\"], [0.3333333333333333, \"#9c179e\"], [0.4444444444444444, \"#bd3786\"], [0.5555555555555556, \"#d8576b\"], [0.6666666666666666, \"#ed7953\"], [0.7777777777777778, \"#fb9f3a\"], [0.8888888888888888, \"#fdca26\"], [1.0, \"#f0f921\"]], \"sequentialminus\": [[0.0, \"#0d0887\"], [0.1111111111111111, \"#46039f\"], [0.2222222222222222, \"#7201a8\"], [0.3333333333333333, \"#9c179e\"], [0.4444444444444444, \"#bd3786\"], [0.5555555555555556, \"#d8576b\"], [0.6666666666666666, \"#ed7953\"], [0.7777777777777778, \"#fb9f3a\"], [0.8888888888888888, \"#fdca26\"], [1.0, \"#f0f921\"]]}, \"colorway\": [\"#636efa\", \"#EF553B\", \"#00cc96\", \"#ab63fa\", \"#FFA15A\", \"#19d3f3\", \"#FF6692\", \"#B6E880\", \"#FF97FF\", \"#FECB52\"], \"font\": {\"color\": \"#2a3f5f\"}, \"geo\": {\"bgcolor\": \"white\", \"lakecolor\": \"white\", \"landcolor\": \"#E5ECF6\", \"showlakes\": true, \"showland\": true, \"subunitcolor\": \"white\"}, \"hoverlabel\": {\"align\": \"left\"}, \"hovermode\": \"closest\", \"mapbox\": {\"style\": \"light\"}, \"paper_bgcolor\": \"white\", \"plot_bgcolor\": \"#E5ECF6\", \"polar\": {\"angularaxis\": {\"gridcolor\": \"white\", \"linecolor\": \"white\", \"ticks\": \"\"}, \"bgcolor\": \"#E5ECF6\", \"radialaxis\": {\"gridcolor\": \"white\", \"linecolor\": \"white\", \"ticks\": \"\"}}, \"scene\": {\"xaxis\": {\"backgroundcolor\": \"#E5ECF6\", \"gridcolor\": \"white\", \"gridwidth\": 2, \"linecolor\": \"white\", \"showbackground\": true, \"ticks\": \"\", \"zerolinecolor\": \"white\"}, \"yaxis\": {\"backgroundcolor\": \"#E5ECF6\", \"gridcolor\": \"white\", \"gridwidth\": 2, \"linecolor\": \"white\", \"showbackground\": true, \"ticks\": \"\", \"zerolinecolor\": \"white\"}, \"zaxis\": {\"backgroundcolor\": \"#E5ECF6\", \"gridcolor\": \"white\", \"gridwidth\": 2, \"linecolor\": \"white\", \"showbackground\": true, \"ticks\": \"\", \"zerolinecolor\": \"white\"}}, \"shapedefaults\": {\"line\": {\"color\": \"#2a3f5f\"}}, \"ternary\": {\"aaxis\": {\"gridcolor\": \"white\", \"linecolor\": \"white\", \"ticks\": \"\"}, \"baxis\": {\"gridcolor\": \"white\", \"linecolor\": \"white\", \"ticks\": \"\"}, \"bgcolor\": \"#E5ECF6\", \"caxis\": {\"gridcolor\": \"white\", \"linecolor\": \"white\", \"ticks\": \"\"}}, \"title\": {\"x\": 0.05}, \"xaxis\": {\"automargin\": true, \"gridcolor\": \"white\", \"linecolor\": \"white\", \"ticks\": \"\", \"title\": {\"standoff\": 15}, \"zerolinecolor\": \"white\", \"zerolinewidth\": 2}, \"yaxis\": {\"automargin\": true, \"gridcolor\": \"white\", \"linecolor\": \"white\", \"ticks\": \"\", \"title\": {\"standoff\": 15}, \"zerolinecolor\": \"white\", \"zerolinewidth\": 2}}}, \"title\": {\"text\": \"Distribution of word counts within comments in BT DS\"}, \"xaxis\": {\"title\": {\"text\": \"Word Count\"}}, \"yaxis\": {\"title\": {\"text\": \"Frequency\"}}},\n",
              "                        {\"responsive\": true}\n",
              "                    ).then(function(){\n",
              "                            \n",
              "var gd = document.getElementById('4d7efb51-0951-4d3d-bebd-5b8c8ee8e7dc');\n",
              "var x = new MutationObserver(function (mutations, observer) {{\n",
              "        var display = window.getComputedStyle(gd).display;\n",
              "        if (!display || display === 'none') {{\n",
              "            console.log([gd, 'removed!']);\n",
              "            Plotly.purge(gd);\n",
              "            observer.disconnect();\n",
              "        }}\n",
              "}});\n",
              "\n",
              "// Listen for the removal of the full notebook cells\n",
              "var notebookContainer = gd.closest('#notebook-container');\n",
              "if (notebookContainer) {{\n",
              "    x.observe(notebookContainer, {childList: true});\n",
              "}}\n",
              "\n",
              "// Listen for the clearing of the current output cell\n",
              "var outputEl = gd.closest('.output');\n",
              "if (outputEl) {{\n",
              "    x.observe(outputEl, {childList: true});\n",
              "}}\n",
              "\n",
              "                        })\n",
              "                };\n",
              "                \n",
              "            </script>\n",
              "        </div>\n",
              "</body>\n",
              "</html>"
            ]
          },
          "metadata": {
            "tags": []
          }
        }
      ]
    },
    {
      "cell_type": "code",
      "metadata": {
        "colab": {
          "base_uri": "https://localhost:8080/"
        },
        "id": "LcATQe21Q5w5",
        "outputId": "72693b26-f282-41be-94ba-ea22d86b62a4"
      },
      "source": [
        "unique_ratesB = list(sorted(data['rate'].unique()))\n",
        "print(f'We have #{len(unique_ratesB)} in Blanced DS:: {unique_ratesB}')"
      ],
      "execution_count": null,
      "outputs": [
        {
          "output_type": "stream",
          "text": [
            "We have #5 in Blanced DS:: [-2, -1, 0, 1, 2]\n"
          ],
          "name": "stdout"
        }
      ]
    },
    {
      "cell_type": "code",
      "metadata": {
        "colab": {
          "base_uri": "https://localhost:8080/"
        },
        "id": "5LK7mKa2Q_VK",
        "outputId": "a5955068-027a-4e72-f68c-5b5bb7ff1fa1"
      },
      "source": [
        "BT_groupby_rate = data.groupby('rate')['rate'].count()\n",
        "BT_groupby_rate"
      ],
      "execution_count": null,
      "outputs": [
        {
          "output_type": "execute_result",
          "data": {
            "text/plain": [
              "rate\n",
              "-2     299\n",
              "-1    1706\n",
              " 0    3659\n",
              " 1    3664\n",
              " 2    3271\n",
              "Name: rate, dtype: int64"
            ]
          },
          "metadata": {
            "tags": []
          },
          "execution_count": 18
        }
      ]
    },
    {
      "cell_type": "markdown",
      "metadata": {
        "id": "4T81eTa0z6cY"
      },
      "source": [
        "### Binarization BT Ds Using NR approch"
      ]
    },
    {
      "cell_type": "markdown",
      "metadata": {
        "id": "our_ZLZBn0ec"
      },
      "source": [
        "\n",
        "The given dataset has multiple emotions by default. However, for binary classifications, there must be just two groups, positive or negative. Since there are three classes of emotion, the following approaches have been proposed in [base article](https://arxiv.org/pdf/2004.05328.pdf):\n",
        "\n",
        "1. NR: Removing neutral emotions\n",
        "2. NP: Considering neutral emotions as positive\n",
        "3. NN: Considering neutral emotions as negative\n",
        "\n",
        "They use NR approch, but we prefer use NN for Blanced DS, and NR for both translation and BT DS.\n",
        "\n",
        "To a binary form of negative (0) or positive (1) with a threshold. If the rate is greater than 0, it labeled as positive otherwise specified as negative."
      ]
    },
    {
      "cell_type": "code",
      "metadata": {
        "id": "9U0NGd2OPZyv"
      },
      "source": [
        "# remove the neutral (0 rate) recordes from Ds\n",
        "data['rate'] = data['rate'].apply(lambda r: r if r != 0 else None)\n",
        "\n",
        "data = data.dropna(subset=['rate'])\n",
        "data = data.dropna(subset=['comment'])\n",
        "\n",
        "data = data.drop_duplicates(subset=['comment'], keep='first')\n",
        "data = data.reset_index(drop=True)\n"
      ],
      "execution_count": null,
      "outputs": []
    },
    {
      "cell_type": "code",
      "metadata": {
        "colab": {
          "base_uri": "https://localhost:8080/"
        },
        "id": "U5MkRX6NQSB2",
        "outputId": "cac8e07a-69b8-416a-c114-43b48b48ef61"
      },
      "source": [
        "data.info()"
      ],
      "execution_count": null,
      "outputs": [
        {
          "output_type": "stream",
          "text": [
            "<class 'pandas.core.frame.DataFrame'>\n",
            "RangeIndex: 8940 entries, 0 to 8939\n",
            "Data columns (total 3 columns):\n",
            " #   Column                Non-Null Count  Dtype  \n",
            "---  ------                --------------  -----  \n",
            " 0   comment               8940 non-null   object \n",
            " 1   rate                  8940 non-null   float64\n",
            " 2   comment_len_by_words  8940 non-null   float64\n",
            "dtypes: float64(2), object(1)\n",
            "memory usage: 209.7+ KB\n"
          ],
          "name": "stdout"
        }
      ]
    },
    {
      "cell_type": "code",
      "metadata": {
        "colab": {
          "base_uri": "https://localhost:8080/",
          "height": 299
        },
        "id": "r-gcq8RSdTyO",
        "outputId": "f7220313-90e0-456b-b9e0-eed7c7afedf7"
      },
      "source": [
        "# See the persentage of sentence in each categories\n",
        "GroupbyRate = data.groupby('rate')['rate'].count()\n",
        "GroupbyRate = dict(GroupbyRate)\n",
        "\n",
        "labels = list(GroupbyRate.keys())\n",
        "sizes = list(GroupbyRate.values())\n",
        "colors = ['#3fba36', '#66b3ff','#ffcc99','#ff9999', '#d44444']\n",
        "fig1, ax1 = plt.subplots()\n",
        "ax1.pie(sizes, labels=labels, colors=colors,\n",
        "        autopct='%1.1f%%', startangle=90)\n",
        "#draw circle\n",
        "centre_circle = plt.Circle((0,0),0.70,fc='white')\n",
        "fig = plt.gcf()\n",
        "fig.gca().add_artist(centre_circle)\n",
        "# Equal aspect ratio ensures that pie is drawn as a circle\n",
        "ax1.axis('equal')  \n",
        "plt.tight_layout()\n",
        "# Decomment following line if you want to save the figure\n",
        "plt.show()"
      ],
      "execution_count": null,
      "outputs": [
        {
          "output_type": "display_data",
          "data": {
            "image/png": "[encoded data removed]",
            "text/plain": [
              "<Figure size 432x288 with 1 Axes>"
            ]
          },
          "metadata": {
            "tags": []
          }
        }
      ]
    },
    {
      "cell_type": "code",
      "metadata": {
        "id": "dvWE2ayX2n-h"
      },
      "source": [
        "def rate_to_label(rate):\n",
        "    if rate < 1:\n",
        "        return 'negative'\n",
        "    else:\n",
        "      return 'positive'\n"
      ],
      "execution_count": null,
      "outputs": []
    },
    {
      "cell_type": "code",
      "metadata": {
        "colab": {
          "base_uri": "https://localhost:8080/",
          "height": 205
        },
        "id": "4QEvHMKz3Dsj",
        "outputId": "991f9717-a048-4aee-d330-3b929f7b0ecd"
      },
      "source": [
        "data['label'] = data['rate'].apply(lambda r: rate_to_label(r))\n",
        "labels = list(sorted(data['label'].unique()))\n",
        "\n",
        "data.head()"
      ],
      "execution_count": null,
      "outputs": [
        {
          "output_type": "execute_result",
          "data": {
            "text/html": [
              "<div>\n",
              "<style scoped>\n",
              "    .dataframe tbody tr th:only-of-type {\n",
              "        vertical-align: middle;\n",
              "    }\n",
              "\n",
              "    .dataframe tbody tr th {\n",
              "        vertical-align: top;\n",
              "    }\n",
              "\n",
              "    .dataframe thead th {\n",
              "        text-align: right;\n",
              "    }\n",
              "</style>\n",
              "<table border=\"1\" class=\"dataframe\">\n",
              "  <thead>\n",
              "    <tr style=\"text-align: right;\">\n",
              "      <th></th>\n",
              "      <th>comment</th>\n",
              "      <th>rate</th>\n",
              "      <th>comment_len_by_words</th>\n",
              "      <th>label</th>\n",
              "    </tr>\n",
              "  </thead>\n",
              "  <tbody>\n",
              "    <tr>\n",
              "      <th>0</th>\n",
              "      <td>همچنین یک برنامه بسیار کاربردی در جهت ارائه نی...</td>\n",
              "      <td>1.0</td>\n",
              "      <td>11.0</td>\n",
              "      <td>positive</td>\n",
              "    </tr>\n",
              "    <tr>\n",
              "      <th>1</th>\n",
              "      <td>این استاندارد بدین معناست که این دستگاه در برا...</td>\n",
              "      <td>1.0</td>\n",
              "      <td>25.0</td>\n",
              "      <td>positive</td>\n",
              "    </tr>\n",
              "    <tr>\n",
              "      <th>2</th>\n",
              "      <td>حقیقتا زمانی که آن دوربین معرفی شد توانایی زوم...</td>\n",
              "      <td>1.0</td>\n",
              "      <td>31.0</td>\n",
              "      <td>positive</td>\n",
              "    </tr>\n",
              "    <tr>\n",
              "      <th>3</th>\n",
              "      <td>این گوشی از رابط کاربری سونی اریکسون TimeScape...</td>\n",
              "      <td>1.0</td>\n",
              "      <td>22.0</td>\n",
              "      <td>positive</td>\n",
              "    </tr>\n",
              "    <tr>\n",
              "      <th>4</th>\n",
              "      <td>در تست مرورگری اینترنت از طریق Wi-Fi با روشنای...</td>\n",
              "      <td>1.0</td>\n",
              "      <td>21.0</td>\n",
              "      <td>positive</td>\n",
              "    </tr>\n",
              "  </tbody>\n",
              "</table>\n",
              "</div>"
            ],
            "text/plain": [
              "                                             comment  ...     label\n",
              "0  همچنین یک برنامه بسیار کاربردی در جهت ارائه نی...  ...  positive\n",
              "1  این استاندارد بدین معناست که این دستگاه در برا...  ...  positive\n",
              "2  حقیقتا زمانی که آن دوربین معرفی شد توانایی زوم...  ...  positive\n",
              "3  این گوشی از رابط کاربری سونی اریکسون TimeScape...  ...  positive\n",
              "4  در تست مرورگری اینترنت از طریق Wi-Fi با روشنای...  ...  positive\n",
              "\n",
              "[5 rows x 4 columns]"
            ]
          },
          "metadata": {
            "tags": []
          },
          "execution_count": 23
        }
      ]
    },
    {
      "cell_type": "code",
      "metadata": {
        "colab": {
          "base_uri": "https://localhost:8080/"
        },
        "id": "XDlYAnTX3gxb",
        "outputId": "dd41411d-18ff-4b38-d873-e51f9d3d026f"
      },
      "source": [
        "BTgroupby_label = data.groupby('label')['label'].count()\n",
        "BTgroupby_label = dict(BTgroupby_label)\n",
        "print(BTgroupby_label)"
      ],
      "execution_count": null,
      "outputs": [
        {
          "output_type": "stream",
          "text": [
            "{'negative': 2005, 'positive': 6935}\n"
          ],
          "name": "stdout"
        }
      ]
    },
    {
      "cell_type": "code",
      "metadata": {
        "colab": {
          "base_uri": "https://localhost:8080/",
          "height": 542
        },
        "id": "P9JGPBZ_5Cgq",
        "outputId": "9841756c-3781-449c-98ec-d4df161db446"
      },
      "source": [
        "# See the data of sentence in each labeles\n",
        "fig = go.Figure()\n",
        "\n",
        "fig.add_trace(go.Bar(\n",
        "    x=list(BTgroupby_label.keys()),\n",
        "    y= list(BTgroupby_label.values()),\n",
        "    text= list(BTgroupby_label.values()),\n",
        "    textposition='auto'\n",
        "))\n",
        "\n",
        "fig.update_layout(\n",
        "    title_text='Distribution of rate within comments',\n",
        "    xaxis_title_text='Lable',\n",
        "    yaxis_title_text='Frequency',\n",
        "    bargap=0.2,\n",
        "    bargroupgap=0.2)\n",
        "\n",
        "fig.show()"
      ],
      "execution_count": null,
      "outputs": [
        {
          "output_type": "display_data",
          "data": {
            "text/html": [
              "<html>\n",
              "<head><meta charset=\"utf-8\" /></head>\n",
              "<body>\n",
              "    <div>\n",
              "            <script src=\"https://cdnjs.cloudflare.com/ajax/libs/mathjax/2.7.5/MathJax.js?config=TeX-AMS-MML_SVG\"></script><script type=\"text/javascript\">if (window.MathJax) {MathJax.Hub.Config({SVG: {font: \"STIX-Web\"}});}</script>\n",
              "                <script type=\"text/javascript\">window.PlotlyConfig = {MathJaxConfig: 'local'};</script>\n",
              "        <script src=\"https://cdn.plot.ly/plotly-latest.min.js\"></script>    \n",
              "            <div id=\"58568be6-3bba-4742-8596-94acbbcbe1a5\" class=\"plotly-graph-div\" style=\"height:525px; width:100%;\"></div>\n",
              "            <script type=\"text/javascript\">\n",
              "                \n",
              "                    window.PLOTLYENV=window.PLOTLYENV || {};\n",
              "                    \n",
              "                if (document.getElementById(\"58568be6-3bba-4742-8596-94acbbcbe1a5\")) {\n",
              "                    Plotly.newPlot(\n",
              "                        '58568be6-3bba-4742-8596-94acbbcbe1a5',\n",
              "                        [{\"text\": [\"2005\", \"6935\"], \"textposition\": \"auto\", \"type\": \"bar\", \"x\": [\"negative\", \"positive\"], \"y\": [2005, 6935]}],\n",
              "                        {\"bargap\": 0.2, \"bargroupgap\": 0.2, \"template\": {\"data\": {\"bar\": [{\"error_x\": {\"color\": \"#2a3f5f\"}, \"error_y\": {\"color\": \"#2a3f5f\"}, \"marker\": {\"line\": {\"color\": \"#E5ECF6\", \"width\": 0.5}}, \"type\": \"bar\"}], \"barpolar\": [{\"marker\": {\"line\": {\"color\": \"#E5ECF6\", \"width\": 0.5}}, \"type\": \"barpolar\"}], \"carpet\": [{\"aaxis\": {\"endlinecolor\": \"#2a3f5f\", \"gridcolor\": \"white\", \"linecolor\": \"white\", \"minorgridcolor\": \"white\", \"startlinecolor\": \"#2a3f5f\"}, \"baxis\": {\"endlinecolor\": \"#2a3f5f\", \"gridcolor\": \"white\", \"linecolor\": \"white\", \"minorgridcolor\": \"white\", \"startlinecolor\": \"#2a3f5f\"}, \"type\": \"carpet\"}], \"choropleth\": [{\"colorbar\": {\"outlinewidth\": 0, \"ticks\": \"\"}, \"type\": \"choropleth\"}], \"contour\": [{\"colorbar\": {\"outlinewidth\": 0, \"ticks\": \"\"}, \"colorscale\": [[0.0, \"#0d0887\"], [0.1111111111111111, \"#46039f\"], [0.2222222222222222, \"#7201a8\"], [0.3333333333333333, \"#9c179e\"], [0.4444444444444444, \"#bd3786\"], [0.5555555555555556, \"#d8576b\"], [0.6666666666666666, \"#ed7953\"], [0.7777777777777778, \"#fb9f3a\"], [0.8888888888888888, \"#fdca26\"], [1.0, \"#f0f921\"]], \"type\": \"contour\"}], \"contourcarpet\": [{\"colorbar\": {\"outlinewidth\": 0, \"ticks\": \"\"}, \"type\": \"contourcarpet\"}], \"heatmap\": [{\"colorbar\": {\"outlinewidth\": 0, \"ticks\": \"\"}, \"colorscale\": [[0.0, \"#0d0887\"], [0.1111111111111111, \"#46039f\"], [0.2222222222222222, \"#7201a8\"], [0.3333333333333333, \"#9c179e\"], [0.4444444444444444, \"#bd3786\"], [0.5555555555555556, \"#d8576b\"], [0.6666666666666666, \"#ed7953\"], [0.7777777777777778, \"#fb9f3a\"], [0.8888888888888888, \"#fdca26\"], [1.0, \"#f0f921\"]], \"type\": \"heatmap\"}], \"heatmapgl\": [{\"colorbar\": {\"outlinewidth\": 0, \"ticks\": \"\"}, \"colorscale\": [[0.0, \"#0d0887\"], [0.1111111111111111, \"#46039f\"], [0.2222222222222222, \"#7201a8\"], [0.3333333333333333, \"#9c179e\"], [0.4444444444444444, \"#bd3786\"], [0.5555555555555556, \"#d8576b\"], [0.6666666666666666, \"#ed7953\"], [0.7777777777777778, \"#fb9f3a\"], [0.8888888888888888, \"#fdca26\"], [1.0, \"#f0f921\"]], \"type\": \"heatmapgl\"}], \"histogram\": [{\"marker\": {\"colorbar\": {\"outlinewidth\": 0, \"ticks\": \"\"}}, \"type\": \"histogram\"}], \"histogram2d\": [{\"colorbar\": {\"outlinewidth\": 0, \"ticks\": \"\"}, \"colorscale\": [[0.0, \"#0d0887\"], [0.1111111111111111, \"#46039f\"], [0.2222222222222222, \"#7201a8\"], [0.3333333333333333, \"#9c179e\"], [0.4444444444444444, \"#bd3786\"], [0.5555555555555556, \"#d8576b\"], [0.6666666666666666, \"#ed7953\"], [0.7777777777777778, \"#fb9f3a\"], [0.8888888888888888, \"#fdca26\"], [1.0, \"#f0f921\"]], \"type\": \"histogram2d\"}], \"histogram2dcontour\": [{\"colorbar\": {\"outlinewidth\": 0, \"ticks\": \"\"}, \"colorscale\": [[0.0, \"#0d0887\"], [0.1111111111111111, \"#46039f\"], [0.2222222222222222, \"#7201a8\"], [0.3333333333333333, \"#9c179e\"], [0.4444444444444444, \"#bd3786\"], [0.5555555555555556, \"#d8576b\"], [0.6666666666666666, \"#ed7953\"], [0.7777777777777778, \"#fb9f3a\"], [0.8888888888888888, \"#fdca26\"], [1.0, \"#f0f921\"]], \"type\": \"histogram2dcontour\"}], \"mesh3d\": [{\"colorbar\": {\"outlinewidth\": 0, \"ticks\": \"\"}, \"type\": \"mesh3d\"}], \"parcoords\": [{\"line\": {\"colorbar\": {\"outlinewidth\": 0, \"ticks\": \"\"}}, \"type\": \"parcoords\"}], \"pie\": [{\"automargin\": true, \"type\": \"pie\"}], \"scatter\": [{\"marker\": {\"colorbar\": {\"outlinewidth\": 0, \"ticks\": \"\"}}, \"type\": \"scatter\"}], \"scatter3d\": [{\"line\": {\"colorbar\": {\"outlinewidth\": 0, \"ticks\": \"\"}}, \"marker\": {\"colorbar\": {\"outlinewidth\": 0, \"ticks\": \"\"}}, \"type\": \"scatter3d\"}], \"scattercarpet\": [{\"marker\": {\"colorbar\": {\"outlinewidth\": 0, \"ticks\": \"\"}}, \"type\": \"scattercarpet\"}], \"scattergeo\": [{\"marker\": {\"colorbar\": {\"outlinewidth\": 0, \"ticks\": \"\"}}, \"type\": \"scattergeo\"}], \"scattergl\": [{\"marker\": {\"colorbar\": {\"outlinewidth\": 0, \"ticks\": \"\"}}, \"type\": \"scattergl\"}], \"scattermapbox\": [{\"marker\": {\"colorbar\": {\"outlinewidth\": 0, \"ticks\": \"\"}}, \"type\": \"scattermapbox\"}], \"scatterpolar\": [{\"marker\": {\"colorbar\": {\"outlinewidth\": 0, \"ticks\": \"\"}}, \"type\": \"scatterpolar\"}], \"scatterpolargl\": [{\"marker\": {\"colorbar\": {\"outlinewidth\": 0, \"ticks\": \"\"}}, \"type\": \"scatterpolargl\"}], \"scatterternary\": [{\"marker\": {\"colorbar\": {\"outlinewidth\": 0, \"ticks\": \"\"}}, \"type\": \"scatterternary\"}], \"surface\": [{\"colorbar\": {\"outlinewidth\": 0, \"ticks\": \"\"}, \"colorscale\": [[0.0, \"#0d0887\"], [0.1111111111111111, \"#46039f\"], [0.2222222222222222, \"#7201a8\"], [0.3333333333333333, \"#9c179e\"], [0.4444444444444444, \"#bd3786\"], [0.5555555555555556, \"#d8576b\"], [0.6666666666666666, \"#ed7953\"], [0.7777777777777778, \"#fb9f3a\"], [0.8888888888888888, \"#fdca26\"], [1.0, \"#f0f921\"]], \"type\": \"surface\"}], \"table\": [{\"cells\": {\"fill\": {\"color\": \"#EBF0F8\"}, \"line\": {\"color\": \"white\"}}, \"header\": {\"fill\": {\"color\": \"#C8D4E3\"}, \"line\": {\"color\": \"white\"}}, \"type\": \"table\"}]}, \"layout\": {\"annotationdefaults\": {\"arrowcolor\": \"#2a3f5f\", \"arrowhead\": 0, \"arrowwidth\": 1}, \"coloraxis\": {\"colorbar\": {\"outlinewidth\": 0, \"ticks\": \"\"}}, \"colorscale\": {\"diverging\": [[0, \"#8e0152\"], [0.1, \"#c51b7d\"], [0.2, \"#de77ae\"], [0.3, \"#f1b6da\"], [0.4, \"#fde0ef\"], [0.5, \"#f7f7f7\"], [0.6, \"#e6f5d0\"], [0.7, \"#b8e186\"], [0.8, \"#7fbc41\"], [0.9, \"#4d9221\"], [1, \"#276419\"]], \"sequential\": [[0.0, \"#0d0887\"], [0.1111111111111111, \"#46039f\"], [0.2222222222222222, \"#7201a8\"], [0.3333333333333333, \"#9c179e\"], [0.4444444444444444, \"#bd3786\"], [0.5555555555555556, \"#d8576b\"], [0.6666666666666666, \"#ed7953\"], [0.7777777777777778, \"#fb9f3a\"], [0.8888888888888888, \"#fdca26\"], [1.0, \"#f0f921\"]], \"sequentialminus\": [[0.0, \"#0d0887\"], [0.1111111111111111, \"#46039f\"], [0.2222222222222222, \"#7201a8\"], [0.3333333333333333, \"#9c179e\"], [0.4444444444444444, \"#bd3786\"], [0.5555555555555556, \"#d8576b\"], [0.6666666666666666, \"#ed7953\"], [0.7777777777777778, \"#fb9f3a\"], [0.8888888888888888, \"#fdca26\"], [1.0, \"#f0f921\"]]}, \"colorway\": [\"#636efa\", \"#EF553B\", \"#00cc96\", \"#ab63fa\", \"#FFA15A\", \"#19d3f3\", \"#FF6692\", \"#B6E880\", \"#FF97FF\", \"#FECB52\"], \"font\": {\"color\": \"#2a3f5f\"}, \"geo\": {\"bgcolor\": \"white\", \"lakecolor\": \"white\", \"landcolor\": \"#E5ECF6\", \"showlakes\": true, \"showland\": true, \"subunitcolor\": \"white\"}, \"hoverlabel\": {\"align\": \"left\"}, \"hovermode\": \"closest\", \"mapbox\": {\"style\": \"light\"}, \"paper_bgcolor\": \"white\", \"plot_bgcolor\": \"#E5ECF6\", \"polar\": {\"angularaxis\": {\"gridcolor\": \"white\", \"linecolor\": \"white\", \"ticks\": \"\"}, \"bgcolor\": \"#E5ECF6\", \"radialaxis\": {\"gridcolor\": \"white\", \"linecolor\": \"white\", \"ticks\": \"\"}}, \"scene\": {\"xaxis\": {\"backgroundcolor\": \"#E5ECF6\", \"gridcolor\": \"white\", \"gridwidth\": 2, \"linecolor\": \"white\", \"showbackground\": true, \"ticks\": \"\", \"zerolinecolor\": \"white\"}, \"yaxis\": {\"backgroundcolor\": \"#E5ECF6\", \"gridcolor\": \"white\", \"gridwidth\": 2, \"linecolor\": \"white\", \"showbackground\": true, \"ticks\": \"\", \"zerolinecolor\": \"white\"}, \"zaxis\": {\"backgroundcolor\": \"#E5ECF6\", \"gridcolor\": \"white\", \"gridwidth\": 2, \"linecolor\": \"white\", \"showbackground\": true, \"ticks\": \"\", \"zerolinecolor\": \"white\"}}, \"shapedefaults\": {\"line\": {\"color\": \"#2a3f5f\"}}, \"ternary\": {\"aaxis\": {\"gridcolor\": \"white\", \"linecolor\": \"white\", \"ticks\": \"\"}, \"baxis\": {\"gridcolor\": \"white\", \"linecolor\": \"white\", \"ticks\": \"\"}, \"bgcolor\": \"#E5ECF6\", \"caxis\": {\"gridcolor\": \"white\", \"linecolor\": \"white\", \"ticks\": \"\"}}, \"title\": {\"x\": 0.05}, \"xaxis\": {\"automargin\": true, \"gridcolor\": \"white\", \"linecolor\": \"white\", \"ticks\": \"\", \"title\": {\"standoff\": 15}, \"zerolinecolor\": \"white\", \"zerolinewidth\": 2}, \"yaxis\": {\"automargin\": true, \"gridcolor\": \"white\", \"linecolor\": \"white\", \"ticks\": \"\", \"title\": {\"standoff\": 15}, \"zerolinecolor\": \"white\", \"zerolinewidth\": 2}}}, \"title\": {\"text\": \"Distribution of rate within comments\"}, \"xaxis\": {\"title\": {\"text\": \"Lable\"}}, \"yaxis\": {\"title\": {\"text\": \"Frequency\"}}},\n",
              "                        {\"responsive\": true}\n",
              "                    ).then(function(){\n",
              "                            \n",
              "var gd = document.getElementById('58568be6-3bba-4742-8596-94acbbcbe1a5');\n",
              "var x = new MutationObserver(function (mutations, observer) {{\n",
              "        var display = window.getComputedStyle(gd).display;\n",
              "        if (!display || display === 'none') {{\n",
              "            console.log([gd, 'removed!']);\n",
              "            Plotly.purge(gd);\n",
              "            observer.disconnect();\n",
              "        }}\n",
              "}});\n",
              "\n",
              "// Listen for the removal of the full notebook cells\n",
              "var notebookContainer = gd.closest('#notebook-container');\n",
              "if (notebookContainer) {{\n",
              "    x.observe(notebookContainer, {childList: true});\n",
              "}}\n",
              "\n",
              "// Listen for the clearing of the current output cell\n",
              "var outputEl = gd.closest('.output');\n",
              "if (outputEl) {{\n",
              "    x.observe(outputEl, {childList: true});\n",
              "}}\n",
              "\n",
              "                        })\n",
              "                };\n",
              "                \n",
              "            </script>\n",
              "        </div>\n",
              "</body>\n",
              "</html>"
            ]
          },
          "metadata": {
            "tags": []
          }
        }
      ]
    },
    {
      "cell_type": "markdown",
      "metadata": {
        "id": "tzEb_ZvDjVNZ"
      },
      "source": [
        "The Dataset now is unblanced."
      ]
    },
    {
      "cell_type": "markdown",
      "metadata": {
        "id": "jJxf-DvhGxYv"
      },
      "source": [
        "### Cleaning \n",
        "is the final step in this section, and becase **DeepSentiPers** had five different preprocessing steps were applied to all the sentences (Normalization, Punctuation rmoval, Single character removal, Digits removal and Lemmatization), so Our cleaned method includes these steps:\n",
        "- fixing unicodes\n",
        "- removing specials like an email, url, new lines, ...\n",
        "- cleaning HTMLs\n",
        "- removing emojis"
      ]
    },
    {
      "cell_type": "code",
      "metadata": {
        "id": "Fl54AAGXkwNf"
      },
      "source": [
        "import re\n",
        "def cleanhtml(raw_html):\n",
        "    cleanr = re.compile('<.*?>')\n",
        "    cleantext = re.sub(cleanr, '', raw_html)\n",
        "    return cleantext\n",
        "\n",
        "\n",
        "def cleaning(text):\n",
        "    text = text.strip()\n",
        "    \n",
        "    # regular cleaning\n",
        "    text = clean(text,\n",
        "        fix_unicode=True,                 # fix various unicode errors\n",
        "        to_ascii=False,                   # transliterate to closest ASCII representation\n",
        "        lower=True,                       # lowercase text\n",
        "        no_line_breaks=True,              # fully strip line breaks as opposed to only normalizing them\n",
        "        no_urls=True,                     # replace all URLs with a special token\n",
        "        no_emails=True,                   # replace all email addresses with a special token\n",
        "        no_phone_numbers=True,            # replace all phone numbers with a special token\n",
        "        no_numbers=False,                 # replace all numbers with a special token\n",
        "        no_digits=False,                  # replace all digits with a special token\n",
        "        no_currency_symbols=True,         # replace all currency symbols with a special token\n",
        "        no_punct=False,                   # remove punctuations\n",
        "        replace_with_url=\"\",              # instead of removing URL replace them by noyhing\n",
        "        replace_with_email=\"\",\n",
        "        replace_with_phone_number=\"\",\n",
        "        replace_with_number=\"\",\n",
        "        replace_with_digit=\"0\",\n",
        "        replace_with_currency_symbol=\"\",  \n",
        "        #lang=\"en\"                       # set to 'de' for German special handling\n",
        "        # So far, only English and German are fully supported. It should work for the majority of western languages.\n",
        "    )\n",
        "\n",
        "\n",
        "    # cleaning htmls\n",
        "    text = cleanhtml(text) \n",
        "   \n",
        "    # removing wierd patterns\n",
        "    wierd_pattern = re.compile(\"[\"\n",
        "        u\"\\U0001F600-\\U0001F64F\"  # emoticons\n",
        "        u\"\\U0001F300-\\U0001F5FF\"  # symbols & pictographs\n",
        "        u\"\\U0001F680-\\U0001F6FF\"  # transport & map symbols\n",
        "        u\"\\U0001F1E0-\\U0001F1FF\"  # flags (iOS)\n",
        "        u\"\\U00002702-\\U000027B0\"\n",
        "        u\"\\U000024C2-\\U0001F251\"\n",
        "        u\"\\U0001f926-\\U0001f937\"\n",
        "        u'\\U00010000-\\U0010ffff'\n",
        "        u\"\\u200d\"\n",
        "        u\"\\u2640-\\u2642\"\n",
        "        u\"\\u2600-\\u2B55\"\n",
        "        u\"\\u23cf\"\n",
        "        u\"\\u23e9\"\n",
        "        u\"\\u231a\"\n",
        "        u\"\\u3030\"\n",
        "        u\"\\ufe0f\"\n",
        "        u\"\\u2069\"\n",
        "        u\"\\u2066\"\n",
        "        # u\"\\u200c\"\n",
        "        u\"\\u2068\"\n",
        "        u\"\\u2067\"\n",
        "        \"]+\", flags=re.UNICODE)\n",
        "    \n",
        "    text = wierd_pattern.sub(r'', text)\n",
        "    \n",
        "    # removing extra spaces, hashtags\n",
        "    text = re.sub(\"#\", \"\", text)\n",
        "    text = re.sub(\"\\s+\", \" \", text)\n",
        "    \n",
        "    return text"
      ],
      "execution_count": null,
      "outputs": []
    },
    {
      "cell_type": "code",
      "metadata": {
        "colab": {
          "base_uri": "https://localhost:8080/",
          "height": 467
        },
        "id": "9Q3EzsXelEyW",
        "outputId": "5cefa544-d2f8-4216-a06b-217fb8c65f88"
      },
      "source": [
        "# cleaning comments\n",
        "data['cleaned_comment'] = data['comment'].apply(cleaning)\n",
        "\n",
        "\n",
        "# we calculate the length of comments based on their words again because of cleaning\n",
        "data['cleaned_comment_len_by_words'] = data['cleaned_comment'].apply(lambda t: len(hazm.word_tokenize(t)))\n",
        "\n",
        "# remove comments with the length of fewer than 2 words\n",
        "data['cleaned_comment_len_by_words'] = data['cleaned_comment_len_by_words'].apply(lambda len_t: len_t if minlim <= len_t <= maxlim else len_t)\n",
        "data = data.dropna(subset=['cleaned_comment_len_by_words'])\n",
        "data = data.reset_index(drop=True)\n",
        "\n",
        "data.head()"
      ],
      "execution_count": null,
      "outputs": [
        {
          "output_type": "execute_result",
          "data": {
            "text/html": [
              "<div>\n",
              "<style scoped>\n",
              "    .dataframe tbody tr th:only-of-type {\n",
              "        vertical-align: middle;\n",
              "    }\n",
              "\n",
              "    .dataframe tbody tr th {\n",
              "        vertical-align: top;\n",
              "    }\n",
              "\n",
              "    .dataframe thead th {\n",
              "        text-align: right;\n",
              "    }\n",
              "</style>\n",
              "<table border=\"1\" class=\"dataframe\">\n",
              "  <thead>\n",
              "    <tr style=\"text-align: right;\">\n",
              "      <th></th>\n",
              "      <th>comment</th>\n",
              "      <th>rate</th>\n",
              "      <th>comment_len_by_words</th>\n",
              "      <th>label</th>\n",
              "      <th>cleaned_comment</th>\n",
              "      <th>cleaned_comment_len_by_words</th>\n",
              "    </tr>\n",
              "  </thead>\n",
              "  <tbody>\n",
              "    <tr>\n",
              "      <th>0</th>\n",
              "      <td>همچنین یک برنامه بسیار کاربردی در جهت ارائه نی...</td>\n",
              "      <td>1.0</td>\n",
              "      <td>11.0</td>\n",
              "      <td>positive</td>\n",
              "      <td>همچنین یک برنامه بسیار کاربردی در جهت ارائه نی...</td>\n",
              "      <td>11</td>\n",
              "    </tr>\n",
              "    <tr>\n",
              "      <th>1</th>\n",
              "      <td>این استاندارد بدین معناست که این دستگاه در برا...</td>\n",
              "      <td>1.0</td>\n",
              "      <td>25.0</td>\n",
              "      <td>positive</td>\n",
              "      <td>این استاندارد بدین معناست که این دستگاه در برا...</td>\n",
              "      <td>25</td>\n",
              "    </tr>\n",
              "    <tr>\n",
              "      <th>2</th>\n",
              "      <td>حقیقتا زمانی که آن دوربین معرفی شد توانایی زوم...</td>\n",
              "      <td>1.0</td>\n",
              "      <td>31.0</td>\n",
              "      <td>positive</td>\n",
              "      <td>حقیقتا زمانی که آن دوربین معرفی شد توانایی زوم...</td>\n",
              "      <td>31</td>\n",
              "    </tr>\n",
              "    <tr>\n",
              "      <th>3</th>\n",
              "      <td>این گوشی از رابط کاربری سونی اریکسون TimeScape...</td>\n",
              "      <td>1.0</td>\n",
              "      <td>22.0</td>\n",
              "      <td>positive</td>\n",
              "      <td>این گوشی از رابط کاربری سونی اریکسون timescape...</td>\n",
              "      <td>22</td>\n",
              "    </tr>\n",
              "    <tr>\n",
              "      <th>4</th>\n",
              "      <td>در تست مرورگری اینترنت از طریق Wi-Fi با روشنای...</td>\n",
              "      <td>1.0</td>\n",
              "      <td>21.0</td>\n",
              "      <td>positive</td>\n",
              "      <td>در تست مرورگری اینترنت از طریق wi-fi با روشنای...</td>\n",
              "      <td>21</td>\n",
              "    </tr>\n",
              "  </tbody>\n",
              "</table>\n",
              "</div>"
            ],
            "text/plain": [
              "                                             comment  ...  cleaned_comment_len_by_words\n",
              "0  همچنین یک برنامه بسیار کاربردی در جهت ارائه نی...  ...                            11\n",
              "1  این استاندارد بدین معناست که این دستگاه در برا...  ...                            25\n",
              "2  حقیقتا زمانی که آن دوربین معرفی شد توانایی زوم...  ...                            31\n",
              "3  این گوشی از رابط کاربری سونی اریکسون TimeScape...  ...                            22\n",
              "4  در تست مرورگری اینترنت از طریق Wi-Fi با روشنای...  ...                            21\n",
              "\n",
              "[5 rows x 6 columns]"
            ]
          },
          "metadata": {
            "tags": []
          },
          "execution_count": 27
        }
      ]
    },
    {
      "cell_type": "code",
      "metadata": {
        "colab": {
          "base_uri": "https://localhost:8080/"
        },
        "id": "n3oD0ezNFpRQ",
        "outputId": "79cebc22-b660-42fe-f87c-821459944b4f"
      },
      "source": [
        "data.info()"
      ],
      "execution_count": null,
      "outputs": [
        {
          "output_type": "stream",
          "text": [
            "<class 'pandas.core.frame.DataFrame'>\n",
            "RangeIndex: 8940 entries, 0 to 8939\n",
            "Data columns (total 6 columns):\n",
            " #   Column                        Non-Null Count  Dtype  \n",
            "---  ------                        --------------  -----  \n",
            " 0   comment                       8940 non-null   object \n",
            " 1   rate                          8940 non-null   float64\n",
            " 2   comment_len_by_words          8940 non-null   float64\n",
            " 3   label                         8940 non-null   object \n",
            " 4   cleaned_comment               8940 non-null   object \n",
            " 5   cleaned_comment_len_by_words  8940 non-null   int64  \n",
            "dtypes: float64(2), int64(1), object(3)\n",
            "memory usage: 419.2+ KB\n"
          ],
          "name": "stdout"
        }
      ]
    },
    {
      "cell_type": "code",
      "metadata": {
        "colab": {
          "base_uri": "https://localhost:8080/",
          "height": 205
        },
        "id": "kwEUclOJnNLq",
        "outputId": "c58a9236-5538-4ffa-eb59-46fd83502322"
      },
      "source": [
        "data = data[['cleaned_comment', 'label']]\n",
        "data.columns = ['comment', 'label']\n",
        "data.head()"
      ],
      "execution_count": null,
      "outputs": [
        {
          "output_type": "execute_result",
          "data": {
            "text/html": [
              "<div>\n",
              "<style scoped>\n",
              "    .dataframe tbody tr th:only-of-type {\n",
              "        vertical-align: middle;\n",
              "    }\n",
              "\n",
              "    .dataframe tbody tr th {\n",
              "        vertical-align: top;\n",
              "    }\n",
              "\n",
              "    .dataframe thead th {\n",
              "        text-align: right;\n",
              "    }\n",
              "</style>\n",
              "<table border=\"1\" class=\"dataframe\">\n",
              "  <thead>\n",
              "    <tr style=\"text-align: right;\">\n",
              "      <th></th>\n",
              "      <th>comment</th>\n",
              "      <th>label</th>\n",
              "    </tr>\n",
              "  </thead>\n",
              "  <tbody>\n",
              "    <tr>\n",
              "      <th>0</th>\n",
              "      <td>همچنین یک برنامه بسیار کاربردی در جهت ارائه نی...</td>\n",
              "      <td>positive</td>\n",
              "    </tr>\n",
              "    <tr>\n",
              "      <th>1</th>\n",
              "      <td>این استاندارد بدین معناست که این دستگاه در برا...</td>\n",
              "      <td>positive</td>\n",
              "    </tr>\n",
              "    <tr>\n",
              "      <th>2</th>\n",
              "      <td>حقیقتا زمانی که آن دوربین معرفی شد توانایی زوم...</td>\n",
              "      <td>positive</td>\n",
              "    </tr>\n",
              "    <tr>\n",
              "      <th>3</th>\n",
              "      <td>این گوشی از رابط کاربری سونی اریکسون timescape...</td>\n",
              "      <td>positive</td>\n",
              "    </tr>\n",
              "    <tr>\n",
              "      <th>4</th>\n",
              "      <td>در تست مرورگری اینترنت از طریق wi-fi با روشنای...</td>\n",
              "      <td>positive</td>\n",
              "    </tr>\n",
              "  </tbody>\n",
              "</table>\n",
              "</div>"
            ],
            "text/plain": [
              "                                             comment     label\n",
              "0  همچنین یک برنامه بسیار کاربردی در جهت ارائه نی...  positive\n",
              "1  این استاندارد بدین معناست که این دستگاه در برا...  positive\n",
              "2  حقیقتا زمانی که آن دوربین معرفی شد توانایی زوم...  positive\n",
              "3  این گوشی از رابط کاربری سونی اریکسون timescape...  positive\n",
              "4  در تست مرورگری اینترنت از طریق wi-fi با روشنای...  positive"
            ]
          },
          "metadata": {
            "tags": []
          },
          "execution_count": 29
        }
      ]
    },
    {
      "cell_type": "code",
      "metadata": {
        "colab": {
          "base_uri": "https://localhost:8080/"
        },
        "id": "JZHuzYFMna2n",
        "outputId": "f95d2c30-a67e-4dd4-8f38-5ab7a0223ea1"
      },
      "source": [
        "print(f'We have #{len(labels)} labels: {labels}')"
      ],
      "execution_count": null,
      "outputs": [
        {
          "output_type": "stream",
          "text": [
            "We have #2 labels: ['negative', 'positive']\n"
          ],
          "name": "stdout"
        }
      ]
    },
    {
      "cell_type": "markdown",
      "metadata": {
        "id": "ofg3Ue4jlGcF"
      },
      "source": [
        "### Handling Unbalanced Data\n",
        "for making things simple. We cut the dataset randomly based on the fewer label, the negative class."
      ]
    },
    {
      "cell_type": "code",
      "metadata": {
        "id": "7go47tYozdZI",
        "colab": {
          "base_uri": "https://localhost:8080/"
        },
        "outputId": "b628cb21-8b8b-4d0b-b27e-88c60013df02"
      },
      "source": [
        "negative_data = data[data['label'] == 'negative']\n",
        "positive_data = data[data['label'] == 'positive']\n",
        "\n",
        "cutting_point = min(len(negative_data), len(positive_data))\n",
        "\n",
        "if cutting_point <= len(negative_data):\n",
        "    negative_data = negative_data.sample(n=cutting_point).reset_index(drop=True)\n",
        "\n",
        "if cutting_point <= len(positive_data):\n",
        "    positive_data = positive_data.sample(n=cutting_point).reset_index(drop=True)\n",
        "\n",
        "new_data = pd.concat([negative_data, positive_data])\n",
        "new_data = new_data.sample(frac=1).reset_index(drop=True)\n",
        "new_data.info()"
      ],
      "execution_count": null,
      "outputs": [
        {
          "output_type": "stream",
          "text": [
            "<class 'pandas.core.frame.DataFrame'>\n",
            "RangeIndex: 4010 entries, 0 to 4009\n",
            "Data columns (total 2 columns):\n",
            " #   Column   Non-Null Count  Dtype \n",
            "---  ------   --------------  ----- \n",
            " 0   comment  4010 non-null   object\n",
            " 1   label    4010 non-null   object\n",
            "dtypes: object(2)\n",
            "memory usage: 62.8+ KB\n"
          ],
          "name": "stdout"
        }
      ]
    },
    {
      "cell_type": "code",
      "metadata": {
        "colab": {
          "base_uri": "https://localhost:8080/"
        },
        "id": "rLbMRuVqOSmn",
        "outputId": "52cca8f6-613a-4329-df53-17dce2c7b6f9"
      },
      "source": [
        "# See the data number of sentence in each category and is it balanced?\n",
        "GroupbyLabel = new_data.groupby('label')['label'].count()\n",
        "\n",
        "GroupbyLabel = dict(GroupbyLabel)\n",
        "print(GroupbyLabel)"
      ],
      "execution_count": null,
      "outputs": [
        {
          "output_type": "stream",
          "text": [
            "{'negative': 2005, 'positive': 2005}\n"
          ],
          "name": "stdout"
        }
      ]
    },
    {
      "cell_type": "code",
      "metadata": {
        "colab": {
          "base_uri": "https://localhost:8080/",
          "height": 297
        },
        "id": "GEGDgOO7O2Ih",
        "outputId": "153896e3-3cb5-40ed-c3d0-4d12a9ed9613"
      },
      "source": [
        "labels = list(GroupbyLabel.keys())\n",
        "sizes = list(GroupbyLabel.values())\n",
        "colors = ['#3fba36', '#66b3ff','#ffcc99','#ff9999', '#d44444']\n",
        "fig1, ax1 = plt.subplots()\n",
        "ax1.pie(sizes, labels=labels, colors=colors,\n",
        "        autopct='%1.1f%%', startangle=90)\n",
        "#draw circle\n",
        "centre_circle = plt.Circle((0,0),0.70,fc='white')\n",
        "fig = plt.gcf()\n",
        "fig.gca().add_artist(centre_circle)\n",
        "# Equal aspect ratio ensures that pie is drawn as a circle\n",
        "ax1.axis('equal')  \n",
        "plt.tight_layout()\n",
        "# Decomment following line if you want to save the figure\n",
        "plt.show()"
      ],
      "execution_count": null,
      "outputs": [
        {
          "output_type": "display_data",
          "data": {
            "image/png": "[encoded data removed]",
            "text/plain": [
              "<Figure size 432x288 with 1 Axes>"
            ]
          },
          "metadata": {
            "tags": []
          }
        }
      ]
    },
    {
      "cell_type": "markdown",
      "metadata": {
        "id": "TokPQ-AxAg5v"
      },
      "source": [
        "The dataset is balanced, so we are going to fine-tuning model"
      ]
    },
    {
      "cell_type": "markdown",
      "metadata": {
        "id": "Ia2X8LySA913"
      },
      "source": [
        "# Train,Validation,Test split\n",
        "\n",
        "We need to split the balanced cleaned dataset into train, valid and test sets due to size of the data. \n",
        "\n",
        "We have considered a rate of **0.3** for *valid*, **0.1** for *test* sets. For splitting, we use `train_test_split` provided by Sklearn package with stratifying on the label for preserving the distribution balance."
      ]
    },
    {
      "cell_type": "code",
      "metadata": {
        "id": "ElzdiwDGELH9"
      },
      "source": [
        "# new_data = data\n",
        "# new_data = new_data.sample(frac=1).reset_index(drop=True) # we shuffle the order of the DataFrame's rows,\n",
        "#                                                           # so that all Type's are mixed.\n",
        "# new_data.info()\n",
        "# new_data.head()"
      ],
      "execution_count": null,
      "outputs": []
    },
    {
      "cell_type": "code",
      "metadata": {
        "colab": {
          "base_uri": "https://localhost:8080/"
        },
        "id": "_E37MIZrJcru",
        "outputId": "f6ff3464-b725-41e2-8fdf-20677e9fb2a5"
      },
      "source": [
        "new_data['label_id'] = new_data['label'].apply(lambda t: labels.index(t))\n",
        "\n",
        "train, test = train_test_split(new_data, test_size=0.1, random_state=1, stratify=new_data['label'])\n",
        "train, valid = train_test_split(train, test_size=0.3, random_state=1, stratify=train['label'])\n",
        "\n",
        "train = train.reset_index(drop=True)\n",
        "valid = valid.reset_index(drop=True)\n",
        "test = test.reset_index(drop=True)\n",
        "\n",
        "x_train, y_train = train['comment'].values.tolist(), train['label_id'].values.tolist()\n",
        "x_valid, y_valid = valid['comment'].values.tolist(), valid['label_id'].values.tolist()\n",
        "x_test, y_test = test['comment'].values.tolist(), test['label_id'].values.tolist()\n",
        "\n",
        "print(train.shape)\n",
        "print(valid.shape)\n",
        "print(test.shape)"
      ],
      "execution_count": null,
      "outputs": [
        {
          "output_type": "stream",
          "text": [
            "(2526, 3)\n",
            "(1083, 3)\n",
            "(401, 3)\n"
          ],
          "name": "stdout"
        }
      ]
    },
    {
      "cell_type": "code",
      "metadata": {
        "colab": {
          "base_uri": "https://localhost:8080/",
          "height": 205
        },
        "id": "52P4WrJ3NJch",
        "outputId": "9d43d845-509e-407c-fb22-afaea0a1df69"
      },
      "source": [
        "new_data.head()"
      ],
      "execution_count": null,
      "outputs": [
        {
          "output_type": "execute_result",
          "data": {
            "text/html": [
              "<div>\n",
              "<style scoped>\n",
              "    .dataframe tbody tr th:only-of-type {\n",
              "        vertical-align: middle;\n",
              "    }\n",
              "\n",
              "    .dataframe tbody tr th {\n",
              "        vertical-align: top;\n",
              "    }\n",
              "\n",
              "    .dataframe thead th {\n",
              "        text-align: right;\n",
              "    }\n",
              "</style>\n",
              "<table border=\"1\" class=\"dataframe\">\n",
              "  <thead>\n",
              "    <tr style=\"text-align: right;\">\n",
              "      <th></th>\n",
              "      <th>comment</th>\n",
              "      <th>label</th>\n",
              "      <th>label_id</th>\n",
              "    </tr>\n",
              "  </thead>\n",
              "  <tbody>\n",
              "    <tr>\n",
              "      <th>0</th>\n",
              "      <td>اما موسسه تحقيقاتي strategyanalytics به سرعت ن...</td>\n",
              "      <td>negative</td>\n",
              "      <td>0</td>\n",
              "    </tr>\n",
              "    <tr>\n",
              "      <th>1</th>\n",
              "      <td>اين دوربين واقعا عکس هاي با کيفيتي ميگيره.</td>\n",
              "      <td>positive</td>\n",
              "      <td>1</td>\n",
              "    </tr>\n",
              "    <tr>\n",
              "      <th>2</th>\n",
              "      <td>در کل، طراحی این گوشی زیبا راضی کننده به نظر م...</td>\n",
              "      <td>positive</td>\n",
              "      <td>1</td>\n",
              "    </tr>\n",
              "    <tr>\n",
              "      <th>3</th>\n",
              "      <td>با توجه به این قابلیت های سخت افزاری ، شما نمی...</td>\n",
              "      <td>negative</td>\n",
              "      <td>0</td>\n",
              "    </tr>\n",
              "    <tr>\n",
              "      <th>4</th>\n",
              "      <td>سلام دوستان من از همين سايت خريدم به نظرم ديگه...</td>\n",
              "      <td>positive</td>\n",
              "      <td>1</td>\n",
              "    </tr>\n",
              "  </tbody>\n",
              "</table>\n",
              "</div>"
            ],
            "text/plain": [
              "                                             comment     label  label_id\n",
              "0  اما موسسه تحقيقاتي strategyanalytics به سرعت ن...  negative         0\n",
              "1         اين دوربين واقعا عکس هاي با کيفيتي ميگيره.  positive         1\n",
              "2  در کل، طراحی این گوشی زیبا راضی کننده به نظر م...  positive         1\n",
              "3  با توجه به این قابلیت های سخت افزاری ، شما نمی...  negative         0\n",
              "4  سلام دوستان من از همين سايت خريدم به نظرم ديگه...  positive         1"
            ]
          },
          "metadata": {
            "tags": []
          },
          "execution_count": 36
        }
      ]
    },
    {
      "cell_type": "markdown",
      "metadata": {
        "id": "s3iHxcj1FFyG"
      },
      "source": [
        "First of all, we follow the model using *PyTorch*, and next, do the same processes using *TensorFlow* and finally use the ParsBERT script to do all the things once.\n",
        "\n",
        "![BERT INPUTS](https://humboldt-wi.github.io/blog/img/seminar/bert/bert_input.png)\n",
        "\n",
        "As you know, the BERT model input is a combination of 3 embeddings.\n",
        "- Token embeddings: WordPiece token vocabulary (WordPiece is another word segmentation algorithm, similar to BPE)\n",
        "- Segment embeddings: for pair sentences [A-B] marked as $E_A$ or $E_B$ mean that it belongs to the first sentence or the second one.\n",
        "- Position embeddings: specify the position of words in a sentence"
      ]
    },
    {
      "cell_type": "markdown",
      "metadata": {
        "id": "3Y6ZVcazHAwm"
      },
      "source": [
        "## Using PyTorch"
      ]
    },
    {
      "cell_type": "markdown",
      "metadata": {
        "id": "ORckKrfJHXWQ"
      },
      "source": [
        "### Import required packages"
      ]
    },
    {
      "cell_type": "code",
      "metadata": {
        "id": "OJpEiGwqHIGy"
      },
      "source": [
        "from transformers import BertConfig, BertTokenizer\n",
        "from transformers import BertModel\n",
        "\n",
        "from transformers import AdamW\n",
        "from transformers import get_linear_schedule_with_warmup\n",
        "\n",
        "import torch\n",
        "import torch.nn as nn\n",
        "import torch.nn.functional as F"
      ],
      "execution_count": null,
      "outputs": []
    },
    {
      "cell_type": "markdown",
      "metadata": {
        "id": "SperdZDDWKxT"
      },
      "source": [
        "### Configuration"
      ]
    },
    {
      "cell_type": "markdown",
      "metadata": {
        "id": "sSXebzaYOPTc"
      },
      "source": [
        "####Select GPU\n",
        "A GPU can be added by going to the menu and selecting one of the falowing 2:\n",
        "\n",
        "  1- Edit 🡒 Notebook Settings 🡒 Hardware accelerator 🡒 (GPU)\n",
        "  <br/>\n",
        "  2- Runtime 🡒  change runtime type 🡒 Hardware accelerator 🡒 (GPU)"
      ]
    },
    {
      "cell_type": "code",
      "metadata": {
        "colab": {
          "base_uri": "https://localhost:8080/"
        },
        "id": "WFpUoggdpU3x",
        "outputId": "22674b8a-39c9-4c08-ca72-1579f9d3b8be"
      },
      "source": [
        "device = torch.device(\"cuda:0\" if torch.cuda.is_available() else \"cpu\")\n",
        "print(f'device: {device}')\n",
        "\n",
        "train_on_gpu = torch.cuda.is_available()\n",
        "\n",
        "if not train_on_gpu:\n",
        "    print('CUDA is not available.  Training on CPU ...')\n",
        "else:\n",
        "    print('CUDA is available!  Training on GPU ...')"
      ],
      "execution_count": null,
      "outputs": [
        {
          "output_type": "stream",
          "text": [
            "device: cuda:0\n",
            "CUDA is available!  Training on GPU ...\n"
          ],
          "name": "stdout"
        }
      ]
    },
    {
      "cell_type": "markdown",
      "metadata": {
        "id": "UtBOde-BpElG"
      },
      "source": [
        "#### General config"
      ]
    },
    {
      "cell_type": "code",
      "metadata": {
        "id": "mH38OJU0X7rd"
      },
      "source": [
        "MAX_LEN = 128\n",
        "TRAIN_BATCH_SIZE = 16\n",
        "VALID_BATCH_SIZE = 16\n",
        "TEST_BATCH_SIZE = 16\n",
        "\n",
        "EPOCHS = 3\n",
        "EEVERY_EPOCH = 1000\n",
        "LEARNING_RATE = 2e-5\n",
        "CLIP = 0.0\n",
        "\n",
        "MODEL_NAME_OR_PATH = 'HooshvareLab/bert-fa-base-uncased'\n",
        "OUTPUT_PATH = '/content/bert-fa-base-uncased-sentiment-taaghceh/pytorch_model.bin'\n",
        "\n",
        "os.makedirs(os.path.dirname(OUTPUT_PATH), exist_ok=True)"
      ],
      "execution_count": null,
      "outputs": []
    },
    {
      "cell_type": "code",
      "metadata": {
        "id": "qK02AC0pYIPj",
        "colab": {
          "base_uri": "https://localhost:8080/"
        },
        "outputId": "c931c98f-986b-4841-bd9f-abffed330d01"
      },
      "source": [
        "# create a key finder based on label 2 id and id to label\n",
        "\n",
        "label2id = {label: i for i, label in enumerate(labels)}\n",
        "id2label = {v: k for k, v in label2id.items()}\n",
        "\n",
        "print(f'label2id: {label2id}')\n",
        "print(f'id2label: {id2label}')"
      ],
      "execution_count": null,
      "outputs": [
        {
          "output_type": "stream",
          "text": [
            "label2id: {'negative': 0, 'positive': 1}\n",
            "id2label: {0: 'negative', 1: 'positive'}\n"
          ],
          "name": "stdout"
        }
      ]
    },
    {
      "cell_type": "code",
      "metadata": {
        "id": "qGJRNBXFYOcx",
        "colab": {
          "base_uri": "https://localhost:8080/",
          "height": 645,
          "referenced_widgets": [
            "455f1251625d4acead31008a673e8694",
            "3d782d7260ce4b6dbe2cd80571e976c3",
            "06a3d91fdb8e40ffb6d9d0fc3a6284eb",
            "fed4bc14cfdc4b6b8f8225573e8df7e9",
            "b44fcae57f804443a3c17a1e50cbd3d1",
            "47918c4a1111469ea74106d2d6eea45a",
            "910036d213444de4a6c31547d367b45e",
            "1fca9a42d20d47fd838967fe676b1837",
            "288c37a5d244431199b37d3cdea576d5",
            "cc61b372492b455db8a9fec9fc954c86",
            "da13435e56a7495780d376e5ff90e59d",
            "edc4bcd1b7004d4e939526044e4b5566",
            "5b0646dae7de4846b770f5ef1310ed50",
            "779825abeb4946bf9aed0f256b1ea962",
            "1f860b5642c842a69bdc41a202e2536e",
            "c1f94fdff28f4dd3b5c608a192d35fcf"
          ]
        },
        "outputId": "385c51f3-2b33-4dd7-81e7-97828947a0d3"
      },
      "source": [
        "# setup the tokenizer and configuration\n",
        "\n",
        "tokenizer = BertTokenizer.from_pretrained(MODEL_NAME_OR_PATH)\n",
        "config = BertConfig.from_pretrained(\n",
        "    MODEL_NAME_OR_PATH, **{\n",
        "        'label2id': label2id,\n",
        "        'id2label': id2label,\n",
        "    })\n",
        "\n",
        "print(config.to_json_string())"
      ],
      "execution_count": null,
      "outputs": [
        {
          "output_type": "display_data",
          "data": {
            "application/vnd.jupyter.widget-view+json": {
              "model_id": "455f1251625d4acead31008a673e8694",
              "version_minor": 0,
              "version_major": 2
            },
            "text/plain": [
              "HBox(children=(FloatProgress(value=0.0, description='Downloading', max=1198122.0, style=ProgressStyle(descript…"
            ]
          },
          "metadata": {
            "tags": []
          }
        },
        {
          "output_type": "stream",
          "text": [
            "\n"
          ],
          "name": "stdout"
        },
        {
          "output_type": "display_data",
          "data": {
            "application/vnd.jupyter.widget-view+json": {
              "model_id": "288c37a5d244431199b37d3cdea576d5",
              "version_minor": 0,
              "version_major": 2
            },
            "text/plain": [
              "HBox(children=(FloatProgress(value=0.0, description='Downloading', max=440.0, style=ProgressStyle(description_…"
            ]
          },
          "metadata": {
            "tags": []
          }
        },
        {
          "output_type": "stream",
          "text": [
            "\n",
            "{\n",
            "  \"architectures\": [\n",
            "    \"BertForMaskedLM\"\n",
            "  ],\n",
            "  \"attention_probs_dropout_prob\": 0.1,\n",
            "  \"gradient_checkpointing\": false,\n",
            "  \"hidden_act\": \"gelu\",\n",
            "  \"hidden_dropout_prob\": 0.1,\n",
            "  \"hidden_size\": 768,\n",
            "  \"id2label\": {\n",
            "    \"0\": \"negative\",\n",
            "    \"1\": \"positive\"\n",
            "  },\n",
            "  \"initializer_range\": 0.02,\n",
            "  \"intermediate_size\": 3072,\n",
            "  \"label2id\": {\n",
            "    \"negative\": 0,\n",
            "    \"positive\": 1\n",
            "  },\n",
            "  \"layer_norm_eps\": 1e-12,\n",
            "  \"max_position_embeddings\": 512,\n",
            "  \"model_type\": \"bert\",\n",
            "  \"num_attention_heads\": 12,\n",
            "  \"num_hidden_layers\": 12,\n",
            "  \"pad_token_id\": 0,\n",
            "  \"type_vocab_size\": 2,\n",
            "  \"vocab_size\": 100000\n",
            "}\n",
            "\n"
          ],
          "name": "stdout"
        }
      ]
    },
    {
      "cell_type": "markdown",
      "metadata": {
        "id": "cr9L9N91gSpm"
      },
      "source": [
        "### Input Embeddings"
      ]
    },
    {
      "cell_type": "code",
      "metadata": {
        "id": "3BIajCqGgYEG",
        "colab": {
          "base_uri": "https://localhost:8080/"
        },
        "outputId": "4b52a3f0-b01a-4552-9df7-4cda7493250c"
      },
      "source": [
        "idx = np.random.randint(0, len(train))\n",
        "sample_comment = train.iloc[idx]['comment']\n",
        "sample_label = train.iloc[idx]['label']\n",
        "\n",
        "print(f'Sample: \\n{sample_comment}\\n{sample_label}')"
      ],
      "execution_count": null,
      "outputs": [
        {
          "output_type": "stream",
          "text": [
            "Sample: \n",
            "این دوربین از فن آوری iauto در فیلم‌برداری اتوماتیک بهره می برد که همان اتوماتیک هوشمند است باعث می شود که دوربین به صورت خودکار بتواند نوع صحنه را تشخیص دهد نوردهی دیگر تنظیمات را متناسب با آن قرار دهد.\n",
            "positive\n"
          ],
          "name": "stdout"
        }
      ]
    },
    {
      "cell_type": "code",
      "metadata": {
        "id": "ygnLJu8uhjPT",
        "colab": {
          "base_uri": "https://localhost:8080/"
        },
        "outputId": "39698c6b-86ad-4423-8d57-51a46716159e"
      },
      "source": [
        "tokens = tokenizer.tokenize(sample_comment)\n",
        "token_ids = tokenizer.convert_tokens_to_ids(tokens)\n",
        "\n",
        "print(f'  Comment: {sample_comment}')\n",
        "print(f'   Tokens: {tokenizer.convert_tokens_to_string(tokens)}')\n",
        "print(f'Token IDs: {token_ids}')"
      ],
      "execution_count": null,
      "outputs": [
        {
          "output_type": "stream",
          "text": [
            "  Comment: این دوربین از فن آوری iauto در فیلم‌برداری اتوماتیک بهره می برد که همان اتوماتیک هوشمند است باعث می شود که دوربین به صورت خودکار بتواند نوع صحنه را تشخیص دهد نوردهی دیگر تنظیمات را متناسب با آن قرار دهد.\n",
            "   Tokens: این دوربین از فن اوری iauto در [UNK] اتوماتیک بهره می برد که همان اتوماتیک هوشمند است باعث می شود که دوربین به صورت خودکار بتواند نوع صحنه را تشخیص دهد نوردهی دیگر تنظیمات را متناسب با ان قرار دهد .\n",
            "Token IDs: [2802, 4834, 2791, 6112, 7527, 80321, 19921, 2786, 1, 11464, 3893, 2793, 4073, 2800, 3413, 11464, 4980, 2806, 3457, 2793, 3073, 2800, 4834, 2789, 3080, 7332, 5404, 3645, 5665, 2803, 4778, 3890, 29531, 2972, 11384, 2803, 7523, 2799, 2808, 2959, 3890, 1012]\n"
          ],
          "name": "stdout"
        }
      ]
    },
    {
      "cell_type": "code",
      "metadata": {
        "id": "jgsgZ2b5h2I4",
        "colab": {
          "base_uri": "https://localhost:8080/"
        },
        "outputId": "932e8d72-5bf9-45cf-b984-9a0f1059453a"
      },
      "source": [
        "encoding = tokenizer.encode_plus(\n",
        "    sample_comment,\n",
        "    max_length=32,\n",
        "    truncation=True,\n",
        "    add_special_tokens=True, # Add '[CLS]' and '[SEP]'\n",
        "    return_token_type_ids=True,\n",
        "    return_attention_mask=True,\n",
        "    padding='max_length',\n",
        "    return_tensors='pt',  # Return PyTorch tensors\n",
        ")\n",
        "\n",
        "print(f'Keys: {encoding.keys()}\\n')\n",
        "for k in encoding.keys():\n",
        "    print(f'{k}:\\n{encoding[k]}')"
      ],
      "execution_count": null,
      "outputs": [
        {
          "output_type": "stream",
          "text": [
            "Keys: dict_keys(['input_ids', 'token_type_ids', 'attention_mask'])\n",
            "\n",
            "input_ids:\n",
            "tensor([[    2,  2802,  4834,  2791,  6112,  7527, 80321, 19921,  2786,     1,\n",
            "         11464,  3893,  2793,  4073,  2800,  3413, 11464,  4980,  2806,  3457,\n",
            "          2793,  3073,  2800,  4834,  2789,  3080,  7332,  5404,  3645,  5665,\n",
            "          2803,     4]])\n",
            "token_type_ids:\n",
            "tensor([[0, 0, 0, 0, 0, 0, 0, 0, 0, 0, 0, 0, 0, 0, 0, 0, 0, 0, 0, 0, 0, 0, 0, 0,\n",
            "         0, 0, 0, 0, 0, 0, 0, 0]])\n",
            "attention_mask:\n",
            "tensor([[1, 1, 1, 1, 1, 1, 1, 1, 1, 1, 1, 1, 1, 1, 1, 1, 1, 1, 1, 1, 1, 1, 1, 1,\n",
            "         1, 1, 1, 1, 1, 1, 1, 1]])\n"
          ],
          "name": "stdout"
        }
      ]
    },
    {
      "cell_type": "markdown",
      "metadata": {
        "id": "Pr8cRm9xiyKh"
      },
      "source": [
        "### Dataset"
      ]
    },
    {
      "cell_type": "code",
      "metadata": {
        "id": "TaJBSSuMizgr"
      },
      "source": [
        "class BTDataset(torch.utils.data.Dataset):\n",
        "    \"\"\" Create a PyTorch dataset for DeepSentiPers. \"\"\"\n",
        "\n",
        "    def __init__(self, tokenizer, comments, targets=None, label_list=None, max_len=128):\n",
        "        self.comments = comments\n",
        "        self.targets = targets\n",
        "        self.has_target = isinstance(targets, list) or isinstance(targets, np.ndarray)\n",
        "\n",
        "        self.tokenizer = tokenizer\n",
        "        self.max_len = max_len\n",
        "\n",
        "        \n",
        "        self.label_map = {label: i for i, label in enumerate(label_list)} if isinstance(label_list, list) else {}\n",
        "    \n",
        "    def __len__(self):\n",
        "        return len(self.comments)\n",
        "\n",
        "    def __getitem__(self, item):\n",
        "        comment = str(self.comments[item])\n",
        "\n",
        "        if self.has_target:\n",
        "            target = self.label_map.get(str(self.targets[item]), str(self.targets[item]))\n",
        "\n",
        "        encoding = self.tokenizer.encode_plus(\n",
        "            comment,\n",
        "            add_special_tokens=True,\n",
        "            truncation=True,\n",
        "            max_length=self.max_len,\n",
        "            return_token_type_ids=True,\n",
        "            padding='max_length',\n",
        "            return_attention_mask=True,\n",
        "            return_tensors='pt')\n",
        "        \n",
        "        inputs = {\n",
        "            'comment': comment,\n",
        "            'input_ids': encoding['input_ids'].flatten(),\n",
        "            'attention_mask': encoding['attention_mask'].flatten(),\n",
        "            'token_type_ids': encoding['token_type_ids'].flatten(),\n",
        "        }\n",
        "\n",
        "        if self.has_target:\n",
        "            inputs['targets'] = torch.tensor(target, dtype=torch.long)\n",
        "        \n",
        "        return inputs\n",
        "\n",
        "\n",
        "def create_data_loader(x, y, tokenizer, max_len, batch_size, label_list):\n",
        "    dataset = BTDataset(\n",
        "        comments=x,\n",
        "        targets=y,\n",
        "        tokenizer=tokenizer,\n",
        "        max_len=max_len, \n",
        "        label_list=label_list)\n",
        "    \n",
        "    return torch.utils.data.DataLoader(dataset, batch_size=batch_size)"
      ],
      "execution_count": null,
      "outputs": []
    },
    {
      "cell_type": "code",
      "metadata": {
        "id": "JEcefj6fkZFl"
      },
      "source": [
        "label_list = ['negative', 'positive']\n",
        "train_data_loader = create_data_loader(train['comment'].to_numpy(), train['label'].to_numpy(), tokenizer, MAX_LEN, TRAIN_BATCH_SIZE, label_list)\n",
        "valid_data_loader = create_data_loader(valid['comment'].to_numpy(), valid['label'].to_numpy(), tokenizer, MAX_LEN, VALID_BATCH_SIZE, label_list)\n",
        "test_data_loader = create_data_loader(test['comment'].to_numpy(), None, tokenizer, MAX_LEN, TEST_BATCH_SIZE, label_list)"
      ],
      "execution_count": null,
      "outputs": []
    },
    {
      "cell_type": "code",
      "metadata": {
        "id": "_qSxzPU2krDk",
        "colab": {
          "base_uri": "https://localhost:8080/"
        },
        "outputId": "8d124468-26c5-42c8-ba9e-6780ffe65926"
      },
      "source": [
        "sample_data = next(iter(train_data_loader))\n",
        "\n",
        "print(sample_data.keys())\n",
        "\n",
        "print(sample_data['comment'])\n",
        "print(sample_data['input_ids'].shape)\n",
        "print(sample_data['input_ids'][0, :])\n",
        "print(sample_data['attention_mask'].shape)\n",
        "print(sample_data['attention_mask'][0, :])\n",
        "print(sample_data['token_type_ids'].shape)\n",
        "print(sample_data['token_type_ids'][0, :])\n",
        "print(sample_data['targets'].shape)\n",
        "print(sample_data['targets'][0])"
      ],
      "execution_count": null,
      "outputs": [
        {
          "output_type": "stream",
          "text": [
            "dict_keys(['comment', 'input_ids', 'attention_mask', 'token_type_ids', 'targets'])\n",
            "['بين 600d 650d nikon d3200 تحقيق ميکردم که 650d حرفي واسه گفتن نذاشت.', 'توان باتری کم در مقایسه با ال سی دی از قدرت پردازش lcd ، که قطعاً حدود یک یا دو روز طول می کشد.', 'در کل همانطور که گفتیم، sx160 is همانند مدل های پیشین خود دوربین کامپکت سوپرزوم ارزان قیمتیست که امکانات خوبی ارائه می کند.', 'تنها مشکلي که شايد بشه اشاره کرد يکم کوچيک بودن اسکرينش هست!', 'یکی داشتن دوربین دوتایی است که مورد استفاده بسیاری نیست و دیگری شارژ سریع است.', 'همه این ویژگی ها در کنار طراحی خوب طراحی شده ، البته ، باعث شده اند note 10.1 به بزرگترین مزیتی که این محصول را در بازار متمایز می کند.', 'طراحی اچ تی سی تغییراتی را در طراحی مدل جدید خود ایجاد کرده است.', 'یک لپ تاپ بسیار خوب اشکالی ندارد', 'xperia mini از gps داخلی برای تعیین موقعیت در هر جای کره\\u200cی زمین که باشید بهره می\\u200cبرد.', 'بزرگي دکمه هاش فاصله مناسبش باعث لذت بخش بودن تايپ پيامک ميشه.', 'اين هارد اکسترنال نسبت به هم رده هاش کمي ارزون تر هست طراحي بسيار زيبايي داره قاب آبي رنگش رو ميتونيد برداريد کابل usb3 اون رو قاب آبي رنگش سوار ميشه همچنين اين هارد اکسترنال پرسرعت ترين هارد توي بازاره در ضمن هارد هاي وسترن هم ديگه اون هاردهاي قديم نيستن کيفيت سابق رو ندارن در کل هارد بسيار عالي هست من ازش خيلي راضيم', 'تعامل هوشمندانه با کنترل صدا حرکت فن\\u200cآوری جدید پیشرفته تعامل هوشمند به شما اجازه می\\u200cدهد تا بدون نیاز به فشار دادن دکمه با تلویزیون خود کار کنید.', 'متأسفانه ما انسانها خيلي زود با تبليغات گول ميخوريم هنوز کالايي را نخريده در باره ان نظر ميدهيم', 'بدن ضد تابش این گوش هنگام نگه داشتن آن ، احساس خوبی به شما می دهد.', 'البته این کاهش وزن عواقب اجتناب ناپذیری داشته است که مهمترین آنها عدم وجود درایو نوری در دستگاه است.', 'تو ايزوهاي پايين مقداري نويز داره که بخاطر حسگر cmos هست احتمالا.']\n",
            "torch.Size([16, 128])\n",
            "tensor([    2, 62846,  2011,     1,     1, 49803,  3903,     1, 68240, 59021,\n",
            "        59767,  3328,  2015,  2800,     1,  3919,  2038, 29197,  8540, 36732,\n",
            "         6405,  1012,     4,     0,     0,     0,     0,     0,     0,     0,\n",
            "            0,     0,     0,     0,     0,     0,     0,     0,     0,     0,\n",
            "            0,     0,     0,     0,     0,     0,     0,     0,     0,     0,\n",
            "            0,     0,     0,     0,     0,     0,     0,     0,     0,     0,\n",
            "            0,     0,     0,     0,     0,     0,     0,     0,     0,     0,\n",
            "            0,     0,     0,     0,     0,     0,     0,     0,     0,     0,\n",
            "            0,     0,     0,     0,     0,     0,     0,     0,     0,     0,\n",
            "            0,     0,     0,     0,     0,     0,     0,     0,     0,     0,\n",
            "            0,     0,     0,     0,     0,     0,     0,     0,     0,     0,\n",
            "            0,     0,     0,     0,     0,     0,     0,     0,     0,     0,\n",
            "            0,     0,     0,     0,     0,     0,     0,     0])\n",
            "torch.Size([16, 128])\n",
            "tensor([1, 1, 1, 1, 1, 1, 1, 1, 1, 1, 1, 1, 1, 1, 1, 1, 1, 1, 1, 1, 1, 1, 1, 0,\n",
            "        0, 0, 0, 0, 0, 0, 0, 0, 0, 0, 0, 0, 0, 0, 0, 0, 0, 0, 0, 0, 0, 0, 0, 0,\n",
            "        0, 0, 0, 0, 0, 0, 0, 0, 0, 0, 0, 0, 0, 0, 0, 0, 0, 0, 0, 0, 0, 0, 0, 0,\n",
            "        0, 0, 0, 0, 0, 0, 0, 0, 0, 0, 0, 0, 0, 0, 0, 0, 0, 0, 0, 0, 0, 0, 0, 0,\n",
            "        0, 0, 0, 0, 0, 0, 0, 0, 0, 0, 0, 0, 0, 0, 0, 0, 0, 0, 0, 0, 0, 0, 0, 0,\n",
            "        0, 0, 0, 0, 0, 0, 0, 0])\n",
            "torch.Size([16, 128])\n",
            "tensor([0, 0, 0, 0, 0, 0, 0, 0, 0, 0, 0, 0, 0, 0, 0, 0, 0, 0, 0, 0, 0, 0, 0, 0,\n",
            "        0, 0, 0, 0, 0, 0, 0, 0, 0, 0, 0, 0, 0, 0, 0, 0, 0, 0, 0, 0, 0, 0, 0, 0,\n",
            "        0, 0, 0, 0, 0, 0, 0, 0, 0, 0, 0, 0, 0, 0, 0, 0, 0, 0, 0, 0, 0, 0, 0, 0,\n",
            "        0, 0, 0, 0, 0, 0, 0, 0, 0, 0, 0, 0, 0, 0, 0, 0, 0, 0, 0, 0, 0, 0, 0, 0,\n",
            "        0, 0, 0, 0, 0, 0, 0, 0, 0, 0, 0, 0, 0, 0, 0, 0, 0, 0, 0, 0, 0, 0, 0, 0,\n",
            "        0, 0, 0, 0, 0, 0, 0, 0])\n",
            "torch.Size([16])\n",
            "tensor(1)\n"
          ],
          "name": "stdout"
        }
      ]
    },
    {
      "cell_type": "code",
      "metadata": {
        "id": "tDUNgRODuOTK",
        "colab": {
          "base_uri": "https://localhost:8080/"
        },
        "outputId": "a502dc02-a200-4343-f5ab-b53914c44e5c"
      },
      "source": [
        "sample_test = next(iter(test_data_loader))\n",
        "print(sample_test.keys())"
      ],
      "execution_count": null,
      "outputs": [
        {
          "output_type": "stream",
          "text": [
            "dict_keys(['comment', 'input_ids', 'attention_mask', 'token_type_ids'])\n"
          ],
          "name": "stdout"
        }
      ]
    },
    {
      "cell_type": "markdown",
      "metadata": {
        "id": "doP5OE1OWP38"
      },
      "source": [
        "### Model\n",
        "\n",
        "During the implementation of the model, sometime, you may be faced with this kind of error. It said you used all the Cuda-Memory for solving. There are many ways for the simple one is to clear the Cuda cache memory!\n",
        "\n",
        "![Cuda-Error](https://res.cloudinary.com/m3hrdadfi/image/upload/v1599979552/kaggle/cuda-error_iyqh4o.png)\n",
        "\n",
        "\n",
        "**Simple Solution**\n",
        "```python\n",
        "import torch, gc\n",
        "\n",
        "gc.collect()\n",
        "torch.cuda.empty_cache()\n",
        "\n",
        "!nvidia-smi\n",
        "```"
      ]
    },
    {
      "cell_type": "code",
      "metadata": {
        "id": "Mv75ARn_R_Dt"
      },
      "source": [
        "class SentimentModel(nn.Module):\n",
        "\n",
        "    def __init__(self, config):\n",
        "        super(SentimentModel, self).__init__()\n",
        "\n",
        "        self.bert = BertModel.from_pretrained(MODEL_NAME_OR_PATH)\n",
        "        self.dropout = nn.Dropout(config.hidden_dropout_prob)\n",
        "        self.classifer = nn.Linear(config.hidden_size, config.num_labels)\n",
        "    \n",
        "    def forward(self, input_ids, attention_mask, token_type_ids):\n",
        "        _, pooled_output = self.bert(\n",
        "            input_ids=input_ids, \n",
        "            attention_mask=attention_mask, \n",
        "            token_type_ids=token_type_ids)\n",
        "        \n",
        "        pooled_output = self.dropout(pooled_output)\n",
        "        logits = self.classifier(pooled_output)\n",
        "        return logits "
      ],
      "execution_count": null,
      "outputs": []
    },
    {
      "cell_type": "code",
      "metadata": {
        "id": "VrObbZAdNTNl",
        "colab": {
          "base_uri": "https://localhost:8080/"
        },
        "outputId": "8583ae7e-7752-4c97-cee5-fe278689e009"
      },
      "source": [
        "import torch, gc\n",
        "\n",
        "gc.collect()\n",
        "torch.cuda.empty_cache()\n",
        "pt_model = None\n",
        "\n",
        "!nvidia-smi"
      ],
      "execution_count": null,
      "outputs": [
        {
          "output_type": "stream",
          "text": [
            "Wed Jul  7 12:11:17 2021       \n",
            "+-----------------------------------------------------------------------------+\n",
            "| NVIDIA-SMI 465.27       Driver Version: 460.32.03    CUDA Version: 11.2     |\n",
            "|-------------------------------+----------------------+----------------------+\n",
            "| GPU  Name        Persistence-M| Bus-Id        Disp.A | Volatile Uncorr. ECC |\n",
            "| Fan  Temp  Perf  Pwr:Usage/Cap|         Memory-Usage | GPU-Util  Compute M. |\n",
            "|                               |                      |               MIG M. |\n",
            "|===============================+======================+======================|\n",
            "|   0  Tesla T4            Off  | 00000000:00:04.0 Off |                    0 |\n",
            "| N/A   53C    P8    10W /  70W |      3MiB / 15109MiB |      0%      Default |\n",
            "|                               |                      |                  N/A |\n",
            "+-------------------------------+----------------------+----------------------+\n",
            "                                                                               \n",
            "+-----------------------------------------------------------------------------+\n",
            "| Processes:                                                                  |\n",
            "|  GPU   GI   CI        PID   Type   Process name                  GPU Memory |\n",
            "|        ID   ID                                                   Usage      |\n",
            "|=============================================================================|\n",
            "|  No running processes found                                                 |\n",
            "+-----------------------------------------------------------------------------+\n"
          ],
          "name": "stdout"
        }
      ]
    },
    {
      "cell_type": "code",
      "metadata": {
        "id": "7vzQGZGUmw3-",
        "colab": {
          "base_uri": "https://localhost:8080/",
          "referenced_widgets": [
            "c125d8121b574552bd5a3d4dc1c1c645",
            "b95172a8f9904196b7e147e93a5a1683",
            "c92e308e99e645a6b5ecaa7b1cd7d2fc",
            "e52dc1d26814452cb04ff986e5a9a056",
            "bf49084c08a34a7a9d096fbccfa84b59",
            "23a5fd57ca544047999c3ff9154da69d",
            "ff1546216bca4380b97d0ae7432da2a4",
            "21ba0af93ec0444f9896cb3851f38e4a"
          ]
        },
        "outputId": "21400d17-fedb-4e26-813e-8eb4ffce0c34"
      },
      "source": [
        "pt_model = SentimentModel(config=config)\n",
        "pt_model = pt_model.to(device)\n",
        "\n",
        "print('pt_model', type(pt_model))"
      ],
      "execution_count": null,
      "outputs": [
        {
          "output_type": "display_data",
          "data": {
            "application/vnd.jupyter.widget-view+json": {
              "model_id": "c125d8121b574552bd5a3d4dc1c1c645",
              "version_minor": 0,
              "version_major": 2
            },
            "text/plain": [
              "HBox(children=(FloatProgress(value=0.0, description='Downloading', max=654226731.0, style=ProgressStyle(descri…"
            ]
          },
          "metadata": {
            "tags": []
          }
        },
        {
          "output_type": "stream",
          "text": [
            "\n"
          ],
          "name": "stdout"
        },
        {
          "output_type": "stream",
          "text": [
            "Some weights of the model checkpoint at HooshvareLab/bert-fa-base-uncased were not used when initializing BertModel: ['bert.embeddings.position_ids']\n",
            "- This IS expected if you are initializing BertModel from the checkpoint of a model trained on another task or with another architecture (e.g. initializing a BertForSequenceClassification model from a BertForPretraining model).\n",
            "- This IS NOT expected if you are initializing BertModel from the checkpoint of a model that you expect to be exactly identical (initializing a BertForSequenceClassification model from a BertForSequenceClassification model).\n"
          ],
          "name": "stderr"
        },
        {
          "output_type": "stream",
          "text": [
            "pt_model <class '__main__.SentimentModel'>\n"
          ],
          "name": "stdout"
        }
      ]
    },
    {
      "cell_type": "code",
      "metadata": {
        "id": "68gIBEpiqBZc",
        "colab": {
          "base_uri": "https://localhost:8080/"
        },
        "outputId": "6664fd6c-3541-4dd7-a933-4ebbfb7ce2b3"
      },
      "source": [
        "# sample data output\n",
        "\n",
        "sample_data_comment = sample_data['comment']\n",
        "sample_data_input_ids = sample_data['input_ids']\n",
        "sample_data_attention_mask = sample_data['attention_mask']\n",
        "sample_data_token_type_ids = sample_data['token_type_ids']\n",
        "sample_data_targets = sample_data['targets']\n",
        "\n",
        "# available for using in GPU\n",
        "sample_data_input_ids = sample_data_input_ids.to(device)\n",
        "sample_data_attention_mask = sample_data_attention_mask.to(device)\n",
        "sample_data_token_type_ids = sample_data_token_type_ids.to(device)\n",
        "sample_data_targets = sample_data_targets.to(device)\n",
        "\n",
        "\n",
        "# outputs = F.softmax(\n",
        "#     pt_model(sample_data_input_ids, sample_data_attention_mask, sample_data_token_type_ids), \n",
        "#     dim=1)\n",
        "\n",
        "outputs = pt_model(sample_data_input_ids, sample_data_attention_mask, sample_data_token_type_ids)\n",
        "_, preds = torch.max(outputs, dim=1)\n",
        "\n",
        "print(outputs[:5, :])\n",
        "print(preds[:5])"
      ],
      "execution_count": null,
      "outputs": [
        {
          "output_type": "stream",
          "text": [
            "tensor([[ 0.1270,  0.3239],\n",
            "        [ 0.2562,  0.3875],\n",
            "        [ 0.2082,  0.3957],\n",
            "        [ 0.1401,  0.4907],\n",
            "        [-0.0715,  0.5937]], device='cuda:0', grad_fn=<SliceBackward>)\n",
            "tensor([1, 1, 1, 1, 1], device='cuda:0')\n"
          ],
          "name": "stdout"
        }
      ]
    },
    {
      "cell_type": "markdown",
      "metadata": {
        "id": "tFZQDfLlp0Sf"
      },
      "source": [
        "### Training"
      ]
    },
    {
      "cell_type": "code",
      "metadata": {
        "id": "e044fZSfBoKe"
      },
      "source": [
        "def simple_accuracy(y_true, y_pred):\n",
        "    return (y_true == y_pred).mean()\n",
        "\n",
        "def acc_and_f1(y_true, y_pred, average='weighted'):\n",
        "    acc = simple_accuracy(y_true, y_pred)\n",
        "    f1 = f1_score(y_true=y_true, y_pred=y_pred, average=average)\n",
        "    return {\n",
        "        \"acc\": acc,\n",
        "        \"f1\": f1,\n",
        "    }\n",
        "\n",
        "def y_loss(y_true, y_pred, losses):\n",
        "    y_true = torch.stack(y_true).cpu().detach().numpy()\n",
        "    y_pred = torch.stack(y_pred).cpu().detach().numpy()\n",
        "    y = [y_true, y_pred]\n",
        "    loss = np.mean(losses)\n",
        "\n",
        "    return y, loss\n",
        "\n",
        "\n",
        "def eval_op(model, data_loader, loss_fn):\n",
        "    model.eval()\n",
        "\n",
        "    losses = []\n",
        "    y_pred = []\n",
        "    y_true = []\n",
        "\n",
        "    with torch.no_grad():\n",
        "        for dl in tqdm(data_loader, total=len(data_loader), desc=\"Evaluation... \"):\n",
        "            \n",
        "            input_ids = dl['input_ids']\n",
        "            attention_mask = dl['attention_mask']\n",
        "            token_type_ids = dl['token_type_ids']\n",
        "            targets = dl['targets']\n",
        "\n",
        "            # move tensors to GPU if CUDA is available\n",
        "            input_ids = input_ids.to(device)\n",
        "            attention_mask = attention_mask.to(device)\n",
        "            token_type_ids = token_type_ids.to(device)\n",
        "            targets = targets.to(device)\n",
        "\n",
        "            # compute predicted outputs by passing inputs to the model\n",
        "            outputs = model(\n",
        "                input_ids=input_ids,\n",
        "                attention_mask=attention_mask,\n",
        "                token_type_ids=token_type_ids)\n",
        "            \n",
        "            # convert output probabilities to predicted class\n",
        "            _, preds = torch.max(outputs, dim=1)\n",
        "\n",
        "            # calculate the batch loss\n",
        "            loss = loss_fn(outputs, targets)\n",
        "\n",
        "            # accumulate all the losses\n",
        "            losses.append(loss.item())\n",
        "\n",
        "            y_pred.extend(preds)\n",
        "            y_true.extend(targets)\n",
        "    \n",
        "    eval_y, eval_loss = y_loss(y_true, y_pred, losses)\n",
        "    return eval_y, eval_loss\n",
        "\n",
        "\n",
        "def train_op(model, \n",
        "             data_loader, \n",
        "             loss_fn, \n",
        "             optimizer, \n",
        "             scheduler, \n",
        "             step=0, \n",
        "             print_every_step=100, \n",
        "             eval=False,\n",
        "             eval_cb=None,\n",
        "             eval_loss_min=np.Inf,\n",
        "             eval_data_loader=None, \n",
        "             clip=0.0):\n",
        "    \n",
        "    model.train()\n",
        "\n",
        "    losses = []\n",
        "    y_pred = []\n",
        "    y_true = []\n",
        "\n",
        "    for dl in tqdm(data_loader, total=len(data_loader), desc=\"Training... \"):\n",
        "        step += 1\n",
        "\n",
        "        input_ids = dl['input_ids']\n",
        "        attention_mask = dl['attention_mask']\n",
        "        token_type_ids = dl['token_type_ids']\n",
        "        targets = dl['targets']\n",
        "\n",
        "        # move tensors to GPU if CUDA is available\n",
        "        input_ids = input_ids.to(device)\n",
        "        attention_mask = attention_mask.to(device)\n",
        "        token_type_ids = token_type_ids.to(device)\n",
        "        targets = targets.to(device)\n",
        "\n",
        "        # clear the gradients of all optimized variables\n",
        "        optimizer.zero_grad()\n",
        "\n",
        "        # compute predicted outputs by passing inputs to the model\n",
        "        outputs = model(\n",
        "            input_ids=input_ids,\n",
        "            attention_mask=attention_mask,\n",
        "            token_type_ids=token_type_ids)\n",
        "        \n",
        "        # convert output probabilities to predicted class\n",
        "        _, preds = torch.max(outputs, dim=1)\n",
        "\n",
        "        # calculate the batch loss\n",
        "        loss = loss_fn(outputs, targets)\n",
        "\n",
        "        # accumulate all the losses\n",
        "        losses.append(loss.item())\n",
        "\n",
        "        # compute gradient of the loss with respect to model parameters\n",
        "        loss.backward()\n",
        "\n",
        "        # `clip_grad_norm` helps prevent the exploding gradient problem in RNNs / LSTMs.\n",
        "        if clip > 0.0:\n",
        "            nn.utils.clip_grad_norm_(model.parameters(), max_norm=clip)\n",
        "\n",
        "        # perform optimization step\n",
        "        optimizer.step()\n",
        "\n",
        "        # perform scheduler step\n",
        "        scheduler.step()\n",
        "\n",
        "        y_pred.extend(preds)\n",
        "        y_true.extend(targets)\n",
        "\n",
        "        if eval:\n",
        "            train_y, train_loss = y_loss(y_true, y_pred, losses)\n",
        "            train_score = acc_and_f1(train_y[0], train_y[1], average='weighted')\n",
        "\n",
        "            if step % print_every_step == 0:\n",
        "                eval_y, eval_loss = eval_op(model, eval_data_loader, loss_fn)\n",
        "                eval_score = acc_and_f1(eval_y[0], eval_y[1], average='weighted')\n",
        "\n",
        "                if hasattr(eval_cb, '__call__'):\n",
        "                    eval_loss_min = eval_cb(model, step, train_score, train_loss, eval_score, eval_loss, eval_loss_min)\n",
        "\n",
        "    train_y, train_loss = y_loss(y_true, y_pred, losses)\n",
        "\n",
        "    return train_y, train_loss, step, eval_loss_min"
      ],
      "execution_count": null,
      "outputs": []
    },
    {
      "cell_type": "code",
      "metadata": {
        "id": "wTWrdialDAtN",
        "colab": {
          "base_uri": "https://localhost:8080/",
          "height": 368,
          "referenced_widgets": [
            "522b90a0230d46b0829f014d251ec5fd",
            "b1e4baba682447cfbfd1bd3902d64891",
            "f5ff5897260649d7be200723890381e9",
            "ef7eb20d951041539bb8cfe5237b271e",
            "0cb256b88efb4f79b2fe329bd294c2cd",
            "976703dcf9f04a68b238a215f41e823a",
            "1f866b255c6748ccbfd740fd8e9daff2",
            "76bd5da218c54cf3929bc9c3e096d464",
            "253c3aed97fb4c11a6d9e293650b0786",
            "b644eb37359e43aea6097233f4431732",
            "e81e30ecd7454ca3bcf0309bebe7dbc5",
            "377f648ecae648deba841d72ef55f3f8",
            "848e9d92b14f47b8bceca68eefa5ef35",
            "cc4602f412284c58a2c5b58a0112e98e",
            "ff0d599074f446dfac28fba05c36fcd7",
            "040f678fa6c2477987df3be62358ce68",
            "4610a4090f46419cb5ed0c3827bdeb05",
            "bdf1452203a242adb6d48fa908c717af",
            "8c4673f880594015923106fd4c90a8ac",
            "32c5a72c7c8647e58503c63474d63a54",
            "f71d3840e90f474f8c42cc560646e708",
            "dba699d836f54c2789c786cc59125532",
            "5e2800173d944530b11d62fdde57c25a",
            "f6b6ed256f9b43dcbbc0075c0b97a8ec",
            "462935ddbde246d6874682da61249c84",
            "44dabf9774a74d3db0ceb8e86c3dedca",
            "0187e7382b6b40d7b874496925e91f13",
            "5173b37dc9554c3a8596731ea2ff31f5",
            "4679a211f3cf42359b06bc594b417fa5",
            "bf5ad84673ea424f9fe6a93ed88cc486",
            "a27f795e49d54bfe977d52faabd3507a",
            "31ec1692fe174c3bba9be77391124fc0",
            "5e89ef9757d946f3858127db1baa0187",
            "8c5588f341d049c59be06c46ff25122b",
            "802c9e17776e415cbc0022e3cb70f079",
            "03933e91f80d495e8b1c3aab4d7aa2d4",
            "a3c57f6522d447848744c72285af05dc",
            "d57083bee4304c9d8cbd6599bf2f48c6",
            "0705cc0e359146b3a9b4d4ac6759fd71",
            "eb94ba9e82fa41d795f1bce1819ae067",
            "791186b5d39543da8e56ee69c0f02023",
            "9b44b0eae27d46a59798cc0401573928",
            "1d90cc1965b74f9599c632d72663e9e2",
            "60d6ad23f4574dc6bb142656efcd0104",
            "4b33aea922fe4471b914bb31b3e5d2f6",
            "41331252c59946f79918277c6bd959cb",
            "319b8fd0eada4777b46df11b7923d436",
            "cab2b546a5f64f0894b7f8e08269fb9c",
            "c65620b1cac249478729e17977ab394c",
            "054c46f1d20344cf82fd348f61e24f01",
            "eae34793a43a4121be1cd833d0c3f478",
            "4c5ec929ec4c433c971d750f92eecbb6",
            "b5b3789a61974545b5b716309649f965",
            "e6b3151a237a49eeb01abbd822d1e89d",
            "74c0adec4f7e4e88bf6befbfda24cc15",
            "f6cd9f46632240cc950ce1aacf7c7c86"
          ]
        },
        "outputId": "32295e01-d168-4492-f384-d9ee7447344f"
      },
      "source": [
        "optimizer = AdamW(pt_model.parameters(), lr=LEARNING_RATE, correct_bias=False)\n",
        "total_steps = len(train_data_loader) * EPOCHS\n",
        "scheduler = get_linear_schedule_with_warmup(\n",
        "    optimizer,\n",
        "    num_warmup_steps=0,\n",
        "    num_training_steps=total_steps\n",
        ")\n",
        "\n",
        "loss_fn = nn.CrossEntropyLoss()\n",
        "\n",
        "step = 0\n",
        "eval_loss_min = np.Inf\n",
        "history = collections.defaultdict(list)\n",
        "\n",
        "\n",
        "def eval_callback(epoch, epochs, output_path):\n",
        "    def eval_cb(model, step, train_score, train_loss, eval_score, eval_loss, eval_loss_min):\n",
        "        statement = ''\n",
        "        statement += 'Epoch: {}/{}...'.format(epoch, epochs)\n",
        "        statement += 'Step: {}...'.format(step)\n",
        "        \n",
        "        statement += 'Train Loss: {:.6f}...'.format(train_loss)\n",
        "        statement += 'Train Acc: {:.3f}...'.format(train_score['acc'])\n",
        "\n",
        "        statement += 'Valid Loss: {:.6f}...'.format(eval_loss)\n",
        "        statement += 'Valid Acc: {:.3f}...'.format(eval_score['acc'])\n",
        "\n",
        "        print(statement)\n",
        "\n",
        "        if eval_loss <= eval_loss_min:\n",
        "            print('Validation loss decreased ({:.6f} --> {:.6f}).  Saving model ...'.format(\n",
        "                eval_loss_min,\n",
        "                eval_loss))\n",
        "            \n",
        "            torch.save(model.state_dict(), output_path)\n",
        "            eval_loss_min = eval_loss\n",
        "        \n",
        "        return eval_loss_min\n",
        "\n",
        "\n",
        "    return eval_cb\n",
        "\n",
        "\n",
        "for epoch in tqdm(range(1, EPOCHS + 1), desc=\"Epochs... \"):\n",
        "    train_y, train_loss, step, eval_loss_min = train_op(\n",
        "        model=pt_model, \n",
        "        data_loader=train_data_loader, \n",
        "        loss_fn=loss_fn, \n",
        "        optimizer=optimizer, \n",
        "        scheduler=scheduler, \n",
        "        step=step, \n",
        "        print_every_step=EEVERY_EPOCH, \n",
        "        eval=True,\n",
        "        eval_cb=eval_callback(epoch, EPOCHS, OUTPUT_PATH),\n",
        "        eval_loss_min=eval_loss_min,\n",
        "        eval_data_loader=valid_data_loader, \n",
        "        clip=CLIP)\n",
        "    \n",
        "    train_score = acc_and_f1(train_y[0], train_y[1], average='weighted')\n",
        "    \n",
        "    eval_y, eval_loss = eval_op(\n",
        "        model=pt_model, \n",
        "        data_loader=valid_data_loader, \n",
        "        loss_fn=loss_fn)\n",
        "    \n",
        "    eval_score = acc_and_f1(eval_y[0], eval_y[1], average='weighted')\n",
        "    \n",
        "    history['train_acc'].append(train_score['acc'])\n",
        "    history['train_loss'].append(train_loss)\n",
        "    history['val_acc'].append(eval_score['acc'])\n",
        "    history['val_loss'].append(eval_loss)"
      ],
      "execution_count": null,
      "outputs": [
        {
          "output_type": "display_data",
          "data": {
            "application/vnd.jupyter.widget-view+json": {
              "model_id": "522b90a0230d46b0829f014d251ec5fd",
              "version_minor": 0,
              "version_major": 2
            },
            "text/plain": [
              "HBox(children=(FloatProgress(value=0.0, description='Epochs... ', max=3.0, style=ProgressStyle(description_wid…"
            ]
          },
          "metadata": {
            "tags": []
          }
        },
        {
          "output_type": "display_data",
          "data": {
            "application/vnd.jupyter.widget-view+json": {
              "model_id": "253c3aed97fb4c11a6d9e293650b0786",
              "version_minor": 0,
              "version_major": 2
            },
            "text/plain": [
              "HBox(children=(FloatProgress(value=0.0, description='Training... ', max=158.0, style=ProgressStyle(description…"
            ]
          },
          "metadata": {
            "tags": []
          }
        },
        {
          "output_type": "stream",
          "text": [
            "\n"
          ],
          "name": "stdout"
        },
        {
          "output_type": "display_data",
          "data": {
            "application/vnd.jupyter.widget-view+json": {
              "model_id": "4610a4090f46419cb5ed0c3827bdeb05",
              "version_minor": 0,
              "version_major": 2
            },
            "text/plain": [
              "HBox(children=(FloatProgress(value=0.0, description='Evaluation... ', max=68.0, style=ProgressStyle(descriptio…"
            ]
          },
          "metadata": {
            "tags": []
          }
        },
        {
          "output_type": "stream",
          "text": [
            "\n"
          ],
          "name": "stdout"
        },
        {
          "output_type": "display_data",
          "data": {
            "application/vnd.jupyter.widget-view+json": {
              "model_id": "462935ddbde246d6874682da61249c84",
              "version_minor": 0,
              "version_major": 2
            },
            "text/plain": [
              "HBox(children=(FloatProgress(value=0.0, description='Training... ', max=158.0, style=ProgressStyle(description…"
            ]
          },
          "metadata": {
            "tags": []
          }
        },
        {
          "output_type": "stream",
          "text": [
            "\n"
          ],
          "name": "stdout"
        },
        {
          "output_type": "display_data",
          "data": {
            "application/vnd.jupyter.widget-view+json": {
              "model_id": "5e89ef9757d946f3858127db1baa0187",
              "version_minor": 0,
              "version_major": 2
            },
            "text/plain": [
              "HBox(children=(FloatProgress(value=0.0, description='Evaluation... ', max=68.0, style=ProgressStyle(descriptio…"
            ]
          },
          "metadata": {
            "tags": []
          }
        },
        {
          "output_type": "stream",
          "text": [
            "\n"
          ],
          "name": "stdout"
        },
        {
          "output_type": "display_data",
          "data": {
            "application/vnd.jupyter.widget-view+json": {
              "model_id": "791186b5d39543da8e56ee69c0f02023",
              "version_minor": 0,
              "version_major": 2
            },
            "text/plain": [
              "HBox(children=(FloatProgress(value=0.0, description='Training... ', max=158.0, style=ProgressStyle(description…"
            ]
          },
          "metadata": {
            "tags": []
          }
        },
        {
          "output_type": "stream",
          "text": [
            "\n"
          ],
          "name": "stdout"
        },
        {
          "output_type": "display_data",
          "data": {
            "application/vnd.jupyter.widget-view+json": {
              "model_id": "c65620b1cac249478729e17977ab394c",
              "version_minor": 0,
              "version_major": 2
            },
            "text/plain": [
              "HBox(children=(FloatProgress(value=0.0, description='Evaluation... ', max=68.0, style=ProgressStyle(descriptio…"
            ]
          },
          "metadata": {
            "tags": []
          }
        },
        {
          "output_type": "stream",
          "text": [
            "\n",
            "\n"
          ],
          "name": "stdout"
        }
      ]
    },
    {
      "cell_type": "markdown",
      "metadata": {
        "id": "C-ZvVuRsoYRK"
      },
      "source": [
        "### Prediction"
      ]
    },
    {
      "cell_type": "code",
      "metadata": {
        "id": "dlpDbg0wDqKP"
      },
      "source": [
        "def predict(model, comments, tokenizer, max_len=128, batch_size=32):\n",
        "    data_loader = create_data_loader(comments, None, tokenizer, max_len, batch_size, None)\n",
        "    \n",
        "    predictions = []\n",
        "    prediction_probs = []\n",
        "\n",
        "    \n",
        "    model.eval()\n",
        "    with torch.no_grad():\n",
        "        for dl in tqdm(data_loader, position=0):\n",
        "            input_ids = dl['input_ids']\n",
        "            attention_mask = dl['attention_mask']\n",
        "            token_type_ids = dl['token_type_ids']\n",
        "\n",
        "            # move tensors to GPU if CUDA is available\n",
        "            input_ids = input_ids.to(device)\n",
        "            attention_mask = attention_mask.to(device)\n",
        "            token_type_ids = token_type_ids.to(device)\n",
        "            \n",
        "            # compute predicted outputs by passing inputs to the model\n",
        "            outputs = model(\n",
        "                input_ids=input_ids,\n",
        "                attention_mask=attention_mask,\n",
        "                token_type_ids=token_type_ids)\n",
        "            \n",
        "            # convert output probabilities to predicted class\n",
        "            _, preds = torch.max(outputs, dim=1)\n",
        "\n",
        "            predictions.extend(preds)\n",
        "            prediction_probs.extend(F.softmax(outputs, dim=1))\n",
        "\n",
        "    predictions = torch.stack(predictions).cpu().detach().numpy()\n",
        "    prediction_probs = torch.stack(prediction_probs).cpu().detach().numpy()\n",
        "\n",
        "    return predictions, prediction_probs"
      ],
      "execution_count": null,
      "outputs": []
    },
    {
      "cell_type": "code",
      "metadata": {
        "id": "RRpWTfwdoWoS",
        "colab": {
          "base_uri": "https://localhost:8080/",
          "height": 85,
          "referenced_widgets": [
            "0821df5bcf18456d833ec15bc7b9c323",
            "c3472f11018c41df8a115a82d436cbc5",
            "36b63f2eaa7c4e5aa1fe548faea9e19f",
            "a49d435c8e4a4c51adad0365e7db78c1",
            "1c3bd5bc27df431e8fe534e5ebe6394c",
            "e6dd317d41ca44c6ad8f6fe8aee2b4cc",
            "2405c7bb11bd45a2b4279d3f44d2a4bb",
            "55042876dd8a4c7dbd6ab248b24b6e09"
          ]
        },
        "outputId": "e2d2aa16-f71a-49cc-b9fd-c80c8a4578e0"
      },
      "source": [
        "test_comments = test['comment'].to_numpy()\n",
        "preds, probs = predict(pt_model, test_comments, tokenizer, max_len=128)\n",
        "\n",
        "print(preds.shape, probs.shape)"
      ],
      "execution_count": null,
      "outputs": [
        {
          "output_type": "display_data",
          "data": {
            "application/vnd.jupyter.widget-view+json": {
              "model_id": "0821df5bcf18456d833ec15bc7b9c323",
              "version_minor": 0,
              "version_major": 2
            },
            "text/plain": [
              "HBox(children=(FloatProgress(value=0.0, max=13.0), HTML(value='')))"
            ]
          },
          "metadata": {
            "tags": []
          }
        },
        {
          "output_type": "stream",
          "text": [
            "\n",
            "(401,) (401, 2)\n"
          ],
          "name": "stdout"
        }
      ]
    },
    {
      "cell_type": "code",
      "metadata": {
        "id": "ZRL2bgDDpUG0",
        "colab": {
          "base_uri": "https://localhost:8080/"
        },
        "outputId": "3f7f8980-03a3-47f7-f8c0-74b96d4ddb2b"
      },
      "source": [
        "y_test, y_pred = [label_list.index(label) for label in test['label'].values], preds\n",
        "\n",
        "print(f'F1: {f1_score(y_test, y_pred, average=\"weighted\")}')\n",
        "print()\n",
        "print(classification_report(y_test, y_pred, target_names=label_list))"
      ],
      "execution_count": null,
      "outputs": [
        {
          "output_type": "stream",
          "text": [
            "F1: 0.8777963664399967\n",
            "\n",
            "              precision    recall  f1-score   support\n",
            "\n",
            "    negative       0.88      0.87      0.88       200\n",
            "    positive       0.87      0.89      0.88       201\n",
            "\n",
            "    accuracy                           0.88       401\n",
            "   macro avg       0.88      0.88      0.88       401\n",
            "weighted avg       0.88      0.88      0.88       401\n",
            "\n"
          ],
          "name": "stdout"
        }
      ]
    },
    {
      "cell_type": "markdown",
      "metadata": {
        "id": "G9eY5tJrwLUZ"
      },
      "source": [
        "## Using TensorFlow"
      ]
    },
    {
      "cell_type": "code",
      "metadata": {
        "id": "BuiOuFkxv_to"
      },
      "source": [
        "from transformers import BertConfig, BertTokenizer\n",
        "from transformers import TFBertModel, TFBertForSequenceClassification\n",
        "from transformers import glue_convert_examples_to_features\n",
        "\n",
        "import tensorflow as tf"
      ],
      "execution_count": null,
      "outputs": []
    },
    {
      "cell_type": "markdown",
      "metadata": {
        "id": "X7Ro-8_pw_uw"
      },
      "source": [
        "### Configuration"
      ]
    },
    {
      "cell_type": "code",
      "metadata": {
        "id": "zx6k3XBxw_Nw"
      },
      "source": [
        "# general config\n",
        "MAX_LEN = 128\n",
        "TRAIN_BATCH_SIZE = 16\n",
        "VALID_BATCH_SIZE = 16\n",
        "TEST_BATCH_SIZE = 16\n",
        "\n",
        "EPOCHS = 3\n",
        "EEVERY_EPOCH = 1000\n",
        "LEARNING_RATE = 2e-5\n",
        "CLIP = 0.0\n",
        "\n",
        "MODEL_NAME_OR_PATH = 'HooshvareLab/bert-fa-base-uncased'\n",
        "OUTPUT_PATH = '/content/bert-fa-base-uncased-sentiment-taaghceh/tf_model.h5'\n",
        "\n",
        "os.makedirs(os.path.dirname(OUTPUT_PATH), exist_ok=True)"
      ],
      "execution_count": null,
      "outputs": []
    },
    {
      "cell_type": "code",
      "metadata": {
        "id": "X8uZ7728RmCw",
        "colab": {
          "base_uri": "https://localhost:8080/"
        },
        "outputId": "4495ee09-f3ed-421f-c9bc-75923e504448"
      },
      "source": [
        "label2id = {label: i for i, label in enumerate(labels)}\n",
        "id2label = {v: k for k, v in label2id.items()}\n",
        "\n",
        "print(f'label2id: {label2id}')\n",
        "print(f'id2label: {id2label}')"
      ],
      "execution_count": null,
      "outputs": [
        {
          "output_type": "stream",
          "text": [
            "label2id: {'negative': 0, 'positive': 1}\n",
            "id2label: {0: 'negative', 1: 'positive'}\n"
          ],
          "name": "stdout"
        }
      ]
    },
    {
      "cell_type": "code",
      "metadata": {
        "id": "j4iFFI0lR5Nr",
        "colab": {
          "base_uri": "https://localhost:8080/"
        },
        "outputId": "68ff9b4b-3e5f-4f85-8fdb-7ad0c8756390"
      },
      "source": [
        "tokenizer = BertTokenizer.from_pretrained(MODEL_NAME_OR_PATH)\n",
        "config = BertConfig.from_pretrained(\n",
        "    MODEL_NAME_OR_PATH, **{\n",
        "        'label2id': label2id,\n",
        "        'id2label': id2label,\n",
        "    })\n",
        "\n",
        "print(config.to_json_string())"
      ],
      "execution_count": null,
      "outputs": [
        {
          "output_type": "stream",
          "text": [
            "{\n",
            "  \"architectures\": [\n",
            "    \"BertForMaskedLM\"\n",
            "  ],\n",
            "  \"attention_probs_dropout_prob\": 0.1,\n",
            "  \"gradient_checkpointing\": false,\n",
            "  \"hidden_act\": \"gelu\",\n",
            "  \"hidden_dropout_prob\": 0.1,\n",
            "  \"hidden_size\": 768,\n",
            "  \"id2label\": {\n",
            "    \"0\": \"negative\",\n",
            "    \"1\": \"positive\"\n",
            "  },\n",
            "  \"initializer_range\": 0.02,\n",
            "  \"intermediate_size\": 3072,\n",
            "  \"label2id\": {\n",
            "    \"negative\": 0,\n",
            "    \"positive\": 1\n",
            "  },\n",
            "  \"layer_norm_eps\": 1e-12,\n",
            "  \"max_position_embeddings\": 512,\n",
            "  \"model_type\": \"bert\",\n",
            "  \"num_attention_heads\": 12,\n",
            "  \"num_hidden_layers\": 12,\n",
            "  \"pad_token_id\": 0,\n",
            "  \"type_vocab_size\": 2,\n",
            "  \"vocab_size\": 100000\n",
            "}\n",
            "\n"
          ],
          "name": "stdout"
        }
      ]
    },
    {
      "cell_type": "markdown",
      "metadata": {
        "id": "ppvfKLczSFAG"
      },
      "source": [
        "### Input Embeddings / Dataset"
      ]
    },
    {
      "cell_type": "code",
      "metadata": {
        "id": "5_YqB7S7R9AK"
      },
      "source": [
        "class InputExample:\n",
        "    \"\"\" A single example for simple sequence classification. \"\"\"\n",
        "\n",
        "    def __init__(self, guid, text_a, text_b=None, label=None):\n",
        "        \"\"\" Constructs a InputExample. \"\"\"\n",
        "        self.guid = guid\n",
        "        self.text_a = text_a\n",
        "        self.text_b = text_b\n",
        "        self.label = label\n",
        "\n",
        "\n",
        "def make_examples(tokenizer, x, y=None, maxlen=128, output_mode=\"classification\", is_tf_dataset=True):\n",
        "    examples = []\n",
        "    y = y if isinstance(y, list) or isinstance(y, np.ndarray) else [None] * len(x)\n",
        "\n",
        "    for i, (_x, _y) in tqdm(enumerate(zip(x, y)), position=0, total=len(x)):\n",
        "        guid = \"%s\" % i\n",
        "        label = int(_y)\n",
        "        \n",
        "        if isinstance(_x, str):\n",
        "            text_a = _x\n",
        "            text_b = None\n",
        "        else:\n",
        "            assert len(_x) == 2\n",
        "            text_a = _x[0]\n",
        "            text_b = _x[1]\n",
        "        \n",
        "        examples.append(InputExample(guid=guid, text_a=text_a, text_b=text_b, label=label))\n",
        "    \n",
        "    features = glue_convert_examples_to_features(\n",
        "        examples, \n",
        "        tokenizer, \n",
        "        maxlen, \n",
        "        output_mode=output_mode, \n",
        "        label_list=list(np.unique(y)))\n",
        "\n",
        "    all_input_ids = []\n",
        "    all_attention_masks = []\n",
        "    all_token_type_ids = []\n",
        "    all_labels = []\n",
        "\n",
        "    for f in tqdm(features, position=0, total=len(examples)):\n",
        "        if is_tf_dataset:\n",
        "            all_input_ids.append(tf.constant(f.input_ids))\n",
        "            all_attention_masks.append(tf.constant(f.attention_mask))\n",
        "            all_token_type_ids.append(tf.constant(f.token_type_ids))\n",
        "            all_labels.append(tf.constant(f.label))\n",
        "        else:\n",
        "            all_input_ids.append(f.input_ids)\n",
        "            all_attention_masks.append(f.attention_mask)\n",
        "            all_token_type_ids.append(f.token_type_ids)\n",
        "            all_labels.append(f.label)\n",
        "\n",
        "    if is_tf_dataset:\n",
        "        dataset = tf.data.Dataset.from_tensor_slices(({\n",
        "            'input_ids': all_input_ids,\n",
        "            'attention_mask': all_attention_masks,\n",
        "            'token_type_ids': all_token_type_ids\n",
        "        }, all_labels))\n",
        "\n",
        "        return dataset, features\n",
        "    \n",
        "    xdata = [np.array(all_input_ids), np.array(all_attention_masks), np.array(all_token_type_ids)]\n",
        "    ydata = all_labels\n",
        "\n",
        "    return [xdata, ydata], features"
      ],
      "execution_count": null,
      "outputs": []
    },
    {
      "cell_type": "code",
      "metadata": {
        "id": "I7x5C4XPSLFz",
        "colab": {
          "base_uri": "https://localhost:8080/",
          "height": 418,
          "referenced_widgets": [
            "ffc113ad2c2748fb9ff551042edda9f3",
            "170eb681add74c9aaa97dfb0ea5320d1",
            "3ebd4e536cc94ae0b41200f6e772d760",
            "71b417a754e74e06a52c20f547c1c320",
            "81e1089840794afb80492d8ac0919a12",
            "b254b70ff1af46c394b334526598ea26",
            "6df1432899084af4bb95e80b653adb71",
            "6a71c7667248428e9e2ec72f6ce85f66",
            "185ffea6015742f694ec432c7d77b6d1",
            "7456d501eeac442e99fd85d0924c7f08",
            "4d0a14f8c4f040df966de5f4afd1e508",
            "bab1721ccf5c4924ae2802e29831c011",
            "b7bf21c07a4444058de1ae4c206c6364",
            "b89ea28f51b34f2b9cd692a648850fd7",
            "06140baa730e4acba03599a0581b81d3",
            "96cd45ecb56f4470969fdba3dce421eb",
            "dc0e8a0f978b42bfbaa23df460c28468",
            "008df5a84f5f4a418a6fa9b1e7f4551a",
            "788aba45b43748ad9ce6d58efdbf009b",
            "ebd62965844b4f6296804787a208fc54",
            "7ad58f1f2de243c4b377e5c9ec51443b",
            "b5c29cc449934487b11bc92e9258d658",
            "de77dad69fb14bc1b193818d437e5fbb",
            "751504eae3594ac0a7517e1a7cf3df1c",
            "b411eb7c6a6f481cb1e9f6e485ff25ac",
            "e1cd4954a62e4db3b84c26d433dcb9bf",
            "7d0a94a2057d45efba1fe9e547bfdabf",
            "9c1e26128455459ba7d4a67d96c473ae",
            "e4f18a4483814fecbafb278ab767c84a",
            "47c41662720b4ab5817ae58b8d134f9d",
            "08ecca51908b41e389e9ed57e06b2e9f",
            "9f07e39fdfd34ceca002a823b58b30e8",
            "d882a29ddc904da19eb07f24d443f348",
            "455d18534013430c898e680b1c10a919",
            "1e26f9304502453bbdccdb5b48ecfbca",
            "7070b373459049e7a95c346bb6ec1dfb",
            "908b0de659e64f20a54901c69a524edf",
            "98988336d2384f34ba5b384409d591e9",
            "93641c759fa54e4993813b168f00b1a1",
            "7254bc212b5343baa215adba3d17ba99",
            "825ae9288c98416ab47a716b1ef76fbd",
            "eeeb4c08c1984d5fb07796de7673f222",
            "bae9d40301a24a4cbcc25ef808e7b670",
            "6be954c5231641ac9747a805fb34005f",
            "22a864d8841c499baae145c75274ccba",
            "f033733e12a6428eaec4213bab2e7b06",
            "a3a97e0696ce444ca1726b0310fbc317",
            "7eb4a7de19a440dfaa1f0166d738b69e",
            "61550fc09ee54db5b22b42d4a2fb37da",
            "c4677a643e2846d1a7178a4275a0fafe",
            "47bb8379eb9b4c018a20a8683ec373a9",
            "b8ecc7163abc4fa88611ab5ed7e68553",
            "18f6643406724abca649f2735f9accda",
            "68a509a9a84c4a6ab6a5ea91cc6830e6",
            "4b77c52316a84e2eb5a9e0bea541d605",
            "4f1bac6dbcdc4181bdf951069b5eb5f5",
            "2369b324354d4271aaaf9b1dce5a908c",
            "3eec0f6f3f494f04b4ff6c13c3e843c8",
            "d393e0c23bdb49f8b55fb20b7b4693e1",
            "edd25ac94a3e49078633f2f1f3203424",
            "edce8431cd9e499483b312bbfabe1b82",
            "3f6f14d6ae4c4a698352572f77047d9f",
            "4cd01633931a4c418c5cb11ff91d91e7",
            "52d78355599947798ad804e67b0ecbc9"
          ]
        },
        "outputId": "d75729fc-66c2-4be3-d0f6-1402af79867b"
      },
      "source": [
        "train_dataset_base, train_examples = make_examples(tokenizer, x_train, y_train, maxlen=128)\n",
        "valid_dataset_base, valid_examples = make_examples(tokenizer, x_valid, y_valid, maxlen=128)\n",
        "\n",
        "test_dataset_base, test_examples = make_examples(tokenizer, x_test, y_test, maxlen=128)\n",
        "[xtest, ytest], test_examples = make_examples(tokenizer, x_test, y_test, maxlen=128, is_tf_dataset=False)"
      ],
      "execution_count": null,
      "outputs": [
        {
          "output_type": "display_data",
          "data": {
            "application/vnd.jupyter.widget-view+json": {
              "model_id": "ffc113ad2c2748fb9ff551042edda9f3",
              "version_minor": 0,
              "version_major": 2
            },
            "text/plain": [
              "HBox(children=(FloatProgress(value=0.0, max=2526.0), HTML(value='')))"
            ]
          },
          "metadata": {
            "tags": []
          }
        },
        {
          "output_type": "stream",
          "text": [
            "\n"
          ],
          "name": "stdout"
        },
        {
          "output_type": "display_data",
          "data": {
            "application/vnd.jupyter.widget-view+json": {
              "model_id": "185ffea6015742f694ec432c7d77b6d1",
              "version_minor": 0,
              "version_major": 2
            },
            "text/plain": [
              "HBox(children=(FloatProgress(value=0.0, max=2526.0), HTML(value='')))"
            ]
          },
          "metadata": {
            "tags": []
          }
        },
        {
          "output_type": "stream",
          "text": [
            "\n"
          ],
          "name": "stdout"
        },
        {
          "output_type": "display_data",
          "data": {
            "application/vnd.jupyter.widget-view+json": {
              "model_id": "dc0e8a0f978b42bfbaa23df460c28468",
              "version_minor": 0,
              "version_major": 2
            },
            "text/plain": [
              "HBox(children=(FloatProgress(value=0.0, max=1083.0), HTML(value='')))"
            ]
          },
          "metadata": {
            "tags": []
          }
        },
        {
          "output_type": "stream",
          "text": [
            "\n"
          ],
          "name": "stdout"
        },
        {
          "output_type": "display_data",
          "data": {
            "application/vnd.jupyter.widget-view+json": {
              "model_id": "b411eb7c6a6f481cb1e9f6e485ff25ac",
              "version_minor": 0,
              "version_major": 2
            },
            "text/plain": [
              "HBox(children=(FloatProgress(value=0.0, max=1083.0), HTML(value='')))"
            ]
          },
          "metadata": {
            "tags": []
          }
        },
        {
          "output_type": "stream",
          "text": [
            "\n"
          ],
          "name": "stdout"
        },
        {
          "output_type": "display_data",
          "data": {
            "application/vnd.jupyter.widget-view+json": {
              "model_id": "d882a29ddc904da19eb07f24d443f348",
              "version_minor": 0,
              "version_major": 2
            },
            "text/plain": [
              "HBox(children=(FloatProgress(value=0.0, max=401.0), HTML(value='')))"
            ]
          },
          "metadata": {
            "tags": []
          }
        },
        {
          "output_type": "stream",
          "text": [
            "\n"
          ],
          "name": "stdout"
        },
        {
          "output_type": "display_data",
          "data": {
            "application/vnd.jupyter.widget-view+json": {
              "model_id": "825ae9288c98416ab47a716b1ef76fbd",
              "version_minor": 0,
              "version_major": 2
            },
            "text/plain": [
              "HBox(children=(FloatProgress(value=0.0, max=401.0), HTML(value='')))"
            ]
          },
          "metadata": {
            "tags": []
          }
        },
        {
          "output_type": "stream",
          "text": [
            "\n"
          ],
          "name": "stdout"
        },
        {
          "output_type": "display_data",
          "data": {
            "application/vnd.jupyter.widget-view+json": {
              "model_id": "61550fc09ee54db5b22b42d4a2fb37da",
              "version_minor": 0,
              "version_major": 2
            },
            "text/plain": [
              "HBox(children=(FloatProgress(value=0.0, max=401.0), HTML(value='')))"
            ]
          },
          "metadata": {
            "tags": []
          }
        },
        {
          "output_type": "stream",
          "text": [
            "\n"
          ],
          "name": "stdout"
        },
        {
          "output_type": "display_data",
          "data": {
            "application/vnd.jupyter.widget-view+json": {
              "model_id": "2369b324354d4271aaaf9b1dce5a908c",
              "version_minor": 0,
              "version_major": 2
            },
            "text/plain": [
              "HBox(children=(FloatProgress(value=0.0, max=401.0), HTML(value='')))"
            ]
          },
          "metadata": {
            "tags": []
          }
        },
        {
          "output_type": "stream",
          "text": [
            "\n"
          ],
          "name": "stdout"
        }
      ]
    },
    {
      "cell_type": "code",
      "metadata": {
        "id": "eOkiA4c6SeKP",
        "colab": {
          "base_uri": "https://localhost:8080/"
        },
        "outputId": "c6a066a9-06dc-4557-e81f-40ad46f9ef84"
      },
      "source": [
        "for value in train_dataset_base.take(1):\n",
        "    print(f'     input_ids: {value[0][\"input_ids\"]}')\n",
        "    print(f'attention_mask: {value[0][\"attention_mask\"]}')\n",
        "    print(f'token_type_ids: {value[0][\"token_type_ids\"]}')\n",
        "    print(f'        target: {value[1]}')"
      ],
      "execution_count": null,
      "outputs": [
        {
          "output_type": "stream",
          "text": [
            "     input_ids: [    2 62846  2011     1     1 49803  3903     1 68240 59021 59767  3328\n",
            "  2015  2800     1  3919  2038 29197  8540 36732  6405  1012     4     0\n",
            "     0     0     0     0     0     0     0     0     0     0     0     0\n",
            "     0     0     0     0     0     0     0     0     0     0     0     0\n",
            "     0     0     0     0     0     0     0     0     0     0     0     0\n",
            "     0     0     0     0     0     0     0     0     0     0     0     0\n",
            "     0     0     0     0     0     0     0     0     0     0     0     0\n",
            "     0     0     0     0     0     0     0     0     0     0     0     0\n",
            "     0     0     0     0     0     0     0     0     0     0     0     0\n",
            "     0     0     0     0     0     0     0     0     0     0     0     0\n",
            "     0     0     0     0     0     0     0     0]\n",
            "attention_mask: [1 1 1 1 1 1 1 1 1 1 1 1 1 1 1 1 1 1 1 1 1 1 1 0 0 0 0 0 0 0 0 0 0 0 0 0 0\n",
            " 0 0 0 0 0 0 0 0 0 0 0 0 0 0 0 0 0 0 0 0 0 0 0 0 0 0 0 0 0 0 0 0 0 0 0 0 0\n",
            " 0 0 0 0 0 0 0 0 0 0 0 0 0 0 0 0 0 0 0 0 0 0 0 0 0 0 0 0 0 0 0 0 0 0 0 0 0\n",
            " 0 0 0 0 0 0 0 0 0 0 0 0 0 0 0 0 0]\n",
            "token_type_ids: [0 0 0 0 0 0 0 0 0 0 0 0 0 0 0 0 0 0 0 0 0 0 0 0 0 0 0 0 0 0 0 0 0 0 0 0 0\n",
            " 0 0 0 0 0 0 0 0 0 0 0 0 0 0 0 0 0 0 0 0 0 0 0 0 0 0 0 0 0 0 0 0 0 0 0 0 0\n",
            " 0 0 0 0 0 0 0 0 0 0 0 0 0 0 0 0 0 0 0 0 0 0 0 0 0 0 0 0 0 0 0 0 0 0 0 0 0\n",
            " 0 0 0 0 0 0 0 0 0 0 0 0 0 0 0 0 0]\n",
            "        target: 1\n"
          ],
          "name": "stdout"
        }
      ]
    },
    {
      "cell_type": "code",
      "metadata": {
        "id": "sGPW0b6PSsMN"
      },
      "source": [
        "def get_training_dataset(dataset, batch_size):\n",
        "    dataset = dataset.repeat()\n",
        "    dataset = dataset.shuffle(2048)\n",
        "    dataset = dataset.batch(batch_size)\n",
        "\n",
        "    return dataset\n",
        "\n",
        "def get_validation_dataset(dataset, batch_size):\n",
        "    dataset = dataset.batch(batch_size)\n",
        "\n",
        "    return dataset"
      ],
      "execution_count": null,
      "outputs": []
    },
    {
      "cell_type": "code",
      "metadata": {
        "id": "3JC5rd6YVEHc",
        "colab": {
          "base_uri": "https://localhost:8080/"
        },
        "outputId": "332e0033-02c8-4cd1-d3ad-d31a94f057bb"
      },
      "source": [
        "train_dataset = get_training_dataset(train_dataset_base, TRAIN_BATCH_SIZE)\n",
        "valid_dataset = get_training_dataset(valid_dataset_base, VALID_BATCH_SIZE)\n",
        "\n",
        "train_steps = len(train_examples) // TRAIN_BATCH_SIZE\n",
        "valid_steps = len(valid_examples) // VALID_BATCH_SIZE\n",
        "\n",
        "train_steps, valid_steps"
      ],
      "execution_count": null,
      "outputs": [
        {
          "output_type": "execute_result",
          "data": {
            "text/plain": [
              "(157, 67)"
            ]
          },
          "metadata": {
            "tags": []
          },
          "execution_count": 66
        }
      ]
    },
    {
      "cell_type": "markdown",
      "metadata": {
        "id": "PAi2TF78VNux"
      },
      "source": [
        "### Model"
      ]
    },
    {
      "cell_type": "code",
      "metadata": {
        "id": "WwsARx2QVLjK"
      },
      "source": [
        "def build_model(model_name, config, learning_rate=3e-5):\n",
        "    model = TFBertForSequenceClassification.from_pretrained(model_name, config=config)\n",
        "\n",
        "    optimizer = tf.keras.optimizers.Adam(learning_rate=learning_rate)\n",
        "    loss = tf.keras.losses.SparseCategoricalCrossentropy(from_logits=True)\n",
        "    metric = tf.keras.metrics.SparseCategoricalAccuracy('accuracy')\n",
        "    model.compile(optimizer=optimizer, loss=loss, metrics=[metric])\n",
        "\n",
        "    return model"
      ],
      "execution_count": null,
      "outputs": []
    },
    {
      "cell_type": "code",
      "metadata": {
        "id": "8aFLw-MQVT_V",
        "colab": {
          "base_uri": "https://localhost:8080/",
          "height": 178,
          "referenced_widgets": [
            "6c358b81ae98466aa039d8528f3a9831",
            "b2481526f3f64e73b6f1a1ab86f6b323",
            "ec52cde320634db391988c65212326d8",
            "c414805ca09f44d4b8ca907d56512d53",
            "5558eba6a9a34502890db4f5b150f068",
            "b01b43b38c344b839e9f6e8ef35378a9",
            "86dcbb8ec2254f178f911ffb7f327b7e",
            "de624bca1aab496e8f35f29e37793e8f"
          ]
        },
        "outputId": "885d1a0f-3e34-4a38-91fc-7aa6863762c6"
      },
      "source": [
        "model = build_model(MODEL_NAME_OR_PATH, config, learning_rate=LEARNING_RATE)"
      ],
      "execution_count": null,
      "outputs": [
        {
          "output_type": "display_data",
          "data": {
            "application/vnd.jupyter.widget-view+json": {
              "model_id": "6c358b81ae98466aa039d8528f3a9831",
              "version_minor": 0,
              "version_major": 2
            },
            "text/plain": [
              "HBox(children=(FloatProgress(value=0.0, description='Downloading', max=963211760.0, style=ProgressStyle(descri…"
            ]
          },
          "metadata": {
            "tags": []
          }
        },
        {
          "output_type": "stream",
          "text": [
            "\n"
          ],
          "name": "stdout"
        },
        {
          "output_type": "stream",
          "text": [
            "Some weights of the model checkpoint at HooshvareLab/bert-fa-base-uncased were not used when initializing TFBertForSequenceClassification: ['nsp___cls', 'mlm___cls']\n",
            "- This IS expected if you are initializing TFBertForSequenceClassification from the checkpoint of a model trained on another task or with another architecture (e.g. initializing a BertForSequenceClassification model from a BertForPretraining model).\n",
            "- This IS NOT expected if you are initializing TFBertForSequenceClassification from the checkpoint of a model that you expect to be exactly identical (initializing a BertForSequenceClassification model from a BertForSequenceClassification model).\n",
            "Some weights of TFBertForSequenceClassification were not initialized from the model checkpoint at HooshvareLab/bert-fa-base-uncased and are newly initialized: ['dropout_37', 'classifier']\n",
            "You should probably TRAIN this model on a down-stream task to be able to use it for predictions and inference.\n"
          ],
          "name": "stderr"
        }
      ]
    },
    {
      "cell_type": "markdown",
      "metadata": {
        "id": "jJrah6BGVfA2"
      },
      "source": [
        "### Training"
      ]
    },
    {
      "cell_type": "code",
      "metadata": {
        "id": "i3qOIz1WVZLw",
        "colab": {
          "base_uri": "https://localhost:8080/"
        },
        "outputId": "223102e4-feab-4ac1-da58-89c2de4410c5"
      },
      "source": [
        "%%time\n",
        "\n",
        "r = model.fit(\n",
        "    train_dataset,\n",
        "    validation_data=valid_dataset,\n",
        "    steps_per_epoch=train_steps,\n",
        "    validation_steps=valid_steps,\n",
        "    epochs=EPOCHS,\n",
        "    verbose=1)\n",
        "\n",
        "final_accuracy = r.history['val_accuracy']\n",
        "print('FINAL ACCURACY MEAN: ', np.mean(final_accuracy))"
      ],
      "execution_count": null,
      "outputs": [
        {
          "output_type": "stream",
          "text": [
            "Epoch 1/3\n",
            "WARNING:tensorflow:From /usr/local/lib/python3.7/dist-packages/tensorflow/python/ops/array_ops.py:5049: calling gather (from tensorflow.python.ops.array_ops) with validate_indices is deprecated and will be removed in a future version.\n",
            "Instructions for updating:\n",
            "The `validate_indices` argument has no effect. Indices are always validated on CPU and never validated on GPU.\n",
            "157/157 [==============================] - 97s 508ms/step - loss: 0.4096 - accuracy: 0.8201 - val_loss: 0.3638 - val_accuracy: 0.8601\n",
            "Epoch 2/3\n",
            "157/157 [==============================] - 77s 489ms/step - loss: 0.1939 - accuracy: 0.9244 - val_loss: 0.5457 - val_accuracy: 0.8302\n",
            "Epoch 3/3\n",
            "157/157 [==============================] - 77s 489ms/step - loss: 0.1060 - accuracy: 0.9654 - val_loss: 0.5971 - val_accuracy: 0.8442\n",
            "FINAL ACCURACY MEAN:  0.8448383013407389\n",
            "CPU times: user 1min 29s, sys: 27.1 s, total: 1min 57s\n",
            "Wall time: 4min 10s\n"
          ],
          "name": "stdout"
        }
      ]
    },
    {
      "cell_type": "code",
      "metadata": {
        "id": "JwIpJ1PIiOf6"
      },
      "source": [
        "# save the model\n",
        "model.save_pretrained(os.path.dirname(OUTPUT_PATH))"
      ],
      "execution_count": null,
      "outputs": []
    },
    {
      "cell_type": "markdown",
      "metadata": {
        "id": "hdJdgOecf3Ez"
      },
      "source": [
        "### Evaluation / Prediction"
      ]
    },
    {
      "cell_type": "code",
      "metadata": {
        "id": "VsgURdVH9V5w",
        "colab": {
          "base_uri": "https://localhost:8080/"
        },
        "outputId": "882f9f51-e016-4146-a522-bc83b194f9fe"
      },
      "source": [
        "ev = model.evaluate(test_dataset_base.batch(TEST_BATCH_SIZE))\n",
        "print()\n",
        "print(f'Evaluation: {ev}')\n",
        "print()\n",
        "\n",
        "predictions = model.predict(xtest)\n",
        "ypred = predictions[0].argmax(axis=-1).tolist()\n",
        "\n",
        "print()\n",
        "print(classification_report(ytest, ypred, target_names=labels))\n",
        "print()\n",
        "\n",
        "print(f'F1: {f1_score(ytest, ypred, average=\"weighted\")}')"
      ],
      "execution_count": null,
      "outputs": [
        {
          "output_type": "stream",
          "text": [
            "26/26 [==============================] - 4s 139ms/step - loss: 0.4472 - accuracy: 0.8753\n",
            "\n",
            "Evaluation: [0.44724392890930176, 0.8753117322921753]\n",
            "\n",
            "\n",
            "              precision    recall  f1-score   support\n",
            "\n",
            "    negative       0.88      0.86      0.87       200\n",
            "    positive       0.87      0.89      0.88       201\n",
            "\n",
            "    accuracy                           0.88       401\n",
            "   macro avg       0.88      0.88      0.88       401\n",
            "weighted avg       0.88      0.88      0.88       401\n",
            "\n",
            "\n",
            "F1: 0.8752962098907581\n"
          ],
          "name": "stdout"
        }
      ]
    },
    {
      "cell_type": "markdown",
      "metadata": {
        "id": "8AkJL6fmRFsX"
      },
      "source": [
        "# Source\n",
        "[Loading a csv file from GitHub in Python](https://medium.com/towards-entrepreneurship/importing-a-csv-file-from-github-in-a-jupyter-notebook-e2c28e7e74a5)"
      ]
    }
  ]
}