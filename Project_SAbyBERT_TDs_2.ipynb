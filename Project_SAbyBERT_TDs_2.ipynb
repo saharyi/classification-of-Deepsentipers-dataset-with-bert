{
  "nbformat": 4,
  "nbformat_minor": 0,
  "metadata": {
    "accelerator": "GPU",
    "colab": {
      "name": "Project-SAbyBERT_TDs_2.ipynb",
      "provenance": [],
      "collapsed_sections": [
        "I_q-41gpyoCc"
      ],
      "toc_visible": true
    },
    "kernelspec": {
      "display_name": "Python 3",
      "name": "python3"
    },
    "language_info": {
      "name": "python"
    },
    "widgets": {
      "application/vnd.jupyter.widget-state+json": {
        "3cd5e9b017f54b15a5f77ade9c78069d": {
          "model_module": "@jupyter-widgets/controls",
          "model_name": "HBoxModel",
          "state": {
            "_view_name": "HBoxView",
            "_dom_classes": [],
            "_model_name": "HBoxModel",
            "_view_module": "@jupyter-widgets/controls",
            "_model_module_version": "1.5.0",
            "_view_count": null,
            "_view_module_version": "1.5.0",
            "box_style": "",
            "layout": "IPY_MODEL_7ddd3df530674d50a9998a3110250cb7",
            "_model_module": "@jupyter-widgets/controls",
            "children": [
              "IPY_MODEL_dfa5d5967a404167b5d483968fb81236",
              "IPY_MODEL_7a8c83a148884677b5e897c651905f0a"
            ]
          }
        },
        "7ddd3df530674d50a9998a3110250cb7": {
          "model_module": "@jupyter-widgets/base",
          "model_name": "LayoutModel",
          "state": {
            "_view_name": "LayoutView",
            "grid_template_rows": null,
            "right": null,
            "justify_content": null,
            "_view_module": "@jupyter-widgets/base",
            "overflow": null,
            "_model_module_version": "1.2.0",
            "_view_count": null,
            "flex_flow": null,
            "width": null,
            "min_width": null,
            "border": null,
            "align_items": null,
            "bottom": null,
            "_model_module": "@jupyter-widgets/base",
            "top": null,
            "grid_column": null,
            "overflow_y": null,
            "overflow_x": null,
            "grid_auto_flow": null,
            "grid_area": null,
            "grid_template_columns": null,
            "flex": null,
            "_model_name": "LayoutModel",
            "justify_items": null,
            "grid_row": null,
            "max_height": null,
            "align_content": null,
            "visibility": null,
            "align_self": null,
            "height": null,
            "min_height": null,
            "padding": null,
            "grid_auto_rows": null,
            "grid_gap": null,
            "max_width": null,
            "order": null,
            "_view_module_version": "1.2.0",
            "grid_template_areas": null,
            "object_position": null,
            "object_fit": null,
            "grid_auto_columns": null,
            "margin": null,
            "display": null,
            "left": null
          }
        },
        "dfa5d5967a404167b5d483968fb81236": {
          "model_module": "@jupyter-widgets/controls",
          "model_name": "FloatProgressModel",
          "state": {
            "_view_name": "ProgressView",
            "style": "IPY_MODEL_efeee308216f40ba8c385d7d22778652",
            "_dom_classes": [],
            "description": "Downloading: 100%",
            "_model_name": "FloatProgressModel",
            "bar_style": "success",
            "max": 1198122,
            "_view_module": "@jupyter-widgets/controls",
            "_model_module_version": "1.5.0",
            "value": 1198122,
            "_view_count": null,
            "_view_module_version": "1.5.0",
            "orientation": "horizontal",
            "min": 0,
            "description_tooltip": null,
            "_model_module": "@jupyter-widgets/controls",
            "layout": "IPY_MODEL_0bd54c203b6942ce83acd652826d4e38"
          }
        },
        "7a8c83a148884677b5e897c651905f0a": {
          "model_module": "@jupyter-widgets/controls",
          "model_name": "HTMLModel",
          "state": {
            "_view_name": "HTMLView",
            "style": "IPY_MODEL_71d23d72d6654ed7b0f5a4390f210199",
            "_dom_classes": [],
            "description": "",
            "_model_name": "HTMLModel",
            "placeholder": "​",
            "_view_module": "@jupyter-widgets/controls",
            "_model_module_version": "1.5.0",
            "value": " 1.20M/1.20M [00:01&lt;00:00, 774kB/s]",
            "_view_count": null,
            "_view_module_version": "1.5.0",
            "description_tooltip": null,
            "_model_module": "@jupyter-widgets/controls",
            "layout": "IPY_MODEL_e963fb363b2a4875b2d29d8235c577e4"
          }
        },
        "efeee308216f40ba8c385d7d22778652": {
          "model_module": "@jupyter-widgets/controls",
          "model_name": "ProgressStyleModel",
          "state": {
            "_view_name": "StyleView",
            "_model_name": "ProgressStyleModel",
            "description_width": "initial",
            "_view_module": "@jupyter-widgets/base",
            "_model_module_version": "1.5.0",
            "_view_count": null,
            "_view_module_version": "1.2.0",
            "bar_color": null,
            "_model_module": "@jupyter-widgets/controls"
          }
        },
        "0bd54c203b6942ce83acd652826d4e38": {
          "model_module": "@jupyter-widgets/base",
          "model_name": "LayoutModel",
          "state": {
            "_view_name": "LayoutView",
            "grid_template_rows": null,
            "right": null,
            "justify_content": null,
            "_view_module": "@jupyter-widgets/base",
            "overflow": null,
            "_model_module_version": "1.2.0",
            "_view_count": null,
            "flex_flow": null,
            "width": null,
            "min_width": null,
            "border": null,
            "align_items": null,
            "bottom": null,
            "_model_module": "@jupyter-widgets/base",
            "top": null,
            "grid_column": null,
            "overflow_y": null,
            "overflow_x": null,
            "grid_auto_flow": null,
            "grid_area": null,
            "grid_template_columns": null,
            "flex": null,
            "_model_name": "LayoutModel",
            "justify_items": null,
            "grid_row": null,
            "max_height": null,
            "align_content": null,
            "visibility": null,
            "align_self": null,
            "height": null,
            "min_height": null,
            "padding": null,
            "grid_auto_rows": null,
            "grid_gap": null,
            "max_width": null,
            "order": null,
            "_view_module_version": "1.2.0",
            "grid_template_areas": null,
            "object_position": null,
            "object_fit": null,
            "grid_auto_columns": null,
            "margin": null,
            "display": null,
            "left": null
          }
        },
        "71d23d72d6654ed7b0f5a4390f210199": {
          "model_module": "@jupyter-widgets/controls",
          "model_name": "DescriptionStyleModel",
          "state": {
            "_view_name": "StyleView",
            "_model_name": "DescriptionStyleModel",
            "description_width": "",
            "_view_module": "@jupyter-widgets/base",
            "_model_module_version": "1.5.0",
            "_view_count": null,
            "_view_module_version": "1.2.0",
            "_model_module": "@jupyter-widgets/controls"
          }
        },
        "e963fb363b2a4875b2d29d8235c577e4": {
          "model_module": "@jupyter-widgets/base",
          "model_name": "LayoutModel",
          "state": {
            "_view_name": "LayoutView",
            "grid_template_rows": null,
            "right": null,
            "justify_content": null,
            "_view_module": "@jupyter-widgets/base",
            "overflow": null,
            "_model_module_version": "1.2.0",
            "_view_count": null,
            "flex_flow": null,
            "width": null,
            "min_width": null,
            "border": null,
            "align_items": null,
            "bottom": null,
            "_model_module": "@jupyter-widgets/base",
            "top": null,
            "grid_column": null,
            "overflow_y": null,
            "overflow_x": null,
            "grid_auto_flow": null,
            "grid_area": null,
            "grid_template_columns": null,
            "flex": null,
            "_model_name": "LayoutModel",
            "justify_items": null,
            "grid_row": null,
            "max_height": null,
            "align_content": null,
            "visibility": null,
            "align_self": null,
            "height": null,
            "min_height": null,
            "padding": null,
            "grid_auto_rows": null,
            "grid_gap": null,
            "max_width": null,
            "order": null,
            "_view_module_version": "1.2.0",
            "grid_template_areas": null,
            "object_position": null,
            "object_fit": null,
            "grid_auto_columns": null,
            "margin": null,
            "display": null,
            "left": null
          }
        },
        "79422d8821c94639b75af2d2f0560a5d": {
          "model_module": "@jupyter-widgets/controls",
          "model_name": "HBoxModel",
          "state": {
            "_view_name": "HBoxView",
            "_dom_classes": [],
            "_model_name": "HBoxModel",
            "_view_module": "@jupyter-widgets/controls",
            "_model_module_version": "1.5.0",
            "_view_count": null,
            "_view_module_version": "1.5.0",
            "box_style": "",
            "layout": "IPY_MODEL_cceb1d4a167f4385a9ea0c1d7a620d6e",
            "_model_module": "@jupyter-widgets/controls",
            "children": [
              "IPY_MODEL_a593bd74abc942ea8115a001b754063f",
              "IPY_MODEL_8faee22ff62a44339c8ba502abf4d7e5"
            ]
          }
        },
        "cceb1d4a167f4385a9ea0c1d7a620d6e": {
          "model_module": "@jupyter-widgets/base",
          "model_name": "LayoutModel",
          "state": {
            "_view_name": "LayoutView",
            "grid_template_rows": null,
            "right": null,
            "justify_content": null,
            "_view_module": "@jupyter-widgets/base",
            "overflow": null,
            "_model_module_version": "1.2.0",
            "_view_count": null,
            "flex_flow": null,
            "width": null,
            "min_width": null,
            "border": null,
            "align_items": null,
            "bottom": null,
            "_model_module": "@jupyter-widgets/base",
            "top": null,
            "grid_column": null,
            "overflow_y": null,
            "overflow_x": null,
            "grid_auto_flow": null,
            "grid_area": null,
            "grid_template_columns": null,
            "flex": null,
            "_model_name": "LayoutModel",
            "justify_items": null,
            "grid_row": null,
            "max_height": null,
            "align_content": null,
            "visibility": null,
            "align_self": null,
            "height": null,
            "min_height": null,
            "padding": null,
            "grid_auto_rows": null,
            "grid_gap": null,
            "max_width": null,
            "order": null,
            "_view_module_version": "1.2.0",
            "grid_template_areas": null,
            "object_position": null,
            "object_fit": null,
            "grid_auto_columns": null,
            "margin": null,
            "display": null,
            "left": null
          }
        },
        "a593bd74abc942ea8115a001b754063f": {
          "model_module": "@jupyter-widgets/controls",
          "model_name": "FloatProgressModel",
          "state": {
            "_view_name": "ProgressView",
            "style": "IPY_MODEL_2cc351982d804da0b6b28672981556f8",
            "_dom_classes": [],
            "description": "Downloading: 100%",
            "_model_name": "FloatProgressModel",
            "bar_style": "success",
            "max": 440,
            "_view_module": "@jupyter-widgets/controls",
            "_model_module_version": "1.5.0",
            "value": 440,
            "_view_count": null,
            "_view_module_version": "1.5.0",
            "orientation": "horizontal",
            "min": 0,
            "description_tooltip": null,
            "_model_module": "@jupyter-widgets/controls",
            "layout": "IPY_MODEL_030fd36cf82e45498acf6d28fc770cde"
          }
        },
        "8faee22ff62a44339c8ba502abf4d7e5": {
          "model_module": "@jupyter-widgets/controls",
          "model_name": "HTMLModel",
          "state": {
            "_view_name": "HTMLView",
            "style": "IPY_MODEL_c6c22eccdc99400587cc0252db269982",
            "_dom_classes": [],
            "description": "",
            "_model_name": "HTMLModel",
            "placeholder": "​",
            "_view_module": "@jupyter-widgets/controls",
            "_model_module_version": "1.5.0",
            "value": " 440/440 [00:00&lt;00:00, 5.18kB/s]",
            "_view_count": null,
            "_view_module_version": "1.5.0",
            "description_tooltip": null,
            "_model_module": "@jupyter-widgets/controls",
            "layout": "IPY_MODEL_14b5cc0a527a497695875b3f20ca78d5"
          }
        },
        "2cc351982d804da0b6b28672981556f8": {
          "model_module": "@jupyter-widgets/controls",
          "model_name": "ProgressStyleModel",
          "state": {
            "_view_name": "StyleView",
            "_model_name": "ProgressStyleModel",
            "description_width": "initial",
            "_view_module": "@jupyter-widgets/base",
            "_model_module_version": "1.5.0",
            "_view_count": null,
            "_view_module_version": "1.2.0",
            "bar_color": null,
            "_model_module": "@jupyter-widgets/controls"
          }
        },
        "030fd36cf82e45498acf6d28fc770cde": {
          "model_module": "@jupyter-widgets/base",
          "model_name": "LayoutModel",
          "state": {
            "_view_name": "LayoutView",
            "grid_template_rows": null,
            "right": null,
            "justify_content": null,
            "_view_module": "@jupyter-widgets/base",
            "overflow": null,
            "_model_module_version": "1.2.0",
            "_view_count": null,
            "flex_flow": null,
            "width": null,
            "min_width": null,
            "border": null,
            "align_items": null,
            "bottom": null,
            "_model_module": "@jupyter-widgets/base",
            "top": null,
            "grid_column": null,
            "overflow_y": null,
            "overflow_x": null,
            "grid_auto_flow": null,
            "grid_area": null,
            "grid_template_columns": null,
            "flex": null,
            "_model_name": "LayoutModel",
            "justify_items": null,
            "grid_row": null,
            "max_height": null,
            "align_content": null,
            "visibility": null,
            "align_self": null,
            "height": null,
            "min_height": null,
            "padding": null,
            "grid_auto_rows": null,
            "grid_gap": null,
            "max_width": null,
            "order": null,
            "_view_module_version": "1.2.0",
            "grid_template_areas": null,
            "object_position": null,
            "object_fit": null,
            "grid_auto_columns": null,
            "margin": null,
            "display": null,
            "left": null
          }
        },
        "c6c22eccdc99400587cc0252db269982": {
          "model_module": "@jupyter-widgets/controls",
          "model_name": "DescriptionStyleModel",
          "state": {
            "_view_name": "StyleView",
            "_model_name": "DescriptionStyleModel",
            "description_width": "",
            "_view_module": "@jupyter-widgets/base",
            "_model_module_version": "1.5.0",
            "_view_count": null,
            "_view_module_version": "1.2.0",
            "_model_module": "@jupyter-widgets/controls"
          }
        },
        "14b5cc0a527a497695875b3f20ca78d5": {
          "model_module": "@jupyter-widgets/base",
          "model_name": "LayoutModel",
          "state": {
            "_view_name": "LayoutView",
            "grid_template_rows": null,
            "right": null,
            "justify_content": null,
            "_view_module": "@jupyter-widgets/base",
            "overflow": null,
            "_model_module_version": "1.2.0",
            "_view_count": null,
            "flex_flow": null,
            "width": null,
            "min_width": null,
            "border": null,
            "align_items": null,
            "bottom": null,
            "_model_module": "@jupyter-widgets/base",
            "top": null,
            "grid_column": null,
            "overflow_y": null,
            "overflow_x": null,
            "grid_auto_flow": null,
            "grid_area": null,
            "grid_template_columns": null,
            "flex": null,
            "_model_name": "LayoutModel",
            "justify_items": null,
            "grid_row": null,
            "max_height": null,
            "align_content": null,
            "visibility": null,
            "align_self": null,
            "height": null,
            "min_height": null,
            "padding": null,
            "grid_auto_rows": null,
            "grid_gap": null,
            "max_width": null,
            "order": null,
            "_view_module_version": "1.2.0",
            "grid_template_areas": null,
            "object_position": null,
            "object_fit": null,
            "grid_auto_columns": null,
            "margin": null,
            "display": null,
            "left": null
          }
        },
        "5b5e9c203f4243dca162c5e068575e9a": {
          "model_module": "@jupyter-widgets/controls",
          "model_name": "HBoxModel",
          "state": {
            "_view_name": "HBoxView",
            "_dom_classes": [],
            "_model_name": "HBoxModel",
            "_view_module": "@jupyter-widgets/controls",
            "_model_module_version": "1.5.0",
            "_view_count": null,
            "_view_module_version": "1.5.0",
            "box_style": "",
            "layout": "IPY_MODEL_0095b36f1c6c4a8fa7af52cbbd4b3b29",
            "_model_module": "@jupyter-widgets/controls",
            "children": [
              "IPY_MODEL_0f65352c71ae4ac89741319a5bbe5dde",
              "IPY_MODEL_2eef8682b97f496c94dbd33dde126a58"
            ]
          }
        },
        "0095b36f1c6c4a8fa7af52cbbd4b3b29": {
          "model_module": "@jupyter-widgets/base",
          "model_name": "LayoutModel",
          "state": {
            "_view_name": "LayoutView",
            "grid_template_rows": null,
            "right": null,
            "justify_content": null,
            "_view_module": "@jupyter-widgets/base",
            "overflow": null,
            "_model_module_version": "1.2.0",
            "_view_count": null,
            "flex_flow": null,
            "width": null,
            "min_width": null,
            "border": null,
            "align_items": null,
            "bottom": null,
            "_model_module": "@jupyter-widgets/base",
            "top": null,
            "grid_column": null,
            "overflow_y": null,
            "overflow_x": null,
            "grid_auto_flow": null,
            "grid_area": null,
            "grid_template_columns": null,
            "flex": null,
            "_model_name": "LayoutModel",
            "justify_items": null,
            "grid_row": null,
            "max_height": null,
            "align_content": null,
            "visibility": null,
            "align_self": null,
            "height": null,
            "min_height": null,
            "padding": null,
            "grid_auto_rows": null,
            "grid_gap": null,
            "max_width": null,
            "order": null,
            "_view_module_version": "1.2.0",
            "grid_template_areas": null,
            "object_position": null,
            "object_fit": null,
            "grid_auto_columns": null,
            "margin": null,
            "display": null,
            "left": null
          }
        },
        "0f65352c71ae4ac89741319a5bbe5dde": {
          "model_module": "@jupyter-widgets/controls",
          "model_name": "FloatProgressModel",
          "state": {
            "_view_name": "ProgressView",
            "style": "IPY_MODEL_677dd3f1af144042b3f8df497d4c3750",
            "_dom_classes": [],
            "description": "Downloading: 100%",
            "_model_name": "FloatProgressModel",
            "bar_style": "success",
            "max": 654226731,
            "_view_module": "@jupyter-widgets/controls",
            "_model_module_version": "1.5.0",
            "value": 654226731,
            "_view_count": null,
            "_view_module_version": "1.5.0",
            "orientation": "horizontal",
            "min": 0,
            "description_tooltip": null,
            "_model_module": "@jupyter-widgets/controls",
            "layout": "IPY_MODEL_6f128c3ec5164ebaabab9daf00e57baa"
          }
        },
        "2eef8682b97f496c94dbd33dde126a58": {
          "model_module": "@jupyter-widgets/controls",
          "model_name": "HTMLModel",
          "state": {
            "_view_name": "HTMLView",
            "style": "IPY_MODEL_f0a0713661604a879bc2f8fe486632e2",
            "_dom_classes": [],
            "description": "",
            "_model_name": "HTMLModel",
            "placeholder": "​",
            "_view_module": "@jupyter-widgets/controls",
            "_model_module_version": "1.5.0",
            "value": " 654M/654M [00:29&lt;00:00, 21.9MB/s]",
            "_view_count": null,
            "_view_module_version": "1.5.0",
            "description_tooltip": null,
            "_model_module": "@jupyter-widgets/controls",
            "layout": "IPY_MODEL_554a3b80ea4a47ef9a17a066977a649c"
          }
        },
        "677dd3f1af144042b3f8df497d4c3750": {
          "model_module": "@jupyter-widgets/controls",
          "model_name": "ProgressStyleModel",
          "state": {
            "_view_name": "StyleView",
            "_model_name": "ProgressStyleModel",
            "description_width": "initial",
            "_view_module": "@jupyter-widgets/base",
            "_model_module_version": "1.5.0",
            "_view_count": null,
            "_view_module_version": "1.2.0",
            "bar_color": null,
            "_model_module": "@jupyter-widgets/controls"
          }
        },
        "6f128c3ec5164ebaabab9daf00e57baa": {
          "model_module": "@jupyter-widgets/base",
          "model_name": "LayoutModel",
          "state": {
            "_view_name": "LayoutView",
            "grid_template_rows": null,
            "right": null,
            "justify_content": null,
            "_view_module": "@jupyter-widgets/base",
            "overflow": null,
            "_model_module_version": "1.2.0",
            "_view_count": null,
            "flex_flow": null,
            "width": null,
            "min_width": null,
            "border": null,
            "align_items": null,
            "bottom": null,
            "_model_module": "@jupyter-widgets/base",
            "top": null,
            "grid_column": null,
            "overflow_y": null,
            "overflow_x": null,
            "grid_auto_flow": null,
            "grid_area": null,
            "grid_template_columns": null,
            "flex": null,
            "_model_name": "LayoutModel",
            "justify_items": null,
            "grid_row": null,
            "max_height": null,
            "align_content": null,
            "visibility": null,
            "align_self": null,
            "height": null,
            "min_height": null,
            "padding": null,
            "grid_auto_rows": null,
            "grid_gap": null,
            "max_width": null,
            "order": null,
            "_view_module_version": "1.2.0",
            "grid_template_areas": null,
            "object_position": null,
            "object_fit": null,
            "grid_auto_columns": null,
            "margin": null,
            "display": null,
            "left": null
          }
        },
        "f0a0713661604a879bc2f8fe486632e2": {
          "model_module": "@jupyter-widgets/controls",
          "model_name": "DescriptionStyleModel",
          "state": {
            "_view_name": "StyleView",
            "_model_name": "DescriptionStyleModel",
            "description_width": "",
            "_view_module": "@jupyter-widgets/base",
            "_model_module_version": "1.5.0",
            "_view_count": null,
            "_view_module_version": "1.2.0",
            "_model_module": "@jupyter-widgets/controls"
          }
        },
        "554a3b80ea4a47ef9a17a066977a649c": {
          "model_module": "@jupyter-widgets/base",
          "model_name": "LayoutModel",
          "state": {
            "_view_name": "LayoutView",
            "grid_template_rows": null,
            "right": null,
            "justify_content": null,
            "_view_module": "@jupyter-widgets/base",
            "overflow": null,
            "_model_module_version": "1.2.0",
            "_view_count": null,
            "flex_flow": null,
            "width": null,
            "min_width": null,
            "border": null,
            "align_items": null,
            "bottom": null,
            "_model_module": "@jupyter-widgets/base",
            "top": null,
            "grid_column": null,
            "overflow_y": null,
            "overflow_x": null,
            "grid_auto_flow": null,
            "grid_area": null,
            "grid_template_columns": null,
            "flex": null,
            "_model_name": "LayoutModel",
            "justify_items": null,
            "grid_row": null,
            "max_height": null,
            "align_content": null,
            "visibility": null,
            "align_self": null,
            "height": null,
            "min_height": null,
            "padding": null,
            "grid_auto_rows": null,
            "grid_gap": null,
            "max_width": null,
            "order": null,
            "_view_module_version": "1.2.0",
            "grid_template_areas": null,
            "object_position": null,
            "object_fit": null,
            "grid_auto_columns": null,
            "margin": null,
            "display": null,
            "left": null
          }
        },
        "8468acd241d94434a112e48b06327c93": {
          "model_module": "@jupyter-widgets/controls",
          "model_name": "HBoxModel",
          "state": {
            "_view_name": "HBoxView",
            "_dom_classes": [],
            "_model_name": "HBoxModel",
            "_view_module": "@jupyter-widgets/controls",
            "_model_module_version": "1.5.0",
            "_view_count": null,
            "_view_module_version": "1.5.0",
            "box_style": "",
            "layout": "IPY_MODEL_6dca071174c94d719f72f9b91ddb9d13",
            "_model_module": "@jupyter-widgets/controls",
            "children": [
              "IPY_MODEL_530676d2e828456bba32dbe3cb0e30fa",
              "IPY_MODEL_0ee263deb4114db4aafdb5b741d9e881"
            ]
          }
        },
        "6dca071174c94d719f72f9b91ddb9d13": {
          "model_module": "@jupyter-widgets/base",
          "model_name": "LayoutModel",
          "state": {
            "_view_name": "LayoutView",
            "grid_template_rows": null,
            "right": null,
            "justify_content": null,
            "_view_module": "@jupyter-widgets/base",
            "overflow": null,
            "_model_module_version": "1.2.0",
            "_view_count": null,
            "flex_flow": null,
            "width": null,
            "min_width": null,
            "border": null,
            "align_items": null,
            "bottom": null,
            "_model_module": "@jupyter-widgets/base",
            "top": null,
            "grid_column": null,
            "overflow_y": null,
            "overflow_x": null,
            "grid_auto_flow": null,
            "grid_area": null,
            "grid_template_columns": null,
            "flex": null,
            "_model_name": "LayoutModel",
            "justify_items": null,
            "grid_row": null,
            "max_height": null,
            "align_content": null,
            "visibility": null,
            "align_self": null,
            "height": null,
            "min_height": null,
            "padding": null,
            "grid_auto_rows": null,
            "grid_gap": null,
            "max_width": null,
            "order": null,
            "_view_module_version": "1.2.0",
            "grid_template_areas": null,
            "object_position": null,
            "object_fit": null,
            "grid_auto_columns": null,
            "margin": null,
            "display": null,
            "left": null
          }
        },
        "530676d2e828456bba32dbe3cb0e30fa": {
          "model_module": "@jupyter-widgets/controls",
          "model_name": "FloatProgressModel",
          "state": {
            "_view_name": "ProgressView",
            "style": "IPY_MODEL_f25409c9ddc942bc8f27f1ea52ea0abb",
            "_dom_classes": [],
            "description": "Epochs... : 100%",
            "_model_name": "FloatProgressModel",
            "bar_style": "success",
            "max": 3,
            "_view_module": "@jupyter-widgets/controls",
            "_model_module_version": "1.5.0",
            "value": 3,
            "_view_count": null,
            "_view_module_version": "1.5.0",
            "orientation": "horizontal",
            "min": 0,
            "description_tooltip": null,
            "_model_module": "@jupyter-widgets/controls",
            "layout": "IPY_MODEL_b50bfdffb81c45d9906fb33c50729358"
          }
        },
        "0ee263deb4114db4aafdb5b741d9e881": {
          "model_module": "@jupyter-widgets/controls",
          "model_name": "HTMLModel",
          "state": {
            "_view_name": "HTMLView",
            "style": "IPY_MODEL_c7eb76b1492342d6b604b7802368cffb",
            "_dom_classes": [],
            "description": "",
            "_model_name": "HTMLModel",
            "placeholder": "​",
            "_view_module": "@jupyter-widgets/controls",
            "_model_module_version": "1.5.0",
            "value": " 3/3 [10:02&lt;00:00, 200.93s/it]",
            "_view_count": null,
            "_view_module_version": "1.5.0",
            "description_tooltip": null,
            "_model_module": "@jupyter-widgets/controls",
            "layout": "IPY_MODEL_18319817baf841a391a6518f1074d9ea"
          }
        },
        "f25409c9ddc942bc8f27f1ea52ea0abb": {
          "model_module": "@jupyter-widgets/controls",
          "model_name": "ProgressStyleModel",
          "state": {
            "_view_name": "StyleView",
            "_model_name": "ProgressStyleModel",
            "description_width": "initial",
            "_view_module": "@jupyter-widgets/base",
            "_model_module_version": "1.5.0",
            "_view_count": null,
            "_view_module_version": "1.2.0",
            "bar_color": null,
            "_model_module": "@jupyter-widgets/controls"
          }
        },
        "b50bfdffb81c45d9906fb33c50729358": {
          "model_module": "@jupyter-widgets/base",
          "model_name": "LayoutModel",
          "state": {
            "_view_name": "LayoutView",
            "grid_template_rows": null,
            "right": null,
            "justify_content": null,
            "_view_module": "@jupyter-widgets/base",
            "overflow": null,
            "_model_module_version": "1.2.0",
            "_view_count": null,
            "flex_flow": null,
            "width": null,
            "min_width": null,
            "border": null,
            "align_items": null,
            "bottom": null,
            "_model_module": "@jupyter-widgets/base",
            "top": null,
            "grid_column": null,
            "overflow_y": null,
            "overflow_x": null,
            "grid_auto_flow": null,
            "grid_area": null,
            "grid_template_columns": null,
            "flex": null,
            "_model_name": "LayoutModel",
            "justify_items": null,
            "grid_row": null,
            "max_height": null,
            "align_content": null,
            "visibility": null,
            "align_self": null,
            "height": null,
            "min_height": null,
            "padding": null,
            "grid_auto_rows": null,
            "grid_gap": null,
            "max_width": null,
            "order": null,
            "_view_module_version": "1.2.0",
            "grid_template_areas": null,
            "object_position": null,
            "object_fit": null,
            "grid_auto_columns": null,
            "margin": null,
            "display": null,
            "left": null
          }
        },
        "c7eb76b1492342d6b604b7802368cffb": {
          "model_module": "@jupyter-widgets/controls",
          "model_name": "DescriptionStyleModel",
          "state": {
            "_view_name": "StyleView",
            "_model_name": "DescriptionStyleModel",
            "description_width": "",
            "_view_module": "@jupyter-widgets/base",
            "_model_module_version": "1.5.0",
            "_view_count": null,
            "_view_module_version": "1.2.0",
            "_model_module": "@jupyter-widgets/controls"
          }
        },
        "18319817baf841a391a6518f1074d9ea": {
          "model_module": "@jupyter-widgets/base",
          "model_name": "LayoutModel",
          "state": {
            "_view_name": "LayoutView",
            "grid_template_rows": null,
            "right": null,
            "justify_content": null,
            "_view_module": "@jupyter-widgets/base",
            "overflow": null,
            "_model_module_version": "1.2.0",
            "_view_count": null,
            "flex_flow": null,
            "width": null,
            "min_width": null,
            "border": null,
            "align_items": null,
            "bottom": null,
            "_model_module": "@jupyter-widgets/base",
            "top": null,
            "grid_column": null,
            "overflow_y": null,
            "overflow_x": null,
            "grid_auto_flow": null,
            "grid_area": null,
            "grid_template_columns": null,
            "flex": null,
            "_model_name": "LayoutModel",
            "justify_items": null,
            "grid_row": null,
            "max_height": null,
            "align_content": null,
            "visibility": null,
            "align_self": null,
            "height": null,
            "min_height": null,
            "padding": null,
            "grid_auto_rows": null,
            "grid_gap": null,
            "max_width": null,
            "order": null,
            "_view_module_version": "1.2.0",
            "grid_template_areas": null,
            "object_position": null,
            "object_fit": null,
            "grid_auto_columns": null,
            "margin": null,
            "display": null,
            "left": null
          }
        },
        "bcf27a47479241d8980252b007ea3801": {
          "model_module": "@jupyter-widgets/controls",
          "model_name": "HBoxModel",
          "state": {
            "_view_name": "HBoxView",
            "_dom_classes": [],
            "_model_name": "HBoxModel",
            "_view_module": "@jupyter-widgets/controls",
            "_model_module_version": "1.5.0",
            "_view_count": null,
            "_view_module_version": "1.5.0",
            "box_style": "",
            "layout": "IPY_MODEL_f00dfe1d33fe493e88f2f1dd269b0d2f",
            "_model_module": "@jupyter-widgets/controls",
            "children": [
              "IPY_MODEL_df533198fc494a698d8bed2c40c19dcc",
              "IPY_MODEL_605a0f7d2abe44e4af082fb24cc100fc"
            ]
          }
        },
        "f00dfe1d33fe493e88f2f1dd269b0d2f": {
          "model_module": "@jupyter-widgets/base",
          "model_name": "LayoutModel",
          "state": {
            "_view_name": "LayoutView",
            "grid_template_rows": null,
            "right": null,
            "justify_content": null,
            "_view_module": "@jupyter-widgets/base",
            "overflow": null,
            "_model_module_version": "1.2.0",
            "_view_count": null,
            "flex_flow": null,
            "width": null,
            "min_width": null,
            "border": null,
            "align_items": null,
            "bottom": null,
            "_model_module": "@jupyter-widgets/base",
            "top": null,
            "grid_column": null,
            "overflow_y": null,
            "overflow_x": null,
            "grid_auto_flow": null,
            "grid_area": null,
            "grid_template_columns": null,
            "flex": null,
            "_model_name": "LayoutModel",
            "justify_items": null,
            "grid_row": null,
            "max_height": null,
            "align_content": null,
            "visibility": null,
            "align_self": null,
            "height": null,
            "min_height": null,
            "padding": null,
            "grid_auto_rows": null,
            "grid_gap": null,
            "max_width": null,
            "order": null,
            "_view_module_version": "1.2.0",
            "grid_template_areas": null,
            "object_position": null,
            "object_fit": null,
            "grid_auto_columns": null,
            "margin": null,
            "display": null,
            "left": null
          }
        },
        "df533198fc494a698d8bed2c40c19dcc": {
          "model_module": "@jupyter-widgets/controls",
          "model_name": "FloatProgressModel",
          "state": {
            "_view_name": "ProgressView",
            "style": "IPY_MODEL_6e0d9e64a70b492386ea5181f5cca6e2",
            "_dom_classes": [],
            "description": "Training... : 100%",
            "_model_name": "FloatProgressModel",
            "bar_style": "success",
            "max": 463,
            "_view_module": "@jupyter-widgets/controls",
            "_model_module_version": "1.5.0",
            "value": 463,
            "_view_count": null,
            "_view_module_version": "1.5.0",
            "orientation": "horizontal",
            "min": 0,
            "description_tooltip": null,
            "_model_module": "@jupyter-widgets/controls",
            "layout": "IPY_MODEL_4627e835aa384660b82e4a1c79467b6f"
          }
        },
        "605a0f7d2abe44e4af082fb24cc100fc": {
          "model_module": "@jupyter-widgets/controls",
          "model_name": "HTMLModel",
          "state": {
            "_view_name": "HTMLView",
            "style": "IPY_MODEL_b642fa43c2af41689a032b89e99e3a6c",
            "_dom_classes": [],
            "description": "",
            "_model_name": "HTMLModel",
            "placeholder": "​",
            "_view_module": "@jupyter-widgets/controls",
            "_model_module_version": "1.5.0",
            "value": " 463/463 [10:02&lt;00:00,  1.30s/it]",
            "_view_count": null,
            "_view_module_version": "1.5.0",
            "description_tooltip": null,
            "_model_module": "@jupyter-widgets/controls",
            "layout": "IPY_MODEL_5021060bd54e4472a9722752ab87aa1a"
          }
        },
        "6e0d9e64a70b492386ea5181f5cca6e2": {
          "model_module": "@jupyter-widgets/controls",
          "model_name": "ProgressStyleModel",
          "state": {
            "_view_name": "StyleView",
            "_model_name": "ProgressStyleModel",
            "description_width": "initial",
            "_view_module": "@jupyter-widgets/base",
            "_model_module_version": "1.5.0",
            "_view_count": null,
            "_view_module_version": "1.2.0",
            "bar_color": null,
            "_model_module": "@jupyter-widgets/controls"
          }
        },
        "4627e835aa384660b82e4a1c79467b6f": {
          "model_module": "@jupyter-widgets/base",
          "model_name": "LayoutModel",
          "state": {
            "_view_name": "LayoutView",
            "grid_template_rows": null,
            "right": null,
            "justify_content": null,
            "_view_module": "@jupyter-widgets/base",
            "overflow": null,
            "_model_module_version": "1.2.0",
            "_view_count": null,
            "flex_flow": null,
            "width": null,
            "min_width": null,
            "border": null,
            "align_items": null,
            "bottom": null,
            "_model_module": "@jupyter-widgets/base",
            "top": null,
            "grid_column": null,
            "overflow_y": null,
            "overflow_x": null,
            "grid_auto_flow": null,
            "grid_area": null,
            "grid_template_columns": null,
            "flex": null,
            "_model_name": "LayoutModel",
            "justify_items": null,
            "grid_row": null,
            "max_height": null,
            "align_content": null,
            "visibility": null,
            "align_self": null,
            "height": null,
            "min_height": null,
            "padding": null,
            "grid_auto_rows": null,
            "grid_gap": null,
            "max_width": null,
            "order": null,
            "_view_module_version": "1.2.0",
            "grid_template_areas": null,
            "object_position": null,
            "object_fit": null,
            "grid_auto_columns": null,
            "margin": null,
            "display": null,
            "left": null
          }
        },
        "b642fa43c2af41689a032b89e99e3a6c": {
          "model_module": "@jupyter-widgets/controls",
          "model_name": "DescriptionStyleModel",
          "state": {
            "_view_name": "StyleView",
            "_model_name": "DescriptionStyleModel",
            "description_width": "",
            "_view_module": "@jupyter-widgets/base",
            "_model_module_version": "1.5.0",
            "_view_count": null,
            "_view_module_version": "1.2.0",
            "_model_module": "@jupyter-widgets/controls"
          }
        },
        "5021060bd54e4472a9722752ab87aa1a": {
          "model_module": "@jupyter-widgets/base",
          "model_name": "LayoutModel",
          "state": {
            "_view_name": "LayoutView",
            "grid_template_rows": null,
            "right": null,
            "justify_content": null,
            "_view_module": "@jupyter-widgets/base",
            "overflow": null,
            "_model_module_version": "1.2.0",
            "_view_count": null,
            "flex_flow": null,
            "width": null,
            "min_width": null,
            "border": null,
            "align_items": null,
            "bottom": null,
            "_model_module": "@jupyter-widgets/base",
            "top": null,
            "grid_column": null,
            "overflow_y": null,
            "overflow_x": null,
            "grid_auto_flow": null,
            "grid_area": null,
            "grid_template_columns": null,
            "flex": null,
            "_model_name": "LayoutModel",
            "justify_items": null,
            "grid_row": null,
            "max_height": null,
            "align_content": null,
            "visibility": null,
            "align_self": null,
            "height": null,
            "min_height": null,
            "padding": null,
            "grid_auto_rows": null,
            "grid_gap": null,
            "max_width": null,
            "order": null,
            "_view_module_version": "1.2.0",
            "grid_template_areas": null,
            "object_position": null,
            "object_fit": null,
            "grid_auto_columns": null,
            "margin": null,
            "display": null,
            "left": null
          }
        },
        "51e8ad3852f247409e7d5410429c0595": {
          "model_module": "@jupyter-widgets/controls",
          "model_name": "HBoxModel",
          "state": {
            "_view_name": "HBoxView",
            "_dom_classes": [],
            "_model_name": "HBoxModel",
            "_view_module": "@jupyter-widgets/controls",
            "_model_module_version": "1.5.0",
            "_view_count": null,
            "_view_module_version": "1.5.0",
            "box_style": "",
            "layout": "IPY_MODEL_83939a2229fd47fa8795debf2655d9d2",
            "_model_module": "@jupyter-widgets/controls",
            "children": [
              "IPY_MODEL_9cd7f16ab06e46a9b052cb69f347c15d",
              "IPY_MODEL_cb8a43f742ec43a2af9567b7238ce0b5"
            ]
          }
        },
        "83939a2229fd47fa8795debf2655d9d2": {
          "model_module": "@jupyter-widgets/base",
          "model_name": "LayoutModel",
          "state": {
            "_view_name": "LayoutView",
            "grid_template_rows": null,
            "right": null,
            "justify_content": null,
            "_view_module": "@jupyter-widgets/base",
            "overflow": null,
            "_model_module_version": "1.2.0",
            "_view_count": null,
            "flex_flow": null,
            "width": null,
            "min_width": null,
            "border": null,
            "align_items": null,
            "bottom": null,
            "_model_module": "@jupyter-widgets/base",
            "top": null,
            "grid_column": null,
            "overflow_y": null,
            "overflow_x": null,
            "grid_auto_flow": null,
            "grid_area": null,
            "grid_template_columns": null,
            "flex": null,
            "_model_name": "LayoutModel",
            "justify_items": null,
            "grid_row": null,
            "max_height": null,
            "align_content": null,
            "visibility": null,
            "align_self": null,
            "height": null,
            "min_height": null,
            "padding": null,
            "grid_auto_rows": null,
            "grid_gap": null,
            "max_width": null,
            "order": null,
            "_view_module_version": "1.2.0",
            "grid_template_areas": null,
            "object_position": null,
            "object_fit": null,
            "grid_auto_columns": null,
            "margin": null,
            "display": null,
            "left": null
          }
        },
        "9cd7f16ab06e46a9b052cb69f347c15d": {
          "model_module": "@jupyter-widgets/controls",
          "model_name": "FloatProgressModel",
          "state": {
            "_view_name": "ProgressView",
            "style": "IPY_MODEL_b5b45ca802304a0a929c309452031326",
            "_dom_classes": [],
            "description": "Evaluation... : 100%",
            "_model_name": "FloatProgressModel",
            "bar_style": "success",
            "max": 52,
            "_view_module": "@jupyter-widgets/controls",
            "_model_module_version": "1.5.0",
            "value": 52,
            "_view_count": null,
            "_view_module_version": "1.5.0",
            "orientation": "horizontal",
            "min": 0,
            "description_tooltip": null,
            "_model_module": "@jupyter-widgets/controls",
            "layout": "IPY_MODEL_d43218a09bb64df79d4072ef8f0607f0"
          }
        },
        "cb8a43f742ec43a2af9567b7238ce0b5": {
          "model_module": "@jupyter-widgets/controls",
          "model_name": "HTMLModel",
          "state": {
            "_view_name": "HTMLView",
            "style": "IPY_MODEL_ae8383a4d8434cc288cc9ae8c020a9d9",
            "_dom_classes": [],
            "description": "",
            "_model_name": "HTMLModel",
            "placeholder": "​",
            "_view_module": "@jupyter-widgets/controls",
            "_model_module_version": "1.5.0",
            "value": " 52/52 [00:29&lt;00:00,  1.76it/s]",
            "_view_count": null,
            "_view_module_version": "1.5.0",
            "description_tooltip": null,
            "_model_module": "@jupyter-widgets/controls",
            "layout": "IPY_MODEL_682d284fbf834736afdb07fdc1418b86"
          }
        },
        "b5b45ca802304a0a929c309452031326": {
          "model_module": "@jupyter-widgets/controls",
          "model_name": "ProgressStyleModel",
          "state": {
            "_view_name": "StyleView",
            "_model_name": "ProgressStyleModel",
            "description_width": "initial",
            "_view_module": "@jupyter-widgets/base",
            "_model_module_version": "1.5.0",
            "_view_count": null,
            "_view_module_version": "1.2.0",
            "bar_color": null,
            "_model_module": "@jupyter-widgets/controls"
          }
        },
        "d43218a09bb64df79d4072ef8f0607f0": {
          "model_module": "@jupyter-widgets/base",
          "model_name": "LayoutModel",
          "state": {
            "_view_name": "LayoutView",
            "grid_template_rows": null,
            "right": null,
            "justify_content": null,
            "_view_module": "@jupyter-widgets/base",
            "overflow": null,
            "_model_module_version": "1.2.0",
            "_view_count": null,
            "flex_flow": null,
            "width": null,
            "min_width": null,
            "border": null,
            "align_items": null,
            "bottom": null,
            "_model_module": "@jupyter-widgets/base",
            "top": null,
            "grid_column": null,
            "overflow_y": null,
            "overflow_x": null,
            "grid_auto_flow": null,
            "grid_area": null,
            "grid_template_columns": null,
            "flex": null,
            "_model_name": "LayoutModel",
            "justify_items": null,
            "grid_row": null,
            "max_height": null,
            "align_content": null,
            "visibility": null,
            "align_self": null,
            "height": null,
            "min_height": null,
            "padding": null,
            "grid_auto_rows": null,
            "grid_gap": null,
            "max_width": null,
            "order": null,
            "_view_module_version": "1.2.0",
            "grid_template_areas": null,
            "object_position": null,
            "object_fit": null,
            "grid_auto_columns": null,
            "margin": null,
            "display": null,
            "left": null
          }
        },
        "ae8383a4d8434cc288cc9ae8c020a9d9": {
          "model_module": "@jupyter-widgets/controls",
          "model_name": "DescriptionStyleModel",
          "state": {
            "_view_name": "StyleView",
            "_model_name": "DescriptionStyleModel",
            "description_width": "",
            "_view_module": "@jupyter-widgets/base",
            "_model_module_version": "1.5.0",
            "_view_count": null,
            "_view_module_version": "1.2.0",
            "_model_module": "@jupyter-widgets/controls"
          }
        },
        "682d284fbf834736afdb07fdc1418b86": {
          "model_module": "@jupyter-widgets/base",
          "model_name": "LayoutModel",
          "state": {
            "_view_name": "LayoutView",
            "grid_template_rows": null,
            "right": null,
            "justify_content": null,
            "_view_module": "@jupyter-widgets/base",
            "overflow": null,
            "_model_module_version": "1.2.0",
            "_view_count": null,
            "flex_flow": null,
            "width": null,
            "min_width": null,
            "border": null,
            "align_items": null,
            "bottom": null,
            "_model_module": "@jupyter-widgets/base",
            "top": null,
            "grid_column": null,
            "overflow_y": null,
            "overflow_x": null,
            "grid_auto_flow": null,
            "grid_area": null,
            "grid_template_columns": null,
            "flex": null,
            "_model_name": "LayoutModel",
            "justify_items": null,
            "grid_row": null,
            "max_height": null,
            "align_content": null,
            "visibility": null,
            "align_self": null,
            "height": null,
            "min_height": null,
            "padding": null,
            "grid_auto_rows": null,
            "grid_gap": null,
            "max_width": null,
            "order": null,
            "_view_module_version": "1.2.0",
            "grid_template_areas": null,
            "object_position": null,
            "object_fit": null,
            "grid_auto_columns": null,
            "margin": null,
            "display": null,
            "left": null
          }
        },
        "382990ea8dfc4e7785ef139b0a6c1da9": {
          "model_module": "@jupyter-widgets/controls",
          "model_name": "HBoxModel",
          "state": {
            "_view_name": "HBoxView",
            "_dom_classes": [],
            "_model_name": "HBoxModel",
            "_view_module": "@jupyter-widgets/controls",
            "_model_module_version": "1.5.0",
            "_view_count": null,
            "_view_module_version": "1.5.0",
            "box_style": "",
            "layout": "IPY_MODEL_3e59aa5df7a84e91944009dfbffa450e",
            "_model_module": "@jupyter-widgets/controls",
            "children": [
              "IPY_MODEL_ccd6edc1ab1044be9d419ec022b8f5c0",
              "IPY_MODEL_6d996e7ba67b47aeaad7f5a48bc4601a"
            ]
          }
        },
        "3e59aa5df7a84e91944009dfbffa450e": {
          "model_module": "@jupyter-widgets/base",
          "model_name": "LayoutModel",
          "state": {
            "_view_name": "LayoutView",
            "grid_template_rows": null,
            "right": null,
            "justify_content": null,
            "_view_module": "@jupyter-widgets/base",
            "overflow": null,
            "_model_module_version": "1.2.0",
            "_view_count": null,
            "flex_flow": null,
            "width": null,
            "min_width": null,
            "border": null,
            "align_items": null,
            "bottom": null,
            "_model_module": "@jupyter-widgets/base",
            "top": null,
            "grid_column": null,
            "overflow_y": null,
            "overflow_x": null,
            "grid_auto_flow": null,
            "grid_area": null,
            "grid_template_columns": null,
            "flex": null,
            "_model_name": "LayoutModel",
            "justify_items": null,
            "grid_row": null,
            "max_height": null,
            "align_content": null,
            "visibility": null,
            "align_self": null,
            "height": null,
            "min_height": null,
            "padding": null,
            "grid_auto_rows": null,
            "grid_gap": null,
            "max_width": null,
            "order": null,
            "_view_module_version": "1.2.0",
            "grid_template_areas": null,
            "object_position": null,
            "object_fit": null,
            "grid_auto_columns": null,
            "margin": null,
            "display": null,
            "left": null
          }
        },
        "ccd6edc1ab1044be9d419ec022b8f5c0": {
          "model_module": "@jupyter-widgets/controls",
          "model_name": "FloatProgressModel",
          "state": {
            "_view_name": "ProgressView",
            "style": "IPY_MODEL_6b81177841814b4da9a1a2c616fb7bc2",
            "_dom_classes": [],
            "description": "Training... : 100%",
            "_model_name": "FloatProgressModel",
            "bar_style": "success",
            "max": 463,
            "_view_module": "@jupyter-widgets/controls",
            "_model_module_version": "1.5.0",
            "value": 463,
            "_view_count": null,
            "_view_module_version": "1.5.0",
            "orientation": "horizontal",
            "min": 0,
            "description_tooltip": null,
            "_model_module": "@jupyter-widgets/controls",
            "layout": "IPY_MODEL_672492b226c7456c94c924f62402bd83"
          }
        },
        "6d996e7ba67b47aeaad7f5a48bc4601a": {
          "model_module": "@jupyter-widgets/controls",
          "model_name": "HTMLModel",
          "state": {
            "_view_name": "HTMLView",
            "style": "IPY_MODEL_ce8ecbf1bc244020a70dfec597d864f5",
            "_dom_classes": [],
            "description": "",
            "_model_name": "HTMLModel",
            "placeholder": "​",
            "_view_module": "@jupyter-widgets/controls",
            "_model_module_version": "1.5.0",
            "value": " 463/463 [06:53&lt;00:00,  1.12it/s]",
            "_view_count": null,
            "_view_module_version": "1.5.0",
            "description_tooltip": null,
            "_model_module": "@jupyter-widgets/controls",
            "layout": "IPY_MODEL_233829429f9746ba8c12682b565203a0"
          }
        },
        "6b81177841814b4da9a1a2c616fb7bc2": {
          "model_module": "@jupyter-widgets/controls",
          "model_name": "ProgressStyleModel",
          "state": {
            "_view_name": "StyleView",
            "_model_name": "ProgressStyleModel",
            "description_width": "initial",
            "_view_module": "@jupyter-widgets/base",
            "_model_module_version": "1.5.0",
            "_view_count": null,
            "_view_module_version": "1.2.0",
            "bar_color": null,
            "_model_module": "@jupyter-widgets/controls"
          }
        },
        "672492b226c7456c94c924f62402bd83": {
          "model_module": "@jupyter-widgets/base",
          "model_name": "LayoutModel",
          "state": {
            "_view_name": "LayoutView",
            "grid_template_rows": null,
            "right": null,
            "justify_content": null,
            "_view_module": "@jupyter-widgets/base",
            "overflow": null,
            "_model_module_version": "1.2.0",
            "_view_count": null,
            "flex_flow": null,
            "width": null,
            "min_width": null,
            "border": null,
            "align_items": null,
            "bottom": null,
            "_model_module": "@jupyter-widgets/base",
            "top": null,
            "grid_column": null,
            "overflow_y": null,
            "overflow_x": null,
            "grid_auto_flow": null,
            "grid_area": null,
            "grid_template_columns": null,
            "flex": null,
            "_model_name": "LayoutModel",
            "justify_items": null,
            "grid_row": null,
            "max_height": null,
            "align_content": null,
            "visibility": null,
            "align_self": null,
            "height": null,
            "min_height": null,
            "padding": null,
            "grid_auto_rows": null,
            "grid_gap": null,
            "max_width": null,
            "order": null,
            "_view_module_version": "1.2.0",
            "grid_template_areas": null,
            "object_position": null,
            "object_fit": null,
            "grid_auto_columns": null,
            "margin": null,
            "display": null,
            "left": null
          }
        },
        "ce8ecbf1bc244020a70dfec597d864f5": {
          "model_module": "@jupyter-widgets/controls",
          "model_name": "DescriptionStyleModel",
          "state": {
            "_view_name": "StyleView",
            "_model_name": "DescriptionStyleModel",
            "description_width": "",
            "_view_module": "@jupyter-widgets/base",
            "_model_module_version": "1.5.0",
            "_view_count": null,
            "_view_module_version": "1.2.0",
            "_model_module": "@jupyter-widgets/controls"
          }
        },
        "233829429f9746ba8c12682b565203a0": {
          "model_module": "@jupyter-widgets/base",
          "model_name": "LayoutModel",
          "state": {
            "_view_name": "LayoutView",
            "grid_template_rows": null,
            "right": null,
            "justify_content": null,
            "_view_module": "@jupyter-widgets/base",
            "overflow": null,
            "_model_module_version": "1.2.0",
            "_view_count": null,
            "flex_flow": null,
            "width": null,
            "min_width": null,
            "border": null,
            "align_items": null,
            "bottom": null,
            "_model_module": "@jupyter-widgets/base",
            "top": null,
            "grid_column": null,
            "overflow_y": null,
            "overflow_x": null,
            "grid_auto_flow": null,
            "grid_area": null,
            "grid_template_columns": null,
            "flex": null,
            "_model_name": "LayoutModel",
            "justify_items": null,
            "grid_row": null,
            "max_height": null,
            "align_content": null,
            "visibility": null,
            "align_self": null,
            "height": null,
            "min_height": null,
            "padding": null,
            "grid_auto_rows": null,
            "grid_gap": null,
            "max_width": null,
            "order": null,
            "_view_module_version": "1.2.0",
            "grid_template_areas": null,
            "object_position": null,
            "object_fit": null,
            "grid_auto_columns": null,
            "margin": null,
            "display": null,
            "left": null
          }
        },
        "84dc2a6dadbd41889923d0fada9654ad": {
          "model_module": "@jupyter-widgets/controls",
          "model_name": "HBoxModel",
          "state": {
            "_view_name": "HBoxView",
            "_dom_classes": [],
            "_model_name": "HBoxModel",
            "_view_module": "@jupyter-widgets/controls",
            "_model_module_version": "1.5.0",
            "_view_count": null,
            "_view_module_version": "1.5.0",
            "box_style": "",
            "layout": "IPY_MODEL_699bce17da944418872f9c9d5bab7483",
            "_model_module": "@jupyter-widgets/controls",
            "children": [
              "IPY_MODEL_9b4595eee0ef4425ae654c0b621ed88a",
              "IPY_MODEL_795ed1dbbf5143a3bdb1c659479c6ed8"
            ]
          }
        },
        "699bce17da944418872f9c9d5bab7483": {
          "model_module": "@jupyter-widgets/base",
          "model_name": "LayoutModel",
          "state": {
            "_view_name": "LayoutView",
            "grid_template_rows": null,
            "right": null,
            "justify_content": null,
            "_view_module": "@jupyter-widgets/base",
            "overflow": null,
            "_model_module_version": "1.2.0",
            "_view_count": null,
            "flex_flow": null,
            "width": null,
            "min_width": null,
            "border": null,
            "align_items": null,
            "bottom": null,
            "_model_module": "@jupyter-widgets/base",
            "top": null,
            "grid_column": null,
            "overflow_y": null,
            "overflow_x": null,
            "grid_auto_flow": null,
            "grid_area": null,
            "grid_template_columns": null,
            "flex": null,
            "_model_name": "LayoutModel",
            "justify_items": null,
            "grid_row": null,
            "max_height": null,
            "align_content": null,
            "visibility": null,
            "align_self": null,
            "height": null,
            "min_height": null,
            "padding": null,
            "grid_auto_rows": null,
            "grid_gap": null,
            "max_width": null,
            "order": null,
            "_view_module_version": "1.2.0",
            "grid_template_areas": null,
            "object_position": null,
            "object_fit": null,
            "grid_auto_columns": null,
            "margin": null,
            "display": null,
            "left": null
          }
        },
        "9b4595eee0ef4425ae654c0b621ed88a": {
          "model_module": "@jupyter-widgets/controls",
          "model_name": "FloatProgressModel",
          "state": {
            "_view_name": "ProgressView",
            "style": "IPY_MODEL_2216e5b556bb43ac8c5e1ab33dc7026a",
            "_dom_classes": [],
            "description": "Evaluation... : 100%",
            "_model_name": "FloatProgressModel",
            "bar_style": "success",
            "max": 52,
            "_view_module": "@jupyter-widgets/controls",
            "_model_module_version": "1.5.0",
            "value": 52,
            "_view_count": null,
            "_view_module_version": "1.5.0",
            "orientation": "horizontal",
            "min": 0,
            "description_tooltip": null,
            "_model_module": "@jupyter-widgets/controls",
            "layout": "IPY_MODEL_d8105307aa614715a4adf6b4270d7f42"
          }
        },
        "795ed1dbbf5143a3bdb1c659479c6ed8": {
          "model_module": "@jupyter-widgets/controls",
          "model_name": "HTMLModel",
          "state": {
            "_view_name": "HTMLView",
            "style": "IPY_MODEL_7d4df1de95cb449ba638d3a1504725c4",
            "_dom_classes": [],
            "description": "",
            "_model_name": "HTMLModel",
            "placeholder": "​",
            "_view_module": "@jupyter-widgets/controls",
            "_model_module_version": "1.5.0",
            "value": " 52/52 [00:38&lt;00:00,  1.35it/s]",
            "_view_count": null,
            "_view_module_version": "1.5.0",
            "description_tooltip": null,
            "_model_module": "@jupyter-widgets/controls",
            "layout": "IPY_MODEL_15924f7452044cb5bde66efa496be6a0"
          }
        },
        "2216e5b556bb43ac8c5e1ab33dc7026a": {
          "model_module": "@jupyter-widgets/controls",
          "model_name": "ProgressStyleModel",
          "state": {
            "_view_name": "StyleView",
            "_model_name": "ProgressStyleModel",
            "description_width": "initial",
            "_view_module": "@jupyter-widgets/base",
            "_model_module_version": "1.5.0",
            "_view_count": null,
            "_view_module_version": "1.2.0",
            "bar_color": null,
            "_model_module": "@jupyter-widgets/controls"
          }
        },
        "d8105307aa614715a4adf6b4270d7f42": {
          "model_module": "@jupyter-widgets/base",
          "model_name": "LayoutModel",
          "state": {
            "_view_name": "LayoutView",
            "grid_template_rows": null,
            "right": null,
            "justify_content": null,
            "_view_module": "@jupyter-widgets/base",
            "overflow": null,
            "_model_module_version": "1.2.0",
            "_view_count": null,
            "flex_flow": null,
            "width": null,
            "min_width": null,
            "border": null,
            "align_items": null,
            "bottom": null,
            "_model_module": "@jupyter-widgets/base",
            "top": null,
            "grid_column": null,
            "overflow_y": null,
            "overflow_x": null,
            "grid_auto_flow": null,
            "grid_area": null,
            "grid_template_columns": null,
            "flex": null,
            "_model_name": "LayoutModel",
            "justify_items": null,
            "grid_row": null,
            "max_height": null,
            "align_content": null,
            "visibility": null,
            "align_self": null,
            "height": null,
            "min_height": null,
            "padding": null,
            "grid_auto_rows": null,
            "grid_gap": null,
            "max_width": null,
            "order": null,
            "_view_module_version": "1.2.0",
            "grid_template_areas": null,
            "object_position": null,
            "object_fit": null,
            "grid_auto_columns": null,
            "margin": null,
            "display": null,
            "left": null
          }
        },
        "7d4df1de95cb449ba638d3a1504725c4": {
          "model_module": "@jupyter-widgets/controls",
          "model_name": "DescriptionStyleModel",
          "state": {
            "_view_name": "StyleView",
            "_model_name": "DescriptionStyleModel",
            "description_width": "",
            "_view_module": "@jupyter-widgets/base",
            "_model_module_version": "1.5.0",
            "_view_count": null,
            "_view_module_version": "1.2.0",
            "_model_module": "@jupyter-widgets/controls"
          }
        },
        "15924f7452044cb5bde66efa496be6a0": {
          "model_module": "@jupyter-widgets/base",
          "model_name": "LayoutModel",
          "state": {
            "_view_name": "LayoutView",
            "grid_template_rows": null,
            "right": null,
            "justify_content": null,
            "_view_module": "@jupyter-widgets/base",
            "overflow": null,
            "_model_module_version": "1.2.0",
            "_view_count": null,
            "flex_flow": null,
            "width": null,
            "min_width": null,
            "border": null,
            "align_items": null,
            "bottom": null,
            "_model_module": "@jupyter-widgets/base",
            "top": null,
            "grid_column": null,
            "overflow_y": null,
            "overflow_x": null,
            "grid_auto_flow": null,
            "grid_area": null,
            "grid_template_columns": null,
            "flex": null,
            "_model_name": "LayoutModel",
            "justify_items": null,
            "grid_row": null,
            "max_height": null,
            "align_content": null,
            "visibility": null,
            "align_self": null,
            "height": null,
            "min_height": null,
            "padding": null,
            "grid_auto_rows": null,
            "grid_gap": null,
            "max_width": null,
            "order": null,
            "_view_module_version": "1.2.0",
            "grid_template_areas": null,
            "object_position": null,
            "object_fit": null,
            "grid_auto_columns": null,
            "margin": null,
            "display": null,
            "left": null
          }
        },
        "f6dd5ccecd2847b89a184c69da7a45d6": {
          "model_module": "@jupyter-widgets/controls",
          "model_name": "HBoxModel",
          "state": {
            "_view_name": "HBoxView",
            "_dom_classes": [],
            "_model_name": "HBoxModel",
            "_view_module": "@jupyter-widgets/controls",
            "_model_module_version": "1.5.0",
            "_view_count": null,
            "_view_module_version": "1.5.0",
            "box_style": "",
            "layout": "IPY_MODEL_778ba001b4674270b4ff9a8563b0149f",
            "_model_module": "@jupyter-widgets/controls",
            "children": [
              "IPY_MODEL_d4ff875309ab4738b3f2e003e72fbb2a",
              "IPY_MODEL_e2693dcb22f94be4b8d075ea313a80b3"
            ]
          }
        },
        "778ba001b4674270b4ff9a8563b0149f": {
          "model_module": "@jupyter-widgets/base",
          "model_name": "LayoutModel",
          "state": {
            "_view_name": "LayoutView",
            "grid_template_rows": null,
            "right": null,
            "justify_content": null,
            "_view_module": "@jupyter-widgets/base",
            "overflow": null,
            "_model_module_version": "1.2.0",
            "_view_count": null,
            "flex_flow": null,
            "width": null,
            "min_width": null,
            "border": null,
            "align_items": null,
            "bottom": null,
            "_model_module": "@jupyter-widgets/base",
            "top": null,
            "grid_column": null,
            "overflow_y": null,
            "overflow_x": null,
            "grid_auto_flow": null,
            "grid_area": null,
            "grid_template_columns": null,
            "flex": null,
            "_model_name": "LayoutModel",
            "justify_items": null,
            "grid_row": null,
            "max_height": null,
            "align_content": null,
            "visibility": null,
            "align_self": null,
            "height": null,
            "min_height": null,
            "padding": null,
            "grid_auto_rows": null,
            "grid_gap": null,
            "max_width": null,
            "order": null,
            "_view_module_version": "1.2.0",
            "grid_template_areas": null,
            "object_position": null,
            "object_fit": null,
            "grid_auto_columns": null,
            "margin": null,
            "display": null,
            "left": null
          }
        },
        "d4ff875309ab4738b3f2e003e72fbb2a": {
          "model_module": "@jupyter-widgets/controls",
          "model_name": "FloatProgressModel",
          "state": {
            "_view_name": "ProgressView",
            "style": "IPY_MODEL_fbc286e8941a4d3a9506cb638d7052fb",
            "_dom_classes": [],
            "description": "Training... : 100%",
            "_model_name": "FloatProgressModel",
            "bar_style": "success",
            "max": 463,
            "_view_module": "@jupyter-widgets/controls",
            "_model_module_version": "1.5.0",
            "value": 463,
            "_view_count": null,
            "_view_module_version": "1.5.0",
            "orientation": "horizontal",
            "min": 0,
            "description_tooltip": null,
            "_model_module": "@jupyter-widgets/controls",
            "layout": "IPY_MODEL_6345474af7004b8eae9c0c04c3c9e560"
          }
        },
        "e2693dcb22f94be4b8d075ea313a80b3": {
          "model_module": "@jupyter-widgets/controls",
          "model_name": "HTMLModel",
          "state": {
            "_view_name": "HTMLView",
            "style": "IPY_MODEL_380fd8e210bb4dfdb34fa57394c02a56",
            "_dom_classes": [],
            "description": "",
            "_model_name": "HTMLModel",
            "placeholder": "​",
            "_view_module": "@jupyter-widgets/controls",
            "_model_module_version": "1.5.0",
            "value": " 463/463 [03:36&lt;00:00,  2.14it/s]",
            "_view_count": null,
            "_view_module_version": "1.5.0",
            "description_tooltip": null,
            "_model_module": "@jupyter-widgets/controls",
            "layout": "IPY_MODEL_f58472607a22485689dc7ec25261cec7"
          }
        },
        "fbc286e8941a4d3a9506cb638d7052fb": {
          "model_module": "@jupyter-widgets/controls",
          "model_name": "ProgressStyleModel",
          "state": {
            "_view_name": "StyleView",
            "_model_name": "ProgressStyleModel",
            "description_width": "initial",
            "_view_module": "@jupyter-widgets/base",
            "_model_module_version": "1.5.0",
            "_view_count": null,
            "_view_module_version": "1.2.0",
            "bar_color": null,
            "_model_module": "@jupyter-widgets/controls"
          }
        },
        "6345474af7004b8eae9c0c04c3c9e560": {
          "model_module": "@jupyter-widgets/base",
          "model_name": "LayoutModel",
          "state": {
            "_view_name": "LayoutView",
            "grid_template_rows": null,
            "right": null,
            "justify_content": null,
            "_view_module": "@jupyter-widgets/base",
            "overflow": null,
            "_model_module_version": "1.2.0",
            "_view_count": null,
            "flex_flow": null,
            "width": null,
            "min_width": null,
            "border": null,
            "align_items": null,
            "bottom": null,
            "_model_module": "@jupyter-widgets/base",
            "top": null,
            "grid_column": null,
            "overflow_y": null,
            "overflow_x": null,
            "grid_auto_flow": null,
            "grid_area": null,
            "grid_template_columns": null,
            "flex": null,
            "_model_name": "LayoutModel",
            "justify_items": null,
            "grid_row": null,
            "max_height": null,
            "align_content": null,
            "visibility": null,
            "align_self": null,
            "height": null,
            "min_height": null,
            "padding": null,
            "grid_auto_rows": null,
            "grid_gap": null,
            "max_width": null,
            "order": null,
            "_view_module_version": "1.2.0",
            "grid_template_areas": null,
            "object_position": null,
            "object_fit": null,
            "grid_auto_columns": null,
            "margin": null,
            "display": null,
            "left": null
          }
        },
        "380fd8e210bb4dfdb34fa57394c02a56": {
          "model_module": "@jupyter-widgets/controls",
          "model_name": "DescriptionStyleModel",
          "state": {
            "_view_name": "StyleView",
            "_model_name": "DescriptionStyleModel",
            "description_width": "",
            "_view_module": "@jupyter-widgets/base",
            "_model_module_version": "1.5.0",
            "_view_count": null,
            "_view_module_version": "1.2.0",
            "_model_module": "@jupyter-widgets/controls"
          }
        },
        "f58472607a22485689dc7ec25261cec7": {
          "model_module": "@jupyter-widgets/base",
          "model_name": "LayoutModel",
          "state": {
            "_view_name": "LayoutView",
            "grid_template_rows": null,
            "right": null,
            "justify_content": null,
            "_view_module": "@jupyter-widgets/base",
            "overflow": null,
            "_model_module_version": "1.2.0",
            "_view_count": null,
            "flex_flow": null,
            "width": null,
            "min_width": null,
            "border": null,
            "align_items": null,
            "bottom": null,
            "_model_module": "@jupyter-widgets/base",
            "top": null,
            "grid_column": null,
            "overflow_y": null,
            "overflow_x": null,
            "grid_auto_flow": null,
            "grid_area": null,
            "grid_template_columns": null,
            "flex": null,
            "_model_name": "LayoutModel",
            "justify_items": null,
            "grid_row": null,
            "max_height": null,
            "align_content": null,
            "visibility": null,
            "align_self": null,
            "height": null,
            "min_height": null,
            "padding": null,
            "grid_auto_rows": null,
            "grid_gap": null,
            "max_width": null,
            "order": null,
            "_view_module_version": "1.2.0",
            "grid_template_areas": null,
            "object_position": null,
            "object_fit": null,
            "grid_auto_columns": null,
            "margin": null,
            "display": null,
            "left": null
          }
        },
        "1345ddfe82564f70930d870204305f58": {
          "model_module": "@jupyter-widgets/controls",
          "model_name": "HBoxModel",
          "state": {
            "_view_name": "HBoxView",
            "_dom_classes": [],
            "_model_name": "HBoxModel",
            "_view_module": "@jupyter-widgets/controls",
            "_model_module_version": "1.5.0",
            "_view_count": null,
            "_view_module_version": "1.5.0",
            "box_style": "",
            "layout": "IPY_MODEL_433aa9996aef48b0ad5240cf1a83ea6c",
            "_model_module": "@jupyter-widgets/controls",
            "children": [
              "IPY_MODEL_aeb317064a9c446397c46abaf0e652c5",
              "IPY_MODEL_aa6048edba024f1e9e2b35ce65326fad"
            ]
          }
        },
        "433aa9996aef48b0ad5240cf1a83ea6c": {
          "model_module": "@jupyter-widgets/base",
          "model_name": "LayoutModel",
          "state": {
            "_view_name": "LayoutView",
            "grid_template_rows": null,
            "right": null,
            "justify_content": null,
            "_view_module": "@jupyter-widgets/base",
            "overflow": null,
            "_model_module_version": "1.2.0",
            "_view_count": null,
            "flex_flow": null,
            "width": null,
            "min_width": null,
            "border": null,
            "align_items": null,
            "bottom": null,
            "_model_module": "@jupyter-widgets/base",
            "top": null,
            "grid_column": null,
            "overflow_y": null,
            "overflow_x": null,
            "grid_auto_flow": null,
            "grid_area": null,
            "grid_template_columns": null,
            "flex": null,
            "_model_name": "LayoutModel",
            "justify_items": null,
            "grid_row": null,
            "max_height": null,
            "align_content": null,
            "visibility": null,
            "align_self": null,
            "height": null,
            "min_height": null,
            "padding": null,
            "grid_auto_rows": null,
            "grid_gap": null,
            "max_width": null,
            "order": null,
            "_view_module_version": "1.2.0",
            "grid_template_areas": null,
            "object_position": null,
            "object_fit": null,
            "grid_auto_columns": null,
            "margin": null,
            "display": null,
            "left": null
          }
        },
        "aeb317064a9c446397c46abaf0e652c5": {
          "model_module": "@jupyter-widgets/controls",
          "model_name": "FloatProgressModel",
          "state": {
            "_view_name": "ProgressView",
            "style": "IPY_MODEL_fe6651b6cf1a4498b505d42eac841c07",
            "_dom_classes": [],
            "description": "Evaluation... : 100%",
            "_model_name": "FloatProgressModel",
            "bar_style": "success",
            "max": 52,
            "_view_module": "@jupyter-widgets/controls",
            "_model_module_version": "1.5.0",
            "value": 52,
            "_view_count": null,
            "_view_module_version": "1.5.0",
            "orientation": "horizontal",
            "min": 0,
            "description_tooltip": null,
            "_model_module": "@jupyter-widgets/controls",
            "layout": "IPY_MODEL_7699f71a6e3243f7bccc809a1d1bf7ec"
          }
        },
        "aa6048edba024f1e9e2b35ce65326fad": {
          "model_module": "@jupyter-widgets/controls",
          "model_name": "HTMLModel",
          "state": {
            "_view_name": "HTMLView",
            "style": "IPY_MODEL_83ac9836b35e40269688d9354c626c34",
            "_dom_classes": [],
            "description": "",
            "_model_name": "HTMLModel",
            "placeholder": "​",
            "_view_module": "@jupyter-widgets/controls",
            "_model_module_version": "1.5.0",
            "value": " 52/52 [03:06&lt;00:00,  3.59s/it]",
            "_view_count": null,
            "_view_module_version": "1.5.0",
            "description_tooltip": null,
            "_model_module": "@jupyter-widgets/controls",
            "layout": "IPY_MODEL_622e33a4c033483d84bb3f517d350b10"
          }
        },
        "fe6651b6cf1a4498b505d42eac841c07": {
          "model_module": "@jupyter-widgets/controls",
          "model_name": "ProgressStyleModel",
          "state": {
            "_view_name": "StyleView",
            "_model_name": "ProgressStyleModel",
            "description_width": "initial",
            "_view_module": "@jupyter-widgets/base",
            "_model_module_version": "1.5.0",
            "_view_count": null,
            "_view_module_version": "1.2.0",
            "bar_color": null,
            "_model_module": "@jupyter-widgets/controls"
          }
        },
        "7699f71a6e3243f7bccc809a1d1bf7ec": {
          "model_module": "@jupyter-widgets/base",
          "model_name": "LayoutModel",
          "state": {
            "_view_name": "LayoutView",
            "grid_template_rows": null,
            "right": null,
            "justify_content": null,
            "_view_module": "@jupyter-widgets/base",
            "overflow": null,
            "_model_module_version": "1.2.0",
            "_view_count": null,
            "flex_flow": null,
            "width": null,
            "min_width": null,
            "border": null,
            "align_items": null,
            "bottom": null,
            "_model_module": "@jupyter-widgets/base",
            "top": null,
            "grid_column": null,
            "overflow_y": null,
            "overflow_x": null,
            "grid_auto_flow": null,
            "grid_area": null,
            "grid_template_columns": null,
            "flex": null,
            "_model_name": "LayoutModel",
            "justify_items": null,
            "grid_row": null,
            "max_height": null,
            "align_content": null,
            "visibility": null,
            "align_self": null,
            "height": null,
            "min_height": null,
            "padding": null,
            "grid_auto_rows": null,
            "grid_gap": null,
            "max_width": null,
            "order": null,
            "_view_module_version": "1.2.0",
            "grid_template_areas": null,
            "object_position": null,
            "object_fit": null,
            "grid_auto_columns": null,
            "margin": null,
            "display": null,
            "left": null
          }
        },
        "83ac9836b35e40269688d9354c626c34": {
          "model_module": "@jupyter-widgets/controls",
          "model_name": "DescriptionStyleModel",
          "state": {
            "_view_name": "StyleView",
            "_model_name": "DescriptionStyleModel",
            "description_width": "",
            "_view_module": "@jupyter-widgets/base",
            "_model_module_version": "1.5.0",
            "_view_count": null,
            "_view_module_version": "1.2.0",
            "_model_module": "@jupyter-widgets/controls"
          }
        },
        "622e33a4c033483d84bb3f517d350b10": {
          "model_module": "@jupyter-widgets/base",
          "model_name": "LayoutModel",
          "state": {
            "_view_name": "LayoutView",
            "grid_template_rows": null,
            "right": null,
            "justify_content": null,
            "_view_module": "@jupyter-widgets/base",
            "overflow": null,
            "_model_module_version": "1.2.0",
            "_view_count": null,
            "flex_flow": null,
            "width": null,
            "min_width": null,
            "border": null,
            "align_items": null,
            "bottom": null,
            "_model_module": "@jupyter-widgets/base",
            "top": null,
            "grid_column": null,
            "overflow_y": null,
            "overflow_x": null,
            "grid_auto_flow": null,
            "grid_area": null,
            "grid_template_columns": null,
            "flex": null,
            "_model_name": "LayoutModel",
            "justify_items": null,
            "grid_row": null,
            "max_height": null,
            "align_content": null,
            "visibility": null,
            "align_self": null,
            "height": null,
            "min_height": null,
            "padding": null,
            "grid_auto_rows": null,
            "grid_gap": null,
            "max_width": null,
            "order": null,
            "_view_module_version": "1.2.0",
            "grid_template_areas": null,
            "object_position": null,
            "object_fit": null,
            "grid_auto_columns": null,
            "margin": null,
            "display": null,
            "left": null
          }
        },
        "f2971ab1c2644a81a934a8ceb8084374": {
          "model_module": "@jupyter-widgets/controls",
          "model_name": "HBoxModel",
          "state": {
            "_view_name": "HBoxView",
            "_dom_classes": [],
            "_model_name": "HBoxModel",
            "_view_module": "@jupyter-widgets/controls",
            "_model_module_version": "1.5.0",
            "_view_count": null,
            "_view_module_version": "1.5.0",
            "box_style": "",
            "layout": "IPY_MODEL_b001e66f84e04e10b8c7e496f778b81c",
            "_model_module": "@jupyter-widgets/controls",
            "children": [
              "IPY_MODEL_49c1e6e284be452398e0a6d391563f6f",
              "IPY_MODEL_0c48ff16a9424008944f5c4caa7d7eeb"
            ]
          }
        },
        "b001e66f84e04e10b8c7e496f778b81c": {
          "model_module": "@jupyter-widgets/base",
          "model_name": "LayoutModel",
          "state": {
            "_view_name": "LayoutView",
            "grid_template_rows": null,
            "right": null,
            "justify_content": null,
            "_view_module": "@jupyter-widgets/base",
            "overflow": null,
            "_model_module_version": "1.2.0",
            "_view_count": null,
            "flex_flow": null,
            "width": null,
            "min_width": null,
            "border": null,
            "align_items": null,
            "bottom": null,
            "_model_module": "@jupyter-widgets/base",
            "top": null,
            "grid_column": null,
            "overflow_y": null,
            "overflow_x": null,
            "grid_auto_flow": null,
            "grid_area": null,
            "grid_template_columns": null,
            "flex": null,
            "_model_name": "LayoutModel",
            "justify_items": null,
            "grid_row": null,
            "max_height": null,
            "align_content": null,
            "visibility": null,
            "align_self": null,
            "height": null,
            "min_height": null,
            "padding": null,
            "grid_auto_rows": null,
            "grid_gap": null,
            "max_width": null,
            "order": null,
            "_view_module_version": "1.2.0",
            "grid_template_areas": null,
            "object_position": null,
            "object_fit": null,
            "grid_auto_columns": null,
            "margin": null,
            "display": null,
            "left": null
          }
        },
        "49c1e6e284be452398e0a6d391563f6f": {
          "model_module": "@jupyter-widgets/controls",
          "model_name": "FloatProgressModel",
          "state": {
            "_view_name": "ProgressView",
            "style": "IPY_MODEL_13f882431fed467ea9a6f058f49a032b",
            "_dom_classes": [],
            "description": "Evaluation... : 100%",
            "_model_name": "FloatProgressModel",
            "bar_style": "success",
            "max": 52,
            "_view_module": "@jupyter-widgets/controls",
            "_model_module_version": "1.5.0",
            "value": 52,
            "_view_count": null,
            "_view_module_version": "1.5.0",
            "orientation": "horizontal",
            "min": 0,
            "description_tooltip": null,
            "_model_module": "@jupyter-widgets/controls",
            "layout": "IPY_MODEL_b5b3e8ee23c14a1785ed93f1e9e540ea"
          }
        },
        "0c48ff16a9424008944f5c4caa7d7eeb": {
          "model_module": "@jupyter-widgets/controls",
          "model_name": "HTMLModel",
          "state": {
            "_view_name": "HTMLView",
            "style": "IPY_MODEL_20b39578b8364a18904f8855accc731f",
            "_dom_classes": [],
            "description": "",
            "_model_name": "HTMLModel",
            "placeholder": "​",
            "_view_module": "@jupyter-widgets/controls",
            "_model_module_version": "1.5.0",
            "value": " 52/52 [00:15&lt;00:00,  3.28it/s]",
            "_view_count": null,
            "_view_module_version": "1.5.0",
            "description_tooltip": null,
            "_model_module": "@jupyter-widgets/controls",
            "layout": "IPY_MODEL_b8054b378bc84de1bd41e4d0c8d4b740"
          }
        },
        "13f882431fed467ea9a6f058f49a032b": {
          "model_module": "@jupyter-widgets/controls",
          "model_name": "ProgressStyleModel",
          "state": {
            "_view_name": "StyleView",
            "_model_name": "ProgressStyleModel",
            "description_width": "initial",
            "_view_module": "@jupyter-widgets/base",
            "_model_module_version": "1.5.0",
            "_view_count": null,
            "_view_module_version": "1.2.0",
            "bar_color": null,
            "_model_module": "@jupyter-widgets/controls"
          }
        },
        "b5b3e8ee23c14a1785ed93f1e9e540ea": {
          "model_module": "@jupyter-widgets/base",
          "model_name": "LayoutModel",
          "state": {
            "_view_name": "LayoutView",
            "grid_template_rows": null,
            "right": null,
            "justify_content": null,
            "_view_module": "@jupyter-widgets/base",
            "overflow": null,
            "_model_module_version": "1.2.0",
            "_view_count": null,
            "flex_flow": null,
            "width": null,
            "min_width": null,
            "border": null,
            "align_items": null,
            "bottom": null,
            "_model_module": "@jupyter-widgets/base",
            "top": null,
            "grid_column": null,
            "overflow_y": null,
            "overflow_x": null,
            "grid_auto_flow": null,
            "grid_area": null,
            "grid_template_columns": null,
            "flex": null,
            "_model_name": "LayoutModel",
            "justify_items": null,
            "grid_row": null,
            "max_height": null,
            "align_content": null,
            "visibility": null,
            "align_self": null,
            "height": null,
            "min_height": null,
            "padding": null,
            "grid_auto_rows": null,
            "grid_gap": null,
            "max_width": null,
            "order": null,
            "_view_module_version": "1.2.0",
            "grid_template_areas": null,
            "object_position": null,
            "object_fit": null,
            "grid_auto_columns": null,
            "margin": null,
            "display": null,
            "left": null
          }
        },
        "20b39578b8364a18904f8855accc731f": {
          "model_module": "@jupyter-widgets/controls",
          "model_name": "DescriptionStyleModel",
          "state": {
            "_view_name": "StyleView",
            "_model_name": "DescriptionStyleModel",
            "description_width": "",
            "_view_module": "@jupyter-widgets/base",
            "_model_module_version": "1.5.0",
            "_view_count": null,
            "_view_module_version": "1.2.0",
            "_model_module": "@jupyter-widgets/controls"
          }
        },
        "b8054b378bc84de1bd41e4d0c8d4b740": {
          "model_module": "@jupyter-widgets/base",
          "model_name": "LayoutModel",
          "state": {
            "_view_name": "LayoutView",
            "grid_template_rows": null,
            "right": null,
            "justify_content": null,
            "_view_module": "@jupyter-widgets/base",
            "overflow": null,
            "_model_module_version": "1.2.0",
            "_view_count": null,
            "flex_flow": null,
            "width": null,
            "min_width": null,
            "border": null,
            "align_items": null,
            "bottom": null,
            "_model_module": "@jupyter-widgets/base",
            "top": null,
            "grid_column": null,
            "overflow_y": null,
            "overflow_x": null,
            "grid_auto_flow": null,
            "grid_area": null,
            "grid_template_columns": null,
            "flex": null,
            "_model_name": "LayoutModel",
            "justify_items": null,
            "grid_row": null,
            "max_height": null,
            "align_content": null,
            "visibility": null,
            "align_self": null,
            "height": null,
            "min_height": null,
            "padding": null,
            "grid_auto_rows": null,
            "grid_gap": null,
            "max_width": null,
            "order": null,
            "_view_module_version": "1.2.0",
            "grid_template_areas": null,
            "object_position": null,
            "object_fit": null,
            "grid_auto_columns": null,
            "margin": null,
            "display": null,
            "left": null
          }
        },
        "4174a305f70d40859f945a1bfd65a532": {
          "model_module": "@jupyter-widgets/controls",
          "model_name": "HBoxModel",
          "state": {
            "_view_name": "HBoxView",
            "_dom_classes": [],
            "_model_name": "HBoxModel",
            "_view_module": "@jupyter-widgets/controls",
            "_model_module_version": "1.5.0",
            "_view_count": null,
            "_view_module_version": "1.5.0",
            "box_style": "",
            "layout": "IPY_MODEL_c6f9173a770142c0832d14d5977be67c",
            "_model_module": "@jupyter-widgets/controls",
            "children": [
              "IPY_MODEL_b393e0a695fa43e096fe87d7646b520f",
              "IPY_MODEL_bacbd8e23dc34de49a43b8945d96afad"
            ]
          }
        },
        "c6f9173a770142c0832d14d5977be67c": {
          "model_module": "@jupyter-widgets/base",
          "model_name": "LayoutModel",
          "state": {
            "_view_name": "LayoutView",
            "grid_template_rows": null,
            "right": null,
            "justify_content": null,
            "_view_module": "@jupyter-widgets/base",
            "overflow": null,
            "_model_module_version": "1.2.0",
            "_view_count": null,
            "flex_flow": null,
            "width": null,
            "min_width": null,
            "border": null,
            "align_items": null,
            "bottom": null,
            "_model_module": "@jupyter-widgets/base",
            "top": null,
            "grid_column": null,
            "overflow_y": null,
            "overflow_x": null,
            "grid_auto_flow": null,
            "grid_area": null,
            "grid_template_columns": null,
            "flex": null,
            "_model_name": "LayoutModel",
            "justify_items": null,
            "grid_row": null,
            "max_height": null,
            "align_content": null,
            "visibility": null,
            "align_self": null,
            "height": null,
            "min_height": null,
            "padding": null,
            "grid_auto_rows": null,
            "grid_gap": null,
            "max_width": null,
            "order": null,
            "_view_module_version": "1.2.0",
            "grid_template_areas": null,
            "object_position": null,
            "object_fit": null,
            "grid_auto_columns": null,
            "margin": null,
            "display": null,
            "left": null
          }
        },
        "b393e0a695fa43e096fe87d7646b520f": {
          "model_module": "@jupyter-widgets/controls",
          "model_name": "FloatProgressModel",
          "state": {
            "_view_name": "ProgressView",
            "style": "IPY_MODEL_e3cadcdfa1a74affaabd2aabbdbd6406",
            "_dom_classes": [],
            "description": "100%",
            "_model_name": "FloatProgressModel",
            "bar_style": "success",
            "max": 29,
            "_view_module": "@jupyter-widgets/controls",
            "_model_module_version": "1.5.0",
            "value": 29,
            "_view_count": null,
            "_view_module_version": "1.5.0",
            "orientation": "horizontal",
            "min": 0,
            "description_tooltip": null,
            "_model_module": "@jupyter-widgets/controls",
            "layout": "IPY_MODEL_0fd776e07d624fe2acce6acad36b77ef"
          }
        },
        "bacbd8e23dc34de49a43b8945d96afad": {
          "model_module": "@jupyter-widgets/controls",
          "model_name": "HTMLModel",
          "state": {
            "_view_name": "HTMLView",
            "style": "IPY_MODEL_2f039e1340024d118fdfba79dbc53baf",
            "_dom_classes": [],
            "description": "",
            "_model_name": "HTMLModel",
            "placeholder": "​",
            "_view_module": "@jupyter-widgets/controls",
            "_model_module_version": "1.5.0",
            "value": " 29/29 [00:08&lt;00:00,  3.36it/s]",
            "_view_count": null,
            "_view_module_version": "1.5.0",
            "description_tooltip": null,
            "_model_module": "@jupyter-widgets/controls",
            "layout": "IPY_MODEL_d32cb7e86735404482f32973be325801"
          }
        },
        "e3cadcdfa1a74affaabd2aabbdbd6406": {
          "model_module": "@jupyter-widgets/controls",
          "model_name": "ProgressStyleModel",
          "state": {
            "_view_name": "StyleView",
            "_model_name": "ProgressStyleModel",
            "description_width": "initial",
            "_view_module": "@jupyter-widgets/base",
            "_model_module_version": "1.5.0",
            "_view_count": null,
            "_view_module_version": "1.2.0",
            "bar_color": null,
            "_model_module": "@jupyter-widgets/controls"
          }
        },
        "0fd776e07d624fe2acce6acad36b77ef": {
          "model_module": "@jupyter-widgets/base",
          "model_name": "LayoutModel",
          "state": {
            "_view_name": "LayoutView",
            "grid_template_rows": null,
            "right": null,
            "justify_content": null,
            "_view_module": "@jupyter-widgets/base",
            "overflow": null,
            "_model_module_version": "1.2.0",
            "_view_count": null,
            "flex_flow": null,
            "width": null,
            "min_width": null,
            "border": null,
            "align_items": null,
            "bottom": null,
            "_model_module": "@jupyter-widgets/base",
            "top": null,
            "grid_column": null,
            "overflow_y": null,
            "overflow_x": null,
            "grid_auto_flow": null,
            "grid_area": null,
            "grid_template_columns": null,
            "flex": null,
            "_model_name": "LayoutModel",
            "justify_items": null,
            "grid_row": null,
            "max_height": null,
            "align_content": null,
            "visibility": null,
            "align_self": null,
            "height": null,
            "min_height": null,
            "padding": null,
            "grid_auto_rows": null,
            "grid_gap": null,
            "max_width": null,
            "order": null,
            "_view_module_version": "1.2.0",
            "grid_template_areas": null,
            "object_position": null,
            "object_fit": null,
            "grid_auto_columns": null,
            "margin": null,
            "display": null,
            "left": null
          }
        },
        "2f039e1340024d118fdfba79dbc53baf": {
          "model_module": "@jupyter-widgets/controls",
          "model_name": "DescriptionStyleModel",
          "state": {
            "_view_name": "StyleView",
            "_model_name": "DescriptionStyleModel",
            "description_width": "",
            "_view_module": "@jupyter-widgets/base",
            "_model_module_version": "1.5.0",
            "_view_count": null,
            "_view_module_version": "1.2.0",
            "_model_module": "@jupyter-widgets/controls"
          }
        },
        "d32cb7e86735404482f32973be325801": {
          "model_module": "@jupyter-widgets/base",
          "model_name": "LayoutModel",
          "state": {
            "_view_name": "LayoutView",
            "grid_template_rows": null,
            "right": null,
            "justify_content": null,
            "_view_module": "@jupyter-widgets/base",
            "overflow": null,
            "_model_module_version": "1.2.0",
            "_view_count": null,
            "flex_flow": null,
            "width": null,
            "min_width": null,
            "border": null,
            "align_items": null,
            "bottom": null,
            "_model_module": "@jupyter-widgets/base",
            "top": null,
            "grid_column": null,
            "overflow_y": null,
            "overflow_x": null,
            "grid_auto_flow": null,
            "grid_area": null,
            "grid_template_columns": null,
            "flex": null,
            "_model_name": "LayoutModel",
            "justify_items": null,
            "grid_row": null,
            "max_height": null,
            "align_content": null,
            "visibility": null,
            "align_self": null,
            "height": null,
            "min_height": null,
            "padding": null,
            "grid_auto_rows": null,
            "grid_gap": null,
            "max_width": null,
            "order": null,
            "_view_module_version": "1.2.0",
            "grid_template_areas": null,
            "object_position": null,
            "object_fit": null,
            "grid_auto_columns": null,
            "margin": null,
            "display": null,
            "left": null
          }
        },
        "2e0840b9e8f449c581db6c43dde4276a": {
          "model_module": "@jupyter-widgets/controls",
          "model_name": "HBoxModel",
          "state": {
            "_view_name": "HBoxView",
            "_dom_classes": [],
            "_model_name": "HBoxModel",
            "_view_module": "@jupyter-widgets/controls",
            "_model_module_version": "1.5.0",
            "_view_count": null,
            "_view_module_version": "1.5.0",
            "box_style": "",
            "layout": "IPY_MODEL_6bdf9f14912d418daafc9d8e6e27d8dc",
            "_model_module": "@jupyter-widgets/controls",
            "children": [
              "IPY_MODEL_28af915e721542298dfe59666d1e1468",
              "IPY_MODEL_c0ab421e70be40429fd88506f35c0a71"
            ]
          }
        },
        "6bdf9f14912d418daafc9d8e6e27d8dc": {
          "model_module": "@jupyter-widgets/base",
          "model_name": "LayoutModel",
          "state": {
            "_view_name": "LayoutView",
            "grid_template_rows": null,
            "right": null,
            "justify_content": null,
            "_view_module": "@jupyter-widgets/base",
            "overflow": null,
            "_model_module_version": "1.2.0",
            "_view_count": null,
            "flex_flow": null,
            "width": null,
            "min_width": null,
            "border": null,
            "align_items": null,
            "bottom": null,
            "_model_module": "@jupyter-widgets/base",
            "top": null,
            "grid_column": null,
            "overflow_y": null,
            "overflow_x": null,
            "grid_auto_flow": null,
            "grid_area": null,
            "grid_template_columns": null,
            "flex": null,
            "_model_name": "LayoutModel",
            "justify_items": null,
            "grid_row": null,
            "max_height": null,
            "align_content": null,
            "visibility": null,
            "align_self": null,
            "height": null,
            "min_height": null,
            "padding": null,
            "grid_auto_rows": null,
            "grid_gap": null,
            "max_width": null,
            "order": null,
            "_view_module_version": "1.2.0",
            "grid_template_areas": null,
            "object_position": null,
            "object_fit": null,
            "grid_auto_columns": null,
            "margin": null,
            "display": null,
            "left": null
          }
        },
        "28af915e721542298dfe59666d1e1468": {
          "model_module": "@jupyter-widgets/controls",
          "model_name": "FloatProgressModel",
          "state": {
            "_view_name": "ProgressView",
            "style": "IPY_MODEL_44b5d689bd6d42b4a8c9d7360848937a",
            "_dom_classes": [],
            "description": "100%",
            "_model_name": "FloatProgressModel",
            "bar_style": "success",
            "max": 7401,
            "_view_module": "@jupyter-widgets/controls",
            "_model_module_version": "1.5.0",
            "value": 7401,
            "_view_count": null,
            "_view_module_version": "1.5.0",
            "orientation": "horizontal",
            "min": 0,
            "description_tooltip": null,
            "_model_module": "@jupyter-widgets/controls",
            "layout": "IPY_MODEL_feee0a8f816b47e885f951fa935381ff"
          }
        },
        "c0ab421e70be40429fd88506f35c0a71": {
          "model_module": "@jupyter-widgets/controls",
          "model_name": "HTMLModel",
          "state": {
            "_view_name": "HTMLView",
            "style": "IPY_MODEL_5f7805ee7b564c88be980439c8818cca",
            "_dom_classes": [],
            "description": "",
            "_model_name": "HTMLModel",
            "placeholder": "​",
            "_view_module": "@jupyter-widgets/controls",
            "_model_module_version": "1.5.0",
            "value": " 7401/7401 [00:02&lt;00:00, 2728.04it/s]",
            "_view_count": null,
            "_view_module_version": "1.5.0",
            "description_tooltip": null,
            "_model_module": "@jupyter-widgets/controls",
            "layout": "IPY_MODEL_86c3a554ef2b4ef99ca61b78f9a37843"
          }
        },
        "44b5d689bd6d42b4a8c9d7360848937a": {
          "model_module": "@jupyter-widgets/controls",
          "model_name": "ProgressStyleModel",
          "state": {
            "_view_name": "StyleView",
            "_model_name": "ProgressStyleModel",
            "description_width": "initial",
            "_view_module": "@jupyter-widgets/base",
            "_model_module_version": "1.5.0",
            "_view_count": null,
            "_view_module_version": "1.2.0",
            "bar_color": null,
            "_model_module": "@jupyter-widgets/controls"
          }
        },
        "feee0a8f816b47e885f951fa935381ff": {
          "model_module": "@jupyter-widgets/base",
          "model_name": "LayoutModel",
          "state": {
            "_view_name": "LayoutView",
            "grid_template_rows": null,
            "right": null,
            "justify_content": null,
            "_view_module": "@jupyter-widgets/base",
            "overflow": null,
            "_model_module_version": "1.2.0",
            "_view_count": null,
            "flex_flow": null,
            "width": null,
            "min_width": null,
            "border": null,
            "align_items": null,
            "bottom": null,
            "_model_module": "@jupyter-widgets/base",
            "top": null,
            "grid_column": null,
            "overflow_y": null,
            "overflow_x": null,
            "grid_auto_flow": null,
            "grid_area": null,
            "grid_template_columns": null,
            "flex": null,
            "_model_name": "LayoutModel",
            "justify_items": null,
            "grid_row": null,
            "max_height": null,
            "align_content": null,
            "visibility": null,
            "align_self": null,
            "height": null,
            "min_height": null,
            "padding": null,
            "grid_auto_rows": null,
            "grid_gap": null,
            "max_width": null,
            "order": null,
            "_view_module_version": "1.2.0",
            "grid_template_areas": null,
            "object_position": null,
            "object_fit": null,
            "grid_auto_columns": null,
            "margin": null,
            "display": null,
            "left": null
          }
        },
        "5f7805ee7b564c88be980439c8818cca": {
          "model_module": "@jupyter-widgets/controls",
          "model_name": "DescriptionStyleModel",
          "state": {
            "_view_name": "StyleView",
            "_model_name": "DescriptionStyleModel",
            "description_width": "",
            "_view_module": "@jupyter-widgets/base",
            "_model_module_version": "1.5.0",
            "_view_count": null,
            "_view_module_version": "1.2.0",
            "_model_module": "@jupyter-widgets/controls"
          }
        },
        "86c3a554ef2b4ef99ca61b78f9a37843": {
          "model_module": "@jupyter-widgets/base",
          "model_name": "LayoutModel",
          "state": {
            "_view_name": "LayoutView",
            "grid_template_rows": null,
            "right": null,
            "justify_content": null,
            "_view_module": "@jupyter-widgets/base",
            "overflow": null,
            "_model_module_version": "1.2.0",
            "_view_count": null,
            "flex_flow": null,
            "width": null,
            "min_width": null,
            "border": null,
            "align_items": null,
            "bottom": null,
            "_model_module": "@jupyter-widgets/base",
            "top": null,
            "grid_column": null,
            "overflow_y": null,
            "overflow_x": null,
            "grid_auto_flow": null,
            "grid_area": null,
            "grid_template_columns": null,
            "flex": null,
            "_model_name": "LayoutModel",
            "justify_items": null,
            "grid_row": null,
            "max_height": null,
            "align_content": null,
            "visibility": null,
            "align_self": null,
            "height": null,
            "min_height": null,
            "padding": null,
            "grid_auto_rows": null,
            "grid_gap": null,
            "max_width": null,
            "order": null,
            "_view_module_version": "1.2.0",
            "grid_template_areas": null,
            "object_position": null,
            "object_fit": null,
            "grid_auto_columns": null,
            "margin": null,
            "display": null,
            "left": null
          }
        },
        "2d054edbe9464893b3102637f233c615": {
          "model_module": "@jupyter-widgets/controls",
          "model_name": "HBoxModel",
          "state": {
            "_view_name": "HBoxView",
            "_dom_classes": [],
            "_model_name": "HBoxModel",
            "_view_module": "@jupyter-widgets/controls",
            "_model_module_version": "1.5.0",
            "_view_count": null,
            "_view_module_version": "1.5.0",
            "box_style": "",
            "layout": "IPY_MODEL_0c14261ea5bc498b94efa49d82330dca",
            "_model_module": "@jupyter-widgets/controls",
            "children": [
              "IPY_MODEL_b70f7e60638149e2b3e184c00ec69376",
              "IPY_MODEL_0914057337374a9595dd6bb50b75f01b"
            ]
          }
        },
        "0c14261ea5bc498b94efa49d82330dca": {
          "model_module": "@jupyter-widgets/base",
          "model_name": "LayoutModel",
          "state": {
            "_view_name": "LayoutView",
            "grid_template_rows": null,
            "right": null,
            "justify_content": null,
            "_view_module": "@jupyter-widgets/base",
            "overflow": null,
            "_model_module_version": "1.2.0",
            "_view_count": null,
            "flex_flow": null,
            "width": null,
            "min_width": null,
            "border": null,
            "align_items": null,
            "bottom": null,
            "_model_module": "@jupyter-widgets/base",
            "top": null,
            "grid_column": null,
            "overflow_y": null,
            "overflow_x": null,
            "grid_auto_flow": null,
            "grid_area": null,
            "grid_template_columns": null,
            "flex": null,
            "_model_name": "LayoutModel",
            "justify_items": null,
            "grid_row": null,
            "max_height": null,
            "align_content": null,
            "visibility": null,
            "align_self": null,
            "height": null,
            "min_height": null,
            "padding": null,
            "grid_auto_rows": null,
            "grid_gap": null,
            "max_width": null,
            "order": null,
            "_view_module_version": "1.2.0",
            "grid_template_areas": null,
            "object_position": null,
            "object_fit": null,
            "grid_auto_columns": null,
            "margin": null,
            "display": null,
            "left": null
          }
        },
        "b70f7e60638149e2b3e184c00ec69376": {
          "model_module": "@jupyter-widgets/controls",
          "model_name": "FloatProgressModel",
          "state": {
            "_view_name": "ProgressView",
            "style": "IPY_MODEL_1c7a99593e2f4b448d455edb7ac86f61",
            "_dom_classes": [],
            "description": "100%",
            "_model_name": "FloatProgressModel",
            "bar_style": "success",
            "max": 7401,
            "_view_module": "@jupyter-widgets/controls",
            "_model_module_version": "1.5.0",
            "value": 7401,
            "_view_count": null,
            "_view_module_version": "1.5.0",
            "orientation": "horizontal",
            "min": 0,
            "description_tooltip": null,
            "_model_module": "@jupyter-widgets/controls",
            "layout": "IPY_MODEL_7f3da842c3e24c17bc639d621bf027ea"
          }
        },
        "0914057337374a9595dd6bb50b75f01b": {
          "model_module": "@jupyter-widgets/controls",
          "model_name": "HTMLModel",
          "state": {
            "_view_name": "HTMLView",
            "style": "IPY_MODEL_b402c43ca4704d47a39ee5b1844452cf",
            "_dom_classes": [],
            "description": "",
            "_model_name": "HTMLModel",
            "placeholder": "​",
            "_view_module": "@jupyter-widgets/controls",
            "_model_module_version": "1.5.0",
            "value": " 7401/7401 [00:05&lt;00:00, 1338.65it/s]",
            "_view_count": null,
            "_view_module_version": "1.5.0",
            "description_tooltip": null,
            "_model_module": "@jupyter-widgets/controls",
            "layout": "IPY_MODEL_77d7f6640aff4c9ebd6ff4226342e26e"
          }
        },
        "1c7a99593e2f4b448d455edb7ac86f61": {
          "model_module": "@jupyter-widgets/controls",
          "model_name": "ProgressStyleModel",
          "state": {
            "_view_name": "StyleView",
            "_model_name": "ProgressStyleModel",
            "description_width": "initial",
            "_view_module": "@jupyter-widgets/base",
            "_model_module_version": "1.5.0",
            "_view_count": null,
            "_view_module_version": "1.2.0",
            "bar_color": null,
            "_model_module": "@jupyter-widgets/controls"
          }
        },
        "7f3da842c3e24c17bc639d621bf027ea": {
          "model_module": "@jupyter-widgets/base",
          "model_name": "LayoutModel",
          "state": {
            "_view_name": "LayoutView",
            "grid_template_rows": null,
            "right": null,
            "justify_content": null,
            "_view_module": "@jupyter-widgets/base",
            "overflow": null,
            "_model_module_version": "1.2.0",
            "_view_count": null,
            "flex_flow": null,
            "width": null,
            "min_width": null,
            "border": null,
            "align_items": null,
            "bottom": null,
            "_model_module": "@jupyter-widgets/base",
            "top": null,
            "grid_column": null,
            "overflow_y": null,
            "overflow_x": null,
            "grid_auto_flow": null,
            "grid_area": null,
            "grid_template_columns": null,
            "flex": null,
            "_model_name": "LayoutModel",
            "justify_items": null,
            "grid_row": null,
            "max_height": null,
            "align_content": null,
            "visibility": null,
            "align_self": null,
            "height": null,
            "min_height": null,
            "padding": null,
            "grid_auto_rows": null,
            "grid_gap": null,
            "max_width": null,
            "order": null,
            "_view_module_version": "1.2.0",
            "grid_template_areas": null,
            "object_position": null,
            "object_fit": null,
            "grid_auto_columns": null,
            "margin": null,
            "display": null,
            "left": null
          }
        },
        "b402c43ca4704d47a39ee5b1844452cf": {
          "model_module": "@jupyter-widgets/controls",
          "model_name": "DescriptionStyleModel",
          "state": {
            "_view_name": "StyleView",
            "_model_name": "DescriptionStyleModel",
            "description_width": "",
            "_view_module": "@jupyter-widgets/base",
            "_model_module_version": "1.5.0",
            "_view_count": null,
            "_view_module_version": "1.2.0",
            "_model_module": "@jupyter-widgets/controls"
          }
        },
        "77d7f6640aff4c9ebd6ff4226342e26e": {
          "model_module": "@jupyter-widgets/base",
          "model_name": "LayoutModel",
          "state": {
            "_view_name": "LayoutView",
            "grid_template_rows": null,
            "right": null,
            "justify_content": null,
            "_view_module": "@jupyter-widgets/base",
            "overflow": null,
            "_model_module_version": "1.2.0",
            "_view_count": null,
            "flex_flow": null,
            "width": null,
            "min_width": null,
            "border": null,
            "align_items": null,
            "bottom": null,
            "_model_module": "@jupyter-widgets/base",
            "top": null,
            "grid_column": null,
            "overflow_y": null,
            "overflow_x": null,
            "grid_auto_flow": null,
            "grid_area": null,
            "grid_template_columns": null,
            "flex": null,
            "_model_name": "LayoutModel",
            "justify_items": null,
            "grid_row": null,
            "max_height": null,
            "align_content": null,
            "visibility": null,
            "align_self": null,
            "height": null,
            "min_height": null,
            "padding": null,
            "grid_auto_rows": null,
            "grid_gap": null,
            "max_width": null,
            "order": null,
            "_view_module_version": "1.2.0",
            "grid_template_areas": null,
            "object_position": null,
            "object_fit": null,
            "grid_auto_columns": null,
            "margin": null,
            "display": null,
            "left": null
          }
        },
        "f4bb1d1fd47e4489ae7d63b73970e4ca": {
          "model_module": "@jupyter-widgets/controls",
          "model_name": "HBoxModel",
          "state": {
            "_view_name": "HBoxView",
            "_dom_classes": [],
            "_model_name": "HBoxModel",
            "_view_module": "@jupyter-widgets/controls",
            "_model_module_version": "1.5.0",
            "_view_count": null,
            "_view_module_version": "1.5.0",
            "box_style": "",
            "layout": "IPY_MODEL_a8d46179bc764acdb1741f04d58f2d20",
            "_model_module": "@jupyter-widgets/controls",
            "children": [
              "IPY_MODEL_5b33a7d6e32e41bd9778e3e2dba23925",
              "IPY_MODEL_a8ceeee8200a4cf2ab2fe500a11a4cc1"
            ]
          }
        },
        "a8d46179bc764acdb1741f04d58f2d20": {
          "model_module": "@jupyter-widgets/base",
          "model_name": "LayoutModel",
          "state": {
            "_view_name": "LayoutView",
            "grid_template_rows": null,
            "right": null,
            "justify_content": null,
            "_view_module": "@jupyter-widgets/base",
            "overflow": null,
            "_model_module_version": "1.2.0",
            "_view_count": null,
            "flex_flow": null,
            "width": null,
            "min_width": null,
            "border": null,
            "align_items": null,
            "bottom": null,
            "_model_module": "@jupyter-widgets/base",
            "top": null,
            "grid_column": null,
            "overflow_y": null,
            "overflow_x": null,
            "grid_auto_flow": null,
            "grid_area": null,
            "grid_template_columns": null,
            "flex": null,
            "_model_name": "LayoutModel",
            "justify_items": null,
            "grid_row": null,
            "max_height": null,
            "align_content": null,
            "visibility": null,
            "align_self": null,
            "height": null,
            "min_height": null,
            "padding": null,
            "grid_auto_rows": null,
            "grid_gap": null,
            "max_width": null,
            "order": null,
            "_view_module_version": "1.2.0",
            "grid_template_areas": null,
            "object_position": null,
            "object_fit": null,
            "grid_auto_columns": null,
            "margin": null,
            "display": null,
            "left": null
          }
        },
        "5b33a7d6e32e41bd9778e3e2dba23925": {
          "model_module": "@jupyter-widgets/controls",
          "model_name": "FloatProgressModel",
          "state": {
            "_view_name": "ProgressView",
            "style": "IPY_MODEL_788be8b2247b4da58d5305b13e7ad477",
            "_dom_classes": [],
            "description": "100%",
            "_model_name": "FloatProgressModel",
            "bar_style": "success",
            "max": 823,
            "_view_module": "@jupyter-widgets/controls",
            "_model_module_version": "1.5.0",
            "value": 823,
            "_view_count": null,
            "_view_module_version": "1.5.0",
            "orientation": "horizontal",
            "min": 0,
            "description_tooltip": null,
            "_model_module": "@jupyter-widgets/controls",
            "layout": "IPY_MODEL_819e1494d94940ebb28af7b216f73977"
          }
        },
        "a8ceeee8200a4cf2ab2fe500a11a4cc1": {
          "model_module": "@jupyter-widgets/controls",
          "model_name": "HTMLModel",
          "state": {
            "_view_name": "HTMLView",
            "style": "IPY_MODEL_52d48a867e7d409b8e3a6b2cab4fa1fe",
            "_dom_classes": [],
            "description": "",
            "_model_name": "HTMLModel",
            "placeholder": "​",
            "_view_module": "@jupyter-widgets/controls",
            "_model_module_version": "1.5.0",
            "value": " 823/823 [00:00&lt;00:00, 22678.02it/s]",
            "_view_count": null,
            "_view_module_version": "1.5.0",
            "description_tooltip": null,
            "_model_module": "@jupyter-widgets/controls",
            "layout": "IPY_MODEL_7f412db5ec5a44f3a4ab6d86dd9570d7"
          }
        },
        "788be8b2247b4da58d5305b13e7ad477": {
          "model_module": "@jupyter-widgets/controls",
          "model_name": "ProgressStyleModel",
          "state": {
            "_view_name": "StyleView",
            "_model_name": "ProgressStyleModel",
            "description_width": "initial",
            "_view_module": "@jupyter-widgets/base",
            "_model_module_version": "1.5.0",
            "_view_count": null,
            "_view_module_version": "1.2.0",
            "bar_color": null,
            "_model_module": "@jupyter-widgets/controls"
          }
        },
        "819e1494d94940ebb28af7b216f73977": {
          "model_module": "@jupyter-widgets/base",
          "model_name": "LayoutModel",
          "state": {
            "_view_name": "LayoutView",
            "grid_template_rows": null,
            "right": null,
            "justify_content": null,
            "_view_module": "@jupyter-widgets/base",
            "overflow": null,
            "_model_module_version": "1.2.0",
            "_view_count": null,
            "flex_flow": null,
            "width": null,
            "min_width": null,
            "border": null,
            "align_items": null,
            "bottom": null,
            "_model_module": "@jupyter-widgets/base",
            "top": null,
            "grid_column": null,
            "overflow_y": null,
            "overflow_x": null,
            "grid_auto_flow": null,
            "grid_area": null,
            "grid_template_columns": null,
            "flex": null,
            "_model_name": "LayoutModel",
            "justify_items": null,
            "grid_row": null,
            "max_height": null,
            "align_content": null,
            "visibility": null,
            "align_self": null,
            "height": null,
            "min_height": null,
            "padding": null,
            "grid_auto_rows": null,
            "grid_gap": null,
            "max_width": null,
            "order": null,
            "_view_module_version": "1.2.0",
            "grid_template_areas": null,
            "object_position": null,
            "object_fit": null,
            "grid_auto_columns": null,
            "margin": null,
            "display": null,
            "left": null
          }
        },
        "52d48a867e7d409b8e3a6b2cab4fa1fe": {
          "model_module": "@jupyter-widgets/controls",
          "model_name": "DescriptionStyleModel",
          "state": {
            "_view_name": "StyleView",
            "_model_name": "DescriptionStyleModel",
            "description_width": "",
            "_view_module": "@jupyter-widgets/base",
            "_model_module_version": "1.5.0",
            "_view_count": null,
            "_view_module_version": "1.2.0",
            "_model_module": "@jupyter-widgets/controls"
          }
        },
        "7f412db5ec5a44f3a4ab6d86dd9570d7": {
          "model_module": "@jupyter-widgets/base",
          "model_name": "LayoutModel",
          "state": {
            "_view_name": "LayoutView",
            "grid_template_rows": null,
            "right": null,
            "justify_content": null,
            "_view_module": "@jupyter-widgets/base",
            "overflow": null,
            "_model_module_version": "1.2.0",
            "_view_count": null,
            "flex_flow": null,
            "width": null,
            "min_width": null,
            "border": null,
            "align_items": null,
            "bottom": null,
            "_model_module": "@jupyter-widgets/base",
            "top": null,
            "grid_column": null,
            "overflow_y": null,
            "overflow_x": null,
            "grid_auto_flow": null,
            "grid_area": null,
            "grid_template_columns": null,
            "flex": null,
            "_model_name": "LayoutModel",
            "justify_items": null,
            "grid_row": null,
            "max_height": null,
            "align_content": null,
            "visibility": null,
            "align_self": null,
            "height": null,
            "min_height": null,
            "padding": null,
            "grid_auto_rows": null,
            "grid_gap": null,
            "max_width": null,
            "order": null,
            "_view_module_version": "1.2.0",
            "grid_template_areas": null,
            "object_position": null,
            "object_fit": null,
            "grid_auto_columns": null,
            "margin": null,
            "display": null,
            "left": null
          }
        },
        "d3e8b5c02ea644bbbd7477c22e935df9": {
          "model_module": "@jupyter-widgets/controls",
          "model_name": "HBoxModel",
          "state": {
            "_view_name": "HBoxView",
            "_dom_classes": [],
            "_model_name": "HBoxModel",
            "_view_module": "@jupyter-widgets/controls",
            "_model_module_version": "1.5.0",
            "_view_count": null,
            "_view_module_version": "1.5.0",
            "box_style": "",
            "layout": "IPY_MODEL_ee173b8a97c940409a390d625d7b01f8",
            "_model_module": "@jupyter-widgets/controls",
            "children": [
              "IPY_MODEL_67bca4c2064f4a2ba9b479c33c1f96c4",
              "IPY_MODEL_16e13a39beaf4191a4eb6c855072f846"
            ]
          }
        },
        "ee173b8a97c940409a390d625d7b01f8": {
          "model_module": "@jupyter-widgets/base",
          "model_name": "LayoutModel",
          "state": {
            "_view_name": "LayoutView",
            "grid_template_rows": null,
            "right": null,
            "justify_content": null,
            "_view_module": "@jupyter-widgets/base",
            "overflow": null,
            "_model_module_version": "1.2.0",
            "_view_count": null,
            "flex_flow": null,
            "width": null,
            "min_width": null,
            "border": null,
            "align_items": null,
            "bottom": null,
            "_model_module": "@jupyter-widgets/base",
            "top": null,
            "grid_column": null,
            "overflow_y": null,
            "overflow_x": null,
            "grid_auto_flow": null,
            "grid_area": null,
            "grid_template_columns": null,
            "flex": null,
            "_model_name": "LayoutModel",
            "justify_items": null,
            "grid_row": null,
            "max_height": null,
            "align_content": null,
            "visibility": null,
            "align_self": null,
            "height": null,
            "min_height": null,
            "padding": null,
            "grid_auto_rows": null,
            "grid_gap": null,
            "max_width": null,
            "order": null,
            "_view_module_version": "1.2.0",
            "grid_template_areas": null,
            "object_position": null,
            "object_fit": null,
            "grid_auto_columns": null,
            "margin": null,
            "display": null,
            "left": null
          }
        },
        "67bca4c2064f4a2ba9b479c33c1f96c4": {
          "model_module": "@jupyter-widgets/controls",
          "model_name": "FloatProgressModel",
          "state": {
            "_view_name": "ProgressView",
            "style": "IPY_MODEL_ed740691c5d44e12991f043da46429c4",
            "_dom_classes": [],
            "description": "100%",
            "_model_name": "FloatProgressModel",
            "bar_style": "success",
            "max": 823,
            "_view_module": "@jupyter-widgets/controls",
            "_model_module_version": "1.5.0",
            "value": 823,
            "_view_count": null,
            "_view_module_version": "1.5.0",
            "orientation": "horizontal",
            "min": 0,
            "description_tooltip": null,
            "_model_module": "@jupyter-widgets/controls",
            "layout": "IPY_MODEL_2915ce694452479fb1a8c9366ebafc8b"
          }
        },
        "16e13a39beaf4191a4eb6c855072f846": {
          "model_module": "@jupyter-widgets/controls",
          "model_name": "HTMLModel",
          "state": {
            "_view_name": "HTMLView",
            "style": "IPY_MODEL_bd3fb2da48c541e8897a350e9f3d4919",
            "_dom_classes": [],
            "description": "",
            "_model_name": "HTMLModel",
            "placeholder": "​",
            "_view_module": "@jupyter-widgets/controls",
            "_model_module_version": "1.5.0",
            "value": " 823/823 [00:24&lt;00:00, 33.31it/s]",
            "_view_count": null,
            "_view_module_version": "1.5.0",
            "description_tooltip": null,
            "_model_module": "@jupyter-widgets/controls",
            "layout": "IPY_MODEL_8ae158d411f148209a1d4868a6a7fc8f"
          }
        },
        "ed740691c5d44e12991f043da46429c4": {
          "model_module": "@jupyter-widgets/controls",
          "model_name": "ProgressStyleModel",
          "state": {
            "_view_name": "StyleView",
            "_model_name": "ProgressStyleModel",
            "description_width": "initial",
            "_view_module": "@jupyter-widgets/base",
            "_model_module_version": "1.5.0",
            "_view_count": null,
            "_view_module_version": "1.2.0",
            "bar_color": null,
            "_model_module": "@jupyter-widgets/controls"
          }
        },
        "2915ce694452479fb1a8c9366ebafc8b": {
          "model_module": "@jupyter-widgets/base",
          "model_name": "LayoutModel",
          "state": {
            "_view_name": "LayoutView",
            "grid_template_rows": null,
            "right": null,
            "justify_content": null,
            "_view_module": "@jupyter-widgets/base",
            "overflow": null,
            "_model_module_version": "1.2.0",
            "_view_count": null,
            "flex_flow": null,
            "width": null,
            "min_width": null,
            "border": null,
            "align_items": null,
            "bottom": null,
            "_model_module": "@jupyter-widgets/base",
            "top": null,
            "grid_column": null,
            "overflow_y": null,
            "overflow_x": null,
            "grid_auto_flow": null,
            "grid_area": null,
            "grid_template_columns": null,
            "flex": null,
            "_model_name": "LayoutModel",
            "justify_items": null,
            "grid_row": null,
            "max_height": null,
            "align_content": null,
            "visibility": null,
            "align_self": null,
            "height": null,
            "min_height": null,
            "padding": null,
            "grid_auto_rows": null,
            "grid_gap": null,
            "max_width": null,
            "order": null,
            "_view_module_version": "1.2.0",
            "grid_template_areas": null,
            "object_position": null,
            "object_fit": null,
            "grid_auto_columns": null,
            "margin": null,
            "display": null,
            "left": null
          }
        },
        "bd3fb2da48c541e8897a350e9f3d4919": {
          "model_module": "@jupyter-widgets/controls",
          "model_name": "DescriptionStyleModel",
          "state": {
            "_view_name": "StyleView",
            "_model_name": "DescriptionStyleModel",
            "description_width": "",
            "_view_module": "@jupyter-widgets/base",
            "_model_module_version": "1.5.0",
            "_view_count": null,
            "_view_module_version": "1.2.0",
            "_model_module": "@jupyter-widgets/controls"
          }
        },
        "8ae158d411f148209a1d4868a6a7fc8f": {
          "model_module": "@jupyter-widgets/base",
          "model_name": "LayoutModel",
          "state": {
            "_view_name": "LayoutView",
            "grid_template_rows": null,
            "right": null,
            "justify_content": null,
            "_view_module": "@jupyter-widgets/base",
            "overflow": null,
            "_model_module_version": "1.2.0",
            "_view_count": null,
            "flex_flow": null,
            "width": null,
            "min_width": null,
            "border": null,
            "align_items": null,
            "bottom": null,
            "_model_module": "@jupyter-widgets/base",
            "top": null,
            "grid_column": null,
            "overflow_y": null,
            "overflow_x": null,
            "grid_auto_flow": null,
            "grid_area": null,
            "grid_template_columns": null,
            "flex": null,
            "_model_name": "LayoutModel",
            "justify_items": null,
            "grid_row": null,
            "max_height": null,
            "align_content": null,
            "visibility": null,
            "align_self": null,
            "height": null,
            "min_height": null,
            "padding": null,
            "grid_auto_rows": null,
            "grid_gap": null,
            "max_width": null,
            "order": null,
            "_view_module_version": "1.2.0",
            "grid_template_areas": null,
            "object_position": null,
            "object_fit": null,
            "grid_auto_columns": null,
            "margin": null,
            "display": null,
            "left": null
          }
        },
        "829a60a9711c41c1af08f357781c09f6": {
          "model_module": "@jupyter-widgets/controls",
          "model_name": "HBoxModel",
          "state": {
            "_view_name": "HBoxView",
            "_dom_classes": [],
            "_model_name": "HBoxModel",
            "_view_module": "@jupyter-widgets/controls",
            "_model_module_version": "1.5.0",
            "_view_count": null,
            "_view_module_version": "1.5.0",
            "box_style": "",
            "layout": "IPY_MODEL_a457d566379a4ed4a529ce14d5b33e62",
            "_model_module": "@jupyter-widgets/controls",
            "children": [
              "IPY_MODEL_8a60d00ba38d4866b88182a4039c63bb",
              "IPY_MODEL_3a7baa2f30fb4207a34570c0a4fd746c"
            ]
          }
        },
        "a457d566379a4ed4a529ce14d5b33e62": {
          "model_module": "@jupyter-widgets/base",
          "model_name": "LayoutModel",
          "state": {
            "_view_name": "LayoutView",
            "grid_template_rows": null,
            "right": null,
            "justify_content": null,
            "_view_module": "@jupyter-widgets/base",
            "overflow": null,
            "_model_module_version": "1.2.0",
            "_view_count": null,
            "flex_flow": null,
            "width": null,
            "min_width": null,
            "border": null,
            "align_items": null,
            "bottom": null,
            "_model_module": "@jupyter-widgets/base",
            "top": null,
            "grid_column": null,
            "overflow_y": null,
            "overflow_x": null,
            "grid_auto_flow": null,
            "grid_area": null,
            "grid_template_columns": null,
            "flex": null,
            "_model_name": "LayoutModel",
            "justify_items": null,
            "grid_row": null,
            "max_height": null,
            "align_content": null,
            "visibility": null,
            "align_self": null,
            "height": null,
            "min_height": null,
            "padding": null,
            "grid_auto_rows": null,
            "grid_gap": null,
            "max_width": null,
            "order": null,
            "_view_module_version": "1.2.0",
            "grid_template_areas": null,
            "object_position": null,
            "object_fit": null,
            "grid_auto_columns": null,
            "margin": null,
            "display": null,
            "left": null
          }
        },
        "8a60d00ba38d4866b88182a4039c63bb": {
          "model_module": "@jupyter-widgets/controls",
          "model_name": "FloatProgressModel",
          "state": {
            "_view_name": "ProgressView",
            "style": "IPY_MODEL_85ac86aad8d744819e3e36c524532163",
            "_dom_classes": [],
            "description": "100%",
            "_model_name": "FloatProgressModel",
            "bar_style": "success",
            "max": 914,
            "_view_module": "@jupyter-widgets/controls",
            "_model_module_version": "1.5.0",
            "value": 914,
            "_view_count": null,
            "_view_module_version": "1.5.0",
            "orientation": "horizontal",
            "min": 0,
            "description_tooltip": null,
            "_model_module": "@jupyter-widgets/controls",
            "layout": "IPY_MODEL_fe28b43e45d14bc18a2ca231ae955fbe"
          }
        },
        "3a7baa2f30fb4207a34570c0a4fd746c": {
          "model_module": "@jupyter-widgets/controls",
          "model_name": "HTMLModel",
          "state": {
            "_view_name": "HTMLView",
            "style": "IPY_MODEL_f7a69ede818e4c21921c179e767f9269",
            "_dom_classes": [],
            "description": "",
            "_model_name": "HTMLModel",
            "placeholder": "​",
            "_view_module": "@jupyter-widgets/controls",
            "_model_module_version": "1.5.0",
            "value": " 914/914 [00:00&lt;00:00, 2689.65it/s]",
            "_view_count": null,
            "_view_module_version": "1.5.0",
            "description_tooltip": null,
            "_model_module": "@jupyter-widgets/controls",
            "layout": "IPY_MODEL_2667fbc878584431b6f74e057f456887"
          }
        },
        "85ac86aad8d744819e3e36c524532163": {
          "model_module": "@jupyter-widgets/controls",
          "model_name": "ProgressStyleModel",
          "state": {
            "_view_name": "StyleView",
            "_model_name": "ProgressStyleModel",
            "description_width": "initial",
            "_view_module": "@jupyter-widgets/base",
            "_model_module_version": "1.5.0",
            "_view_count": null,
            "_view_module_version": "1.2.0",
            "bar_color": null,
            "_model_module": "@jupyter-widgets/controls"
          }
        },
        "fe28b43e45d14bc18a2ca231ae955fbe": {
          "model_module": "@jupyter-widgets/base",
          "model_name": "LayoutModel",
          "state": {
            "_view_name": "LayoutView",
            "grid_template_rows": null,
            "right": null,
            "justify_content": null,
            "_view_module": "@jupyter-widgets/base",
            "overflow": null,
            "_model_module_version": "1.2.0",
            "_view_count": null,
            "flex_flow": null,
            "width": null,
            "min_width": null,
            "border": null,
            "align_items": null,
            "bottom": null,
            "_model_module": "@jupyter-widgets/base",
            "top": null,
            "grid_column": null,
            "overflow_y": null,
            "overflow_x": null,
            "grid_auto_flow": null,
            "grid_area": null,
            "grid_template_columns": null,
            "flex": null,
            "_model_name": "LayoutModel",
            "justify_items": null,
            "grid_row": null,
            "max_height": null,
            "align_content": null,
            "visibility": null,
            "align_self": null,
            "height": null,
            "min_height": null,
            "padding": null,
            "grid_auto_rows": null,
            "grid_gap": null,
            "max_width": null,
            "order": null,
            "_view_module_version": "1.2.0",
            "grid_template_areas": null,
            "object_position": null,
            "object_fit": null,
            "grid_auto_columns": null,
            "margin": null,
            "display": null,
            "left": null
          }
        },
        "f7a69ede818e4c21921c179e767f9269": {
          "model_module": "@jupyter-widgets/controls",
          "model_name": "DescriptionStyleModel",
          "state": {
            "_view_name": "StyleView",
            "_model_name": "DescriptionStyleModel",
            "description_width": "",
            "_view_module": "@jupyter-widgets/base",
            "_model_module_version": "1.5.0",
            "_view_count": null,
            "_view_module_version": "1.2.0",
            "_model_module": "@jupyter-widgets/controls"
          }
        },
        "2667fbc878584431b6f74e057f456887": {
          "model_module": "@jupyter-widgets/base",
          "model_name": "LayoutModel",
          "state": {
            "_view_name": "LayoutView",
            "grid_template_rows": null,
            "right": null,
            "justify_content": null,
            "_view_module": "@jupyter-widgets/base",
            "overflow": null,
            "_model_module_version": "1.2.0",
            "_view_count": null,
            "flex_flow": null,
            "width": null,
            "min_width": null,
            "border": null,
            "align_items": null,
            "bottom": null,
            "_model_module": "@jupyter-widgets/base",
            "top": null,
            "grid_column": null,
            "overflow_y": null,
            "overflow_x": null,
            "grid_auto_flow": null,
            "grid_area": null,
            "grid_template_columns": null,
            "flex": null,
            "_model_name": "LayoutModel",
            "justify_items": null,
            "grid_row": null,
            "max_height": null,
            "align_content": null,
            "visibility": null,
            "align_self": null,
            "height": null,
            "min_height": null,
            "padding": null,
            "grid_auto_rows": null,
            "grid_gap": null,
            "max_width": null,
            "order": null,
            "_view_module_version": "1.2.0",
            "grid_template_areas": null,
            "object_position": null,
            "object_fit": null,
            "grid_auto_columns": null,
            "margin": null,
            "display": null,
            "left": null
          }
        },
        "7e5906ea2615448cb47f7d1c590f64c7": {
          "model_module": "@jupyter-widgets/controls",
          "model_name": "HBoxModel",
          "state": {
            "_view_name": "HBoxView",
            "_dom_classes": [],
            "_model_name": "HBoxModel",
            "_view_module": "@jupyter-widgets/controls",
            "_model_module_version": "1.5.0",
            "_view_count": null,
            "_view_module_version": "1.5.0",
            "box_style": "",
            "layout": "IPY_MODEL_fc22744114d64b52964b6b15cdd880bc",
            "_model_module": "@jupyter-widgets/controls",
            "children": [
              "IPY_MODEL_188944f057064cebaf217cf5831d6ca3",
              "IPY_MODEL_23fb730f8b0b4688adc8d7bae523bb6d"
            ]
          }
        },
        "fc22744114d64b52964b6b15cdd880bc": {
          "model_module": "@jupyter-widgets/base",
          "model_name": "LayoutModel",
          "state": {
            "_view_name": "LayoutView",
            "grid_template_rows": null,
            "right": null,
            "justify_content": null,
            "_view_module": "@jupyter-widgets/base",
            "overflow": null,
            "_model_module_version": "1.2.0",
            "_view_count": null,
            "flex_flow": null,
            "width": null,
            "min_width": null,
            "border": null,
            "align_items": null,
            "bottom": null,
            "_model_module": "@jupyter-widgets/base",
            "top": null,
            "grid_column": null,
            "overflow_y": null,
            "overflow_x": null,
            "grid_auto_flow": null,
            "grid_area": null,
            "grid_template_columns": null,
            "flex": null,
            "_model_name": "LayoutModel",
            "justify_items": null,
            "grid_row": null,
            "max_height": null,
            "align_content": null,
            "visibility": null,
            "align_self": null,
            "height": null,
            "min_height": null,
            "padding": null,
            "grid_auto_rows": null,
            "grid_gap": null,
            "max_width": null,
            "order": null,
            "_view_module_version": "1.2.0",
            "grid_template_areas": null,
            "object_position": null,
            "object_fit": null,
            "grid_auto_columns": null,
            "margin": null,
            "display": null,
            "left": null
          }
        },
        "188944f057064cebaf217cf5831d6ca3": {
          "model_module": "@jupyter-widgets/controls",
          "model_name": "FloatProgressModel",
          "state": {
            "_view_name": "ProgressView",
            "style": "IPY_MODEL_0a3783646a82460ca7280dbd9cb3aee6",
            "_dom_classes": [],
            "description": "100%",
            "_model_name": "FloatProgressModel",
            "bar_style": "success",
            "max": 914,
            "_view_module": "@jupyter-widgets/controls",
            "_model_module_version": "1.5.0",
            "value": 914,
            "_view_count": null,
            "_view_module_version": "1.5.0",
            "orientation": "horizontal",
            "min": 0,
            "description_tooltip": null,
            "_model_module": "@jupyter-widgets/controls",
            "layout": "IPY_MODEL_74a1d1b925f84ae78dc09b761e5a992b"
          }
        },
        "23fb730f8b0b4688adc8d7bae523bb6d": {
          "model_module": "@jupyter-widgets/controls",
          "model_name": "HTMLModel",
          "state": {
            "_view_name": "HTMLView",
            "style": "IPY_MODEL_3de502f8f43142f291ad2afe3fcc22c0",
            "_dom_classes": [],
            "description": "",
            "_model_name": "HTMLModel",
            "placeholder": "​",
            "_view_module": "@jupyter-widgets/controls",
            "_model_module_version": "1.5.0",
            "value": " 914/914 [00:00&lt;00:00, 11710.03it/s]",
            "_view_count": null,
            "_view_module_version": "1.5.0",
            "description_tooltip": null,
            "_model_module": "@jupyter-widgets/controls",
            "layout": "IPY_MODEL_9b573b6a305a4a7d8e59fb914e31394b"
          }
        },
        "0a3783646a82460ca7280dbd9cb3aee6": {
          "model_module": "@jupyter-widgets/controls",
          "model_name": "ProgressStyleModel",
          "state": {
            "_view_name": "StyleView",
            "_model_name": "ProgressStyleModel",
            "description_width": "initial",
            "_view_module": "@jupyter-widgets/base",
            "_model_module_version": "1.5.0",
            "_view_count": null,
            "_view_module_version": "1.2.0",
            "bar_color": null,
            "_model_module": "@jupyter-widgets/controls"
          }
        },
        "74a1d1b925f84ae78dc09b761e5a992b": {
          "model_module": "@jupyter-widgets/base",
          "model_name": "LayoutModel",
          "state": {
            "_view_name": "LayoutView",
            "grid_template_rows": null,
            "right": null,
            "justify_content": null,
            "_view_module": "@jupyter-widgets/base",
            "overflow": null,
            "_model_module_version": "1.2.0",
            "_view_count": null,
            "flex_flow": null,
            "width": null,
            "min_width": null,
            "border": null,
            "align_items": null,
            "bottom": null,
            "_model_module": "@jupyter-widgets/base",
            "top": null,
            "grid_column": null,
            "overflow_y": null,
            "overflow_x": null,
            "grid_auto_flow": null,
            "grid_area": null,
            "grid_template_columns": null,
            "flex": null,
            "_model_name": "LayoutModel",
            "justify_items": null,
            "grid_row": null,
            "max_height": null,
            "align_content": null,
            "visibility": null,
            "align_self": null,
            "height": null,
            "min_height": null,
            "padding": null,
            "grid_auto_rows": null,
            "grid_gap": null,
            "max_width": null,
            "order": null,
            "_view_module_version": "1.2.0",
            "grid_template_areas": null,
            "object_position": null,
            "object_fit": null,
            "grid_auto_columns": null,
            "margin": null,
            "display": null,
            "left": null
          }
        },
        "3de502f8f43142f291ad2afe3fcc22c0": {
          "model_module": "@jupyter-widgets/controls",
          "model_name": "DescriptionStyleModel",
          "state": {
            "_view_name": "StyleView",
            "_model_name": "DescriptionStyleModel",
            "description_width": "",
            "_view_module": "@jupyter-widgets/base",
            "_model_module_version": "1.5.0",
            "_view_count": null,
            "_view_module_version": "1.2.0",
            "_model_module": "@jupyter-widgets/controls"
          }
        },
        "9b573b6a305a4a7d8e59fb914e31394b": {
          "model_module": "@jupyter-widgets/base",
          "model_name": "LayoutModel",
          "state": {
            "_view_name": "LayoutView",
            "grid_template_rows": null,
            "right": null,
            "justify_content": null,
            "_view_module": "@jupyter-widgets/base",
            "overflow": null,
            "_model_module_version": "1.2.0",
            "_view_count": null,
            "flex_flow": null,
            "width": null,
            "min_width": null,
            "border": null,
            "align_items": null,
            "bottom": null,
            "_model_module": "@jupyter-widgets/base",
            "top": null,
            "grid_column": null,
            "overflow_y": null,
            "overflow_x": null,
            "grid_auto_flow": null,
            "grid_area": null,
            "grid_template_columns": null,
            "flex": null,
            "_model_name": "LayoutModel",
            "justify_items": null,
            "grid_row": null,
            "max_height": null,
            "align_content": null,
            "visibility": null,
            "align_self": null,
            "height": null,
            "min_height": null,
            "padding": null,
            "grid_auto_rows": null,
            "grid_gap": null,
            "max_width": null,
            "order": null,
            "_view_module_version": "1.2.0",
            "grid_template_areas": null,
            "object_position": null,
            "object_fit": null,
            "grid_auto_columns": null,
            "margin": null,
            "display": null,
            "left": null
          }
        },
        "0ff9b678b13a4ed091ba7cfcecccfc21": {
          "model_module": "@jupyter-widgets/controls",
          "model_name": "HBoxModel",
          "state": {
            "_view_name": "HBoxView",
            "_dom_classes": [],
            "_model_name": "HBoxModel",
            "_view_module": "@jupyter-widgets/controls",
            "_model_module_version": "1.5.0",
            "_view_count": null,
            "_view_module_version": "1.5.0",
            "box_style": "",
            "layout": "IPY_MODEL_05a8e1b42be345ab8e01b53be35b8393",
            "_model_module": "@jupyter-widgets/controls",
            "children": [
              "IPY_MODEL_0b6a0269c86e4ee19aeb3ba6d8456f3b",
              "IPY_MODEL_c0b014be66ea4ed5930e2718ec5b6933"
            ]
          }
        },
        "05a8e1b42be345ab8e01b53be35b8393": {
          "model_module": "@jupyter-widgets/base",
          "model_name": "LayoutModel",
          "state": {
            "_view_name": "LayoutView",
            "grid_template_rows": null,
            "right": null,
            "justify_content": null,
            "_view_module": "@jupyter-widgets/base",
            "overflow": null,
            "_model_module_version": "1.2.0",
            "_view_count": null,
            "flex_flow": null,
            "width": null,
            "min_width": null,
            "border": null,
            "align_items": null,
            "bottom": null,
            "_model_module": "@jupyter-widgets/base",
            "top": null,
            "grid_column": null,
            "overflow_y": null,
            "overflow_x": null,
            "grid_auto_flow": null,
            "grid_area": null,
            "grid_template_columns": null,
            "flex": null,
            "_model_name": "LayoutModel",
            "justify_items": null,
            "grid_row": null,
            "max_height": null,
            "align_content": null,
            "visibility": null,
            "align_self": null,
            "height": null,
            "min_height": null,
            "padding": null,
            "grid_auto_rows": null,
            "grid_gap": null,
            "max_width": null,
            "order": null,
            "_view_module_version": "1.2.0",
            "grid_template_areas": null,
            "object_position": null,
            "object_fit": null,
            "grid_auto_columns": null,
            "margin": null,
            "display": null,
            "left": null
          }
        },
        "0b6a0269c86e4ee19aeb3ba6d8456f3b": {
          "model_module": "@jupyter-widgets/controls",
          "model_name": "FloatProgressModel",
          "state": {
            "_view_name": "ProgressView",
            "style": "IPY_MODEL_9466980f91a24c59b2fe3bee8e638c77",
            "_dom_classes": [],
            "description": "100%",
            "_model_name": "FloatProgressModel",
            "bar_style": "success",
            "max": 914,
            "_view_module": "@jupyter-widgets/controls",
            "_model_module_version": "1.5.0",
            "value": 914,
            "_view_count": null,
            "_view_module_version": "1.5.0",
            "orientation": "horizontal",
            "min": 0,
            "description_tooltip": null,
            "_model_module": "@jupyter-widgets/controls",
            "layout": "IPY_MODEL_e3e37f41722643d18787d4c35d646b15"
          }
        },
        "c0b014be66ea4ed5930e2718ec5b6933": {
          "model_module": "@jupyter-widgets/controls",
          "model_name": "HTMLModel",
          "state": {
            "_view_name": "HTMLView",
            "style": "IPY_MODEL_1b0b3fcff21e46f1a885ed0ff90104e9",
            "_dom_classes": [],
            "description": "",
            "_model_name": "HTMLModel",
            "placeholder": "​",
            "_view_module": "@jupyter-widgets/controls",
            "_model_module_version": "1.5.0",
            "value": " 914/914 [00:00&lt;00:00, 2633.14it/s]",
            "_view_count": null,
            "_view_module_version": "1.5.0",
            "description_tooltip": null,
            "_model_module": "@jupyter-widgets/controls",
            "layout": "IPY_MODEL_898ce54863c844159538a69c948ad4d6"
          }
        },
        "9466980f91a24c59b2fe3bee8e638c77": {
          "model_module": "@jupyter-widgets/controls",
          "model_name": "ProgressStyleModel",
          "state": {
            "_view_name": "StyleView",
            "_model_name": "ProgressStyleModel",
            "description_width": "initial",
            "_view_module": "@jupyter-widgets/base",
            "_model_module_version": "1.5.0",
            "_view_count": null,
            "_view_module_version": "1.2.0",
            "bar_color": null,
            "_model_module": "@jupyter-widgets/controls"
          }
        },
        "e3e37f41722643d18787d4c35d646b15": {
          "model_module": "@jupyter-widgets/base",
          "model_name": "LayoutModel",
          "state": {
            "_view_name": "LayoutView",
            "grid_template_rows": null,
            "right": null,
            "justify_content": null,
            "_view_module": "@jupyter-widgets/base",
            "overflow": null,
            "_model_module_version": "1.2.0",
            "_view_count": null,
            "flex_flow": null,
            "width": null,
            "min_width": null,
            "border": null,
            "align_items": null,
            "bottom": null,
            "_model_module": "@jupyter-widgets/base",
            "top": null,
            "grid_column": null,
            "overflow_y": null,
            "overflow_x": null,
            "grid_auto_flow": null,
            "grid_area": null,
            "grid_template_columns": null,
            "flex": null,
            "_model_name": "LayoutModel",
            "justify_items": null,
            "grid_row": null,
            "max_height": null,
            "align_content": null,
            "visibility": null,
            "align_self": null,
            "height": null,
            "min_height": null,
            "padding": null,
            "grid_auto_rows": null,
            "grid_gap": null,
            "max_width": null,
            "order": null,
            "_view_module_version": "1.2.0",
            "grid_template_areas": null,
            "object_position": null,
            "object_fit": null,
            "grid_auto_columns": null,
            "margin": null,
            "display": null,
            "left": null
          }
        },
        "1b0b3fcff21e46f1a885ed0ff90104e9": {
          "model_module": "@jupyter-widgets/controls",
          "model_name": "DescriptionStyleModel",
          "state": {
            "_view_name": "StyleView",
            "_model_name": "DescriptionStyleModel",
            "description_width": "",
            "_view_module": "@jupyter-widgets/base",
            "_model_module_version": "1.5.0",
            "_view_count": null,
            "_view_module_version": "1.2.0",
            "_model_module": "@jupyter-widgets/controls"
          }
        },
        "898ce54863c844159538a69c948ad4d6": {
          "model_module": "@jupyter-widgets/base",
          "model_name": "LayoutModel",
          "state": {
            "_view_name": "LayoutView",
            "grid_template_rows": null,
            "right": null,
            "justify_content": null,
            "_view_module": "@jupyter-widgets/base",
            "overflow": null,
            "_model_module_version": "1.2.0",
            "_view_count": null,
            "flex_flow": null,
            "width": null,
            "min_width": null,
            "border": null,
            "align_items": null,
            "bottom": null,
            "_model_module": "@jupyter-widgets/base",
            "top": null,
            "grid_column": null,
            "overflow_y": null,
            "overflow_x": null,
            "grid_auto_flow": null,
            "grid_area": null,
            "grid_template_columns": null,
            "flex": null,
            "_model_name": "LayoutModel",
            "justify_items": null,
            "grid_row": null,
            "max_height": null,
            "align_content": null,
            "visibility": null,
            "align_self": null,
            "height": null,
            "min_height": null,
            "padding": null,
            "grid_auto_rows": null,
            "grid_gap": null,
            "max_width": null,
            "order": null,
            "_view_module_version": "1.2.0",
            "grid_template_areas": null,
            "object_position": null,
            "object_fit": null,
            "grid_auto_columns": null,
            "margin": null,
            "display": null,
            "left": null
          }
        },
        "748f8ae8bcf34d34a4253a361c3420f2": {
          "model_module": "@jupyter-widgets/controls",
          "model_name": "HBoxModel",
          "state": {
            "_view_name": "HBoxView",
            "_dom_classes": [],
            "_model_name": "HBoxModel",
            "_view_module": "@jupyter-widgets/controls",
            "_model_module_version": "1.5.0",
            "_view_count": null,
            "_view_module_version": "1.5.0",
            "box_style": "",
            "layout": "IPY_MODEL_f4fce95b4c38437aa38faf0c136dcd1e",
            "_model_module": "@jupyter-widgets/controls",
            "children": [
              "IPY_MODEL_e889e57c8b514427b38200b80358e89d",
              "IPY_MODEL_6370d924eb86433fae9916820b9f839c"
            ]
          }
        },
        "f4fce95b4c38437aa38faf0c136dcd1e": {
          "model_module": "@jupyter-widgets/base",
          "model_name": "LayoutModel",
          "state": {
            "_view_name": "LayoutView",
            "grid_template_rows": null,
            "right": null,
            "justify_content": null,
            "_view_module": "@jupyter-widgets/base",
            "overflow": null,
            "_model_module_version": "1.2.0",
            "_view_count": null,
            "flex_flow": null,
            "width": null,
            "min_width": null,
            "border": null,
            "align_items": null,
            "bottom": null,
            "_model_module": "@jupyter-widgets/base",
            "top": null,
            "grid_column": null,
            "overflow_y": null,
            "overflow_x": null,
            "grid_auto_flow": null,
            "grid_area": null,
            "grid_template_columns": null,
            "flex": null,
            "_model_name": "LayoutModel",
            "justify_items": null,
            "grid_row": null,
            "max_height": null,
            "align_content": null,
            "visibility": null,
            "align_self": null,
            "height": null,
            "min_height": null,
            "padding": null,
            "grid_auto_rows": null,
            "grid_gap": null,
            "max_width": null,
            "order": null,
            "_view_module_version": "1.2.0",
            "grid_template_areas": null,
            "object_position": null,
            "object_fit": null,
            "grid_auto_columns": null,
            "margin": null,
            "display": null,
            "left": null
          }
        },
        "e889e57c8b514427b38200b80358e89d": {
          "model_module": "@jupyter-widgets/controls",
          "model_name": "FloatProgressModel",
          "state": {
            "_view_name": "ProgressView",
            "style": "IPY_MODEL_d5083a93441d43fbac60d85c5aec0b0c",
            "_dom_classes": [],
            "description": "100%",
            "_model_name": "FloatProgressModel",
            "bar_style": "success",
            "max": 914,
            "_view_module": "@jupyter-widgets/controls",
            "_model_module_version": "1.5.0",
            "value": 914,
            "_view_count": null,
            "_view_module_version": "1.5.0",
            "orientation": "horizontal",
            "min": 0,
            "description_tooltip": null,
            "_model_module": "@jupyter-widgets/controls",
            "layout": "IPY_MODEL_f480142802604b74871fdb9425a3a319"
          }
        },
        "6370d924eb86433fae9916820b9f839c": {
          "model_module": "@jupyter-widgets/controls",
          "model_name": "HTMLModel",
          "state": {
            "_view_name": "HTMLView",
            "style": "IPY_MODEL_0fcc3882a65d4565b9c2d8137be75086",
            "_dom_classes": [],
            "description": "",
            "_model_name": "HTMLModel",
            "placeholder": "​",
            "_view_module": "@jupyter-widgets/controls",
            "_model_module_version": "1.5.0",
            "value": " 914/914 [00:00&lt;00:00, 4255.27it/s]",
            "_view_count": null,
            "_view_module_version": "1.5.0",
            "description_tooltip": null,
            "_model_module": "@jupyter-widgets/controls",
            "layout": "IPY_MODEL_52ff3bcb9f71426ba1faf9affff8f28e"
          }
        },
        "d5083a93441d43fbac60d85c5aec0b0c": {
          "model_module": "@jupyter-widgets/controls",
          "model_name": "ProgressStyleModel",
          "state": {
            "_view_name": "StyleView",
            "_model_name": "ProgressStyleModel",
            "description_width": "initial",
            "_view_module": "@jupyter-widgets/base",
            "_model_module_version": "1.5.0",
            "_view_count": null,
            "_view_module_version": "1.2.0",
            "bar_color": null,
            "_model_module": "@jupyter-widgets/controls"
          }
        },
        "f480142802604b74871fdb9425a3a319": {
          "model_module": "@jupyter-widgets/base",
          "model_name": "LayoutModel",
          "state": {
            "_view_name": "LayoutView",
            "grid_template_rows": null,
            "right": null,
            "justify_content": null,
            "_view_module": "@jupyter-widgets/base",
            "overflow": null,
            "_model_module_version": "1.2.0",
            "_view_count": null,
            "flex_flow": null,
            "width": null,
            "min_width": null,
            "border": null,
            "align_items": null,
            "bottom": null,
            "_model_module": "@jupyter-widgets/base",
            "top": null,
            "grid_column": null,
            "overflow_y": null,
            "overflow_x": null,
            "grid_auto_flow": null,
            "grid_area": null,
            "grid_template_columns": null,
            "flex": null,
            "_model_name": "LayoutModel",
            "justify_items": null,
            "grid_row": null,
            "max_height": null,
            "align_content": null,
            "visibility": null,
            "align_self": null,
            "height": null,
            "min_height": null,
            "padding": null,
            "grid_auto_rows": null,
            "grid_gap": null,
            "max_width": null,
            "order": null,
            "_view_module_version": "1.2.0",
            "grid_template_areas": null,
            "object_position": null,
            "object_fit": null,
            "grid_auto_columns": null,
            "margin": null,
            "display": null,
            "left": null
          }
        },
        "0fcc3882a65d4565b9c2d8137be75086": {
          "model_module": "@jupyter-widgets/controls",
          "model_name": "DescriptionStyleModel",
          "state": {
            "_view_name": "StyleView",
            "_model_name": "DescriptionStyleModel",
            "description_width": "",
            "_view_module": "@jupyter-widgets/base",
            "_model_module_version": "1.5.0",
            "_view_count": null,
            "_view_module_version": "1.2.0",
            "_model_module": "@jupyter-widgets/controls"
          }
        },
        "52ff3bcb9f71426ba1faf9affff8f28e": {
          "model_module": "@jupyter-widgets/base",
          "model_name": "LayoutModel",
          "state": {
            "_view_name": "LayoutView",
            "grid_template_rows": null,
            "right": null,
            "justify_content": null,
            "_view_module": "@jupyter-widgets/base",
            "overflow": null,
            "_model_module_version": "1.2.0",
            "_view_count": null,
            "flex_flow": null,
            "width": null,
            "min_width": null,
            "border": null,
            "align_items": null,
            "bottom": null,
            "_model_module": "@jupyter-widgets/base",
            "top": null,
            "grid_column": null,
            "overflow_y": null,
            "overflow_x": null,
            "grid_auto_flow": null,
            "grid_area": null,
            "grid_template_columns": null,
            "flex": null,
            "_model_name": "LayoutModel",
            "justify_items": null,
            "grid_row": null,
            "max_height": null,
            "align_content": null,
            "visibility": null,
            "align_self": null,
            "height": null,
            "min_height": null,
            "padding": null,
            "grid_auto_rows": null,
            "grid_gap": null,
            "max_width": null,
            "order": null,
            "_view_module_version": "1.2.0",
            "grid_template_areas": null,
            "object_position": null,
            "object_fit": null,
            "grid_auto_columns": null,
            "margin": null,
            "display": null,
            "left": null
          }
        },
        "1ef436f1af594265b2e4926db6d77272": {
          "model_module": "@jupyter-widgets/controls",
          "model_name": "HBoxModel",
          "state": {
            "_view_name": "HBoxView",
            "_dom_classes": [],
            "_model_name": "HBoxModel",
            "_view_module": "@jupyter-widgets/controls",
            "_model_module_version": "1.5.0",
            "_view_count": null,
            "_view_module_version": "1.5.0",
            "box_style": "",
            "layout": "IPY_MODEL_0d56bd3e4d4145558240ed6a76c41e80",
            "_model_module": "@jupyter-widgets/controls",
            "children": [
              "IPY_MODEL_057e103239d24e97a8a350da5b07d6ed",
              "IPY_MODEL_e39569f7f5c243b58ae829296db84fb2"
            ]
          }
        },
        "0d56bd3e4d4145558240ed6a76c41e80": {
          "model_module": "@jupyter-widgets/base",
          "model_name": "LayoutModel",
          "state": {
            "_view_name": "LayoutView",
            "grid_template_rows": null,
            "right": null,
            "justify_content": null,
            "_view_module": "@jupyter-widgets/base",
            "overflow": null,
            "_model_module_version": "1.2.0",
            "_view_count": null,
            "flex_flow": null,
            "width": null,
            "min_width": null,
            "border": null,
            "align_items": null,
            "bottom": null,
            "_model_module": "@jupyter-widgets/base",
            "top": null,
            "grid_column": null,
            "overflow_y": null,
            "overflow_x": null,
            "grid_auto_flow": null,
            "grid_area": null,
            "grid_template_columns": null,
            "flex": null,
            "_model_name": "LayoutModel",
            "justify_items": null,
            "grid_row": null,
            "max_height": null,
            "align_content": null,
            "visibility": null,
            "align_self": null,
            "height": null,
            "min_height": null,
            "padding": null,
            "grid_auto_rows": null,
            "grid_gap": null,
            "max_width": null,
            "order": null,
            "_view_module_version": "1.2.0",
            "grid_template_areas": null,
            "object_position": null,
            "object_fit": null,
            "grid_auto_columns": null,
            "margin": null,
            "display": null,
            "left": null
          }
        },
        "057e103239d24e97a8a350da5b07d6ed": {
          "model_module": "@jupyter-widgets/controls",
          "model_name": "FloatProgressModel",
          "state": {
            "_view_name": "ProgressView",
            "style": "IPY_MODEL_ebe464d2b2db49e0842bc46b3dfa9ad1",
            "_dom_classes": [],
            "description": "Downloading: 100%",
            "_model_name": "FloatProgressModel",
            "bar_style": "success",
            "max": 963211760,
            "_view_module": "@jupyter-widgets/controls",
            "_model_module_version": "1.5.0",
            "value": 963211760,
            "_view_count": null,
            "_view_module_version": "1.5.0",
            "orientation": "horizontal",
            "min": 0,
            "description_tooltip": null,
            "_model_module": "@jupyter-widgets/controls",
            "layout": "IPY_MODEL_38f034d35da54da9aab9d34bbda9ca2e"
          }
        },
        "e39569f7f5c243b58ae829296db84fb2": {
          "model_module": "@jupyter-widgets/controls",
          "model_name": "HTMLModel",
          "state": {
            "_view_name": "HTMLView",
            "style": "IPY_MODEL_76726a40b12843b294790ecfabfc6ef5",
            "_dom_classes": [],
            "description": "",
            "_model_name": "HTMLModel",
            "placeholder": "​",
            "_view_module": "@jupyter-widgets/controls",
            "_model_module_version": "1.5.0",
            "value": " 963M/963M [00:18&lt;00:00, 52.2MB/s]",
            "_view_count": null,
            "_view_module_version": "1.5.0",
            "description_tooltip": null,
            "_model_module": "@jupyter-widgets/controls",
            "layout": "IPY_MODEL_6199640389ca48c0ad0c7997e5a5a2e0"
          }
        },
        "ebe464d2b2db49e0842bc46b3dfa9ad1": {
          "model_module": "@jupyter-widgets/controls",
          "model_name": "ProgressStyleModel",
          "state": {
            "_view_name": "StyleView",
            "_model_name": "ProgressStyleModel",
            "description_width": "initial",
            "_view_module": "@jupyter-widgets/base",
            "_model_module_version": "1.5.0",
            "_view_count": null,
            "_view_module_version": "1.2.0",
            "bar_color": null,
            "_model_module": "@jupyter-widgets/controls"
          }
        },
        "38f034d35da54da9aab9d34bbda9ca2e": {
          "model_module": "@jupyter-widgets/base",
          "model_name": "LayoutModel",
          "state": {
            "_view_name": "LayoutView",
            "grid_template_rows": null,
            "right": null,
            "justify_content": null,
            "_view_module": "@jupyter-widgets/base",
            "overflow": null,
            "_model_module_version": "1.2.0",
            "_view_count": null,
            "flex_flow": null,
            "width": null,
            "min_width": null,
            "border": null,
            "align_items": null,
            "bottom": null,
            "_model_module": "@jupyter-widgets/base",
            "top": null,
            "grid_column": null,
            "overflow_y": null,
            "overflow_x": null,
            "grid_auto_flow": null,
            "grid_area": null,
            "grid_template_columns": null,
            "flex": null,
            "_model_name": "LayoutModel",
            "justify_items": null,
            "grid_row": null,
            "max_height": null,
            "align_content": null,
            "visibility": null,
            "align_self": null,
            "height": null,
            "min_height": null,
            "padding": null,
            "grid_auto_rows": null,
            "grid_gap": null,
            "max_width": null,
            "order": null,
            "_view_module_version": "1.2.0",
            "grid_template_areas": null,
            "object_position": null,
            "object_fit": null,
            "grid_auto_columns": null,
            "margin": null,
            "display": null,
            "left": null
          }
        },
        "76726a40b12843b294790ecfabfc6ef5": {
          "model_module": "@jupyter-widgets/controls",
          "model_name": "DescriptionStyleModel",
          "state": {
            "_view_name": "StyleView",
            "_model_name": "DescriptionStyleModel",
            "description_width": "",
            "_view_module": "@jupyter-widgets/base",
            "_model_module_version": "1.5.0",
            "_view_count": null,
            "_view_module_version": "1.2.0",
            "_model_module": "@jupyter-widgets/controls"
          }
        },
        "6199640389ca48c0ad0c7997e5a5a2e0": {
          "model_module": "@jupyter-widgets/base",
          "model_name": "LayoutModel",
          "state": {
            "_view_name": "LayoutView",
            "grid_template_rows": null,
            "right": null,
            "justify_content": null,
            "_view_module": "@jupyter-widgets/base",
            "overflow": null,
            "_model_module_version": "1.2.0",
            "_view_count": null,
            "flex_flow": null,
            "width": null,
            "min_width": null,
            "border": null,
            "align_items": null,
            "bottom": null,
            "_model_module": "@jupyter-widgets/base",
            "top": null,
            "grid_column": null,
            "overflow_y": null,
            "overflow_x": null,
            "grid_auto_flow": null,
            "grid_area": null,
            "grid_template_columns": null,
            "flex": null,
            "_model_name": "LayoutModel",
            "justify_items": null,
            "grid_row": null,
            "max_height": null,
            "align_content": null,
            "visibility": null,
            "align_self": null,
            "height": null,
            "min_height": null,
            "padding": null,
            "grid_auto_rows": null,
            "grid_gap": null,
            "max_width": null,
            "order": null,
            "_view_module_version": "1.2.0",
            "grid_template_areas": null,
            "object_position": null,
            "object_fit": null,
            "grid_auto_columns": null,
            "margin": null,
            "display": null,
            "left": null
          }
        }
      }
    }
  },
  "cells": [
    {
      "cell_type": "markdown",
      "metadata": {
        "id": "nESEx5V8dlpI"
      },
      "source": [
        "**In this file we use Translation DeepSentiPers Dataset for binary SA**\n",
        "> We did not blanced after binarized DS and because of past experience Epoch = 3 made better result."
      ]
    },
    {
      "cell_type": "markdown",
      "metadata": {
        "id": "Z9kXKmxIY64w"
      },
      "source": [
        "# Prepare  sys"
      ]
    },
    {
      "cell_type": "markdown",
      "metadata": {
        "id": "7tJiFIDMyvy-"
      },
      "source": [
        "## check GPU"
      ]
    },
    {
      "cell_type": "code",
      "metadata": {
        "colab": {
          "base_uri": "https://localhost:8080/"
        },
        "id": "NST8XTKswGGx",
        "outputId": "3d64b3af-96be-4035-d643-900480fb2769"
      },
      "source": [
        "!nvidia-smi #The NVIDIA System Management Interface (nvidia-smi) is a command line utility,\n",
        "            # intended to aid in the management and monitoring of NVIDIA GPU devices. "
      ],
      "execution_count": null,
      "outputs": [
        {
          "output_type": "stream",
          "text": [
            "Tue Jul  6 12:56:51 2021       \n",
            "+-----------------------------------------------------------------------------+\n",
            "| NVIDIA-SMI 465.27       Driver Version: 460.32.03    CUDA Version: 11.2     |\n",
            "|-------------------------------+----------------------+----------------------+\n",
            "| GPU  Name        Persistence-M| Bus-Id        Disp.A | Volatile Uncorr. ECC |\n",
            "| Fan  Temp  Perf  Pwr:Usage/Cap|         Memory-Usage | GPU-Util  Compute M. |\n",
            "|                               |                      |               MIG M. |\n",
            "|===============================+======================+======================|\n",
            "|   0  Tesla T4            Off  | 00000000:00:04.0 Off |                    0 |\n",
            "| N/A   50C    P8    10W /  70W |      0MiB / 15109MiB |      0%      Default |\n",
            "|                               |                      |                  N/A |\n",
            "+-------------------------------+----------------------+----------------------+\n",
            "                                                                               \n",
            "+-----------------------------------------------------------------------------+\n",
            "| Processes:                                                                  |\n",
            "|  GPU   GI   CI        PID   Type   Process name                  GPU Memory |\n",
            "|        ID   ID                                                   Usage      |\n",
            "|=============================================================================|\n",
            "|  No running processes found                                                 |\n",
            "+-----------------------------------------------------------------------------+\n"
          ],
          "name": "stdout"
        }
      ]
    },
    {
      "cell_type": "markdown",
      "metadata": {
        "id": "sw4kYH2HygE_"
      },
      "source": [
        "## Install required packages"
      ]
    },
    {
      "cell_type": "code",
      "metadata": {
        "id": "5g0lGX5uy7EG",
        "colab": {
          "base_uri": "https://localhost:8080/"
        },
        "outputId": "98f78072-c120-4338-9420-23de2b8cf130"
      },
      "source": [
        "!pip install -q transformers==3\n",
        "\n",
        "!pip install -q hazm\n",
        "!pip install -q clean-text[gpl]"
      ],
      "execution_count": null,
      "outputs": [
        {
          "output_type": "stream",
          "text": [
            "\u001b[K     |████████████████████████████████| 757kB 8.6MB/s \n",
            "\u001b[K     |████████████████████████████████| 901kB 41.2MB/s \n",
            "\u001b[K     |████████████████████████████████| 3.0MB 50.4MB/s \n",
            "\u001b[K     |████████████████████████████████| 1.2MB 49.3MB/s \n",
            "\u001b[K     |████████████████████████████████| 317kB 8.5MB/s \n",
            "\u001b[K     |████████████████████████████████| 1.4MB 34.6MB/s \n",
            "\u001b[K     |████████████████████████████████| 235kB 38.3MB/s \n",
            "\u001b[?25h  Building wheel for nltk (setup.py) ... \u001b[?25l\u001b[?25hdone\n",
            "  Building wheel for libwapiti (setup.py) ... \u001b[?25l\u001b[?25hdone\n",
            "\u001b[K     |████████████████████████████████| 133kB 10.1MB/s \n",
            "\u001b[K     |████████████████████████████████| 71kB 9.0MB/s \n",
            "\u001b[K     |████████████████████████████████| 245kB 22.4MB/s \n",
            "\u001b[?25h  Building wheel for ftfy (setup.py) ... \u001b[?25l\u001b[?25hdone\n"
          ],
          "name": "stdout"
        }
      ]
    },
    {
      "cell_type": "markdown",
      "metadata": {
        "id": "tGGK1DeyzQdp"
      },
      "source": [
        "## Import required packages"
      ]
    },
    {
      "cell_type": "code",
      "metadata": {
        "id": "WQf66HJFzUcF"
      },
      "source": [
        "import numpy as np\n",
        "import pandas as pd\n",
        "\n",
        "from sklearn.model_selection import train_test_split\n",
        "from sklearn.metrics import classification_report\n",
        "from sklearn.metrics import f1_score\n",
        "from sklearn.utils import shuffle\n",
        "\n",
        "import hazm\n",
        "from cleantext import clean\n",
        "\n",
        "import plotly.express as px\n",
        "import plotly.graph_objects as go\n",
        "import matplotlib.pyplot as plt\n",
        "\n",
        "from tqdm.notebook import tqdm\n",
        "\n",
        "import requests\n",
        "import os\n",
        "import io\n",
        "import re\n",
        "import json\n",
        "import copy\n",
        "import collections"
      ],
      "execution_count": null,
      "outputs": []
    },
    {
      "cell_type": "markdown",
      "metadata": {
        "id": "XGXU4G0S1Grw"
      },
      "source": [
        "# Translation Dataset\n",
        "\n",
        "We are going to use [Translation DeepSentiPers Dataset](https://github.com/JoyeBright/DeepSentiPers/tree/master/Dataset) here.\n",
        "\n",
        "<table style=\"width:100%\">\n",
        "  <tr>\n",
        "    <th>Polarity</th>\n",
        "    <th>-2</th>\n",
        "    <th>-1</th>\n",
        "    <th>0</th>\n",
        "    <th>+1</th>\n",
        "    <th>+2</th>\n",
        "  </tr>\n",
        "  <tr>\n",
        "    <td>Original (SentiPers) DS</td>\n",
        "    <td>28</td>\n",
        "    <td>513</td>\n",
        "    <td>2409</td>\n",
        "    <td>1623</td>\n",
        "    <td>988</td>\n",
        "  </tr>\n",
        "  <tr>\n",
        "    <td>Translation DS</td>\n",
        "    <td>56</td>\n",
        "    <td>1026</td>\n",
        "    <td>4818</td>\n",
        "    <td>3246</td>\n",
        "    <td>1976</td>\n",
        "  </tr>\n",
        "</table>\n",
        "\n"
      ]
    },
    {
      "cell_type": "markdown",
      "metadata": {
        "id": "Ro4v3Wr2RX4q"
      },
      "source": [
        "## Load"
      ]
    },
    {
      "cell_type": "code",
      "metadata": {
        "colab": {
          "base_uri": "https://localhost:8080/"
        },
        "id": "klc0Wz-_zIic",
        "outputId": "89ca322b-9979-46c8-c644-6f4257d95857"
      },
      "source": [
        "url = \"https://raw.githubusercontent.com/JoyeBright/DeepSentiPers/master/Dataset/translation.csv\" \n",
        "download = requests.get(url).content\n",
        "data = pd.read_csv(io.StringIO(download.decode('utf-8')))\n",
        "data.set_axis(['comment', 'rate'], axis='columns', inplace=True)\n",
        "print('The first 5 rows of the dataset: \\n', data.head())"
      ],
      "execution_count": null,
      "outputs": [
        {
          "output_type": "stream",
          "text": [
            "The first 5 rows of the dataset: \n",
            "                                              comment  rate\n",
            "0  کارتهای حافظه معمولاً در تلفنهای همراه به جای ...     0\n",
            "1          وضوح نمایشگر iPod دقیقاً مشابه آیفون است.     0\n",
            "2  اما صفحه نمایش JVC GZ-MG335 از نوع TFT 2.7 این...     0\n",
            "3  سرانجام ، در پشت گوشی ، دوربین از یک فلاش بلند...     0\n",
            "4  در انتهای گوشی ، ایسوس درگاهی را به نام MHL قر...     0\n"
          ],
          "name": "stdout"
        }
      ]
    },
    {
      "cell_type": "code",
      "metadata": {
        "colab": {
          "base_uri": "https://localhost:8080/"
        },
        "id": "sL6_21cGzLEb",
        "outputId": "54454667-5804-4371-9c15-1ce885a7df89"
      },
      "source": [
        "# print data information\n",
        "print('data information: \\n')\n",
        "print(data.info(), '\\n')"
      ],
      "execution_count": null,
      "outputs": [
        {
          "output_type": "stream",
          "text": [
            "data information: \n",
            "\n",
            "<class 'pandas.core.frame.DataFrame'>\n",
            "RangeIndex: 14045 entries, 0 to 14044\n",
            "Data columns (total 2 columns):\n",
            " #   Column   Non-Null Count  Dtype \n",
            "---  ------   --------------  ----- \n",
            " 0   comment  14045 non-null  object\n",
            " 1   rate     14045 non-null  int64 \n",
            "dtypes: int64(1), object(1)\n",
            "memory usage: 219.6+ KB\n",
            "None \n",
            "\n"
          ],
          "name": "stdout"
        }
      ]
    },
    {
      "cell_type": "markdown",
      "metadata": {
        "id": "IYD6ei8Jeb4W"
      },
      "source": [
        "## Preprocessing\n",
        "\n",
        "The comments have different lengths based on words! Detecting the most normal range could help us find the maximum length of the sequences for the preprocessing step."
      ]
    },
    {
      "cell_type": "code",
      "metadata": {
        "id": "35qF9kA9esGS"
      },
      "source": [
        "# calculate the length of comments based on their words\n",
        "data['comment_len_by_words'] = data['comment'].apply(lambda t: len(hazm.word_tokenize(t)))"
      ],
      "execution_count": null,
      "outputs": []
    },
    {
      "cell_type": "code",
      "metadata": {
        "colab": {
          "base_uri": "https://localhost:8080/"
        },
        "id": "0CO3wJr4Q3gK",
        "outputId": "87b3fdf8-897b-4a79-8086-324af49c7a3b"
      },
      "source": [
        "min_max_lenT = data[\"comment_len_by_words\"].min(), data[\"comment_len_by_words\"].max()\n",
        "print(f'Min of Translation DS: {min_max_lenT[0]} \\tMax Translation T DS: {min_max_lenT[1]}')"
      ],
      "execution_count": null,
      "outputs": [
        {
          "output_type": "stream",
          "text": [
            "Min of Translation DS: 1 \tMax Translation T DS: 281\n"
          ],
          "name": "stdout"
        }
      ]
    },
    {
      "cell_type": "code",
      "metadata": {
        "colab": {
          "base_uri": "https://localhost:8080/"
        },
        "id": "-jZtC8bpkJl6",
        "outputId": "e49c8e77-4f6e-4052-e3a6-d4abae20b040"
      },
      "source": [
        "Rec = 0\n",
        "for j in range(len(data)):\n",
        "  if (data.iloc[j]['comment_len_by_words'] < 3):\n",
        "    Rec = Rec + 1\n",
        "    print(data.iloc[j]['comment'],data.iloc[j]['rate'],)\n",
        "print(Rec, ' records found with upper comments')"
      ],
      "execution_count": null,
      "outputs": [
        {
          "output_type": "stream",
          "text": [
            "دارای 264 0\n",
            "موفق باشید 0\n",
            "قدیمی است 0\n",
            "موفق باشید 0\n",
            "بسیار قوی 0\n",
            "فرومایه 0\n",
            "مشاهده کام 0\n",
            "سلام. 0\n",
            "پخش HD 0\n",
            "سلام 0\n",
            "سلام. 0\n",
            "سلام. 0\n",
            "موفق باشید 0\n",
            "فروشگاه برنامه 0\n",
            "با تشکر 0\n",
            "با تشکر 0\n",
            "دوربین نیست 0\n",
            "قضاوت شماست 0\n",
            "با تشکر 0\n",
            "دارای 264 0\n",
            "شیک زیبا 1\n",
            "خیلی باحال 1\n",
            "داشتنش خوبه 1\n",
            "مرسی دیجیکالا 1\n",
            "عالی 1\n",
            "سرعت خوب 1\n",
            "قیمت مناسب 1\n",
            "کالای عالی 1\n",
            "خارق العاده 1\n",
            "کامل 1\n",
            "بهتر بود 1\n",
            "داغ نیست 1\n",
            "رنگهای واضح 1\n",
            "موفق باشید 1\n",
            "بدون کنه 1\n",
            "واقعاً زیباست 1\n",
            "عالی بود 1\n",
            "بد نیست 1\n",
            "خیلی بزرگ 1\n",
            "کامل. 1\n",
            "چه جالب 1\n",
            "لمس عالی 1\n",
            "آویزان نیست 1\n",
            "شکرگذاری 1\n",
            "آویزان نیست 1\n",
            "بهترین گوشه 1\n",
            "کامل 2\n",
            "دوربین عالی 2\n",
            "سرعت عالی 2\n",
            "عالیه! 2\n",
            "بسیار جذاب 2\n",
            "عالی. 2\n",
            "خیلی راحت 2\n",
            "تلفن زیبا 2\n",
            "منحصر بفرد 2\n",
            "عالیه. 2\n",
            "واقعا عالیه 2\n",
            "واقعا عالیه 2\n",
            "سلام. 2\n",
            "تلفن عالی 2\n",
            "عجیب 2\n",
            "صدای عالی 2\n",
            "واقعا عالیه 2\n",
            "عالی بود 2\n",
            "عالیه! 2\n",
            "خیلی کوچک 2\n",
            "عالیه 2\n",
            "عالی 2\n",
            "واقعا عالیه 2\n",
            "دوباره عالی 2\n",
            "واقعا عالیه 2\n",
            "واقعا خوب 2\n",
            "عالیه 2\n",
            "عالیه 2\n",
            "عالیه 2\n",
            "کالای عالی 2\n",
            "واقعا قشنگه 2\n",
            "عالیه. 2\n",
            "خیلی خوب 2\n",
            "عالیه. 2\n",
            "واقعا عالیه 2\n",
            "عالیه 2\n",
            "خیلی خوب 2\n",
            "واقعا خوبه 2\n",
            "توقف کار 2\n",
            "فردی است 2\n",
            "عالیه 2\n",
            "واقعاً شیک 2\n",
            "عالی! 2\n",
            "مراقب باش -1\n",
            "کمی! -1\n",
            "ديروز گرفتم 0\n",
            "موفق باشيد 0\n",
            "قديمى شده 0\n",
            "موفق باشين 0\n",
            "با سلام 0\n",
            "موفق باشيد 0\n",
            "با تشکر 0\n",
            "با تشکر 0\n",
            "خدايا ممنونم 0\n",
            "با تشکر 0\n",
            "شارژش خوبه 1\n",
            "مرسي digikala 1\n",
            "دوربينش خوبه 1\n",
            "سرعتش خوبه 1\n",
            "حرف نداره 1\n",
            "گرم نميکنه 1\n",
            "واقعا متفاوت 1\n",
            "موفق باشين 1\n",
            "واقعا زيباست 1\n",
            "عالي بود 1\n",
            "چه جالب 1\n",
            "واقعاً ممنون 1\n",
            "ممنون DigiKala 1\n",
            "دوربين خوبيه 1\n",
            "واقعا محشره 2\n",
            "حرف نداره 2\n",
            "بي نظيره 2\n",
            "واقعاً عاليه 2\n",
            "واقعا عاليه 2\n",
            "گوشي فوق‌العاده‌ايه 2\n",
            "حيرت انگيزه 2\n",
            "واقعاً فوق‌العادست 2\n",
            "عالي بود 2\n",
            "بسيار عالي 2\n",
            "واقعا عاليه 2\n",
            "واقعاً فوق‌العادست 2\n",
            "عاشق دوربينشم 2\n",
            "فوق العادست 2\n",
            "خيلي عاليست 2\n",
            "واقعا معرکست 2\n",
            "واقعا عاليه 2\n",
            "واقعا محشره 2\n",
            "عاشق محصولاتشم 2\n",
            "کارش بيسته 2\n",
            "مراقب باشيد -1\n",
            "136  records found with upper comments\n"
          ],
          "name": "stdout"
        }
      ]
    },
    {
      "cell_type": "code",
      "metadata": {
        "id": "rnCj-iLe3cjb"
      },
      "source": [
        "def data_gl_than(data, less_than=100.0, greater_than=0.0, col='comment_len_by_words'):\n",
        "    data_length = data[col].values\n",
        "\n",
        "    data_glt = sum([1 for length in data_length if greater_than < length <= less_than])\n",
        "\n",
        "    data_glt_rate = (data_glt / len(data_length)) * 100\n",
        "\n",
        "    print(f'Texts with word length of greater than {greater_than} and less than {less_than} includes {data_glt_rate:.2f}% of the whole!')"
      ],
      "execution_count": null,
      "outputs": []
    },
    {
      "cell_type": "code",
      "metadata": {
        "id": "iket7VRN5cgG",
        "colab": {
          "base_uri": "https://localhost:8080/"
        },
        "outputId": "8e3a4423-2b31-4554-c752-64f825beadd1"
      },
      "source": [
        "data_gl_than(data, 256, 2)"
      ],
      "execution_count": null,
      "outputs": [
        {
          "output_type": "stream",
          "text": [
            "Texts with word length of greater than 2 and less than 256 includes 99.00% of the whole!\n"
          ],
          "name": "stdout"
        }
      ]
    },
    {
      "cell_type": "markdown",
      "metadata": {
        "id": "Dl_qea4MyEQp"
      },
      "source": [
        "Seems Texts with word length of greater than 2 and less than 256 includes 99% of the whole! so we can omit the others to have better dataset."
      ]
    },
    {
      "cell_type": "code",
      "metadata": {
        "id": "kNausH6L55fQ"
      },
      "source": [
        "minlim, maxlim = 2, 256"
      ],
      "execution_count": null,
      "outputs": []
    },
    {
      "cell_type": "code",
      "metadata": {
        "id": "kliWRX7-3U1c",
        "colab": {
          "base_uri": "https://localhost:8080/"
        },
        "outputId": "fadaa1c2-b97f-4bd4-e206-a7d91877ba2b"
      },
      "source": [
        "# remove comments with the length beetween 2 and 256 \n",
        "data['comment_len_by_words'] = data['comment_len_by_words'].apply(lambda len_t: len_t if minlim <= len_t <= maxlim else None)\n",
        "data = data.dropna(subset=['comment_len_by_words'])\n",
        "data = data.reset_index(drop=True)\n",
        "data.info()"
      ],
      "execution_count": null,
      "outputs": [
        {
          "output_type": "stream",
          "text": [
            "<class 'pandas.core.frame.DataFrame'>\n",
            "RangeIndex: 14027 entries, 0 to 14026\n",
            "Data columns (total 3 columns):\n",
            " #   Column                Non-Null Count  Dtype  \n",
            "---  ------                --------------  -----  \n",
            " 0   comment               14027 non-null  object \n",
            " 1   rate                  14027 non-null  int64  \n",
            " 2   comment_len_by_words  14027 non-null  float64\n",
            "dtypes: float64(1), int64(1), object(1)\n",
            "memory usage: 328.9+ KB\n"
          ],
          "name": "stdout"
        }
      ]
    },
    {
      "cell_type": "code",
      "metadata": {
        "colab": {
          "base_uri": "https://localhost:8080/",
          "height": 542
        },
        "id": "q5UgJoPlQ4l6",
        "outputId": "6e1c11b6-303d-42c8-8200-fb1f4a3b7ffa"
      },
      "source": [
        "fig = go.Figure()\n",
        "\n",
        "fig.add_trace(go.Histogram(\n",
        "    x=data['comment_len_by_words']\n",
        "))\n",
        "\n",
        "fig.update_layout(\n",
        "    title_text='Distribution of word counts within comments in Translation DS',\n",
        "    xaxis_title_text='Word Count',\n",
        "    yaxis_title_text='Frequency',\n",
        "    bargap=0.2,\n",
        "    bargroupgap=0.2)\n",
        "\n",
        "fig.show()"
      ],
      "execution_count": null,
      "outputs": [
        {
          "output_type": "display_data",
          "data": {
            "text/html": [
              "<html>\n",
              "<head><meta charset=\"utf-8\" /></head>\n",
              "<body>\n",
              "    <div>\n",
              "            <script src=\"https://cdnjs.cloudflare.com/ajax/libs/mathjax/2.7.5/MathJax.js?config=TeX-AMS-MML_SVG\"></script><script type=\"text/javascript\">if (window.MathJax) {MathJax.Hub.Config({SVG: {font: \"STIX-Web\"}});}</script>\n",
              "                <script type=\"text/javascript\">window.PlotlyConfig = {MathJaxConfig: 'local'};</script>\n",
              "        <script src=\"https://cdn.plot.ly/plotly-latest.min.js\"></script>    \n",
              "            <div id=\"ceb858d2-8e5a-44cd-93e5-785d40ee1606\" class=\"plotly-graph-div\" style=\"height:525px; width:100%;\"></div>\n",
              "            <script type=\"text/javascript\">\n",
              "                \n",
              "                    window.PLOTLYENV=window.PLOTLYENV || {};\n",
              "                    \n",
              "                if (document.getElementById(\"ceb858d2-8e5a-44cd-93e5-785d40ee1606\")) {\n",
              "                    Plotly.newPlot(\n",
              "                        'ceb858d2-8e5a-44cd-93e5-785d40ee1606',\n",
              "                        [{\"type\": \"histogram\", \"x\": [13.0, 8.0, 17.0, 15.0, 13.0, 37.0, 25.0, 39.0, 30.0, 6.0, 25.0, 11.0, 16.0, 15.0, 27.0, 27.0, 15.0, 4.0, 13.0, 13.0, 10.0, 33.0, 12.0, 32.0, 20.0, 22.0, 21.0, 17.0, 12.0, 23.0, 16.0, 32.0, 24.0, 22.0, 9.0, 20.0, 8.0, 14.0, 13.0, 17.0, 16.0, 10.0, 14.0, 24.0, 9.0, 20.0, 9.0, 35.0, 21.0, 15.0, 28.0, 22.0, 13.0, 11.0, 32.0, 25.0, 27.0, 17.0, 16.0, 21.0, 7.0, 21.0, 23.0, 18.0, 15.0, 20.0, 5.0, 24.0, 17.0, 27.0, 26.0, 24.0, 15.0, 17.0, 10.0, 37.0, 3.0, 28.0, 39.0, 21.0, 22.0, 22.0, 26.0, 13.0, 31.0, 31.0, 9.0, 17.0, 17.0, 10.0, 25.0, 5.0, 25.0, 22.0, 20.0, 17.0, 7.0, 32.0, 12.0, 23.0, 23.0, 18.0, 30.0, 12.0, 17.0, 25.0, 29.0, 19.0, 26.0, 24.0, 18.0, 19.0, 51.0, 11.0, 6.0, 30.0, 9.0, 29.0, 16.0, 8.0, 19.0, 11.0, 15.0, 27.0, 34.0, 8.0, 10.0, 14.0, 16.0, 13.0, 8.0, 5.0, 8.0, 21.0, 11.0, 9.0, 25.0, 66.0, 14.0, 25.0, 25.0, 25.0, 19.0, 20.0, 2.0, 27.0, 18.0, 12.0, 12.0, 19.0, 12.0, 38.0, 9.0, 28.0, 12.0, 7.0, 13.0, 22.0, 46.0, 40.0, 22.0, 17.0, 7.0, 41.0, 18.0, 5.0, 7.0, 19.0, 13.0, 34.0, 10.0, 15.0, 15.0, 11.0, 25.0, 19.0, 20.0, 51.0, 25.0, 28.0, 3.0, 12.0, 27.0, 26.0, 16.0, 13.0, 20.0, 14.0, 17.0, 44.0, 67.0, 4.0, 19.0, 25.0, 16.0, 22.0, 16.0, 16.0, 77.0, 12.0, 18.0, 17.0, 7.0, 16.0, 3.0, 16.0, 6.0, 25.0, 9.0, 31.0, 13.0, 14.0, 24.0, 16.0, 43.0, 12.0, 17.0, 16.0, 23.0, 11.0, 6.0, 6.0, 22.0, 13.0, 18.0, 14.0, 20.0, 9.0, 15.0, 5.0, 10.0, 11.0, 30.0, 41.0, 10.0, 22.0, 19.0, 12.0, 14.0, 11.0, 21.0, 7.0, 26.0, 13.0, 20.0, 19.0, 3.0, 29.0, 18.0, 21.0, 9.0, 11.0, 17.0, 43.0, 18.0, 30.0, 4.0, 11.0, 24.0, 15.0, 8.0, 13.0, 27.0, 10.0, 14.0, 13.0, 11.0, 13.0, 5.0, 5.0, 10.0, 18.0, 32.0, 3.0, 19.0, 24.0, 23.0, 9.0, 13.0, 21.0, 26.0, 21.0, 17.0, 31.0, 37.0, 22.0, 31.0, 13.0, 16.0, 32.0, 13.0, 15.0, 16.0, 20.0, 9.0, 10.0, 7.0, 6.0, 10.0, 30.0, 16.0, 21.0, 6.0, 7.0, 16.0, 34.0, 6.0, 15.0, 17.0, 27.0, 48.0, 15.0, 36.0, 16.0, 21.0, 12.0, 22.0, 13.0, 13.0, 15.0, 6.0, 48.0, 21.0, 17.0, 9.0, 17.0, 25.0, 17.0, 41.0, 26.0, 28.0, 23.0, 41.0, 32.0, 26.0, 16.0, 12.0, 24.0, 22.0, 7.0, 53.0, 12.0, 16.0, 11.0, 25.0, 38.0, 41.0, 5.0, 19.0, 20.0, 24.0, 10.0, 6.0, 16.0, 32.0, 37.0, 12.0, 13.0, 8.0, 19.0, 14.0, 29.0, 9.0, 16.0, 13.0, 21.0, 31.0, 13.0, 13.0, 16.0, 38.0, 12.0, 26.0, 23.0, 27.0, 16.0, 28.0, 18.0, 14.0, 14.0, 17.0, 15.0, 10.0, 22.0, 24.0, 6.0, 16.0, 9.0, 21.0, 19.0, 26.0, 14.0, 16.0, 21.0, 24.0, 15.0, 26.0, 24.0, 5.0, 22.0, 9.0, 15.0, 12.0, 16.0, 22.0, 16.0, 26.0, 17.0, 8.0, 30.0, 32.0, 19.0, 5.0, 22.0, 12.0, 9.0, 37.0, 10.0, 19.0, 15.0, 39.0, 18.0, 19.0, 20.0, 2.0, 64.0, 11.0, 23.0, 37.0, 11.0, 11.0, 8.0, 14.0, 9.0, 16.0, 14.0, 18.0, 39.0, 47.0, 4.0, 17.0, 52.0, 28.0, 7.0, 10.0, 26.0, 11.0, 24.0, 13.0, 5.0, 36.0, 19.0, 18.0, 10.0, 36.0, 13.0, 34.0, 27.0, 10.0, 21.0, 8.0, 22.0, 7.0, 10.0, 23.0, 33.0, 19.0, 17.0, 14.0, 13.0, 10.0, 5.0, 8.0, 25.0, 15.0, 12.0, 19.0, 10.0, 10.0, 5.0, 27.0, 17.0, 15.0, 14.0, 2.0, 3.0, 10.0, 14.0, 15.0, 6.0, 17.0, 32.0, 26.0, 12.0, 10.0, 3.0, 31.0, 44.0, 3.0, 2.0, 22.0, 25.0, 8.0, 12.0, 10.0, 29.0, 19.0, 22.0, 17.0, 8.0, 21.0, 17.0, 23.0, 10.0, 15.0, 13.0, 3.0, 2.0, 47.0, 24.0, 18.0, 34.0, 6.0, 36.0, 19.0, 18.0, 25.0, 11.0, 7.0, 26.0, 17.0, 14.0, 13.0, 8.0, 24.0, 5.0, 14.0, 16.0, 24.0, 22.0, 14.0, 28.0, 19.0, 37.0, 16.0, 14.0, 47.0, 18.0, 13.0, 9.0, 26.0, 3.0, 18.0, 22.0, 18.0, 14.0, 24.0, 44.0, 18.0, 2.0, 34.0, 11.0, 9.0, 24.0, 3.0, 10.0, 18.0, 9.0, 11.0, 23.0, 19.0, 31.0, 17.0, 9.0, 16.0, 37.0, 24.0, 3.0, 13.0, 12.0, 19.0, 16.0, 19.0, 10.0, 16.0, 14.0, 11.0, 24.0, 25.0, 26.0, 18.0, 44.0, 40.0, 19.0, 13.0, 23.0, 8.0, 37.0, 11.0, 9.0, 5.0, 44.0, 12.0, 26.0, 22.0, 4.0, 3.0, 11.0, 19.0, 11.0, 8.0, 23.0, 15.0, 31.0, 34.0, 22.0, 10.0, 66.0, 19.0, 31.0, 33.0, 22.0, 11.0, 34.0, 22.0, 12.0, 39.0, 38.0, 21.0, 27.0, 26.0, 16.0, 26.0, 28.0, 27.0, 17.0, 26.0, 24.0, 26.0, 18.0, 16.0, 11.0, 8.0, 9.0, 18.0, 17.0, 17.0, 13.0, 15.0, 7.0, 10.0, 19.0, 28.0, 34.0, 55.0, 14.0, 37.0, 35.0, 49.0, 18.0, 8.0, 9.0, 19.0, 10.0, 17.0, 28.0, 17.0, 26.0, 36.0, 9.0, 31.0, 31.0, 8.0, 28.0, 12.0, 14.0, 9.0, 6.0, 33.0, 30.0, 13.0, 4.0, 19.0, 22.0, 35.0, 8.0, 7.0, 28.0, 15.0, 11.0, 31.0, 4.0, 23.0, 15.0, 18.0, 21.0, 43.0, 9.0, 18.0, 13.0, 18.0, 10.0, 12.0, 16.0, 7.0, 15.0, 16.0, 29.0, 34.0, 11.0, 18.0, 13.0, 30.0, 21.0, 27.0, 18.0, 15.0, 2.0, 37.0, 24.0, 15.0, 28.0, 20.0, 21.0, 9.0, 24.0, 11.0, 3.0, 22.0, 23.0, 13.0, 18.0, 5.0, 32.0, 6.0, 25.0, 28.0, 22.0, 6.0, 16.0, 26.0, 12.0, 24.0, 30.0, 56.0, 17.0, 22.0, 9.0, 31.0, 17.0, 9.0, 24.0, 17.0, 24.0, 22.0, 27.0, 23.0, 16.0, 6.0, 32.0, 22.0, 18.0, 24.0, 10.0, 16.0, 24.0, 14.0, 20.0, 6.0, 9.0, 28.0, 8.0, 41.0, 14.0, 21.0, 10.0, 24.0, 41.0, 22.0, 15.0, 12.0, 3.0, 9.0, 17.0, 11.0, 14.0, 17.0, 19.0, 30.0, 21.0, 29.0, 14.0, 3.0, 10.0, 16.0, 9.0, 18.0, 14.0, 20.0, 25.0, 49.0, 10.0, 28.0, 22.0, 12.0, 14.0, 13.0, 2.0, 24.0, 16.0, 19.0, 6.0, 15.0, 12.0, 12.0, 10.0, 28.0, 12.0, 5.0, 18.0, 8.0, 11.0, 17.0, 30.0, 12.0, 25.0, 11.0, 3.0, 17.0, 11.0, 4.0, 17.0, 26.0, 41.0, 12.0, 24.0, 43.0, 12.0, 14.0, 12.0, 2.0, 24.0, 15.0, 8.0, 25.0, 31.0, 17.0, 18.0, 11.0, 36.0, 27.0, 13.0, 31.0, 18.0, 20.0, 8.0, 15.0, 9.0, 16.0, 25.0, 44.0, 29.0, 13.0, 25.0, 11.0, 7.0, 2.0, 18.0, 7.0, 12.0, 16.0, 20.0, 11.0, 15.0, 6.0, 24.0, 20.0, 11.0, 7.0, 13.0, 9.0, 18.0, 55.0, 20.0, 19.0, 5.0, 78.0, 7.0, 29.0, 17.0, 30.0, 25.0, 19.0, 30.0, 21.0, 13.0, 22.0, 25.0, 34.0, 7.0, 31.0, 29.0, 35.0, 37.0, 11.0, 10.0, 34.0, 33.0, 6.0, 8.0, 21.0, 12.0, 17.0, 13.0, 12.0, 20.0, 8.0, 29.0, 7.0, 6.0, 18.0, 15.0, 14.0, 80.0, 16.0, 16.0, 14.0, 21.0, 18.0, 21.0, 36.0, 33.0, 12.0, 16.0, 22.0, 11.0, 13.0, 9.0, 20.0, 12.0, 25.0, 20.0, 26.0, 15.0, 5.0, 63.0, 18.0, 23.0, 3.0, 31.0, 22.0, 24.0, 11.0, 14.0, 28.0, 11.0, 7.0, 17.0, 23.0, 12.0, 21.0, 7.0, 15.0, 24.0, 13.0, 22.0, 12.0, 10.0, 21.0, 12.0, 17.0, 31.0, 15.0, 13.0, 20.0, 13.0, 3.0, 13.0, 37.0, 8.0, 17.0, 20.0, 5.0, 9.0, 13.0, 13.0, 6.0, 7.0, 18.0, 13.0, 33.0, 13.0, 13.0, 13.0, 11.0, 30.0, 12.0, 21.0, 12.0, 7.0, 19.0, 14.0, 24.0, 10.0, 11.0, 18.0, 8.0, 16.0, 18.0, 19.0, 9.0, 22.0, 18.0, 14.0, 19.0, 10.0, 14.0, 13.0, 9.0, 36.0, 35.0, 45.0, 20.0, 17.0, 34.0, 13.0, 28.0, 26.0, 20.0, 13.0, 14.0, 31.0, 8.0, 5.0, 11.0, 20.0, 8.0, 32.0, 23.0, 21.0, 25.0, 11.0, 10.0, 15.0, 10.0, 13.0, 31.0, 13.0, 13.0, 14.0, 26.0, 16.0, 5.0, 17.0, 27.0, 26.0, 5.0, 21.0, 9.0, 14.0, 18.0, 9.0, 31.0, 19.0, 17.0, 10.0, 12.0, 6.0, 9.0, 15.0, 31.0, 31.0, 20.0, 15.0, 13.0, 3.0, 24.0, 27.0, 33.0, 32.0, 17.0, 16.0, 16.0, 2.0, 13.0, 28.0, 18.0, 23.0, 31.0, 17.0, 26.0, 19.0, 2.0, 16.0, 10.0, 9.0, 20.0, 4.0, 15.0, 27.0, 34.0, 11.0, 10.0, 12.0, 11.0, 14.0, 12.0, 91.0, 14.0, 26.0, 26.0, 17.0, 46.0, 16.0, 30.0, 42.0, 21.0, 11.0, 14.0, 15.0, 15.0, 14.0, 29.0, 17.0, 24.0, 26.0, 29.0, 10.0, 19.0, 32.0, 3.0, 8.0, 25.0, 33.0, 16.0, 21.0, 10.0, 8.0, 8.0, 25.0, 12.0, 22.0, 12.0, 28.0, 14.0, 3.0, 20.0, 12.0, 6.0, 17.0, 12.0, 21.0, 4.0, 4.0, 14.0, 12.0, 5.0, 24.0, 17.0, 10.0, 23.0, 12.0, 34.0, 6.0, 16.0, 7.0, 11.0, 17.0, 18.0, 20.0, 24.0, 12.0, 44.0, 23.0, 11.0, 11.0, 35.0, 19.0, 39.0, 12.0, 5.0, 26.0, 13.0, 28.0, 12.0, 41.0, 4.0, 16.0, 10.0, 37.0, 12.0, 20.0, 3.0, 22.0, 20.0, 9.0, 5.0, 31.0, 38.0, 10.0, 6.0, 12.0, 37.0, 6.0, 15.0, 22.0, 12.0, 7.0, 26.0, 15.0, 16.0, 9.0, 9.0, 21.0, 3.0, 27.0, 13.0, 30.0, 23.0, 19.0, 87.0, 13.0, 14.0, 32.0, 26.0, 15.0, 15.0, 18.0, 15.0, 19.0, 16.0, 15.0, 22.0, 29.0, 20.0, 13.0, 4.0, 33.0, 31.0, 3.0, 13.0, 20.0, 30.0, 11.0, 15.0, 30.0, 57.0, 13.0, 18.0, 7.0, 13.0, 7.0, 9.0, 12.0, 13.0, 16.0, 26.0, 5.0, 15.0, 9.0, 31.0, 9.0, 30.0, 10.0, 12.0, 11.0, 18.0, 28.0, 6.0, 17.0, 5.0, 39.0, 43.0, 12.0, 14.0, 10.0, 11.0, 47.0, 31.0, 40.0, 2.0, 29.0, 9.0, 18.0, 21.0, 16.0, 17.0, 17.0, 26.0, 13.0, 20.0, 4.0, 12.0, 10.0, 14.0, 16.0, 6.0, 21.0, 17.0, 9.0, 14.0, 13.0, 29.0, 26.0, 17.0, 21.0, 21.0, 15.0, 17.0, 16.0, 14.0, 14.0, 12.0, 15.0, 22.0, 19.0, 15.0, 10.0, 20.0, 28.0, 19.0, 51.0, 13.0, 17.0, 10.0, 28.0, 17.0, 19.0, 22.0, 17.0, 4.0, 11.0, 8.0, 10.0, 27.0, 13.0, 16.0, 19.0, 10.0, 22.0, 11.0, 16.0, 14.0, 24.0, 17.0, 8.0, 12.0, 27.0, 14.0, 17.0, 9.0, 9.0, 29.0, 17.0, 5.0, 22.0, 32.0, 19.0, 7.0, 16.0, 21.0, 14.0, 41.0, 15.0, 5.0, 5.0, 24.0, 26.0, 12.0, 12.0, 7.0, 14.0, 8.0, 8.0, 16.0, 19.0, 5.0, 24.0, 12.0, 24.0, 22.0, 27.0, 23.0, 16.0, 14.0, 12.0, 6.0, 24.0, 27.0, 26.0, 38.0, 20.0, 18.0, 11.0, 6.0, 15.0, 27.0, 24.0, 19.0, 32.0, 8.0, 7.0, 14.0, 17.0, 13.0, 12.0, 22.0, 6.0, 35.0, 18.0, 6.0, 6.0, 10.0, 12.0, 14.0, 15.0, 12.0, 23.0, 47.0, 17.0, 16.0, 15.0, 16.0, 24.0, 11.0, 36.0, 20.0, 17.0, 4.0, 18.0, 23.0, 8.0, 20.0, 18.0, 12.0, 7.0, 18.0, 40.0, 11.0, 15.0, 25.0, 13.0, 33.0, 15.0, 16.0, 22.0, 14.0, 21.0, 9.0, 8.0, 39.0, 7.0, 13.0, 14.0, 10.0, 14.0, 27.0, 32.0, 11.0, 26.0, 9.0, 48.0, 10.0, 11.0, 16.0, 15.0, 9.0, 30.0, 26.0, 12.0, 16.0, 23.0, 14.0, 14.0, 11.0, 30.0, 43.0, 12.0, 32.0, 11.0, 11.0, 16.0, 33.0, 13.0, 9.0, 22.0, 12.0, 18.0, 31.0, 16.0, 14.0, 37.0, 22.0, 16.0, 13.0, 15.0, 33.0, 16.0, 23.0, 13.0, 9.0, 11.0, 3.0, 4.0, 18.0, 19.0, 20.0, 31.0, 18.0, 25.0, 37.0, 8.0, 20.0, 34.0, 17.0, 29.0, 11.0, 22.0, 7.0, 22.0, 7.0, 13.0, 28.0, 7.0, 32.0, 9.0, 23.0, 34.0, 11.0, 9.0, 13.0, 6.0, 13.0, 22.0, 24.0, 10.0, 34.0, 10.0, 81.0, 22.0, 13.0, 14.0, 10.0, 16.0, 27.0, 25.0, 27.0, 2.0, 5.0, 12.0, 19.0, 14.0, 21.0, 28.0, 14.0, 10.0, 18.0, 2.0, 38.0, 8.0, 14.0, 27.0, 175.0, 11.0, 15.0, 8.0, 24.0, 4.0, 40.0, 11.0, 60.0, 11.0, 31.0, 11.0, 9.0, 13.0, 31.0, 17.0, 7.0, 16.0, 8.0, 8.0, 16.0, 10.0, 27.0, 16.0, 18.0, 15.0, 6.0, 10.0, 7.0, 6.0, 25.0, 14.0, 14.0, 25.0, 14.0, 7.0, 27.0, 48.0, 9.0, 22.0, 9.0, 12.0, 34.0, 14.0, 36.0, 23.0, 21.0, 20.0, 20.0, 18.0, 9.0, 18.0, 17.0, 27.0, 9.0, 14.0, 10.0, 11.0, 16.0, 11.0, 14.0, 18.0, 24.0, 23.0, 5.0, 11.0, 19.0, 2.0, 18.0, 15.0, 30.0, 3.0, 44.0, 19.0, 26.0, 3.0, 45.0, 10.0, 13.0, 9.0, 12.0, 15.0, 10.0, 10.0, 10.0, 17.0, 13.0, 34.0, 22.0, 32.0, 31.0, 14.0, 11.0, 14.0, 11.0, 25.0, 28.0, 17.0, 16.0, 15.0, 8.0, 20.0, 10.0, 14.0, 11.0, 12.0, 12.0, 8.0, 13.0, 28.0, 19.0, 10.0, 3.0, 31.0, 14.0, 17.0, 22.0, 30.0, 10.0, 23.0, 30.0, 12.0, 13.0, 16.0, 33.0, 19.0, 11.0, 13.0, 20.0, 12.0, 34.0, 26.0, 23.0, 56.0, 7.0, 19.0, 23.0, 11.0, 29.0, 14.0, 11.0, 18.0, 12.0, 23.0, 15.0, 6.0, 24.0, 20.0, 10.0, 4.0, 14.0, 23.0, 21.0, 18.0, 21.0, 16.0, 7.0, 19.0, 12.0, 24.0, 4.0, 15.0, 38.0, 12.0, 22.0, 10.0, 8.0, 10.0, 7.0, 3.0, 17.0, 8.0, 15.0, 11.0, 39.0, 17.0, 7.0, 13.0, 9.0, 26.0, 27.0, 11.0, 7.0, 21.0, 23.0, 15.0, 15.0, 3.0, 14.0, 11.0, 27.0, 10.0, 10.0, 31.0, 9.0, 35.0, 7.0, 26.0, 14.0, 13.0, 24.0, 14.0, 36.0, 17.0, 16.0, 20.0, 12.0, 34.0, 25.0, 31.0, 20.0, 15.0, 52.0, 32.0, 35.0, 7.0, 14.0, 9.0, 15.0, 21.0, 11.0, 9.0, 23.0, 18.0, 14.0, 17.0, 10.0, 13.0, 21.0, 61.0, 48.0, 33.0, 14.0, 34.0, 13.0, 19.0, 14.0, 13.0, 49.0, 17.0, 16.0, 17.0, 18.0, 11.0, 26.0, 7.0, 40.0, 33.0, 9.0, 26.0, 14.0, 28.0, 15.0, 14.0, 10.0, 32.0, 19.0, 3.0, 8.0, 16.0, 29.0, 9.0, 22.0, 15.0, 8.0, 31.0, 33.0, 16.0, 19.0, 32.0, 20.0, 16.0, 17.0, 19.0, 42.0, 27.0, 19.0, 21.0, 10.0, 5.0, 33.0, 5.0, 13.0, 14.0, 17.0, 9.0, 15.0, 4.0, 3.0, 11.0, 36.0, 11.0, 8.0, 9.0, 16.0, 17.0, 13.0, 24.0, 13.0, 19.0, 13.0, 31.0, 10.0, 17.0, 28.0, 11.0, 6.0, 38.0, 11.0, 16.0, 27.0, 8.0, 15.0, 13.0, 5.0, 20.0, 71.0, 10.0, 6.0, 25.0, 12.0, 19.0, 7.0, 17.0, 21.0, 22.0, 10.0, 8.0, 10.0, 19.0, 10.0, 11.0, 10.0, 27.0, 2.0, 8.0, 12.0, 25.0, 41.0, 41.0, 30.0, 14.0, 19.0, 5.0, 23.0, 12.0, 15.0, 25.0, 22.0, 8.0, 19.0, 23.0, 10.0, 32.0, 13.0, 11.0, 9.0, 13.0, 14.0, 14.0, 19.0, 7.0, 27.0, 15.0, 13.0, 12.0, 17.0, 8.0, 2.0, 9.0, 19.0, 9.0, 17.0, 12.0, 15.0, 46.0, 28.0, 16.0, 25.0, 29.0, 41.0, 22.0, 39.0, 22.0, 4.0, 22.0, 4.0, 25.0, 19.0, 10.0, 17.0, 33.0, 17.0, 13.0, 13.0, 9.0, 17.0, 19.0, 44.0, 23.0, 7.0, 7.0, 4.0, 22.0, 8.0, 11.0, 11.0, 45.0, 11.0, 25.0, 19.0, 23.0, 21.0, 10.0, 15.0, 6.0, 57.0, 33.0, 8.0, 14.0, 19.0, 24.0, 20.0, 12.0, 22.0, 27.0, 29.0, 16.0, 13.0, 12.0, 17.0, 16.0, 17.0, 13.0, 11.0, 10.0, 28.0, 26.0, 23.0, 16.0, 19.0, 4.0, 19.0, 9.0, 7.0, 10.0, 28.0, 7.0, 5.0, 15.0, 22.0, 9.0, 34.0, 4.0, 15.0, 2.0, 20.0, 10.0, 26.0, 2.0, 27.0, 46.0, 31.0, 23.0, 7.0, 25.0, 20.0, 12.0, 12.0, 27.0, 12.0, 14.0, 27.0, 14.0, 22.0, 38.0, 11.0, 16.0, 24.0, 67.0, 9.0, 23.0, 7.0, 9.0, 24.0, 26.0, 26.0, 11.0, 19.0, 19.0, 12.0, 16.0, 40.0, 20.0, 12.0, 20.0, 19.0, 11.0, 12.0, 4.0, 18.0, 57.0, 18.0, 48.0, 25.0, 26.0, 28.0, 19.0, 42.0, 22.0, 16.0, 21.0, 49.0, 21.0, 8.0, 33.0, 31.0, 12.0, 19.0, 7.0, 3.0, 25.0, 13.0, 14.0, 29.0, 2.0, 47.0, 43.0, 19.0, 9.0, 5.0, 41.0, 49.0, 22.0, 12.0, 30.0, 12.0, 25.0, 31.0, 13.0, 37.0, 11.0, 22.0, 9.0, 20.0, 33.0, 21.0, 16.0, 2.0, 15.0, 16.0, 16.0, 5.0, 13.0, 18.0, 23.0, 30.0, 13.0, 31.0, 21.0, 4.0, 24.0, 9.0, 62.0, 3.0, 18.0, 26.0, 12.0, 7.0, 10.0, 17.0, 21.0, 34.0, 47.0, 14.0, 24.0, 28.0, 26.0, 5.0, 27.0, 27.0, 21.0, 13.0, 5.0, 34.0, 19.0, 20.0, 6.0, 23.0, 15.0, 11.0, 28.0, 32.0, 20.0, 18.0, 21.0, 12.0, 25.0, 27.0, 32.0, 16.0, 22.0, 23.0, 13.0, 32.0, 40.0, 18.0, 23.0, 25.0, 5.0, 18.0, 29.0, 18.0, 34.0, 18.0, 11.0, 29.0, 17.0, 32.0, 27.0, 30.0, 16.0, 8.0, 42.0, 33.0, 6.0, 3.0, 7.0, 22.0, 22.0, 27.0, 31.0, 46.0, 15.0, 33.0, 9.0, 14.0, 19.0, 13.0, 19.0, 20.0, 19.0, 3.0, 12.0, 29.0, 8.0, 19.0, 21.0, 30.0, 18.0, 18.0, 10.0, 22.0, 15.0, 8.0, 100.0, 40.0, 29.0, 7.0, 16.0, 31.0, 26.0, 23.0, 18.0, 25.0, 5.0, 38.0, 26.0, 14.0, 53.0, 28.0, 13.0, 19.0, 16.0, 36.0, 11.0, 7.0, 16.0, 59.0, 20.0, 11.0, 47.0, 58.0, 20.0, 13.0, 32.0, 26.0, 14.0, 17.0, 35.0, 11.0, 55.0, 31.0, 22.0, 23.0, 7.0, 9.0, 9.0, 20.0, 15.0, 16.0, 21.0, 10.0, 28.0, 5.0, 23.0, 18.0, 21.0, 26.0, 15.0, 45.0, 50.0, 3.0, 30.0, 7.0, 14.0, 37.0, 9.0, 27.0, 7.0, 25.0, 8.0, 20.0, 18.0, 22.0, 17.0, 47.0, 12.0, 31.0, 13.0, 10.0, 36.0, 23.0, 18.0, 8.0, 17.0, 74.0, 17.0, 24.0, 53.0, 29.0, 17.0, 84.0, 21.0, 20.0, 17.0, 14.0, 24.0, 30.0, 9.0, 2.0, 17.0, 11.0, 33.0, 10.0, 8.0, 17.0, 28.0, 11.0, 23.0, 25.0, 28.0, 58.0, 2.0, 25.0, 23.0, 13.0, 8.0, 42.0, 26.0, 15.0, 6.0, 9.0, 7.0, 38.0, 19.0, 16.0, 23.0, 6.0, 12.0, 19.0, 16.0, 9.0, 16.0, 9.0, 21.0, 23.0, 13.0, 3.0, 25.0, 4.0, 17.0, 28.0, 20.0, 13.0, 38.0, 28.0, 17.0, 16.0, 18.0, 30.0, 15.0, 10.0, 10.0, 19.0, 8.0, 27.0, 24.0, 20.0, 30.0, 19.0, 18.0, 18.0, 20.0, 24.0, 16.0, 16.0, 20.0, 35.0, 8.0, 18.0, 14.0, 13.0, 18.0, 24.0, 11.0, 23.0, 24.0, 33.0, 14.0, 31.0, 29.0, 17.0, 4.0, 40.0, 27.0, 29.0, 14.0, 24.0, 18.0, 20.0, 11.0, 19.0, 10.0, 4.0, 25.0, 18.0, 32.0, 8.0, 27.0, 21.0, 24.0, 32.0, 16.0, 27.0, 7.0, 27.0, 21.0, 30.0, 34.0, 13.0, 6.0, 21.0, 13.0, 19.0, 36.0, 24.0, 19.0, 36.0, 15.0, 21.0, 41.0, 14.0, 3.0, 23.0, 18.0, 22.0, 11.0, 22.0, 23.0, 36.0, 39.0, 20.0, 11.0, 12.0, 17.0, 25.0, 47.0, 26.0, 23.0, 17.0, 15.0, 16.0, 35.0, 19.0, 7.0, 22.0, 18.0, 19.0, 24.0, 10.0, 41.0, 10.0, 6.0, 16.0, 21.0, 27.0, 31.0, 13.0, 22.0, 33.0, 22.0, 16.0, 22.0, 13.0, 12.0, 15.0, 14.0, 15.0, 13.0, 15.0, 32.0, 15.0, 28.0, 17.0, 11.0, 18.0, 12.0, 19.0, 33.0, 8.0, 18.0, 21.0, 19.0, 40.0, 26.0, 16.0, 43.0, 10.0, 11.0, 8.0, 4.0, 16.0, 35.0, 17.0, 23.0, 37.0, 37.0, 14.0, 11.0, 31.0, 43.0, 19.0, 19.0, 41.0, 20.0, 22.0, 22.0, 26.0, 24.0, 14.0, 32.0, 24.0, 8.0, 30.0, 2.0, 27.0, 5.0, 33.0, 37.0, 29.0, 28.0, 25.0, 66.0, 9.0, 34.0, 29.0, 31.0, 7.0, 21.0, 27.0, 19.0, 16.0, 25.0, 23.0, 40.0, 11.0, 21.0, 37.0, 9.0, 34.0, 23.0, 27.0, 24.0, 23.0, 22.0, 29.0, 9.0, 35.0, 31.0, 9.0, 27.0, 30.0, 20.0, 31.0, 42.0, 19.0, 3.0, 20.0, 7.0, 16.0, 16.0, 27.0, 6.0, 14.0, 21.0, 37.0, 20.0, 32.0, 10.0, 30.0, 38.0, 24.0, 24.0, 26.0, 23.0, 8.0, 102.0, 16.0, 28.0, 12.0, 26.0, 24.0, 31.0, 22.0, 21.0, 4.0, 13.0, 7.0, 21.0, 7.0, 25.0, 11.0, 12.0, 27.0, 15.0, 17.0, 40.0, 29.0, 26.0, 5.0, 35.0, 2.0, 32.0, 20.0, 15.0, 30.0, 19.0, 24.0, 22.0, 11.0, 17.0, 12.0, 13.0, 135.0, 36.0, 16.0, 31.0, 16.0, 12.0, 40.0, 7.0, 28.0, 12.0, 15.0, 13.0, 27.0, 6.0, 12.0, 30.0, 15.0, 47.0, 12.0, 15.0, 34.0, 23.0, 35.0, 19.0, 37.0, 23.0, 41.0, 23.0, 23.0, 21.0, 33.0, 8.0, 21.0, 23.0, 13.0, 27.0, 46.0, 12.0, 32.0, 45.0, 15.0, 9.0, 11.0, 24.0, 33.0, 107.0, 29.0, 25.0, 4.0, 36.0, 30.0, 24.0, 19.0, 24.0, 25.0, 9.0, 26.0, 4.0, 12.0, 37.0, 14.0, 5.0, 19.0, 22.0, 12.0, 15.0, 10.0, 7.0, 30.0, 11.0, 34.0, 14.0, 23.0, 22.0, 12.0, 19.0, 3.0, 22.0, 8.0, 44.0, 14.0, 30.0, 14.0, 12.0, 39.0, 21.0, 28.0, 20.0, 35.0, 8.0, 24.0, 14.0, 9.0, 57.0, 25.0, 44.0, 11.0, 8.0, 26.0, 22.0, 18.0, 34.0, 28.0, 17.0, 11.0, 18.0, 43.0, 52.0, 17.0, 15.0, 24.0, 31.0, 8.0, 38.0, 11.0, 28.0, 3.0, 18.0, 18.0, 19.0, 16.0, 13.0, 28.0, 18.0, 23.0, 32.0, 4.0, 9.0, 19.0, 11.0, 14.0, 18.0, 16.0, 21.0, 9.0, 15.0, 53.0, 24.0, 16.0, 5.0, 34.0, 28.0, 18.0, 20.0, 33.0, 18.0, 5.0, 13.0, 27.0, 5.0, 9.0, 12.0, 22.0, 15.0, 21.0, 10.0, 4.0, 34.0, 26.0, 5.0, 7.0, 17.0, 6.0, 16.0, 13.0, 11.0, 18.0, 14.0, 88.0, 2.0, 4.0, 5.0, 29.0, 4.0, 22.0, 21.0, 18.0, 7.0, 24.0, 24.0, 10.0, 28.0, 16.0, 33.0, 15.0, 31.0, 14.0, 12.0, 6.0, 11.0, 21.0, 10.0, 41.0, 39.0, 26.0, 30.0, 9.0, 15.0, 11.0, 34.0, 12.0, 39.0, 23.0, 3.0, 47.0, 23.0, 33.0, 13.0, 2.0, 20.0, 20.0, 90.0, 12.0, 20.0, 34.0, 20.0, 3.0, 20.0, 13.0, 46.0, 53.0, 11.0, 25.0, 15.0, 36.0, 24.0, 12.0, 10.0, 18.0, 16.0, 9.0, 16.0, 24.0, 84.0, 11.0, 8.0, 12.0, 8.0, 21.0, 6.0, 23.0, 9.0, 20.0, 15.0, 31.0, 33.0, 42.0, 10.0, 27.0, 26.0, 28.0, 21.0, 12.0, 23.0, 28.0, 25.0, 13.0, 22.0, 8.0, 17.0, 12.0, 5.0, 10.0, 14.0, 19.0, 28.0, 36.0, 17.0, 30.0, 9.0, 6.0, 25.0, 7.0, 4.0, 30.0, 10.0, 14.0, 20.0, 28.0, 36.0, 15.0, 32.0, 8.0, 22.0, 34.0, 11.0, 20.0, 26.0, 40.0, 18.0, 16.0, 15.0, 61.0, 6.0, 25.0, 5.0, 20.0, 13.0, 24.0, 29.0, 39.0, 15.0, 21.0, 26.0, 31.0, 17.0, 39.0, 7.0, 18.0, 4.0, 15.0, 31.0, 30.0, 34.0, 23.0, 7.0, 38.0, 12.0, 13.0, 22.0, 56.0, 3.0, 16.0, 22.0, 30.0, 22.0, 56.0, 23.0, 6.0, 14.0, 34.0, 6.0, 5.0, 31.0, 24.0, 29.0, 33.0, 30.0, 12.0, 7.0, 24.0, 21.0, 9.0, 25.0, 19.0, 29.0, 11.0, 8.0, 17.0, 28.0, 10.0, 32.0, 41.0, 31.0, 33.0, 8.0, 15.0, 11.0, 45.0, 21.0, 22.0, 21.0, 2.0, 48.0, 12.0, 17.0, 33.0, 35.0, 25.0, 17.0, 23.0, 7.0, 13.0, 9.0, 16.0, 8.0, 36.0, 11.0, 24.0, 13.0, 28.0, 16.0, 4.0, 25.0, 22.0, 24.0, 29.0, 19.0, 35.0, 21.0, 2.0, 41.0, 14.0, 32.0, 34.0, 17.0, 15.0, 31.0, 23.0, 22.0, 12.0, 14.0, 10.0, 43.0, 47.0, 26.0, 34.0, 28.0, 24.0, 39.0, 18.0, 16.0, 22.0, 17.0, 36.0, 24.0, 15.0, 30.0, 38.0, 39.0, 21.0, 17.0, 11.0, 9.0, 15.0, 25.0, 28.0, 38.0, 22.0, 23.0, 15.0, 21.0, 40.0, 23.0, 30.0, 40.0, 2.0, 15.0, 10.0, 27.0, 5.0, 131.0, 8.0, 2.0, 21.0, 53.0, 15.0, 21.0, 48.0, 22.0, 14.0, 15.0, 20.0, 15.0, 32.0, 17.0, 22.0, 25.0, 28.0, 9.0, 16.0, 20.0, 5.0, 21.0, 16.0, 13.0, 32.0, 18.0, 29.0, 41.0, 10.0, 26.0, 19.0, 2.0, 5.0, 19.0, 11.0, 22.0, 17.0, 44.0, 25.0, 31.0, 14.0, 25.0, 9.0, 14.0, 28.0, 9.0, 17.0, 34.0, 60.0, 8.0, 39.0, 16.0, 12.0, 25.0, 25.0, 22.0, 13.0, 28.0, 7.0, 23.0, 24.0, 9.0, 41.0, 14.0, 18.0, 25.0, 38.0, 16.0, 2.0, 40.0, 25.0, 12.0, 11.0, 42.0, 11.0, 10.0, 27.0, 4.0, 19.0, 24.0, 22.0, 25.0, 22.0, 13.0, 26.0, 16.0, 12.0, 30.0, 23.0, 11.0, 14.0, 9.0, 22.0, 27.0, 32.0, 20.0, 6.0, 20.0, 28.0, 16.0, 17.0, 6.0, 24.0, 38.0, 29.0, 6.0, 19.0, 2.0, 20.0, 28.0, 2.0, 49.0, 24.0, 19.0, 12.0, 38.0, 9.0, 86.0, 18.0, 42.0, 34.0, 21.0, 26.0, 29.0, 23.0, 19.0, 12.0, 4.0, 25.0, 7.0, 44.0, 40.0, 30.0, 21.0, 24.0, 69.0, 23.0, 24.0, 6.0, 20.0, 13.0, 25.0, 15.0, 25.0, 7.0, 14.0, 40.0, 33.0, 11.0, 32.0, 5.0, 46.0, 9.0, 16.0, 11.0, 9.0, 15.0, 11.0, 57.0, 29.0, 20.0, 21.0, 19.0, 8.0, 31.0, 9.0, 20.0, 24.0, 8.0, 17.0, 15.0, 24.0, 20.0, 20.0, 23.0, 4.0, 9.0, 40.0, 39.0, 22.0, 13.0, 7.0, 23.0, 11.0, 32.0, 20.0, 11.0, 24.0, 9.0, 13.0, 15.0, 14.0, 27.0, 52.0, 39.0, 22.0, 39.0, 55.0, 12.0, 35.0, 11.0, 121.0, 7.0, 31.0, 11.0, 27.0, 33.0, 13.0, 21.0, 12.0, 37.0, 7.0, 34.0, 17.0, 28.0, 9.0, 21.0, 26.0, 9.0, 16.0, 24.0, 11.0, 23.0, 69.0, 31.0, 57.0, 21.0, 20.0, 20.0, 5.0, 25.0, 34.0, 33.0, 10.0, 12.0, 29.0, 44.0, 21.0, 3.0, 14.0, 30.0, 9.0, 21.0, 16.0, 12.0, 15.0, 15.0, 42.0, 15.0, 14.0, 23.0, 11.0, 15.0, 8.0, 23.0, 40.0, 8.0, 33.0, 18.0, 47.0, 27.0, 10.0, 13.0, 22.0, 2.0, 14.0, 24.0, 17.0, 21.0, 7.0, 9.0, 35.0, 16.0, 37.0, 22.0, 18.0, 9.0, 49.0, 10.0, 33.0, 36.0, 6.0, 31.0, 49.0, 29.0, 47.0, 21.0, 13.0, 22.0, 10.0, 17.0, 38.0, 29.0, 20.0, 31.0, 14.0, 26.0, 14.0, 40.0, 33.0, 8.0, 23.0, 58.0, 42.0, 26.0, 21.0, 22.0, 22.0, 17.0, 7.0, 21.0, 23.0, 21.0, 23.0, 34.0, 7.0, 19.0, 27.0, 50.0, 24.0, 8.0, 35.0, 10.0, 11.0, 31.0, 19.0, 12.0, 19.0, 9.0, 32.0, 11.0, 15.0, 26.0, 29.0, 15.0, 3.0, 14.0, 71.0, 23.0, 29.0, 22.0, 18.0, 37.0, 17.0, 17.0, 20.0, 16.0, 58.0, 26.0, 35.0, 50.0, 16.0, 14.0, 50.0, 10.0, 18.0, 5.0, 35.0, 25.0, 27.0, 7.0, 25.0, 55.0, 7.0, 26.0, 24.0, 20.0, 15.0, 18.0, 28.0, 13.0, 27.0, 22.0, 9.0, 4.0, 2.0, 18.0, 33.0, 18.0, 42.0, 33.0, 18.0, 18.0, 9.0, 21.0, 14.0, 14.0, 21.0, 4.0, 34.0, 3.0, 7.0, 36.0, 12.0, 25.0, 21.0, 17.0, 21.0, 48.0, 14.0, 18.0, 24.0, 40.0, 12.0, 6.0, 22.0, 23.0, 13.0, 7.0, 25.0, 42.0, 5.0, 26.0, 8.0, 7.0, 37.0, 30.0, 24.0, 38.0, 33.0, 12.0, 31.0, 13.0, 6.0, 40.0, 19.0, 26.0, 8.0, 8.0, 40.0, 40.0, 9.0, 28.0, 12.0, 35.0, 21.0, 33.0, 32.0, 17.0, 7.0, 9.0, 11.0, 13.0, 13.0, 31.0, 19.0, 25.0, 17.0, 37.0, 53.0, 13.0, 20.0, 5.0, 94.0, 31.0, 27.0, 14.0, 23.0, 23.0, 14.0, 45.0, 17.0, 16.0, 45.0, 11.0, 7.0, 16.0, 34.0, 27.0, 22.0, 32.0, 10.0, 16.0, 35.0, 3.0, 26.0, 30.0, 16.0, 18.0, 22.0, 6.0, 30.0, 4.0, 33.0, 28.0, 4.0, 11.0, 32.0, 20.0, 34.0, 20.0, 36.0, 8.0, 24.0, 11.0, 24.0, 22.0, 15.0, 26.0, 25.0, 14.0, 37.0, 24.0, 13.0, 16.0, 33.0, 23.0, 58.0, 18.0, 25.0, 17.0, 22.0, 5.0, 32.0, 30.0, 15.0, 10.0, 38.0, 12.0, 20.0, 33.0, 47.0, 20.0, 13.0, 3.0, 17.0, 23.0, 19.0, 4.0, 34.0, 23.0, 34.0, 15.0, 8.0, 14.0, 21.0, 21.0, 13.0, 20.0, 11.0, 23.0, 25.0, 27.0, 31.0, 15.0, 10.0, 22.0, 23.0, 24.0, 25.0, 8.0, 35.0, 16.0, 43.0, 4.0, 3.0, 9.0, 13.0, 15.0, 17.0, 33.0, 14.0, 21.0, 34.0, 37.0, 15.0, 10.0, 50.0, 5.0, 5.0, 34.0, 24.0, 35.0, 20.0, 9.0, 8.0, 32.0, 8.0, 6.0, 12.0, 10.0, 76.0, 22.0, 15.0, 26.0, 9.0, 8.0, 15.0, 28.0, 5.0, 10.0, 20.0, 66.0, 33.0, 28.0, 22.0, 3.0, 30.0, 20.0, 25.0, 2.0, 16.0, 14.0, 21.0, 6.0, 5.0, 11.0, 12.0, 20.0, 43.0, 38.0, 81.0, 12.0, 10.0, 27.0, 17.0, 15.0, 11.0, 16.0, 31.0, 15.0, 18.0, 13.0, 56.0, 23.0, 16.0, 17.0, 62.0, 23.0, 11.0, 31.0, 12.0, 19.0, 34.0, 24.0, 6.0, 18.0, 17.0, 11.0, 17.0, 3.0, 41.0, 16.0, 20.0, 27.0, 25.0, 19.0, 24.0, 13.0, 12.0, 42.0, 24.0, 45.0, 10.0, 50.0, 19.0, 4.0, 21.0, 20.0, 14.0, 12.0, 6.0, 22.0, 24.0, 19.0, 14.0, 24.0, 18.0, 23.0, 15.0, 16.0, 6.0, 26.0, 21.0, 17.0, 22.0, 28.0, 24.0, 23.0, 18.0, 48.0, 116.0, 5.0, 34.0, 25.0, 16.0, 17.0, 31.0, 39.0, 28.0, 14.0, 20.0, 13.0, 51.0, 27.0, 31.0, 29.0, 33.0, 80.0, 33.0, 27.0, 26.0, 22.0, 13.0, 15.0, 30.0, 37.0, 30.0, 29.0, 8.0, 5.0, 31.0, 22.0, 29.0, 10.0, 6.0, 7.0, 26.0, 11.0, 8.0, 54.0, 16.0, 6.0, 54.0, 51.0, 15.0, 7.0, 22.0, 22.0, 44.0, 22.0, 16.0, 15.0, 9.0, 22.0, 10.0, 18.0, 21.0, 22.0, 22.0, 7.0, 21.0, 20.0, 11.0, 23.0, 40.0, 33.0, 29.0, 27.0, 36.0, 18.0, 23.0, 36.0, 10.0, 19.0, 16.0, 25.0, 6.0, 29.0, 18.0, 17.0, 19.0, 21.0, 13.0, 5.0, 20.0, 24.0, 41.0, 5.0, 2.0, 31.0, 3.0, 4.0, 64.0, 13.0, 11.0, 25.0, 23.0, 15.0, 3.0, 27.0, 28.0, 16.0, 116.0, 2.0, 27.0, 31.0, 18.0, 81.0, 22.0, 7.0, 4.0, 30.0, 31.0, 12.0, 24.0, 24.0, 10.0, 15.0, 59.0, 42.0, 23.0, 17.0, 17.0, 13.0, 11.0, 14.0, 17.0, 28.0, 14.0, 15.0, 14.0, 24.0, 43.0, 11.0, 35.0, 10.0, 24.0, 7.0, 57.0, 26.0, 40.0, 15.0, 16.0, 16.0, 6.0, 5.0, 28.0, 14.0, 11.0, 25.0, 28.0, 11.0, 24.0, 47.0, 32.0, 24.0, 20.0, 5.0, 13.0, 39.0, 3.0, 30.0, 8.0, 10.0, 44.0, 23.0, 28.0, 14.0, 25.0, 28.0, 25.0, 4.0, 37.0, 22.0, 7.0, 99.0, 14.0, 57.0, 42.0, 13.0, 7.0, 8.0, 10.0, 22.0, 5.0, 8.0, 16.0, 30.0, 16.0, 7.0, 20.0, 11.0, 7.0, 16.0, 22.0, 15.0, 19.0, 25.0, 36.0, 25.0, 29.0, 29.0, 21.0, 29.0, 9.0, 7.0, 24.0, 34.0, 27.0, 14.0, 17.0, 21.0, 19.0, 11.0, 5.0, 41.0, 62.0, 9.0, 8.0, 33.0, 13.0, 11.0, 21.0, 19.0, 16.0, 25.0, 10.0, 34.0, 22.0, 12.0, 7.0, 16.0, 15.0, 15.0, 25.0, 26.0, 28.0, 17.0, 3.0, 16.0, 35.0, 15.0, 85.0, 22.0, 17.0, 31.0, 11.0, 18.0, 10.0, 27.0, 3.0, 25.0, 37.0, 24.0, 29.0, 16.0, 39.0, 12.0, 20.0, 17.0, 12.0, 19.0, 21.0, 15.0, 13.0, 34.0, 56.0, 30.0, 34.0, 12.0, 70.0, 45.0, 15.0, 6.0, 24.0, 5.0, 24.0, 3.0, 20.0, 9.0, 19.0, 16.0, 25.0, 21.0, 32.0, 11.0, 15.0, 16.0, 25.0, 11.0, 57.0, 20.0, 17.0, 36.0, 24.0, 17.0, 7.0, 33.0, 7.0, 31.0, 39.0, 6.0, 16.0, 29.0, 9.0, 21.0, 16.0, 7.0, 16.0, 8.0, 21.0, 30.0, 15.0, 25.0, 25.0, 7.0, 21.0, 11.0, 20.0, 7.0, 7.0, 15.0, 24.0, 16.0, 20.0, 33.0, 36.0, 18.0, 11.0, 5.0, 8.0, 31.0, 9.0, 15.0, 20.0, 24.0, 11.0, 13.0, 12.0, 17.0, 15.0, 17.0, 22.0, 26.0, 19.0, 11.0, 26.0, 11.0, 10.0, 18.0, 11.0, 31.0, 26.0, 8.0, 16.0, 12.0, 6.0, 37.0, 3.0, 10.0, 8.0, 7.0, 14.0, 22.0, 9.0, 31.0, 29.0, 16.0, 17.0, 21.0, 31.0, 23.0, 26.0, 14.0, 45.0, 15.0, 23.0, 10.0, 23.0, 31.0, 12.0, 25.0, 138.0, 36.0, 11.0, 18.0, 28.0, 11.0, 34.0, 32.0, 18.0, 22.0, 11.0, 26.0, 36.0, 22.0, 5.0, 5.0, 15.0, 28.0, 16.0, 22.0, 35.0, 44.0, 21.0, 26.0, 19.0, 39.0, 9.0, 23.0, 58.0, 17.0, 14.0, 14.0, 38.0, 31.0, 27.0, 30.0, 40.0, 26.0, 12.0, 5.0, 14.0, 26.0, 23.0, 5.0, 42.0, 7.0, 22.0, 17.0, 31.0, 33.0, 14.0, 19.0, 9.0, 7.0, 22.0, 41.0, 15.0, 18.0, 35.0, 14.0, 30.0, 22.0, 15.0, 8.0, 11.0, 5.0, 31.0, 9.0, 45.0, 17.0, 41.0, 11.0, 16.0, 23.0, 6.0, 4.0, 29.0, 36.0, 14.0, 16.0, 19.0, 11.0, 17.0, 42.0, 13.0, 16.0, 33.0, 11.0, 20.0, 3.0, 19.0, 6.0, 13.0, 37.0, 14.0, 2.0, 16.0, 40.0, 13.0, 25.0, 30.0, 16.0, 4.0, 7.0, 22.0, 18.0, 31.0, 18.0, 36.0, 10.0, 85.0, 24.0, 2.0, 67.0, 39.0, 10.0, 18.0, 7.0, 21.0, 8.0, 13.0, 4.0, 7.0, 12.0, 5.0, 6.0, 30.0, 17.0, 18.0, 11.0, 7.0, 6.0, 28.0, 7.0, 20.0, 12.0, 15.0, 131.0, 14.0, 59.0, 12.0, 20.0, 10.0, 35.0, 15.0, 27.0, 51.0, 15.0, 12.0, 16.0, 35.0, 21.0, 20.0, 31.0, 9.0, 8.0, 22.0, 16.0, 5.0, 21.0, 13.0, 12.0, 18.0, 22.0, 35.0, 22.0, 4.0, 4.0, 23.0, 24.0, 10.0, 5.0, 11.0, 7.0, 22.0, 8.0, 28.0, 43.0, 13.0, 2.0, 36.0, 7.0, 14.0, 28.0, 7.0, 37.0, 4.0, 23.0, 21.0, 4.0, 6.0, 2.0, 35.0, 20.0, 19.0, 8.0, 18.0, 17.0, 15.0, 38.0, 41.0, 3.0, 13.0, 9.0, 8.0, 17.0, 20.0, 29.0, 16.0, 34.0, 23.0, 25.0, 3.0, 22.0, 33.0, 11.0, 28.0, 10.0, 40.0, 19.0, 19.0, 30.0, 17.0, 21.0, 22.0, 9.0, 38.0, 23.0, 9.0, 20.0, 57.0, 15.0, 31.0, 28.0, 57.0, 22.0, 10.0, 35.0, 37.0, 31.0, 18.0, 26.0, 9.0, 11.0, 24.0, 14.0, 6.0, 16.0, 24.0, 10.0, 37.0, 10.0, 35.0, 10.0, 14.0, 24.0, 9.0, 3.0, 11.0, 17.0, 7.0, 23.0, 25.0, 15.0, 16.0, 24.0, 19.0, 12.0, 4.0, 19.0, 26.0, 13.0, 48.0, 20.0, 8.0, 21.0, 24.0, 4.0, 13.0, 13.0, 25.0, 11.0, 2.0, 10.0, 16.0, 4.0, 12.0, 20.0, 11.0, 32.0, 5.0, 16.0, 12.0, 19.0, 11.0, 25.0, 11.0, 8.0, 18.0, 11.0, 19.0, 19.0, 13.0, 29.0, 15.0, 26.0, 15.0, 2.0, 12.0, 26.0, 13.0, 13.0, 30.0, 13.0, 23.0, 16.0, 10.0, 10.0, 11.0, 20.0, 50.0, 13.0, 26.0, 10.0, 28.0, 11.0, 18.0, 10.0, 12.0, 7.0, 8.0, 17.0, 61.0, 19.0, 16.0, 17.0, 20.0, 23.0, 2.0, 21.0, 7.0, 28.0, 6.0, 37.0, 16.0, 25.0, 27.0, 22.0, 12.0, 39.0, 17.0, 13.0, 11.0, 20.0, 19.0, 3.0, 11.0, 18.0, 7.0, 2.0, 13.0, 4.0, 12.0, 27.0, 32.0, 43.0, 7.0, 15.0, 2.0, 23.0, 36.0, 4.0, 7.0, 33.0, 13.0, 39.0, 14.0, 6.0, 64.0, 15.0, 25.0, 29.0, 27.0, 19.0, 12.0, 16.0, 45.0, 21.0, 35.0, 3.0, 28.0, 11.0, 10.0, 24.0, 28.0, 11.0, 23.0, 14.0, 24.0, 26.0, 31.0, 20.0, 36.0, 6.0, 19.0, 9.0, 32.0, 28.0, 75.0, 32.0, 29.0, 15.0, 43.0, 21.0, 13.0, 23.0, 16.0, 33.0, 22.0, 5.0, 21.0, 22.0, 23.0, 2.0, 2.0, 88.0, 29.0, 56.0, 25.0, 31.0, 26.0, 33.0, 8.0, 25.0, 21.0, 8.0, 25.0, 49.0, 27.0, 20.0, 15.0, 19.0, 25.0, 38.0, 4.0, 15.0, 46.0, 19.0, 8.0, 20.0, 4.0, 34.0, 28.0, 19.0, 5.0, 53.0, 16.0, 24.0, 27.0, 31.0, 11.0, 33.0, 11.0, 28.0, 10.0, 9.0, 26.0, 24.0, 14.0, 15.0, 48.0, 7.0, 13.0, 19.0, 56.0, 23.0, 6.0, 10.0, 48.0, 16.0, 25.0, 13.0, 31.0, 14.0, 8.0, 26.0, 49.0, 22.0, 13.0, 20.0, 34.0, 18.0, 19.0, 21.0, 13.0, 20.0, 24.0, 13.0, 8.0, 19.0, 3.0, 10.0, 7.0, 11.0, 22.0, 27.0, 25.0, 35.0, 17.0, 24.0, 7.0, 21.0, 16.0, 47.0, 57.0, 31.0, 44.0, 35.0, 26.0, 3.0, 25.0, 15.0, 23.0, 18.0, 3.0, 22.0, 9.0, 31.0, 29.0, 23.0, 115.0, 12.0, 14.0, 14.0, 9.0, 5.0, 9.0, 23.0, 41.0, 8.0, 58.0, 15.0, 19.0, 10.0, 14.0, 5.0, 19.0, 22.0, 20.0, 16.0, 22.0, 22.0, 5.0, 9.0, 3.0, 12.0, 29.0, 22.0, 33.0, 21.0, 39.0, 10.0, 26.0, 20.0, 16.0, 29.0, 39.0, 12.0, 4.0, 29.0, 12.0, 15.0, 5.0, 9.0, 21.0, 18.0, 8.0, 3.0, 8.0, 24.0, 18.0, 21.0, 16.0, 16.0, 25.0, 13.0, 4.0, 8.0, 25.0, 31.0, 8.0, 16.0, 17.0, 3.0, 77.0, 26.0, 18.0, 15.0, 22.0, 5.0, 8.0, 2.0, 23.0, 9.0, 38.0, 13.0, 16.0, 20.0, 11.0, 23.0, 13.0, 37.0, 9.0, 2.0, 31.0, 10.0, 12.0, 41.0, 41.0, 28.0, 19.0, 9.0, 6.0, 24.0, 10.0, 17.0, 40.0, 2.0, 44.0, 25.0, 73.0, 21.0, 18.0, 14.0, 15.0, 20.0, 29.0, 2.0, 22.0, 10.0, 21.0, 32.0, 34.0, 19.0, 13.0, 19.0, 22.0, 4.0, 31.0, 35.0, 69.0, 12.0, 14.0, 45.0, 21.0, 45.0, 17.0, 33.0, 19.0, 2.0, 26.0, 42.0, 54.0, 33.0, 21.0, 8.0, 35.0, 23.0, 16.0, 24.0, 16.0, 45.0, 12.0, 26.0, 61.0, 20.0, 24.0, 15.0, 21.0, 27.0, 10.0, 10.0, 9.0, 67.0, 19.0, 60.0, 14.0, 38.0, 10.0, 21.0, 20.0, 20.0, 10.0, 17.0, 24.0, 3.0, 12.0, 15.0, 12.0, 6.0, 31.0, 24.0, 21.0, 32.0, 10.0, 18.0, 20.0, 14.0, 25.0, 8.0, 22.0, 27.0, 10.0, 30.0, 16.0, 26.0, 42.0, 21.0, 53.0, 6.0, 14.0, 15.0, 29.0, 12.0, 28.0, 12.0, 2.0, 12.0, 18.0, 5.0, 4.0, 23.0, 6.0, 11.0, 6.0, 13.0, 5.0, 13.0, 19.0, 14.0, 23.0, 22.0, 24.0, 40.0, 23.0, 12.0, 4.0, 13.0, 12.0, 2.0, 14.0, 21.0, 12.0, 12.0, 28.0, 13.0, 16.0, 27.0, 13.0, 28.0, 9.0, 15.0, 4.0, 25.0, 21.0, 31.0, 11.0, 13.0, 11.0, 20.0, 33.0, 28.0, 5.0, 47.0, 33.0, 10.0, 20.0, 26.0, 11.0, 17.0, 3.0, 65.0, 27.0, 8.0, 10.0, 13.0, 13.0, 41.0, 20.0, 15.0, 35.0, 20.0, 30.0, 6.0, 39.0, 31.0, 37.0, 45.0, 21.0, 5.0, 14.0, 31.0, 2.0, 71.0, 6.0, 40.0, 12.0, 19.0, 26.0, 15.0, 17.0, 19.0, 20.0, 31.0, 28.0, 15.0, 26.0, 23.0, 26.0, 29.0, 7.0, 33.0, 25.0, 3.0, 14.0, 54.0, 4.0, 24.0, 8.0, 17.0, 20.0, 23.0, 6.0, 8.0, 17.0, 13.0, 40.0, 26.0, 13.0, 7.0, 3.0, 21.0, 7.0, 13.0, 7.0, 36.0, 12.0, 16.0, 22.0, 19.0, 17.0, 2.0, 8.0, 13.0, 32.0, 29.0, 24.0, 15.0, 25.0, 7.0, 21.0, 13.0, 16.0, 124.0, 13.0, 17.0, 17.0, 29.0, 16.0, 5.0, 27.0, 40.0, 25.0, 32.0, 37.0, 10.0, 9.0, 31.0, 47.0, 7.0, 41.0, 19.0, 12.0, 14.0, 20.0, 14.0, 11.0, 37.0, 4.0, 31.0, 33.0, 48.0, 42.0, 32.0, 12.0, 13.0, 17.0, 30.0, 23.0, 23.0, 3.0, 33.0, 56.0, 12.0, 48.0, 4.0, 2.0, 54.0, 9.0, 37.0, 11.0, 34.0, 13.0, 4.0, 34.0, 11.0, 6.0, 41.0, 18.0, 40.0, 12.0, 18.0, 25.0, 24.0, 23.0, 25.0, 12.0, 4.0, 18.0, 2.0, 4.0, 37.0, 14.0, 9.0, 12.0, 33.0, 30.0, 33.0, 34.0, 27.0, 43.0, 7.0, 11.0, 6.0, 23.0, 14.0, 56.0, 11.0, 14.0, 17.0, 9.0, 43.0, 24.0, 44.0, 49.0, 8.0, 30.0, 18.0, 24.0, 122.0, 6.0, 13.0, 28.0, 9.0, 13.0, 14.0, 18.0, 31.0, 16.0, 13.0, 36.0, 5.0, 20.0, 4.0, 30.0, 12.0, 23.0, 4.0, 13.0, 21.0, 23.0, 23.0, 19.0, 21.0, 7.0, 34.0, 17.0, 22.0, 5.0, 16.0, 36.0, 26.0, 24.0, 17.0, 27.0, 49.0, 15.0, 13.0, 56.0, 7.0, 24.0, 32.0, 17.0, 34.0, 25.0, 31.0, 22.0, 16.0, 8.0, 33.0, 15.0, 8.0, 18.0, 21.0, 16.0, 17.0, 8.0, 23.0, 4.0, 18.0, 16.0, 22.0, 9.0, 7.0, 15.0, 18.0, 23.0, 17.0, 104.0, 28.0, 21.0, 14.0, 6.0, 9.0, 10.0, 15.0, 17.0, 31.0, 27.0, 15.0, 25.0, 19.0, 60.0, 8.0, 10.0, 85.0, 23.0, 18.0, 38.0, 51.0, 4.0, 10.0, 7.0, 26.0, 37.0, 14.0, 50.0, 13.0, 20.0, 10.0, 20.0, 15.0, 18.0, 3.0, 18.0, 27.0, 13.0, 18.0, 15.0, 20.0, 26.0, 31.0, 12.0, 13.0, 11.0, 30.0, 75.0, 11.0, 15.0, 29.0, 18.0, 25.0, 42.0, 7.0, 33.0, 18.0, 38.0, 8.0, 15.0, 7.0, 23.0, 6.0, 25.0, 9.0, 4.0, 12.0, 20.0, 7.0, 15.0, 23.0, 13.0, 47.0, 5.0, 4.0, 9.0, 31.0, 9.0, 24.0, 31.0, 17.0, 32.0, 16.0, 19.0, 26.0, 20.0, 19.0, 7.0, 21.0, 29.0, 29.0, 8.0, 10.0, 17.0, 5.0, 19.0, 25.0, 15.0, 39.0, 31.0, 2.0, 30.0, 7.0, 22.0, 6.0, 35.0, 19.0, 40.0, 15.0, 123.0, 35.0, 7.0, 6.0, 21.0, 38.0, 21.0, 61.0, 13.0, 35.0, 23.0, 26.0, 17.0, 31.0, 17.0, 88.0, 5.0, 20.0, 21.0, 28.0, 15.0, 33.0, 10.0, 17.0, 13.0, 8.0, 21.0, 36.0, 16.0, 3.0, 31.0, 14.0, 10.0, 21.0, 28.0, 29.0, 72.0, 21.0, 23.0, 25.0, 7.0, 8.0, 6.0, 24.0, 69.0, 57.0, 59.0, 7.0, 6.0, 14.0, 12.0, 21.0, 19.0, 34.0, 28.0, 32.0, 2.0, 7.0, 31.0, 6.0, 41.0, 18.0, 20.0, 8.0, 39.0, 17.0, 6.0, 59.0, 12.0, 36.0, 36.0, 27.0, 33.0, 10.0, 32.0, 12.0, 9.0, 20.0, 22.0, 29.0, 32.0, 8.0, 25.0, 17.0, 22.0, 6.0, 7.0, 18.0, 36.0, 35.0, 16.0, 2.0, 42.0, 13.0, 17.0, 4.0, 28.0, 62.0, 27.0, 28.0, 11.0, 32.0, 46.0, 5.0, 3.0, 12.0, 20.0, 4.0, 10.0, 35.0, 6.0, 7.0, 6.0, 8.0, 16.0, 2.0, 34.0, 15.0, 16.0, 21.0, 42.0, 15.0, 5.0, 25.0, 43.0, 15.0, 6.0, 15.0, 2.0, 20.0, 12.0, 20.0, 17.0, 14.0, 16.0, 21.0, 41.0, 19.0, 12.0, 10.0, 40.0, 13.0, 26.0, 4.0, 14.0, 19.0, 20.0, 10.0, 7.0, 5.0, 27.0, 13.0, 12.0, 19.0, 9.0, 14.0, 18.0, 20.0, 12.0, 14.0, 17.0, 23.0, 3.0, 20.0, 12.0, 69.0, 12.0, 11.0, 18.0, 20.0, 21.0, 13.0, 33.0, 20.0, 12.0, 19.0, 20.0, 27.0, 3.0, 29.0, 22.0, 34.0, 21.0, 12.0, 21.0, 13.0, 24.0, 8.0, 29.0, 10.0, 31.0, 17.0, 11.0, 7.0, 28.0, 2.0, 20.0, 6.0, 23.0, 6.0, 17.0, 6.0, 10.0, 19.0, 23.0, 16.0, 13.0, 24.0, 32.0, 21.0, 17.0, 21.0, 6.0, 38.0, 10.0, 20.0, 21.0, 17.0, 31.0, 16.0, 41.0, 11.0, 15.0, 17.0, 8.0, 16.0, 4.0, 18.0, 34.0, 28.0, 19.0, 15.0, 19.0, 11.0, 9.0, 19.0, 22.0, 9.0, 12.0, 4.0, 8.0, 24.0, 27.0, 15.0, 16.0, 19.0, 16.0, 43.0, 22.0, 30.0, 99.0, 16.0, 22.0, 7.0, 16.0, 65.0, 8.0, 18.0, 11.0, 12.0, 15.0, 37.0, 16.0, 32.0, 35.0, 22.0, 17.0, 11.0, 15.0, 16.0, 18.0, 18.0, 10.0, 93.0, 18.0, 58.0, 16.0, 29.0, 16.0, 39.0, 3.0, 5.0, 45.0, 17.0, 24.0, 9.0, 13.0, 15.0, 8.0, 5.0, 33.0, 9.0, 8.0, 29.0, 18.0, 5.0, 31.0, 13.0, 16.0, 12.0, 5.0, 57.0, 10.0, 22.0, 19.0, 9.0, 13.0, 3.0, 28.0, 22.0, 17.0, 3.0, 10.0, 17.0, 9.0, 20.0, 2.0, 40.0, 11.0, 17.0, 19.0, 18.0, 23.0, 18.0, 11.0, 30.0, 49.0, 15.0, 19.0, 9.0, 2.0, 27.0, 33.0, 25.0, 17.0, 25.0, 19.0, 30.0, 12.0, 7.0, 54.0, 17.0, 25.0, 58.0, 60.0, 21.0, 92.0, 19.0, 4.0, 18.0, 30.0, 27.0, 19.0, 35.0, 36.0, 3.0, 30.0, 22.0, 15.0, 18.0, 21.0, 7.0, 101.0, 42.0, 27.0, 40.0, 4.0, 8.0, 14.0, 23.0, 18.0, 13.0, 76.0, 27.0, 47.0, 11.0, 19.0, 22.0, 10.0, 6.0, 20.0, 46.0, 10.0, 30.0, 36.0, 18.0, 23.0, 39.0, 16.0, 28.0, 41.0, 9.0, 9.0, 14.0, 13.0, 23.0, 5.0, 17.0, 29.0, 7.0, 21.0, 14.0, 23.0, 6.0, 34.0, 8.0, 4.0, 18.0, 20.0, 11.0, 18.0, 10.0, 26.0, 39.0, 7.0, 6.0, 48.0, 26.0, 6.0, 23.0, 9.0, 27.0, 10.0, 23.0, 7.0, 17.0, 17.0, 18.0, 4.0, 4.0, 20.0, 16.0, 43.0, 25.0, 2.0, 12.0, 69.0, 28.0, 9.0, 12.0, 18.0, 13.0, 19.0, 9.0, 17.0, 43.0, 15.0, 7.0, 10.0, 12.0, 21.0, 7.0, 9.0, 16.0, 16.0, 15.0, 16.0, 7.0, 3.0, 20.0, 24.0, 11.0, 33.0, 21.0, 22.0, 29.0, 10.0, 38.0, 11.0, 21.0, 5.0, 30.0, 24.0, 11.0, 9.0, 22.0, 80.0, 20.0, 17.0, 27.0, 15.0, 29.0, 12.0, 37.0, 34.0, 16.0, 12.0, 99.0, 7.0, 46.0, 13.0, 10.0, 8.0, 25.0, 4.0, 35.0, 39.0, 56.0, 27.0, 44.0, 19.0, 15.0, 17.0, 24.0, 17.0, 5.0, 16.0, 8.0, 31.0, 22.0, 10.0, 10.0, 4.0, 27.0, 19.0, 5.0, 22.0, 21.0, 26.0, 30.0, 14.0, 22.0, 32.0, 28.0, 36.0, 19.0, 15.0, 5.0, 7.0, 11.0, 48.0, 18.0, 15.0, 5.0, 3.0, 22.0, 19.0, 15.0, 12.0, 25.0, 22.0, 8.0, 7.0, 2.0, 18.0, 25.0, 22.0, 79.0, 14.0, 26.0, 10.0, 14.0, 14.0, 24.0, 17.0, 21.0, 13.0, 14.0, 8.0, 23.0, 63.0, 10.0, 46.0, 19.0, 16.0, 10.0, 78.0, 28.0, 7.0, 23.0, 8.0, 13.0, 35.0, 15.0, 24.0, 20.0, 26.0, 5.0, 30.0, 12.0, 22.0, 19.0, 14.0, 15.0, 22.0, 5.0, 3.0, 8.0, 36.0, 32.0, 44.0, 2.0, 5.0, 4.0, 31.0, 25.0, 5.0, 15.0, 22.0, 17.0, 14.0, 15.0, 23.0, 21.0, 28.0, 15.0, 11.0, 22.0, 10.0, 58.0, 7.0, 14.0, 9.0, 10.0, 13.0, 10.0, 12.0, 8.0, 13.0, 6.0, 28.0, 13.0, 31.0, 19.0, 26.0, 17.0, 35.0, 18.0, 10.0, 21.0, 2.0, 24.0, 15.0, 36.0, 41.0, 16.0, 13.0, 13.0, 24.0, 13.0, 33.0, 24.0, 6.0, 15.0, 21.0, 16.0, 29.0, 18.0, 14.0, 30.0, 5.0, 30.0, 34.0, 35.0, 19.0, 22.0, 72.0, 26.0, 12.0, 14.0, 30.0, 14.0, 24.0, 16.0, 69.0, 14.0, 4.0, 10.0, 16.0, 19.0, 7.0, 9.0, 10.0, 5.0, 12.0, 18.0, 11.0, 25.0, 31.0, 10.0, 22.0, 24.0, 23.0, 15.0, 15.0, 4.0, 8.0, 20.0, 5.0, 19.0, 20.0, 68.0, 44.0, 55.0, 25.0, 5.0, 9.0, 19.0, 24.0, 30.0, 7.0, 47.0, 20.0, 17.0, 25.0, 8.0, 15.0, 5.0, 20.0, 6.0, 4.0, 23.0, 14.0, 9.0, 12.0, 16.0, 20.0, 46.0, 32.0, 32.0, 26.0, 25.0, 20.0, 43.0, 5.0, 16.0, 14.0, 13.0, 20.0, 13.0, 11.0, 4.0, 19.0, 13.0, 16.0, 7.0, 11.0, 4.0, 16.0, 59.0, 15.0, 29.0, 4.0, 9.0, 23.0, 8.0, 35.0, 6.0, 22.0, 11.0, 14.0, 11.0, 20.0, 18.0, 3.0, 15.0, 9.0, 33.0, 14.0, 18.0, 31.0, 14.0, 17.0, 22.0, 17.0, 16.0, 11.0, 33.0, 36.0, 46.0, 21.0, 22.0, 8.0, 19.0, 10.0, 78.0, 11.0, 24.0, 9.0, 12.0, 25.0, 29.0, 131.0, 34.0, 22.0, 24.0, 18.0, 10.0, 13.0, 47.0, 11.0, 22.0, 30.0, 4.0, 27.0, 15.0, 11.0, 30.0, 29.0, 12.0, 22.0, 12.0, 38.0, 18.0, 22.0, 9.0, 66.0, 14.0, 36.0, 34.0, 31.0, 22.0, 7.0, 26.0, 35.0, 33.0, 7.0, 30.0, 47.0, 27.0, 33.0, 8.0, 26.0, 13.0, 12.0, 16.0, 23.0, 18.0, 31.0, 18.0, 28.0, 32.0, 16.0, 19.0, 18.0, 4.0, 28.0, 19.0, 29.0, 66.0, 15.0, 38.0, 16.0, 25.0, 6.0, 25.0, 21.0, 38.0, 21.0, 15.0, 17.0, 9.0, 26.0, 5.0, 13.0, 117.0, 23.0, 20.0, 5.0, 17.0, 5.0, 10.0, 17.0, 18.0, 8.0, 27.0, 7.0, 28.0, 31.0, 23.0, 10.0, 30.0, 7.0, 7.0, 18.0, 10.0, 18.0, 4.0, 15.0, 24.0, 20.0, 18.0, 24.0, 20.0, 11.0, 56.0, 9.0, 8.0, 8.0, 13.0, 28.0, 22.0, 19.0, 9.0, 26.0, 23.0, 26.0, 28.0, 19.0, 5.0, 28.0, 6.0, 25.0, 15.0, 15.0, 30.0, 23.0, 17.0, 36.0, 5.0, 18.0, 11.0, 11.0, 14.0, 25.0, 27.0, 16.0, 23.0, 35.0, 13.0, 14.0, 13.0, 11.0, 29.0, 40.0, 26.0, 13.0, 4.0, 26.0, 10.0, 12.0, 20.0, 37.0, 12.0, 9.0, 16.0, 18.0, 13.0, 16.0, 5.0, 14.0, 10.0, 14.0, 13.0, 6.0, 9.0, 20.0, 18.0, 29.0, 28.0, 7.0, 27.0, 17.0, 23.0, 19.0, 23.0, 5.0, 13.0, 14.0, 5.0, 22.0, 6.0, 29.0, 35.0, 17.0, 30.0, 13.0, 23.0, 12.0, 32.0, 33.0, 9.0, 5.0, 22.0, 11.0, 30.0, 12.0, 25.0, 11.0, 24.0, 35.0, 13.0, 28.0, 14.0, 17.0, 14.0, 21.0, 27.0, 20.0, 14.0, 31.0, 17.0, 32.0, 10.0, 37.0, 5.0, 32.0, 26.0, 16.0, 31.0, 29.0, 9.0, 22.0, 16.0, 18.0, 10.0, 17.0, 15.0, 10.0, 22.0, 28.0, 22.0, 32.0, 24.0, 23.0, 9.0, 6.0, 7.0, 10.0, 10.0, 13.0, 16.0, 10.0, 50.0, 7.0, 21.0, 12.0, 17.0, 30.0, 20.0, 20.0, 6.0, 42.0, 21.0, 7.0, 11.0, 10.0, 6.0, 12.0, 29.0, 21.0, 7.0, 23.0, 10.0, 13.0, 23.0, 88.0, 19.0, 11.0, 32.0, 21.0, 29.0, 22.0, 17.0, 10.0, 6.0, 9.0, 15.0, 17.0, 23.0, 16.0, 9.0, 53.0, 5.0, 20.0, 32.0, 27.0, 9.0, 3.0, 30.0, 27.0, 11.0, 33.0, 13.0, 33.0, 26.0, 7.0, 10.0, 55.0, 17.0, 20.0, 33.0, 11.0, 13.0, 22.0, 10.0, 14.0, 13.0, 21.0, 26.0, 18.0, 34.0, 14.0, 16.0, 5.0, 44.0, 11.0, 25.0, 25.0, 47.0, 27.0, 29.0, 22.0, 26.0, 23.0, 28.0, 27.0, 28.0, 14.0, 13.0, 8.0, 32.0, 61.0, 12.0, 38.0, 15.0, 6.0, 12.0, 9.0, 20.0, 28.0, 20.0, 13.0, 26.0, 20.0, 16.0, 5.0, 18.0, 36.0, 8.0, 34.0, 13.0, 25.0, 29.0, 15.0, 29.0, 8.0, 27.0, 18.0, 14.0, 7.0, 18.0, 25.0, 21.0, 25.0, 7.0, 23.0, 21.0, 20.0, 9.0, 17.0, 44.0, 29.0, 45.0, 19.0, 9.0, 39.0, 15.0, 7.0, 13.0, 20.0, 64.0, 29.0, 42.0, 59.0, 10.0, 4.0, 11.0, 16.0, 14.0, 93.0, 12.0, 26.0, 23.0, 10.0, 9.0, 36.0, 24.0, 31.0, 19.0, 17.0, 9.0, 44.0, 44.0, 9.0, 31.0, 37.0, 25.0, 8.0, 13.0, 10.0, 15.0, 16.0, 14.0, 19.0, 21.0, 15.0, 6.0, 27.0, 58.0, 8.0, 39.0, 68.0, 25.0, 29.0, 18.0, 29.0, 24.0, 18.0, 29.0, 3.0, 33.0, 19.0, 23.0, 19.0, 10.0, 25.0, 11.0, 6.0, 34.0, 24.0, 17.0, 10.0, 20.0, 12.0, 15.0, 19.0, 52.0, 27.0, 14.0, 30.0, 22.0, 28.0, 12.0, 41.0, 18.0, 6.0, 28.0, 11.0, 11.0, 24.0, 2.0, 45.0, 32.0, 14.0, 19.0, 21.0, 27.0, 57.0, 13.0, 8.0, 28.0, 14.0, 17.0, 14.0, 35.0, 13.0, 12.0, 58.0, 2.0, 14.0, 15.0, 29.0, 35.0, 18.0, 21.0, 12.0, 21.0, 16.0, 29.0, 13.0, 16.0, 34.0, 20.0, 15.0, 13.0, 12.0, 19.0, 15.0, 25.0, 8.0, 15.0, 18.0, 15.0, 34.0, 16.0, 9.0, 34.0, 10.0, 10.0, 50.0, 11.0, 18.0, 25.0, 27.0, 34.0, 6.0, 19.0, 17.0, 26.0, 14.0, 16.0, 11.0, 22.0, 22.0, 33.0, 6.0, 17.0, 29.0, 14.0, 9.0, 9.0, 43.0, 28.0, 16.0, 7.0, 26.0, 15.0, 22.0, 8.0, 13.0, 22.0, 26.0, 12.0, 20.0, 11.0, 21.0, 34.0, 9.0, 25.0, 22.0, 28.0, 12.0, 28.0, 26.0, 12.0, 13.0, 50.0, 12.0, 26.0, 39.0, 38.0, 42.0, 28.0, 52.0, 16.0, 16.0, 46.0, 27.0, 32.0, 11.0, 96.0, 9.0, 10.0, 13.0, 10.0, 24.0, 26.0, 24.0, 21.0, 22.0, 10.0, 19.0, 17.0, 12.0, 24.0, 11.0, 13.0, 30.0, 43.0, 15.0, 12.0, 10.0, 25.0, 10.0, 16.0, 12.0, 15.0, 14.0, 13.0, 14.0, 9.0, 33.0, 8.0, 27.0, 27.0, 13.0, 14.0, 32.0, 7.0, 20.0, 12.0, 29.0, 13.0, 15.0, 27.0, 7.0, 14.0, 11.0, 9.0, 11.0, 31.0, 22.0, 6.0, 32.0, 19.0, 47.0, 14.0, 58.0, 76.0, 11.0, 32.0, 4.0, 20.0, 31.0, 37.0, 19.0, 21.0, 15.0, 16.0, 8.0, 20.0, 19.0, 42.0, 40.0, 4.0, 33.0, 15.0, 12.0, 49.0, 46.0, 31.0, 15.0, 12.0, 39.0, 57.0, 15.0, 11.0, 29.0, 32.0, 21.0, 63.0, 21.0, 14.0, 22.0, 32.0, 18.0, 30.0, 10.0, 13.0, 17.0, 13.0, 31.0, 15.0, 5.0, 8.0, 11.0, 24.0, 24.0, 52.0, 17.0, 8.0, 34.0, 29.0, 18.0, 18.0, 13.0, 34.0, 16.0, 21.0, 10.0, 21.0, 37.0, 18.0, 23.0, 16.0, 10.0, 21.0, 31.0, 14.0, 28.0, 21.0, 61.0, 23.0, 18.0, 17.0, 8.0, 35.0, 14.0, 15.0, 14.0, 30.0, 17.0, 22.0, 60.0, 32.0, 11.0, 3.0, 28.0, 24.0, 13.0, 5.0, 11.0, 9.0, 24.0, 26.0, 23.0, 15.0, 50.0, 11.0, 21.0, 18.0, 11.0, 25.0, 23.0, 32.0, 30.0, 20.0, 22.0, 25.0, 14.0, 27.0, 28.0, 14.0, 12.0, 45.0, 13.0, 21.0, 33.0, 22.0, 22.0, 25.0, 13.0, 31.0, 11.0, 9.0, 32.0, 29.0, 12.0, 11.0, 21.0, 13.0, 25.0, 11.0, 29.0, 6.0, 33.0, 26.0, 19.0, 60.0, 37.0, 11.0, 53.0, 18.0, 16.0, 11.0, 27.0, 16.0, 27.0, 18.0, 22.0, 14.0, 23.0, 13.0, 21.0, 27.0, 36.0, 14.0, 21.0, 27.0, 8.0, 21.0, 35.0, 19.0, 14.0, 18.0, 27.0, 20.0, 18.0, 22.0, 56.0, 20.0, 54.0, 33.0, 22.0, 13.0, 12.0, 38.0, 19.0, 27.0, 6.0, 28.0, 18.0, 21.0, 13.0, 11.0, 19.0, 8.0, 10.0, 15.0, 35.0, 11.0, 13.0, 37.0, 35.0, 31.0, 86.0, 41.0, 36.0, 19.0, 45.0, 9.0, 23.0, 27.0, 7.0, 17.0, 5.0, 17.0, 30.0, 31.0, 4.0, 23.0, 17.0, 26.0, 22.0, 45.0, 5.0, 8.0, 87.0, 21.0, 15.0, 7.0, 23.0, 59.0, 13.0, 22.0, 37.0, 27.0, 16.0, 74.0, 83.0, 21.0, 23.0, 27.0, 13.0, 17.0, 29.0, 18.0, 13.0, 19.0, 24.0, 57.0, 19.0, 6.0, 7.0, 21.0, 20.0, 9.0, 13.0, 19.0, 10.0, 15.0, 37.0, 5.0, 3.0, 28.0, 16.0, 66.0, 11.0, 19.0, 17.0, 26.0, 40.0, 21.0, 59.0, 11.0, 6.0, 14.0, 34.0, 16.0, 7.0, 6.0, 43.0, 73.0, 15.0, 11.0, 38.0, 29.0, 26.0, 5.0, 27.0, 26.0, 71.0, 48.0, 50.0, 24.0, 37.0, 13.0, 7.0, 9.0, 16.0, 33.0, 20.0, 38.0, 6.0, 18.0, 7.0, 15.0, 15.0, 5.0, 42.0, 13.0, 50.0, 77.0, 47.0, 8.0, 15.0, 17.0, 19.0, 4.0, 22.0, 140.0, 8.0, 22.0, 109.0, 25.0, 46.0, 10.0, 7.0, 53.0, 12.0, 6.0, 25.0, 21.0, 15.0, 22.0, 21.0, 26.0, 16.0, 10.0, 25.0, 19.0, 16.0, 36.0, 33.0, 46.0, 31.0, 4.0, 45.0, 11.0, 14.0, 22.0, 29.0, 26.0, 18.0, 6.0, 11.0, 14.0, 8.0, 39.0, 14.0, 21.0, 21.0, 22.0, 15.0, 17.0, 13.0, 24.0, 15.0, 45.0, 23.0, 23.0, 6.0, 17.0, 11.0, 15.0, 16.0, 18.0, 14.0, 10.0, 15.0, 17.0, 9.0, 20.0, 13.0, 37.0, 26.0, 15.0, 29.0, 26.0, 12.0, 15.0, 41.0, 20.0, 29.0, 15.0, 19.0, 27.0, 5.0, 16.0, 24.0, 19.0, 16.0, 21.0, 3.0, 24.0, 19.0, 29.0, 28.0, 20.0, 17.0, 21.0, 7.0, 32.0, 3.0, 23.0, 42.0, 19.0, 24.0, 21.0, 33.0, 19.0, 26.0, 33.0, 10.0, 14.0, 18.0, 11.0, 38.0, 5.0, 26.0, 20.0, 24.0, 21.0, 7.0, 32.0, 13.0, 20.0, 19.0, 17.0, 36.0, 15.0, 21.0, 30.0, 26.0, 23.0, 27.0, 19.0, 18.0, 13.0, 44.0, 11.0, 7.0, 31.0, 7.0, 35.0, 12.0, 6.0, 15.0, 17.0, 16.0, 32.0, 31.0, 9.0, 11.0, 15.0, 17.0, 15.0, 8.0, 6.0, 6.0, 18.0, 12.0, 13.0, 25.0, 64.0, 16.0, 29.0, 26.0, 33.0, 19.0, 29.0, 4.0, 27.0, 22.0, 13.0, 13.0, 21.0, 15.0, 37.0, 8.0, 26.0, 11.0, 10.0, 14.0, 23.0, 45.0, 40.0, 25.0, 19.0, 8.0, 40.0, 18.0, 4.0, 9.0, 22.0, 15.0, 33.0, 11.0, 18.0, 16.0, 11.0, 26.0, 24.0, 20.0, 48.0, 24.0, 33.0, 6.0, 14.0, 23.0, 33.0, 22.0, 11.0, 21.0, 14.0, 26.0, 42.0, 61.0, 6.0, 12.0, 22.0, 17.0, 25.0, 14.0, 18.0, 74.0, 12.0, 22.0, 18.0, 6.0, 16.0, 3.0, 16.0, 7.0, 26.0, 8.0, 23.0, 15.0, 17.0, 22.0, 13.0, 45.0, 10.0, 15.0, 14.0, 23.0, 11.0, 6.0, 7.0, 21.0, 14.0, 15.0, 14.0, 23.0, 14.0, 17.0, 3.0, 11.0, 11.0, 31.0, 47.0, 11.0, 25.0, 22.0, 14.0, 21.0, 12.0, 25.0, 7.0, 22.0, 13.0, 22.0, 29.0, 3.0, 23.0, 20.0, 20.0, 11.0, 13.0, 14.0, 49.0, 27.0, 36.0, 8.0, 10.0, 26.0, 13.0, 12.0, 14.0, 22.0, 8.0, 18.0, 13.0, 16.0, 13.0, 7.0, 6.0, 8.0, 18.0, 31.0, 2.0, 19.0, 18.0, 25.0, 7.0, 13.0, 23.0, 26.0, 16.0, 18.0, 32.0, 40.0, 24.0, 30.0, 14.0, 20.0, 36.0, 12.0, 15.0, 20.0, 18.0, 9.0, 11.0, 10.0, 7.0, 10.0, 31.0, 19.0, 21.0, 6.0, 8.0, 15.0, 33.0, 9.0, 22.0, 19.0, 30.0, 52.0, 17.0, 39.0, 15.0, 24.0, 17.0, 20.0, 14.0, 14.0, 17.0, 11.0, 54.0, 26.0, 17.0, 14.0, 26.0, 29.0, 21.0, 37.0, 27.0, 30.0, 30.0, 38.0, 25.0, 26.0, 15.0, 12.0, 25.0, 26.0, 10.0, 46.0, 13.0, 14.0, 12.0, 32.0, 35.0, 42.0, 5.0, 19.0, 30.0, 22.0, 14.0, 9.0, 15.0, 30.0, 40.0, 9.0, 16.0, 9.0, 19.0, 18.0, 30.0, 9.0, 21.0, 13.0, 21.0, 33.0, 13.0, 11.0, 17.0, 41.0, 12.0, 28.0, 24.0, 35.0, 16.0, 29.0, 23.0, 12.0, 16.0, 26.0, 19.0, 9.0, 19.0, 23.0, 9.0, 17.0, 11.0, 27.0, 20.0, 29.0, 15.0, 18.0, 17.0, 19.0, 13.0, 21.0, 28.0, 5.0, 21.0, 13.0, 17.0, 13.0, 17.0, 19.0, 15.0, 23.0, 27.0, 12.0, 34.0, 35.0, 23.0, 3.0, 24.0, 15.0, 9.0, 33.0, 9.0, 15.0, 17.0, 38.0, 20.0, 22.0, 21.0, 2.0, 62.0, 11.0, 33.0, 45.0, 12.0, 12.0, 8.0, 18.0, 12.0, 16.0, 13.0, 20.0, 38.0, 43.0, 4.0, 27.0, 49.0, 16.0, 6.0, 9.0, 22.0, 17.0, 20.0, 20.0, 4.0, 42.0, 21.0, 22.0, 12.0, 40.0, 13.0, 32.0, 30.0, 12.0, 20.0, 6.0, 22.0, 6.0, 9.0, 23.0, 31.0, 18.0, 12.0, 12.0, 18.0, 9.0, 10.0, 5.0, 26.0, 19.0, 15.0, 19.0, 12.0, 12.0, 13.0, 29.0, 21.0, 13.0, 22.0, 2.0, 3.0, 7.0, 14.0, 20.0, 5.0, 18.0, 35.0, 24.0, 12.0, 14.0, 3.0, 36.0, 46.0, 3.0, 2.0, 18.0, 26.0, 8.0, 14.0, 13.0, 31.0, 23.0, 21.0, 22.0, 10.0, 23.0, 17.0, 29.0, 7.0, 22.0, 13.0, 3.0, 3.0, 42.0, 27.0, 17.0, 35.0, 6.0, 31.0, 18.0, 14.0, 26.0, 16.0, 6.0, 22.0, 24.0, 15.0, 14.0, 9.0, 21.0, 6.0, 18.0, 17.0, 26.0, 23.0, 15.0, 27.0, 3.0, 23.0, 39.0, 19.0, 15.0, 45.0, 14.0, 10.0, 7.0, 28.0, 3.0, 18.0, 22.0, 18.0, 11.0, 24.0, 44.0, 23.0, 4.0, 32.0, 15.0, 9.0, 24.0, 3.0, 14.0, 18.0, 11.0, 10.0, 26.0, 16.0, 28.0, 20.0, 13.0, 18.0, 46.0, 25.0, 5.0, 13.0, 21.0, 15.0, 14.0, 22.0, 11.0, 17.0, 14.0, 13.0, 29.0, 21.0, 33.0, 19.0, 46.0, 40.0, 19.0, 13.0, 22.0, 10.0, 41.0, 11.0, 9.0, 5.0, 44.0, 11.0, 28.0, 25.0, 5.0, 3.0, 14.0, 20.0, 12.0, 15.0, 28.0, 13.0, 22.0, 36.0, 21.0, 10.0, 61.0, 25.0, 25.0, 34.0, 24.0, 13.0, 36.0, 19.0, 15.0, 43.0, 35.0, 22.0, 28.0, 28.0, 15.0, 26.0, 38.0, 29.0, 14.0, 24.0, 24.0, 27.0, 20.0, 18.0, 11.0, 12.0, 8.0, 17.0, 19.0, 18.0, 17.0, 14.0, 7.0, 8.0, 22.0, 29.0, 36.0, 51.0, 11.0, 40.0, 35.0, 57.0, 16.0, 10.0, 11.0, 20.0, 8.0, 24.0, 28.0, 24.0, 31.0, 40.0, 13.0, 29.0, 35.0, 5.0, 27.0, 12.0, 17.0, 11.0, 6.0, 33.0, 32.0, 17.0, 6.0, 23.0, 19.0, 31.0, 10.0, 7.0, 36.0, 19.0, 13.0, 33.0, 8.0, 30.0, 16.0, 18.0, 20.0, 61.0, 14.0, 21.0, 14.0, 21.0, 13.0, 16.0, 21.0, 5.0, 14.0, 15.0, 33.0, 32.0, 11.0, 15.0, 14.0, 29.0, 20.0, 27.0, 18.0, 17.0, 3.0, 35.0, 20.0, 14.0, 26.0, 18.0, 25.0, 8.0, 24.0, 10.0, 4.0, 29.0, 28.0, 14.0, 22.0, 6.0, 30.0, 5.0, 26.0, 33.0, 22.0, 10.0, 20.0, 17.0, 19.0, 20.0, 29.0, 53.0, 21.0, 29.0, 7.0, 28.0, 22.0, 10.0, 29.0, 18.0, 25.0, 25.0, 26.0, 23.0, 21.0, 5.0, 37.0, 20.0, 18.0, 24.0, 11.0, 21.0, 24.0, 14.0, 27.0, 5.0, 9.0, 36.0, 9.0, 48.0, 11.0, 24.0, 10.0, 37.0, 47.0, 22.0, 17.0, 17.0, 3.0, 9.0, 18.0, 12.0, 20.0, 19.0, 18.0, 29.0, 19.0, 31.0, 19.0, 3.0, 13.0, 23.0, 11.0, 16.0, 15.0, 25.0, 33.0, 50.0, 11.0, 33.0, 27.0, 14.0, 16.0, 15.0, 3.0, 23.0, 18.0, 16.0, 4.0, 23.0, 16.0, 9.0, 10.0, 34.0, 14.0, 3.0, 18.0, 8.0, 13.0, 18.0, 29.0, 18.0, 22.0, 15.0, 5.0, 15.0, 12.0, 6.0, 17.0, 23.0, 39.0, 11.0, 23.0, 39.0, 2.0, 16.0, 12.0, 13.0, 3.0, 26.0, 22.0, 9.0, 21.0, 46.0, 17.0, 18.0, 23.0, 39.0, 22.0, 15.0, 33.0, 21.0, 14.0, 9.0, 17.0, 9.0, 12.0, 27.0, 46.0, 20.0, 14.0, 27.0, 11.0, 6.0, 3.0, 18.0, 5.0, 11.0, 15.0, 26.0, 20.0, 14.0, 7.0, 26.0, 21.0, 9.0, 5.0, 10.0, 9.0, 18.0, 77.0, 29.0, 29.0, 5.0, 81.0, 8.0, 31.0, 18.0, 30.0, 28.0, 26.0, 28.0, 26.0, 12.0, 22.0, 23.0, 40.0, 5.0, 37.0, 32.0, 37.0, 39.0, 11.0, 10.0, 33.0, 38.0, 6.0, 7.0, 25.0, 21.0, 15.0, 14.0, 14.0, 20.0, 12.0, 23.0, 7.0, 5.0, 21.0, 15.0, 16.0, 62.0, 13.0, 18.0, 13.0, 20.0, 18.0, 19.0, 31.0, 38.0, 13.0, 15.0, 23.0, 12.0, 12.0, 7.0, 26.0, 17.0, 26.0, 14.0, 23.0, 18.0, 6.0, 59.0, 18.0, 19.0, 4.0, 35.0, 23.0, 21.0, 10.0, 13.0, 31.0, 14.0, 6.0, 23.0, 27.0, 11.0, 27.0, 5.0, 20.0, 24.0, 14.0, 28.0, 9.0, 11.0, 26.0, 10.0, 18.0, 32.0, 17.0, 19.0, 21.0, 17.0, 3.0, 12.0, 39.0, 12.0, 17.0, 17.0, 4.0, 8.0, 23.0, 16.0, 7.0, 5.0, 21.0, 12.0, 36.0, 13.0, 12.0, 14.0, 9.0, 32.0, 11.0, 22.0, 15.0, 9.0, 19.0, 13.0, 27.0, 14.0, 9.0, 17.0, 8.0, 16.0, 18.0, 18.0, 10.0, 17.0, 20.0, 10.0, 24.0, 10.0, 13.0, 12.0, 7.0, 35.0, 33.0, 38.0, 21.0, 19.0, 36.0, 16.0, 23.0, 28.0, 21.0, 16.0, 16.0, 33.0, 8.0, 3.0, 16.0, 17.0, 9.0, 34.0, 27.0, 19.0, 26.0, 11.0, 16.0, 17.0, 9.0, 17.0, 31.0, 14.0, 11.0, 17.0, 32.0, 17.0, 9.0, 21.0, 28.0, 23.0, 7.0, 19.0, 7.0, 14.0, 14.0, 14.0, 31.0, 21.0, 16.0, 12.0, 14.0, 6.0, 12.0, 12.0, 28.0, 37.0, 25.0, 14.0, 14.0, 4.0, 29.0, 28.0, 36.0, 32.0, 20.0, 21.0, 18.0, 2.0, 13.0, 28.0, 20.0, 21.0, 25.0, 16.0, 30.0, 18.0, 3.0, 20.0, 12.0, 10.0, 20.0, 5.0, 15.0, 37.0, 32.0, 11.0, 11.0, 15.0, 13.0, 12.0, 14.0, 89.0, 10.0, 34.0, 28.0, 18.0, 55.0, 22.0, 32.0, 49.0, 27.0, 8.0, 14.0, 13.0, 14.0, 11.0, 34.0, 12.0, 30.0, 32.0, 32.0, 8.0, 20.0, 32.0, 3.0, 10.0, 23.0, 30.0, 16.0, 21.0, 9.0, 10.0, 8.0, 26.0, 15.0, 24.0, 13.0, 32.0, 14.0, 3.0, 22.0, 12.0, 6.0, 17.0, 9.0, 18.0, 7.0, 4.0, 11.0, 12.0, 5.0, 21.0, 18.0, 9.0, 21.0, 18.0, 38.0, 7.0, 19.0, 6.0, 11.0, 21.0, 17.0, 19.0, 22.0, 13.0, 44.0, 23.0, 10.0, 12.0, 40.0, 20.0, 34.0, 10.0, 5.0, 23.0, 18.0, 28.0, 10.0, 40.0, 4.0, 16.0, 11.0, 43.0, 12.0, 21.0, 3.0, 22.0, 18.0, 9.0, 6.0, 36.0, 43.0, 13.0, 6.0, 9.0, 35.0, 6.0, 13.0, 22.0, 11.0, 5.0, 22.0, 13.0, 18.0, 8.0, 10.0, 22.0, 4.0, 29.0, 14.0, 27.0, 25.0, 22.0, 79.0, 16.0, 16.0, 33.0, 36.0, 13.0, 14.0, 17.0, 22.0, 26.0, 21.0, 20.0, 22.0, 27.0, 17.0, 12.0, 6.0, 43.0, 36.0, 4.0, 16.0, 26.0, 23.0, 11.0, 17.0, 37.0, 55.0, 15.0, 18.0, 8.0, 8.0, 8.0, 10.0, 19.0, 11.0, 19.0, 37.0, 6.0, 17.0, 12.0, 35.0, 14.0, 26.0, 14.0, 10.0, 11.0, 27.0, 32.0, 5.0, 18.0, 4.0, 41.0, 45.0, 17.0, 14.0, 12.0, 8.0, 56.0, 38.0, 40.0, 2.0, 29.0, 10.0, 19.0, 19.0, 13.0, 20.0, 18.0, 30.0, 13.0, 23.0, 6.0, 17.0, 9.0, 13.0, 18.0, 8.0, 21.0, 20.0, 8.0, 12.0, 13.0, 24.0, 27.0, 14.0, 20.0, 20.0, 22.0, 20.0, 19.0, 18.0, 17.0, 14.0, 14.0, 22.0, 22.0, 17.0, 10.0, 31.0, 28.0, 20.0, 49.0, 11.0, 30.0, 9.0, 31.0, 13.0, 20.0, 21.0, 18.0, 4.0, 11.0, 6.0, 12.0, 33.0, 15.0, 15.0, 18.0, 8.0, 25.0, 11.0, 17.0, 14.0, 24.0, 16.0, 8.0, 13.0, 30.0, 12.0, 19.0, 12.0, 10.0, 29.0, 19.0, 9.0, 30.0, 32.0, 19.0, 6.0, 15.0, 25.0, 13.0, 42.0, 16.0, 4.0, 7.0, 33.0, 25.0, 8.0, 14.0, 7.0, 16.0, 7.0, 7.0, 17.0, 21.0, 5.0, 24.0, 14.0, 23.0, 21.0, 25.0, 22.0, 18.0, 14.0, 13.0, 7.0, 23.0, 30.0, 34.0, 39.0, 18.0, 21.0, 10.0, 5.0, 13.0, 39.0, 26.0, 21.0, 34.0, 11.0, 9.0, 14.0, 20.0, 13.0, 11.0, 24.0, 5.0, 35.0, 17.0, 6.0, 6.0, 12.0, 16.0, 15.0, 17.0, 15.0, 24.0, 49.0, 18.0, 21.0, 17.0, 15.0, 27.0, 14.0, 48.0, 24.0, 14.0, 4.0, 18.0, 22.0, 9.0, 18.0, 25.0, 9.0, 6.0, 26.0, 39.0, 19.0, 18.0, 26.0, 17.0, 38.0, 18.0, 19.0, 20.0, 14.0, 22.0, 9.0, 9.0, 49.0, 9.0, 16.0, 14.0, 15.0, 21.0, 26.0, 31.0, 13.0, 25.0, 13.0, 51.0, 18.0, 13.0, 17.0, 14.0, 11.0, 29.0, 22.0, 11.0, 23.0, 26.0, 13.0, 20.0, 13.0, 32.0, 42.0, 18.0, 27.0, 9.0, 11.0, 17.0, 32.0, 13.0, 13.0, 22.0, 15.0, 27.0, 25.0, 15.0, 11.0, 38.0, 25.0, 17.0, 12.0, 20.0, 37.0, 16.0, 23.0, 9.0, 8.0, 11.0, 3.0, 5.0, 17.0, 20.0, 27.0, 27.0, 17.0, 27.0, 38.0, 3.0, 22.0, 49.0, 14.0, 27.0, 13.0, 22.0, 6.0, 21.0, 7.0, 16.0, 30.0, 7.0, 44.0, 15.0, 22.0, 36.0, 11.0, 9.0, 12.0, 7.0, 11.0, 22.0, 22.0, 8.0, 40.0, 11.0, 92.0, 29.0, 12.0, 16.0, 11.0, 12.0, 24.0, 25.0, 31.0, 2.0, 5.0, 12.0, 21.0, 14.0, 28.0, 29.0, 17.0, 11.0, 17.0, 3.0, 45.0, 8.0, 13.0, 30.0, 207.0, 14.0, 9.0, 3.0, 27.0, 4.0, 43.0, 11.0, 55.0, 13.0, 35.0, 12.0, 7.0, 22.0, 25.0, 18.0, 10.0, 14.0, 10.0, 8.0, 15.0, 9.0, 33.0, 17.0, 20.0, 20.0, 5.0, 11.0, 10.0, 5.0, 28.0, 11.0, 14.0, 23.0, 18.0, 6.0, 23.0, 56.0, 8.0, 24.0, 12.0, 21.0, 39.0, 15.0, 37.0, 33.0, 23.0, 20.0, 17.0, 17.0, 8.0, 19.0, 16.0, 24.0, 6.0, 15.0, 9.0, 12.0, 15.0, 6.0, 13.0, 21.0, 22.0, 23.0, 6.0, 13.0, 16.0, 3.0, 27.0, 24.0, 29.0, 4.0, 51.0, 19.0, 28.0, 4.0, 42.0, 15.0, 12.0, 10.0, 13.0, 17.0, 8.0, 9.0, 11.0, 21.0, 15.0, 40.0, 27.0, 32.0, 33.0, 12.0, 13.0, 17.0, 14.0, 20.0, 16.0, 16.0, 15.0, 20.0, 9.0, 24.0, 8.0, 18.0, 12.0, 13.0, 12.0, 9.0, 18.0, 27.0, 19.0, 7.0, 4.0, 36.0, 17.0, 26.0, 18.0, 31.0, 11.0, 28.0, 32.0, 13.0, 19.0, 14.0, 36.0, 23.0, 12.0, 13.0, 21.0, 16.0, 34.0, 43.0, 22.0, 54.0, 7.0, 25.0, 19.0, 11.0, 29.0, 22.0, 13.0, 21.0, 8.0, 21.0, 21.0, 6.0, 22.0, 22.0, 9.0, 4.0, 21.0, 19.0, 14.0, 13.0, 18.0, 16.0, 5.0, 20.0, 18.0, 19.0, 4.0, 13.0, 50.0, 10.0, 23.0, 14.0, 9.0, 7.0, 9.0, 3.0, 17.0, 9.0, 19.0, 10.0, 40.0, 22.0, 7.0, 15.0, 8.0, 18.0, 26.0, 15.0, 6.0, 19.0, 34.0, 13.0, 16.0, 2.0, 14.0, 13.0, 31.0, 10.0, 11.0, 39.0, 8.0, 32.0, 9.0, 30.0, 15.0, 11.0, 22.0, 12.0, 33.0, 22.0, 16.0, 18.0, 14.0, 36.0, 22.0, 25.0, 21.0, 16.0, 51.0, 42.0, 31.0, 6.0, 12.0, 7.0, 18.0, 19.0, 10.0, 7.0, 19.0, 23.0, 16.0, 14.0, 15.0, 14.0, 20.0, 50.0, 44.0, 32.0, 17.0, 44.0, 16.0, 19.0, 16.0, 13.0, 53.0, 20.0, 13.0, 19.0, 23.0, 11.0, 28.0, 6.0, 54.0, 29.0, 8.0, 31.0, 17.0, 29.0, 16.0, 14.0, 8.0, 31.0, 22.0, 3.0, 12.0, 18.0, 27.0, 9.0, 21.0, 14.0, 8.0, 25.0, 43.0, 14.0, 21.0, 27.0, 21.0, 17.0, 19.0, 20.0, 40.0, 21.0, 22.0, 19.0, 12.0, 4.0, 28.0, 5.0, 13.0, 13.0, 15.0, 8.0, 16.0, 4.0, 4.0, 12.0, 36.0, 9.0, 7.0, 9.0, 22.0, 20.0, 14.0, 24.0, 14.0, 23.0, 13.0, 25.0, 12.0, 20.0, 28.0, 13.0, 6.0, 35.0, 11.0, 12.0, 26.0, 9.0, 24.0, 10.0, 6.0, 14.0, 68.0, 11.0, 7.0, 26.0, 17.0, 20.0, 9.0, 19.0, 21.0, 23.0, 14.0, 6.0, 13.0, 20.0, 10.0, 15.0, 14.0, 31.0, 2.0, 11.0, 12.0, 33.0, 41.0, 40.0, 34.0, 14.0, 16.0, 3.0, 20.0, 13.0, 15.0, 29.0, 23.0, 9.0, 22.0, 24.0, 9.0, 36.0, 13.0, 13.0, 9.0, 17.0, 14.0, 11.0, 23.0, 9.0, 18.0, 22.0, 17.0, 8.0, 15.0, 9.0, 4.0, 7.0, 22.0, 11.0, 19.0, 12.0, 16.0, 40.0, 33.0, 19.0, 23.0, 24.0, 46.0, 24.0, 43.0, 24.0, 5.0, 23.0, 4.0, 29.0, 21.0, 9.0, 16.0, 38.0, 14.0, 20.0, 13.0, 16.0, 18.0, 21.0, 46.0, 22.0, 7.0, 7.0, 4.0, 25.0, 9.0, 8.0, 13.0, 34.0, 12.0, 25.0, 23.0, 26.0, 26.0, 14.0, 16.0, 6.0, 50.0, 37.0, 8.0, 11.0, 21.0, 20.0, 20.0, 12.0, 15.0, 28.0, 35.0, 20.0, 16.0, 16.0, 13.0, 13.0, 16.0, 14.0, 10.0, 11.0, 25.0, 31.0, 22.0, 21.0, 16.0, 4.0, 20.0, 8.0, 6.0, 17.0, 27.0, 6.0, 5.0, 21.0, 19.0, 12.0, 41.0, 3.0, 18.0, 3.0, 19.0, 8.0, 31.0, 3.0, 24.0, 41.0, 31.0, 23.0, 5.0, 20.0, 20.0, 13.0, 14.0, 28.0, 13.0, 19.0, 36.0, 15.0, 25.0, 35.0, 14.0, 20.0, 16.0, 78.0, 12.0, 27.0, 7.0, 8.0, 26.0, 25.0, 27.0, 12.0, 31.0, 19.0, 11.0, 19.0, 29.0, 23.0, 11.0, 21.0, 16.0, 10.0, 10.0, 4.0, 20.0, 48.0, 19.0, 54.0, 33.0, 23.0, 26.0, 18.0, 36.0, 23.0, 16.0, 25.0, 54.0, 23.0, 10.0, 37.0, 39.0, 14.0, 24.0, 5.0, 2.0, 28.0, 13.0, 13.0, 33.0, 3.0, 41.0, 50.0, 18.0, 7.0, 3.0, 49.0, 50.0, 25.0, 10.0, 41.0, 12.0, 26.0, 28.0, 18.0, 43.0, 9.0, 26.0, 9.0, 13.0, 33.0, 22.0, 20.0, 2.0, 18.0, 15.0, 16.0, 6.0, 14.0, 16.0, 27.0, 31.0, 14.0, 38.0, 20.0, 3.0, 23.0, 15.0, 103.0, 4.0, 22.0, 25.0, 9.0, 5.0, 10.0, 14.0, 17.0, 32.0, 36.0, 11.0, 23.0, 25.0, 26.0, 4.0, 26.0, 26.0, 33.0, 10.0, 7.0, 42.0, 20.0, 21.0, 6.0, 24.0, 22.0, 11.0, 29.0, 23.0, 18.0, 25.0, 18.0, 12.0, 22.0, 24.0, 36.0, 15.0, 29.0, 26.0, 11.0, 29.0, 34.0, 15.0, 25.0, 32.0, 5.0, 15.0, 28.0, 15.0, 37.0, 19.0, 16.0, 22.0, 20.0, 29.0, 29.0, 36.0, 17.0, 6.0, 42.0, 36.0, 6.0, 2.0, 8.0, 19.0, 17.0, 23.0, 32.0, 54.0, 18.0, 43.0, 8.0, 21.0, 18.0, 14.0, 16.0, 18.0, 20.0, 3.0, 15.0, 27.0, 7.0, 18.0, 24.0, 29.0, 20.0, 19.0, 12.0, 17.0, 24.0, 6.0, 91.0, 3.0, 45.0, 34.0, 6.0, 14.0, 35.0, 22.0, 25.0, 34.0, 26.0, 7.0, 41.0, 26.0, 14.0, 48.0, 25.0, 14.0, 19.0, 17.0, 39.0, 8.0, 7.0, 15.0, 61.0, 25.0, 11.0, 52.0, 47.0, 23.0, 14.0, 21.0, 26.0, 12.0, 14.0, 40.0, 13.0, 59.0, 38.0, 19.0, 31.0, 5.0, 8.0, 10.0, 20.0, 13.0, 25.0, 23.0, 10.0, 27.0, 5.0, 28.0, 15.0, 19.0, 20.0, 15.0, 44.0, 59.0, 5.0, 36.0, 5.0, 15.0, 42.0, 6.0, 29.0, 4.0, 28.0, 8.0, 18.0, 13.0, 23.0, 14.0, 44.0, 10.0, 34.0, 13.0, 11.0, 41.0, 26.0, 20.0, 5.0, 22.0, 74.0, 18.0, 25.0, 63.0, 40.0, 15.0, 87.0, 23.0, 21.0, 16.0, 12.0, 25.0, 27.0, 9.0, 2.0, 13.0, 10.0, 31.0, 17.0, 7.0, 18.0, 29.0, 9.0, 24.0, 26.0, 23.0, 49.0, 3.0, 26.0, 29.0, 16.0, 6.0, 42.0, 23.0, 18.0, 6.0, 9.0, 6.0, 39.0, 21.0, 21.0, 25.0, 5.0, 13.0, 23.0, 15.0, 13.0, 16.0, 11.0, 15.0, 23.0, 12.0, 5.0, 22.0, 4.0, 16.0, 32.0, 17.0, 8.0, 37.0, 36.0, 13.0, 19.0, 34.0, 32.0, 17.0, 12.0, 9.0, 21.0, 8.0, 20.0, 21.0, 27.0, 31.0, 23.0, 22.0, 17.0, 26.0, 27.0, 19.0, 17.0, 23.0, 29.0, 10.0, 18.0, 16.0, 14.0, 16.0, 25.0, 13.0, 19.0, 27.0, 34.0, 15.0, 28.0, 36.0, 21.0, 5.0, 35.0, 22.0, 23.0, 10.0, 27.0, 23.0, 21.0, 7.0, 23.0, 14.0, 4.0, 45.0, 22.0, 33.0, 12.0, 26.0, 17.0, 27.0, 36.0, 16.0, 37.0, 8.0, 24.0, 20.0, 32.0, 34.0, 14.0, 6.0, 20.0, 11.0, 21.0, 35.0, 27.0, 20.0, 36.0, 20.0, 21.0, 43.0, 10.0, 3.0, 30.0, 14.0, 22.0, 14.0, 29.0, 21.0, 36.0, 37.0, 27.0, 16.0, 14.0, 15.0, 25.0, 55.0, 26.0, 25.0, 16.0, 15.0, 15.0, 32.0, 19.0, 6.0, 26.0, 22.0, 19.0, 30.0, 10.0, 40.0, 9.0, 7.0, 16.0, 17.0, 28.0, 36.0, 13.0, 20.0, 39.0, 19.0, 15.0, 17.0, 13.0, 6.0, 14.0, 20.0, 12.0, 17.0, 16.0, 35.0, 17.0, 23.0, 13.0, 11.0, 20.0, 14.0, 16.0, 22.0, 8.0, 19.0, 29.0, 18.0, 47.0, 26.0, 17.0, 37.0, 9.0, 14.0, 8.0, 6.0, 18.0, 33.0, 17.0, 21.0, 32.0, 48.0, 9.0, 10.0, 28.0, 37.0, 14.0, 14.0, 28.0, 16.0, 24.0, 24.0, 28.0, 29.0, 14.0, 26.0, 29.0, 8.0, 30.0, 6.0, 28.0, 3.0, 32.0, 38.0, 29.0, 29.0, 28.0, 71.0, 9.0, 33.0, 26.0, 45.0, 7.0, 24.0, 24.0, 18.0, 10.0, 21.0, 24.0, 45.0, 11.0, 29.0, 37.0, 14.0, 34.0, 31.0, 32.0, 25.0, 20.0, 27.0, 19.0, 10.0, 40.0, 33.0, 9.0, 23.0, 27.0, 25.0, 36.0, 48.0, 19.0, 4.0, 27.0, 9.0, 20.0, 20.0, 25.0, 3.0, 18.0, 21.0, 46.0, 26.0, 31.0, 10.0, 32.0, 49.0, 27.0, 28.0, 23.0, 30.0, 8.0, 90.0, 17.0, 25.0, 9.0, 28.0, 29.0, 30.0, 19.0, 23.0, 5.0, 10.0, 5.0, 26.0, 7.0, 32.0, 7.0, 18.0, 27.0, 14.0, 17.0, 49.0, 35.0, 26.0, 4.0, 31.0, 3.0, 29.0, 17.0, 21.0, 32.0, 16.0, 19.0, 21.0, 15.0, 18.0, 12.0, 11.0, 126.0, 38.0, 17.0, 35.0, 17.0, 12.0, 49.0, 5.0, 28.0, 13.0, 15.0, 14.0, 26.0, 5.0, 12.0, 29.0, 21.0, 53.0, 11.0, 16.0, 28.0, 26.0, 41.0, 17.0, 39.0, 22.0, 41.0, 24.0, 22.0, 16.0, 38.0, 6.0, 22.0, 25.0, 16.0, 29.0, 52.0, 14.0, 34.0, 52.0, 12.0, 6.0, 15.0, 23.0, 34.0, 118.0, 34.0, 24.0, 4.0, 32.0, 33.0, 25.0, 18.0, 27.0, 26.0, 12.0, 24.0, 4.0, 20.0, 2.0, 35.0, 17.0, 7.0, 20.0, 23.0, 10.0, 17.0, 9.0, 8.0, 30.0, 11.0, 41.0, 15.0, 25.0, 21.0, 13.0, 18.0, 2.0, 25.0, 11.0, 42.0, 19.0, 27.0, 20.0, 15.0, 39.0, 32.0, 27.0, 13.0, 34.0, 5.0, 30.0, 14.0, 9.0, 63.0, 27.0, 56.0, 6.0, 6.0, 34.0, 27.0, 18.0, 29.0, 33.0, 17.0, 13.0, 24.0, 50.0, 53.0, 22.0, 14.0, 21.0, 30.0, 9.0, 48.0, 10.0, 28.0, 4.0, 14.0, 22.0, 14.0, 16.0, 16.0, 33.0, 19.0, 24.0, 28.0, 3.0, 14.0, 21.0, 15.0, 17.0, 18.0, 18.0, 26.0, 8.0, 14.0, 63.0, 31.0, 17.0, 4.0, 37.0, 29.0, 20.0, 18.0, 32.0, 16.0, 5.0, 14.0, 27.0, 3.0, 13.0, 11.0, 18.0, 15.0, 27.0, 14.0, 5.0, 44.0, 20.0, 5.0, 9.0, 16.0, 8.0, 15.0, 15.0, 9.0, 20.0, 15.0, 87.0, 4.0, 3.0, 5.0, 31.0, 5.0, 27.0, 30.0, 20.0, 4.0, 22.0, 23.0, 6.0, 29.0, 19.0, 34.0, 17.0, 30.0, 16.0, 13.0, 7.0, 9.0, 23.0, 11.0, 40.0, 41.0, 29.0, 37.0, 8.0, 15.0, 9.0, 32.0, 12.0, 35.0, 23.0, 4.0, 52.0, 20.0, 32.0, 14.0, 3.0, 35.0, 19.0, 84.0, 9.0, 18.0, 40.0, 15.0, 2.0, 20.0, 13.0, 52.0, 50.0, 8.0, 28.0, 17.0, 36.0, 28.0, 14.0, 12.0, 15.0, 18.0, 11.0, 20.0, 25.0, 80.0, 11.0, 4.0, 10.0, 7.0, 20.0, 7.0, 26.0, 5.0, 18.0, 12.0, 34.0, 29.0, 39.0, 11.0, 31.0, 21.0, 31.0, 21.0, 14.0, 31.0, 29.0, 28.0, 13.0, 22.0, 6.0, 21.0, 9.0, 3.0, 12.0, 11.0, 21.0, 24.0, 33.0, 13.0, 29.0, 7.0, 6.0, 34.0, 8.0, 4.0, 32.0, 9.0, 12.0, 20.0, 27.0, 37.0, 18.0, 35.0, 10.0, 24.0, 40.0, 11.0, 20.0, 28.0, 43.0, 19.0, 18.0, 16.0, 54.0, 6.0, 23.0, 7.0, 24.0, 16.0, 23.0, 27.0, 37.0, 16.0, 20.0, 22.0, 39.0, 21.0, 44.0, 8.0, 17.0, 4.0, 18.0, 30.0, 31.0, 32.0, 21.0, 6.0, 32.0, 9.0, 9.0, 25.0, 57.0, 5.0, 16.0, 15.0, 38.0, 21.0, 52.0, 24.0, 4.0, 13.0, 29.0, 7.0, 7.0, 37.0, 23.0, 23.0, 30.0, 36.0, 9.0, 5.0, 27.0, 20.0, 8.0, 24.0, 21.0, 41.0, 15.0, 10.0, 15.0, 29.0, 11.0, 23.0, 39.0, 28.0, 28.0, 8.0, 12.0, 11.0, 42.0, 24.0, 27.0, 22.0, 4.0, 44.0, 22.0, 15.0, 27.0, 22.0, 29.0, 13.0, 25.0, 6.0, 16.0, 11.0, 23.0, 9.0, 37.0, 16.0, 22.0, 11.0, 31.0, 14.0, 5.0, 25.0, 27.0, 26.0, 28.0, 17.0, 39.0, 16.0, 2.0, 49.0, 13.0, 36.0, 32.0, 15.0, 13.0, 30.0, 23.0, 19.0, 19.0, 14.0, 17.0, 38.0, 50.0, 27.0, 33.0, 27.0, 22.0, 43.0, 19.0, 15.0, 25.0, 19.0, 36.0, 33.0, 14.0, 24.0, 39.0, 43.0, 21.0, 14.0, 12.0, 13.0, 15.0, 17.0, 31.0, 37.0, 23.0, 24.0, 16.0, 24.0, 36.0, 23.0, 32.0, 48.0, 4.0, 14.0, 9.0, 28.0, 5.0, 125.0, 9.0, 2.0, 24.0, 63.0, 17.0, 18.0, 51.0, 21.0, 14.0, 23.0, 29.0, 16.0, 31.0, 15.0, 23.0, 25.0, 28.0, 6.0, 14.0, 20.0, 4.0, 15.0, 17.0, 12.0, 30.0, 17.0, 22.0, 38.0, 7.0, 25.0, 23.0, 2.0, 4.0, 19.0, 11.0, 25.0, 17.0, 44.0, 28.0, 26.0, 14.0, 22.0, 9.0, 14.0, 30.0, 12.0, 23.0, 33.0, 59.0, 6.0, 41.0, 17.0, 13.0, 25.0, 26.0, 21.0, 15.0, 38.0, 6.0, 26.0, 22.0, 9.0, 37.0, 13.0, 26.0, 23.0, 32.0, 15.0, 4.0, 39.0, 24.0, 14.0, 11.0, 45.0, 12.0, 12.0, 24.0, 5.0, 24.0, 20.0, 28.0, 31.0, 22.0, 16.0, 28.0, 17.0, 16.0, 29.0, 28.0, 10.0, 16.0, 17.0, 21.0, 34.0, 33.0, 26.0, 8.0, 19.0, 32.0, 18.0, 15.0, 6.0, 24.0, 39.0, 36.0, 11.0, 20.0, 3.0, 24.0, 25.0, 3.0, 47.0, 23.0, 18.0, 9.0, 27.0, 7.0, 83.0, 25.0, 39.0, 33.0, 23.0, 29.0, 28.0, 21.0, 17.0, 12.0, 3.0, 24.0, 6.0, 41.0, 44.0, 30.0, 21.0, 26.0, 68.0, 27.0, 21.0, 7.0, 23.0, 14.0, 22.0, 16.0, 22.0, 7.0, 15.0, 40.0, 32.0, 11.0, 31.0, 3.0, 57.0, 12.0, 23.0, 10.0, 9.0, 16.0, 11.0, 55.0, 26.0, 18.0, 20.0, 16.0, 8.0, 30.0, 10.0, 19.0, 21.0, 7.0, 12.0, 12.0, 23.0, 22.0, 19.0, 24.0, 5.0, 8.0, 40.0, 40.0, 22.0, 20.0, 7.0, 27.0, 8.0, 33.0, 18.0, 10.0, 32.0, 10.0, 16.0, 13.0, 9.0, 25.0, 42.0, 35.0, 20.0, 34.0, 59.0, 7.0, 42.0, 11.0, 108.0, 9.0, 30.0, 11.0, 25.0, 27.0, 16.0, 20.0, 13.0, 39.0, 7.0, 41.0, 16.0, 29.0, 17.0, 27.0, 26.0, 9.0, 18.0, 28.0, 12.0, 19.0, 69.0, 32.0, 59.0, 16.0, 17.0, 16.0, 7.0, 28.0, 30.0, 39.0, 9.0, 10.0, 21.0, 41.0, 19.0, 5.0, 11.0, 29.0, 8.0, 28.0, 17.0, 13.0, 15.0, 16.0, 33.0, 21.0, 20.0, 23.0, 13.0, 13.0, 7.0, 20.0, 33.0, 11.0, 37.0, 23.0, 47.0, 21.0, 9.0, 20.0, 24.0, 2.0, 16.0, 27.0, 14.0, 19.0, 8.0, 9.0, 40.0, 14.0, 40.0, 27.0, 19.0, 12.0, 54.0, 13.0, 35.0, 39.0, 7.0, 40.0, 57.0, 36.0, 42.0, 22.0, 16.0, 23.0, 10.0, 16.0, 40.0, 34.0, 16.0, 34.0, 21.0, 28.0, 13.0, 40.0, 36.0, 9.0, 20.0, 76.0, 41.0, 35.0, 25.0, 22.0, 23.0, 17.0, 9.0, 21.0, 22.0, 25.0, 24.0, 40.0, 6.0, 21.0, 24.0, 47.0, 24.0, 8.0, 26.0, 9.0, 10.0, 27.0, 23.0, 14.0, 22.0, 14.0, 33.0, 10.0, 13.0, 34.0, 23.0, 16.0, 4.0, 20.0, 53.0, 24.0, 39.0, 24.0, 17.0, 39.0, 17.0, 23.0, 17.0, 16.0, 51.0, 24.0, 43.0, 52.0, 15.0, 14.0, 57.0, 9.0, 19.0, 6.0, 32.0, 29.0, 26.0, 8.0, 23.0, 47.0, 4.0, 24.0, 26.0, 24.0, 21.0, 20.0, 33.0, 17.0, 28.0, 21.0, 7.0, 2.0, 3.0, 15.0, 39.0, 23.0, 37.0, 37.0, 21.0, 15.0, 6.0, 23.0, 14.0, 13.0, 24.0, 3.0, 36.0, 3.0, 9.0, 35.0, 8.0, 23.0, 24.0, 15.0, 26.0, 55.0, 18.0, 23.0, 24.0, 41.0, 19.0, 7.0, 25.0, 17.0, 11.0, 8.0, 26.0, 47.0, 6.0, 35.0, 12.0, 5.0, 34.0, 30.0, 22.0, 49.0, 34.0, 14.0, 35.0, 9.0, 4.0, 39.0, 18.0, 22.0, 8.0, 7.0, 49.0, 47.0, 5.0, 35.0, 20.0, 34.0, 28.0, 41.0, 34.0, 11.0, 9.0, 14.0, 10.0, 11.0, 13.0, 25.0, 19.0, 25.0, 17.0, 36.0, 63.0, 14.0, 23.0, 5.0, 104.0, 38.0, 26.0, 12.0, 32.0, 30.0, 17.0, 50.0, 15.0, 12.0, 44.0, 10.0, 7.0, 16.0, 36.0, 30.0, 21.0, 38.0, 10.0, 23.0, 30.0, 3.0, 34.0, 32.0, 16.0, 20.0, 28.0, 3.0, 40.0, 4.0, 40.0, 30.0, 2.0, 7.0, 40.0, 20.0, 32.0, 22.0, 36.0, 7.0, 27.0, 11.0, 24.0, 27.0, 17.0, 24.0, 22.0, 18.0, 42.0, 17.0, 16.0, 18.0, 39.0, 19.0, 77.0, 20.0, 26.0, 18.0, 24.0, 8.0, 37.0, 36.0, 14.0, 9.0, 43.0, 12.0, 18.0, 37.0, 47.0, 28.0, 12.0, 3.0, 18.0, 30.0, 17.0, 3.0, 34.0, 21.0, 41.0, 13.0, 12.0, 13.0, 23.0, 23.0, 13.0, 20.0, 13.0, 23.0, 32.0, 29.0, 28.0, 21.0, 11.0, 31.0, 21.0, 23.0, 25.0, 6.0, 35.0, 21.0, 48.0, 4.0, 3.0, 10.0, 14.0, 16.0, 25.0, 34.0, 9.0, 21.0, 39.0, 37.0, 20.0, 10.0, 51.0, 4.0, 3.0, 37.0, 22.0, 33.0, 20.0, 9.0, 5.0, 32.0, 5.0, 5.0, 10.0, 12.0, 76.0, 25.0, 16.0, 38.0, 7.0, 10.0, 15.0, 28.0, 5.0, 9.0, 18.0, 60.0, 37.0, 29.0, 18.0, 3.0, 20.0, 18.0, 27.0, 3.0, 16.0, 16.0, 28.0, 7.0, 5.0, 10.0, 14.0, 25.0, 40.0, 36.0, 79.0, 10.0, 11.0, 29.0, 18.0, 11.0, 11.0, 21.0, 23.0, 15.0, 18.0, 15.0, 46.0, 19.0, 18.0, 18.0, 3.0, 55.0, 26.0, 7.0, 26.0, 11.0, 19.0, 39.0, 28.0, 5.0, 17.0, 20.0, 12.0, 17.0, 4.0, 49.0, 17.0, 20.0, 24.0, 26.0, 19.0, 25.0, 21.0, 15.0, 46.0, 25.0, 43.0, 11.0, 50.0, 22.0, 6.0, 18.0, 27.0, 17.0, 16.0, 5.0, 27.0, 24.0, 19.0, 17.0, 26.0, 20.0, 28.0, 21.0, 18.0, 6.0, 39.0, 26.0, 21.0, 25.0, 36.0, 19.0, 27.0, 22.0, 57.0, 100.0, 4.0, 40.0, 31.0, 10.0, 19.0, 31.0, 42.0, 33.0, 14.0, 18.0, 16.0, 53.0, 29.0, 34.0, 28.0, 40.0, 80.0, 43.0, 22.0, 27.0, 25.0, 15.0, 22.0, 32.0, 36.0, 30.0, 28.0, 11.0, 5.0, 28.0, 30.0, 41.0, 8.0, 10.0, 8.0, 24.0, 13.0, 10.0, 56.0, 14.0, 6.0, 61.0, 56.0, 14.0, 10.0, 23.0, 26.0, 48.0, 23.0, 21.0, 17.0, 7.0, 20.0, 9.0, 19.0, 22.0, 22.0, 24.0, 6.0, 20.0, 21.0, 12.0, 29.0, 41.0, 36.0, 32.0, 22.0, 35.0, 22.0, 23.0, 34.0, 9.0, 18.0, 25.0, 27.0, 8.0, 22.0, 19.0, 16.0, 20.0, 17.0, 11.0, 4.0, 20.0, 29.0, 37.0, 5.0, 3.0, 30.0, 3.0, 5.0, 62.0, 11.0, 13.0, 23.0, 25.0, 16.0, 2.0, 28.0, 33.0, 14.0, 116.0, 3.0, 29.0, 28.0, 23.0, 74.0, 24.0, 3.0, 4.0, 29.0, 34.0, 13.0, 25.0, 26.0, 9.0, 11.0, 66.0, 44.0, 26.0, 15.0, 16.0, 14.0, 11.0, 15.0, 15.0, 19.0, 13.0, 16.0, 13.0, 28.0, 36.0, 8.0, 32.0, 8.0, 22.0, 6.0, 57.0, 28.0, 35.0, 21.0, 11.0, 18.0, 6.0, 7.0, 26.0, 13.0, 11.0, 22.0, 30.0, 13.0, 21.0, 44.0, 23.0, 24.0, 25.0, 5.0, 11.0, 37.0, 3.0, 28.0, 10.0, 8.0, 35.0, 36.0, 28.0, 17.0, 26.0, 28.0, 26.0, 4.0, 37.0, 29.0, 5.0, 105.0, 15.0, 55.0, 38.0, 15.0, 5.0, 9.0, 12.0, 21.0, 3.0, 11.0, 13.0, 31.0, 10.0, 7.0, 18.0, 7.0, 6.0, 18.0, 22.0, 16.0, 14.0, 25.0, 35.0, 22.0, 29.0, 24.0, 19.0, 30.0, 10.0, 7.0, 29.0, 27.0, 32.0, 14.0, 15.0, 23.0, 18.0, 11.0, 3.0, 43.0, 60.0, 7.0, 8.0, 34.0, 15.0, 12.0, 25.0, 21.0, 13.0, 25.0, 12.0, 40.0, 26.0, 11.0, 4.0, 16.0, 21.0, 20.0, 25.0, 25.0, 30.0, 20.0, 3.0, 19.0, 43.0, 18.0, 88.0, 20.0, 22.0, 24.0, 11.0, 33.0, 9.0, 27.0, 2.0, 29.0, 37.0, 35.0, 31.0, 24.0, 38.0, 11.0, 19.0, 16.0, 13.0, 18.0, 28.0, 16.0, 21.0, 40.0, 55.0, 31.0, 33.0, 13.0, 60.0, 48.0, 16.0, 7.0, 32.0, 4.0, 23.0, 4.0, 26.0, 9.0, 15.0, 20.0, 29.0, 23.0, 32.0, 13.0, 19.0, 16.0, 22.0, 7.0, 51.0, 19.0, 22.0, 37.0, 26.0, 13.0, 11.0, 33.0, 6.0, 35.0, 36.0, 6.0, 17.0, 32.0, 10.0, 18.0, 16.0, 4.0, 18.0, 8.0, 22.0, 31.0, 16.0, 26.0, 33.0, 6.0, 20.0, 11.0, 19.0, 6.0, 7.0, 13.0, 31.0, 15.0, 25.0, 31.0, 40.0, 19.0, 9.0, 4.0, 7.0, 33.0, 9.0, 20.0, 25.0, 29.0, 17.0, 2.0, 14.0, 12.0, 18.0, 16.0, 15.0, 25.0, 33.0, 28.0, 9.0, 28.0, 11.0, 7.0, 19.0, 14.0, 30.0, 24.0, 6.0, 18.0, 15.0, 8.0, 39.0, 3.0, 11.0, 8.0, 7.0, 15.0, 25.0, 7.0, 30.0, 25.0, 17.0, 18.0, 22.0, 39.0, 35.0, 25.0, 18.0, 39.0, 16.0, 27.0, 9.0, 19.0, 30.0, 11.0, 26.0, 141.0, 48.0, 9.0, 17.0, 26.0, 11.0, 37.0, 35.0, 17.0, 19.0, 12.0, 26.0, 41.0, 27.0, 6.0, 4.0, 16.0, 38.0, 16.0, 25.0, 36.0, 50.0, 25.0, 29.0, 20.0, 36.0, 12.0, 27.0, 58.0, 13.0, 15.0, 17.0, 36.0, 30.0, 25.0, 32.0, 32.0, 21.0, 10.0, 9.0, 21.0, 29.0, 28.0, 6.0, 40.0, 7.0, 22.0, 14.0, 38.0, 32.0, 14.0, 16.0, 8.0, 4.0, 26.0, 34.0, 21.0, 19.0, 26.0, 22.0, 34.0, 22.0, 16.0, 9.0, 13.0, 5.0, 38.0, 9.0, 44.0, 16.0, 41.0, 11.0, 22.0, 36.0, 4.0, 5.0, 25.0, 35.0, 12.0, 11.0, 30.0, 11.0, 13.0, 40.0, 15.0, 13.0, 36.0, 10.0, 19.0, 3.0, 17.0, 8.0, 8.0, 44.0, 14.0, 3.0, 15.0, 31.0, 14.0, 28.0, 38.0, 17.0, 4.0, 9.0, 22.0, 20.0, 32.0, 21.0, 58.0, 9.0, 94.0, 24.0, 3.0, 64.0, 53.0, 7.0, 31.0, 6.0, 21.0, 9.0, 12.0, 4.0, 6.0, 13.0, 4.0, 6.0, 30.0, 16.0, 20.0, 14.0, 5.0, 5.0, 23.0, 7.0, 23.0, 16.0, 12.0, 117.0, 19.0, 61.0, 12.0, 24.0, 11.0, 34.0, 14.0, 23.0, 57.0, 13.0, 12.0, 22.0, 30.0, 22.0, 24.0, 28.0, 6.0, 13.0, 23.0, 15.0, 9.0, 21.0, 11.0, 8.0, 22.0, 18.0, 35.0, 22.0, 5.0, 6.0, 19.0, 35.0, 8.0, 6.0, 12.0, 7.0, 19.0, 7.0, 37.0, 43.0, 15.0, 3.0, 49.0, 9.0, 23.0, 28.0, 10.0, 42.0, 5.0, 30.0, 26.0, 6.0, 4.0, 3.0, 35.0, 20.0, 17.0, 8.0, 21.0, 13.0, 16.0, 37.0, 49.0, 3.0, 13.0, 9.0, 9.0, 15.0, 21.0, 20.0, 19.0, 25.0, 23.0, 23.0, 4.0, 22.0, 40.0, 10.0, 25.0, 10.0, 53.0, 9.0, 18.0, 29.0, 23.0, 16.0, 20.0, 10.0, 36.0, 27.0, 9.0, 25.0, 69.0, 12.0, 33.0, 30.0, 56.0, 26.0, 9.0, 38.0, 35.0, 33.0, 18.0, 32.0, 8.0, 9.0, 25.0, 15.0, 6.0, 18.0, 27.0, 9.0, 34.0, 9.0, 36.0, 7.0, 13.0, 21.0, 8.0, 4.0, 11.0, 18.0, 6.0, 21.0, 27.0, 14.0, 19.0, 22.0, 16.0, 11.0, 3.0, 18.0, 29.0, 15.0, 50.0, 25.0, 8.0, 21.0, 22.0, 5.0, 9.0, 12.0, 28.0, 14.0, 3.0, 15.0, 20.0, 4.0, 12.0, 16.0, 11.0, 33.0, 4.0, 14.0, 10.0, 20.0, 13.0, 24.0, 12.0, 7.0, 20.0, 13.0, 23.0, 18.0, 13.0, 27.0, 11.0, 22.0, 12.0, 3.0, 14.0, 26.0, 9.0, 11.0, 34.0, 9.0, 25.0, 17.0, 11.0, 13.0, 13.0, 24.0, 45.0, 12.0, 28.0, 12.0, 36.0, 10.0, 18.0, 12.0, 18.0, 7.0, 6.0, 18.0, 72.0, 19.0, 18.0, 14.0, 19.0, 24.0, 3.0, 20.0, 4.0, 37.0, 9.0, 36.0, 17.0, 26.0, 28.0, 25.0, 12.0, 37.0, 20.0, 17.0, 14.0, 19.0, 17.0, 4.0, 13.0, 22.0, 7.0, 2.0, 15.0, 4.0, 13.0, 29.0, 30.0, 40.0, 7.0, 14.0, 3.0, 25.0, 41.0, 3.0, 6.0, 27.0, 15.0, 39.0, 19.0, 6.0, 70.0, 9.0, 32.0, 28.0, 32.0, 19.0, 16.0, 19.0, 42.0, 18.0, 33.0, 4.0, 30.0, 15.0, 9.0, 31.0, 34.0, 14.0, 23.0, 20.0, 24.0, 28.0, 32.0, 22.0, 38.0, 5.0, 20.0, 9.0, 31.0, 25.0, 71.0, 35.0, 38.0, 13.0, 49.0, 21.0, 12.0, 21.0, 25.0, 31.0, 22.0, 6.0, 20.0, 26.0, 23.0, 2.0, 2.0, 90.0, 40.0, 55.0, 21.0, 31.0, 26.0, 34.0, 6.0, 25.0, 21.0, 9.0, 25.0, 55.0, 18.0, 20.0, 15.0, 22.0, 28.0, 41.0, 6.0, 21.0, 47.0, 16.0, 10.0, 21.0, 4.0, 39.0, 24.0, 15.0, 6.0, 53.0, 13.0, 24.0, 30.0, 32.0, 10.0, 30.0, 12.0, 25.0, 11.0, 8.0, 24.0, 22.0, 10.0, 21.0, 57.0, 7.0, 19.0, 23.0, 46.0, 23.0, 7.0, 9.0, 46.0, 18.0, 30.0, 14.0, 32.0, 16.0, 8.0, 29.0, 32.0, 22.0, 14.0, 22.0, 39.0, 17.0, 19.0, 19.0, 12.0, 22.0, 26.0, 15.0, 8.0, 19.0, 4.0, 9.0, 6.0, 15.0, 25.0, 27.0, 21.0, 38.0, 16.0, 21.0, 8.0, 22.0, 12.0, 35.0, 55.0, 32.0, 46.0, 40.0, 27.0, 3.0, 33.0, 16.0, 30.0, 19.0, 5.0, 22.0, 9.0, 27.0, 29.0, 24.0, 105.0, 13.0, 16.0, 15.0, 9.0, 10.0, 6.0, 24.0, 41.0, 11.0, 58.0, 18.0, 19.0, 9.0, 20.0, 6.0, 16.0, 24.0, 22.0, 17.0, 21.0, 24.0, 5.0, 7.0, 4.0, 10.0, 31.0, 22.0, 39.0, 21.0, 37.0, 11.0, 26.0, 27.0, 16.0, 35.0, 41.0, 14.0, 5.0, 30.0, 15.0, 16.0, 6.0, 9.0, 27.0, 16.0, 9.0, 5.0, 7.0, 14.0, 23.0, 18.0, 15.0, 19.0, 17.0, 15.0, 5.0, 6.0, 30.0, 29.0, 10.0, 14.0, 20.0, 6.0, 78.0, 29.0, 21.0, 16.0, 30.0, 4.0, 8.0, 6.0, 19.0, 10.0, 46.0, 12.0, 12.0, 21.0, 10.0, 26.0, 13.0, 28.0, 14.0, 2.0, 30.0, 11.0, 12.0, 36.0, 44.0, 35.0, 2.0, 16.0, 15.0, 6.0, 22.0, 8.0, 19.0, 32.0, 4.0, 44.0, 26.0, 75.0, 22.0, 17.0, 17.0, 13.0, 18.0, 32.0, 2.0, 20.0, 15.0, 20.0, 28.0, 28.0, 21.0, 14.0, 27.0, 26.0, 5.0, 31.0, 32.0, 63.0, 13.0, 17.0, 50.0, 26.0, 50.0, 19.0, 30.0, 17.0, 2.0, 24.0, 39.0, 53.0, 32.0, 17.0, 6.0, 33.0, 24.0, 16.0, 27.0, 19.0, 51.0, 11.0, 28.0, 64.0, 24.0, 23.0, 16.0, 20.0, 27.0, 9.0, 10.0, 9.0, 68.0, 23.0, 61.0, 16.0, 34.0, 7.0, 20.0, 20.0, 24.0, 9.0, 16.0, 26.0, 5.0, 7.0, 13.0, 12.0, 6.0, 31.0, 27.0, 19.0, 31.0, 10.0, 20.0, 17.0, 11.0, 29.0, 6.0, 26.0, 27.0, 7.0, 28.0, 20.0, 24.0, 42.0, 20.0, 53.0, 8.0, 15.0, 17.0, 28.0, 7.0, 36.0, 11.0, 3.0, 12.0, 22.0, 7.0, 7.0, 26.0, 5.0, 9.0, 6.0, 16.0, 4.0, 14.0, 22.0, 13.0, 26.0, 24.0, 21.0, 36.0, 18.0, 11.0, 6.0, 15.0, 18.0, 4.0, 17.0, 26.0, 12.0, 17.0, 31.0, 12.0, 17.0, 19.0, 14.0, 22.0, 11.0, 12.0, 3.0, 19.0, 24.0, 38.0, 12.0, 11.0, 11.0, 14.0, 32.0, 23.0, 5.0, 33.0, 38.0, 10.0, 26.0, 33.0, 15.0, 15.0, 4.0, 65.0, 26.0, 9.0, 7.0, 13.0, 16.0, 34.0, 20.0, 16.0, 44.0, 22.0, 26.0, 6.0, 41.0, 3.0, 2.0, 33.0, 46.0, 39.0, 24.0, 6.0, 15.0, 42.0, 2.0, 66.0, 6.0, 46.0, 16.0, 26.0, 27.0, 17.0, 18.0, 23.0, 30.0, 32.0, 30.0, 13.0, 23.0, 26.0, 26.0, 26.0, 7.0, 36.0, 22.0, 3.0, 17.0, 47.0, 4.0, 22.0, 10.0, 17.0, 22.0, 21.0, 9.0, 11.0, 19.0, 13.0, 30.0, 34.0, 11.0, 6.0, 3.0, 20.0, 7.0, 11.0, 6.0, 39.0, 14.0, 15.0, 22.0, 21.0, 23.0, 4.0, 9.0, 11.0, 32.0, 27.0, 19.0, 13.0, 31.0, 4.0, 22.0, 14.0, 17.0, 126.0, 9.0, 19.0, 13.0, 44.0, 14.0, 5.0, 22.0, 41.0, 26.0, 38.0, 44.0, 8.0, 11.0, 30.0, 46.0, 6.0, 30.0, 20.0, 15.0, 17.0, 34.0, 22.0, 13.0, 41.0, 4.0, 32.0, 25.0, 46.0, 34.0, 43.0, 9.0, 15.0, 23.0, 30.0, 27.0, 23.0, 3.0, 34.0, 55.0, 14.0, 42.0, 4.0, 2.0, 50.0, 8.0, 36.0, 9.0, 35.0, 10.0, 4.0, 28.0, 10.0, 8.0, 41.0, 20.0, 40.0, 16.0, 15.0, 34.0, 39.0, 24.0, 29.0, 11.0, 2.0, 19.0, 3.0, 6.0, 2.0, 39.0, 14.0, 9.0, 22.0, 34.0, 28.0, 34.0, 31.0, 20.0, 38.0, 7.0, 12.0, 7.0, 22.0, 13.0, 55.0, 11.0, 14.0, 15.0, 8.0, 3.0, 44.0, 24.0, 50.0, 40.0, 8.0, 34.0, 11.0, 22.0, 121.0, 4.0, 12.0, 27.0, 8.0, 12.0, 12.0, 24.0, 31.0, 16.0, 15.0, 35.0, 6.0, 26.0, 4.0, 47.0, 11.0, 22.0, 5.0, 8.0, 23.0, 23.0, 30.0, 23.0, 27.0, 10.0, 30.0, 23.0, 19.0, 5.0, 16.0, 35.0, 27.0, 22.0, 15.0, 29.0, 35.0, 13.0, 14.0, 55.0, 4.0, 19.0, 38.0, 14.0, 30.0, 24.0, 35.0, 25.0, 15.0, 6.0, 34.0, 17.0, 9.0, 17.0, 20.0, 19.0, 17.0, 6.0, 29.0, 4.0, 19.0, 17.0, 32.0, 9.0, 9.0, 21.0, 23.0, 25.0, 20.0, 110.0, 26.0, 18.0, 18.0, 5.0, 7.0, 13.0, 11.0, 17.0, 30.0, 35.0, 14.0, 28.0, 17.0, 61.0, 10.0, 9.0, 83.0, 27.0, 19.0, 38.0, 57.0, 6.0, 10.0, 9.0, 27.0, 36.0, 14.0, 41.0, 19.0, 21.0, 9.0, 14.0, 16.0, 17.0, 4.0, 17.0, 35.0, 16.0, 18.0, 14.0, 18.0, 26.0, 30.0, 10.0, 15.0, 12.0, 35.0, 75.0, 11.0, 14.0, 29.0, 19.0, 21.0, 47.0, 6.0, 44.0, 15.0, 39.0, 5.0, 14.0, 7.0, 17.0, 7.0, 28.0, 8.0, 5.0, 11.0, 16.0, 8.0, 14.0, 23.0, 12.0, 44.0, 4.0, 3.0, 9.0, 24.0, 13.0, 29.0, 27.0, 20.0, 36.0, 18.0, 22.0, 32.0, 21.0, 25.0, 2.0, 9.0, 25.0, 31.0, 29.0, 8.0, 14.0, 18.0, 5.0, 19.0, 26.0, 20.0, 35.0, 26.0, 6.0, 32.0, 9.0, 25.0, 6.0, 32.0, 22.0, 40.0, 13.0, 129.0, 38.0, 12.0, 7.0, 23.0, 43.0, 21.0, 58.0, 17.0, 40.0, 20.0, 32.0, 13.0, 41.0, 18.0, 93.0, 5.0, 15.0, 19.0, 27.0, 17.0, 32.0, 12.0, 21.0, 16.0, 7.0, 21.0, 35.0, 19.0, 5.0, 37.0, 16.0, 6.0, 21.0, 23.0, 24.0, 72.0, 20.0, 17.0, 29.0, 6.0, 6.0, 9.0, 29.0, 73.0, 60.0, 61.0, 7.0, 6.0, 13.0, 10.0, 24.0, 17.0, 35.0, 22.0, 31.0, 2.0, 12.0, 34.0, 5.0, 47.0, 17.0, 20.0, 5.0, 30.0, 19.0, 5.0, 58.0, 12.0, 36.0, 30.0, 27.0, 36.0, 13.0, 35.0, 11.0, 11.0, 20.0, 23.0, 32.0, 29.0, 8.0, 33.0, 23.0, 26.0, 5.0, 8.0, 15.0, 29.0, 34.0, 16.0, 3.0, 30.0, 11.0, 12.0, 5.0, 24.0, 68.0, 24.0, 31.0, 14.0, 33.0, 41.0, 4.0, 4.0, 14.0, 22.0, 3.0, 8.0, 29.0, 4.0, 7.0, 6.0, 9.0, 16.0, 3.0, 25.0, 12.0, 16.0, 24.0, 46.0, 15.0, 7.0, 32.0, 40.0, 15.0, 5.0, 13.0, 3.0, 20.0, 11.0, 21.0, 16.0, 15.0, 17.0, 29.0, 43.0, 22.0, 11.0, 10.0, 42.0, 15.0, 26.0, 6.0, 14.0, 19.0, 26.0, 12.0, 9.0, 6.0, 31.0, 13.0, 9.0, 25.0, 10.0, 16.0, 24.0, 16.0, 12.0, 18.0, 18.0, 21.0, 4.0, 21.0, 11.0, 70.0, 12.0, 10.0, 21.0, 21.0, 21.0, 12.0, 31.0, 20.0, 11.0, 24.0, 22.0, 26.0, 3.0, 30.0, 21.0, 33.0, 25.0, 19.0, 20.0, 15.0, 23.0, 8.0, 32.0, 11.0, 28.0, 14.0, 10.0, 9.0, 36.0, 2.0, 23.0, 5.0, 30.0, 8.0, 15.0, 6.0, 12.0, 25.0, 21.0, 16.0, 11.0, 29.0, 32.0, 26.0, 30.0, 22.0, 8.0, 39.0, 7.0, 19.0, 23.0, 22.0, 42.0, 19.0, 45.0, 13.0, 13.0, 18.0, 10.0, 20.0, 6.0, 19.0, 39.0, 28.0, 20.0, 16.0, 18.0, 3.0, 12.0, 11.0, 18.0, 18.0, 9.0, 8.0, 4.0, 8.0, 29.0, 22.0, 17.0, 16.0, 19.0, 17.0, 48.0, 23.0, 24.0, 92.0, 17.0, 16.0, 5.0, 16.0, 54.0, 9.0, 25.0, 13.0, 14.0, 13.0, 38.0, 16.0, 27.0, 26.0, 22.0, 19.0, 21.0, 18.0, 20.0, 18.0, 18.0, 8.0, 92.0, 13.0, 56.0, 18.0, 27.0, 19.0, 35.0, 3.0, 5.0, 52.0, 17.0, 29.0, 16.0, 12.0, 17.0, 9.0, 3.0, 38.0, 7.0, 9.0, 20.0, 17.0, 4.0, 25.0, 11.0, 17.0, 12.0, 6.0, 56.0, 11.0, 27.0, 21.0, 10.0, 11.0, 2.0, 30.0, 25.0, 13.0, 3.0, 11.0, 15.0, 8.0, 19.0, 3.0, 46.0, 12.0, 17.0, 22.0, 14.0, 25.0, 17.0, 11.0, 31.0, 48.0, 13.0, 22.0, 7.0, 3.0, 27.0, 36.0, 33.0, 13.0, 30.0, 17.0, 41.0, 16.0, 7.0, 37.0, 18.0, 26.0, 56.0, 55.0, 18.0, 89.0, 20.0, 2.0, 23.0, 30.0, 30.0, 23.0, 38.0, 38.0, 3.0, 32.0, 25.0, 19.0, 24.0, 20.0, 6.0, 97.0, 37.0, 25.0, 40.0, 6.0, 7.0, 13.0, 24.0, 17.0, 12.0, 77.0, 36.0, 47.0, 11.0, 16.0, 30.0, 15.0, 5.0, 19.0, 53.0, 9.0, 37.0, 38.0, 24.0, 17.0, 36.0, 20.0, 30.0, 44.0, 10.0, 9.0, 12.0, 11.0, 26.0, 4.0, 23.0, 31.0, 7.0, 24.0, 14.0, 26.0, 8.0, 32.0, 9.0, 5.0, 23.0, 19.0, 14.0, 20.0, 10.0, 32.0, 40.0, 6.0, 6.0, 48.0, 27.0, 6.0, 33.0, 8.0, 41.0, 8.0, 18.0, 6.0, 16.0, 15.0, 21.0, 5.0, 4.0, 27.0, 14.0, 42.0, 33.0, 2.0, 13.0, 55.0, 20.0, 6.0, 20.0, 17.0, 20.0, 23.0, 8.0, 19.0, 43.0, 19.0, 7.0, 12.0, 17.0, 26.0, 8.0, 10.0, 16.0, 19.0, 18.0, 20.0, 8.0, 4.0, 19.0, 27.0, 11.0, 34.0, 23.0, 18.0, 25.0, 10.0, 34.0, 14.0, 28.0, 5.0, 25.0, 26.0, 12.0, 9.0, 26.0, 90.0, 19.0, 20.0, 28.0, 14.0, 27.0, 10.0, 41.0, 30.0, 16.0, 7.0, 96.0, 5.0, 46.0, 13.0, 11.0, 11.0, 26.0, 5.0, 32.0, 51.0, 57.0, 38.0, 25.0, 16.0, 20.0, 15.0, 24.0, 18.0, 8.0, 20.0, 8.0, 30.0, 27.0, 11.0, 9.0, 4.0, 27.0, 20.0, 5.0, 19.0, 18.0, 26.0, 29.0, 17.0, 32.0, 47.0, 37.0, 34.0, 20.0, 17.0, 5.0, 11.0, 11.0, 51.0, 22.0, 14.0, 4.0, 4.0, 31.0, 16.0, 17.0, 15.0, 22.0, 20.0, 9.0, 8.0, 3.0, 22.0, 25.0, 22.0, 74.0, 23.0, 26.0, 8.0, 15.0, 15.0, 24.0, 16.0, 22.0, 13.0, 14.0, 11.0, 24.0, 55.0, 11.0, 45.0, 30.0, 17.0, 11.0, 74.0, 32.0, 12.0, 25.0, 11.0, 10.0, 40.0, 19.0, 18.0, 18.0, 27.0, 6.0, 36.0, 15.0, 25.0, 22.0, 15.0, 21.0, 20.0, 10.0, 3.0, 4.0, 8.0, 36.0, 32.0, 46.0, 5.0, 4.0, 3.0, 33.0, 30.0, 8.0, 16.0, 21.0, 18.0, 8.0, 16.0, 23.0, 23.0, 27.0, 23.0, 12.0, 21.0, 11.0, 56.0, 6.0, 14.0, 12.0, 9.0, 12.0, 12.0, 12.0, 9.0, 18.0, 6.0, 21.0, 15.0, 35.0, 15.0, 27.0, 14.0, 35.0, 23.0, 7.0, 29.0, 3.0, 20.0, 17.0, 38.0, 46.0, 15.0, 12.0, 11.0, 26.0, 9.0, 31.0, 22.0, 6.0, 13.0, 22.0, 13.0, 33.0, 18.0, 12.0, 30.0, 6.0, 42.0, 32.0, 28.0, 23.0, 21.0, 73.0, 29.0, 13.0, 16.0, 28.0, 10.0, 29.0, 16.0, 61.0, 19.0, 4.0, 14.0, 17.0, 27.0, 8.0, 10.0, 15.0, 6.0, 14.0, 32.0, 10.0, 22.0, 36.0, 9.0, 22.0, 20.0, 23.0, 15.0, 17.0, 4.0, 8.0, 22.0, 6.0, 15.0, 18.0, 64.0, 43.0, 54.0, 28.0, 4.0, 12.0, 25.0, 23.0, 42.0, 6.0, 70.0, 24.0, 19.0, 25.0, 6.0, 15.0, 5.0, 19.0, 6.0, 4.0, 24.0, 12.0, 11.0, 10.0, 16.0, 24.0, 43.0, 40.0, 34.0, 27.0, 23.0, 20.0, 44.0, 5.0, 15.0, 12.0, 12.0, 22.0, 12.0, 13.0, 7.0, 18.0, 16.0, 21.0, 10.0, 8.0, 6.0, 23.0, 77.0, 16.0, 26.0, 8.0, 17.0, 21.0, 8.0, 45.0, 8.0, 30.0, 7.0, 15.0, 10.0, 22.0, 21.0, 5.0, 15.0, 8.0, 38.0, 13.0, 22.0, 38.0, 10.0, 14.0, 28.0, 18.0, 20.0, 10.0, 37.0, 40.0, 45.0, 24.0, 19.0, 7.0, 18.0, 9.0, 81.0, 13.0, 23.0, 5.0, 12.0, 33.0, 30.0, 125.0, 28.0, 19.0, 34.0, 14.0, 15.0, 15.0, 58.0, 11.0, 19.0, 28.0, 4.0, 28.0, 13.0, 19.0, 30.0, 31.0, 10.0, 21.0, 16.0, 42.0, 16.0, 21.0, 8.0, 61.0, 10.0, 35.0, 36.0, 27.0, 23.0, 6.0, 24.0, 29.0, 43.0, 7.0, 36.0, 42.0, 28.0, 36.0, 7.0, 26.0, 13.0, 10.0, 13.0, 19.0, 20.0, 22.0, 22.0, 32.0, 37.0, 10.0, 20.0, 14.0, 4.0, 33.0, 23.0, 27.0, 64.0, 21.0, 51.0, 17.0, 21.0, 7.0, 25.0, 22.0, 41.0, 17.0, 13.0, 17.0, 8.0, 30.0, 3.0, 9.0, 124.0, 30.0, 21.0, 4.0, 18.0, 4.0, 6.0, 16.0, 19.0, 7.0, 32.0, 11.0, 36.0, 22.0, 19.0, 11.0, 29.0, 7.0, 7.0, 20.0, 11.0, 15.0, 6.0, 13.0, 21.0, 16.0, 21.0, 23.0, 21.0, 17.0, 54.0, 9.0, 8.0, 15.0, 11.0, 28.0, 25.0, 22.0, 14.0, 24.0, 18.0, 21.0, 31.0, 22.0, 6.0, 32.0, 13.0, 17.0, 20.0, 14.0, 33.0, 28.0, 22.0, 31.0, 6.0, 15.0, 12.0, 13.0, 11.0, 24.0, 26.0, 14.0, 28.0, 36.0, 13.0, 14.0, 16.0, 17.0, 35.0, 49.0, 22.0, 13.0, 5.0, 27.0, 10.0, 6.0, 24.0, 32.0, 10.0, 11.0, 16.0, 29.0, 12.0, 21.0, 5.0, 23.0, 12.0, 12.0, 14.0, 7.0, 14.0, 14.0, 13.0, 35.0, 29.0, 6.0, 30.0, 23.0, 20.0, 14.0, 21.0, 6.0, 12.0, 14.0, 7.0, 25.0, 4.0, 25.0, 41.0, 15.0, 35.0, 16.0, 23.0, 16.0, 37.0, 33.0, 12.0, 5.0, 27.0, 10.0, 23.0, 16.0, 21.0, 11.0, 34.0, 38.0, 13.0, 33.0, 16.0, 19.0, 16.0, 20.0, 34.0, 19.0, 14.0, 33.0, 19.0, 37.0, 13.0, 37.0, 5.0, 25.0, 33.0, 18.0, 38.0, 26.0, 11.0, 26.0, 13.0, 15.0, 8.0, 19.0, 11.0, 12.0, 18.0, 27.0, 23.0, 27.0, 19.0, 27.0, 9.0, 7.0, 9.0, 10.0, 11.0, 15.0, 20.0, 15.0, 53.0, 7.0, 14.0, 13.0, 21.0, 30.0, 23.0, 25.0, 6.0, 40.0, 19.0, 5.0, 12.0, 10.0, 5.0, 7.0, 32.0, 33.0, 6.0, 19.0, 9.0, 14.0, 24.0, 87.0, 15.0, 13.0, 32.0, 24.0, 30.0, 24.0, 15.0, 10.0, 6.0, 11.0, 11.0, 17.0, 26.0, 13.0, 9.0, 43.0, 10.0, 25.0, 34.0, 28.0, 9.0, 3.0, 37.0, 29.0, 9.0, 37.0, 9.0, 31.0, 22.0, 6.0, 14.0, 72.0, 26.0, 24.0, 36.0, 10.0, 23.0, 17.0, 10.0, 11.0, 13.0, 21.0, 30.0, 19.0, 39.0, 14.0, 19.0, 5.0, 42.0, 12.0, 24.0, 22.0, 41.0, 33.0, 21.0, 20.0, 18.0, 25.0, 27.0, 28.0, 26.0, 17.0, 13.0, 8.0, 34.0, 63.0, 14.0, 40.0, 21.0, 10.0, 12.0, 8.0, 21.0, 26.0, 21.0, 15.0, 26.0, 17.0, 20.0, 10.0, 20.0, 36.0, 8.0, 33.0, 10.0, 23.0, 33.0, 17.0, 25.0, 11.0, 47.0, 20.0, 13.0, 12.0, 21.0, 27.0, 16.0, 22.0, 7.0, 18.0, 22.0, 20.0, 10.0, 12.0, 48.0, 32.0, 53.0, 25.0, 8.0, 47.0, 14.0, 5.0, 12.0, 17.0, 68.0, 27.0, 37.0, 67.0, 8.0, 7.0, 9.0, 22.0, 14.0, 81.0, 19.0, 26.0, 24.0, 8.0, 10.0, 40.0, 27.0, 41.0, 20.0, 11.0, 7.0, 44.0, 43.0, 10.0, 35.0, 32.0, 32.0, 10.0, 16.0, 11.0, 24.0, 17.0, 15.0, 23.0, 17.0, 13.0, 6.0, 35.0, 64.0, 11.0, 42.0, 64.0, 24.0, 39.0, 18.0, 26.0, 19.0, 18.0, 26.0, 5.0, 36.0, 24.0, 24.0, 21.0, 8.0, 26.0, 12.0, 5.0, 35.0, 24.0, 18.0, 10.0, 24.0, 12.0, 15.0, 21.0, 60.0, 24.0, 16.0, 30.0, 25.0, 27.0, 15.0, 40.0, 17.0, 8.0, 29.0, 12.0, 7.0, 19.0, 2.0, 36.0, 38.0, 14.0, 25.0, 22.0, 30.0, 50.0, 11.0, 7.0, 28.0, 14.0, 19.0, 10.0, 34.0, 14.0, 13.0, 64.0, 3.0, 11.0, 14.0, 29.0, 30.0, 13.0, 22.0, 13.0, 20.0, 15.0, 28.0, 12.0, 27.0, 33.0, 18.0, 21.0, 12.0, 12.0, 18.0, 13.0, 32.0, 7.0, 13.0, 20.0, 17.0, 32.0, 13.0, 10.0, 33.0, 8.0, 7.0, 55.0, 11.0, 14.0, 28.0, 30.0, 33.0, 9.0, 19.0, 20.0, 26.0, 13.0, 17.0, 9.0, 18.0, 25.0, 31.0, 8.0, 16.0, 26.0, 14.0, 9.0, 7.0, 43.0, 22.0, 15.0, 4.0, 24.0, 15.0, 23.0, 7.0, 18.0, 22.0, 26.0, 12.0, 16.0, 11.0, 20.0, 36.0, 10.0, 33.0, 24.0, 32.0, 16.0, 27.0, 24.0, 14.0, 19.0, 49.0, 14.0, 23.0, 50.0, 51.0, 40.0, 32.0, 48.0, 13.0, 19.0, 52.0, 27.0, 29.0, 14.0, 89.0, 9.0, 14.0, 13.0, 12.0, 33.0, 26.0, 27.0, 20.0, 28.0, 14.0, 17.0, 14.0, 11.0, 29.0, 13.0, 13.0, 32.0, 46.0, 15.0, 12.0, 13.0, 25.0, 11.0, 17.0, 16.0, 18.0, 19.0, 15.0, 17.0, 12.0, 35.0, 7.0, 28.0, 34.0, 12.0, 14.0, 44.0, 6.0, 24.0, 8.0, 37.0, 7.0, 17.0, 29.0, 7.0, 15.0, 14.0, 8.0, 11.0, 37.0, 29.0, 5.0, 30.0, 22.0, 53.0, 11.0, 63.0, 58.0, 12.0, 31.0, 5.0, 31.0, 27.0, 27.0, 17.0, 29.0, 16.0, 18.0, 8.0, 27.0, 16.0, 45.0, 33.0, 6.0, 33.0, 17.0, 11.0, 39.0, 45.0, 33.0, 24.0, 12.0, 31.0, 52.0, 14.0, 12.0, 25.0, 28.0, 19.0, 76.0, 24.0, 13.0, 23.0, 30.0, 17.0, 29.0, 11.0, 12.0, 17.0, 11.0, 27.0, 12.0, 3.0, 8.0, 11.0, 29.0, 21.0, 54.0, 20.0, 10.0, 35.0, 32.0, 20.0, 19.0, 15.0, 33.0, 15.0, 24.0, 14.0, 22.0, 35.0, 14.0, 28.0, 14.0, 17.0, 18.0, 34.0, 14.0, 30.0, 18.0, 67.0, 23.0, 16.0, 20.0, 7.0, 33.0, 18.0, 13.0, 15.0, 45.0, 14.0, 25.0, 64.0, 39.0, 14.0, 7.0, 29.0, 29.0, 11.0, 5.0, 7.0, 10.0, 33.0, 35.0, 23.0, 14.0, 49.0, 11.0, 18.0, 23.0, 8.0, 22.0, 27.0, 30.0, 27.0, 24.0, 20.0, 22.0, 19.0, 27.0, 27.0, 18.0, 12.0, 45.0, 11.0, 21.0, 34.0, 20.0, 30.0, 21.0, 10.0, 31.0, 12.0, 8.0, 36.0, 27.0, 12.0, 14.0, 22.0, 14.0, 22.0, 10.0, 31.0, 6.0, 37.0, 23.0, 22.0, 62.0, 33.0, 15.0, 51.0, 22.0, 12.0, 12.0, 28.0, 9.0, 38.0, 10.0, 23.0, 15.0, 20.0, 12.0, 23.0, 25.0, 37.0, 17.0, 13.0, 27.0, 12.0, 21.0, 37.0, 17.0, 17.0, 14.0, 34.0, 17.0, 19.0, 28.0, 43.0, 22.0, 50.0, 31.0, 31.0, 16.0, 11.0, 41.0, 13.0, 29.0, 4.0, 16.0, 15.0, 21.0, 9.0, 10.0, 20.0, 7.0, 11.0, 16.0, 37.0, 10.0, 15.0, 36.0, 38.0, 38.0, 72.0, 40.0, 33.0, 19.0, 45.0, 10.0, 23.0, 29.0, 7.0, 15.0, 6.0, 19.0, 22.0, 35.0, 4.0, 25.0, 22.0, 29.0, 19.0, 47.0, 5.0, 10.0, 82.0, 21.0, 12.0, 6.0, 21.0, 48.0, 17.0, 22.0, 35.0, 29.0, 18.0, 64.0, 82.0, 18.0, 27.0, 30.0, 16.0, 17.0, 23.0, 17.0, 13.0, 18.0, 25.0, 60.0, 16.0, 5.0, 6.0, 24.0, 24.0, 8.0, 17.0, 21.0, 12.0, 14.0, 34.0, 6.0, 3.0, 21.0, 17.0, 68.0, 8.0, 18.0, 13.0, 22.0, 50.0, 22.0, 63.0, 11.0, 6.0, 17.0, 34.0, 16.0, 7.0, 4.0, 30.0, 66.0, 14.0, 9.0, 41.0, 27.0, 25.0, 4.0, 34.0, 27.0, 67.0, 48.0, 48.0, 31.0, 49.0, 20.0, 7.0, 7.0, 18.0, 35.0, 21.0, 40.0, 7.0, 21.0, 7.0, 18.0, 11.0, 4.0, 40.0, 10.0, 40.0, 83.0, 48.0, 7.0, 19.0, 19.0, 20.0, 4.0, 23.0, 157.0, 7.0, 24.0, 99.0, 27.0, 48.0, 16.0, 7.0, 49.0, 10.0, 6.0, 30.0, 28.0, 15.0, 20.0, 20.0]}],\n",
              "                        {\"bargap\": 0.2, \"bargroupgap\": 0.2, \"template\": {\"data\": {\"bar\": [{\"error_x\": {\"color\": \"#2a3f5f\"}, \"error_y\": {\"color\": \"#2a3f5f\"}, \"marker\": {\"line\": {\"color\": \"#E5ECF6\", \"width\": 0.5}}, \"type\": \"bar\"}], \"barpolar\": [{\"marker\": {\"line\": {\"color\": \"#E5ECF6\", \"width\": 0.5}}, \"type\": \"barpolar\"}], \"carpet\": [{\"aaxis\": {\"endlinecolor\": \"#2a3f5f\", \"gridcolor\": \"white\", \"linecolor\": \"white\", \"minorgridcolor\": \"white\", \"startlinecolor\": \"#2a3f5f\"}, \"baxis\": {\"endlinecolor\": \"#2a3f5f\", \"gridcolor\": \"white\", \"linecolor\": \"white\", \"minorgridcolor\": \"white\", \"startlinecolor\": \"#2a3f5f\"}, \"type\": \"carpet\"}], \"choropleth\": [{\"colorbar\": {\"outlinewidth\": 0, \"ticks\": \"\"}, \"type\": \"choropleth\"}], \"contour\": [{\"colorbar\": {\"outlinewidth\": 0, \"ticks\": \"\"}, \"colorscale\": [[0.0, \"#0d0887\"], [0.1111111111111111, \"#46039f\"], [0.2222222222222222, \"#7201a8\"], [0.3333333333333333, \"#9c179e\"], [0.4444444444444444, \"#bd3786\"], [0.5555555555555556, \"#d8576b\"], [0.6666666666666666, \"#ed7953\"], [0.7777777777777778, \"#fb9f3a\"], [0.8888888888888888, \"#fdca26\"], [1.0, \"#f0f921\"]], \"type\": \"contour\"}], \"contourcarpet\": [{\"colorbar\": {\"outlinewidth\": 0, \"ticks\": \"\"}, \"type\": \"contourcarpet\"}], \"heatmap\": [{\"colorbar\": {\"outlinewidth\": 0, \"ticks\": \"\"}, \"colorscale\": [[0.0, \"#0d0887\"], [0.1111111111111111, \"#46039f\"], [0.2222222222222222, \"#7201a8\"], [0.3333333333333333, \"#9c179e\"], [0.4444444444444444, \"#bd3786\"], [0.5555555555555556, \"#d8576b\"], [0.6666666666666666, \"#ed7953\"], [0.7777777777777778, \"#fb9f3a\"], [0.8888888888888888, \"#fdca26\"], [1.0, \"#f0f921\"]], \"type\": \"heatmap\"}], \"heatmapgl\": [{\"colorbar\": {\"outlinewidth\": 0, \"ticks\": \"\"}, \"colorscale\": [[0.0, \"#0d0887\"], [0.1111111111111111, \"#46039f\"], [0.2222222222222222, \"#7201a8\"], [0.3333333333333333, \"#9c179e\"], [0.4444444444444444, \"#bd3786\"], [0.5555555555555556, \"#d8576b\"], [0.6666666666666666, \"#ed7953\"], [0.7777777777777778, \"#fb9f3a\"], [0.8888888888888888, \"#fdca26\"], [1.0, \"#f0f921\"]], \"type\": \"heatmapgl\"}], \"histogram\": [{\"marker\": {\"colorbar\": {\"outlinewidth\": 0, \"ticks\": \"\"}}, \"type\": \"histogram\"}], \"histogram2d\": [{\"colorbar\": {\"outlinewidth\": 0, \"ticks\": \"\"}, \"colorscale\": [[0.0, \"#0d0887\"], [0.1111111111111111, \"#46039f\"], [0.2222222222222222, \"#7201a8\"], [0.3333333333333333, \"#9c179e\"], [0.4444444444444444, \"#bd3786\"], [0.5555555555555556, \"#d8576b\"], [0.6666666666666666, \"#ed7953\"], [0.7777777777777778, \"#fb9f3a\"], [0.8888888888888888, \"#fdca26\"], [1.0, \"#f0f921\"]], \"type\": \"histogram2d\"}], \"histogram2dcontour\": [{\"colorbar\": {\"outlinewidth\": 0, \"ticks\": \"\"}, \"colorscale\": [[0.0, \"#0d0887\"], [0.1111111111111111, \"#46039f\"], [0.2222222222222222, \"#7201a8\"], [0.3333333333333333, \"#9c179e\"], [0.4444444444444444, \"#bd3786\"], [0.5555555555555556, \"#d8576b\"], [0.6666666666666666, \"#ed7953\"], [0.7777777777777778, \"#fb9f3a\"], [0.8888888888888888, \"#fdca26\"], [1.0, \"#f0f921\"]], \"type\": \"histogram2dcontour\"}], \"mesh3d\": [{\"colorbar\": {\"outlinewidth\": 0, \"ticks\": \"\"}, \"type\": \"mesh3d\"}], \"parcoords\": [{\"line\": {\"colorbar\": {\"outlinewidth\": 0, \"ticks\": \"\"}}, \"type\": \"parcoords\"}], \"pie\": [{\"automargin\": true, \"type\": \"pie\"}], \"scatter\": [{\"marker\": {\"colorbar\": {\"outlinewidth\": 0, \"ticks\": \"\"}}, \"type\": \"scatter\"}], \"scatter3d\": [{\"line\": {\"colorbar\": {\"outlinewidth\": 0, \"ticks\": \"\"}}, \"marker\": {\"colorbar\": {\"outlinewidth\": 0, \"ticks\": \"\"}}, \"type\": \"scatter3d\"}], \"scattercarpet\": [{\"marker\": {\"colorbar\": {\"outlinewidth\": 0, \"ticks\": \"\"}}, \"type\": \"scattercarpet\"}], \"scattergeo\": [{\"marker\": {\"colorbar\": {\"outlinewidth\": 0, \"ticks\": \"\"}}, \"type\": \"scattergeo\"}], \"scattergl\": [{\"marker\": {\"colorbar\": {\"outlinewidth\": 0, \"ticks\": \"\"}}, \"type\": \"scattergl\"}], \"scattermapbox\": [{\"marker\": {\"colorbar\": {\"outlinewidth\": 0, \"ticks\": \"\"}}, \"type\": \"scattermapbox\"}], \"scatterpolar\": [{\"marker\": {\"colorbar\": {\"outlinewidth\": 0, \"ticks\": \"\"}}, \"type\": \"scatterpolar\"}], \"scatterpolargl\": [{\"marker\": {\"colorbar\": {\"outlinewidth\": 0, \"ticks\": \"\"}}, \"type\": \"scatterpolargl\"}], \"scatterternary\": [{\"marker\": {\"colorbar\": {\"outlinewidth\": 0, \"ticks\": \"\"}}, \"type\": \"scatterternary\"}], \"surface\": [{\"colorbar\": {\"outlinewidth\": 0, \"ticks\": \"\"}, \"colorscale\": [[0.0, \"#0d0887\"], [0.1111111111111111, \"#46039f\"], [0.2222222222222222, \"#7201a8\"], [0.3333333333333333, \"#9c179e\"], [0.4444444444444444, \"#bd3786\"], [0.5555555555555556, \"#d8576b\"], [0.6666666666666666, \"#ed7953\"], [0.7777777777777778, \"#fb9f3a\"], [0.8888888888888888, \"#fdca26\"], [1.0, \"#f0f921\"]], \"type\": \"surface\"}], \"table\": [{\"cells\": {\"fill\": {\"color\": \"#EBF0F8\"}, \"line\": {\"color\": \"white\"}}, \"header\": {\"fill\": {\"color\": \"#C8D4E3\"}, \"line\": {\"color\": \"white\"}}, \"type\": \"table\"}]}, \"layout\": {\"annotationdefaults\": {\"arrowcolor\": \"#2a3f5f\", \"arrowhead\": 0, \"arrowwidth\": 1}, \"coloraxis\": {\"colorbar\": {\"outlinewidth\": 0, \"ticks\": \"\"}}, \"colorscale\": {\"diverging\": [[0, \"#8e0152\"], [0.1, \"#c51b7d\"], [0.2, \"#de77ae\"], [0.3, \"#f1b6da\"], [0.4, \"#fde0ef\"], [0.5, \"#f7f7f7\"], [0.6, \"#e6f5d0\"], [0.7, \"#b8e186\"], [0.8, \"#7fbc41\"], [0.9, \"#4d9221\"], [1, \"#276419\"]], \"sequential\": [[0.0, \"#0d0887\"], [0.1111111111111111, \"#46039f\"], [0.2222222222222222, \"#7201a8\"], [0.3333333333333333, \"#9c179e\"], [0.4444444444444444, \"#bd3786\"], [0.5555555555555556, \"#d8576b\"], [0.6666666666666666, \"#ed7953\"], [0.7777777777777778, \"#fb9f3a\"], [0.8888888888888888, \"#fdca26\"], [1.0, \"#f0f921\"]], \"sequentialminus\": [[0.0, \"#0d0887\"], [0.1111111111111111, \"#46039f\"], [0.2222222222222222, \"#7201a8\"], [0.3333333333333333, \"#9c179e\"], [0.4444444444444444, \"#bd3786\"], [0.5555555555555556, \"#d8576b\"], [0.6666666666666666, \"#ed7953\"], [0.7777777777777778, \"#fb9f3a\"], [0.8888888888888888, \"#fdca26\"], [1.0, \"#f0f921\"]]}, \"colorway\": [\"#636efa\", \"#EF553B\", \"#00cc96\", \"#ab63fa\", \"#FFA15A\", \"#19d3f3\", \"#FF6692\", \"#B6E880\", \"#FF97FF\", \"#FECB52\"], \"font\": {\"color\": \"#2a3f5f\"}, \"geo\": {\"bgcolor\": \"white\", \"lakecolor\": \"white\", \"landcolor\": \"#E5ECF6\", \"showlakes\": true, \"showland\": true, \"subunitcolor\": \"white\"}, \"hoverlabel\": {\"align\": \"left\"}, \"hovermode\": \"closest\", \"mapbox\": {\"style\": \"light\"}, \"paper_bgcolor\": \"white\", \"plot_bgcolor\": \"#E5ECF6\", \"polar\": {\"angularaxis\": {\"gridcolor\": \"white\", \"linecolor\": \"white\", \"ticks\": \"\"}, \"bgcolor\": \"#E5ECF6\", \"radialaxis\": {\"gridcolor\": \"white\", \"linecolor\": \"white\", \"ticks\": \"\"}}, \"scene\": {\"xaxis\": {\"backgroundcolor\": \"#E5ECF6\", \"gridcolor\": \"white\", \"gridwidth\": 2, \"linecolor\": \"white\", \"showbackground\": true, \"ticks\": \"\", \"zerolinecolor\": \"white\"}, \"yaxis\": {\"backgroundcolor\": \"#E5ECF6\", \"gridcolor\": \"white\", \"gridwidth\": 2, \"linecolor\": \"white\", \"showbackground\": true, \"ticks\": \"\", \"zerolinecolor\": \"white\"}, \"zaxis\": {\"backgroundcolor\": \"#E5ECF6\", \"gridcolor\": \"white\", \"gridwidth\": 2, \"linecolor\": \"white\", \"showbackground\": true, \"ticks\": \"\", \"zerolinecolor\": \"white\"}}, \"shapedefaults\": {\"line\": {\"color\": \"#2a3f5f\"}}, \"ternary\": {\"aaxis\": {\"gridcolor\": \"white\", \"linecolor\": \"white\", \"ticks\": \"\"}, \"baxis\": {\"gridcolor\": \"white\", \"linecolor\": \"white\", \"ticks\": \"\"}, \"bgcolor\": \"#E5ECF6\", \"caxis\": {\"gridcolor\": \"white\", \"linecolor\": \"white\", \"ticks\": \"\"}}, \"title\": {\"x\": 0.05}, \"xaxis\": {\"automargin\": true, \"gridcolor\": \"white\", \"linecolor\": \"white\", \"ticks\": \"\", \"title\": {\"standoff\": 15}, \"zerolinecolor\": \"white\", \"zerolinewidth\": 2}, \"yaxis\": {\"automargin\": true, \"gridcolor\": \"white\", \"linecolor\": \"white\", \"ticks\": \"\", \"title\": {\"standoff\": 15}, \"zerolinecolor\": \"white\", \"zerolinewidth\": 2}}}, \"title\": {\"text\": \"Distribution of word counts within comments in Translation DS\"}, \"xaxis\": {\"title\": {\"text\": \"Word Count\"}}, \"yaxis\": {\"title\": {\"text\": \"Frequency\"}}},\n",
              "                        {\"responsive\": true}\n",
              "                    ).then(function(){\n",
              "                            \n",
              "var gd = document.getElementById('ceb858d2-8e5a-44cd-93e5-785d40ee1606');\n",
              "var x = new MutationObserver(function (mutations, observer) {{\n",
              "        var display = window.getComputedStyle(gd).display;\n",
              "        if (!display || display === 'none') {{\n",
              "            console.log([gd, 'removed!']);\n",
              "            Plotly.purge(gd);\n",
              "            observer.disconnect();\n",
              "        }}\n",
              "}});\n",
              "\n",
              "// Listen for the removal of the full notebook cells\n",
              "var notebookContainer = gd.closest('#notebook-container');\n",
              "if (notebookContainer) {{\n",
              "    x.observe(notebookContainer, {childList: true});\n",
              "}}\n",
              "\n",
              "// Listen for the clearing of the current output cell\n",
              "var outputEl = gd.closest('.output');\n",
              "if (outputEl) {{\n",
              "    x.observe(outputEl, {childList: true});\n",
              "}}\n",
              "\n",
              "                        })\n",
              "                };\n",
              "                \n",
              "            </script>\n",
              "        </div>\n",
              "</body>\n",
              "</html>"
            ]
          },
          "metadata": {
            "tags": []
          }
        }
      ]
    },
    {
      "cell_type": "code",
      "metadata": {
        "colab": {
          "base_uri": "https://localhost:8080/"
        },
        "id": "LcATQe21Q5w5",
        "outputId": "90c6f52f-cce8-46bd-854a-1841ff8ac8b2"
      },
      "source": [
        "unique_rates = list(sorted(data['rate'].unique()))\n",
        "print(f'We have #{len(unique_rates)} in translation DS:: {unique_rates}')"
      ],
      "execution_count": null,
      "outputs": [
        {
          "output_type": "stream",
          "text": [
            "We have #5 in translation DS:: [-2, -1, 0, 1, 2]\n"
          ],
          "name": "stdout"
        }
      ]
    },
    {
      "cell_type": "code",
      "metadata": {
        "colab": {
          "base_uri": "https://localhost:8080/",
          "height": 542
        },
        "id": "5LK7mKa2Q_VK",
        "outputId": "206e3bd9-a7fb-42b6-b22b-8f312826e216"
      },
      "source": [
        "fig = go.Figure()\n",
        "\n",
        "groupby_rate = data.groupby('rate')['rate'].count()\n",
        "\n",
        "fig.add_trace(go.Bar(\n",
        "    x=list(sorted(groupby_rate.index)),\n",
        "    y=groupby_rate.tolist(),\n",
        "    text=groupby_rate.tolist(),\n",
        "    textposition='auto'\n",
        "))\n",
        "\n",
        "fig.update_layout(\n",
        "    title_text='Distribution of rate within comments',\n",
        "    xaxis_title_text='Rate',\n",
        "    yaxis_title_text='Frequency',\n",
        "    bargap=0.2,\n",
        "    bargroupgap=0.2)\n",
        "\n",
        "fig.show()"
      ],
      "execution_count": null,
      "outputs": [
        {
          "output_type": "display_data",
          "data": {
            "text/html": [
              "<html>\n",
              "<head><meta charset=\"utf-8\" /></head>\n",
              "<body>\n",
              "    <div>\n",
              "            <script src=\"https://cdnjs.cloudflare.com/ajax/libs/mathjax/2.7.5/MathJax.js?config=TeX-AMS-MML_SVG\"></script><script type=\"text/javascript\">if (window.MathJax) {MathJax.Hub.Config({SVG: {font: \"STIX-Web\"}});}</script>\n",
              "                <script type=\"text/javascript\">window.PlotlyConfig = {MathJaxConfig: 'local'};</script>\n",
              "        <script src=\"https://cdn.plot.ly/plotly-latest.min.js\"></script>    \n",
              "            <div id=\"24d90f41-78a3-4580-8e0a-df2ee748a8eb\" class=\"plotly-graph-div\" style=\"height:525px; width:100%;\"></div>\n",
              "            <script type=\"text/javascript\">\n",
              "                \n",
              "                    window.PLOTLYENV=window.PLOTLYENV || {};\n",
              "                    \n",
              "                if (document.getElementById(\"24d90f41-78a3-4580-8e0a-df2ee748a8eb\")) {\n",
              "                    Plotly.newPlot(\n",
              "                        '24d90f41-78a3-4580-8e0a-df2ee748a8eb',\n",
              "                        [{\"text\": [\"316\", \"1874\", \"3997\", \"3997\", \"3843\"], \"textposition\": \"auto\", \"type\": \"bar\", \"x\": [-2, -1, 0, 1, 2], \"y\": [316, 1874, 3997, 3997, 3843]}],\n",
              "                        {\"bargap\": 0.2, \"bargroupgap\": 0.2, \"template\": {\"data\": {\"bar\": [{\"error_x\": {\"color\": \"#2a3f5f\"}, \"error_y\": {\"color\": \"#2a3f5f\"}, \"marker\": {\"line\": {\"color\": \"#E5ECF6\", \"width\": 0.5}}, \"type\": \"bar\"}], \"barpolar\": [{\"marker\": {\"line\": {\"color\": \"#E5ECF6\", \"width\": 0.5}}, \"type\": \"barpolar\"}], \"carpet\": [{\"aaxis\": {\"endlinecolor\": \"#2a3f5f\", \"gridcolor\": \"white\", \"linecolor\": \"white\", \"minorgridcolor\": \"white\", \"startlinecolor\": \"#2a3f5f\"}, \"baxis\": {\"endlinecolor\": \"#2a3f5f\", \"gridcolor\": \"white\", \"linecolor\": \"white\", \"minorgridcolor\": \"white\", \"startlinecolor\": \"#2a3f5f\"}, \"type\": \"carpet\"}], \"choropleth\": [{\"colorbar\": {\"outlinewidth\": 0, \"ticks\": \"\"}, \"type\": \"choropleth\"}], \"contour\": [{\"colorbar\": {\"outlinewidth\": 0, \"ticks\": \"\"}, \"colorscale\": [[0.0, \"#0d0887\"], [0.1111111111111111, \"#46039f\"], [0.2222222222222222, \"#7201a8\"], [0.3333333333333333, \"#9c179e\"], [0.4444444444444444, \"#bd3786\"], [0.5555555555555556, \"#d8576b\"], [0.6666666666666666, \"#ed7953\"], [0.7777777777777778, \"#fb9f3a\"], [0.8888888888888888, \"#fdca26\"], [1.0, \"#f0f921\"]], \"type\": \"contour\"}], \"contourcarpet\": [{\"colorbar\": {\"outlinewidth\": 0, \"ticks\": \"\"}, \"type\": \"contourcarpet\"}], \"heatmap\": [{\"colorbar\": {\"outlinewidth\": 0, \"ticks\": \"\"}, \"colorscale\": [[0.0, \"#0d0887\"], [0.1111111111111111, \"#46039f\"], [0.2222222222222222, \"#7201a8\"], [0.3333333333333333, \"#9c179e\"], [0.4444444444444444, \"#bd3786\"], [0.5555555555555556, \"#d8576b\"], [0.6666666666666666, \"#ed7953\"], [0.7777777777777778, \"#fb9f3a\"], [0.8888888888888888, \"#fdca26\"], [1.0, \"#f0f921\"]], \"type\": \"heatmap\"}], \"heatmapgl\": [{\"colorbar\": {\"outlinewidth\": 0, \"ticks\": \"\"}, \"colorscale\": [[0.0, \"#0d0887\"], [0.1111111111111111, \"#46039f\"], [0.2222222222222222, \"#7201a8\"], [0.3333333333333333, \"#9c179e\"], [0.4444444444444444, \"#bd3786\"], [0.5555555555555556, \"#d8576b\"], [0.6666666666666666, \"#ed7953\"], [0.7777777777777778, \"#fb9f3a\"], [0.8888888888888888, \"#fdca26\"], [1.0, \"#f0f921\"]], \"type\": \"heatmapgl\"}], \"histogram\": [{\"marker\": {\"colorbar\": {\"outlinewidth\": 0, \"ticks\": \"\"}}, \"type\": \"histogram\"}], \"histogram2d\": [{\"colorbar\": {\"outlinewidth\": 0, \"ticks\": \"\"}, \"colorscale\": [[0.0, \"#0d0887\"], [0.1111111111111111, \"#46039f\"], [0.2222222222222222, \"#7201a8\"], [0.3333333333333333, \"#9c179e\"], [0.4444444444444444, \"#bd3786\"], [0.5555555555555556, \"#d8576b\"], [0.6666666666666666, \"#ed7953\"], [0.7777777777777778, \"#fb9f3a\"], [0.8888888888888888, \"#fdca26\"], [1.0, \"#f0f921\"]], \"type\": \"histogram2d\"}], \"histogram2dcontour\": [{\"colorbar\": {\"outlinewidth\": 0, \"ticks\": \"\"}, \"colorscale\": [[0.0, \"#0d0887\"], [0.1111111111111111, \"#46039f\"], [0.2222222222222222, \"#7201a8\"], [0.3333333333333333, \"#9c179e\"], [0.4444444444444444, \"#bd3786\"], [0.5555555555555556, \"#d8576b\"], [0.6666666666666666, \"#ed7953\"], [0.7777777777777778, \"#fb9f3a\"], [0.8888888888888888, \"#fdca26\"], [1.0, \"#f0f921\"]], \"type\": \"histogram2dcontour\"}], \"mesh3d\": [{\"colorbar\": {\"outlinewidth\": 0, \"ticks\": \"\"}, \"type\": \"mesh3d\"}], \"parcoords\": [{\"line\": {\"colorbar\": {\"outlinewidth\": 0, \"ticks\": \"\"}}, \"type\": \"parcoords\"}], \"pie\": [{\"automargin\": true, \"type\": \"pie\"}], \"scatter\": [{\"marker\": {\"colorbar\": {\"outlinewidth\": 0, \"ticks\": \"\"}}, \"type\": \"scatter\"}], \"scatter3d\": [{\"line\": {\"colorbar\": {\"outlinewidth\": 0, \"ticks\": \"\"}}, \"marker\": {\"colorbar\": {\"outlinewidth\": 0, \"ticks\": \"\"}}, \"type\": \"scatter3d\"}], \"scattercarpet\": [{\"marker\": {\"colorbar\": {\"outlinewidth\": 0, \"ticks\": \"\"}}, \"type\": \"scattercarpet\"}], \"scattergeo\": [{\"marker\": {\"colorbar\": {\"outlinewidth\": 0, \"ticks\": \"\"}}, \"type\": \"scattergeo\"}], \"scattergl\": [{\"marker\": {\"colorbar\": {\"outlinewidth\": 0, \"ticks\": \"\"}}, \"type\": \"scattergl\"}], \"scattermapbox\": [{\"marker\": {\"colorbar\": {\"outlinewidth\": 0, \"ticks\": \"\"}}, \"type\": \"scattermapbox\"}], \"scatterpolar\": [{\"marker\": {\"colorbar\": {\"outlinewidth\": 0, \"ticks\": \"\"}}, \"type\": \"scatterpolar\"}], \"scatterpolargl\": [{\"marker\": {\"colorbar\": {\"outlinewidth\": 0, \"ticks\": \"\"}}, \"type\": \"scatterpolargl\"}], \"scatterternary\": [{\"marker\": {\"colorbar\": {\"outlinewidth\": 0, \"ticks\": \"\"}}, \"type\": \"scatterternary\"}], \"surface\": [{\"colorbar\": {\"outlinewidth\": 0, \"ticks\": \"\"}, \"colorscale\": [[0.0, \"#0d0887\"], [0.1111111111111111, \"#46039f\"], [0.2222222222222222, \"#7201a8\"], [0.3333333333333333, \"#9c179e\"], [0.4444444444444444, \"#bd3786\"], [0.5555555555555556, \"#d8576b\"], [0.6666666666666666, \"#ed7953\"], [0.7777777777777778, \"#fb9f3a\"], [0.8888888888888888, \"#fdca26\"], [1.0, \"#f0f921\"]], \"type\": \"surface\"}], \"table\": [{\"cells\": {\"fill\": {\"color\": \"#EBF0F8\"}, \"line\": {\"color\": \"white\"}}, \"header\": {\"fill\": {\"color\": \"#C8D4E3\"}, \"line\": {\"color\": \"white\"}}, \"type\": \"table\"}]}, \"layout\": {\"annotationdefaults\": {\"arrowcolor\": \"#2a3f5f\", \"arrowhead\": 0, \"arrowwidth\": 1}, \"coloraxis\": {\"colorbar\": {\"outlinewidth\": 0, \"ticks\": \"\"}}, \"colorscale\": {\"diverging\": [[0, \"#8e0152\"], [0.1, \"#c51b7d\"], [0.2, \"#de77ae\"], [0.3, \"#f1b6da\"], [0.4, \"#fde0ef\"], [0.5, \"#f7f7f7\"], [0.6, \"#e6f5d0\"], [0.7, \"#b8e186\"], [0.8, \"#7fbc41\"], [0.9, \"#4d9221\"], [1, \"#276419\"]], \"sequential\": [[0.0, \"#0d0887\"], [0.1111111111111111, \"#46039f\"], [0.2222222222222222, \"#7201a8\"], [0.3333333333333333, \"#9c179e\"], [0.4444444444444444, \"#bd3786\"], [0.5555555555555556, \"#d8576b\"], [0.6666666666666666, \"#ed7953\"], [0.7777777777777778, \"#fb9f3a\"], [0.8888888888888888, \"#fdca26\"], [1.0, \"#f0f921\"]], \"sequentialminus\": [[0.0, \"#0d0887\"], [0.1111111111111111, \"#46039f\"], [0.2222222222222222, \"#7201a8\"], [0.3333333333333333, \"#9c179e\"], [0.4444444444444444, \"#bd3786\"], [0.5555555555555556, \"#d8576b\"], [0.6666666666666666, \"#ed7953\"], [0.7777777777777778, \"#fb9f3a\"], [0.8888888888888888, \"#fdca26\"], [1.0, \"#f0f921\"]]}, \"colorway\": [\"#636efa\", \"#EF553B\", \"#00cc96\", \"#ab63fa\", \"#FFA15A\", \"#19d3f3\", \"#FF6692\", \"#B6E880\", \"#FF97FF\", \"#FECB52\"], \"font\": {\"color\": \"#2a3f5f\"}, \"geo\": {\"bgcolor\": \"white\", \"lakecolor\": \"white\", \"landcolor\": \"#E5ECF6\", \"showlakes\": true, \"showland\": true, \"subunitcolor\": \"white\"}, \"hoverlabel\": {\"align\": \"left\"}, \"hovermode\": \"closest\", \"mapbox\": {\"style\": \"light\"}, \"paper_bgcolor\": \"white\", \"plot_bgcolor\": \"#E5ECF6\", \"polar\": {\"angularaxis\": {\"gridcolor\": \"white\", \"linecolor\": \"white\", \"ticks\": \"\"}, \"bgcolor\": \"#E5ECF6\", \"radialaxis\": {\"gridcolor\": \"white\", \"linecolor\": \"white\", \"ticks\": \"\"}}, \"scene\": {\"xaxis\": {\"backgroundcolor\": \"#E5ECF6\", \"gridcolor\": \"white\", \"gridwidth\": 2, \"linecolor\": \"white\", \"showbackground\": true, \"ticks\": \"\", \"zerolinecolor\": \"white\"}, \"yaxis\": {\"backgroundcolor\": \"#E5ECF6\", \"gridcolor\": \"white\", \"gridwidth\": 2, \"linecolor\": \"white\", \"showbackground\": true, \"ticks\": \"\", \"zerolinecolor\": \"white\"}, \"zaxis\": {\"backgroundcolor\": \"#E5ECF6\", \"gridcolor\": \"white\", \"gridwidth\": 2, \"linecolor\": \"white\", \"showbackground\": true, \"ticks\": \"\", \"zerolinecolor\": \"white\"}}, \"shapedefaults\": {\"line\": {\"color\": \"#2a3f5f\"}}, \"ternary\": {\"aaxis\": {\"gridcolor\": \"white\", \"linecolor\": \"white\", \"ticks\": \"\"}, \"baxis\": {\"gridcolor\": \"white\", \"linecolor\": \"white\", \"ticks\": \"\"}, \"bgcolor\": \"#E5ECF6\", \"caxis\": {\"gridcolor\": \"white\", \"linecolor\": \"white\", \"ticks\": \"\"}}, \"title\": {\"x\": 0.05}, \"xaxis\": {\"automargin\": true, \"gridcolor\": \"white\", \"linecolor\": \"white\", \"ticks\": \"\", \"title\": {\"standoff\": 15}, \"zerolinecolor\": \"white\", \"zerolinewidth\": 2}, \"yaxis\": {\"automargin\": true, \"gridcolor\": \"white\", \"linecolor\": \"white\", \"ticks\": \"\", \"title\": {\"standoff\": 15}, \"zerolinecolor\": \"white\", \"zerolinewidth\": 2}}}, \"title\": {\"text\": \"Distribution of rate within comments\"}, \"xaxis\": {\"title\": {\"text\": \"Rate\"}}, \"yaxis\": {\"title\": {\"text\": \"Frequency\"}}},\n",
              "                        {\"responsive\": true}\n",
              "                    ).then(function(){\n",
              "                            \n",
              "var gd = document.getElementById('24d90f41-78a3-4580-8e0a-df2ee748a8eb');\n",
              "var x = new MutationObserver(function (mutations, observer) {{\n",
              "        var display = window.getComputedStyle(gd).display;\n",
              "        if (!display || display === 'none') {{\n",
              "            console.log([gd, 'removed!']);\n",
              "            Plotly.purge(gd);\n",
              "            observer.disconnect();\n",
              "        }}\n",
              "}});\n",
              "\n",
              "// Listen for the removal of the full notebook cells\n",
              "var notebookContainer = gd.closest('#notebook-container');\n",
              "if (notebookContainer) {{\n",
              "    x.observe(notebookContainer, {childList: true});\n",
              "}}\n",
              "\n",
              "// Listen for the clearing of the current output cell\n",
              "var outputEl = gd.closest('.output');\n",
              "if (outputEl) {{\n",
              "    x.observe(outputEl, {childList: true});\n",
              "}}\n",
              "\n",
              "                        })\n",
              "                };\n",
              "                \n",
              "            </script>\n",
              "        </div>\n",
              "</body>\n",
              "</html>"
            ]
          },
          "metadata": {
            "tags": []
          }
        }
      ]
    },
    {
      "cell_type": "markdown",
      "metadata": {
        "id": "4T81eTa0z6cY"
      },
      "source": [
        "### Binarization DS using NR approch"
      ]
    },
    {
      "cell_type": "markdown",
      "metadata": {
        "id": "our_ZLZBn0ec"
      },
      "source": [
        "NR: Removing neutral emotions\n",
        "\n",
        "To a binary form of negative (0) or positive (1) with a threshold. If the rate is greater than 0, it labeled as positive otherwise specified as negative."
      ]
    },
    {
      "cell_type": "code",
      "metadata": {
        "id": "9U0NGd2OPZyv"
      },
      "source": [
        "# remove the 0 rate recordes from DS\n",
        "data['rate'] = data['rate'].apply(lambda r: r if r != 0 else None)\n",
        "\n",
        "data = data.dropna(subset=['rate'])\n",
        "data = data.dropna(subset=['comment'])\n",
        "\n",
        "data = data.drop_duplicates(subset=['comment'], keep='first')\n",
        "data = data.reset_index(drop=True)\n"
      ],
      "execution_count": null,
      "outputs": []
    },
    {
      "cell_type": "code",
      "metadata": {
        "colab": {
          "base_uri": "https://localhost:8080/"
        },
        "id": "U5MkRX6NQSB2",
        "outputId": "0f3ae372-d614-43a1-a5ee-39beaa919e01"
      },
      "source": [
        "data.info()"
      ],
      "execution_count": null,
      "outputs": [
        {
          "output_type": "stream",
          "text": [
            "<class 'pandas.core.frame.DataFrame'>\n",
            "RangeIndex: 9138 entries, 0 to 9137\n",
            "Data columns (total 3 columns):\n",
            " #   Column                Non-Null Count  Dtype  \n",
            "---  ------                --------------  -----  \n",
            " 0   comment               9138 non-null   object \n",
            " 1   rate                  9138 non-null   float64\n",
            " 2   comment_len_by_words  9138 non-null   float64\n",
            "dtypes: float64(2), object(1)\n",
            "memory usage: 214.3+ KB\n"
          ],
          "name": "stdout"
        }
      ]
    },
    {
      "cell_type": "code",
      "metadata": {
        "id": "dvWE2ayX2n-h"
      },
      "source": [
        "def rate_to_label(rate):\n",
        "    if rate < 1:\n",
        "        return 'negative'\n",
        "    else:\n",
        "      return 'positive'\n"
      ],
      "execution_count": null,
      "outputs": []
    },
    {
      "cell_type": "code",
      "metadata": {
        "colab": {
          "base_uri": "https://localhost:8080/",
          "height": 206
        },
        "id": "4QEvHMKz3Dsj",
        "outputId": "81782be1-9919-49a6-88c6-4124b0bdc0f6"
      },
      "source": [
        "data['label'] = data['rate'].apply(lambda r: rate_to_label(r))\n",
        "labels = list(sorted(data['label'].unique()))\n",
        "\n",
        "data.head()"
      ],
      "execution_count": null,
      "outputs": [
        {
          "output_type": "execute_result",
          "data": {
            "text/html": [
              "<div>\n",
              "<style scoped>\n",
              "    .dataframe tbody tr th:only-of-type {\n",
              "        vertical-align: middle;\n",
              "    }\n",
              "\n",
              "    .dataframe tbody tr th {\n",
              "        vertical-align: top;\n",
              "    }\n",
              "\n",
              "    .dataframe thead th {\n",
              "        text-align: right;\n",
              "    }\n",
              "</style>\n",
              "<table border=\"1\" class=\"dataframe\">\n",
              "  <thead>\n",
              "    <tr style=\"text-align: right;\">\n",
              "      <th></th>\n",
              "      <th>comment</th>\n",
              "      <th>rate</th>\n",
              "      <th>comment_len_by_words</th>\n",
              "      <th>label</th>\n",
              "    </tr>\n",
              "  </thead>\n",
              "  <tbody>\n",
              "    <tr>\n",
              "      <th>0</th>\n",
              "      <td>همچنین یک برنامه کاربردی بسیار مفید برای ارائه...</td>\n",
              "      <td>1.0</td>\n",
              "      <td>10.0</td>\n",
              "      <td>positive</td>\n",
              "    </tr>\n",
              "    <tr>\n",
              "      <th>1</th>\n",
              "      <td>این استاندارد بدان معنی است که دستگاه نسبت به ...</td>\n",
              "      <td>1.0</td>\n",
              "      <td>28.0</td>\n",
              "      <td>positive</td>\n",
              "    </tr>\n",
              "    <tr>\n",
              "      <th>2</th>\n",
              "      <td>در حقیقت هنگام معرفی دوربین ، قابلیت بزرگنمایی...</td>\n",
              "      <td>1.0</td>\n",
              "      <td>26.0</td>\n",
              "      <td>positive</td>\n",
              "    </tr>\n",
              "    <tr>\n",
              "      <th>3</th>\n",
              "      <td>این گوشی از رابط کاربری TimeScape سونی اریکسون...</td>\n",
              "      <td>1.0</td>\n",
              "      <td>23.0</td>\n",
              "      <td>positive</td>\n",
              "    </tr>\n",
              "    <tr>\n",
              "      <th>4</th>\n",
              "      <td>در مرور اواسط روز Wi-Fi ، رایانه لوحی توانست ب...</td>\n",
              "      <td>1.0</td>\n",
              "      <td>16.0</td>\n",
              "      <td>positive</td>\n",
              "    </tr>\n",
              "  </tbody>\n",
              "</table>\n",
              "</div>"
            ],
            "text/plain": [
              "                                             comment  ...     label\n",
              "0  همچنین یک برنامه کاربردی بسیار مفید برای ارائه...  ...  positive\n",
              "1  این استاندارد بدان معنی است که دستگاه نسبت به ...  ...  positive\n",
              "2  در حقیقت هنگام معرفی دوربین ، قابلیت بزرگنمایی...  ...  positive\n",
              "3  این گوشی از رابط کاربری TimeScape سونی اریکسون...  ...  positive\n",
              "4  در مرور اواسط روز Wi-Fi ، رایانه لوحی توانست ب...  ...  positive\n",
              "\n",
              "[5 rows x 4 columns]"
            ]
          },
          "metadata": {
            "tags": []
          },
          "execution_count": 19
        }
      ]
    },
    {
      "cell_type": "code",
      "metadata": {
        "colab": {
          "base_uri": "https://localhost:8080/"
        },
        "id": "XDlYAnTX3gxb",
        "outputId": "d50980c5-ba4a-429f-f10f-e5754031ea3e"
      },
      "source": [
        "Tgroupby_label = data.groupby('label')['label'].count()\n",
        "\n",
        "Tgroupby_label = dict(Tgroupby_label)\n",
        "print(Tgroupby_label)"
      ],
      "execution_count": null,
      "outputs": [
        {
          "output_type": "stream",
          "text": [
            "{'negative': 2055, 'positive': 7083}\n"
          ],
          "name": "stdout"
        }
      ]
    },
    {
      "cell_type": "code",
      "metadata": {
        "colab": {
          "base_uri": "https://localhost:8080/",
          "height": 542
        },
        "id": "P9JGPBZ_5Cgq",
        "outputId": "783d1dea-41e9-4cc2-e54e-c3d29b41f35a"
      },
      "source": [
        "fig = go.Figure()\n",
        "\n",
        "T_groupby_rate = data.groupby('rate')['rate'].count()\n",
        "\n",
        "fig.add_trace(go.Bar(\n",
        "    x=list(sorted(T_groupby_rate.index)),\n",
        "    y=T_groupby_rate.tolist(),\n",
        "    text=T_groupby_rate.tolist(),\n",
        "    textposition='auto'\n",
        "))\n",
        "\n",
        "fig.update_layout(\n",
        "    title_text='Distribution of rate within comments',\n",
        "    xaxis_title_text='Rate',\n",
        "    yaxis_title_text='Frequency',\n",
        "    bargap=0.2,\n",
        "    bargroupgap=0.2)\n",
        "\n",
        "fig.show()"
      ],
      "execution_count": null,
      "outputs": [
        {
          "output_type": "display_data",
          "data": {
            "text/html": [
              "<html>\n",
              "<head><meta charset=\"utf-8\" /></head>\n",
              "<body>\n",
              "    <div>\n",
              "            <script src=\"https://cdnjs.cloudflare.com/ajax/libs/mathjax/2.7.5/MathJax.js?config=TeX-AMS-MML_SVG\"></script><script type=\"text/javascript\">if (window.MathJax) {MathJax.Hub.Config({SVG: {font: \"STIX-Web\"}});}</script>\n",
              "                <script type=\"text/javascript\">window.PlotlyConfig = {MathJaxConfig: 'local'};</script>\n",
              "        <script src=\"https://cdn.plot.ly/plotly-latest.min.js\"></script>    \n",
              "            <div id=\"7c85546f-8de7-4172-b387-0a48f4ef3657\" class=\"plotly-graph-div\" style=\"height:525px; width:100%;\"></div>\n",
              "            <script type=\"text/javascript\">\n",
              "                \n",
              "                    window.PLOTLYENV=window.PLOTLYENV || {};\n",
              "                    \n",
              "                if (document.getElementById(\"7c85546f-8de7-4172-b387-0a48f4ef3657\")) {\n",
              "                    Plotly.newPlot(\n",
              "                        '7c85546f-8de7-4172-b387-0a48f4ef3657',\n",
              "                        [{\"text\": [\"303\", \"1752\", \"3784\", \"3299\"], \"textposition\": \"auto\", \"type\": \"bar\", \"x\": [-2.0, -1.0, 1.0, 2.0], \"y\": [303, 1752, 3784, 3299]}],\n",
              "                        {\"bargap\": 0.2, \"bargroupgap\": 0.2, \"template\": {\"data\": {\"bar\": [{\"error_x\": {\"color\": \"#2a3f5f\"}, \"error_y\": {\"color\": \"#2a3f5f\"}, \"marker\": {\"line\": {\"color\": \"#E5ECF6\", \"width\": 0.5}}, \"type\": \"bar\"}], \"barpolar\": [{\"marker\": {\"line\": {\"color\": \"#E5ECF6\", \"width\": 0.5}}, \"type\": \"barpolar\"}], \"carpet\": [{\"aaxis\": {\"endlinecolor\": \"#2a3f5f\", \"gridcolor\": \"white\", \"linecolor\": \"white\", \"minorgridcolor\": \"white\", \"startlinecolor\": \"#2a3f5f\"}, \"baxis\": {\"endlinecolor\": \"#2a3f5f\", \"gridcolor\": \"white\", \"linecolor\": \"white\", \"minorgridcolor\": \"white\", \"startlinecolor\": \"#2a3f5f\"}, \"type\": \"carpet\"}], \"choropleth\": [{\"colorbar\": {\"outlinewidth\": 0, \"ticks\": \"\"}, \"type\": \"choropleth\"}], \"contour\": [{\"colorbar\": {\"outlinewidth\": 0, \"ticks\": \"\"}, \"colorscale\": [[0.0, \"#0d0887\"], [0.1111111111111111, \"#46039f\"], [0.2222222222222222, \"#7201a8\"], [0.3333333333333333, \"#9c179e\"], [0.4444444444444444, \"#bd3786\"], [0.5555555555555556, \"#d8576b\"], [0.6666666666666666, \"#ed7953\"], [0.7777777777777778, \"#fb9f3a\"], [0.8888888888888888, \"#fdca26\"], [1.0, \"#f0f921\"]], \"type\": \"contour\"}], \"contourcarpet\": [{\"colorbar\": {\"outlinewidth\": 0, \"ticks\": \"\"}, \"type\": \"contourcarpet\"}], \"heatmap\": [{\"colorbar\": {\"outlinewidth\": 0, \"ticks\": \"\"}, \"colorscale\": [[0.0, \"#0d0887\"], [0.1111111111111111, \"#46039f\"], [0.2222222222222222, \"#7201a8\"], [0.3333333333333333, \"#9c179e\"], [0.4444444444444444, \"#bd3786\"], [0.5555555555555556, \"#d8576b\"], [0.6666666666666666, \"#ed7953\"], [0.7777777777777778, \"#fb9f3a\"], [0.8888888888888888, \"#fdca26\"], [1.0, \"#f0f921\"]], \"type\": \"heatmap\"}], \"heatmapgl\": [{\"colorbar\": {\"outlinewidth\": 0, \"ticks\": \"\"}, \"colorscale\": [[0.0, \"#0d0887\"], [0.1111111111111111, \"#46039f\"], [0.2222222222222222, \"#7201a8\"], [0.3333333333333333, \"#9c179e\"], [0.4444444444444444, \"#bd3786\"], [0.5555555555555556, \"#d8576b\"], [0.6666666666666666, \"#ed7953\"], [0.7777777777777778, \"#fb9f3a\"], [0.8888888888888888, \"#fdca26\"], [1.0, \"#f0f921\"]], \"type\": \"heatmapgl\"}], \"histogram\": [{\"marker\": {\"colorbar\": {\"outlinewidth\": 0, \"ticks\": \"\"}}, \"type\": \"histogram\"}], \"histogram2d\": [{\"colorbar\": {\"outlinewidth\": 0, \"ticks\": \"\"}, \"colorscale\": [[0.0, \"#0d0887\"], [0.1111111111111111, \"#46039f\"], [0.2222222222222222, \"#7201a8\"], [0.3333333333333333, \"#9c179e\"], [0.4444444444444444, \"#bd3786\"], [0.5555555555555556, \"#d8576b\"], [0.6666666666666666, \"#ed7953\"], [0.7777777777777778, \"#fb9f3a\"], [0.8888888888888888, \"#fdca26\"], [1.0, \"#f0f921\"]], \"type\": \"histogram2d\"}], \"histogram2dcontour\": [{\"colorbar\": {\"outlinewidth\": 0, \"ticks\": \"\"}, \"colorscale\": [[0.0, \"#0d0887\"], [0.1111111111111111, \"#46039f\"], [0.2222222222222222, \"#7201a8\"], [0.3333333333333333, \"#9c179e\"], [0.4444444444444444, \"#bd3786\"], [0.5555555555555556, \"#d8576b\"], [0.6666666666666666, \"#ed7953\"], [0.7777777777777778, \"#fb9f3a\"], [0.8888888888888888, \"#fdca26\"], [1.0, \"#f0f921\"]], \"type\": \"histogram2dcontour\"}], \"mesh3d\": [{\"colorbar\": {\"outlinewidth\": 0, \"ticks\": \"\"}, \"type\": \"mesh3d\"}], \"parcoords\": [{\"line\": {\"colorbar\": {\"outlinewidth\": 0, \"ticks\": \"\"}}, \"type\": \"parcoords\"}], \"pie\": [{\"automargin\": true, \"type\": \"pie\"}], \"scatter\": [{\"marker\": {\"colorbar\": {\"outlinewidth\": 0, \"ticks\": \"\"}}, \"type\": \"scatter\"}], \"scatter3d\": [{\"line\": {\"colorbar\": {\"outlinewidth\": 0, \"ticks\": \"\"}}, \"marker\": {\"colorbar\": {\"outlinewidth\": 0, \"ticks\": \"\"}}, \"type\": \"scatter3d\"}], \"scattercarpet\": [{\"marker\": {\"colorbar\": {\"outlinewidth\": 0, \"ticks\": \"\"}}, \"type\": \"scattercarpet\"}], \"scattergeo\": [{\"marker\": {\"colorbar\": {\"outlinewidth\": 0, \"ticks\": \"\"}}, \"type\": \"scattergeo\"}], \"scattergl\": [{\"marker\": {\"colorbar\": {\"outlinewidth\": 0, \"ticks\": \"\"}}, \"type\": \"scattergl\"}], \"scattermapbox\": [{\"marker\": {\"colorbar\": {\"outlinewidth\": 0, \"ticks\": \"\"}}, \"type\": \"scattermapbox\"}], \"scatterpolar\": [{\"marker\": {\"colorbar\": {\"outlinewidth\": 0, \"ticks\": \"\"}}, \"type\": \"scatterpolar\"}], \"scatterpolargl\": [{\"marker\": {\"colorbar\": {\"outlinewidth\": 0, \"ticks\": \"\"}}, \"type\": \"scatterpolargl\"}], \"scatterternary\": [{\"marker\": {\"colorbar\": {\"outlinewidth\": 0, \"ticks\": \"\"}}, \"type\": \"scatterternary\"}], \"surface\": [{\"colorbar\": {\"outlinewidth\": 0, \"ticks\": \"\"}, \"colorscale\": [[0.0, \"#0d0887\"], [0.1111111111111111, \"#46039f\"], [0.2222222222222222, \"#7201a8\"], [0.3333333333333333, \"#9c179e\"], [0.4444444444444444, \"#bd3786\"], [0.5555555555555556, \"#d8576b\"], [0.6666666666666666, \"#ed7953\"], [0.7777777777777778, \"#fb9f3a\"], [0.8888888888888888, \"#fdca26\"], [1.0, \"#f0f921\"]], \"type\": \"surface\"}], \"table\": [{\"cells\": {\"fill\": {\"color\": \"#EBF0F8\"}, \"line\": {\"color\": \"white\"}}, \"header\": {\"fill\": {\"color\": \"#C8D4E3\"}, \"line\": {\"color\": \"white\"}}, \"type\": \"table\"}]}, \"layout\": {\"annotationdefaults\": {\"arrowcolor\": \"#2a3f5f\", \"arrowhead\": 0, \"arrowwidth\": 1}, \"coloraxis\": {\"colorbar\": {\"outlinewidth\": 0, \"ticks\": \"\"}}, \"colorscale\": {\"diverging\": [[0, \"#8e0152\"], [0.1, \"#c51b7d\"], [0.2, \"#de77ae\"], [0.3, \"#f1b6da\"], [0.4, \"#fde0ef\"], [0.5, \"#f7f7f7\"], [0.6, \"#e6f5d0\"], [0.7, \"#b8e186\"], [0.8, \"#7fbc41\"], [0.9, \"#4d9221\"], [1, \"#276419\"]], \"sequential\": [[0.0, \"#0d0887\"], [0.1111111111111111, \"#46039f\"], [0.2222222222222222, \"#7201a8\"], [0.3333333333333333, \"#9c179e\"], [0.4444444444444444, \"#bd3786\"], [0.5555555555555556, \"#d8576b\"], [0.6666666666666666, \"#ed7953\"], [0.7777777777777778, \"#fb9f3a\"], [0.8888888888888888, \"#fdca26\"], [1.0, \"#f0f921\"]], \"sequentialminus\": [[0.0, \"#0d0887\"], [0.1111111111111111, \"#46039f\"], [0.2222222222222222, \"#7201a8\"], [0.3333333333333333, \"#9c179e\"], [0.4444444444444444, \"#bd3786\"], [0.5555555555555556, \"#d8576b\"], [0.6666666666666666, \"#ed7953\"], [0.7777777777777778, \"#fb9f3a\"], [0.8888888888888888, \"#fdca26\"], [1.0, \"#f0f921\"]]}, \"colorway\": [\"#636efa\", \"#EF553B\", \"#00cc96\", \"#ab63fa\", \"#FFA15A\", \"#19d3f3\", \"#FF6692\", \"#B6E880\", \"#FF97FF\", \"#FECB52\"], \"font\": {\"color\": \"#2a3f5f\"}, \"geo\": {\"bgcolor\": \"white\", \"lakecolor\": \"white\", \"landcolor\": \"#E5ECF6\", \"showlakes\": true, \"showland\": true, \"subunitcolor\": \"white\"}, \"hoverlabel\": {\"align\": \"left\"}, \"hovermode\": \"closest\", \"mapbox\": {\"style\": \"light\"}, \"paper_bgcolor\": \"white\", \"plot_bgcolor\": \"#E5ECF6\", \"polar\": {\"angularaxis\": {\"gridcolor\": \"white\", \"linecolor\": \"white\", \"ticks\": \"\"}, \"bgcolor\": \"#E5ECF6\", \"radialaxis\": {\"gridcolor\": \"white\", \"linecolor\": \"white\", \"ticks\": \"\"}}, \"scene\": {\"xaxis\": {\"backgroundcolor\": \"#E5ECF6\", \"gridcolor\": \"white\", \"gridwidth\": 2, \"linecolor\": \"white\", \"showbackground\": true, \"ticks\": \"\", \"zerolinecolor\": \"white\"}, \"yaxis\": {\"backgroundcolor\": \"#E5ECF6\", \"gridcolor\": \"white\", \"gridwidth\": 2, \"linecolor\": \"white\", \"showbackground\": true, \"ticks\": \"\", \"zerolinecolor\": \"white\"}, \"zaxis\": {\"backgroundcolor\": \"#E5ECF6\", \"gridcolor\": \"white\", \"gridwidth\": 2, \"linecolor\": \"white\", \"showbackground\": true, \"ticks\": \"\", \"zerolinecolor\": \"white\"}}, \"shapedefaults\": {\"line\": {\"color\": \"#2a3f5f\"}}, \"ternary\": {\"aaxis\": {\"gridcolor\": \"white\", \"linecolor\": \"white\", \"ticks\": \"\"}, \"baxis\": {\"gridcolor\": \"white\", \"linecolor\": \"white\", \"ticks\": \"\"}, \"bgcolor\": \"#E5ECF6\", \"caxis\": {\"gridcolor\": \"white\", \"linecolor\": \"white\", \"ticks\": \"\"}}, \"title\": {\"x\": 0.05}, \"xaxis\": {\"automargin\": true, \"gridcolor\": \"white\", \"linecolor\": \"white\", \"ticks\": \"\", \"title\": {\"standoff\": 15}, \"zerolinecolor\": \"white\", \"zerolinewidth\": 2}, \"yaxis\": {\"automargin\": true, \"gridcolor\": \"white\", \"linecolor\": \"white\", \"ticks\": \"\", \"title\": {\"standoff\": 15}, \"zerolinecolor\": \"white\", \"zerolinewidth\": 2}}}, \"title\": {\"text\": \"Distribution of rate within comments\"}, \"xaxis\": {\"title\": {\"text\": \"Rate\"}}, \"yaxis\": {\"title\": {\"text\": \"Frequency\"}}},\n",
              "                        {\"responsive\": true}\n",
              "                    ).then(function(){\n",
              "                            \n",
              "var gd = document.getElementById('7c85546f-8de7-4172-b387-0a48f4ef3657');\n",
              "var x = new MutationObserver(function (mutations, observer) {{\n",
              "        var display = window.getComputedStyle(gd).display;\n",
              "        if (!display || display === 'none') {{\n",
              "            console.log([gd, 'removed!']);\n",
              "            Plotly.purge(gd);\n",
              "            observer.disconnect();\n",
              "        }}\n",
              "}});\n",
              "\n",
              "// Listen for the removal of the full notebook cells\n",
              "var notebookContainer = gd.closest('#notebook-container');\n",
              "if (notebookContainer) {{\n",
              "    x.observe(notebookContainer, {childList: true});\n",
              "}}\n",
              "\n",
              "// Listen for the clearing of the current output cell\n",
              "var outputEl = gd.closest('.output');\n",
              "if (outputEl) {{\n",
              "    x.observe(outputEl, {childList: true});\n",
              "}}\n",
              "\n",
              "                        })\n",
              "                };\n",
              "                \n",
              "            </script>\n",
              "        </div>\n",
              "</body>\n",
              "</html>"
            ]
          },
          "metadata": {
            "tags": []
          }
        }
      ]
    },
    {
      "cell_type": "markdown",
      "metadata": {
        "id": "jJxf-DvhGxYv"
      },
      "source": [
        "### Cleaning \n",
        "is the final step in this section, and becase **DeepSentiPers** had five different preprocessing steps were applied to all the sentences (Normalization, Punctuation rmoval, Single character removal, Digits removal and Lemmatization), so Our cleaned method includes these steps:\n",
        "- fixing unicodes\n",
        "- removing specials like an email, url, new lines, ...\n",
        "- cleaning HTMLs\n",
        "- removing emojis"
      ]
    },
    {
      "cell_type": "code",
      "metadata": {
        "id": "Fl54AAGXkwNf"
      },
      "source": [
        "import re\n",
        "def cleanhtml(raw_html):\n",
        "    cleanr = re.compile('<.*?>')\n",
        "    cleantext = re.sub(cleanr, '', raw_html)\n",
        "    return cleantext\n",
        "\n",
        "\n",
        "def cleaning(text):\n",
        "    text = text.strip()\n",
        "    \n",
        "    # regular cleaning\n",
        "    text = clean(text,\n",
        "        fix_unicode=True,                 # fix various unicode errors\n",
        "        to_ascii=False,                   # transliterate to closest ASCII representation\n",
        "        lower=True,                       # lowercase text\n",
        "        no_line_breaks=True,              # fully strip line breaks as opposed to only normalizing them\n",
        "        no_urls=True,                     # replace all URLs with a special token\n",
        "        no_emails=True,                   # replace all email addresses with a special token\n",
        "        no_phone_numbers=True,            # replace all phone numbers with a special token\n",
        "        no_numbers=False,                 # replace all numbers with a special token\n",
        "        no_digits=False,                  # replace all digits with a special token\n",
        "        no_currency_symbols=True,         # replace all currency symbols with a special token\n",
        "        no_punct=False,                   # remove punctuations\n",
        "        replace_with_url=\"\",              # instead of removing URL replace them by noyhing\n",
        "        replace_with_email=\"\",\n",
        "        replace_with_phone_number=\"\",\n",
        "        replace_with_number=\"\",\n",
        "        replace_with_digit=\"0\",\n",
        "        replace_with_currency_symbol=\"\",  \n",
        "        #lang=\"en\"                       # set to 'de' for German special handling\n",
        "        # So far, only English and German are fully supported. It should work for the majority of western languages.\n",
        "    )\n",
        "\n",
        "\n",
        "    # cleaning htmls\n",
        "    text = cleanhtml(text) \n",
        "   \n",
        "    # removing wierd patterns\n",
        "    wierd_pattern = re.compile(\"[\"\n",
        "        u\"\\U0001F600-\\U0001F64F\"  # emoticons\n",
        "        u\"\\U0001F300-\\U0001F5FF\"  # symbols & pictographs\n",
        "        u\"\\U0001F680-\\U0001F6FF\"  # transport & map symbols\n",
        "        u\"\\U0001F1E0-\\U0001F1FF\"  # flags (iOS)\n",
        "        u\"\\U00002702-\\U000027B0\"\n",
        "        u\"\\U000024C2-\\U0001F251\"\n",
        "        u\"\\U0001f926-\\U0001f937\"\n",
        "        u'\\U00010000-\\U0010ffff'\n",
        "        u\"\\u200d\"\n",
        "        u\"\\u2640-\\u2642\"\n",
        "        u\"\\u2600-\\u2B55\"\n",
        "        u\"\\u23cf\"\n",
        "        u\"\\u23e9\"\n",
        "        u\"\\u231a\"\n",
        "        u\"\\u3030\"\n",
        "        u\"\\ufe0f\"\n",
        "        u\"\\u2069\"\n",
        "        u\"\\u2066\"\n",
        "        # u\"\\u200c\"\n",
        "        u\"\\u2068\"\n",
        "        u\"\\u2067\"\n",
        "        \"]+\", flags=re.UNICODE)\n",
        "    \n",
        "    text = wierd_pattern.sub(r'', text)\n",
        "    \n",
        "    # removing extra spaces, hashtags\n",
        "    text = re.sub(\"#\", \"\", text)\n",
        "    text = re.sub(\"\\s+\", \" \", text)\n",
        "    \n",
        "    return text"
      ],
      "execution_count": null,
      "outputs": []
    },
    {
      "cell_type": "code",
      "metadata": {
        "colab": {
          "base_uri": "https://localhost:8080/",
          "height": 293
        },
        "id": "9Q3EzsXelEyW",
        "outputId": "448320f5-d36c-4bc0-e05d-54c303055291"
      },
      "source": [
        "# cleaning comments\n",
        "data['cleaned_comment'] = data['comment'].apply(cleaning)\n",
        "\n",
        "\n",
        "# calculate the length of comments based on their words\n",
        "data['cleaned_comment_len_by_words'] = data['cleaned_comment'].apply(lambda t: len(hazm.word_tokenize(t)))\n",
        "\n",
        "# remove comments with the length of fewer than 2 words\n",
        "data['cleaned_comment_len_by_words'] = data['cleaned_comment_len_by_words'].apply(lambda len_t: len_t if minlim <= len_t <= maxlim else len_t)\n",
        "data = data.dropna(subset=['cleaned_comment_len_by_words'])\n",
        "data = data.reset_index(drop=True)\n",
        "\n",
        "data.head()"
      ],
      "execution_count": null,
      "outputs": [
        {
          "output_type": "execute_result",
          "data": {
            "text/html": [
              "<div>\n",
              "<style scoped>\n",
              "    .dataframe tbody tr th:only-of-type {\n",
              "        vertical-align: middle;\n",
              "    }\n",
              "\n",
              "    .dataframe tbody tr th {\n",
              "        vertical-align: top;\n",
              "    }\n",
              "\n",
              "    .dataframe thead th {\n",
              "        text-align: right;\n",
              "    }\n",
              "</style>\n",
              "<table border=\"1\" class=\"dataframe\">\n",
              "  <thead>\n",
              "    <tr style=\"text-align: right;\">\n",
              "      <th></th>\n",
              "      <th>comment</th>\n",
              "      <th>rate</th>\n",
              "      <th>comment_len_by_words</th>\n",
              "      <th>label</th>\n",
              "      <th>cleaned_comment</th>\n",
              "      <th>cleaned_comment_len_by_words</th>\n",
              "    </tr>\n",
              "  </thead>\n",
              "  <tbody>\n",
              "    <tr>\n",
              "      <th>0</th>\n",
              "      <td>همچنین یک برنامه کاربردی بسیار مفید برای ارائه...</td>\n",
              "      <td>1.0</td>\n",
              "      <td>10.0</td>\n",
              "      <td>positive</td>\n",
              "      <td>همچنین یک برنامه کاربردی بسیار مفید برای ارائه...</td>\n",
              "      <td>10</td>\n",
              "    </tr>\n",
              "    <tr>\n",
              "      <th>1</th>\n",
              "      <td>این استاندارد بدان معنی است که دستگاه نسبت به ...</td>\n",
              "      <td>1.0</td>\n",
              "      <td>28.0</td>\n",
              "      <td>positive</td>\n",
              "      <td>این استاندارد بدان معنی است که دستگاه نسبت به ...</td>\n",
              "      <td>28</td>\n",
              "    </tr>\n",
              "    <tr>\n",
              "      <th>2</th>\n",
              "      <td>در حقیقت هنگام معرفی دوربین ، قابلیت بزرگنمایی...</td>\n",
              "      <td>1.0</td>\n",
              "      <td>26.0</td>\n",
              "      <td>positive</td>\n",
              "      <td>در حقیقت هنگام معرفی دوربین ، قابلیت بزرگنمایی...</td>\n",
              "      <td>26</td>\n",
              "    </tr>\n",
              "    <tr>\n",
              "      <th>3</th>\n",
              "      <td>این گوشی از رابط کاربری TimeScape سونی اریکسون...</td>\n",
              "      <td>1.0</td>\n",
              "      <td>23.0</td>\n",
              "      <td>positive</td>\n",
              "      <td>این گوشی از رابط کاربری timescape سونی اریکسون...</td>\n",
              "      <td>23</td>\n",
              "    </tr>\n",
              "    <tr>\n",
              "      <th>4</th>\n",
              "      <td>در مرور اواسط روز Wi-Fi ، رایانه لوحی توانست ب...</td>\n",
              "      <td>1.0</td>\n",
              "      <td>16.0</td>\n",
              "      <td>positive</td>\n",
              "      <td>در مرور اواسط روز wi-fi ، رایانه لوحی توانست ب...</td>\n",
              "      <td>16</td>\n",
              "    </tr>\n",
              "  </tbody>\n",
              "</table>\n",
              "</div>"
            ],
            "text/plain": [
              "                                             comment  ...  cleaned_comment_len_by_words\n",
              "0  همچنین یک برنامه کاربردی بسیار مفید برای ارائه...  ...                            10\n",
              "1  این استاندارد بدان معنی است که دستگاه نسبت به ...  ...                            28\n",
              "2  در حقیقت هنگام معرفی دوربین ، قابلیت بزرگنمایی...  ...                            26\n",
              "3  این گوشی از رابط کاربری TimeScape سونی اریکسون...  ...                            23\n",
              "4  در مرور اواسط روز Wi-Fi ، رایانه لوحی توانست ب...  ...                            16\n",
              "\n",
              "[5 rows x 6 columns]"
            ]
          },
          "metadata": {
            "tags": []
          },
          "execution_count": 23
        }
      ]
    },
    {
      "cell_type": "code",
      "metadata": {
        "colab": {
          "base_uri": "https://localhost:8080/"
        },
        "id": "n3oD0ezNFpRQ",
        "outputId": "32745e90-4bb6-4267-a05b-c43de10ec252"
      },
      "source": [
        "data.info()"
      ],
      "execution_count": null,
      "outputs": [
        {
          "output_type": "stream",
          "text": [
            "<class 'pandas.core.frame.DataFrame'>\n",
            "RangeIndex: 9138 entries, 0 to 9137\n",
            "Data columns (total 6 columns):\n",
            " #   Column                        Non-Null Count  Dtype  \n",
            "---  ------                        --------------  -----  \n",
            " 0   comment                       9138 non-null   object \n",
            " 1   rate                          9138 non-null   float64\n",
            " 2   comment_len_by_words          9138 non-null   float64\n",
            " 3   label                         9138 non-null   object \n",
            " 4   cleaned_comment               9138 non-null   object \n",
            " 5   cleaned_comment_len_by_words  9138 non-null   int64  \n",
            "dtypes: float64(2), int64(1), object(3)\n",
            "memory usage: 428.5+ KB\n"
          ],
          "name": "stdout"
        }
      ]
    },
    {
      "cell_type": "code",
      "metadata": {
        "colab": {
          "base_uri": "https://localhost:8080/",
          "height": 206
        },
        "id": "kwEUclOJnNLq",
        "outputId": "fc490a2d-43f1-42c8-8114-162aa8d3d2d3"
      },
      "source": [
        "data = data[['cleaned_comment', 'label']]\n",
        "data.columns = ['comment', 'label']\n",
        "data.head()"
      ],
      "execution_count": null,
      "outputs": [
        {
          "output_type": "execute_result",
          "data": {
            "text/html": [
              "<div>\n",
              "<style scoped>\n",
              "    .dataframe tbody tr th:only-of-type {\n",
              "        vertical-align: middle;\n",
              "    }\n",
              "\n",
              "    .dataframe tbody tr th {\n",
              "        vertical-align: top;\n",
              "    }\n",
              "\n",
              "    .dataframe thead th {\n",
              "        text-align: right;\n",
              "    }\n",
              "</style>\n",
              "<table border=\"1\" class=\"dataframe\">\n",
              "  <thead>\n",
              "    <tr style=\"text-align: right;\">\n",
              "      <th></th>\n",
              "      <th>comment</th>\n",
              "      <th>label</th>\n",
              "    </tr>\n",
              "  </thead>\n",
              "  <tbody>\n",
              "    <tr>\n",
              "      <th>0</th>\n",
              "      <td>همچنین یک برنامه کاربردی بسیار مفید برای ارائه...</td>\n",
              "      <td>positive</td>\n",
              "    </tr>\n",
              "    <tr>\n",
              "      <th>1</th>\n",
              "      <td>این استاندارد بدان معنی است که دستگاه نسبت به ...</td>\n",
              "      <td>positive</td>\n",
              "    </tr>\n",
              "    <tr>\n",
              "      <th>2</th>\n",
              "      <td>در حقیقت هنگام معرفی دوربین ، قابلیت بزرگنمایی...</td>\n",
              "      <td>positive</td>\n",
              "    </tr>\n",
              "    <tr>\n",
              "      <th>3</th>\n",
              "      <td>این گوشی از رابط کاربری timescape سونی اریکسون...</td>\n",
              "      <td>positive</td>\n",
              "    </tr>\n",
              "    <tr>\n",
              "      <th>4</th>\n",
              "      <td>در مرور اواسط روز wi-fi ، رایانه لوحی توانست ب...</td>\n",
              "      <td>positive</td>\n",
              "    </tr>\n",
              "  </tbody>\n",
              "</table>\n",
              "</div>"
            ],
            "text/plain": [
              "                                             comment     label\n",
              "0  همچنین یک برنامه کاربردی بسیار مفید برای ارائه...  positive\n",
              "1  این استاندارد بدان معنی است که دستگاه نسبت به ...  positive\n",
              "2  در حقیقت هنگام معرفی دوربین ، قابلیت بزرگنمایی...  positive\n",
              "3  این گوشی از رابط کاربری timescape سونی اریکسون...  positive\n",
              "4  در مرور اواسط روز wi-fi ، رایانه لوحی توانست ب...  positive"
            ]
          },
          "metadata": {
            "tags": []
          },
          "execution_count": 25
        }
      ]
    },
    {
      "cell_type": "code",
      "metadata": {
        "colab": {
          "base_uri": "https://localhost:8080/"
        },
        "id": "JZHuzYFMna2n",
        "outputId": "d7be953a-7c81-430a-e3d0-8a4cb1ac8171"
      },
      "source": [
        "print(f'We have #{len(labels)} labels: {labels}')"
      ],
      "execution_count": null,
      "outputs": [
        {
          "output_type": "stream",
          "text": [
            "We have #2 labels: ['negative', 'positive']\n"
          ],
          "name": "stdout"
        }
      ]
    },
    {
      "cell_type": "code",
      "metadata": {
        "colab": {
          "base_uri": "https://localhost:8080/"
        },
        "id": "rLbMRuVqOSmn",
        "outputId": "4ab995ae-23d8-4f91-d6cb-3380c49bf525"
      },
      "source": [
        "# See the data number of sentence in each category and is it balanced?\n",
        "GroupbyLabel = data.groupby('label')['label'].count()\n",
        "\n",
        "GroupbyLabel = dict(GroupbyLabel)\n",
        "print(GroupbyLabel)"
      ],
      "execution_count": null,
      "outputs": [
        {
          "output_type": "stream",
          "text": [
            "{'negative': 2055, 'positive': 7083}\n"
          ],
          "name": "stdout"
        }
      ]
    },
    {
      "cell_type": "code",
      "metadata": {
        "colab": {
          "base_uri": "https://localhost:8080/",
          "height": 297
        },
        "id": "GEGDgOO7O2Ih",
        "outputId": "0845e289-e1c4-40ed-d719-c5a692742ba6"
      },
      "source": [
        "labels = list(GroupbyLabel.keys())\n",
        "sizes = list(GroupbyLabel.values())\n",
        "colors = ['#3fba36', '#66b3ff','#ffcc99','#ff9999', '#d44444']\n",
        "fig1, ax1 = plt.subplots()\n",
        "ax1.pie(sizes, labels=labels, colors=colors,\n",
        "        autopct='%1.1f%%', startangle=90)\n",
        "#draw circle\n",
        "centre_circle = plt.Circle((0,0),0.70,fc='white')\n",
        "fig = plt.gcf()\n",
        "fig.gca().add_artist(centre_circle)\n",
        "# Equal aspect ratio ensures that pie is drawn as a circle\n",
        "ax1.axis('equal')  \n",
        "plt.tight_layout()\n",
        "# Decomment following line if you want to save the figure\n",
        "plt.show()"
      ],
      "execution_count": null,
      "outputs": [
        {
          "output_type": "display_data",
          "data": {
            "image/png": "[encoded data removed]",
            "text/plain": [
              "<Figure size 432x288 with 1 Axes>"
            ]
          },
          "metadata": {
            "tags": []
          }
        }
      ]
    },
    {
      "cell_type": "code",
      "metadata": {
        "id": "7go47tYozdZI",
        "colab": {
          "base_uri": "https://localhost:8080/"
        },
        "outputId": "f796d747-1db1-4795-b709-56129daa19ea"
      },
      "source": [
        "new_data = data\n",
        "new_data = new_data.sample(frac=1).reset_index(drop=True)# we shuffle the order of the DataFrame's rows,\n",
        "                                                          # so that all Type's are mixed.\n",
        "new_data.info()"
      ],
      "execution_count": null,
      "outputs": [
        {
          "output_type": "stream",
          "text": [
            "<class 'pandas.core.frame.DataFrame'>\n",
            "RangeIndex: 9138 entries, 0 to 9137\n",
            "Data columns (total 2 columns):\n",
            " #   Column   Non-Null Count  Dtype \n",
            "---  ------   --------------  ----- \n",
            " 0   comment  9138 non-null   object\n",
            " 1   label    9138 non-null   object\n",
            "dtypes: object(2)\n",
            "memory usage: 142.9+ KB\n"
          ],
          "name": "stdout"
        }
      ]
    },
    {
      "cell_type": "markdown",
      "metadata": {
        "id": "Ia2X8LySA913"
      },
      "source": [
        "# Train,Validation,Test split\n",
        "\n",
        "We need to split the balanced cleaned dataset into train, valid and test sets due to size of the data. \n",
        "\n",
        "In this tutorial, we have considered a rate of **0.1** for both *valid*, *test* sets. For splitting, we use `train_test_split` provided by Sklearn package with stratifying on the label for preserving the distribution balance."
      ]
    },
    {
      "cell_type": "code",
      "metadata": {
        "colab": {
          "base_uri": "https://localhost:8080/"
        },
        "id": "_E37MIZrJcru",
        "outputId": "3ec8bfd5-6ea3-4d21-c408-08ca3c4c2c10"
      },
      "source": [
        "new_data['label_id'] = new_data['label'].apply(lambda t: labels.index(t))\n",
        "\n",
        "train, test = train_test_split(new_data, test_size=0.1, random_state=1, stratify=new_data['label'])\n",
        "train, valid = train_test_split(train, test_size=0.1, random_state=1, stratify=train['label'])\n",
        "\n",
        "train = train.reset_index(drop=True)\n",
        "valid = valid.reset_index(drop=True)\n",
        "test = test.reset_index(drop=True)\n",
        "\n",
        "x_train, y_train = train['comment'].values.tolist(), train['label_id'].values.tolist()\n",
        "x_valid, y_valid = valid['comment'].values.tolist(), valid['label_id'].values.tolist()\n",
        "x_test, y_test = test['comment'].values.tolist(), test['label_id'].values.tolist()\n",
        "\n",
        "print(train.shape)\n",
        "print(valid.shape)\n",
        "print(test.shape)"
      ],
      "execution_count": null,
      "outputs": [
        {
          "output_type": "stream",
          "text": [
            "(7401, 3)\n",
            "(823, 3)\n",
            "(914, 3)\n"
          ],
          "name": "stdout"
        }
      ]
    },
    {
      "cell_type": "code",
      "metadata": {
        "colab": {
          "base_uri": "https://localhost:8080/",
          "height": 206
        },
        "id": "52P4WrJ3NJch",
        "outputId": "bdd473c7-0b99-4e1a-c67c-1084f75d87c1"
      },
      "source": [
        "new_data.head()"
      ],
      "execution_count": null,
      "outputs": [
        {
          "output_type": "execute_result",
          "data": {
            "text/html": [
              "<div>\n",
              "<style scoped>\n",
              "    .dataframe tbody tr th:only-of-type {\n",
              "        vertical-align: middle;\n",
              "    }\n",
              "\n",
              "    .dataframe tbody tr th {\n",
              "        vertical-align: top;\n",
              "    }\n",
              "\n",
              "    .dataframe thead th {\n",
              "        text-align: right;\n",
              "    }\n",
              "</style>\n",
              "<table border=\"1\" class=\"dataframe\">\n",
              "  <thead>\n",
              "    <tr style=\"text-align: right;\">\n",
              "      <th></th>\n",
              "      <th>comment</th>\n",
              "      <th>label</th>\n",
              "      <th>label_id</th>\n",
              "    </tr>\n",
              "  </thead>\n",
              "  <tbody>\n",
              "    <tr>\n",
              "      <th>0</th>\n",
              "      <td>این برنامه پیش از این فقط با اتصال wi-fi کار م...</td>\n",
              "      <td>positive</td>\n",
              "      <td>1</td>\n",
              "    </tr>\n",
              "    <tr>\n",
              "      <th>1</th>\n",
              "      <td>.اصلا در خريدش شک نکنن چون واسه اين اشخاص خيلي...</td>\n",
              "      <td>positive</td>\n",
              "      <td>1</td>\n",
              "    </tr>\n",
              "    <tr>\n",
              "      <th>2</th>\n",
              "      <td>يکي از مزيت هاش هم عکس با کيفيت 16 در که خوراک...</td>\n",
              "      <td>positive</td>\n",
              "      <td>1</td>\n",
              "    </tr>\n",
              "    <tr>\n",
              "      <th>3</th>\n",
              "      <td>من نسبت به لیتیم بسیار حساس بودم ، اما مدل لیت...</td>\n",
              "      <td>positive</td>\n",
              "      <td>1</td>\n",
              "    </tr>\n",
              "    <tr>\n",
              "      <th>4</th>\n",
              "      <td>از نظر کیفیت چاپ ، کمی بهتر از سایر پرینترهای ...</td>\n",
              "      <td>positive</td>\n",
              "      <td>1</td>\n",
              "    </tr>\n",
              "  </tbody>\n",
              "</table>\n",
              "</div>"
            ],
            "text/plain": [
              "                                             comment     label  label_id\n",
              "0  این برنامه پیش از این فقط با اتصال wi-fi کار م...  positive         1\n",
              "1  .اصلا در خريدش شک نکنن چون واسه اين اشخاص خيلي...  positive         1\n",
              "2  يکي از مزيت هاش هم عکس با کيفيت 16 در که خوراک...  positive         1\n",
              "3  من نسبت به لیتیم بسیار حساس بودم ، اما مدل لیت...  positive         1\n",
              "4  از نظر کیفیت چاپ ، کمی بهتر از سایر پرینترهای ...  positive         1"
            ]
          },
          "metadata": {
            "tags": []
          },
          "execution_count": 31
        }
      ]
    },
    {
      "cell_type": "markdown",
      "metadata": {
        "id": "Mk-T5EvIRc6t"
      },
      "source": [
        "## Using PyTorch"
      ]
    },
    {
      "cell_type": "code",
      "metadata": {
        "id": "LjfRss-DR3fu"
      },
      "source": [
        "from transformers import BertConfig, BertTokenizer\n",
        "from transformers import BertModel\n",
        "\n",
        "from transformers import AdamW\n",
        "from transformers import get_linear_schedule_with_warmup\n",
        "\n",
        "import torch\n",
        "import torch.nn as nn\n",
        "import torch.nn.functional as F"
      ],
      "execution_count": null,
      "outputs": []
    },
    {
      "cell_type": "markdown",
      "metadata": {
        "id": "SperdZDDWKxT"
      },
      "source": [
        "### Configuration"
      ]
    },
    {
      "cell_type": "code",
      "metadata": {
        "id": "WFpUoggdpU3x",
        "colab": {
          "base_uri": "https://localhost:8080/"
        },
        "outputId": "012e02a0-25c3-453d-864d-bcf1cca1fea4"
      },
      "source": [
        "device = torch.device(\"cuda:0\" if torch.cuda.is_available() else \"cpu\")\n",
        "print(f'device: {device}')\n",
        "\n",
        "train_on_gpu = torch.cuda.is_available()\n",
        "\n",
        "if not train_on_gpu:\n",
        "    print('CUDA is not available.  Training on CPU ...')\n",
        "else:\n",
        "    print('CUDA is available!  Training on GPU ...')"
      ],
      "execution_count": null,
      "outputs": [
        {
          "output_type": "stream",
          "text": [
            "device: cuda:0\n",
            "CUDA is available!  Training on GPU ...\n"
          ],
          "name": "stdout"
        }
      ]
    },
    {
      "cell_type": "code",
      "metadata": {
        "id": "mH38OJU0X7rd"
      },
      "source": [
        "# general config\n",
        "MAX_LEN = 128\n",
        "TRAIN_BATCH_SIZE = 16\n",
        "VALID_BATCH_SIZE = 16\n",
        "TEST_BATCH_SIZE = 16\n",
        "\n",
        "EPOCHS = 3\n",
        "EEVERY_EPOCH = 1000\n",
        "LEARNING_RATE = 2e-5\n",
        "CLIP = 0.0\n",
        "\n",
        "MODEL_NAME_OR_PATH = 'HooshvareLab/bert-fa-base-uncased'\n",
        "OUTPUT_PATH = '/content/bert-fa-base-uncased-sentiment-taaghceh/pytorch_model.bin'\n",
        "\n",
        "os.makedirs(os.path.dirname(OUTPUT_PATH), exist_ok=True)"
      ],
      "execution_count": null,
      "outputs": []
    },
    {
      "cell_type": "code",
      "metadata": {
        "id": "qK02AC0pYIPj",
        "colab": {
          "base_uri": "https://localhost:8080/"
        },
        "outputId": "bf7391df-07f8-4c1c-cfe3-0b88a4e6e6ce"
      },
      "source": [
        "# create a key finder based on label 2 id and id to label\n",
        "\n",
        "label2id = {label: i for i, label in enumerate(labels)}\n",
        "id2label = {v: k for k, v in label2id.items()}\n",
        "\n",
        "print(f'label2id: {label2id}')\n",
        "print(f'id2label: {id2label}')"
      ],
      "execution_count": null,
      "outputs": [
        {
          "output_type": "stream",
          "text": [
            "label2id: {'negative': 0, 'positive': 1}\n",
            "id2label: {0: 'negative', 1: 'positive'}\n"
          ],
          "name": "stdout"
        }
      ]
    },
    {
      "cell_type": "code",
      "metadata": {
        "id": "qGJRNBXFYOcx",
        "colab": {
          "base_uri": "https://localhost:8080/",
          "height": 619,
          "referenced_widgets": [
            "3cd5e9b017f54b15a5f77ade9c78069d",
            "7ddd3df530674d50a9998a3110250cb7",
            "dfa5d5967a404167b5d483968fb81236",
            "7a8c83a148884677b5e897c651905f0a",
            "efeee308216f40ba8c385d7d22778652",
            "0bd54c203b6942ce83acd652826d4e38",
            "71d23d72d6654ed7b0f5a4390f210199",
            "e963fb363b2a4875b2d29d8235c577e4",
            "79422d8821c94639b75af2d2f0560a5d",
            "cceb1d4a167f4385a9ea0c1d7a620d6e",
            "a593bd74abc942ea8115a001b754063f",
            "8faee22ff62a44339c8ba502abf4d7e5",
            "2cc351982d804da0b6b28672981556f8",
            "030fd36cf82e45498acf6d28fc770cde",
            "c6c22eccdc99400587cc0252db269982",
            "14b5cc0a527a497695875b3f20ca78d5"
          ]
        },
        "outputId": "868acbfa-7b02-4022-ff95-928eb9e9a6ef"
      },
      "source": [
        "# setup the tokenizer and configuration\n",
        "\n",
        "tokenizer = BertTokenizer.from_pretrained(MODEL_NAME_OR_PATH)\n",
        "config = BertConfig.from_pretrained(\n",
        "    MODEL_NAME_OR_PATH, **{\n",
        "        'label2id': label2id,\n",
        "        'id2label': id2label,\n",
        "    })\n",
        "\n",
        "print(config.to_json_string())"
      ],
      "execution_count": null,
      "outputs": [
        {
          "output_type": "display_data",
          "data": {
            "application/vnd.jupyter.widget-view+json": {
              "model_id": "3cd5e9b017f54b15a5f77ade9c78069d",
              "version_minor": 0,
              "version_major": 2
            },
            "text/plain": [
              "HBox(children=(FloatProgress(value=0.0, description='Downloading', max=1198122.0, style=ProgressStyle(descript…"
            ]
          },
          "metadata": {
            "tags": []
          }
        },
        {
          "output_type": "stream",
          "text": [
            "\n"
          ],
          "name": "stdout"
        },
        {
          "output_type": "display_data",
          "data": {
            "application/vnd.jupyter.widget-view+json": {
              "model_id": "79422d8821c94639b75af2d2f0560a5d",
              "version_minor": 0,
              "version_major": 2
            },
            "text/plain": [
              "HBox(children=(FloatProgress(value=0.0, description='Downloading', max=440.0, style=ProgressStyle(description_…"
            ]
          },
          "metadata": {
            "tags": []
          }
        },
        {
          "output_type": "stream",
          "text": [
            "\n",
            "{\n",
            "  \"architectures\": [\n",
            "    \"BertForMaskedLM\"\n",
            "  ],\n",
            "  \"attention_probs_dropout_prob\": 0.1,\n",
            "  \"gradient_checkpointing\": false,\n",
            "  \"hidden_act\": \"gelu\",\n",
            "  \"hidden_dropout_prob\": 0.1,\n",
            "  \"hidden_size\": 768,\n",
            "  \"id2label\": {\n",
            "    \"0\": \"negative\",\n",
            "    \"1\": \"positive\"\n",
            "  },\n",
            "  \"initializer_range\": 0.02,\n",
            "  \"intermediate_size\": 3072,\n",
            "  \"label2id\": {\n",
            "    \"negative\": 0,\n",
            "    \"positive\": 1\n",
            "  },\n",
            "  \"layer_norm_eps\": 1e-12,\n",
            "  \"max_position_embeddings\": 512,\n",
            "  \"model_type\": \"bert\",\n",
            "  \"num_attention_heads\": 12,\n",
            "  \"num_hidden_layers\": 12,\n",
            "  \"pad_token_id\": 0,\n",
            "  \"type_vocab_size\": 2,\n",
            "  \"vocab_size\": 100000\n",
            "}\n",
            "\n"
          ],
          "name": "stdout"
        }
      ]
    },
    {
      "cell_type": "markdown",
      "metadata": {
        "id": "cr9L9N91gSpm"
      },
      "source": [
        "### Input Embeddings"
      ]
    },
    {
      "cell_type": "code",
      "metadata": {
        "id": "3BIajCqGgYEG",
        "colab": {
          "base_uri": "https://localhost:8080/"
        },
        "outputId": "e6ad957a-8e53-4be3-975f-21745b023e47"
      },
      "source": [
        "idx = np.random.randint(0, len(train))\n",
        "sample_comment = train.iloc[idx]['comment']\n",
        "sample_label = train.iloc[idx]['label']\n",
        "\n",
        "print(f'Sample: \\n{sample_comment}\\n{sample_label}')"
      ],
      "execution_count": null,
      "outputs": [
        {
          "output_type": "stream",
          "text": [
            "Sample: \n",
            "در مورد گارانتی ، این شرکت ادعا می کند که وارد کننده گوشی است ، اما ضمانت موجود در گوشی فقط برای تعمیر نیست.\n",
            "positive\n"
          ],
          "name": "stdout"
        }
      ]
    },
    {
      "cell_type": "code",
      "metadata": {
        "id": "ygnLJu8uhjPT",
        "colab": {
          "base_uri": "https://localhost:8080/"
        },
        "outputId": "2fd431ae-a8ba-4b85-cf89-3e4f207740d9"
      },
      "source": [
        "tokens = tokenizer.tokenize(sample_comment)\n",
        "token_ids = tokenizer.convert_tokens_to_ids(tokens)\n",
        "\n",
        "print(f'  Comment: {sample_comment}')\n",
        "print(f'   Tokens: {tokenizer.convert_tokens_to_string(tokens)}')\n",
        "print(f'Token IDs: {token_ids}')"
      ],
      "execution_count": null,
      "outputs": [
        {
          "output_type": "stream",
          "text": [
            "  Comment: در مورد گارانتی ، این شرکت ادعا می کند که وارد کننده گوشی است ، اما ضمانت موجود در گوشی فقط برای تعمیر نیست.\n",
            "   Tokens: در مورد گارانتی ، این شرکت ادعا می کند که وارد کننده گوشی است ، اما ضمانت موجود در گوشی فقط برای تعمیر نیست .\n",
            "Token IDs: [2786, 3050, 19245, 1348, 2802, 3052, 6266, 2793, 3054, 2800, 3332, 4616, 4013, 2806, 1348, 2949, 10599, 3731, 2786, 4013, 3765, 2831, 8270, 3152, 1012]\n"
          ],
          "name": "stdout"
        }
      ]
    },
    {
      "cell_type": "code",
      "metadata": {
        "id": "jgsgZ2b5h2I4",
        "colab": {
          "base_uri": "https://localhost:8080/"
        },
        "outputId": "195fee1d-c9ce-4c38-d058-f270ec2d4c07"
      },
      "source": [
        "encoding = tokenizer.encode_plus(\n",
        "    sample_comment,\n",
        "    max_length=32,\n",
        "    truncation=True,\n",
        "    add_special_tokens=True, # Add '[CLS]' and '[SEP]'\n",
        "    return_token_type_ids=True,\n",
        "    return_attention_mask=True,\n",
        "    padding='max_length',\n",
        "    return_tensors='pt',  # Return PyTorch tensors\n",
        ")\n",
        "\n",
        "print(f'Keys: {encoding.keys()}\\n')\n",
        "for k in encoding.keys():\n",
        "    print(f'{k}:\\n{encoding[k]}')"
      ],
      "execution_count": null,
      "outputs": [
        {
          "output_type": "stream",
          "text": [
            "Keys: dict_keys(['input_ids', 'token_type_ids', 'attention_mask'])\n",
            "\n",
            "input_ids:\n",
            "tensor([[    2,  2786,  3050, 19245,  1348,  2802,  3052,  6266,  2793,  3054,\n",
            "          2800,  3332,  4616,  4013,  2806,  1348,  2949, 10599,  3731,  2786,\n",
            "          4013,  3765,  2831,  8270,  3152,  1012,     4,     0,     0,     0,\n",
            "             0,     0]])\n",
            "token_type_ids:\n",
            "tensor([[0, 0, 0, 0, 0, 0, 0, 0, 0, 0, 0, 0, 0, 0, 0, 0, 0, 0, 0, 0, 0, 0, 0, 0,\n",
            "         0, 0, 0, 0, 0, 0, 0, 0]])\n",
            "attention_mask:\n",
            "tensor([[1, 1, 1, 1, 1, 1, 1, 1, 1, 1, 1, 1, 1, 1, 1, 1, 1, 1, 1, 1, 1, 1, 1, 1,\n",
            "         1, 1, 1, 0, 0, 0, 0, 0]])\n"
          ],
          "name": "stdout"
        }
      ]
    },
    {
      "cell_type": "markdown",
      "metadata": {
        "id": "Pr8cRm9xiyKh"
      },
      "source": [
        "### Dataset"
      ]
    },
    {
      "cell_type": "code",
      "metadata": {
        "id": "TaJBSSuMizgr"
      },
      "source": [
        "class TranslationDataset(torch.utils.data.Dataset):\n",
        "    \"\"\" Create a PyTorch dataset for Translation DeepSP Dataset. \"\"\"\n",
        "\n",
        "    def __init__(self, tokenizer, comments, targets=None, label_list=None, max_len=128):\n",
        "        self.comments = comments\n",
        "        self.targets = targets\n",
        "        self.has_target = isinstance(targets, list) or isinstance(targets, np.ndarray)\n",
        "\n",
        "        self.tokenizer = tokenizer\n",
        "        self.max_len = max_len\n",
        "\n",
        "        \n",
        "        self.label_map = {label: i for i, label in enumerate(label_list)} if isinstance(label_list, list) else {}\n",
        "    \n",
        "    def __len__(self):\n",
        "        return len(self.comments)\n",
        "\n",
        "    def __getitem__(self, item):\n",
        "        comment = str(self.comments[item])\n",
        "\n",
        "        if self.has_target:\n",
        "            target = self.label_map.get(str(self.targets[item]), str(self.targets[item]))\n",
        "\n",
        "        encoding = self.tokenizer.encode_plus(\n",
        "            comment,\n",
        "            add_special_tokens=True,\n",
        "            truncation=True,\n",
        "            max_length=self.max_len,\n",
        "            return_token_type_ids=True,\n",
        "            padding='max_length',\n",
        "            return_attention_mask=True,\n",
        "            return_tensors='pt')\n",
        "        \n",
        "        inputs = {\n",
        "            'comment': comment,\n",
        "            'input_ids': encoding['input_ids'].flatten(),\n",
        "            'attention_mask': encoding['attention_mask'].flatten(),\n",
        "            'token_type_ids': encoding['token_type_ids'].flatten(),\n",
        "        }\n",
        "\n",
        "        if self.has_target:\n",
        "            inputs['targets'] = torch.tensor(target, dtype=torch.long)\n",
        "        \n",
        "        return inputs\n",
        "\n",
        "\n",
        "def create_data_loader(x, y, tokenizer, max_len, batch_size, label_list):\n",
        "    dataset = TranslationDataset(\n",
        "        comments=x,\n",
        "        targets=y,\n",
        "        tokenizer=tokenizer,\n",
        "        max_len=max_len, \n",
        "        label_list=label_list)\n",
        "    \n",
        "    return torch.utils.data.DataLoader(dataset, batch_size=batch_size)"
      ],
      "execution_count": null,
      "outputs": []
    },
    {
      "cell_type": "code",
      "metadata": {
        "id": "JEcefj6fkZFl"
      },
      "source": [
        "label_list = ['negative', 'positive']\n",
        "train_data_loader = create_data_loader(train['comment'].to_numpy(), train['label'].to_numpy(), tokenizer, MAX_LEN, TRAIN_BATCH_SIZE, label_list)\n",
        "valid_data_loader = create_data_loader(valid['comment'].to_numpy(), valid['label'].to_numpy(), tokenizer, MAX_LEN, VALID_BATCH_SIZE, label_list)\n",
        "test_data_loader = create_data_loader(test['comment'].to_numpy(), None, tokenizer, MAX_LEN, TEST_BATCH_SIZE, label_list)"
      ],
      "execution_count": null,
      "outputs": []
    },
    {
      "cell_type": "code",
      "metadata": {
        "id": "_qSxzPU2krDk",
        "colab": {
          "base_uri": "https://localhost:8080/"
        },
        "outputId": "458a125b-2bf0-4f5b-fffb-7f0269d9d9d4"
      },
      "source": [
        "sample_data = next(iter(train_data_loader))\n",
        "\n",
        "print(sample_data.keys())\n",
        "\n",
        "print(sample_data['comment'])\n",
        "print(sample_data['input_ids'].shape)\n",
        "print(sample_data['input_ids'][0, :])\n",
        "print(sample_data['attention_mask'].shape)\n",
        "print(sample_data['attention_mask'][0, :])\n",
        "print(sample_data['token_type_ids'].shape)\n",
        "print(sample_data['token_type_ids'][0, :])\n",
        "print(sample_data['targets'].shape)\n",
        "print(sample_data['targets'][0])"
      ],
      "execution_count": null,
      "outputs": [
        {
          "output_type": "stream",
          "text": [
            "dict_keys(['comment', 'input_ids', 'attention_mask', 'token_type_ids', 'targets'])\n",
            "['ماه اين تبلت رو دارم واقعا ازش راضيم هيچي از ipad کم نداره به جز کيف وسايل جانبي که بعد از ماه تونستم کيفش رو پيدا کنم در ضمن دوستاني که مشخصات رو خوندن ولي تا حالا صفحه نمايش اين تبلت رو نديدند به اين تبلت ايراد نگيرند هر چي باشه صفحه ipad رو هم سامسونگ مي زنه در کل صفحه نمايش بي نظيري داره با توجه به تراکم پيکسلي کم', 'ال جی با قرار دادن تگ nfc در داخل جعبه این گوشی، امکان شخصی سازی آن\\u200cها را به کاربران داده است.', 'اما برای اکثر برنامه های کاربردی دیگر و همچنین بازی ها ، سوئیچ پویا انجام نمی شود اما شما مجبورید مجدداً آن را اجرا کنید پس از قرار دادن گوشی روی رایانه لوحی.', 'هیچ تلویزیونی مانند پلاسما نیست.', 'در کل می توانیم به طور خلاصه بگوییم که از صفحه کلید لمسی e1-531 کاملاً راضی بودیم.', 'به دلیل کمبود دکمه ضبط ، برای شروع فیلمبرداری از طریق پیچ تنظیم در قسمت بالای دوربین ، باید هر بار به حالت فیلم بروید.', 'جاي تعجب داشت!', 'می توان گفت که این فیلم خوب است ، اما این خیلی نیست.', 'بر طبق اعلام این سایت، فرکانس پردازنده آیفون حداکثر 1.2ghz می\\u200cباشد که به همراه گیگابایت حافظه رم یک پردازشگر گرافیکی بسیار قدرتمند از نوع powervr sgx 543mp سه هسته ای تولید گشته است.', 'اگرچه از وضوح تصویر کمتری نسبت به صفحه نمایش شبکیه چشم آیفون برخوردار است ، اما با وجود بزرگتر بودن ، کیفیت تقریباً برابر را ارائه می دهد.', 'هميشه اتصال به اينترنت با تلويزيون براي من مهم بود به همين خاطر اين تلويزيون رو انتخاب کردم.', 'ارزشش را ندارد.', 'جالب اینجاست که رنگ براق جلوی گوشی باعث شده تا به نظر برسد فلزی به نظر برسد ، در حالی که از یک پوشش پلاستیکی نیز با یک لایه فلزی تشکیل شده است.', 'به علاوه ، ipod touch نسل پنجم اولین عضو خانواده از پخش کننده چندرسانه ای است که از دستیار صوتی سیری استفاده می کند.', 'میزان صدا نیز خوب است ، اما علاقه مندان به پخش موسیقی بهتر است از بلندگوهای خارجی یا هدفون استفاده کنند.', 'سخت افزاراز نظر سخت افزاری این تبلت بی نقص به نظر می\\u200cرسد.']\n",
            "torch.Size([16, 128])\n",
            "tensor([    2,  3125,  8568,  2011,  9789,  2840,  6052,  5668, 22531, 33914,\n",
            "         5549, 82377,  2021,  2038,  2791, 39266,  2961, 20516,  2789,  3430,\n",
            "        83392,  2028, 22581,  7791,  2038,  2800,  3082,  2791,  3125, 91477,\n",
            "        83392,  8277,  2840,  1407, 27490,  2006,  5400,  2786,  4744,  5440,\n",
            "         2038,  2800,  7707,  2840, 62338,  4358,  2038,  2848,  4888,  4863,\n",
            "        22696,  2014,  8568,  2011,  9789,  2840,  3487, 27490,  2790,  2789,\n",
            "         8568,  2011,  9789,  8568, 21105,  3682, 19682,  2790,  2937,  1411,\n",
            "         2038, 12139,  4863, 39266,  2840,  2820,  6235, 59767, 56515,  2786,\n",
            "         3142,  4863, 22696,  2014, 62846,  2942, 19682,  2038, 11231,  2799,\n",
            "         3211,  2789, 10539,  1407, 32699,  3925,  2038,  2961,     4,     0,\n",
            "            0,     0,     0,     0,     0,     0,     0,     0,     0,     0,\n",
            "            0,     0,     0,     0,     0,     0,     0,     0,     0,     0,\n",
            "            0,     0,     0,     0,     0,     0,     0,     0])\n",
            "torch.Size([16, 128])\n",
            "tensor([1, 1, 1, 1, 1, 1, 1, 1, 1, 1, 1, 1, 1, 1, 1, 1, 1, 1, 1, 1, 1, 1, 1, 1,\n",
            "        1, 1, 1, 1, 1, 1, 1, 1, 1, 1, 1, 1, 1, 1, 1, 1, 1, 1, 1, 1, 1, 1, 1, 1,\n",
            "        1, 1, 1, 1, 1, 1, 1, 1, 1, 1, 1, 1, 1, 1, 1, 1, 1, 1, 1, 1, 1, 1, 1, 1,\n",
            "        1, 1, 1, 1, 1, 1, 1, 1, 1, 1, 1, 1, 1, 1, 1, 1, 1, 1, 1, 1, 1, 1, 1, 1,\n",
            "        1, 1, 1, 0, 0, 0, 0, 0, 0, 0, 0, 0, 0, 0, 0, 0, 0, 0, 0, 0, 0, 0, 0, 0,\n",
            "        0, 0, 0, 0, 0, 0, 0, 0])\n",
            "torch.Size([16, 128])\n",
            "tensor([0, 0, 0, 0, 0, 0, 0, 0, 0, 0, 0, 0, 0, 0, 0, 0, 0, 0, 0, 0, 0, 0, 0, 0,\n",
            "        0, 0, 0, 0, 0, 0, 0, 0, 0, 0, 0, 0, 0, 0, 0, 0, 0, 0, 0, 0, 0, 0, 0, 0,\n",
            "        0, 0, 0, 0, 0, 0, 0, 0, 0, 0, 0, 0, 0, 0, 0, 0, 0, 0, 0, 0, 0, 0, 0, 0,\n",
            "        0, 0, 0, 0, 0, 0, 0, 0, 0, 0, 0, 0, 0, 0, 0, 0, 0, 0, 0, 0, 0, 0, 0, 0,\n",
            "        0, 0, 0, 0, 0, 0, 0, 0, 0, 0, 0, 0, 0, 0, 0, 0, 0, 0, 0, 0, 0, 0, 0, 0,\n",
            "        0, 0, 0, 0, 0, 0, 0, 0])\n",
            "torch.Size([16])\n",
            "tensor(1)\n"
          ],
          "name": "stdout"
        }
      ]
    },
    {
      "cell_type": "code",
      "metadata": {
        "id": "tDUNgRODuOTK",
        "colab": {
          "base_uri": "https://localhost:8080/"
        },
        "outputId": "2e936c5d-ee10-4436-c20c-3ba52b6549a2"
      },
      "source": [
        "sample_test = next(iter(test_data_loader))\n",
        "print(sample_test.keys())"
      ],
      "execution_count": null,
      "outputs": [
        {
          "output_type": "stream",
          "text": [
            "dict_keys(['comment', 'input_ids', 'attention_mask', 'token_type_ids'])\n"
          ],
          "name": "stdout"
        }
      ]
    },
    {
      "cell_type": "markdown",
      "metadata": {
        "id": "doP5OE1OWP38"
      },
      "source": [
        "### Model"
      ]
    },
    {
      "cell_type": "code",
      "metadata": {
        "id": "Mv75ARn_R_Dt"
      },
      "source": [
        "class SentimentModel(nn.Module):\n",
        "\n",
        "    def __init__(self, config):\n",
        "        super(SentimentModel, self).__init__()\n",
        "\n",
        "        self.bert = BertModel.from_pretrained(MODEL_NAME_OR_PATH)\n",
        "        self.dropout = nn.Dropout(config.hidden_dropout_prob)\n",
        "        self.classifier = nn.Linear(config.hidden_size, config.num_labels)\n",
        "    \n",
        "    def forward(self, input_ids, attention_mask, token_type_ids):\n",
        "        _, pooled_output = self.bert(\n",
        "            input_ids=input_ids, \n",
        "            attention_mask=attention_mask, \n",
        "            token_type_ids=token_type_ids)\n",
        "        \n",
        "        pooled_output = self.dropout(pooled_output)\n",
        "        logits = self.classifier(pooled_output)\n",
        "        return logits "
      ],
      "execution_count": null,
      "outputs": []
    },
    {
      "cell_type": "code",
      "metadata": {
        "id": "VrObbZAdNTNl",
        "colab": {
          "base_uri": "https://localhost:8080/"
        },
        "outputId": "159732d1-77c6-4d69-f600-c1b2dcdf9ca4"
      },
      "source": [
        "import torch, gc\n",
        "\n",
        "gc.collect()\n",
        "torch.cuda.empty_cache()\n",
        "pt_model = None\n",
        "\n",
        "!nvidia-smi"
      ],
      "execution_count": null,
      "outputs": [
        {
          "output_type": "stream",
          "text": [
            "Tue Jul  6 12:57:29 2021       \n",
            "+-----------------------------------------------------------------------------+\n",
            "| NVIDIA-SMI 465.27       Driver Version: 460.32.03    CUDA Version: 11.2     |\n",
            "|-------------------------------+----------------------+----------------------+\n",
            "| GPU  Name        Persistence-M| Bus-Id        Disp.A | Volatile Uncorr. ECC |\n",
            "| Fan  Temp  Perf  Pwr:Usage/Cap|         Memory-Usage | GPU-Util  Compute M. |\n",
            "|                               |                      |               MIG M. |\n",
            "|===============================+======================+======================|\n",
            "|   0  Tesla T4            Off  | 00000000:00:04.0 Off |                    0 |\n",
            "| N/A   45C    P8    10W /  70W |      3MiB / 15109MiB |      0%      Default |\n",
            "|                               |                      |                  N/A |\n",
            "+-------------------------------+----------------------+----------------------+\n",
            "                                                                               \n",
            "+-----------------------------------------------------------------------------+\n",
            "| Processes:                                                                  |\n",
            "|  GPU   GI   CI        PID   Type   Process name                  GPU Memory |\n",
            "|        ID   ID                                                   Usage      |\n",
            "|=============================================================================|\n",
            "|  No running processes found                                                 |\n",
            "+-----------------------------------------------------------------------------+\n"
          ],
          "name": "stdout"
        }
      ]
    },
    {
      "cell_type": "code",
      "metadata": {
        "id": "7vzQGZGUmw3-",
        "colab": {
          "base_uri": "https://localhost:8080/",
          "height": 156,
          "referenced_widgets": [
            "5b5e9c203f4243dca162c5e068575e9a",
            "0095b36f1c6c4a8fa7af52cbbd4b3b29",
            "0f65352c71ae4ac89741319a5bbe5dde",
            "2eef8682b97f496c94dbd33dde126a58",
            "677dd3f1af144042b3f8df497d4c3750",
            "6f128c3ec5164ebaabab9daf00e57baa",
            "f0a0713661604a879bc2f8fe486632e2",
            "554a3b80ea4a47ef9a17a066977a649c"
          ]
        },
        "outputId": "4d1086ff-aeb9-4ae5-b46f-70e92b5ecf15"
      },
      "source": [
        "pt_model = SentimentModel(config=config)\n",
        "pt_model = pt_model.to(device)\n",
        "\n",
        "print('pt_model', type(pt_model))"
      ],
      "execution_count": null,
      "outputs": [
        {
          "output_type": "display_data",
          "data": {
            "application/vnd.jupyter.widget-view+json": {
              "model_id": "5b5e9c203f4243dca162c5e068575e9a",
              "version_minor": 0,
              "version_major": 2
            },
            "text/plain": [
              "HBox(children=(FloatProgress(value=0.0, description='Downloading', max=654226731.0, style=ProgressStyle(descri…"
            ]
          },
          "metadata": {
            "tags": []
          }
        },
        {
          "output_type": "stream",
          "text": [
            "\n"
          ],
          "name": "stdout"
        },
        {
          "output_type": "stream",
          "text": [
            "Some weights of the model checkpoint at HooshvareLab/bert-fa-base-uncased were not used when initializing BertModel: ['bert.embeddings.position_ids']\n",
            "- This IS expected if you are initializing BertModel from the checkpoint of a model trained on another task or with another architecture (e.g. initializing a BertForSequenceClassification model from a BertForPretraining model).\n",
            "- This IS NOT expected if you are initializing BertModel from the checkpoint of a model that you expect to be exactly identical (initializing a BertForSequenceClassification model from a BertForSequenceClassification model).\n"
          ],
          "name": "stderr"
        },
        {
          "output_type": "stream",
          "text": [
            "pt_model <class '__main__.SentimentModel'>\n"
          ],
          "name": "stdout"
        }
      ]
    },
    {
      "cell_type": "code",
      "metadata": {
        "id": "68gIBEpiqBZc",
        "colab": {
          "base_uri": "https://localhost:8080/"
        },
        "outputId": "5470df02-1dae-4fc7-8d6e-e85d2f3c542e"
      },
      "source": [
        "# sample data output\n",
        "\n",
        "sample_data_comment = sample_data['comment']\n",
        "sample_data_input_ids = sample_data['input_ids']\n",
        "sample_data_attention_mask = sample_data['attention_mask']\n",
        "sample_data_token_type_ids = sample_data['token_type_ids']\n",
        "sample_data_targets = sample_data['targets']\n",
        "\n",
        "# available for using in GPU\n",
        "sample_data_input_ids = sample_data_input_ids.to(device)\n",
        "sample_data_attention_mask = sample_data_attention_mask.to(device)\n",
        "sample_data_token_type_ids = sample_data_token_type_ids.to(device)\n",
        "sample_data_targets = sample_data_targets.to(device)\n",
        "\n",
        "\n",
        "# outputs = F.softmax(\n",
        "#     pt_model(sample_data_input_ids, sample_data_attention_mask, sample_data_token_type_ids), \n",
        "#     dim=1)\n",
        "\n",
        "outputs = pt_model(sample_data_input_ids, sample_data_attention_mask, sample_data_token_type_ids)\n",
        "_, preds = torch.max(outputs, dim=1)\n",
        "\n",
        "print(outputs[:5, :])\n",
        "print(preds[:5])"
      ],
      "execution_count": null,
      "outputs": [
        {
          "output_type": "stream",
          "text": [
            "tensor([[-0.3057,  0.2387],\n",
            "        [-0.2733,  0.4198],\n",
            "        [-0.0528, -0.0325],\n",
            "        [-0.2158,  0.2842],\n",
            "        [-0.1604,  0.0898]], device='cuda:0', grad_fn=<SliceBackward>)\n",
            "tensor([1, 1, 1, 1, 1], device='cuda:0')\n"
          ],
          "name": "stdout"
        }
      ]
    },
    {
      "cell_type": "markdown",
      "metadata": {
        "id": "tFZQDfLlp0Sf"
      },
      "source": [
        "### Training"
      ]
    },
    {
      "cell_type": "code",
      "metadata": {
        "id": "e044fZSfBoKe"
      },
      "source": [
        "def simple_accuracy(y_true, y_pred):\n",
        "    return (y_true == y_pred).mean()\n",
        "\n",
        "def acc_and_f1(y_true, y_pred, average='weighted'):\n",
        "    acc = simple_accuracy(y_true, y_pred)\n",
        "    f1 = f1_score(y_true=y_true, y_pred=y_pred, average=average)\n",
        "    return {\n",
        "        \"acc\": acc,\n",
        "        \"f1\": f1,\n",
        "    }\n",
        "\n",
        "def y_loss(y_true, y_pred, losses):\n",
        "    y_true = torch.stack(y_true).cpu().detach().numpy()\n",
        "    y_pred = torch.stack(y_pred).cpu().detach().numpy()\n",
        "    y = [y_true, y_pred]\n",
        "    loss = np.mean(losses)\n",
        "\n",
        "    return y, loss\n",
        "\n",
        "\n",
        "def eval_op(model, data_loader, loss_fn):\n",
        "    model.eval()\n",
        "\n",
        "    losses = []\n",
        "    y_pred = []\n",
        "    y_true = []\n",
        "\n",
        "    with torch.no_grad():\n",
        "        for dl in tqdm(data_loader, total=len(data_loader), desc=\"Evaluation... \"):\n",
        "            \n",
        "            input_ids = dl['input_ids']\n",
        "            attention_mask = dl['attention_mask']\n",
        "            token_type_ids = dl['token_type_ids']\n",
        "            targets = dl['targets']\n",
        "\n",
        "            # move tensors to GPU if CUDA is available\n",
        "            input_ids = input_ids.to(device)\n",
        "            attention_mask = attention_mask.to(device)\n",
        "            token_type_ids = token_type_ids.to(device)\n",
        "            targets = targets.to(device)\n",
        "\n",
        "            # compute predicted outputs by passing inputs to the model\n",
        "            outputs = model(\n",
        "                input_ids=input_ids,\n",
        "                attention_mask=attention_mask,\n",
        "                token_type_ids=token_type_ids)\n",
        "            \n",
        "            # convert output probabilities to predicted class\n",
        "            _, preds = torch.max(outputs, dim=1)\n",
        "\n",
        "            # calculate the batch loss\n",
        "            loss = loss_fn(outputs, targets)\n",
        "\n",
        "            # accumulate all the losses\n",
        "            losses.append(loss.item())\n",
        "\n",
        "            y_pred.extend(preds)\n",
        "            y_true.extend(targets)\n",
        "    \n",
        "    eval_y, eval_loss = y_loss(y_true, y_pred, losses)\n",
        "    return eval_y, eval_loss\n",
        "\n",
        "\n",
        "def train_op(model, \n",
        "             data_loader, \n",
        "             loss_fn, \n",
        "             optimizer, \n",
        "             scheduler, \n",
        "             step=0, \n",
        "             print_every_step=100, \n",
        "             eval=False,\n",
        "             eval_cb=None,\n",
        "             eval_loss_min=np.Inf,\n",
        "             eval_data_loader=None, \n",
        "             clip=0.0):\n",
        "    \n",
        "    model.train()\n",
        "\n",
        "    losses = []\n",
        "    y_pred = []\n",
        "    y_true = []\n",
        "\n",
        "    for dl in tqdm(data_loader, total=len(data_loader), desc=\"Training... \"):\n",
        "        step += 1\n",
        "\n",
        "        input_ids = dl['input_ids']\n",
        "        attention_mask = dl['attention_mask']\n",
        "        token_type_ids = dl['token_type_ids']\n",
        "        targets = dl['targets']\n",
        "\n",
        "        # move tensors to GPU if CUDA is available\n",
        "        input_ids = input_ids.to(device)\n",
        "        attention_mask = attention_mask.to(device)\n",
        "        token_type_ids = token_type_ids.to(device)\n",
        "        targets = targets.to(device)\n",
        "\n",
        "        # clear the gradients of all optimized variables\n",
        "        optimizer.zero_grad()\n",
        "\n",
        "        # compute predicted outputs by passing inputs to the model\n",
        "        outputs = model(\n",
        "            input_ids=input_ids,\n",
        "            attention_mask=attention_mask,\n",
        "            token_type_ids=token_type_ids)\n",
        "        \n",
        "        # convert output probabilities to predicted class\n",
        "        _, preds = torch.max(outputs, dim=1)\n",
        "\n",
        "        # calculate the batch loss\n",
        "        loss = loss_fn(outputs, targets)\n",
        "\n",
        "        # accumulate all the losses\n",
        "        losses.append(loss.item())\n",
        "\n",
        "        # compute gradient of the loss with respect to model parameters\n",
        "        loss.backward()\n",
        "\n",
        "        # `clip_grad_norm` helps prevent the exploding gradient problem in RNNs / LSTMs.\n",
        "        if clip > 0.0:\n",
        "            nn.utils.clip_grad_norm_(model.parameters(), max_norm=clip)\n",
        "\n",
        "        # perform optimization step\n",
        "        optimizer.step()\n",
        "\n",
        "        # perform scheduler step\n",
        "        scheduler.step()\n",
        "\n",
        "        y_pred.extend(preds)\n",
        "        y_true.extend(targets)\n",
        "\n",
        "        if eval:\n",
        "            train_y, train_loss = y_loss(y_true, y_pred, losses)\n",
        "            train_score = acc_and_f1(train_y[0], train_y[1], average='weighted')\n",
        "\n",
        "            if step % print_every_step == 0:\n",
        "                eval_y, eval_loss = eval_op(model, eval_data_loader, loss_fn)\n",
        "                eval_score = acc_and_f1(eval_y[0], eval_y[1], average='weighted')\n",
        "\n",
        "                if hasattr(eval_cb, '__call__'):\n",
        "                    eval_loss_min = eval_cb(model, step, train_score, train_loss, eval_score, eval_loss, eval_loss_min)\n",
        "\n",
        "    train_y, train_loss = y_loss(y_true, y_pred, losses)\n",
        "\n",
        "    return train_y, train_loss, step, eval_loss_min"
      ],
      "execution_count": null,
      "outputs": []
    },
    {
      "cell_type": "code",
      "metadata": {
        "id": "wTWrdialDAtN",
        "colab": {
          "base_uri": "https://localhost:8080/",
          "height": 447,
          "referenced_widgets": [
            "8468acd241d94434a112e48b06327c93",
            "6dca071174c94d719f72f9b91ddb9d13",
            "530676d2e828456bba32dbe3cb0e30fa",
            "0ee263deb4114db4aafdb5b741d9e881",
            "f25409c9ddc942bc8f27f1ea52ea0abb",
            "b50bfdffb81c45d9906fb33c50729358",
            "c7eb76b1492342d6b604b7802368cffb",
            "18319817baf841a391a6518f1074d9ea",
            "bcf27a47479241d8980252b007ea3801",
            "f00dfe1d33fe493e88f2f1dd269b0d2f",
            "df533198fc494a698d8bed2c40c19dcc",
            "605a0f7d2abe44e4af082fb24cc100fc",
            "6e0d9e64a70b492386ea5181f5cca6e2",
            "4627e835aa384660b82e4a1c79467b6f",
            "b642fa43c2af41689a032b89e99e3a6c",
            "5021060bd54e4472a9722752ab87aa1a",
            "51e8ad3852f247409e7d5410429c0595",
            "83939a2229fd47fa8795debf2655d9d2",
            "9cd7f16ab06e46a9b052cb69f347c15d",
            "cb8a43f742ec43a2af9567b7238ce0b5",
            "b5b45ca802304a0a929c309452031326",
            "d43218a09bb64df79d4072ef8f0607f0",
            "ae8383a4d8434cc288cc9ae8c020a9d9",
            "682d284fbf834736afdb07fdc1418b86",
            "382990ea8dfc4e7785ef139b0a6c1da9",
            "3e59aa5df7a84e91944009dfbffa450e",
            "ccd6edc1ab1044be9d419ec022b8f5c0",
            "6d996e7ba67b47aeaad7f5a48bc4601a",
            "6b81177841814b4da9a1a2c616fb7bc2",
            "672492b226c7456c94c924f62402bd83",
            "ce8ecbf1bc244020a70dfec597d864f5",
            "233829429f9746ba8c12682b565203a0",
            "84dc2a6dadbd41889923d0fada9654ad",
            "699bce17da944418872f9c9d5bab7483",
            "9b4595eee0ef4425ae654c0b621ed88a",
            "795ed1dbbf5143a3bdb1c659479c6ed8",
            "2216e5b556bb43ac8c5e1ab33dc7026a",
            "d8105307aa614715a4adf6b4270d7f42",
            "7d4df1de95cb449ba638d3a1504725c4",
            "15924f7452044cb5bde66efa496be6a0",
            "f6dd5ccecd2847b89a184c69da7a45d6",
            "778ba001b4674270b4ff9a8563b0149f",
            "d4ff875309ab4738b3f2e003e72fbb2a",
            "e2693dcb22f94be4b8d075ea313a80b3",
            "fbc286e8941a4d3a9506cb638d7052fb",
            "6345474af7004b8eae9c0c04c3c9e560",
            "380fd8e210bb4dfdb34fa57394c02a56",
            "f58472607a22485689dc7ec25261cec7",
            "1345ddfe82564f70930d870204305f58",
            "433aa9996aef48b0ad5240cf1a83ea6c",
            "aeb317064a9c446397c46abaf0e652c5",
            "aa6048edba024f1e9e2b35ce65326fad",
            "fe6651b6cf1a4498b505d42eac841c07",
            "7699f71a6e3243f7bccc809a1d1bf7ec",
            "83ac9836b35e40269688d9354c626c34",
            "622e33a4c033483d84bb3f517d350b10",
            "f2971ab1c2644a81a934a8ceb8084374",
            "b001e66f84e04e10b8c7e496f778b81c",
            "49c1e6e284be452398e0a6d391563f6f",
            "0c48ff16a9424008944f5c4caa7d7eeb",
            "13f882431fed467ea9a6f058f49a032b",
            "b5b3e8ee23c14a1785ed93f1e9e540ea",
            "20b39578b8364a18904f8855accc731f",
            "b8054b378bc84de1bd41e4d0c8d4b740"
          ]
        },
        "outputId": "8edb769a-6f91-4aed-a931-cfa0b5774ac8"
      },
      "source": [
        "optimizer = AdamW(pt_model.parameters(), lr=LEARNING_RATE, correct_bias=False)\n",
        "total_steps = len(train_data_loader) * EPOCHS\n",
        "scheduler = get_linear_schedule_with_warmup(\n",
        "    optimizer,\n",
        "    num_warmup_steps=0,\n",
        "    num_training_steps=total_steps\n",
        ")\n",
        "\n",
        "loss_fn = nn.CrossEntropyLoss()\n",
        "\n",
        "step = 0\n",
        "eval_loss_min = np.Inf\n",
        "history = collections.defaultdict(list)\n",
        "\n",
        "\n",
        "def eval_callback(epoch, epochs, output_path):\n",
        "    def eval_cb(model, step, train_score, train_loss, eval_score, eval_loss, eval_loss_min):\n",
        "        statement = ''\n",
        "        statement += 'Epoch: {}/{}...'.format(epoch, epochs)\n",
        "        statement += 'Step: {}...'.format(step)\n",
        "        \n",
        "        statement += 'Train Loss: {:.6f}...'.format(train_loss)\n",
        "        statement += 'Train Acc: {:.3f}...'.format(train_score['acc'])\n",
        "\n",
        "        statement += 'Valid Loss: {:.6f}...'.format(eval_loss)\n",
        "        statement += 'Valid Acc: {:.3f}...'.format(eval_score['acc'])\n",
        "\n",
        "        print(statement)\n",
        "\n",
        "        if eval_loss <= eval_loss_min:\n",
        "            print('Validation loss decreased ({:.6f} --> {:.6f}).  Saving model ...'.format(\n",
        "                eval_loss_min,\n",
        "                eval_loss))\n",
        "            \n",
        "            torch.save(model.state_dict(), output_path)\n",
        "            eval_loss_min = eval_loss\n",
        "        \n",
        "        return eval_loss_min\n",
        "\n",
        "\n",
        "    return eval_cb\n",
        "\n",
        "\n",
        "for epoch in tqdm(range(1, EPOCHS + 1), desc=\"Epochs... \"):\n",
        "    train_y, train_loss, step, eval_loss_min = train_op(\n",
        "        model=pt_model, \n",
        "        data_loader=train_data_loader, \n",
        "        loss_fn=loss_fn, \n",
        "        optimizer=optimizer, \n",
        "        scheduler=scheduler, \n",
        "        step=step, \n",
        "        print_every_step=EEVERY_EPOCH, \n",
        "        eval=True,\n",
        "        eval_cb=eval_callback(epoch, EPOCHS, OUTPUT_PATH),\n",
        "        eval_loss_min=eval_loss_min,\n",
        "        eval_data_loader=valid_data_loader, \n",
        "        clip=CLIP)\n",
        "    \n",
        "    train_score = acc_and_f1(train_y[0], train_y[1], average='weighted')\n",
        "    \n",
        "    eval_y, eval_loss = eval_op(\n",
        "        model=pt_model, \n",
        "        data_loader=valid_data_loader, \n",
        "        loss_fn=loss_fn)\n",
        "    \n",
        "    eval_score = acc_and_f1(eval_y[0], eval_y[1], average='weighted')\n",
        "    \n",
        "    history['train_acc'].append(train_score['acc'])\n",
        "    history['train_loss'].append(train_loss)\n",
        "    history['val_acc'].append(eval_score['acc'])\n",
        "    history['val_loss'].append(eval_loss)"
      ],
      "execution_count": null,
      "outputs": [
        {
          "output_type": "display_data",
          "data": {
            "application/vnd.jupyter.widget-view+json": {
              "model_id": "8468acd241d94434a112e48b06327c93",
              "version_minor": 0,
              "version_major": 2
            },
            "text/plain": [
              "HBox(children=(FloatProgress(value=0.0, description='Epochs... ', max=3.0, style=ProgressStyle(description_wid…"
            ]
          },
          "metadata": {
            "tags": []
          }
        },
        {
          "output_type": "display_data",
          "data": {
            "application/vnd.jupyter.widget-view+json": {
              "model_id": "bcf27a47479241d8980252b007ea3801",
              "version_minor": 0,
              "version_major": 2
            },
            "text/plain": [
              "HBox(children=(FloatProgress(value=0.0, description='Training... ', max=463.0, style=ProgressStyle(description…"
            ]
          },
          "metadata": {
            "tags": []
          }
        },
        {
          "output_type": "stream",
          "text": [
            "\n"
          ],
          "name": "stdout"
        },
        {
          "output_type": "display_data",
          "data": {
            "application/vnd.jupyter.widget-view+json": {
              "model_id": "51e8ad3852f247409e7d5410429c0595",
              "version_minor": 0,
              "version_major": 2
            },
            "text/plain": [
              "HBox(children=(FloatProgress(value=0.0, description='Evaluation... ', max=52.0, style=ProgressStyle(descriptio…"
            ]
          },
          "metadata": {
            "tags": []
          }
        },
        {
          "output_type": "stream",
          "text": [
            "\n"
          ],
          "name": "stdout"
        },
        {
          "output_type": "display_data",
          "data": {
            "application/vnd.jupyter.widget-view+json": {
              "model_id": "382990ea8dfc4e7785ef139b0a6c1da9",
              "version_minor": 0,
              "version_major": 2
            },
            "text/plain": [
              "HBox(children=(FloatProgress(value=0.0, description='Training... ', max=463.0, style=ProgressStyle(description…"
            ]
          },
          "metadata": {
            "tags": []
          }
        },
        {
          "output_type": "stream",
          "text": [
            "\n"
          ],
          "name": "stdout"
        },
        {
          "output_type": "display_data",
          "data": {
            "application/vnd.jupyter.widget-view+json": {
              "model_id": "84dc2a6dadbd41889923d0fada9654ad",
              "version_minor": 0,
              "version_major": 2
            },
            "text/plain": [
              "HBox(children=(FloatProgress(value=0.0, description='Evaluation... ', max=52.0, style=ProgressStyle(descriptio…"
            ]
          },
          "metadata": {
            "tags": []
          }
        },
        {
          "output_type": "stream",
          "text": [
            "\n"
          ],
          "name": "stdout"
        },
        {
          "output_type": "display_data",
          "data": {
            "application/vnd.jupyter.widget-view+json": {
              "model_id": "f6dd5ccecd2847b89a184c69da7a45d6",
              "version_minor": 0,
              "version_major": 2
            },
            "text/plain": [
              "HBox(children=(FloatProgress(value=0.0, description='Training... ', max=463.0, style=ProgressStyle(description…"
            ]
          },
          "metadata": {
            "tags": []
          }
        },
        {
          "output_type": "display_data",
          "data": {
            "application/vnd.jupyter.widget-view+json": {
              "model_id": "1345ddfe82564f70930d870204305f58",
              "version_minor": 0,
              "version_major": 2
            },
            "text/plain": [
              "HBox(children=(FloatProgress(value=0.0, description='Evaluation... ', max=52.0, style=ProgressStyle(descriptio…"
            ]
          },
          "metadata": {
            "tags": []
          }
        },
        {
          "output_type": "stream",
          "text": [
            "\n",
            "Epoch: 3/3...Step: 1000...Train Loss: 0.050000...Train Acc: 0.984...Valid Loss: 0.314351...Valid Acc: 0.906...\n",
            "Validation loss decreased (inf --> 0.314351).  Saving model ...\n",
            "\n"
          ],
          "name": "stdout"
        },
        {
          "output_type": "display_data",
          "data": {
            "application/vnd.jupyter.widget-view+json": {
              "model_id": "f2971ab1c2644a81a934a8ceb8084374",
              "version_minor": 0,
              "version_major": 2
            },
            "text/plain": [
              "HBox(children=(FloatProgress(value=0.0, description='Evaluation... ', max=52.0, style=ProgressStyle(descriptio…"
            ]
          },
          "metadata": {
            "tags": []
          }
        },
        {
          "output_type": "stream",
          "text": [
            "\n",
            "\n"
          ],
          "name": "stdout"
        }
      ]
    },
    {
      "cell_type": "markdown",
      "metadata": {
        "id": "C-ZvVuRsoYRK"
      },
      "source": [
        "### Prediction"
      ]
    },
    {
      "cell_type": "code",
      "metadata": {
        "id": "dlpDbg0wDqKP"
      },
      "source": [
        "def predict(model, comments, tokenizer, max_len=128, batch_size=32):\n",
        "    data_loader = create_data_loader(comments, None, tokenizer, max_len, batch_size, None)\n",
        "    \n",
        "    predictions = []\n",
        "    prediction_probs = []\n",
        "\n",
        "    \n",
        "    model.eval()\n",
        "    with torch.no_grad():\n",
        "        for dl in tqdm(data_loader, position=0):\n",
        "            input_ids = dl['input_ids']\n",
        "            attention_mask = dl['attention_mask']\n",
        "            token_type_ids = dl['token_type_ids']\n",
        "\n",
        "            # move tensors to GPU if CUDA is available\n",
        "            input_ids = input_ids.to(device)\n",
        "            attention_mask = attention_mask.to(device)\n",
        "            token_type_ids = token_type_ids.to(device)\n",
        "            \n",
        "            # compute predicted outputs by passing inputs to the model\n",
        "            outputs = model(\n",
        "                input_ids=input_ids,\n",
        "                attention_mask=attention_mask,\n",
        "                token_type_ids=token_type_ids)\n",
        "            \n",
        "            # convert output probabilities to predicted class\n",
        "            _, preds = torch.max(outputs, dim=1)\n",
        "\n",
        "            predictions.extend(preds)\n",
        "            prediction_probs.extend(F.softmax(outputs, dim=1))\n",
        "\n",
        "    predictions = torch.stack(predictions).cpu().detach().numpy()\n",
        "    prediction_probs = torch.stack(prediction_probs).cpu().detach().numpy()\n",
        "\n",
        "    return predictions, prediction_probs"
      ],
      "execution_count": null,
      "outputs": []
    },
    {
      "cell_type": "code",
      "metadata": {
        "id": "RRpWTfwdoWoS",
        "colab": {
          "base_uri": "https://localhost:8080/",
          "height": 84,
          "referenced_widgets": [
            "4174a305f70d40859f945a1bfd65a532",
            "c6f9173a770142c0832d14d5977be67c",
            "b393e0a695fa43e096fe87d7646b520f",
            "bacbd8e23dc34de49a43b8945d96afad",
            "e3cadcdfa1a74affaabd2aabbdbd6406",
            "0fd776e07d624fe2acce6acad36b77ef",
            "2f039e1340024d118fdfba79dbc53baf",
            "d32cb7e86735404482f32973be325801"
          ]
        },
        "outputId": "b99fcb67-2d45-40ad-cc8f-774f61c18970"
      },
      "source": [
        "test_comments = test['comment'].to_numpy()\n",
        "preds, probs = predict(pt_model, test_comments, tokenizer, max_len=128)\n",
        "\n",
        "print(preds.shape, probs.shape)"
      ],
      "execution_count": null,
      "outputs": [
        {
          "output_type": "display_data",
          "data": {
            "application/vnd.jupyter.widget-view+json": {
              "model_id": "4174a305f70d40859f945a1bfd65a532",
              "version_minor": 0,
              "version_major": 2
            },
            "text/plain": [
              "HBox(children=(FloatProgress(value=0.0, max=29.0), HTML(value='')))"
            ]
          },
          "metadata": {
            "tags": []
          }
        },
        {
          "output_type": "stream",
          "text": [
            "\n",
            "(914,) (914, 2)\n"
          ],
          "name": "stdout"
        }
      ]
    },
    {
      "cell_type": "code",
      "metadata": {
        "id": "ZRL2bgDDpUG0",
        "colab": {
          "base_uri": "https://localhost:8080/"
        },
        "outputId": "0369fa87-e48f-473c-b8c6-5085c8357b1f"
      },
      "source": [
        "y_test, y_pred = [label_list.index(label) for label in test['label'].values], preds\n",
        "\n",
        "print(f'F1: {f1_score(y_test, y_pred, average=\"weighted\")}')\n",
        "print()\n",
        "print(classification_report(y_test, y_pred, target_names=label_list))"
      ],
      "execution_count": null,
      "outputs": [
        {
          "output_type": "stream",
          "text": [
            "F1: 0.90972335101808\n",
            "\n",
            "              precision    recall  f1-score   support\n",
            "\n",
            "    negative       0.79      0.82      0.80       206\n",
            "    positive       0.95      0.94      0.94       708\n",
            "\n",
            "    accuracy                           0.91       914\n",
            "   macro avg       0.87      0.88      0.87       914\n",
            "weighted avg       0.91      0.91      0.91       914\n",
            "\n"
          ],
          "name": "stdout"
        }
      ]
    },
    {
      "cell_type": "markdown",
      "metadata": {
        "id": "G9eY5tJrwLUZ"
      },
      "source": [
        "## Using TensorFlow"
      ]
    },
    {
      "cell_type": "code",
      "metadata": {
        "id": "BuiOuFkxv_to"
      },
      "source": [
        "from transformers import BertConfig, BertTokenizer\n",
        "from transformers import TFBertModel, TFBertForSequenceClassification\n",
        "from transformers import glue_convert_examples_to_features\n",
        "\n",
        "import tensorflow as tf"
      ],
      "execution_count": null,
      "outputs": []
    },
    {
      "cell_type": "markdown",
      "metadata": {
        "id": "X7Ro-8_pw_uw"
      },
      "source": [
        "### Configuration"
      ]
    },
    {
      "cell_type": "code",
      "metadata": {
        "id": "zx6k3XBxw_Nw"
      },
      "source": [
        "# general config\n",
        "MAX_LEN = 128\n",
        "TRAIN_BATCH_SIZE = 16\n",
        "VALID_BATCH_SIZE = 16\n",
        "TEST_BATCH_SIZE = 16\n",
        "\n",
        "EPOCHS = 3\n",
        "EEVERY_EPOCH = 1000\n",
        "LEARNING_RATE = 2e-5\n",
        "CLIP = 0.0\n",
        "\n",
        "MODEL_NAME_OR_PATH = 'HooshvareLab/bert-fa-base-uncased'\n",
        "OUTPUT_PATH = '/content/bert-fa-base-uncased-sentiment-taaghceh/pytorch_model.bin'\n",
        "\n",
        "os.makedirs(os.path.dirname(OUTPUT_PATH), exist_ok=True)"
      ],
      "execution_count": null,
      "outputs": []
    },
    {
      "cell_type": "code",
      "metadata": {
        "id": "X8uZ7728RmCw",
        "colab": {
          "base_uri": "https://localhost:8080/"
        },
        "outputId": "0f6999b7-e8e4-40d6-9318-be47ec54d7f9"
      },
      "source": [
        "label2id = {label: i for i, label in enumerate(labels)}\n",
        "id2label = {v: k for k, v in label2id.items()}\n",
        "\n",
        "print(f'label2id: {label2id}')\n",
        "print(f'id2label: {id2label}')"
      ],
      "execution_count": null,
      "outputs": [
        {
          "output_type": "stream",
          "text": [
            "label2id: {'negative': 0, 'positive': 1}\n",
            "id2label: {0: 'negative', 1: 'positive'}\n"
          ],
          "name": "stdout"
        }
      ]
    },
    {
      "cell_type": "code",
      "metadata": {
        "id": "j4iFFI0lR5Nr",
        "colab": {
          "base_uri": "https://localhost:8080/"
        },
        "outputId": "7b3bbe94-e3c0-4138-ec11-9c30237241d0"
      },
      "source": [
        "tokenizer = BertTokenizer.from_pretrained(MODEL_NAME_OR_PATH)\n",
        "config = BertConfig.from_pretrained(\n",
        "    MODEL_NAME_OR_PATH, **{\n",
        "        'label2id': label2id,\n",
        "        'id2label': id2label,\n",
        "    })\n",
        "\n",
        "print(config.to_json_string())"
      ],
      "execution_count": null,
      "outputs": [
        {
          "output_type": "stream",
          "text": [
            "{\n",
            "  \"architectures\": [\n",
            "    \"BertForMaskedLM\"\n",
            "  ],\n",
            "  \"attention_probs_dropout_prob\": 0.1,\n",
            "  \"gradient_checkpointing\": false,\n",
            "  \"hidden_act\": \"gelu\",\n",
            "  \"hidden_dropout_prob\": 0.1,\n",
            "  \"hidden_size\": 768,\n",
            "  \"id2label\": {\n",
            "    \"0\": \"negative\",\n",
            "    \"1\": \"positive\"\n",
            "  },\n",
            "  \"initializer_range\": 0.02,\n",
            "  \"intermediate_size\": 3072,\n",
            "  \"label2id\": {\n",
            "    \"negative\": 0,\n",
            "    \"positive\": 1\n",
            "  },\n",
            "  \"layer_norm_eps\": 1e-12,\n",
            "  \"max_position_embeddings\": 512,\n",
            "  \"model_type\": \"bert\",\n",
            "  \"num_attention_heads\": 12,\n",
            "  \"num_hidden_layers\": 12,\n",
            "  \"pad_token_id\": 0,\n",
            "  \"type_vocab_size\": 2,\n",
            "  \"vocab_size\": 100000\n",
            "}\n",
            "\n"
          ],
          "name": "stdout"
        }
      ]
    },
    {
      "cell_type": "markdown",
      "metadata": {
        "id": "ppvfKLczSFAG"
      },
      "source": [
        "### Input Embeddings / Dataset"
      ]
    },
    {
      "cell_type": "code",
      "metadata": {
        "id": "5_YqB7S7R9AK"
      },
      "source": [
        "class InputExample:\n",
        "    \"\"\" A single example for simple sequence classification. \"\"\"\n",
        "\n",
        "    def __init__(self, guid, text_a, text_b=None, label=None):\n",
        "        \"\"\" Constructs a InputExample. \"\"\"\n",
        "        self.guid = guid\n",
        "        self.text_a = text_a\n",
        "        self.text_b = text_b\n",
        "        self.label = label\n",
        "\n",
        "\n",
        "def make_examples(tokenizer, x, y=None, maxlen=128, output_mode=\"classification\", is_tf_dataset=True):\n",
        "    examples = []\n",
        "    y = y if isinstance(y, list) or isinstance(y, np.ndarray) else [None] * len(x)\n",
        "\n",
        "    for i, (_x, _y) in tqdm(enumerate(zip(x, y)), position=0, total=len(x)):\n",
        "        guid = \"%s\" % i\n",
        "        label = int(_y)\n",
        "        \n",
        "        if isinstance(_x, str):\n",
        "            text_a = _x\n",
        "            text_b = None\n",
        "        else:\n",
        "            assert len(_x) == 2\n",
        "            text_a = _x[0]\n",
        "            text_b = _x[1]\n",
        "        \n",
        "        examples.append(InputExample(guid=guid, text_a=text_a, text_b=text_b, label=label))\n",
        "    \n",
        "    features = glue_convert_examples_to_features(\n",
        "        examples, \n",
        "        tokenizer, \n",
        "        maxlen, \n",
        "        output_mode=output_mode, \n",
        "        label_list=list(np.unique(y)))\n",
        "\n",
        "    all_input_ids = []\n",
        "    all_attention_masks = []\n",
        "    all_token_type_ids = []\n",
        "    all_labels = []\n",
        "\n",
        "    for f in tqdm(features, position=0, total=len(examples)):\n",
        "        if is_tf_dataset:\n",
        "            all_input_ids.append(tf.constant(f.input_ids))\n",
        "            all_attention_masks.append(tf.constant(f.attention_mask))\n",
        "            all_token_type_ids.append(tf.constant(f.token_type_ids))\n",
        "            all_labels.append(tf.constant(f.label))\n",
        "        else:\n",
        "            all_input_ids.append(f.input_ids)\n",
        "            all_attention_masks.append(f.attention_mask)\n",
        "            all_token_type_ids.append(f.token_type_ids)\n",
        "            all_labels.append(f.label)\n",
        "\n",
        "    if is_tf_dataset:\n",
        "        dataset = tf.data.Dataset.from_tensor_slices(({\n",
        "            'input_ids': all_input_ids,\n",
        "            'attention_mask': all_attention_masks,\n",
        "            'token_type_ids': all_token_type_ids\n",
        "        }, all_labels))\n",
        "\n",
        "        return dataset, features\n",
        "    \n",
        "    xdata = [np.array(all_input_ids), np.array(all_attention_masks), np.array(all_token_type_ids)]\n",
        "    ydata = all_labels\n",
        "\n",
        "    return [xdata, ydata], features"
      ],
      "execution_count": null,
      "outputs": []
    },
    {
      "cell_type": "code",
      "metadata": {
        "id": "I7x5C4XPSLFz",
        "colab": {
          "base_uri": "https://localhost:8080/",
          "height": 412,
          "referenced_widgets": [
            "2e0840b9e8f449c581db6c43dde4276a",
            "6bdf9f14912d418daafc9d8e6e27d8dc",
            "28af915e721542298dfe59666d1e1468",
            "c0ab421e70be40429fd88506f35c0a71",
            "44b5d689bd6d42b4a8c9d7360848937a",
            "feee0a8f816b47e885f951fa935381ff",
            "5f7805ee7b564c88be980439c8818cca",
            "86c3a554ef2b4ef99ca61b78f9a37843",
            "2d054edbe9464893b3102637f233c615",
            "0c14261ea5bc498b94efa49d82330dca",
            "b70f7e60638149e2b3e184c00ec69376",
            "0914057337374a9595dd6bb50b75f01b",
            "1c7a99593e2f4b448d455edb7ac86f61",
            "7f3da842c3e24c17bc639d621bf027ea",
            "b402c43ca4704d47a39ee5b1844452cf",
            "77d7f6640aff4c9ebd6ff4226342e26e",
            "f4bb1d1fd47e4489ae7d63b73970e4ca",
            "a8d46179bc764acdb1741f04d58f2d20",
            "5b33a7d6e32e41bd9778e3e2dba23925",
            "a8ceeee8200a4cf2ab2fe500a11a4cc1",
            "788be8b2247b4da58d5305b13e7ad477",
            "819e1494d94940ebb28af7b216f73977",
            "52d48a867e7d409b8e3a6b2cab4fa1fe",
            "7f412db5ec5a44f3a4ab6d86dd9570d7",
            "d3e8b5c02ea644bbbd7477c22e935df9",
            "ee173b8a97c940409a390d625d7b01f8",
            "67bca4c2064f4a2ba9b479c33c1f96c4",
            "16e13a39beaf4191a4eb6c855072f846",
            "ed740691c5d44e12991f043da46429c4",
            "2915ce694452479fb1a8c9366ebafc8b",
            "bd3fb2da48c541e8897a350e9f3d4919",
            "8ae158d411f148209a1d4868a6a7fc8f",
            "829a60a9711c41c1af08f357781c09f6",
            "a457d566379a4ed4a529ce14d5b33e62",
            "8a60d00ba38d4866b88182a4039c63bb",
            "3a7baa2f30fb4207a34570c0a4fd746c",
            "85ac86aad8d744819e3e36c524532163",
            "fe28b43e45d14bc18a2ca231ae955fbe",
            "f7a69ede818e4c21921c179e767f9269",
            "2667fbc878584431b6f74e057f456887",
            "7e5906ea2615448cb47f7d1c590f64c7",
            "fc22744114d64b52964b6b15cdd880bc",
            "188944f057064cebaf217cf5831d6ca3",
            "23fb730f8b0b4688adc8d7bae523bb6d",
            "0a3783646a82460ca7280dbd9cb3aee6",
            "74a1d1b925f84ae78dc09b761e5a992b",
            "3de502f8f43142f291ad2afe3fcc22c0",
            "9b573b6a305a4a7d8e59fb914e31394b",
            "0ff9b678b13a4ed091ba7cfcecccfc21",
            "05a8e1b42be345ab8e01b53be35b8393",
            "0b6a0269c86e4ee19aeb3ba6d8456f3b",
            "c0b014be66ea4ed5930e2718ec5b6933",
            "9466980f91a24c59b2fe3bee8e638c77",
            "e3e37f41722643d18787d4c35d646b15",
            "1b0b3fcff21e46f1a885ed0ff90104e9",
            "898ce54863c844159538a69c948ad4d6",
            "748f8ae8bcf34d34a4253a361c3420f2",
            "f4fce95b4c38437aa38faf0c136dcd1e",
            "e889e57c8b514427b38200b80358e89d",
            "6370d924eb86433fae9916820b9f839c",
            "d5083a93441d43fbac60d85c5aec0b0c",
            "f480142802604b74871fdb9425a3a319",
            "0fcc3882a65d4565b9c2d8137be75086",
            "52ff3bcb9f71426ba1faf9affff8f28e"
          ]
        },
        "outputId": "2e31ad77-05c4-4d1d-e000-6585e038793b"
      },
      "source": [
        "train_dataset_base, train_examples = make_examples(tokenizer, x_train, y_train, maxlen=128)\n",
        "valid_dataset_base, valid_examples = make_examples(tokenizer, x_valid, y_valid, maxlen=128)\n",
        "\n",
        "test_dataset_base, test_examples = make_examples(tokenizer, x_test, y_test, maxlen=128)\n",
        "[xtest, ytest], test_examples = make_examples(tokenizer, x_test, y_test, maxlen=128, is_tf_dataset=False)"
      ],
      "execution_count": null,
      "outputs": [
        {
          "output_type": "display_data",
          "data": {
            "application/vnd.jupyter.widget-view+json": {
              "model_id": "2e0840b9e8f449c581db6c43dde4276a",
              "version_minor": 0,
              "version_major": 2
            },
            "text/plain": [
              "HBox(children=(FloatProgress(value=0.0, max=7401.0), HTML(value='')))"
            ]
          },
          "metadata": {
            "tags": []
          }
        },
        {
          "output_type": "stream",
          "text": [
            "\n"
          ],
          "name": "stdout"
        },
        {
          "output_type": "display_data",
          "data": {
            "application/vnd.jupyter.widget-view+json": {
              "model_id": "2d054edbe9464893b3102637f233c615",
              "version_minor": 0,
              "version_major": 2
            },
            "text/plain": [
              "HBox(children=(FloatProgress(value=0.0, max=7401.0), HTML(value='')))"
            ]
          },
          "metadata": {
            "tags": []
          }
        },
        {
          "output_type": "stream",
          "text": [
            "\n"
          ],
          "name": "stdout"
        },
        {
          "output_type": "display_data",
          "data": {
            "application/vnd.jupyter.widget-view+json": {
              "model_id": "f4bb1d1fd47e4489ae7d63b73970e4ca",
              "version_minor": 0,
              "version_major": 2
            },
            "text/plain": [
              "HBox(children=(FloatProgress(value=0.0, max=823.0), HTML(value='')))"
            ]
          },
          "metadata": {
            "tags": []
          }
        },
        {
          "output_type": "stream",
          "text": [
            "\n"
          ],
          "name": "stdout"
        },
        {
          "output_type": "display_data",
          "data": {
            "application/vnd.jupyter.widget-view+json": {
              "model_id": "d3e8b5c02ea644bbbd7477c22e935df9",
              "version_minor": 0,
              "version_major": 2
            },
            "text/plain": [
              "HBox(children=(FloatProgress(value=0.0, max=823.0), HTML(value='')))"
            ]
          },
          "metadata": {
            "tags": []
          }
        },
        {
          "output_type": "stream",
          "text": [
            "\n"
          ],
          "name": "stdout"
        },
        {
          "output_type": "display_data",
          "data": {
            "application/vnd.jupyter.widget-view+json": {
              "model_id": "829a60a9711c41c1af08f357781c09f6",
              "version_minor": 0,
              "version_major": 2
            },
            "text/plain": [
              "HBox(children=(FloatProgress(value=0.0, max=914.0), HTML(value='')))"
            ]
          },
          "metadata": {
            "tags": []
          }
        },
        {
          "output_type": "stream",
          "text": [
            "\n"
          ],
          "name": "stdout"
        },
        {
          "output_type": "display_data",
          "data": {
            "application/vnd.jupyter.widget-view+json": {
              "model_id": "7e5906ea2615448cb47f7d1c590f64c7",
              "version_minor": 0,
              "version_major": 2
            },
            "text/plain": [
              "HBox(children=(FloatProgress(value=0.0, max=914.0), HTML(value='')))"
            ]
          },
          "metadata": {
            "tags": []
          }
        },
        {
          "output_type": "stream",
          "text": [
            "\n"
          ],
          "name": "stdout"
        },
        {
          "output_type": "display_data",
          "data": {
            "application/vnd.jupyter.widget-view+json": {
              "model_id": "0ff9b678b13a4ed091ba7cfcecccfc21",
              "version_minor": 0,
              "version_major": 2
            },
            "text/plain": [
              "HBox(children=(FloatProgress(value=0.0, max=914.0), HTML(value='')))"
            ]
          },
          "metadata": {
            "tags": []
          }
        },
        {
          "output_type": "stream",
          "text": [
            "\n"
          ],
          "name": "stdout"
        },
        {
          "output_type": "display_data",
          "data": {
            "application/vnd.jupyter.widget-view+json": {
              "model_id": "748f8ae8bcf34d34a4253a361c3420f2",
              "version_minor": 0,
              "version_major": 2
            },
            "text/plain": [
              "HBox(children=(FloatProgress(value=0.0, max=914.0), HTML(value='')))"
            ]
          },
          "metadata": {
            "tags": []
          }
        },
        {
          "output_type": "stream",
          "text": [
            "\n"
          ],
          "name": "stdout"
        }
      ]
    },
    {
      "cell_type": "code",
      "metadata": {
        "id": "eOkiA4c6SeKP",
        "colab": {
          "base_uri": "https://localhost:8080/"
        },
        "outputId": "e53235a1-5a82-46ec-de8d-96dc64fbf1b8"
      },
      "source": [
        "for value in train_dataset_base.take(1):\n",
        "    print(f'     input_ids: {value[0][\"input_ids\"]}')\n",
        "    print(f'attention_mask: {value[0][\"attention_mask\"]}')\n",
        "    print(f'token_type_ids: {value[0][\"token_type_ids\"]}')\n",
        "    print(f'        target: {value[1]}')"
      ],
      "execution_count": null,
      "outputs": [
        {
          "output_type": "stream",
          "text": [
            "     input_ids: [    2  3125  8568  2011  9789  2840  6052  5668 22531 33914  5549 82377\n",
            "  2021  2038  2791 39266  2961 20516  2789  3430 83392  2028 22581  7791\n",
            "  2038  2800  3082  2791  3125 91477 83392  8277  2840  1407 27490  2006\n",
            "  5400  2786  4744  5440  2038  2800  7707  2840 62338  4358  2038  2848\n",
            "  4888  4863 22696  2014  8568  2011  9789  2840  3487 27490  2790  2789\n",
            "  8568  2011  9789  8568 21105  3682 19682  2790  2937  1411  2038 12139\n",
            "  4863 39266  2840  2820  6235 59767 56515  2786  3142  4863 22696  2014\n",
            " 62846  2942 19682  2038 11231  2799  3211  2789 10539  1407 32699  3925\n",
            "  2038  2961     4     0     0     0     0     0     0     0     0     0\n",
            "     0     0     0     0     0     0     0     0     0     0     0     0\n",
            "     0     0     0     0     0     0     0     0]\n",
            "attention_mask: [1 1 1 1 1 1 1 1 1 1 1 1 1 1 1 1 1 1 1 1 1 1 1 1 1 1 1 1 1 1 1 1 1 1 1 1 1\n",
            " 1 1 1 1 1 1 1 1 1 1 1 1 1 1 1 1 1 1 1 1 1 1 1 1 1 1 1 1 1 1 1 1 1 1 1 1 1\n",
            " 1 1 1 1 1 1 1 1 1 1 1 1 1 1 1 1 1 1 1 1 1 1 1 1 1 0 0 0 0 0 0 0 0 0 0 0 0\n",
            " 0 0 0 0 0 0 0 0 0 0 0 0 0 0 0 0 0]\n",
            "token_type_ids: [0 0 0 0 0 0 0 0 0 0 0 0 0 0 0 0 0 0 0 0 0 0 0 0 0 0 0 0 0 0 0 0 0 0 0 0 0\n",
            " 0 0 0 0 0 0 0 0 0 0 0 0 0 0 0 0 0 0 0 0 0 0 0 0 0 0 0 0 0 0 0 0 0 0 0 0 0\n",
            " 0 0 0 0 0 0 0 0 0 0 0 0 0 0 0 0 0 0 0 0 0 0 0 0 0 0 0 0 0 0 0 0 0 0 0 0 0\n",
            " 0 0 0 0 0 0 0 0 0 0 0 0 0 0 0 0 0]\n",
            "        target: 1\n"
          ],
          "name": "stdout"
        }
      ]
    },
    {
      "cell_type": "code",
      "metadata": {
        "id": "sGPW0b6PSsMN"
      },
      "source": [
        "def get_training_dataset(dataset, batch_size):\n",
        "    dataset = dataset.repeat()\n",
        "    dataset = dataset.shuffle(2048)\n",
        "    dataset = dataset.batch(batch_size)\n",
        "\n",
        "    return dataset\n",
        "\n",
        "def get_validation_dataset(dataset, batch_size):\n",
        "    dataset = dataset.batch(batch_size)\n",
        "\n",
        "    return dataset"
      ],
      "execution_count": null,
      "outputs": []
    },
    {
      "cell_type": "code",
      "metadata": {
        "id": "3JC5rd6YVEHc",
        "colab": {
          "base_uri": "https://localhost:8080/"
        },
        "outputId": "962e8786-9ec4-4a22-c1bd-abfe0dc78800"
      },
      "source": [
        "train_dataset = get_training_dataset(train_dataset_base, TRAIN_BATCH_SIZE)\n",
        "valid_dataset = get_training_dataset(valid_dataset_base, VALID_BATCH_SIZE)\n",
        "\n",
        "train_steps = len(train_examples) // TRAIN_BATCH_SIZE\n",
        "valid_steps = len(valid_examples) // VALID_BATCH_SIZE\n",
        "\n",
        "train_steps, valid_steps"
      ],
      "execution_count": null,
      "outputs": [
        {
          "output_type": "execute_result",
          "data": {
            "text/plain": [
              "(462, 51)"
            ]
          },
          "metadata": {
            "tags": []
          },
          "execution_count": 61
        }
      ]
    },
    {
      "cell_type": "markdown",
      "metadata": {
        "id": "PAi2TF78VNux"
      },
      "source": [
        "### Model"
      ]
    },
    {
      "cell_type": "code",
      "metadata": {
        "id": "WwsARx2QVLjK"
      },
      "source": [
        "def build_model(model_name, config, learning_rate=3e-5):\n",
        "    model = TFBertForSequenceClassification.from_pretrained(model_name, config=config)\n",
        "\n",
        "    optimizer = tf.keras.optimizers.Adam(learning_rate=learning_rate)\n",
        "    loss = tf.keras.losses.SparseCategoricalCrossentropy(from_logits=True)\n",
        "    metric = tf.keras.metrics.SparseCategoricalAccuracy('accuracy')\n",
        "    model.compile(optimizer=optimizer, loss=loss, metrics=[metric])\n",
        "\n",
        "    return model"
      ],
      "execution_count": null,
      "outputs": []
    },
    {
      "cell_type": "code",
      "metadata": {
        "id": "8aFLw-MQVT_V",
        "colab": {
          "base_uri": "https://localhost:8080/",
          "height": 173,
          "referenced_widgets": [
            "1ef436f1af594265b2e4926db6d77272",
            "0d56bd3e4d4145558240ed6a76c41e80",
            "057e103239d24e97a8a350da5b07d6ed",
            "e39569f7f5c243b58ae829296db84fb2",
            "ebe464d2b2db49e0842bc46b3dfa9ad1",
            "38f034d35da54da9aab9d34bbda9ca2e",
            "76726a40b12843b294790ecfabfc6ef5",
            "6199640389ca48c0ad0c7997e5a5a2e0"
          ]
        },
        "outputId": "f067c869-3472-46e9-b4e3-f2f16d3cda1e"
      },
      "source": [
        "model = build_model(MODEL_NAME_OR_PATH, config, learning_rate=LEARNING_RATE)"
      ],
      "execution_count": null,
      "outputs": [
        {
          "output_type": "display_data",
          "data": {
            "application/vnd.jupyter.widget-view+json": {
              "model_id": "1ef436f1af594265b2e4926db6d77272",
              "version_minor": 0,
              "version_major": 2
            },
            "text/plain": [
              "HBox(children=(FloatProgress(value=0.0, description='Downloading', max=963211760.0, style=ProgressStyle(descri…"
            ]
          },
          "metadata": {
            "tags": []
          }
        },
        {
          "output_type": "stream",
          "text": [
            "\n"
          ],
          "name": "stdout"
        },
        {
          "output_type": "stream",
          "text": [
            "Some weights of the model checkpoint at HooshvareLab/bert-fa-base-uncased were not used when initializing TFBertForSequenceClassification: ['nsp___cls', 'mlm___cls']\n",
            "- This IS expected if you are initializing TFBertForSequenceClassification from the checkpoint of a model trained on another task or with another architecture (e.g. initializing a BertForSequenceClassification model from a BertForPretraining model).\n",
            "- This IS NOT expected if you are initializing TFBertForSequenceClassification from the checkpoint of a model that you expect to be exactly identical (initializing a BertForSequenceClassification model from a BertForSequenceClassification model).\n",
            "Some weights of TFBertForSequenceClassification were not initialized from the model checkpoint at HooshvareLab/bert-fa-base-uncased and are newly initialized: ['classifier', 'dropout_37']\n",
            "You should probably TRAIN this model on a down-stream task to be able to use it for predictions and inference.\n"
          ],
          "name": "stderr"
        }
      ]
    },
    {
      "cell_type": "markdown",
      "metadata": {
        "id": "jJrah6BGVfA2"
      },
      "source": [
        "### Training"
      ]
    },
    {
      "cell_type": "code",
      "metadata": {
        "id": "i3qOIz1WVZLw",
        "colab": {
          "base_uri": "https://localhost:8080/"
        },
        "outputId": "7ec5f040-252e-44e5-8eeb-3c8f2d93dfd8"
      },
      "source": [
        "%%time\n",
        "\n",
        "r = model.fit(\n",
        "    train_dataset,\n",
        "    validation_data=valid_dataset,\n",
        "    steps_per_epoch=train_steps,\n",
        "    validation_steps=valid_steps,\n",
        "    epochs=EPOCHS,\n",
        "    verbose=1)\n",
        "\n",
        "final_accuracy = r.history['val_accuracy']\n",
        "print('FINAL ACCURACY MEAN: ', np.mean(final_accuracy))"
      ],
      "execution_count": null,
      "outputs": [
        {
          "output_type": "stream",
          "text": [
            "Epoch 1/3\n",
            "WARNING:tensorflow:From /usr/local/lib/python3.7/dist-packages/tensorflow/python/ops/array_ops.py:5049: calling gather (from tensorflow.python.ops.array_ops) with validate_indices is deprecated and will be removed in a future version.\n",
            "Instructions for updating:\n",
            "The `validate_indices` argument has no effect. Indices are always validated on CPU and never validated on GPU.\n",
            "462/462 [==============================] - 225s 453ms/step - loss: 0.3038 - accuracy: 0.8699 - val_loss: 0.2336 - val_accuracy: 0.9252\n",
            "Epoch 2/3\n",
            "462/462 [==============================] - 207s 448ms/step - loss: 0.1607 - accuracy: 0.9371 - val_loss: 0.3118 - val_accuracy: 0.9007\n",
            "Epoch 3/3\n",
            "462/462 [==============================] - 207s 448ms/step - loss: 0.0796 - accuracy: 0.9721 - val_loss: 0.4391 - val_accuracy: 0.8958\n",
            "FINAL ACCURACY MEAN:  0.9072712461153666\n",
            "CPU times: user 3min 16s, sys: 1min 21s, total: 4min 37s\n",
            "Wall time: 11min 37s\n"
          ],
          "name": "stdout"
        }
      ]
    },
    {
      "cell_type": "code",
      "metadata": {
        "id": "JwIpJ1PIiOf6"
      },
      "source": [
        "# save the model\n",
        "model.save_pretrained(os.path.dirname(OUTPUT_PATH))"
      ],
      "execution_count": null,
      "outputs": []
    },
    {
      "cell_type": "markdown",
      "metadata": {
        "id": "hdJdgOecf3Ez"
      },
      "source": [
        "### Evaluation / Prediction"
      ]
    },
    {
      "cell_type": "code",
      "metadata": {
        "id": "VsgURdVH9V5w",
        "colab": {
          "base_uri": "https://localhost:8080/"
        },
        "outputId": "8f536f86-2ccd-417c-8646-e77b1ed442f1"
      },
      "source": [
        "ev = model.evaluate(test_dataset_base.batch(TEST_BATCH_SIZE))\n",
        "print()\n",
        "print(f'Evaluation: {ev}')\n",
        "print()\n",
        "\n",
        "predictions = model.predict(xtest)\n",
        "ypred = predictions[0].argmax(axis=-1).tolist()\n",
        "\n",
        "print()\n",
        "print(classification_report(ytest, ypred, target_names=labels))\n",
        "print()\n",
        "\n",
        "print(f'F1: {f1_score(ytest, ypred, average=\"weighted\")}')"
      ],
      "execution_count": null,
      "outputs": [
        {
          "output_type": "stream",
          "text": [
            "58/58 [==============================] - 8s 140ms/step - loss: 0.3551 - accuracy: 0.9048\n",
            "\n",
            "Evaluation: [0.3551172912120819, 0.9048140048980713]\n",
            "\n",
            "\n",
            "              precision    recall  f1-score   support\n",
            "\n",
            "    negative       0.77      0.82      0.79       206\n",
            "    positive       0.95      0.93      0.94       708\n",
            "\n",
            "    accuracy                           0.90       914\n",
            "   macro avg       0.86      0.87      0.87       914\n",
            "weighted avg       0.91      0.90      0.91       914\n",
            "\n",
            "\n",
            "F1: 0.9056790331277254\n"
          ],
          "name": "stdout"
        }
      ]
    },
    {
      "cell_type": "markdown",
      "metadata": {
        "id": "8AkJL6fmRFsX"
      },
      "source": [
        "# Source\n",
        "[Loading a csv file from GitHub in Python](https://medium.com/towards-entrepreneurship/importing-a-csv-file-from-github-in-a-jupyter-notebook-e2c28e7e74a5)"
      ]
    }
  ]
}