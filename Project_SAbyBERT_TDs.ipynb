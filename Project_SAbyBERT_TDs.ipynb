{
  "nbformat": 4,
  "nbformat_minor": 0,
  "metadata": {
    "accelerator": "GPU",
    "colab": {
      "name": "Project-SAbyBERT_TDs.ipynb",
      "provenance": [],
      "collapsed_sections": [
        "I_q-41gpyoCc"
      ]
    },
    "kernelspec": {
      "display_name": "Python 3",
      "name": "python3"
    },
    "language_info": {
      "name": "python"
    },
    "widgets": {
      "application/vnd.jupyter.widget-state+json": {
        "43c26f2a00f248b78848b5ad0cd2d862": {
          "model_module": "@jupyter-widgets/controls",
          "model_name": "HBoxModel",
          "state": {
            "_view_name": "HBoxView",
            "_dom_classes": [],
            "_model_name": "HBoxModel",
            "_view_module": "@jupyter-widgets/controls",
            "_model_module_version": "1.5.0",
            "_view_count": null,
            "_view_module_version": "1.5.0",
            "box_style": "",
            "layout": "IPY_MODEL_079106a2507b415aabae4fe0162452b4",
            "_model_module": "@jupyter-widgets/controls",
            "children": [
              "IPY_MODEL_259a19a76eae4bf5a3e2537726633f0b",
              "IPY_MODEL_58e0dcfcc8a74b5b902f4a8011f7d0dd"
            ]
          }
        },
        "079106a2507b415aabae4fe0162452b4": {
          "model_module": "@jupyter-widgets/base",
          "model_name": "LayoutModel",
          "state": {
            "_view_name": "LayoutView",
            "grid_template_rows": null,
            "right": null,
            "justify_content": null,
            "_view_module": "@jupyter-widgets/base",
            "overflow": null,
            "_model_module_version": "1.2.0",
            "_view_count": null,
            "flex_flow": null,
            "width": null,
            "min_width": null,
            "border": null,
            "align_items": null,
            "bottom": null,
            "_model_module": "@jupyter-widgets/base",
            "top": null,
            "grid_column": null,
            "overflow_y": null,
            "overflow_x": null,
            "grid_auto_flow": null,
            "grid_area": null,
            "grid_template_columns": null,
            "flex": null,
            "_model_name": "LayoutModel",
            "justify_items": null,
            "grid_row": null,
            "max_height": null,
            "align_content": null,
            "visibility": null,
            "align_self": null,
            "height": null,
            "min_height": null,
            "padding": null,
            "grid_auto_rows": null,
            "grid_gap": null,
            "max_width": null,
            "order": null,
            "_view_module_version": "1.2.0",
            "grid_template_areas": null,
            "object_position": null,
            "object_fit": null,
            "grid_auto_columns": null,
            "margin": null,
            "display": null,
            "left": null
          }
        },
        "259a19a76eae4bf5a3e2537726633f0b": {
          "model_module": "@jupyter-widgets/controls",
          "model_name": "FloatProgressModel",
          "state": {
            "_view_name": "ProgressView",
            "style": "IPY_MODEL_b74081f203064ed5a0afc3572b737933",
            "_dom_classes": [],
            "description": "Downloading: 100%",
            "_model_name": "FloatProgressModel",
            "bar_style": "success",
            "max": 1198122,
            "_view_module": "@jupyter-widgets/controls",
            "_model_module_version": "1.5.0",
            "value": 1198122,
            "_view_count": null,
            "_view_module_version": "1.5.0",
            "orientation": "horizontal",
            "min": 0,
            "description_tooltip": null,
            "_model_module": "@jupyter-widgets/controls",
            "layout": "IPY_MODEL_db44bcd412bf473782b42253f526f2a6"
          }
        },
        "58e0dcfcc8a74b5b902f4a8011f7d0dd": {
          "model_module": "@jupyter-widgets/controls",
          "model_name": "HTMLModel",
          "state": {
            "_view_name": "HTMLView",
            "style": "IPY_MODEL_d46bdb901e5b4b4fa4d1a193d7bd6f4b",
            "_dom_classes": [],
            "description": "",
            "_model_name": "HTMLModel",
            "placeholder": "​",
            "_view_module": "@jupyter-widgets/controls",
            "_model_module_version": "1.5.0",
            "value": " 1.20M/1.20M [00:01&lt;00:00, 763kB/s]",
            "_view_count": null,
            "_view_module_version": "1.5.0",
            "description_tooltip": null,
            "_model_module": "@jupyter-widgets/controls",
            "layout": "IPY_MODEL_e64b06b721dd4fe6b7f9272c0f4e54a1"
          }
        },
        "b74081f203064ed5a0afc3572b737933": {
          "model_module": "@jupyter-widgets/controls",
          "model_name": "ProgressStyleModel",
          "state": {
            "_view_name": "StyleView",
            "_model_name": "ProgressStyleModel",
            "description_width": "initial",
            "_view_module": "@jupyter-widgets/base",
            "_model_module_version": "1.5.0",
            "_view_count": null,
            "_view_module_version": "1.2.0",
            "bar_color": null,
            "_model_module": "@jupyter-widgets/controls"
          }
        },
        "db44bcd412bf473782b42253f526f2a6": {
          "model_module": "@jupyter-widgets/base",
          "model_name": "LayoutModel",
          "state": {
            "_view_name": "LayoutView",
            "grid_template_rows": null,
            "right": null,
            "justify_content": null,
            "_view_module": "@jupyter-widgets/base",
            "overflow": null,
            "_model_module_version": "1.2.0",
            "_view_count": null,
            "flex_flow": null,
            "width": null,
            "min_width": null,
            "border": null,
            "align_items": null,
            "bottom": null,
            "_model_module": "@jupyter-widgets/base",
            "top": null,
            "grid_column": null,
            "overflow_y": null,
            "overflow_x": null,
            "grid_auto_flow": null,
            "grid_area": null,
            "grid_template_columns": null,
            "flex": null,
            "_model_name": "LayoutModel",
            "justify_items": null,
            "grid_row": null,
            "max_height": null,
            "align_content": null,
            "visibility": null,
            "align_self": null,
            "height": null,
            "min_height": null,
            "padding": null,
            "grid_auto_rows": null,
            "grid_gap": null,
            "max_width": null,
            "order": null,
            "_view_module_version": "1.2.0",
            "grid_template_areas": null,
            "object_position": null,
            "object_fit": null,
            "grid_auto_columns": null,
            "margin": null,
            "display": null,
            "left": null
          }
        },
        "d46bdb901e5b4b4fa4d1a193d7bd6f4b": {
          "model_module": "@jupyter-widgets/controls",
          "model_name": "DescriptionStyleModel",
          "state": {
            "_view_name": "StyleView",
            "_model_name": "DescriptionStyleModel",
            "description_width": "",
            "_view_module": "@jupyter-widgets/base",
            "_model_module_version": "1.5.0",
            "_view_count": null,
            "_view_module_version": "1.2.0",
            "_model_module": "@jupyter-widgets/controls"
          }
        },
        "e64b06b721dd4fe6b7f9272c0f4e54a1": {
          "model_module": "@jupyter-widgets/base",
          "model_name": "LayoutModel",
          "state": {
            "_view_name": "LayoutView",
            "grid_template_rows": null,
            "right": null,
            "justify_content": null,
            "_view_module": "@jupyter-widgets/base",
            "overflow": null,
            "_model_module_version": "1.2.0",
            "_view_count": null,
            "flex_flow": null,
            "width": null,
            "min_width": null,
            "border": null,
            "align_items": null,
            "bottom": null,
            "_model_module": "@jupyter-widgets/base",
            "top": null,
            "grid_column": null,
            "overflow_y": null,
            "overflow_x": null,
            "grid_auto_flow": null,
            "grid_area": null,
            "grid_template_columns": null,
            "flex": null,
            "_model_name": "LayoutModel",
            "justify_items": null,
            "grid_row": null,
            "max_height": null,
            "align_content": null,
            "visibility": null,
            "align_self": null,
            "height": null,
            "min_height": null,
            "padding": null,
            "grid_auto_rows": null,
            "grid_gap": null,
            "max_width": null,
            "order": null,
            "_view_module_version": "1.2.0",
            "grid_template_areas": null,
            "object_position": null,
            "object_fit": null,
            "grid_auto_columns": null,
            "margin": null,
            "display": null,
            "left": null
          }
        },
        "08c17666422240fe82079fb4befbe071": {
          "model_module": "@jupyter-widgets/controls",
          "model_name": "HBoxModel",
          "state": {
            "_view_name": "HBoxView",
            "_dom_classes": [],
            "_model_name": "HBoxModel",
            "_view_module": "@jupyter-widgets/controls",
            "_model_module_version": "1.5.0",
            "_view_count": null,
            "_view_module_version": "1.5.0",
            "box_style": "",
            "layout": "IPY_MODEL_450f7db91f8c4201b628a884d1ade302",
            "_model_module": "@jupyter-widgets/controls",
            "children": [
              "IPY_MODEL_9f8b4f1884ca4c399c11fa5b4005e6d5",
              "IPY_MODEL_26707389fd9745f884c1165f72e1366e"
            ]
          }
        },
        "450f7db91f8c4201b628a884d1ade302": {
          "model_module": "@jupyter-widgets/base",
          "model_name": "LayoutModel",
          "state": {
            "_view_name": "LayoutView",
            "grid_template_rows": null,
            "right": null,
            "justify_content": null,
            "_view_module": "@jupyter-widgets/base",
            "overflow": null,
            "_model_module_version": "1.2.0",
            "_view_count": null,
            "flex_flow": null,
            "width": null,
            "min_width": null,
            "border": null,
            "align_items": null,
            "bottom": null,
            "_model_module": "@jupyter-widgets/base",
            "top": null,
            "grid_column": null,
            "overflow_y": null,
            "overflow_x": null,
            "grid_auto_flow": null,
            "grid_area": null,
            "grid_template_columns": null,
            "flex": null,
            "_model_name": "LayoutModel",
            "justify_items": null,
            "grid_row": null,
            "max_height": null,
            "align_content": null,
            "visibility": null,
            "align_self": null,
            "height": null,
            "min_height": null,
            "padding": null,
            "grid_auto_rows": null,
            "grid_gap": null,
            "max_width": null,
            "order": null,
            "_view_module_version": "1.2.0",
            "grid_template_areas": null,
            "object_position": null,
            "object_fit": null,
            "grid_auto_columns": null,
            "margin": null,
            "display": null,
            "left": null
          }
        },
        "9f8b4f1884ca4c399c11fa5b4005e6d5": {
          "model_module": "@jupyter-widgets/controls",
          "model_name": "FloatProgressModel",
          "state": {
            "_view_name": "ProgressView",
            "style": "IPY_MODEL_6d7d867bbaf546beb5e95b425b53eab1",
            "_dom_classes": [],
            "description": "Downloading: 100%",
            "_model_name": "FloatProgressModel",
            "bar_style": "success",
            "max": 440,
            "_view_module": "@jupyter-widgets/controls",
            "_model_module_version": "1.5.0",
            "value": 440,
            "_view_count": null,
            "_view_module_version": "1.5.0",
            "orientation": "horizontal",
            "min": 0,
            "description_tooltip": null,
            "_model_module": "@jupyter-widgets/controls",
            "layout": "IPY_MODEL_b45b4b993abd4dacac5449a2f009bdac"
          }
        },
        "26707389fd9745f884c1165f72e1366e": {
          "model_module": "@jupyter-widgets/controls",
          "model_name": "HTMLModel",
          "state": {
            "_view_name": "HTMLView",
            "style": "IPY_MODEL_42303eebd89c431a8604ab2dc7c32e55",
            "_dom_classes": [],
            "description": "",
            "_model_name": "HTMLModel",
            "placeholder": "​",
            "_view_module": "@jupyter-widgets/controls",
            "_model_module_version": "1.5.0",
            "value": " 440/440 [00:14&lt;00:00, 31.2B/s]",
            "_view_count": null,
            "_view_module_version": "1.5.0",
            "description_tooltip": null,
            "_model_module": "@jupyter-widgets/controls",
            "layout": "IPY_MODEL_fa8d930379a94c09a04b3bade8edc286"
          }
        },
        "6d7d867bbaf546beb5e95b425b53eab1": {
          "model_module": "@jupyter-widgets/controls",
          "model_name": "ProgressStyleModel",
          "state": {
            "_view_name": "StyleView",
            "_model_name": "ProgressStyleModel",
            "description_width": "initial",
            "_view_module": "@jupyter-widgets/base",
            "_model_module_version": "1.5.0",
            "_view_count": null,
            "_view_module_version": "1.2.0",
            "bar_color": null,
            "_model_module": "@jupyter-widgets/controls"
          }
        },
        "b45b4b993abd4dacac5449a2f009bdac": {
          "model_module": "@jupyter-widgets/base",
          "model_name": "LayoutModel",
          "state": {
            "_view_name": "LayoutView",
            "grid_template_rows": null,
            "right": null,
            "justify_content": null,
            "_view_module": "@jupyter-widgets/base",
            "overflow": null,
            "_model_module_version": "1.2.0",
            "_view_count": null,
            "flex_flow": null,
            "width": null,
            "min_width": null,
            "border": null,
            "align_items": null,
            "bottom": null,
            "_model_module": "@jupyter-widgets/base",
            "top": null,
            "grid_column": null,
            "overflow_y": null,
            "overflow_x": null,
            "grid_auto_flow": null,
            "grid_area": null,
            "grid_template_columns": null,
            "flex": null,
            "_model_name": "LayoutModel",
            "justify_items": null,
            "grid_row": null,
            "max_height": null,
            "align_content": null,
            "visibility": null,
            "align_self": null,
            "height": null,
            "min_height": null,
            "padding": null,
            "grid_auto_rows": null,
            "grid_gap": null,
            "max_width": null,
            "order": null,
            "_view_module_version": "1.2.0",
            "grid_template_areas": null,
            "object_position": null,
            "object_fit": null,
            "grid_auto_columns": null,
            "margin": null,
            "display": null,
            "left": null
          }
        },
        "42303eebd89c431a8604ab2dc7c32e55": {
          "model_module": "@jupyter-widgets/controls",
          "model_name": "DescriptionStyleModel",
          "state": {
            "_view_name": "StyleView",
            "_model_name": "DescriptionStyleModel",
            "description_width": "",
            "_view_module": "@jupyter-widgets/base",
            "_model_module_version": "1.5.0",
            "_view_count": null,
            "_view_module_version": "1.2.0",
            "_model_module": "@jupyter-widgets/controls"
          }
        },
        "fa8d930379a94c09a04b3bade8edc286": {
          "model_module": "@jupyter-widgets/base",
          "model_name": "LayoutModel",
          "state": {
            "_view_name": "LayoutView",
            "grid_template_rows": null,
            "right": null,
            "justify_content": null,
            "_view_module": "@jupyter-widgets/base",
            "overflow": null,
            "_model_module_version": "1.2.0",
            "_view_count": null,
            "flex_flow": null,
            "width": null,
            "min_width": null,
            "border": null,
            "align_items": null,
            "bottom": null,
            "_model_module": "@jupyter-widgets/base",
            "top": null,
            "grid_column": null,
            "overflow_y": null,
            "overflow_x": null,
            "grid_auto_flow": null,
            "grid_area": null,
            "grid_template_columns": null,
            "flex": null,
            "_model_name": "LayoutModel",
            "justify_items": null,
            "grid_row": null,
            "max_height": null,
            "align_content": null,
            "visibility": null,
            "align_self": null,
            "height": null,
            "min_height": null,
            "padding": null,
            "grid_auto_rows": null,
            "grid_gap": null,
            "max_width": null,
            "order": null,
            "_view_module_version": "1.2.0",
            "grid_template_areas": null,
            "object_position": null,
            "object_fit": null,
            "grid_auto_columns": null,
            "margin": null,
            "display": null,
            "left": null
          }
        },
        "724c86b8fb7545dbb99fb4fbab2db9a9": {
          "model_module": "@jupyter-widgets/controls",
          "model_name": "HBoxModel",
          "state": {
            "_view_name": "HBoxView",
            "_dom_classes": [],
            "_model_name": "HBoxModel",
            "_view_module": "@jupyter-widgets/controls",
            "_model_module_version": "1.5.0",
            "_view_count": null,
            "_view_module_version": "1.5.0",
            "box_style": "",
            "layout": "IPY_MODEL_f8ab4329ff454830a61f7512d26a11de",
            "_model_module": "@jupyter-widgets/controls",
            "children": [
              "IPY_MODEL_9b33932ff85840aca94bd1dc281a75cc",
              "IPY_MODEL_b1e3b5fac5b7494b94cd0f255325f590"
            ]
          }
        },
        "f8ab4329ff454830a61f7512d26a11de": {
          "model_module": "@jupyter-widgets/base",
          "model_name": "LayoutModel",
          "state": {
            "_view_name": "LayoutView",
            "grid_template_rows": null,
            "right": null,
            "justify_content": null,
            "_view_module": "@jupyter-widgets/base",
            "overflow": null,
            "_model_module_version": "1.2.0",
            "_view_count": null,
            "flex_flow": null,
            "width": null,
            "min_width": null,
            "border": null,
            "align_items": null,
            "bottom": null,
            "_model_module": "@jupyter-widgets/base",
            "top": null,
            "grid_column": null,
            "overflow_y": null,
            "overflow_x": null,
            "grid_auto_flow": null,
            "grid_area": null,
            "grid_template_columns": null,
            "flex": null,
            "_model_name": "LayoutModel",
            "justify_items": null,
            "grid_row": null,
            "max_height": null,
            "align_content": null,
            "visibility": null,
            "align_self": null,
            "height": null,
            "min_height": null,
            "padding": null,
            "grid_auto_rows": null,
            "grid_gap": null,
            "max_width": null,
            "order": null,
            "_view_module_version": "1.2.0",
            "grid_template_areas": null,
            "object_position": null,
            "object_fit": null,
            "grid_auto_columns": null,
            "margin": null,
            "display": null,
            "left": null
          }
        },
        "9b33932ff85840aca94bd1dc281a75cc": {
          "model_module": "@jupyter-widgets/controls",
          "model_name": "FloatProgressModel",
          "state": {
            "_view_name": "ProgressView",
            "style": "IPY_MODEL_3a46fdd5956b4d2894e8a66db58d05aa",
            "_dom_classes": [],
            "description": "Downloading: 100%",
            "_model_name": "FloatProgressModel",
            "bar_style": "success",
            "max": 654226731,
            "_view_module": "@jupyter-widgets/controls",
            "_model_module_version": "1.5.0",
            "value": 654226731,
            "_view_count": null,
            "_view_module_version": "1.5.0",
            "orientation": "horizontal",
            "min": 0,
            "description_tooltip": null,
            "_model_module": "@jupyter-widgets/controls",
            "layout": "IPY_MODEL_e5461e7b7a7a4439a56200d7bebe0b67"
          }
        },
        "b1e3b5fac5b7494b94cd0f255325f590": {
          "model_module": "@jupyter-widgets/controls",
          "model_name": "HTMLModel",
          "state": {
            "_view_name": "HTMLView",
            "style": "IPY_MODEL_3364273d91cd441a90d7c9ac5374b69c",
            "_dom_classes": [],
            "description": "",
            "_model_name": "HTMLModel",
            "placeholder": "​",
            "_view_module": "@jupyter-widgets/controls",
            "_model_module_version": "1.5.0",
            "value": " 654M/654M [00:16&lt;00:00, 39.8MB/s]",
            "_view_count": null,
            "_view_module_version": "1.5.0",
            "description_tooltip": null,
            "_model_module": "@jupyter-widgets/controls",
            "layout": "IPY_MODEL_25e8bf06b5ae4507a333f6cd300acb30"
          }
        },
        "3a46fdd5956b4d2894e8a66db58d05aa": {
          "model_module": "@jupyter-widgets/controls",
          "model_name": "ProgressStyleModel",
          "state": {
            "_view_name": "StyleView",
            "_model_name": "ProgressStyleModel",
            "description_width": "initial",
            "_view_module": "@jupyter-widgets/base",
            "_model_module_version": "1.5.0",
            "_view_count": null,
            "_view_module_version": "1.2.0",
            "bar_color": null,
            "_model_module": "@jupyter-widgets/controls"
          }
        },
        "e5461e7b7a7a4439a56200d7bebe0b67": {
          "model_module": "@jupyter-widgets/base",
          "model_name": "LayoutModel",
          "state": {
            "_view_name": "LayoutView",
            "grid_template_rows": null,
            "right": null,
            "justify_content": null,
            "_view_module": "@jupyter-widgets/base",
            "overflow": null,
            "_model_module_version": "1.2.0",
            "_view_count": null,
            "flex_flow": null,
            "width": null,
            "min_width": null,
            "border": null,
            "align_items": null,
            "bottom": null,
            "_model_module": "@jupyter-widgets/base",
            "top": null,
            "grid_column": null,
            "overflow_y": null,
            "overflow_x": null,
            "grid_auto_flow": null,
            "grid_area": null,
            "grid_template_columns": null,
            "flex": null,
            "_model_name": "LayoutModel",
            "justify_items": null,
            "grid_row": null,
            "max_height": null,
            "align_content": null,
            "visibility": null,
            "align_self": null,
            "height": null,
            "min_height": null,
            "padding": null,
            "grid_auto_rows": null,
            "grid_gap": null,
            "max_width": null,
            "order": null,
            "_view_module_version": "1.2.0",
            "grid_template_areas": null,
            "object_position": null,
            "object_fit": null,
            "grid_auto_columns": null,
            "margin": null,
            "display": null,
            "left": null
          }
        },
        "3364273d91cd441a90d7c9ac5374b69c": {
          "model_module": "@jupyter-widgets/controls",
          "model_name": "DescriptionStyleModel",
          "state": {
            "_view_name": "StyleView",
            "_model_name": "DescriptionStyleModel",
            "description_width": "",
            "_view_module": "@jupyter-widgets/base",
            "_model_module_version": "1.5.0",
            "_view_count": null,
            "_view_module_version": "1.2.0",
            "_model_module": "@jupyter-widgets/controls"
          }
        },
        "25e8bf06b5ae4507a333f6cd300acb30": {
          "model_module": "@jupyter-widgets/base",
          "model_name": "LayoutModel",
          "state": {
            "_view_name": "LayoutView",
            "grid_template_rows": null,
            "right": null,
            "justify_content": null,
            "_view_module": "@jupyter-widgets/base",
            "overflow": null,
            "_model_module_version": "1.2.0",
            "_view_count": null,
            "flex_flow": null,
            "width": null,
            "min_width": null,
            "border": null,
            "align_items": null,
            "bottom": null,
            "_model_module": "@jupyter-widgets/base",
            "top": null,
            "grid_column": null,
            "overflow_y": null,
            "overflow_x": null,
            "grid_auto_flow": null,
            "grid_area": null,
            "grid_template_columns": null,
            "flex": null,
            "_model_name": "LayoutModel",
            "justify_items": null,
            "grid_row": null,
            "max_height": null,
            "align_content": null,
            "visibility": null,
            "align_self": null,
            "height": null,
            "min_height": null,
            "padding": null,
            "grid_auto_rows": null,
            "grid_gap": null,
            "max_width": null,
            "order": null,
            "_view_module_version": "1.2.0",
            "grid_template_areas": null,
            "object_position": null,
            "object_fit": null,
            "grid_auto_columns": null,
            "margin": null,
            "display": null,
            "left": null
          }
        },
        "9911f9945256497fbe9e6e39c354c496": {
          "model_module": "@jupyter-widgets/controls",
          "model_name": "HBoxModel",
          "state": {
            "_view_name": "HBoxView",
            "_dom_classes": [],
            "_model_name": "HBoxModel",
            "_view_module": "@jupyter-widgets/controls",
            "_model_module_version": "1.5.0",
            "_view_count": null,
            "_view_module_version": "1.5.0",
            "box_style": "",
            "layout": "IPY_MODEL_5354408cd4d745bc8c0f195f7e03f948",
            "_model_module": "@jupyter-widgets/controls",
            "children": [
              "IPY_MODEL_ca9910b0ff7846a98efa1f2464761a04",
              "IPY_MODEL_d42f5309054a438cb15038340ffc8271"
            ]
          }
        },
        "5354408cd4d745bc8c0f195f7e03f948": {
          "model_module": "@jupyter-widgets/base",
          "model_name": "LayoutModel",
          "state": {
            "_view_name": "LayoutView",
            "grid_template_rows": null,
            "right": null,
            "justify_content": null,
            "_view_module": "@jupyter-widgets/base",
            "overflow": null,
            "_model_module_version": "1.2.0",
            "_view_count": null,
            "flex_flow": null,
            "width": null,
            "min_width": null,
            "border": null,
            "align_items": null,
            "bottom": null,
            "_model_module": "@jupyter-widgets/base",
            "top": null,
            "grid_column": null,
            "overflow_y": null,
            "overflow_x": null,
            "grid_auto_flow": null,
            "grid_area": null,
            "grid_template_columns": null,
            "flex": null,
            "_model_name": "LayoutModel",
            "justify_items": null,
            "grid_row": null,
            "max_height": null,
            "align_content": null,
            "visibility": null,
            "align_self": null,
            "height": null,
            "min_height": null,
            "padding": null,
            "grid_auto_rows": null,
            "grid_gap": null,
            "max_width": null,
            "order": null,
            "_view_module_version": "1.2.0",
            "grid_template_areas": null,
            "object_position": null,
            "object_fit": null,
            "grid_auto_columns": null,
            "margin": null,
            "display": null,
            "left": null
          }
        },
        "ca9910b0ff7846a98efa1f2464761a04": {
          "model_module": "@jupyter-widgets/controls",
          "model_name": "FloatProgressModel",
          "state": {
            "_view_name": "ProgressView",
            "style": "IPY_MODEL_9b18717bc83c4c9f96dee4a48ff2f1ac",
            "_dom_classes": [],
            "description": "Epochs... : 100%",
            "_model_name": "FloatProgressModel",
            "bar_style": "success",
            "max": 5,
            "_view_module": "@jupyter-widgets/controls",
            "_model_module_version": "1.5.0",
            "value": 5,
            "_view_count": null,
            "_view_module_version": "1.5.0",
            "orientation": "horizontal",
            "min": 0,
            "description_tooltip": null,
            "_model_module": "@jupyter-widgets/controls",
            "layout": "IPY_MODEL_00a0e329c5af4aee9e08f325ead21351"
          }
        },
        "d42f5309054a438cb15038340ffc8271": {
          "model_module": "@jupyter-widgets/controls",
          "model_name": "HTMLModel",
          "state": {
            "_view_name": "HTMLView",
            "style": "IPY_MODEL_0b613b9fee49451d92f21fa388c94106",
            "_dom_classes": [],
            "description": "",
            "_model_name": "HTMLModel",
            "placeholder": "​",
            "_view_module": "@jupyter-widgets/controls",
            "_model_module_version": "1.5.0",
            "value": " 5/5 [09:14&lt;00:00, 110.82s/it]",
            "_view_count": null,
            "_view_module_version": "1.5.0",
            "description_tooltip": null,
            "_model_module": "@jupyter-widgets/controls",
            "layout": "IPY_MODEL_98cd8f873b4a4256aaed51056d19375e"
          }
        },
        "9b18717bc83c4c9f96dee4a48ff2f1ac": {
          "model_module": "@jupyter-widgets/controls",
          "model_name": "ProgressStyleModel",
          "state": {
            "_view_name": "StyleView",
            "_model_name": "ProgressStyleModel",
            "description_width": "initial",
            "_view_module": "@jupyter-widgets/base",
            "_model_module_version": "1.5.0",
            "_view_count": null,
            "_view_module_version": "1.2.0",
            "bar_color": null,
            "_model_module": "@jupyter-widgets/controls"
          }
        },
        "00a0e329c5af4aee9e08f325ead21351": {
          "model_module": "@jupyter-widgets/base",
          "model_name": "LayoutModel",
          "state": {
            "_view_name": "LayoutView",
            "grid_template_rows": null,
            "right": null,
            "justify_content": null,
            "_view_module": "@jupyter-widgets/base",
            "overflow": null,
            "_model_module_version": "1.2.0",
            "_view_count": null,
            "flex_flow": null,
            "width": null,
            "min_width": null,
            "border": null,
            "align_items": null,
            "bottom": null,
            "_model_module": "@jupyter-widgets/base",
            "top": null,
            "grid_column": null,
            "overflow_y": null,
            "overflow_x": null,
            "grid_auto_flow": null,
            "grid_area": null,
            "grid_template_columns": null,
            "flex": null,
            "_model_name": "LayoutModel",
            "justify_items": null,
            "grid_row": null,
            "max_height": null,
            "align_content": null,
            "visibility": null,
            "align_self": null,
            "height": null,
            "min_height": null,
            "padding": null,
            "grid_auto_rows": null,
            "grid_gap": null,
            "max_width": null,
            "order": null,
            "_view_module_version": "1.2.0",
            "grid_template_areas": null,
            "object_position": null,
            "object_fit": null,
            "grid_auto_columns": null,
            "margin": null,
            "display": null,
            "left": null
          }
        },
        "0b613b9fee49451d92f21fa388c94106": {
          "model_module": "@jupyter-widgets/controls",
          "model_name": "DescriptionStyleModel",
          "state": {
            "_view_name": "StyleView",
            "_model_name": "DescriptionStyleModel",
            "description_width": "",
            "_view_module": "@jupyter-widgets/base",
            "_model_module_version": "1.5.0",
            "_view_count": null,
            "_view_module_version": "1.2.0",
            "_model_module": "@jupyter-widgets/controls"
          }
        },
        "98cd8f873b4a4256aaed51056d19375e": {
          "model_module": "@jupyter-widgets/base",
          "model_name": "LayoutModel",
          "state": {
            "_view_name": "LayoutView",
            "grid_template_rows": null,
            "right": null,
            "justify_content": null,
            "_view_module": "@jupyter-widgets/base",
            "overflow": null,
            "_model_module_version": "1.2.0",
            "_view_count": null,
            "flex_flow": null,
            "width": null,
            "min_width": null,
            "border": null,
            "align_items": null,
            "bottom": null,
            "_model_module": "@jupyter-widgets/base",
            "top": null,
            "grid_column": null,
            "overflow_y": null,
            "overflow_x": null,
            "grid_auto_flow": null,
            "grid_area": null,
            "grid_template_columns": null,
            "flex": null,
            "_model_name": "LayoutModel",
            "justify_items": null,
            "grid_row": null,
            "max_height": null,
            "align_content": null,
            "visibility": null,
            "align_self": null,
            "height": null,
            "min_height": null,
            "padding": null,
            "grid_auto_rows": null,
            "grid_gap": null,
            "max_width": null,
            "order": null,
            "_view_module_version": "1.2.0",
            "grid_template_areas": null,
            "object_position": null,
            "object_fit": null,
            "grid_auto_columns": null,
            "margin": null,
            "display": null,
            "left": null
          }
        },
        "222aa98d1f5c44e8b029f37635d1bd77": {
          "model_module": "@jupyter-widgets/controls",
          "model_name": "HBoxModel",
          "state": {
            "_view_name": "HBoxView",
            "_dom_classes": [],
            "_model_name": "HBoxModel",
            "_view_module": "@jupyter-widgets/controls",
            "_model_module_version": "1.5.0",
            "_view_count": null,
            "_view_module_version": "1.5.0",
            "box_style": "",
            "layout": "IPY_MODEL_0e5d357027044ec580b1f8a102688171",
            "_model_module": "@jupyter-widgets/controls",
            "children": [
              "IPY_MODEL_c40e16ddb8a840b4803080be6bac1b36",
              "IPY_MODEL_c2e4cf02cafe4f9e9789b2067485d2d8"
            ]
          }
        },
        "0e5d357027044ec580b1f8a102688171": {
          "model_module": "@jupyter-widgets/base",
          "model_name": "LayoutModel",
          "state": {
            "_view_name": "LayoutView",
            "grid_template_rows": null,
            "right": null,
            "justify_content": null,
            "_view_module": "@jupyter-widgets/base",
            "overflow": null,
            "_model_module_version": "1.2.0",
            "_view_count": null,
            "flex_flow": null,
            "width": null,
            "min_width": null,
            "border": null,
            "align_items": null,
            "bottom": null,
            "_model_module": "@jupyter-widgets/base",
            "top": null,
            "grid_column": null,
            "overflow_y": null,
            "overflow_x": null,
            "grid_auto_flow": null,
            "grid_area": null,
            "grid_template_columns": null,
            "flex": null,
            "_model_name": "LayoutModel",
            "justify_items": null,
            "grid_row": null,
            "max_height": null,
            "align_content": null,
            "visibility": null,
            "align_self": null,
            "height": null,
            "min_height": null,
            "padding": null,
            "grid_auto_rows": null,
            "grid_gap": null,
            "max_width": null,
            "order": null,
            "_view_module_version": "1.2.0",
            "grid_template_areas": null,
            "object_position": null,
            "object_fit": null,
            "grid_auto_columns": null,
            "margin": null,
            "display": null,
            "left": null
          }
        },
        "c40e16ddb8a840b4803080be6bac1b36": {
          "model_module": "@jupyter-widgets/controls",
          "model_name": "FloatProgressModel",
          "state": {
            "_view_name": "ProgressView",
            "style": "IPY_MODEL_0f2196411cc24590ab0160ba9f26fb11",
            "_dom_classes": [],
            "description": "Training... : 100%",
            "_model_name": "FloatProgressModel",
            "bar_style": "success",
            "max": 209,
            "_view_module": "@jupyter-widgets/controls",
            "_model_module_version": "1.5.0",
            "value": 209,
            "_view_count": null,
            "_view_module_version": "1.5.0",
            "orientation": "horizontal",
            "min": 0,
            "description_tooltip": null,
            "_model_module": "@jupyter-widgets/controls",
            "layout": "IPY_MODEL_01d95c3f5e1b45d0a79b799f28c8c32b"
          }
        },
        "c2e4cf02cafe4f9e9789b2067485d2d8": {
          "model_module": "@jupyter-widgets/controls",
          "model_name": "HTMLModel",
          "state": {
            "_view_name": "HTMLView",
            "style": "IPY_MODEL_ffd932c5a5e14e74a1dd8dabc3e6d170",
            "_dom_classes": [],
            "description": "",
            "_model_name": "HTMLModel",
            "placeholder": "​",
            "_view_module": "@jupyter-widgets/controls",
            "_model_module_version": "1.5.0",
            "value": " 209/209 [09:14&lt;00:00,  2.65s/it]",
            "_view_count": null,
            "_view_module_version": "1.5.0",
            "description_tooltip": null,
            "_model_module": "@jupyter-widgets/controls",
            "layout": "IPY_MODEL_e1ddc01ba76b49a6a0ae581d92df5c52"
          }
        },
        "0f2196411cc24590ab0160ba9f26fb11": {
          "model_module": "@jupyter-widgets/controls",
          "model_name": "ProgressStyleModel",
          "state": {
            "_view_name": "StyleView",
            "_model_name": "ProgressStyleModel",
            "description_width": "initial",
            "_view_module": "@jupyter-widgets/base",
            "_model_module_version": "1.5.0",
            "_view_count": null,
            "_view_module_version": "1.2.0",
            "bar_color": null,
            "_model_module": "@jupyter-widgets/controls"
          }
        },
        "01d95c3f5e1b45d0a79b799f28c8c32b": {
          "model_module": "@jupyter-widgets/base",
          "model_name": "LayoutModel",
          "state": {
            "_view_name": "LayoutView",
            "grid_template_rows": null,
            "right": null,
            "justify_content": null,
            "_view_module": "@jupyter-widgets/base",
            "overflow": null,
            "_model_module_version": "1.2.0",
            "_view_count": null,
            "flex_flow": null,
            "width": null,
            "min_width": null,
            "border": null,
            "align_items": null,
            "bottom": null,
            "_model_module": "@jupyter-widgets/base",
            "top": null,
            "grid_column": null,
            "overflow_y": null,
            "overflow_x": null,
            "grid_auto_flow": null,
            "grid_area": null,
            "grid_template_columns": null,
            "flex": null,
            "_model_name": "LayoutModel",
            "justify_items": null,
            "grid_row": null,
            "max_height": null,
            "align_content": null,
            "visibility": null,
            "align_self": null,
            "height": null,
            "min_height": null,
            "padding": null,
            "grid_auto_rows": null,
            "grid_gap": null,
            "max_width": null,
            "order": null,
            "_view_module_version": "1.2.0",
            "grid_template_areas": null,
            "object_position": null,
            "object_fit": null,
            "grid_auto_columns": null,
            "margin": null,
            "display": null,
            "left": null
          }
        },
        "ffd932c5a5e14e74a1dd8dabc3e6d170": {
          "model_module": "@jupyter-widgets/controls",
          "model_name": "DescriptionStyleModel",
          "state": {
            "_view_name": "StyleView",
            "_model_name": "DescriptionStyleModel",
            "description_width": "",
            "_view_module": "@jupyter-widgets/base",
            "_model_module_version": "1.5.0",
            "_view_count": null,
            "_view_module_version": "1.2.0",
            "_model_module": "@jupyter-widgets/controls"
          }
        },
        "e1ddc01ba76b49a6a0ae581d92df5c52": {
          "model_module": "@jupyter-widgets/base",
          "model_name": "LayoutModel",
          "state": {
            "_view_name": "LayoutView",
            "grid_template_rows": null,
            "right": null,
            "justify_content": null,
            "_view_module": "@jupyter-widgets/base",
            "overflow": null,
            "_model_module_version": "1.2.0",
            "_view_count": null,
            "flex_flow": null,
            "width": null,
            "min_width": null,
            "border": null,
            "align_items": null,
            "bottom": null,
            "_model_module": "@jupyter-widgets/base",
            "top": null,
            "grid_column": null,
            "overflow_y": null,
            "overflow_x": null,
            "grid_auto_flow": null,
            "grid_area": null,
            "grid_template_columns": null,
            "flex": null,
            "_model_name": "LayoutModel",
            "justify_items": null,
            "grid_row": null,
            "max_height": null,
            "align_content": null,
            "visibility": null,
            "align_self": null,
            "height": null,
            "min_height": null,
            "padding": null,
            "grid_auto_rows": null,
            "grid_gap": null,
            "max_width": null,
            "order": null,
            "_view_module_version": "1.2.0",
            "grid_template_areas": null,
            "object_position": null,
            "object_fit": null,
            "grid_auto_columns": null,
            "margin": null,
            "display": null,
            "left": null
          }
        },
        "5a4eb91e03a6431ba7ac8c0e1c036516": {
          "model_module": "@jupyter-widgets/controls",
          "model_name": "HBoxModel",
          "state": {
            "_view_name": "HBoxView",
            "_dom_classes": [],
            "_model_name": "HBoxModel",
            "_view_module": "@jupyter-widgets/controls",
            "_model_module_version": "1.5.0",
            "_view_count": null,
            "_view_module_version": "1.5.0",
            "box_style": "",
            "layout": "IPY_MODEL_697c1f02180e4318b9bbfaa4100f644c",
            "_model_module": "@jupyter-widgets/controls",
            "children": [
              "IPY_MODEL_b838e86c51c24555bd9a92b7cb3c4e59",
              "IPY_MODEL_63dfd3a8891f4d23ac3fc3b2485f5f91"
            ]
          }
        },
        "697c1f02180e4318b9bbfaa4100f644c": {
          "model_module": "@jupyter-widgets/base",
          "model_name": "LayoutModel",
          "state": {
            "_view_name": "LayoutView",
            "grid_template_rows": null,
            "right": null,
            "justify_content": null,
            "_view_module": "@jupyter-widgets/base",
            "overflow": null,
            "_model_module_version": "1.2.0",
            "_view_count": null,
            "flex_flow": null,
            "width": null,
            "min_width": null,
            "border": null,
            "align_items": null,
            "bottom": null,
            "_model_module": "@jupyter-widgets/base",
            "top": null,
            "grid_column": null,
            "overflow_y": null,
            "overflow_x": null,
            "grid_auto_flow": null,
            "grid_area": null,
            "grid_template_columns": null,
            "flex": null,
            "_model_name": "LayoutModel",
            "justify_items": null,
            "grid_row": null,
            "max_height": null,
            "align_content": null,
            "visibility": null,
            "align_self": null,
            "height": null,
            "min_height": null,
            "padding": null,
            "grid_auto_rows": null,
            "grid_gap": null,
            "max_width": null,
            "order": null,
            "_view_module_version": "1.2.0",
            "grid_template_areas": null,
            "object_position": null,
            "object_fit": null,
            "grid_auto_columns": null,
            "margin": null,
            "display": null,
            "left": null
          }
        },
        "b838e86c51c24555bd9a92b7cb3c4e59": {
          "model_module": "@jupyter-widgets/controls",
          "model_name": "FloatProgressModel",
          "state": {
            "_view_name": "ProgressView",
            "style": "IPY_MODEL_489c5f1df2414b10ad396e91ce97402e",
            "_dom_classes": [],
            "description": "Evaluation... : 100%",
            "_model_name": "FloatProgressModel",
            "bar_style": "success",
            "max": 24,
            "_view_module": "@jupyter-widgets/controls",
            "_model_module_version": "1.5.0",
            "value": 24,
            "_view_count": null,
            "_view_module_version": "1.5.0",
            "orientation": "horizontal",
            "min": 0,
            "description_tooltip": null,
            "_model_module": "@jupyter-widgets/controls",
            "layout": "IPY_MODEL_20d250471e804f76b25f511f3fd813df"
          }
        },
        "63dfd3a8891f4d23ac3fc3b2485f5f91": {
          "model_module": "@jupyter-widgets/controls",
          "model_name": "HTMLModel",
          "state": {
            "_view_name": "HTMLView",
            "style": "IPY_MODEL_aa47a62ff35946fa9d19b57e4ab6b42a",
            "_dom_classes": [],
            "description": "",
            "_model_name": "HTMLModel",
            "placeholder": "​",
            "_view_module": "@jupyter-widgets/controls",
            "_model_module_version": "1.5.0",
            "value": " 24/24 [01:05&lt;00:00,  2.73s/it]",
            "_view_count": null,
            "_view_module_version": "1.5.0",
            "description_tooltip": null,
            "_model_module": "@jupyter-widgets/controls",
            "layout": "IPY_MODEL_c600354258b0475d976518e1425cdd21"
          }
        },
        "489c5f1df2414b10ad396e91ce97402e": {
          "model_module": "@jupyter-widgets/controls",
          "model_name": "ProgressStyleModel",
          "state": {
            "_view_name": "StyleView",
            "_model_name": "ProgressStyleModel",
            "description_width": "initial",
            "_view_module": "@jupyter-widgets/base",
            "_model_module_version": "1.5.0",
            "_view_count": null,
            "_view_module_version": "1.2.0",
            "bar_color": null,
            "_model_module": "@jupyter-widgets/controls"
          }
        },
        "20d250471e804f76b25f511f3fd813df": {
          "model_module": "@jupyter-widgets/base",
          "model_name": "LayoutModel",
          "state": {
            "_view_name": "LayoutView",
            "grid_template_rows": null,
            "right": null,
            "justify_content": null,
            "_view_module": "@jupyter-widgets/base",
            "overflow": null,
            "_model_module_version": "1.2.0",
            "_view_count": null,
            "flex_flow": null,
            "width": null,
            "min_width": null,
            "border": null,
            "align_items": null,
            "bottom": null,
            "_model_module": "@jupyter-widgets/base",
            "top": null,
            "grid_column": null,
            "overflow_y": null,
            "overflow_x": null,
            "grid_auto_flow": null,
            "grid_area": null,
            "grid_template_columns": null,
            "flex": null,
            "_model_name": "LayoutModel",
            "justify_items": null,
            "grid_row": null,
            "max_height": null,
            "align_content": null,
            "visibility": null,
            "align_self": null,
            "height": null,
            "min_height": null,
            "padding": null,
            "grid_auto_rows": null,
            "grid_gap": null,
            "max_width": null,
            "order": null,
            "_view_module_version": "1.2.0",
            "grid_template_areas": null,
            "object_position": null,
            "object_fit": null,
            "grid_auto_columns": null,
            "margin": null,
            "display": null,
            "left": null
          }
        },
        "aa47a62ff35946fa9d19b57e4ab6b42a": {
          "model_module": "@jupyter-widgets/controls",
          "model_name": "DescriptionStyleModel",
          "state": {
            "_view_name": "StyleView",
            "_model_name": "DescriptionStyleModel",
            "description_width": "",
            "_view_module": "@jupyter-widgets/base",
            "_model_module_version": "1.5.0",
            "_view_count": null,
            "_view_module_version": "1.2.0",
            "_model_module": "@jupyter-widgets/controls"
          }
        },
        "c600354258b0475d976518e1425cdd21": {
          "model_module": "@jupyter-widgets/base",
          "model_name": "LayoutModel",
          "state": {
            "_view_name": "LayoutView",
            "grid_template_rows": null,
            "right": null,
            "justify_content": null,
            "_view_module": "@jupyter-widgets/base",
            "overflow": null,
            "_model_module_version": "1.2.0",
            "_view_count": null,
            "flex_flow": null,
            "width": null,
            "min_width": null,
            "border": null,
            "align_items": null,
            "bottom": null,
            "_model_module": "@jupyter-widgets/base",
            "top": null,
            "grid_column": null,
            "overflow_y": null,
            "overflow_x": null,
            "grid_auto_flow": null,
            "grid_area": null,
            "grid_template_columns": null,
            "flex": null,
            "_model_name": "LayoutModel",
            "justify_items": null,
            "grid_row": null,
            "max_height": null,
            "align_content": null,
            "visibility": null,
            "align_self": null,
            "height": null,
            "min_height": null,
            "padding": null,
            "grid_auto_rows": null,
            "grid_gap": null,
            "max_width": null,
            "order": null,
            "_view_module_version": "1.2.0",
            "grid_template_areas": null,
            "object_position": null,
            "object_fit": null,
            "grid_auto_columns": null,
            "margin": null,
            "display": null,
            "left": null
          }
        },
        "c013ed50c72c49ceb2c8c6e8994b4a62": {
          "model_module": "@jupyter-widgets/controls",
          "model_name": "HBoxModel",
          "state": {
            "_view_name": "HBoxView",
            "_dom_classes": [],
            "_model_name": "HBoxModel",
            "_view_module": "@jupyter-widgets/controls",
            "_model_module_version": "1.5.0",
            "_view_count": null,
            "_view_module_version": "1.5.0",
            "box_style": "",
            "layout": "IPY_MODEL_ee9c99bcd7aa4956afb9b10381ac7d54",
            "_model_module": "@jupyter-widgets/controls",
            "children": [
              "IPY_MODEL_6a8a09072c78410898250e8cce1c027a",
              "IPY_MODEL_07653d6904fb4d3baa5954e109be117a"
            ]
          }
        },
        "ee9c99bcd7aa4956afb9b10381ac7d54": {
          "model_module": "@jupyter-widgets/base",
          "model_name": "LayoutModel",
          "state": {
            "_view_name": "LayoutView",
            "grid_template_rows": null,
            "right": null,
            "justify_content": null,
            "_view_module": "@jupyter-widgets/base",
            "overflow": null,
            "_model_module_version": "1.2.0",
            "_view_count": null,
            "flex_flow": null,
            "width": null,
            "min_width": null,
            "border": null,
            "align_items": null,
            "bottom": null,
            "_model_module": "@jupyter-widgets/base",
            "top": null,
            "grid_column": null,
            "overflow_y": null,
            "overflow_x": null,
            "grid_auto_flow": null,
            "grid_area": null,
            "grid_template_columns": null,
            "flex": null,
            "_model_name": "LayoutModel",
            "justify_items": null,
            "grid_row": null,
            "max_height": null,
            "align_content": null,
            "visibility": null,
            "align_self": null,
            "height": null,
            "min_height": null,
            "padding": null,
            "grid_auto_rows": null,
            "grid_gap": null,
            "max_width": null,
            "order": null,
            "_view_module_version": "1.2.0",
            "grid_template_areas": null,
            "object_position": null,
            "object_fit": null,
            "grid_auto_columns": null,
            "margin": null,
            "display": null,
            "left": null
          }
        },
        "6a8a09072c78410898250e8cce1c027a": {
          "model_module": "@jupyter-widgets/controls",
          "model_name": "FloatProgressModel",
          "state": {
            "_view_name": "ProgressView",
            "style": "IPY_MODEL_4a92288542784e2491010fa9ec1814a0",
            "_dom_classes": [],
            "description": "Training... : 100%",
            "_model_name": "FloatProgressModel",
            "bar_style": "success",
            "max": 209,
            "_view_module": "@jupyter-widgets/controls",
            "_model_module_version": "1.5.0",
            "value": 209,
            "_view_count": null,
            "_view_module_version": "1.5.0",
            "orientation": "horizontal",
            "min": 0,
            "description_tooltip": null,
            "_model_module": "@jupyter-widgets/controls",
            "layout": "IPY_MODEL_68ef481ef2dd4fccb2ac61e5b352a8e8"
          }
        },
        "07653d6904fb4d3baa5954e109be117a": {
          "model_module": "@jupyter-widgets/controls",
          "model_name": "HTMLModel",
          "state": {
            "_view_name": "HTMLView",
            "style": "IPY_MODEL_279513442686420daf01582170c08e56",
            "_dom_classes": [],
            "description": "",
            "_model_name": "HTMLModel",
            "placeholder": "​",
            "_view_module": "@jupyter-widgets/controls",
            "_model_module_version": "1.5.0",
            "value": " 209/209 [07:43&lt;00:00,  2.22s/it]",
            "_view_count": null,
            "_view_module_version": "1.5.0",
            "description_tooltip": null,
            "_model_module": "@jupyter-widgets/controls",
            "layout": "IPY_MODEL_be29159fc64945ab99fa08808da3bd10"
          }
        },
        "4a92288542784e2491010fa9ec1814a0": {
          "model_module": "@jupyter-widgets/controls",
          "model_name": "ProgressStyleModel",
          "state": {
            "_view_name": "StyleView",
            "_model_name": "ProgressStyleModel",
            "description_width": "initial",
            "_view_module": "@jupyter-widgets/base",
            "_model_module_version": "1.5.0",
            "_view_count": null,
            "_view_module_version": "1.2.0",
            "bar_color": null,
            "_model_module": "@jupyter-widgets/controls"
          }
        },
        "68ef481ef2dd4fccb2ac61e5b352a8e8": {
          "model_module": "@jupyter-widgets/base",
          "model_name": "LayoutModel",
          "state": {
            "_view_name": "LayoutView",
            "grid_template_rows": null,
            "right": null,
            "justify_content": null,
            "_view_module": "@jupyter-widgets/base",
            "overflow": null,
            "_model_module_version": "1.2.0",
            "_view_count": null,
            "flex_flow": null,
            "width": null,
            "min_width": null,
            "border": null,
            "align_items": null,
            "bottom": null,
            "_model_module": "@jupyter-widgets/base",
            "top": null,
            "grid_column": null,
            "overflow_y": null,
            "overflow_x": null,
            "grid_auto_flow": null,
            "grid_area": null,
            "grid_template_columns": null,
            "flex": null,
            "_model_name": "LayoutModel",
            "justify_items": null,
            "grid_row": null,
            "max_height": null,
            "align_content": null,
            "visibility": null,
            "align_self": null,
            "height": null,
            "min_height": null,
            "padding": null,
            "grid_auto_rows": null,
            "grid_gap": null,
            "max_width": null,
            "order": null,
            "_view_module_version": "1.2.0",
            "grid_template_areas": null,
            "object_position": null,
            "object_fit": null,
            "grid_auto_columns": null,
            "margin": null,
            "display": null,
            "left": null
          }
        },
        "279513442686420daf01582170c08e56": {
          "model_module": "@jupyter-widgets/controls",
          "model_name": "DescriptionStyleModel",
          "state": {
            "_view_name": "StyleView",
            "_model_name": "DescriptionStyleModel",
            "description_width": "",
            "_view_module": "@jupyter-widgets/base",
            "_model_module_version": "1.5.0",
            "_view_count": null,
            "_view_module_version": "1.2.0",
            "_model_module": "@jupyter-widgets/controls"
          }
        },
        "be29159fc64945ab99fa08808da3bd10": {
          "model_module": "@jupyter-widgets/base",
          "model_name": "LayoutModel",
          "state": {
            "_view_name": "LayoutView",
            "grid_template_rows": null,
            "right": null,
            "justify_content": null,
            "_view_module": "@jupyter-widgets/base",
            "overflow": null,
            "_model_module_version": "1.2.0",
            "_view_count": null,
            "flex_flow": null,
            "width": null,
            "min_width": null,
            "border": null,
            "align_items": null,
            "bottom": null,
            "_model_module": "@jupyter-widgets/base",
            "top": null,
            "grid_column": null,
            "overflow_y": null,
            "overflow_x": null,
            "grid_auto_flow": null,
            "grid_area": null,
            "grid_template_columns": null,
            "flex": null,
            "_model_name": "LayoutModel",
            "justify_items": null,
            "grid_row": null,
            "max_height": null,
            "align_content": null,
            "visibility": null,
            "align_self": null,
            "height": null,
            "min_height": null,
            "padding": null,
            "grid_auto_rows": null,
            "grid_gap": null,
            "max_width": null,
            "order": null,
            "_view_module_version": "1.2.0",
            "grid_template_areas": null,
            "object_position": null,
            "object_fit": null,
            "grid_auto_columns": null,
            "margin": null,
            "display": null,
            "left": null
          }
        },
        "42d167cceaab45b0bdf39c3500eedc13": {
          "model_module": "@jupyter-widgets/controls",
          "model_name": "HBoxModel",
          "state": {
            "_view_name": "HBoxView",
            "_dom_classes": [],
            "_model_name": "HBoxModel",
            "_view_module": "@jupyter-widgets/controls",
            "_model_module_version": "1.5.0",
            "_view_count": null,
            "_view_module_version": "1.5.0",
            "box_style": "",
            "layout": "IPY_MODEL_e35bc616f61d491bafbade1a4955e260",
            "_model_module": "@jupyter-widgets/controls",
            "children": [
              "IPY_MODEL_e42f82e448674082ad1a45e67552d9f4",
              "IPY_MODEL_23bab9ec0a5e452e96a8feac72d1fcd4"
            ]
          }
        },
        "e35bc616f61d491bafbade1a4955e260": {
          "model_module": "@jupyter-widgets/base",
          "model_name": "LayoutModel",
          "state": {
            "_view_name": "LayoutView",
            "grid_template_rows": null,
            "right": null,
            "justify_content": null,
            "_view_module": "@jupyter-widgets/base",
            "overflow": null,
            "_model_module_version": "1.2.0",
            "_view_count": null,
            "flex_flow": null,
            "width": null,
            "min_width": null,
            "border": null,
            "align_items": null,
            "bottom": null,
            "_model_module": "@jupyter-widgets/base",
            "top": null,
            "grid_column": null,
            "overflow_y": null,
            "overflow_x": null,
            "grid_auto_flow": null,
            "grid_area": null,
            "grid_template_columns": null,
            "flex": null,
            "_model_name": "LayoutModel",
            "justify_items": null,
            "grid_row": null,
            "max_height": null,
            "align_content": null,
            "visibility": null,
            "align_self": null,
            "height": null,
            "min_height": null,
            "padding": null,
            "grid_auto_rows": null,
            "grid_gap": null,
            "max_width": null,
            "order": null,
            "_view_module_version": "1.2.0",
            "grid_template_areas": null,
            "object_position": null,
            "object_fit": null,
            "grid_auto_columns": null,
            "margin": null,
            "display": null,
            "left": null
          }
        },
        "e42f82e448674082ad1a45e67552d9f4": {
          "model_module": "@jupyter-widgets/controls",
          "model_name": "FloatProgressModel",
          "state": {
            "_view_name": "ProgressView",
            "style": "IPY_MODEL_af2d3859da8b4142a4f18c72a95a6a5e",
            "_dom_classes": [],
            "description": "Evaluation... : 100%",
            "_model_name": "FloatProgressModel",
            "bar_style": "success",
            "max": 24,
            "_view_module": "@jupyter-widgets/controls",
            "_model_module_version": "1.5.0",
            "value": 24,
            "_view_count": null,
            "_view_module_version": "1.5.0",
            "orientation": "horizontal",
            "min": 0,
            "description_tooltip": null,
            "_model_module": "@jupyter-widgets/controls",
            "layout": "IPY_MODEL_fa854ee9ebcc42debed6824aa17cd0c4"
          }
        },
        "23bab9ec0a5e452e96a8feac72d1fcd4": {
          "model_module": "@jupyter-widgets/controls",
          "model_name": "HTMLModel",
          "state": {
            "_view_name": "HTMLView",
            "style": "IPY_MODEL_9fe47251abac43949695f1b46f2147f1",
            "_dom_classes": [],
            "description": "",
            "_model_name": "HTMLModel",
            "placeholder": "​",
            "_view_module": "@jupyter-widgets/controls",
            "_model_module_version": "1.5.0",
            "value": " 24/24 [00:46&lt;00:00,  1.92s/it]",
            "_view_count": null,
            "_view_module_version": "1.5.0",
            "description_tooltip": null,
            "_model_module": "@jupyter-widgets/controls",
            "layout": "IPY_MODEL_2bdfd3f67c754769b2f95bf409780e8d"
          }
        },
        "af2d3859da8b4142a4f18c72a95a6a5e": {
          "model_module": "@jupyter-widgets/controls",
          "model_name": "ProgressStyleModel",
          "state": {
            "_view_name": "StyleView",
            "_model_name": "ProgressStyleModel",
            "description_width": "initial",
            "_view_module": "@jupyter-widgets/base",
            "_model_module_version": "1.5.0",
            "_view_count": null,
            "_view_module_version": "1.2.0",
            "bar_color": null,
            "_model_module": "@jupyter-widgets/controls"
          }
        },
        "fa854ee9ebcc42debed6824aa17cd0c4": {
          "model_module": "@jupyter-widgets/base",
          "model_name": "LayoutModel",
          "state": {
            "_view_name": "LayoutView",
            "grid_template_rows": null,
            "right": null,
            "justify_content": null,
            "_view_module": "@jupyter-widgets/base",
            "overflow": null,
            "_model_module_version": "1.2.0",
            "_view_count": null,
            "flex_flow": null,
            "width": null,
            "min_width": null,
            "border": null,
            "align_items": null,
            "bottom": null,
            "_model_module": "@jupyter-widgets/base",
            "top": null,
            "grid_column": null,
            "overflow_y": null,
            "overflow_x": null,
            "grid_auto_flow": null,
            "grid_area": null,
            "grid_template_columns": null,
            "flex": null,
            "_model_name": "LayoutModel",
            "justify_items": null,
            "grid_row": null,
            "max_height": null,
            "align_content": null,
            "visibility": null,
            "align_self": null,
            "height": null,
            "min_height": null,
            "padding": null,
            "grid_auto_rows": null,
            "grid_gap": null,
            "max_width": null,
            "order": null,
            "_view_module_version": "1.2.0",
            "grid_template_areas": null,
            "object_position": null,
            "object_fit": null,
            "grid_auto_columns": null,
            "margin": null,
            "display": null,
            "left": null
          }
        },
        "9fe47251abac43949695f1b46f2147f1": {
          "model_module": "@jupyter-widgets/controls",
          "model_name": "DescriptionStyleModel",
          "state": {
            "_view_name": "StyleView",
            "_model_name": "DescriptionStyleModel",
            "description_width": "",
            "_view_module": "@jupyter-widgets/base",
            "_model_module_version": "1.5.0",
            "_view_count": null,
            "_view_module_version": "1.2.0",
            "_model_module": "@jupyter-widgets/controls"
          }
        },
        "2bdfd3f67c754769b2f95bf409780e8d": {
          "model_module": "@jupyter-widgets/base",
          "model_name": "LayoutModel",
          "state": {
            "_view_name": "LayoutView",
            "grid_template_rows": null,
            "right": null,
            "justify_content": null,
            "_view_module": "@jupyter-widgets/base",
            "overflow": null,
            "_model_module_version": "1.2.0",
            "_view_count": null,
            "flex_flow": null,
            "width": null,
            "min_width": null,
            "border": null,
            "align_items": null,
            "bottom": null,
            "_model_module": "@jupyter-widgets/base",
            "top": null,
            "grid_column": null,
            "overflow_y": null,
            "overflow_x": null,
            "grid_auto_flow": null,
            "grid_area": null,
            "grid_template_columns": null,
            "flex": null,
            "_model_name": "LayoutModel",
            "justify_items": null,
            "grid_row": null,
            "max_height": null,
            "align_content": null,
            "visibility": null,
            "align_self": null,
            "height": null,
            "min_height": null,
            "padding": null,
            "grid_auto_rows": null,
            "grid_gap": null,
            "max_width": null,
            "order": null,
            "_view_module_version": "1.2.0",
            "grid_template_areas": null,
            "object_position": null,
            "object_fit": null,
            "grid_auto_columns": null,
            "margin": null,
            "display": null,
            "left": null
          }
        },
        "4d74f1c2144d46cebc1d9bcd467c7a1e": {
          "model_module": "@jupyter-widgets/controls",
          "model_name": "HBoxModel",
          "state": {
            "_view_name": "HBoxView",
            "_dom_classes": [],
            "_model_name": "HBoxModel",
            "_view_module": "@jupyter-widgets/controls",
            "_model_module_version": "1.5.0",
            "_view_count": null,
            "_view_module_version": "1.5.0",
            "box_style": "",
            "layout": "IPY_MODEL_e54112300e9f4288a303b74f5bac1c15",
            "_model_module": "@jupyter-widgets/controls",
            "children": [
              "IPY_MODEL_f2dc9dc41e444243b3c98ea40a692605",
              "IPY_MODEL_0f654beb13444a4eaa1e600fe09fe605"
            ]
          }
        },
        "e54112300e9f4288a303b74f5bac1c15": {
          "model_module": "@jupyter-widgets/base",
          "model_name": "LayoutModel",
          "state": {
            "_view_name": "LayoutView",
            "grid_template_rows": null,
            "right": null,
            "justify_content": null,
            "_view_module": "@jupyter-widgets/base",
            "overflow": null,
            "_model_module_version": "1.2.0",
            "_view_count": null,
            "flex_flow": null,
            "width": null,
            "min_width": null,
            "border": null,
            "align_items": null,
            "bottom": null,
            "_model_module": "@jupyter-widgets/base",
            "top": null,
            "grid_column": null,
            "overflow_y": null,
            "overflow_x": null,
            "grid_auto_flow": null,
            "grid_area": null,
            "grid_template_columns": null,
            "flex": null,
            "_model_name": "LayoutModel",
            "justify_items": null,
            "grid_row": null,
            "max_height": null,
            "align_content": null,
            "visibility": null,
            "align_self": null,
            "height": null,
            "min_height": null,
            "padding": null,
            "grid_auto_rows": null,
            "grid_gap": null,
            "max_width": null,
            "order": null,
            "_view_module_version": "1.2.0",
            "grid_template_areas": null,
            "object_position": null,
            "object_fit": null,
            "grid_auto_columns": null,
            "margin": null,
            "display": null,
            "left": null
          }
        },
        "f2dc9dc41e444243b3c98ea40a692605": {
          "model_module": "@jupyter-widgets/controls",
          "model_name": "FloatProgressModel",
          "state": {
            "_view_name": "ProgressView",
            "style": "IPY_MODEL_c085f1f09a4243a3b66bb1530cee0715",
            "_dom_classes": [],
            "description": "Training... : 100%",
            "_model_name": "FloatProgressModel",
            "bar_style": "success",
            "max": 209,
            "_view_module": "@jupyter-widgets/controls",
            "_model_module_version": "1.5.0",
            "value": 209,
            "_view_count": null,
            "_view_module_version": "1.5.0",
            "orientation": "horizontal",
            "min": 0,
            "description_tooltip": null,
            "_model_module": "@jupyter-widgets/controls",
            "layout": "IPY_MODEL_3e1a1b3db52a40efb24cce450dff2f50"
          }
        },
        "0f654beb13444a4eaa1e600fe09fe605": {
          "model_module": "@jupyter-widgets/controls",
          "model_name": "HTMLModel",
          "state": {
            "_view_name": "HTMLView",
            "style": "IPY_MODEL_d4b9c4c1e47640e98c66683e47ca3429",
            "_dom_classes": [],
            "description": "",
            "_model_name": "HTMLModel",
            "placeholder": "​",
            "_view_module": "@jupyter-widgets/controls",
            "_model_module_version": "1.5.0",
            "value": " 209/209 [06:11&lt;00:00,  1.78s/it]",
            "_view_count": null,
            "_view_module_version": "1.5.0",
            "description_tooltip": null,
            "_model_module": "@jupyter-widgets/controls",
            "layout": "IPY_MODEL_1ccb7bc0025f42688bb9063378135cca"
          }
        },
        "c085f1f09a4243a3b66bb1530cee0715": {
          "model_module": "@jupyter-widgets/controls",
          "model_name": "ProgressStyleModel",
          "state": {
            "_view_name": "StyleView",
            "_model_name": "ProgressStyleModel",
            "description_width": "initial",
            "_view_module": "@jupyter-widgets/base",
            "_model_module_version": "1.5.0",
            "_view_count": null,
            "_view_module_version": "1.2.0",
            "bar_color": null,
            "_model_module": "@jupyter-widgets/controls"
          }
        },
        "3e1a1b3db52a40efb24cce450dff2f50": {
          "model_module": "@jupyter-widgets/base",
          "model_name": "LayoutModel",
          "state": {
            "_view_name": "LayoutView",
            "grid_template_rows": null,
            "right": null,
            "justify_content": null,
            "_view_module": "@jupyter-widgets/base",
            "overflow": null,
            "_model_module_version": "1.2.0",
            "_view_count": null,
            "flex_flow": null,
            "width": null,
            "min_width": null,
            "border": null,
            "align_items": null,
            "bottom": null,
            "_model_module": "@jupyter-widgets/base",
            "top": null,
            "grid_column": null,
            "overflow_y": null,
            "overflow_x": null,
            "grid_auto_flow": null,
            "grid_area": null,
            "grid_template_columns": null,
            "flex": null,
            "_model_name": "LayoutModel",
            "justify_items": null,
            "grid_row": null,
            "max_height": null,
            "align_content": null,
            "visibility": null,
            "align_self": null,
            "height": null,
            "min_height": null,
            "padding": null,
            "grid_auto_rows": null,
            "grid_gap": null,
            "max_width": null,
            "order": null,
            "_view_module_version": "1.2.0",
            "grid_template_areas": null,
            "object_position": null,
            "object_fit": null,
            "grid_auto_columns": null,
            "margin": null,
            "display": null,
            "left": null
          }
        },
        "d4b9c4c1e47640e98c66683e47ca3429": {
          "model_module": "@jupyter-widgets/controls",
          "model_name": "DescriptionStyleModel",
          "state": {
            "_view_name": "StyleView",
            "_model_name": "DescriptionStyleModel",
            "description_width": "",
            "_view_module": "@jupyter-widgets/base",
            "_model_module_version": "1.5.0",
            "_view_count": null,
            "_view_module_version": "1.2.0",
            "_model_module": "@jupyter-widgets/controls"
          }
        },
        "1ccb7bc0025f42688bb9063378135cca": {
          "model_module": "@jupyter-widgets/base",
          "model_name": "LayoutModel",
          "state": {
            "_view_name": "LayoutView",
            "grid_template_rows": null,
            "right": null,
            "justify_content": null,
            "_view_module": "@jupyter-widgets/base",
            "overflow": null,
            "_model_module_version": "1.2.0",
            "_view_count": null,
            "flex_flow": null,
            "width": null,
            "min_width": null,
            "border": null,
            "align_items": null,
            "bottom": null,
            "_model_module": "@jupyter-widgets/base",
            "top": null,
            "grid_column": null,
            "overflow_y": null,
            "overflow_x": null,
            "grid_auto_flow": null,
            "grid_area": null,
            "grid_template_columns": null,
            "flex": null,
            "_model_name": "LayoutModel",
            "justify_items": null,
            "grid_row": null,
            "max_height": null,
            "align_content": null,
            "visibility": null,
            "align_self": null,
            "height": null,
            "min_height": null,
            "padding": null,
            "grid_auto_rows": null,
            "grid_gap": null,
            "max_width": null,
            "order": null,
            "_view_module_version": "1.2.0",
            "grid_template_areas": null,
            "object_position": null,
            "object_fit": null,
            "grid_auto_columns": null,
            "margin": null,
            "display": null,
            "left": null
          }
        },
        "3ad2dcffd7204f5e838504363b72c6d7": {
          "model_module": "@jupyter-widgets/controls",
          "model_name": "HBoxModel",
          "state": {
            "_view_name": "HBoxView",
            "_dom_classes": [],
            "_model_name": "HBoxModel",
            "_view_module": "@jupyter-widgets/controls",
            "_model_module_version": "1.5.0",
            "_view_count": null,
            "_view_module_version": "1.5.0",
            "box_style": "",
            "layout": "IPY_MODEL_96f4b88f643547f9b90598f93472bded",
            "_model_module": "@jupyter-widgets/controls",
            "children": [
              "IPY_MODEL_e81a539d52bf4416b1c63db2755ce346",
              "IPY_MODEL_56862074642f45288802a3841621a0fc"
            ]
          }
        },
        "96f4b88f643547f9b90598f93472bded": {
          "model_module": "@jupyter-widgets/base",
          "model_name": "LayoutModel",
          "state": {
            "_view_name": "LayoutView",
            "grid_template_rows": null,
            "right": null,
            "justify_content": null,
            "_view_module": "@jupyter-widgets/base",
            "overflow": null,
            "_model_module_version": "1.2.0",
            "_view_count": null,
            "flex_flow": null,
            "width": null,
            "min_width": null,
            "border": null,
            "align_items": null,
            "bottom": null,
            "_model_module": "@jupyter-widgets/base",
            "top": null,
            "grid_column": null,
            "overflow_y": null,
            "overflow_x": null,
            "grid_auto_flow": null,
            "grid_area": null,
            "grid_template_columns": null,
            "flex": null,
            "_model_name": "LayoutModel",
            "justify_items": null,
            "grid_row": null,
            "max_height": null,
            "align_content": null,
            "visibility": null,
            "align_self": null,
            "height": null,
            "min_height": null,
            "padding": null,
            "grid_auto_rows": null,
            "grid_gap": null,
            "max_width": null,
            "order": null,
            "_view_module_version": "1.2.0",
            "grid_template_areas": null,
            "object_position": null,
            "object_fit": null,
            "grid_auto_columns": null,
            "margin": null,
            "display": null,
            "left": null
          }
        },
        "e81a539d52bf4416b1c63db2755ce346": {
          "model_module": "@jupyter-widgets/controls",
          "model_name": "FloatProgressModel",
          "state": {
            "_view_name": "ProgressView",
            "style": "IPY_MODEL_e4651a41a4874a32aa59a41af1874368",
            "_dom_classes": [],
            "description": "Evaluation... : 100%",
            "_model_name": "FloatProgressModel",
            "bar_style": "success",
            "max": 24,
            "_view_module": "@jupyter-widgets/controls",
            "_model_module_version": "1.5.0",
            "value": 24,
            "_view_count": null,
            "_view_module_version": "1.5.0",
            "orientation": "horizontal",
            "min": 0,
            "description_tooltip": null,
            "_model_module": "@jupyter-widgets/controls",
            "layout": "IPY_MODEL_b7038838b8c34a95b20c20ea104347c6"
          }
        },
        "56862074642f45288802a3841621a0fc": {
          "model_module": "@jupyter-widgets/controls",
          "model_name": "HTMLModel",
          "state": {
            "_view_name": "HTMLView",
            "style": "IPY_MODEL_f1cc9440ab57486cb0b0d057116391cb",
            "_dom_classes": [],
            "description": "",
            "_model_name": "HTMLModel",
            "placeholder": "​",
            "_view_module": "@jupyter-widgets/controls",
            "_model_module_version": "1.5.0",
            "value": " 24/24 [00:26&lt;00:00,  1.12s/it]",
            "_view_count": null,
            "_view_module_version": "1.5.0",
            "description_tooltip": null,
            "_model_module": "@jupyter-widgets/controls",
            "layout": "IPY_MODEL_74e56d11dc544e9ea6042f7ae13cea8d"
          }
        },
        "e4651a41a4874a32aa59a41af1874368": {
          "model_module": "@jupyter-widgets/controls",
          "model_name": "ProgressStyleModel",
          "state": {
            "_view_name": "StyleView",
            "_model_name": "ProgressStyleModel",
            "description_width": "initial",
            "_view_module": "@jupyter-widgets/base",
            "_model_module_version": "1.5.0",
            "_view_count": null,
            "_view_module_version": "1.2.0",
            "bar_color": null,
            "_model_module": "@jupyter-widgets/controls"
          }
        },
        "b7038838b8c34a95b20c20ea104347c6": {
          "model_module": "@jupyter-widgets/base",
          "model_name": "LayoutModel",
          "state": {
            "_view_name": "LayoutView",
            "grid_template_rows": null,
            "right": null,
            "justify_content": null,
            "_view_module": "@jupyter-widgets/base",
            "overflow": null,
            "_model_module_version": "1.2.0",
            "_view_count": null,
            "flex_flow": null,
            "width": null,
            "min_width": null,
            "border": null,
            "align_items": null,
            "bottom": null,
            "_model_module": "@jupyter-widgets/base",
            "top": null,
            "grid_column": null,
            "overflow_y": null,
            "overflow_x": null,
            "grid_auto_flow": null,
            "grid_area": null,
            "grid_template_columns": null,
            "flex": null,
            "_model_name": "LayoutModel",
            "justify_items": null,
            "grid_row": null,
            "max_height": null,
            "align_content": null,
            "visibility": null,
            "align_self": null,
            "height": null,
            "min_height": null,
            "padding": null,
            "grid_auto_rows": null,
            "grid_gap": null,
            "max_width": null,
            "order": null,
            "_view_module_version": "1.2.0",
            "grid_template_areas": null,
            "object_position": null,
            "object_fit": null,
            "grid_auto_columns": null,
            "margin": null,
            "display": null,
            "left": null
          }
        },
        "f1cc9440ab57486cb0b0d057116391cb": {
          "model_module": "@jupyter-widgets/controls",
          "model_name": "DescriptionStyleModel",
          "state": {
            "_view_name": "StyleView",
            "_model_name": "DescriptionStyleModel",
            "description_width": "",
            "_view_module": "@jupyter-widgets/base",
            "_model_module_version": "1.5.0",
            "_view_count": null,
            "_view_module_version": "1.2.0",
            "_model_module": "@jupyter-widgets/controls"
          }
        },
        "74e56d11dc544e9ea6042f7ae13cea8d": {
          "model_module": "@jupyter-widgets/base",
          "model_name": "LayoutModel",
          "state": {
            "_view_name": "LayoutView",
            "grid_template_rows": null,
            "right": null,
            "justify_content": null,
            "_view_module": "@jupyter-widgets/base",
            "overflow": null,
            "_model_module_version": "1.2.0",
            "_view_count": null,
            "flex_flow": null,
            "width": null,
            "min_width": null,
            "border": null,
            "align_items": null,
            "bottom": null,
            "_model_module": "@jupyter-widgets/base",
            "top": null,
            "grid_column": null,
            "overflow_y": null,
            "overflow_x": null,
            "grid_auto_flow": null,
            "grid_area": null,
            "grid_template_columns": null,
            "flex": null,
            "_model_name": "LayoutModel",
            "justify_items": null,
            "grid_row": null,
            "max_height": null,
            "align_content": null,
            "visibility": null,
            "align_self": null,
            "height": null,
            "min_height": null,
            "padding": null,
            "grid_auto_rows": null,
            "grid_gap": null,
            "max_width": null,
            "order": null,
            "_view_module_version": "1.2.0",
            "grid_template_areas": null,
            "object_position": null,
            "object_fit": null,
            "grid_auto_columns": null,
            "margin": null,
            "display": null,
            "left": null
          }
        },
        "67bd35116323410c92c475c2be4bd5a8": {
          "model_module": "@jupyter-widgets/controls",
          "model_name": "HBoxModel",
          "state": {
            "_view_name": "HBoxView",
            "_dom_classes": [],
            "_model_name": "HBoxModel",
            "_view_module": "@jupyter-widgets/controls",
            "_model_module_version": "1.5.0",
            "_view_count": null,
            "_view_module_version": "1.5.0",
            "box_style": "",
            "layout": "IPY_MODEL_d965c2deda8c4f7e83261ece412372dc",
            "_model_module": "@jupyter-widgets/controls",
            "children": [
              "IPY_MODEL_e30414ceb73e48d1ad37700a2f16b09f",
              "IPY_MODEL_b3ef4cb4de0c4755852ff605e080203c"
            ]
          }
        },
        "d965c2deda8c4f7e83261ece412372dc": {
          "model_module": "@jupyter-widgets/base",
          "model_name": "LayoutModel",
          "state": {
            "_view_name": "LayoutView",
            "grid_template_rows": null,
            "right": null,
            "justify_content": null,
            "_view_module": "@jupyter-widgets/base",
            "overflow": null,
            "_model_module_version": "1.2.0",
            "_view_count": null,
            "flex_flow": null,
            "width": null,
            "min_width": null,
            "border": null,
            "align_items": null,
            "bottom": null,
            "_model_module": "@jupyter-widgets/base",
            "top": null,
            "grid_column": null,
            "overflow_y": null,
            "overflow_x": null,
            "grid_auto_flow": null,
            "grid_area": null,
            "grid_template_columns": null,
            "flex": null,
            "_model_name": "LayoutModel",
            "justify_items": null,
            "grid_row": null,
            "max_height": null,
            "align_content": null,
            "visibility": null,
            "align_self": null,
            "height": null,
            "min_height": null,
            "padding": null,
            "grid_auto_rows": null,
            "grid_gap": null,
            "max_width": null,
            "order": null,
            "_view_module_version": "1.2.0",
            "grid_template_areas": null,
            "object_position": null,
            "object_fit": null,
            "grid_auto_columns": null,
            "margin": null,
            "display": null,
            "left": null
          }
        },
        "e30414ceb73e48d1ad37700a2f16b09f": {
          "model_module": "@jupyter-widgets/controls",
          "model_name": "FloatProgressModel",
          "state": {
            "_view_name": "ProgressView",
            "style": "IPY_MODEL_7df97b564a0a4176891f08a25455a10d",
            "_dom_classes": [],
            "description": "Training... : 100%",
            "_model_name": "FloatProgressModel",
            "bar_style": "success",
            "max": 209,
            "_view_module": "@jupyter-widgets/controls",
            "_model_module_version": "1.5.0",
            "value": 209,
            "_view_count": null,
            "_view_module_version": "1.5.0",
            "orientation": "horizontal",
            "min": 0,
            "description_tooltip": null,
            "_model_module": "@jupyter-widgets/controls",
            "layout": "IPY_MODEL_439baee0938f4614aed5aa73421cd8fa"
          }
        },
        "b3ef4cb4de0c4755852ff605e080203c": {
          "model_module": "@jupyter-widgets/controls",
          "model_name": "HTMLModel",
          "state": {
            "_view_name": "HTMLView",
            "style": "IPY_MODEL_4febd45daf46487aa0e25ad78177c9f2",
            "_dom_classes": [],
            "description": "",
            "_model_name": "HTMLModel",
            "placeholder": "​",
            "_view_module": "@jupyter-widgets/controls",
            "_model_module_version": "1.5.0",
            "value": " 209/209 [04:38&lt;00:00,  1.33s/it]",
            "_view_count": null,
            "_view_module_version": "1.5.0",
            "description_tooltip": null,
            "_model_module": "@jupyter-widgets/controls",
            "layout": "IPY_MODEL_d354482cb33849d2a3e1db952bf776ec"
          }
        },
        "7df97b564a0a4176891f08a25455a10d": {
          "model_module": "@jupyter-widgets/controls",
          "model_name": "ProgressStyleModel",
          "state": {
            "_view_name": "StyleView",
            "_model_name": "ProgressStyleModel",
            "description_width": "initial",
            "_view_module": "@jupyter-widgets/base",
            "_model_module_version": "1.5.0",
            "_view_count": null,
            "_view_module_version": "1.2.0",
            "bar_color": null,
            "_model_module": "@jupyter-widgets/controls"
          }
        },
        "439baee0938f4614aed5aa73421cd8fa": {
          "model_module": "@jupyter-widgets/base",
          "model_name": "LayoutModel",
          "state": {
            "_view_name": "LayoutView",
            "grid_template_rows": null,
            "right": null,
            "justify_content": null,
            "_view_module": "@jupyter-widgets/base",
            "overflow": null,
            "_model_module_version": "1.2.0",
            "_view_count": null,
            "flex_flow": null,
            "width": null,
            "min_width": null,
            "border": null,
            "align_items": null,
            "bottom": null,
            "_model_module": "@jupyter-widgets/base",
            "top": null,
            "grid_column": null,
            "overflow_y": null,
            "overflow_x": null,
            "grid_auto_flow": null,
            "grid_area": null,
            "grid_template_columns": null,
            "flex": null,
            "_model_name": "LayoutModel",
            "justify_items": null,
            "grid_row": null,
            "max_height": null,
            "align_content": null,
            "visibility": null,
            "align_self": null,
            "height": null,
            "min_height": null,
            "padding": null,
            "grid_auto_rows": null,
            "grid_gap": null,
            "max_width": null,
            "order": null,
            "_view_module_version": "1.2.0",
            "grid_template_areas": null,
            "object_position": null,
            "object_fit": null,
            "grid_auto_columns": null,
            "margin": null,
            "display": null,
            "left": null
          }
        },
        "4febd45daf46487aa0e25ad78177c9f2": {
          "model_module": "@jupyter-widgets/controls",
          "model_name": "DescriptionStyleModel",
          "state": {
            "_view_name": "StyleView",
            "_model_name": "DescriptionStyleModel",
            "description_width": "",
            "_view_module": "@jupyter-widgets/base",
            "_model_module_version": "1.5.0",
            "_view_count": null,
            "_view_module_version": "1.2.0",
            "_model_module": "@jupyter-widgets/controls"
          }
        },
        "d354482cb33849d2a3e1db952bf776ec": {
          "model_module": "@jupyter-widgets/base",
          "model_name": "LayoutModel",
          "state": {
            "_view_name": "LayoutView",
            "grid_template_rows": null,
            "right": null,
            "justify_content": null,
            "_view_module": "@jupyter-widgets/base",
            "overflow": null,
            "_model_module_version": "1.2.0",
            "_view_count": null,
            "flex_flow": null,
            "width": null,
            "min_width": null,
            "border": null,
            "align_items": null,
            "bottom": null,
            "_model_module": "@jupyter-widgets/base",
            "top": null,
            "grid_column": null,
            "overflow_y": null,
            "overflow_x": null,
            "grid_auto_flow": null,
            "grid_area": null,
            "grid_template_columns": null,
            "flex": null,
            "_model_name": "LayoutModel",
            "justify_items": null,
            "grid_row": null,
            "max_height": null,
            "align_content": null,
            "visibility": null,
            "align_self": null,
            "height": null,
            "min_height": null,
            "padding": null,
            "grid_auto_rows": null,
            "grid_gap": null,
            "max_width": null,
            "order": null,
            "_view_module_version": "1.2.0",
            "grid_template_areas": null,
            "object_position": null,
            "object_fit": null,
            "grid_auto_columns": null,
            "margin": null,
            "display": null,
            "left": null
          }
        },
        "fca670a312a24fbc9e0a6e109c34826a": {
          "model_module": "@jupyter-widgets/controls",
          "model_name": "HBoxModel",
          "state": {
            "_view_name": "HBoxView",
            "_dom_classes": [],
            "_model_name": "HBoxModel",
            "_view_module": "@jupyter-widgets/controls",
            "_model_module_version": "1.5.0",
            "_view_count": null,
            "_view_module_version": "1.5.0",
            "box_style": "",
            "layout": "IPY_MODEL_f52ab08cffd5410ca641fa8d0ef57994",
            "_model_module": "@jupyter-widgets/controls",
            "children": [
              "IPY_MODEL_c50517514c804ee9bdf10492ae331d1a",
              "IPY_MODEL_066303b88a7041c5ade9220bf18e9937"
            ]
          }
        },
        "f52ab08cffd5410ca641fa8d0ef57994": {
          "model_module": "@jupyter-widgets/base",
          "model_name": "LayoutModel",
          "state": {
            "_view_name": "LayoutView",
            "grid_template_rows": null,
            "right": null,
            "justify_content": null,
            "_view_module": "@jupyter-widgets/base",
            "overflow": null,
            "_model_module_version": "1.2.0",
            "_view_count": null,
            "flex_flow": null,
            "width": null,
            "min_width": null,
            "border": null,
            "align_items": null,
            "bottom": null,
            "_model_module": "@jupyter-widgets/base",
            "top": null,
            "grid_column": null,
            "overflow_y": null,
            "overflow_x": null,
            "grid_auto_flow": null,
            "grid_area": null,
            "grid_template_columns": null,
            "flex": null,
            "_model_name": "LayoutModel",
            "justify_items": null,
            "grid_row": null,
            "max_height": null,
            "align_content": null,
            "visibility": null,
            "align_self": null,
            "height": null,
            "min_height": null,
            "padding": null,
            "grid_auto_rows": null,
            "grid_gap": null,
            "max_width": null,
            "order": null,
            "_view_module_version": "1.2.0",
            "grid_template_areas": null,
            "object_position": null,
            "object_fit": null,
            "grid_auto_columns": null,
            "margin": null,
            "display": null,
            "left": null
          }
        },
        "c50517514c804ee9bdf10492ae331d1a": {
          "model_module": "@jupyter-widgets/controls",
          "model_name": "FloatProgressModel",
          "state": {
            "_view_name": "ProgressView",
            "style": "IPY_MODEL_86ca976e3b794eb79e6b3d401773525e",
            "_dom_classes": [],
            "description": "Evaluation... : 100%",
            "_model_name": "FloatProgressModel",
            "bar_style": "success",
            "max": 24,
            "_view_module": "@jupyter-widgets/controls",
            "_model_module_version": "1.5.0",
            "value": 24,
            "_view_count": null,
            "_view_module_version": "1.5.0",
            "orientation": "horizontal",
            "min": 0,
            "description_tooltip": null,
            "_model_module": "@jupyter-widgets/controls",
            "layout": "IPY_MODEL_df16449c521e4378a91b63072e6cc77b"
          }
        },
        "066303b88a7041c5ade9220bf18e9937": {
          "model_module": "@jupyter-widgets/controls",
          "model_name": "HTMLModel",
          "state": {
            "_view_name": "HTMLView",
            "style": "IPY_MODEL_8ee0651b910a484484028c0435d644d9",
            "_dom_classes": [],
            "description": "",
            "_model_name": "HTMLModel",
            "placeholder": "​",
            "_view_module": "@jupyter-widgets/controls",
            "_model_module_version": "1.5.0",
            "value": " 24/24 [00:08&lt;00:00,  2.94it/s]",
            "_view_count": null,
            "_view_module_version": "1.5.0",
            "description_tooltip": null,
            "_model_module": "@jupyter-widgets/controls",
            "layout": "IPY_MODEL_614cd0b819b546d6abe331c8a997004a"
          }
        },
        "86ca976e3b794eb79e6b3d401773525e": {
          "model_module": "@jupyter-widgets/controls",
          "model_name": "ProgressStyleModel",
          "state": {
            "_view_name": "StyleView",
            "_model_name": "ProgressStyleModel",
            "description_width": "initial",
            "_view_module": "@jupyter-widgets/base",
            "_model_module_version": "1.5.0",
            "_view_count": null,
            "_view_module_version": "1.2.0",
            "bar_color": null,
            "_model_module": "@jupyter-widgets/controls"
          }
        },
        "df16449c521e4378a91b63072e6cc77b": {
          "model_module": "@jupyter-widgets/base",
          "model_name": "LayoutModel",
          "state": {
            "_view_name": "LayoutView",
            "grid_template_rows": null,
            "right": null,
            "justify_content": null,
            "_view_module": "@jupyter-widgets/base",
            "overflow": null,
            "_model_module_version": "1.2.0",
            "_view_count": null,
            "flex_flow": null,
            "width": null,
            "min_width": null,
            "border": null,
            "align_items": null,
            "bottom": null,
            "_model_module": "@jupyter-widgets/base",
            "top": null,
            "grid_column": null,
            "overflow_y": null,
            "overflow_x": null,
            "grid_auto_flow": null,
            "grid_area": null,
            "grid_template_columns": null,
            "flex": null,
            "_model_name": "LayoutModel",
            "justify_items": null,
            "grid_row": null,
            "max_height": null,
            "align_content": null,
            "visibility": null,
            "align_self": null,
            "height": null,
            "min_height": null,
            "padding": null,
            "grid_auto_rows": null,
            "grid_gap": null,
            "max_width": null,
            "order": null,
            "_view_module_version": "1.2.0",
            "grid_template_areas": null,
            "object_position": null,
            "object_fit": null,
            "grid_auto_columns": null,
            "margin": null,
            "display": null,
            "left": null
          }
        },
        "8ee0651b910a484484028c0435d644d9": {
          "model_module": "@jupyter-widgets/controls",
          "model_name": "DescriptionStyleModel",
          "state": {
            "_view_name": "StyleView",
            "_model_name": "DescriptionStyleModel",
            "description_width": "",
            "_view_module": "@jupyter-widgets/base",
            "_model_module_version": "1.5.0",
            "_view_count": null,
            "_view_module_version": "1.2.0",
            "_model_module": "@jupyter-widgets/controls"
          }
        },
        "614cd0b819b546d6abe331c8a997004a": {
          "model_module": "@jupyter-widgets/base",
          "model_name": "LayoutModel",
          "state": {
            "_view_name": "LayoutView",
            "grid_template_rows": null,
            "right": null,
            "justify_content": null,
            "_view_module": "@jupyter-widgets/base",
            "overflow": null,
            "_model_module_version": "1.2.0",
            "_view_count": null,
            "flex_flow": null,
            "width": null,
            "min_width": null,
            "border": null,
            "align_items": null,
            "bottom": null,
            "_model_module": "@jupyter-widgets/base",
            "top": null,
            "grid_column": null,
            "overflow_y": null,
            "overflow_x": null,
            "grid_auto_flow": null,
            "grid_area": null,
            "grid_template_columns": null,
            "flex": null,
            "_model_name": "LayoutModel",
            "justify_items": null,
            "grid_row": null,
            "max_height": null,
            "align_content": null,
            "visibility": null,
            "align_self": null,
            "height": null,
            "min_height": null,
            "padding": null,
            "grid_auto_rows": null,
            "grid_gap": null,
            "max_width": null,
            "order": null,
            "_view_module_version": "1.2.0",
            "grid_template_areas": null,
            "object_position": null,
            "object_fit": null,
            "grid_auto_columns": null,
            "margin": null,
            "display": null,
            "left": null
          }
        },
        "f66d725bd3044d169e4504335547a264": {
          "model_module": "@jupyter-widgets/controls",
          "model_name": "HBoxModel",
          "state": {
            "_view_name": "HBoxView",
            "_dom_classes": [],
            "_model_name": "HBoxModel",
            "_view_module": "@jupyter-widgets/controls",
            "_model_module_version": "1.5.0",
            "_view_count": null,
            "_view_module_version": "1.5.0",
            "box_style": "",
            "layout": "IPY_MODEL_05f61b0e1a444e739e1ef9b9678639f8",
            "_model_module": "@jupyter-widgets/controls",
            "children": [
              "IPY_MODEL_ada180f062b340beadc10ef720c483c9",
              "IPY_MODEL_f16dd6a7be254fe09b303cd59edd7c3f"
            ]
          }
        },
        "05f61b0e1a444e739e1ef9b9678639f8": {
          "model_module": "@jupyter-widgets/base",
          "model_name": "LayoutModel",
          "state": {
            "_view_name": "LayoutView",
            "grid_template_rows": null,
            "right": null,
            "justify_content": null,
            "_view_module": "@jupyter-widgets/base",
            "overflow": null,
            "_model_module_version": "1.2.0",
            "_view_count": null,
            "flex_flow": null,
            "width": null,
            "min_width": null,
            "border": null,
            "align_items": null,
            "bottom": null,
            "_model_module": "@jupyter-widgets/base",
            "top": null,
            "grid_column": null,
            "overflow_y": null,
            "overflow_x": null,
            "grid_auto_flow": null,
            "grid_area": null,
            "grid_template_columns": null,
            "flex": null,
            "_model_name": "LayoutModel",
            "justify_items": null,
            "grid_row": null,
            "max_height": null,
            "align_content": null,
            "visibility": null,
            "align_self": null,
            "height": null,
            "min_height": null,
            "padding": null,
            "grid_auto_rows": null,
            "grid_gap": null,
            "max_width": null,
            "order": null,
            "_view_module_version": "1.2.0",
            "grid_template_areas": null,
            "object_position": null,
            "object_fit": null,
            "grid_auto_columns": null,
            "margin": null,
            "display": null,
            "left": null
          }
        },
        "ada180f062b340beadc10ef720c483c9": {
          "model_module": "@jupyter-widgets/controls",
          "model_name": "FloatProgressModel",
          "state": {
            "_view_name": "ProgressView",
            "style": "IPY_MODEL_d908afd4e75e4338a472a0fa760f7fb2",
            "_dom_classes": [],
            "description": "Training... : 100%",
            "_model_name": "FloatProgressModel",
            "bar_style": "success",
            "max": 209,
            "_view_module": "@jupyter-widgets/controls",
            "_model_module_version": "1.5.0",
            "value": 209,
            "_view_count": null,
            "_view_module_version": "1.5.0",
            "orientation": "horizontal",
            "min": 0,
            "description_tooltip": null,
            "_model_module": "@jupyter-widgets/controls",
            "layout": "IPY_MODEL_39de140d62ce4565a527c633af7027da"
          }
        },
        "f16dd6a7be254fe09b303cd59edd7c3f": {
          "model_module": "@jupyter-widgets/controls",
          "model_name": "HTMLModel",
          "state": {
            "_view_name": "HTMLView",
            "style": "IPY_MODEL_59062eeed7c348a99192bb3c784302e7",
            "_dom_classes": [],
            "description": "",
            "_model_name": "HTMLModel",
            "placeholder": "​",
            "_view_module": "@jupyter-widgets/controls",
            "_model_module_version": "1.5.0",
            "value": " 209/209 [03:06&lt;00:00,  1.12it/s]",
            "_view_count": null,
            "_view_module_version": "1.5.0",
            "description_tooltip": null,
            "_model_module": "@jupyter-widgets/controls",
            "layout": "IPY_MODEL_fccef916e1924b10b221563a6ac62fa5"
          }
        },
        "d908afd4e75e4338a472a0fa760f7fb2": {
          "model_module": "@jupyter-widgets/controls",
          "model_name": "ProgressStyleModel",
          "state": {
            "_view_name": "StyleView",
            "_model_name": "ProgressStyleModel",
            "description_width": "initial",
            "_view_module": "@jupyter-widgets/base",
            "_model_module_version": "1.5.0",
            "_view_count": null,
            "_view_module_version": "1.2.0",
            "bar_color": null,
            "_model_module": "@jupyter-widgets/controls"
          }
        },
        "39de140d62ce4565a527c633af7027da": {
          "model_module": "@jupyter-widgets/base",
          "model_name": "LayoutModel",
          "state": {
            "_view_name": "LayoutView",
            "grid_template_rows": null,
            "right": null,
            "justify_content": null,
            "_view_module": "@jupyter-widgets/base",
            "overflow": null,
            "_model_module_version": "1.2.0",
            "_view_count": null,
            "flex_flow": null,
            "width": null,
            "min_width": null,
            "border": null,
            "align_items": null,
            "bottom": null,
            "_model_module": "@jupyter-widgets/base",
            "top": null,
            "grid_column": null,
            "overflow_y": null,
            "overflow_x": null,
            "grid_auto_flow": null,
            "grid_area": null,
            "grid_template_columns": null,
            "flex": null,
            "_model_name": "LayoutModel",
            "justify_items": null,
            "grid_row": null,
            "max_height": null,
            "align_content": null,
            "visibility": null,
            "align_self": null,
            "height": null,
            "min_height": null,
            "padding": null,
            "grid_auto_rows": null,
            "grid_gap": null,
            "max_width": null,
            "order": null,
            "_view_module_version": "1.2.0",
            "grid_template_areas": null,
            "object_position": null,
            "object_fit": null,
            "grid_auto_columns": null,
            "margin": null,
            "display": null,
            "left": null
          }
        },
        "59062eeed7c348a99192bb3c784302e7": {
          "model_module": "@jupyter-widgets/controls",
          "model_name": "DescriptionStyleModel",
          "state": {
            "_view_name": "StyleView",
            "_model_name": "DescriptionStyleModel",
            "description_width": "",
            "_view_module": "@jupyter-widgets/base",
            "_model_module_version": "1.5.0",
            "_view_count": null,
            "_view_module_version": "1.2.0",
            "_model_module": "@jupyter-widgets/controls"
          }
        },
        "fccef916e1924b10b221563a6ac62fa5": {
          "model_module": "@jupyter-widgets/base",
          "model_name": "LayoutModel",
          "state": {
            "_view_name": "LayoutView",
            "grid_template_rows": null,
            "right": null,
            "justify_content": null,
            "_view_module": "@jupyter-widgets/base",
            "overflow": null,
            "_model_module_version": "1.2.0",
            "_view_count": null,
            "flex_flow": null,
            "width": null,
            "min_width": null,
            "border": null,
            "align_items": null,
            "bottom": null,
            "_model_module": "@jupyter-widgets/base",
            "top": null,
            "grid_column": null,
            "overflow_y": null,
            "overflow_x": null,
            "grid_auto_flow": null,
            "grid_area": null,
            "grid_template_columns": null,
            "flex": null,
            "_model_name": "LayoutModel",
            "justify_items": null,
            "grid_row": null,
            "max_height": null,
            "align_content": null,
            "visibility": null,
            "align_self": null,
            "height": null,
            "min_height": null,
            "padding": null,
            "grid_auto_rows": null,
            "grid_gap": null,
            "max_width": null,
            "order": null,
            "_view_module_version": "1.2.0",
            "grid_template_areas": null,
            "object_position": null,
            "object_fit": null,
            "grid_auto_columns": null,
            "margin": null,
            "display": null,
            "left": null
          }
        },
        "2ce8141e1ef5440f9f308e9f8fe9cbbb": {
          "model_module": "@jupyter-widgets/controls",
          "model_name": "HBoxModel",
          "state": {
            "_view_name": "HBoxView",
            "_dom_classes": [],
            "_model_name": "HBoxModel",
            "_view_module": "@jupyter-widgets/controls",
            "_model_module_version": "1.5.0",
            "_view_count": null,
            "_view_module_version": "1.5.0",
            "box_style": "",
            "layout": "IPY_MODEL_5f8bf5209bcd425f955c2791f031139c",
            "_model_module": "@jupyter-widgets/controls",
            "children": [
              "IPY_MODEL_7b63f91464b94181a1553cfd080c530c",
              "IPY_MODEL_a29425e0d93f4ff1963212f838985866"
            ]
          }
        },
        "5f8bf5209bcd425f955c2791f031139c": {
          "model_module": "@jupyter-widgets/base",
          "model_name": "LayoutModel",
          "state": {
            "_view_name": "LayoutView",
            "grid_template_rows": null,
            "right": null,
            "justify_content": null,
            "_view_module": "@jupyter-widgets/base",
            "overflow": null,
            "_model_module_version": "1.2.0",
            "_view_count": null,
            "flex_flow": null,
            "width": null,
            "min_width": null,
            "border": null,
            "align_items": null,
            "bottom": null,
            "_model_module": "@jupyter-widgets/base",
            "top": null,
            "grid_column": null,
            "overflow_y": null,
            "overflow_x": null,
            "grid_auto_flow": null,
            "grid_area": null,
            "grid_template_columns": null,
            "flex": null,
            "_model_name": "LayoutModel",
            "justify_items": null,
            "grid_row": null,
            "max_height": null,
            "align_content": null,
            "visibility": null,
            "align_self": null,
            "height": null,
            "min_height": null,
            "padding": null,
            "grid_auto_rows": null,
            "grid_gap": null,
            "max_width": null,
            "order": null,
            "_view_module_version": "1.2.0",
            "grid_template_areas": null,
            "object_position": null,
            "object_fit": null,
            "grid_auto_columns": null,
            "margin": null,
            "display": null,
            "left": null
          }
        },
        "7b63f91464b94181a1553cfd080c530c": {
          "model_module": "@jupyter-widgets/controls",
          "model_name": "FloatProgressModel",
          "state": {
            "_view_name": "ProgressView",
            "style": "IPY_MODEL_2f6a1bfa42e54e64b8390ab383c512d0",
            "_dom_classes": [],
            "description": "Evaluation... : 100%",
            "_model_name": "FloatProgressModel",
            "bar_style": "success",
            "max": 24,
            "_view_module": "@jupyter-widgets/controls",
            "_model_module_version": "1.5.0",
            "value": 24,
            "_view_count": null,
            "_view_module_version": "1.5.0",
            "orientation": "horizontal",
            "min": 0,
            "description_tooltip": null,
            "_model_module": "@jupyter-widgets/controls",
            "layout": "IPY_MODEL_5dcc0b0ecba1490e8d9e8d1449d037b3"
          }
        },
        "a29425e0d93f4ff1963212f838985866": {
          "model_module": "@jupyter-widgets/controls",
          "model_name": "HTMLModel",
          "state": {
            "_view_name": "HTMLView",
            "style": "IPY_MODEL_ec23cff17d2a46638d1a03cc3de7c93b",
            "_dom_classes": [],
            "description": "",
            "_model_name": "HTMLModel",
            "placeholder": "​",
            "_view_module": "@jupyter-widgets/controls",
            "_model_module_version": "1.5.0",
            "value": " 24/24 [01:56&lt;00:00,  4.84s/it]",
            "_view_count": null,
            "_view_module_version": "1.5.0",
            "description_tooltip": null,
            "_model_module": "@jupyter-widgets/controls",
            "layout": "IPY_MODEL_420e3cd0b28e45cb8d430b1dea6167ea"
          }
        },
        "2f6a1bfa42e54e64b8390ab383c512d0": {
          "model_module": "@jupyter-widgets/controls",
          "model_name": "ProgressStyleModel",
          "state": {
            "_view_name": "StyleView",
            "_model_name": "ProgressStyleModel",
            "description_width": "initial",
            "_view_module": "@jupyter-widgets/base",
            "_model_module_version": "1.5.0",
            "_view_count": null,
            "_view_module_version": "1.2.0",
            "bar_color": null,
            "_model_module": "@jupyter-widgets/controls"
          }
        },
        "5dcc0b0ecba1490e8d9e8d1449d037b3": {
          "model_module": "@jupyter-widgets/base",
          "model_name": "LayoutModel",
          "state": {
            "_view_name": "LayoutView",
            "grid_template_rows": null,
            "right": null,
            "justify_content": null,
            "_view_module": "@jupyter-widgets/base",
            "overflow": null,
            "_model_module_version": "1.2.0",
            "_view_count": null,
            "flex_flow": null,
            "width": null,
            "min_width": null,
            "border": null,
            "align_items": null,
            "bottom": null,
            "_model_module": "@jupyter-widgets/base",
            "top": null,
            "grid_column": null,
            "overflow_y": null,
            "overflow_x": null,
            "grid_auto_flow": null,
            "grid_area": null,
            "grid_template_columns": null,
            "flex": null,
            "_model_name": "LayoutModel",
            "justify_items": null,
            "grid_row": null,
            "max_height": null,
            "align_content": null,
            "visibility": null,
            "align_self": null,
            "height": null,
            "min_height": null,
            "padding": null,
            "grid_auto_rows": null,
            "grid_gap": null,
            "max_width": null,
            "order": null,
            "_view_module_version": "1.2.0",
            "grid_template_areas": null,
            "object_position": null,
            "object_fit": null,
            "grid_auto_columns": null,
            "margin": null,
            "display": null,
            "left": null
          }
        },
        "ec23cff17d2a46638d1a03cc3de7c93b": {
          "model_module": "@jupyter-widgets/controls",
          "model_name": "DescriptionStyleModel",
          "state": {
            "_view_name": "StyleView",
            "_model_name": "DescriptionStyleModel",
            "description_width": "",
            "_view_module": "@jupyter-widgets/base",
            "_model_module_version": "1.5.0",
            "_view_count": null,
            "_view_module_version": "1.2.0",
            "_model_module": "@jupyter-widgets/controls"
          }
        },
        "420e3cd0b28e45cb8d430b1dea6167ea": {
          "model_module": "@jupyter-widgets/base",
          "model_name": "LayoutModel",
          "state": {
            "_view_name": "LayoutView",
            "grid_template_rows": null,
            "right": null,
            "justify_content": null,
            "_view_module": "@jupyter-widgets/base",
            "overflow": null,
            "_model_module_version": "1.2.0",
            "_view_count": null,
            "flex_flow": null,
            "width": null,
            "min_width": null,
            "border": null,
            "align_items": null,
            "bottom": null,
            "_model_module": "@jupyter-widgets/base",
            "top": null,
            "grid_column": null,
            "overflow_y": null,
            "overflow_x": null,
            "grid_auto_flow": null,
            "grid_area": null,
            "grid_template_columns": null,
            "flex": null,
            "_model_name": "LayoutModel",
            "justify_items": null,
            "grid_row": null,
            "max_height": null,
            "align_content": null,
            "visibility": null,
            "align_self": null,
            "height": null,
            "min_height": null,
            "padding": null,
            "grid_auto_rows": null,
            "grid_gap": null,
            "max_width": null,
            "order": null,
            "_view_module_version": "1.2.0",
            "grid_template_areas": null,
            "object_position": null,
            "object_fit": null,
            "grid_auto_columns": null,
            "margin": null,
            "display": null,
            "left": null
          }
        },
        "bd74ed575a444b6eb7c92372231f75dc": {
          "model_module": "@jupyter-widgets/controls",
          "model_name": "HBoxModel",
          "state": {
            "_view_name": "HBoxView",
            "_dom_classes": [],
            "_model_name": "HBoxModel",
            "_view_module": "@jupyter-widgets/controls",
            "_model_module_version": "1.5.0",
            "_view_count": null,
            "_view_module_version": "1.5.0",
            "box_style": "",
            "layout": "IPY_MODEL_ff4a46b6768e499490ecab15fa2c638d",
            "_model_module": "@jupyter-widgets/controls",
            "children": [
              "IPY_MODEL_31b4c0032dcd4e7e9c06c5679ba4a641",
              "IPY_MODEL_2077dc2f91d14233898cd2729bff856b"
            ]
          }
        },
        "ff4a46b6768e499490ecab15fa2c638d": {
          "model_module": "@jupyter-widgets/base",
          "model_name": "LayoutModel",
          "state": {
            "_view_name": "LayoutView",
            "grid_template_rows": null,
            "right": null,
            "justify_content": null,
            "_view_module": "@jupyter-widgets/base",
            "overflow": null,
            "_model_module_version": "1.2.0",
            "_view_count": null,
            "flex_flow": null,
            "width": null,
            "min_width": null,
            "border": null,
            "align_items": null,
            "bottom": null,
            "_model_module": "@jupyter-widgets/base",
            "top": null,
            "grid_column": null,
            "overflow_y": null,
            "overflow_x": null,
            "grid_auto_flow": null,
            "grid_area": null,
            "grid_template_columns": null,
            "flex": null,
            "_model_name": "LayoutModel",
            "justify_items": null,
            "grid_row": null,
            "max_height": null,
            "align_content": null,
            "visibility": null,
            "align_self": null,
            "height": null,
            "min_height": null,
            "padding": null,
            "grid_auto_rows": null,
            "grid_gap": null,
            "max_width": null,
            "order": null,
            "_view_module_version": "1.2.0",
            "grid_template_areas": null,
            "object_position": null,
            "object_fit": null,
            "grid_auto_columns": null,
            "margin": null,
            "display": null,
            "left": null
          }
        },
        "31b4c0032dcd4e7e9c06c5679ba4a641": {
          "model_module": "@jupyter-widgets/controls",
          "model_name": "FloatProgressModel",
          "state": {
            "_view_name": "ProgressView",
            "style": "IPY_MODEL_d3001638449a43389eaf71b469f897f6",
            "_dom_classes": [],
            "description": "Evaluation... : 100%",
            "_model_name": "FloatProgressModel",
            "bar_style": "success",
            "max": 24,
            "_view_module": "@jupyter-widgets/controls",
            "_model_module_version": "1.5.0",
            "value": 24,
            "_view_count": null,
            "_view_module_version": "1.5.0",
            "orientation": "horizontal",
            "min": 0,
            "description_tooltip": null,
            "_model_module": "@jupyter-widgets/controls",
            "layout": "IPY_MODEL_cf3e2bffa3084278b9cb3fe4c9612740"
          }
        },
        "2077dc2f91d14233898cd2729bff856b": {
          "model_module": "@jupyter-widgets/controls",
          "model_name": "HTMLModel",
          "state": {
            "_view_name": "HTMLView",
            "style": "IPY_MODEL_4480f664c870471db86edbf29ecf0995",
            "_dom_classes": [],
            "description": "",
            "_model_name": "HTMLModel",
            "placeholder": "​",
            "_view_module": "@jupyter-widgets/controls",
            "_model_module_version": "1.5.0",
            "value": " 24/24 [01:18&lt;00:00,  3.27s/it]",
            "_view_count": null,
            "_view_module_version": "1.5.0",
            "description_tooltip": null,
            "_model_module": "@jupyter-widgets/controls",
            "layout": "IPY_MODEL_da109abc4421406f94fdad8b918f5c7d"
          }
        },
        "d3001638449a43389eaf71b469f897f6": {
          "model_module": "@jupyter-widgets/controls",
          "model_name": "ProgressStyleModel",
          "state": {
            "_view_name": "StyleView",
            "_model_name": "ProgressStyleModel",
            "description_width": "initial",
            "_view_module": "@jupyter-widgets/base",
            "_model_module_version": "1.5.0",
            "_view_count": null,
            "_view_module_version": "1.2.0",
            "bar_color": null,
            "_model_module": "@jupyter-widgets/controls"
          }
        },
        "cf3e2bffa3084278b9cb3fe4c9612740": {
          "model_module": "@jupyter-widgets/base",
          "model_name": "LayoutModel",
          "state": {
            "_view_name": "LayoutView",
            "grid_template_rows": null,
            "right": null,
            "justify_content": null,
            "_view_module": "@jupyter-widgets/base",
            "overflow": null,
            "_model_module_version": "1.2.0",
            "_view_count": null,
            "flex_flow": null,
            "width": null,
            "min_width": null,
            "border": null,
            "align_items": null,
            "bottom": null,
            "_model_module": "@jupyter-widgets/base",
            "top": null,
            "grid_column": null,
            "overflow_y": null,
            "overflow_x": null,
            "grid_auto_flow": null,
            "grid_area": null,
            "grid_template_columns": null,
            "flex": null,
            "_model_name": "LayoutModel",
            "justify_items": null,
            "grid_row": null,
            "max_height": null,
            "align_content": null,
            "visibility": null,
            "align_self": null,
            "height": null,
            "min_height": null,
            "padding": null,
            "grid_auto_rows": null,
            "grid_gap": null,
            "max_width": null,
            "order": null,
            "_view_module_version": "1.2.0",
            "grid_template_areas": null,
            "object_position": null,
            "object_fit": null,
            "grid_auto_columns": null,
            "margin": null,
            "display": null,
            "left": null
          }
        },
        "4480f664c870471db86edbf29ecf0995": {
          "model_module": "@jupyter-widgets/controls",
          "model_name": "DescriptionStyleModel",
          "state": {
            "_view_name": "StyleView",
            "_model_name": "DescriptionStyleModel",
            "description_width": "",
            "_view_module": "@jupyter-widgets/base",
            "_model_module_version": "1.5.0",
            "_view_count": null,
            "_view_module_version": "1.2.0",
            "_model_module": "@jupyter-widgets/controls"
          }
        },
        "da109abc4421406f94fdad8b918f5c7d": {
          "model_module": "@jupyter-widgets/base",
          "model_name": "LayoutModel",
          "state": {
            "_view_name": "LayoutView",
            "grid_template_rows": null,
            "right": null,
            "justify_content": null,
            "_view_module": "@jupyter-widgets/base",
            "overflow": null,
            "_model_module_version": "1.2.0",
            "_view_count": null,
            "flex_flow": null,
            "width": null,
            "min_width": null,
            "border": null,
            "align_items": null,
            "bottom": null,
            "_model_module": "@jupyter-widgets/base",
            "top": null,
            "grid_column": null,
            "overflow_y": null,
            "overflow_x": null,
            "grid_auto_flow": null,
            "grid_area": null,
            "grid_template_columns": null,
            "flex": null,
            "_model_name": "LayoutModel",
            "justify_items": null,
            "grid_row": null,
            "max_height": null,
            "align_content": null,
            "visibility": null,
            "align_self": null,
            "height": null,
            "min_height": null,
            "padding": null,
            "grid_auto_rows": null,
            "grid_gap": null,
            "max_width": null,
            "order": null,
            "_view_module_version": "1.2.0",
            "grid_template_areas": null,
            "object_position": null,
            "object_fit": null,
            "grid_auto_columns": null,
            "margin": null,
            "display": null,
            "left": null
          }
        },
        "6b1bda99ffc445849721036ea809f116": {
          "model_module": "@jupyter-widgets/controls",
          "model_name": "HBoxModel",
          "state": {
            "_view_name": "HBoxView",
            "_dom_classes": [],
            "_model_name": "HBoxModel",
            "_view_module": "@jupyter-widgets/controls",
            "_model_module_version": "1.5.0",
            "_view_count": null,
            "_view_module_version": "1.5.0",
            "box_style": "",
            "layout": "IPY_MODEL_43c1169e8d98407db9d67991514409bb",
            "_model_module": "@jupyter-widgets/controls",
            "children": [
              "IPY_MODEL_10b4d5eac8924d0bb77c617e61d5a660",
              "IPY_MODEL_34df8c0763e34860b2b0b726befddba5"
            ]
          }
        },
        "43c1169e8d98407db9d67991514409bb": {
          "model_module": "@jupyter-widgets/base",
          "model_name": "LayoutModel",
          "state": {
            "_view_name": "LayoutView",
            "grid_template_rows": null,
            "right": null,
            "justify_content": null,
            "_view_module": "@jupyter-widgets/base",
            "overflow": null,
            "_model_module_version": "1.2.0",
            "_view_count": null,
            "flex_flow": null,
            "width": null,
            "min_width": null,
            "border": null,
            "align_items": null,
            "bottom": null,
            "_model_module": "@jupyter-widgets/base",
            "top": null,
            "grid_column": null,
            "overflow_y": null,
            "overflow_x": null,
            "grid_auto_flow": null,
            "grid_area": null,
            "grid_template_columns": null,
            "flex": null,
            "_model_name": "LayoutModel",
            "justify_items": null,
            "grid_row": null,
            "max_height": null,
            "align_content": null,
            "visibility": null,
            "align_self": null,
            "height": null,
            "min_height": null,
            "padding": null,
            "grid_auto_rows": null,
            "grid_gap": null,
            "max_width": null,
            "order": null,
            "_view_module_version": "1.2.0",
            "grid_template_areas": null,
            "object_position": null,
            "object_fit": null,
            "grid_auto_columns": null,
            "margin": null,
            "display": null,
            "left": null
          }
        },
        "10b4d5eac8924d0bb77c617e61d5a660": {
          "model_module": "@jupyter-widgets/controls",
          "model_name": "FloatProgressModel",
          "state": {
            "_view_name": "ProgressView",
            "style": "IPY_MODEL_cbe0622625f642e68b0550678e01bfe3",
            "_dom_classes": [],
            "description": "100%",
            "_model_name": "FloatProgressModel",
            "bar_style": "success",
            "max": 13,
            "_view_module": "@jupyter-widgets/controls",
            "_model_module_version": "1.5.0",
            "value": 13,
            "_view_count": null,
            "_view_module_version": "1.5.0",
            "orientation": "horizontal",
            "min": 0,
            "description_tooltip": null,
            "_model_module": "@jupyter-widgets/controls",
            "layout": "IPY_MODEL_3a3f638f753a4814b8531b8abeb7f410"
          }
        },
        "34df8c0763e34860b2b0b726befddba5": {
          "model_module": "@jupyter-widgets/controls",
          "model_name": "HTMLModel",
          "state": {
            "_view_name": "HTMLView",
            "style": "IPY_MODEL_bdb6ce18a804446ab9b97e39dde0517c",
            "_dom_classes": [],
            "description": "",
            "_model_name": "HTMLModel",
            "placeholder": "​",
            "_view_module": "@jupyter-widgets/controls",
            "_model_module_version": "1.5.0",
            "value": " 13/13 [00:58&lt;00:00,  4.47s/it]",
            "_view_count": null,
            "_view_module_version": "1.5.0",
            "description_tooltip": null,
            "_model_module": "@jupyter-widgets/controls",
            "layout": "IPY_MODEL_8471898c2b0342fa96ed11973b389d34"
          }
        },
        "cbe0622625f642e68b0550678e01bfe3": {
          "model_module": "@jupyter-widgets/controls",
          "model_name": "ProgressStyleModel",
          "state": {
            "_view_name": "StyleView",
            "_model_name": "ProgressStyleModel",
            "description_width": "initial",
            "_view_module": "@jupyter-widgets/base",
            "_model_module_version": "1.5.0",
            "_view_count": null,
            "_view_module_version": "1.2.0",
            "bar_color": null,
            "_model_module": "@jupyter-widgets/controls"
          }
        },
        "3a3f638f753a4814b8531b8abeb7f410": {
          "model_module": "@jupyter-widgets/base",
          "model_name": "LayoutModel",
          "state": {
            "_view_name": "LayoutView",
            "grid_template_rows": null,
            "right": null,
            "justify_content": null,
            "_view_module": "@jupyter-widgets/base",
            "overflow": null,
            "_model_module_version": "1.2.0",
            "_view_count": null,
            "flex_flow": null,
            "width": null,
            "min_width": null,
            "border": null,
            "align_items": null,
            "bottom": null,
            "_model_module": "@jupyter-widgets/base",
            "top": null,
            "grid_column": null,
            "overflow_y": null,
            "overflow_x": null,
            "grid_auto_flow": null,
            "grid_area": null,
            "grid_template_columns": null,
            "flex": null,
            "_model_name": "LayoutModel",
            "justify_items": null,
            "grid_row": null,
            "max_height": null,
            "align_content": null,
            "visibility": null,
            "align_self": null,
            "height": null,
            "min_height": null,
            "padding": null,
            "grid_auto_rows": null,
            "grid_gap": null,
            "max_width": null,
            "order": null,
            "_view_module_version": "1.2.0",
            "grid_template_areas": null,
            "object_position": null,
            "object_fit": null,
            "grid_auto_columns": null,
            "margin": null,
            "display": null,
            "left": null
          }
        },
        "bdb6ce18a804446ab9b97e39dde0517c": {
          "model_module": "@jupyter-widgets/controls",
          "model_name": "DescriptionStyleModel",
          "state": {
            "_view_name": "StyleView",
            "_model_name": "DescriptionStyleModel",
            "description_width": "",
            "_view_module": "@jupyter-widgets/base",
            "_model_module_version": "1.5.0",
            "_view_count": null,
            "_view_module_version": "1.2.0",
            "_model_module": "@jupyter-widgets/controls"
          }
        },
        "8471898c2b0342fa96ed11973b389d34": {
          "model_module": "@jupyter-widgets/base",
          "model_name": "LayoutModel",
          "state": {
            "_view_name": "LayoutView",
            "grid_template_rows": null,
            "right": null,
            "justify_content": null,
            "_view_module": "@jupyter-widgets/base",
            "overflow": null,
            "_model_module_version": "1.2.0",
            "_view_count": null,
            "flex_flow": null,
            "width": null,
            "min_width": null,
            "border": null,
            "align_items": null,
            "bottom": null,
            "_model_module": "@jupyter-widgets/base",
            "top": null,
            "grid_column": null,
            "overflow_y": null,
            "overflow_x": null,
            "grid_auto_flow": null,
            "grid_area": null,
            "grid_template_columns": null,
            "flex": null,
            "_model_name": "LayoutModel",
            "justify_items": null,
            "grid_row": null,
            "max_height": null,
            "align_content": null,
            "visibility": null,
            "align_self": null,
            "height": null,
            "min_height": null,
            "padding": null,
            "grid_auto_rows": null,
            "grid_gap": null,
            "max_width": null,
            "order": null,
            "_view_module_version": "1.2.0",
            "grid_template_areas": null,
            "object_position": null,
            "object_fit": null,
            "grid_auto_columns": null,
            "margin": null,
            "display": null,
            "left": null
          }
        },
        "f974942cdbdd4e94a7fb3dc48205e62b": {
          "model_module": "@jupyter-widgets/controls",
          "model_name": "HBoxModel",
          "state": {
            "_view_name": "HBoxView",
            "_dom_classes": [],
            "_model_name": "HBoxModel",
            "_view_module": "@jupyter-widgets/controls",
            "_model_module_version": "1.5.0",
            "_view_count": null,
            "_view_module_version": "1.5.0",
            "box_style": "",
            "layout": "IPY_MODEL_914baa208ba74ab8915c3d74e3744ac0",
            "_model_module": "@jupyter-widgets/controls",
            "children": [
              "IPY_MODEL_aa57c498271b495f8f427897ecc6f5df",
              "IPY_MODEL_22b9e6fe03d84cccadd0ba349ac4290d"
            ]
          }
        },
        "914baa208ba74ab8915c3d74e3744ac0": {
          "model_module": "@jupyter-widgets/base",
          "model_name": "LayoutModel",
          "state": {
            "_view_name": "LayoutView",
            "grid_template_rows": null,
            "right": null,
            "justify_content": null,
            "_view_module": "@jupyter-widgets/base",
            "overflow": null,
            "_model_module_version": "1.2.0",
            "_view_count": null,
            "flex_flow": null,
            "width": null,
            "min_width": null,
            "border": null,
            "align_items": null,
            "bottom": null,
            "_model_module": "@jupyter-widgets/base",
            "top": null,
            "grid_column": null,
            "overflow_y": null,
            "overflow_x": null,
            "grid_auto_flow": null,
            "grid_area": null,
            "grid_template_columns": null,
            "flex": null,
            "_model_name": "LayoutModel",
            "justify_items": null,
            "grid_row": null,
            "max_height": null,
            "align_content": null,
            "visibility": null,
            "align_self": null,
            "height": null,
            "min_height": null,
            "padding": null,
            "grid_auto_rows": null,
            "grid_gap": null,
            "max_width": null,
            "order": null,
            "_view_module_version": "1.2.0",
            "grid_template_areas": null,
            "object_position": null,
            "object_fit": null,
            "grid_auto_columns": null,
            "margin": null,
            "display": null,
            "left": null
          }
        },
        "aa57c498271b495f8f427897ecc6f5df": {
          "model_module": "@jupyter-widgets/controls",
          "model_name": "FloatProgressModel",
          "state": {
            "_view_name": "ProgressView",
            "style": "IPY_MODEL_e60bd0892f6340ebabdabf592ce48e91",
            "_dom_classes": [],
            "description": "100%",
            "_model_name": "FloatProgressModel",
            "bar_style": "success",
            "max": 3329,
            "_view_module": "@jupyter-widgets/controls",
            "_model_module_version": "1.5.0",
            "value": 3329,
            "_view_count": null,
            "_view_module_version": "1.5.0",
            "orientation": "horizontal",
            "min": 0,
            "description_tooltip": null,
            "_model_module": "@jupyter-widgets/controls",
            "layout": "IPY_MODEL_5eb7c04f3bbb43d5bccf8545743c8641"
          }
        },
        "22b9e6fe03d84cccadd0ba349ac4290d": {
          "model_module": "@jupyter-widgets/controls",
          "model_name": "HTMLModel",
          "state": {
            "_view_name": "HTMLView",
            "style": "IPY_MODEL_dec28cbf9d2347268fb4c2ce3b90c575",
            "_dom_classes": [],
            "description": "",
            "_model_name": "HTMLModel",
            "placeholder": "​",
            "_view_module": "@jupyter-widgets/controls",
            "_model_module_version": "1.5.0",
            "value": " 3329/3329 [00:06&lt;00:00, 514.16it/s]",
            "_view_count": null,
            "_view_module_version": "1.5.0",
            "description_tooltip": null,
            "_model_module": "@jupyter-widgets/controls",
            "layout": "IPY_MODEL_8f5f4a314cca4b6595b3fd6c27623eb3"
          }
        },
        "e60bd0892f6340ebabdabf592ce48e91": {
          "model_module": "@jupyter-widgets/controls",
          "model_name": "ProgressStyleModel",
          "state": {
            "_view_name": "StyleView",
            "_model_name": "ProgressStyleModel",
            "description_width": "initial",
            "_view_module": "@jupyter-widgets/base",
            "_model_module_version": "1.5.0",
            "_view_count": null,
            "_view_module_version": "1.2.0",
            "bar_color": null,
            "_model_module": "@jupyter-widgets/controls"
          }
        },
        "5eb7c04f3bbb43d5bccf8545743c8641": {
          "model_module": "@jupyter-widgets/base",
          "model_name": "LayoutModel",
          "state": {
            "_view_name": "LayoutView",
            "grid_template_rows": null,
            "right": null,
            "justify_content": null,
            "_view_module": "@jupyter-widgets/base",
            "overflow": null,
            "_model_module_version": "1.2.0",
            "_view_count": null,
            "flex_flow": null,
            "width": null,
            "min_width": null,
            "border": null,
            "align_items": null,
            "bottom": null,
            "_model_module": "@jupyter-widgets/base",
            "top": null,
            "grid_column": null,
            "overflow_y": null,
            "overflow_x": null,
            "grid_auto_flow": null,
            "grid_area": null,
            "grid_template_columns": null,
            "flex": null,
            "_model_name": "LayoutModel",
            "justify_items": null,
            "grid_row": null,
            "max_height": null,
            "align_content": null,
            "visibility": null,
            "align_self": null,
            "height": null,
            "min_height": null,
            "padding": null,
            "grid_auto_rows": null,
            "grid_gap": null,
            "max_width": null,
            "order": null,
            "_view_module_version": "1.2.0",
            "grid_template_areas": null,
            "object_position": null,
            "object_fit": null,
            "grid_auto_columns": null,
            "margin": null,
            "display": null,
            "left": null
          }
        },
        "dec28cbf9d2347268fb4c2ce3b90c575": {
          "model_module": "@jupyter-widgets/controls",
          "model_name": "DescriptionStyleModel",
          "state": {
            "_view_name": "StyleView",
            "_model_name": "DescriptionStyleModel",
            "description_width": "",
            "_view_module": "@jupyter-widgets/base",
            "_model_module_version": "1.5.0",
            "_view_count": null,
            "_view_module_version": "1.2.0",
            "_model_module": "@jupyter-widgets/controls"
          }
        },
        "8f5f4a314cca4b6595b3fd6c27623eb3": {
          "model_module": "@jupyter-widgets/base",
          "model_name": "LayoutModel",
          "state": {
            "_view_name": "LayoutView",
            "grid_template_rows": null,
            "right": null,
            "justify_content": null,
            "_view_module": "@jupyter-widgets/base",
            "overflow": null,
            "_model_module_version": "1.2.0",
            "_view_count": null,
            "flex_flow": null,
            "width": null,
            "min_width": null,
            "border": null,
            "align_items": null,
            "bottom": null,
            "_model_module": "@jupyter-widgets/base",
            "top": null,
            "grid_column": null,
            "overflow_y": null,
            "overflow_x": null,
            "grid_auto_flow": null,
            "grid_area": null,
            "grid_template_columns": null,
            "flex": null,
            "_model_name": "LayoutModel",
            "justify_items": null,
            "grid_row": null,
            "max_height": null,
            "align_content": null,
            "visibility": null,
            "align_self": null,
            "height": null,
            "min_height": null,
            "padding": null,
            "grid_auto_rows": null,
            "grid_gap": null,
            "max_width": null,
            "order": null,
            "_view_module_version": "1.2.0",
            "grid_template_areas": null,
            "object_position": null,
            "object_fit": null,
            "grid_auto_columns": null,
            "margin": null,
            "display": null,
            "left": null
          }
        },
        "337ba51d5327427fb32561f2ba28b027": {
          "model_module": "@jupyter-widgets/controls",
          "model_name": "HBoxModel",
          "state": {
            "_view_name": "HBoxView",
            "_dom_classes": [],
            "_model_name": "HBoxModel",
            "_view_module": "@jupyter-widgets/controls",
            "_model_module_version": "1.5.0",
            "_view_count": null,
            "_view_module_version": "1.5.0",
            "box_style": "",
            "layout": "IPY_MODEL_7b39bb7f16c74495973e3a3ba9fab54c",
            "_model_module": "@jupyter-widgets/controls",
            "children": [
              "IPY_MODEL_820a19b09fa947989787d278134d1288",
              "IPY_MODEL_422be40f21754a518c2c627ee94344ce"
            ]
          }
        },
        "7b39bb7f16c74495973e3a3ba9fab54c": {
          "model_module": "@jupyter-widgets/base",
          "model_name": "LayoutModel",
          "state": {
            "_view_name": "LayoutView",
            "grid_template_rows": null,
            "right": null,
            "justify_content": null,
            "_view_module": "@jupyter-widgets/base",
            "overflow": null,
            "_model_module_version": "1.2.0",
            "_view_count": null,
            "flex_flow": null,
            "width": null,
            "min_width": null,
            "border": null,
            "align_items": null,
            "bottom": null,
            "_model_module": "@jupyter-widgets/base",
            "top": null,
            "grid_column": null,
            "overflow_y": null,
            "overflow_x": null,
            "grid_auto_flow": null,
            "grid_area": null,
            "grid_template_columns": null,
            "flex": null,
            "_model_name": "LayoutModel",
            "justify_items": null,
            "grid_row": null,
            "max_height": null,
            "align_content": null,
            "visibility": null,
            "align_self": null,
            "height": null,
            "min_height": null,
            "padding": null,
            "grid_auto_rows": null,
            "grid_gap": null,
            "max_width": null,
            "order": null,
            "_view_module_version": "1.2.0",
            "grid_template_areas": null,
            "object_position": null,
            "object_fit": null,
            "grid_auto_columns": null,
            "margin": null,
            "display": null,
            "left": null
          }
        },
        "820a19b09fa947989787d278134d1288": {
          "model_module": "@jupyter-widgets/controls",
          "model_name": "FloatProgressModel",
          "state": {
            "_view_name": "ProgressView",
            "style": "IPY_MODEL_3a17c04ffa814e4291ea33465a62c6ae",
            "_dom_classes": [],
            "description": "100%",
            "_model_name": "FloatProgressModel",
            "bar_style": "success",
            "max": 3329,
            "_view_module": "@jupyter-widgets/controls",
            "_model_module_version": "1.5.0",
            "value": 3329,
            "_view_count": null,
            "_view_module_version": "1.5.0",
            "orientation": "horizontal",
            "min": 0,
            "description_tooltip": null,
            "_model_module": "@jupyter-widgets/controls",
            "layout": "IPY_MODEL_2a81fd8c1c9947648316c23c2863b669"
          }
        },
        "422be40f21754a518c2c627ee94344ce": {
          "model_module": "@jupyter-widgets/controls",
          "model_name": "HTMLModel",
          "state": {
            "_view_name": "HTMLView",
            "style": "IPY_MODEL_82f3258c3ecb45d0981a4e8cc817bf4c",
            "_dom_classes": [],
            "description": "",
            "_model_name": "HTMLModel",
            "placeholder": "​",
            "_view_module": "@jupyter-widgets/controls",
            "_model_module_version": "1.5.0",
            "value": " 3329/3329 [00:05&lt;00:00, 627.21it/s]",
            "_view_count": null,
            "_view_module_version": "1.5.0",
            "description_tooltip": null,
            "_model_module": "@jupyter-widgets/controls",
            "layout": "IPY_MODEL_e4aa6cf6a542422ea869ec6f431b7a96"
          }
        },
        "3a17c04ffa814e4291ea33465a62c6ae": {
          "model_module": "@jupyter-widgets/controls",
          "model_name": "ProgressStyleModel",
          "state": {
            "_view_name": "StyleView",
            "_model_name": "ProgressStyleModel",
            "description_width": "initial",
            "_view_module": "@jupyter-widgets/base",
            "_model_module_version": "1.5.0",
            "_view_count": null,
            "_view_module_version": "1.2.0",
            "bar_color": null,
            "_model_module": "@jupyter-widgets/controls"
          }
        },
        "2a81fd8c1c9947648316c23c2863b669": {
          "model_module": "@jupyter-widgets/base",
          "model_name": "LayoutModel",
          "state": {
            "_view_name": "LayoutView",
            "grid_template_rows": null,
            "right": null,
            "justify_content": null,
            "_view_module": "@jupyter-widgets/base",
            "overflow": null,
            "_model_module_version": "1.2.0",
            "_view_count": null,
            "flex_flow": null,
            "width": null,
            "min_width": null,
            "border": null,
            "align_items": null,
            "bottom": null,
            "_model_module": "@jupyter-widgets/base",
            "top": null,
            "grid_column": null,
            "overflow_y": null,
            "overflow_x": null,
            "grid_auto_flow": null,
            "grid_area": null,
            "grid_template_columns": null,
            "flex": null,
            "_model_name": "LayoutModel",
            "justify_items": null,
            "grid_row": null,
            "max_height": null,
            "align_content": null,
            "visibility": null,
            "align_self": null,
            "height": null,
            "min_height": null,
            "padding": null,
            "grid_auto_rows": null,
            "grid_gap": null,
            "max_width": null,
            "order": null,
            "_view_module_version": "1.2.0",
            "grid_template_areas": null,
            "object_position": null,
            "object_fit": null,
            "grid_auto_columns": null,
            "margin": null,
            "display": null,
            "left": null
          }
        },
        "82f3258c3ecb45d0981a4e8cc817bf4c": {
          "model_module": "@jupyter-widgets/controls",
          "model_name": "DescriptionStyleModel",
          "state": {
            "_view_name": "StyleView",
            "_model_name": "DescriptionStyleModel",
            "description_width": "",
            "_view_module": "@jupyter-widgets/base",
            "_model_module_version": "1.5.0",
            "_view_count": null,
            "_view_module_version": "1.2.0",
            "_model_module": "@jupyter-widgets/controls"
          }
        },
        "e4aa6cf6a542422ea869ec6f431b7a96": {
          "model_module": "@jupyter-widgets/base",
          "model_name": "LayoutModel",
          "state": {
            "_view_name": "LayoutView",
            "grid_template_rows": null,
            "right": null,
            "justify_content": null,
            "_view_module": "@jupyter-widgets/base",
            "overflow": null,
            "_model_module_version": "1.2.0",
            "_view_count": null,
            "flex_flow": null,
            "width": null,
            "min_width": null,
            "border": null,
            "align_items": null,
            "bottom": null,
            "_model_module": "@jupyter-widgets/base",
            "top": null,
            "grid_column": null,
            "overflow_y": null,
            "overflow_x": null,
            "grid_auto_flow": null,
            "grid_area": null,
            "grid_template_columns": null,
            "flex": null,
            "_model_name": "LayoutModel",
            "justify_items": null,
            "grid_row": null,
            "max_height": null,
            "align_content": null,
            "visibility": null,
            "align_self": null,
            "height": null,
            "min_height": null,
            "padding": null,
            "grid_auto_rows": null,
            "grid_gap": null,
            "max_width": null,
            "order": null,
            "_view_module_version": "1.2.0",
            "grid_template_areas": null,
            "object_position": null,
            "object_fit": null,
            "grid_auto_columns": null,
            "margin": null,
            "display": null,
            "left": null
          }
        },
        "8e49e5d5322a4d26937b1ae05028a4a6": {
          "model_module": "@jupyter-widgets/controls",
          "model_name": "HBoxModel",
          "state": {
            "_view_name": "HBoxView",
            "_dom_classes": [],
            "_model_name": "HBoxModel",
            "_view_module": "@jupyter-widgets/controls",
            "_model_module_version": "1.5.0",
            "_view_count": null,
            "_view_module_version": "1.5.0",
            "box_style": "",
            "layout": "IPY_MODEL_45e186cbe96d421e9ad4ae40c78f2792",
            "_model_module": "@jupyter-widgets/controls",
            "children": [
              "IPY_MODEL_9fbdc6678e7f456484e322af0ef1447d",
              "IPY_MODEL_2e2cf59c5bf242a091cbb7ffc74e0254"
            ]
          }
        },
        "45e186cbe96d421e9ad4ae40c78f2792": {
          "model_module": "@jupyter-widgets/base",
          "model_name": "LayoutModel",
          "state": {
            "_view_name": "LayoutView",
            "grid_template_rows": null,
            "right": null,
            "justify_content": null,
            "_view_module": "@jupyter-widgets/base",
            "overflow": null,
            "_model_module_version": "1.2.0",
            "_view_count": null,
            "flex_flow": null,
            "width": null,
            "min_width": null,
            "border": null,
            "align_items": null,
            "bottom": null,
            "_model_module": "@jupyter-widgets/base",
            "top": null,
            "grid_column": null,
            "overflow_y": null,
            "overflow_x": null,
            "grid_auto_flow": null,
            "grid_area": null,
            "grid_template_columns": null,
            "flex": null,
            "_model_name": "LayoutModel",
            "justify_items": null,
            "grid_row": null,
            "max_height": null,
            "align_content": null,
            "visibility": null,
            "align_self": null,
            "height": null,
            "min_height": null,
            "padding": null,
            "grid_auto_rows": null,
            "grid_gap": null,
            "max_width": null,
            "order": null,
            "_view_module_version": "1.2.0",
            "grid_template_areas": null,
            "object_position": null,
            "object_fit": null,
            "grid_auto_columns": null,
            "margin": null,
            "display": null,
            "left": null
          }
        },
        "9fbdc6678e7f456484e322af0ef1447d": {
          "model_module": "@jupyter-widgets/controls",
          "model_name": "FloatProgressModel",
          "state": {
            "_view_name": "ProgressView",
            "style": "IPY_MODEL_645ab43e43f848c880593aa7b4e7f45f",
            "_dom_classes": [],
            "description": "100%",
            "_model_name": "FloatProgressModel",
            "bar_style": "success",
            "max": 370,
            "_view_module": "@jupyter-widgets/controls",
            "_model_module_version": "1.5.0",
            "value": 370,
            "_view_count": null,
            "_view_module_version": "1.5.0",
            "orientation": "horizontal",
            "min": 0,
            "description_tooltip": null,
            "_model_module": "@jupyter-widgets/controls",
            "layout": "IPY_MODEL_7e9bed0b2cfe4fb4ad8d8f4a9fbcda87"
          }
        },
        "2e2cf59c5bf242a091cbb7ffc74e0254": {
          "model_module": "@jupyter-widgets/controls",
          "model_name": "HTMLModel",
          "state": {
            "_view_name": "HTMLView",
            "style": "IPY_MODEL_0f196741aa4242a78185d7e69c89bdaf",
            "_dom_classes": [],
            "description": "",
            "_model_name": "HTMLModel",
            "placeholder": "​",
            "_view_module": "@jupyter-widgets/controls",
            "_model_module_version": "1.5.0",
            "value": " 370/370 [00:00&lt;00:00, 2324.75it/s]",
            "_view_count": null,
            "_view_module_version": "1.5.0",
            "description_tooltip": null,
            "_model_module": "@jupyter-widgets/controls",
            "layout": "IPY_MODEL_d3d3229e7fdc4f7a8e19f46336bd0085"
          }
        },
        "645ab43e43f848c880593aa7b4e7f45f": {
          "model_module": "@jupyter-widgets/controls",
          "model_name": "ProgressStyleModel",
          "state": {
            "_view_name": "StyleView",
            "_model_name": "ProgressStyleModel",
            "description_width": "initial",
            "_view_module": "@jupyter-widgets/base",
            "_model_module_version": "1.5.0",
            "_view_count": null,
            "_view_module_version": "1.2.0",
            "bar_color": null,
            "_model_module": "@jupyter-widgets/controls"
          }
        },
        "7e9bed0b2cfe4fb4ad8d8f4a9fbcda87": {
          "model_module": "@jupyter-widgets/base",
          "model_name": "LayoutModel",
          "state": {
            "_view_name": "LayoutView",
            "grid_template_rows": null,
            "right": null,
            "justify_content": null,
            "_view_module": "@jupyter-widgets/base",
            "overflow": null,
            "_model_module_version": "1.2.0",
            "_view_count": null,
            "flex_flow": null,
            "width": null,
            "min_width": null,
            "border": null,
            "align_items": null,
            "bottom": null,
            "_model_module": "@jupyter-widgets/base",
            "top": null,
            "grid_column": null,
            "overflow_y": null,
            "overflow_x": null,
            "grid_auto_flow": null,
            "grid_area": null,
            "grid_template_columns": null,
            "flex": null,
            "_model_name": "LayoutModel",
            "justify_items": null,
            "grid_row": null,
            "max_height": null,
            "align_content": null,
            "visibility": null,
            "align_self": null,
            "height": null,
            "min_height": null,
            "padding": null,
            "grid_auto_rows": null,
            "grid_gap": null,
            "max_width": null,
            "order": null,
            "_view_module_version": "1.2.0",
            "grid_template_areas": null,
            "object_position": null,
            "object_fit": null,
            "grid_auto_columns": null,
            "margin": null,
            "display": null,
            "left": null
          }
        },
        "0f196741aa4242a78185d7e69c89bdaf": {
          "model_module": "@jupyter-widgets/controls",
          "model_name": "DescriptionStyleModel",
          "state": {
            "_view_name": "StyleView",
            "_model_name": "DescriptionStyleModel",
            "description_width": "",
            "_view_module": "@jupyter-widgets/base",
            "_model_module_version": "1.5.0",
            "_view_count": null,
            "_view_module_version": "1.2.0",
            "_model_module": "@jupyter-widgets/controls"
          }
        },
        "d3d3229e7fdc4f7a8e19f46336bd0085": {
          "model_module": "@jupyter-widgets/base",
          "model_name": "LayoutModel",
          "state": {
            "_view_name": "LayoutView",
            "grid_template_rows": null,
            "right": null,
            "justify_content": null,
            "_view_module": "@jupyter-widgets/base",
            "overflow": null,
            "_model_module_version": "1.2.0",
            "_view_count": null,
            "flex_flow": null,
            "width": null,
            "min_width": null,
            "border": null,
            "align_items": null,
            "bottom": null,
            "_model_module": "@jupyter-widgets/base",
            "top": null,
            "grid_column": null,
            "overflow_y": null,
            "overflow_x": null,
            "grid_auto_flow": null,
            "grid_area": null,
            "grid_template_columns": null,
            "flex": null,
            "_model_name": "LayoutModel",
            "justify_items": null,
            "grid_row": null,
            "max_height": null,
            "align_content": null,
            "visibility": null,
            "align_self": null,
            "height": null,
            "min_height": null,
            "padding": null,
            "grid_auto_rows": null,
            "grid_gap": null,
            "max_width": null,
            "order": null,
            "_view_module_version": "1.2.0",
            "grid_template_areas": null,
            "object_position": null,
            "object_fit": null,
            "grid_auto_columns": null,
            "margin": null,
            "display": null,
            "left": null
          }
        },
        "496386cc9bd44ef5aaa930c61770bfce": {
          "model_module": "@jupyter-widgets/controls",
          "model_name": "HBoxModel",
          "state": {
            "_view_name": "HBoxView",
            "_dom_classes": [],
            "_model_name": "HBoxModel",
            "_view_module": "@jupyter-widgets/controls",
            "_model_module_version": "1.5.0",
            "_view_count": null,
            "_view_module_version": "1.5.0",
            "box_style": "",
            "layout": "IPY_MODEL_0f81a40e8d6344ed8ce15d396f406459",
            "_model_module": "@jupyter-widgets/controls",
            "children": [
              "IPY_MODEL_e277cdc77b404d95bed5a2e5b95bf70a",
              "IPY_MODEL_e6b4937cd2924846b527d13b96408be3"
            ]
          }
        },
        "0f81a40e8d6344ed8ce15d396f406459": {
          "model_module": "@jupyter-widgets/base",
          "model_name": "LayoutModel",
          "state": {
            "_view_name": "LayoutView",
            "grid_template_rows": null,
            "right": null,
            "justify_content": null,
            "_view_module": "@jupyter-widgets/base",
            "overflow": null,
            "_model_module_version": "1.2.0",
            "_view_count": null,
            "flex_flow": null,
            "width": null,
            "min_width": null,
            "border": null,
            "align_items": null,
            "bottom": null,
            "_model_module": "@jupyter-widgets/base",
            "top": null,
            "grid_column": null,
            "overflow_y": null,
            "overflow_x": null,
            "grid_auto_flow": null,
            "grid_area": null,
            "grid_template_columns": null,
            "flex": null,
            "_model_name": "LayoutModel",
            "justify_items": null,
            "grid_row": null,
            "max_height": null,
            "align_content": null,
            "visibility": null,
            "align_self": null,
            "height": null,
            "min_height": null,
            "padding": null,
            "grid_auto_rows": null,
            "grid_gap": null,
            "max_width": null,
            "order": null,
            "_view_module_version": "1.2.0",
            "grid_template_areas": null,
            "object_position": null,
            "object_fit": null,
            "grid_auto_columns": null,
            "margin": null,
            "display": null,
            "left": null
          }
        },
        "e277cdc77b404d95bed5a2e5b95bf70a": {
          "model_module": "@jupyter-widgets/controls",
          "model_name": "FloatProgressModel",
          "state": {
            "_view_name": "ProgressView",
            "style": "IPY_MODEL_6f9e1e993fa14f49a9959b30d4e03016",
            "_dom_classes": [],
            "description": "100%",
            "_model_name": "FloatProgressModel",
            "bar_style": "success",
            "max": 370,
            "_view_module": "@jupyter-widgets/controls",
            "_model_module_version": "1.5.0",
            "value": 370,
            "_view_count": null,
            "_view_module_version": "1.5.0",
            "orientation": "horizontal",
            "min": 0,
            "description_tooltip": null,
            "_model_module": "@jupyter-widgets/controls",
            "layout": "IPY_MODEL_e8791a25a3fd4c7e94b1534cb9e0c92c"
          }
        },
        "e6b4937cd2924846b527d13b96408be3": {
          "model_module": "@jupyter-widgets/controls",
          "model_name": "HTMLModel",
          "state": {
            "_view_name": "HTMLView",
            "style": "IPY_MODEL_0a943a53241d4c90b68ff2f65a543f9f",
            "_dom_classes": [],
            "description": "",
            "_model_name": "HTMLModel",
            "placeholder": "​",
            "_view_module": "@jupyter-widgets/controls",
            "_model_module_version": "1.5.0",
            "value": " 370/370 [00:00&lt;00:00, 4105.98it/s]",
            "_view_count": null,
            "_view_module_version": "1.5.0",
            "description_tooltip": null,
            "_model_module": "@jupyter-widgets/controls",
            "layout": "IPY_MODEL_48a64478336e4691aa3c6d4dcc9d5a9b"
          }
        },
        "6f9e1e993fa14f49a9959b30d4e03016": {
          "model_module": "@jupyter-widgets/controls",
          "model_name": "ProgressStyleModel",
          "state": {
            "_view_name": "StyleView",
            "_model_name": "ProgressStyleModel",
            "description_width": "initial",
            "_view_module": "@jupyter-widgets/base",
            "_model_module_version": "1.5.0",
            "_view_count": null,
            "_view_module_version": "1.2.0",
            "bar_color": null,
            "_model_module": "@jupyter-widgets/controls"
          }
        },
        "e8791a25a3fd4c7e94b1534cb9e0c92c": {
          "model_module": "@jupyter-widgets/base",
          "model_name": "LayoutModel",
          "state": {
            "_view_name": "LayoutView",
            "grid_template_rows": null,
            "right": null,
            "justify_content": null,
            "_view_module": "@jupyter-widgets/base",
            "overflow": null,
            "_model_module_version": "1.2.0",
            "_view_count": null,
            "flex_flow": null,
            "width": null,
            "min_width": null,
            "border": null,
            "align_items": null,
            "bottom": null,
            "_model_module": "@jupyter-widgets/base",
            "top": null,
            "grid_column": null,
            "overflow_y": null,
            "overflow_x": null,
            "grid_auto_flow": null,
            "grid_area": null,
            "grid_template_columns": null,
            "flex": null,
            "_model_name": "LayoutModel",
            "justify_items": null,
            "grid_row": null,
            "max_height": null,
            "align_content": null,
            "visibility": null,
            "align_self": null,
            "height": null,
            "min_height": null,
            "padding": null,
            "grid_auto_rows": null,
            "grid_gap": null,
            "max_width": null,
            "order": null,
            "_view_module_version": "1.2.0",
            "grid_template_areas": null,
            "object_position": null,
            "object_fit": null,
            "grid_auto_columns": null,
            "margin": null,
            "display": null,
            "left": null
          }
        },
        "0a943a53241d4c90b68ff2f65a543f9f": {
          "model_module": "@jupyter-widgets/controls",
          "model_name": "DescriptionStyleModel",
          "state": {
            "_view_name": "StyleView",
            "_model_name": "DescriptionStyleModel",
            "description_width": "",
            "_view_module": "@jupyter-widgets/base",
            "_model_module_version": "1.5.0",
            "_view_count": null,
            "_view_module_version": "1.2.0",
            "_model_module": "@jupyter-widgets/controls"
          }
        },
        "48a64478336e4691aa3c6d4dcc9d5a9b": {
          "model_module": "@jupyter-widgets/base",
          "model_name": "LayoutModel",
          "state": {
            "_view_name": "LayoutView",
            "grid_template_rows": null,
            "right": null,
            "justify_content": null,
            "_view_module": "@jupyter-widgets/base",
            "overflow": null,
            "_model_module_version": "1.2.0",
            "_view_count": null,
            "flex_flow": null,
            "width": null,
            "min_width": null,
            "border": null,
            "align_items": null,
            "bottom": null,
            "_model_module": "@jupyter-widgets/base",
            "top": null,
            "grid_column": null,
            "overflow_y": null,
            "overflow_x": null,
            "grid_auto_flow": null,
            "grid_area": null,
            "grid_template_columns": null,
            "flex": null,
            "_model_name": "LayoutModel",
            "justify_items": null,
            "grid_row": null,
            "max_height": null,
            "align_content": null,
            "visibility": null,
            "align_self": null,
            "height": null,
            "min_height": null,
            "padding": null,
            "grid_auto_rows": null,
            "grid_gap": null,
            "max_width": null,
            "order": null,
            "_view_module_version": "1.2.0",
            "grid_template_areas": null,
            "object_position": null,
            "object_fit": null,
            "grid_auto_columns": null,
            "margin": null,
            "display": null,
            "left": null
          }
        },
        "a5478a4e7dc6454086e84d42faf3abe2": {
          "model_module": "@jupyter-widgets/controls",
          "model_name": "HBoxModel",
          "state": {
            "_view_name": "HBoxView",
            "_dom_classes": [],
            "_model_name": "HBoxModel",
            "_view_module": "@jupyter-widgets/controls",
            "_model_module_version": "1.5.0",
            "_view_count": null,
            "_view_module_version": "1.5.0",
            "box_style": "",
            "layout": "IPY_MODEL_1dad69beb063405eb9093e9dd619f5bf",
            "_model_module": "@jupyter-widgets/controls",
            "children": [
              "IPY_MODEL_362f706b5a4545b8935cd6ed1993bdc0",
              "IPY_MODEL_dd88247ff713457cb4ebad14feea7f71"
            ]
          }
        },
        "1dad69beb063405eb9093e9dd619f5bf": {
          "model_module": "@jupyter-widgets/base",
          "model_name": "LayoutModel",
          "state": {
            "_view_name": "LayoutView",
            "grid_template_rows": null,
            "right": null,
            "justify_content": null,
            "_view_module": "@jupyter-widgets/base",
            "overflow": null,
            "_model_module_version": "1.2.0",
            "_view_count": null,
            "flex_flow": null,
            "width": null,
            "min_width": null,
            "border": null,
            "align_items": null,
            "bottom": null,
            "_model_module": "@jupyter-widgets/base",
            "top": null,
            "grid_column": null,
            "overflow_y": null,
            "overflow_x": null,
            "grid_auto_flow": null,
            "grid_area": null,
            "grid_template_columns": null,
            "flex": null,
            "_model_name": "LayoutModel",
            "justify_items": null,
            "grid_row": null,
            "max_height": null,
            "align_content": null,
            "visibility": null,
            "align_self": null,
            "height": null,
            "min_height": null,
            "padding": null,
            "grid_auto_rows": null,
            "grid_gap": null,
            "max_width": null,
            "order": null,
            "_view_module_version": "1.2.0",
            "grid_template_areas": null,
            "object_position": null,
            "object_fit": null,
            "grid_auto_columns": null,
            "margin": null,
            "display": null,
            "left": null
          }
        },
        "362f706b5a4545b8935cd6ed1993bdc0": {
          "model_module": "@jupyter-widgets/controls",
          "model_name": "FloatProgressModel",
          "state": {
            "_view_name": "ProgressView",
            "style": "IPY_MODEL_8d0a3701a1c5494d8fdb92b12c2d9e30",
            "_dom_classes": [],
            "description": "100%",
            "_model_name": "FloatProgressModel",
            "bar_style": "success",
            "max": 411,
            "_view_module": "@jupyter-widgets/controls",
            "_model_module_version": "1.5.0",
            "value": 411,
            "_view_count": null,
            "_view_module_version": "1.5.0",
            "orientation": "horizontal",
            "min": 0,
            "description_tooltip": null,
            "_model_module": "@jupyter-widgets/controls",
            "layout": "IPY_MODEL_9b60299132e5417bb2a322394b6dc3cc"
          }
        },
        "dd88247ff713457cb4ebad14feea7f71": {
          "model_module": "@jupyter-widgets/controls",
          "model_name": "HTMLModel",
          "state": {
            "_view_name": "HTMLView",
            "style": "IPY_MODEL_89c0e98df7d045588f0b0a88f41f3867",
            "_dom_classes": [],
            "description": "",
            "_model_name": "HTMLModel",
            "placeholder": "​",
            "_view_module": "@jupyter-widgets/controls",
            "_model_module_version": "1.5.0",
            "value": " 411/411 [00:00&lt;00:00, 1579.00it/s]",
            "_view_count": null,
            "_view_module_version": "1.5.0",
            "description_tooltip": null,
            "_model_module": "@jupyter-widgets/controls",
            "layout": "IPY_MODEL_aa06acc36969480d9a3d62b59cf0b388"
          }
        },
        "8d0a3701a1c5494d8fdb92b12c2d9e30": {
          "model_module": "@jupyter-widgets/controls",
          "model_name": "ProgressStyleModel",
          "state": {
            "_view_name": "StyleView",
            "_model_name": "ProgressStyleModel",
            "description_width": "initial",
            "_view_module": "@jupyter-widgets/base",
            "_model_module_version": "1.5.0",
            "_view_count": null,
            "_view_module_version": "1.2.0",
            "bar_color": null,
            "_model_module": "@jupyter-widgets/controls"
          }
        },
        "9b60299132e5417bb2a322394b6dc3cc": {
          "model_module": "@jupyter-widgets/base",
          "model_name": "LayoutModel",
          "state": {
            "_view_name": "LayoutView",
            "grid_template_rows": null,
            "right": null,
            "justify_content": null,
            "_view_module": "@jupyter-widgets/base",
            "overflow": null,
            "_model_module_version": "1.2.0",
            "_view_count": null,
            "flex_flow": null,
            "width": null,
            "min_width": null,
            "border": null,
            "align_items": null,
            "bottom": null,
            "_model_module": "@jupyter-widgets/base",
            "top": null,
            "grid_column": null,
            "overflow_y": null,
            "overflow_x": null,
            "grid_auto_flow": null,
            "grid_area": null,
            "grid_template_columns": null,
            "flex": null,
            "_model_name": "LayoutModel",
            "justify_items": null,
            "grid_row": null,
            "max_height": null,
            "align_content": null,
            "visibility": null,
            "align_self": null,
            "height": null,
            "min_height": null,
            "padding": null,
            "grid_auto_rows": null,
            "grid_gap": null,
            "max_width": null,
            "order": null,
            "_view_module_version": "1.2.0",
            "grid_template_areas": null,
            "object_position": null,
            "object_fit": null,
            "grid_auto_columns": null,
            "margin": null,
            "display": null,
            "left": null
          }
        },
        "89c0e98df7d045588f0b0a88f41f3867": {
          "model_module": "@jupyter-widgets/controls",
          "model_name": "DescriptionStyleModel",
          "state": {
            "_view_name": "StyleView",
            "_model_name": "DescriptionStyleModel",
            "description_width": "",
            "_view_module": "@jupyter-widgets/base",
            "_model_module_version": "1.5.0",
            "_view_count": null,
            "_view_module_version": "1.2.0",
            "_model_module": "@jupyter-widgets/controls"
          }
        },
        "aa06acc36969480d9a3d62b59cf0b388": {
          "model_module": "@jupyter-widgets/base",
          "model_name": "LayoutModel",
          "state": {
            "_view_name": "LayoutView",
            "grid_template_rows": null,
            "right": null,
            "justify_content": null,
            "_view_module": "@jupyter-widgets/base",
            "overflow": null,
            "_model_module_version": "1.2.0",
            "_view_count": null,
            "flex_flow": null,
            "width": null,
            "min_width": null,
            "border": null,
            "align_items": null,
            "bottom": null,
            "_model_module": "@jupyter-widgets/base",
            "top": null,
            "grid_column": null,
            "overflow_y": null,
            "overflow_x": null,
            "grid_auto_flow": null,
            "grid_area": null,
            "grid_template_columns": null,
            "flex": null,
            "_model_name": "LayoutModel",
            "justify_items": null,
            "grid_row": null,
            "max_height": null,
            "align_content": null,
            "visibility": null,
            "align_self": null,
            "height": null,
            "min_height": null,
            "padding": null,
            "grid_auto_rows": null,
            "grid_gap": null,
            "max_width": null,
            "order": null,
            "_view_module_version": "1.2.0",
            "grid_template_areas": null,
            "object_position": null,
            "object_fit": null,
            "grid_auto_columns": null,
            "margin": null,
            "display": null,
            "left": null
          }
        },
        "c5023515f0234d31b6cebbcececa0845": {
          "model_module": "@jupyter-widgets/controls",
          "model_name": "HBoxModel",
          "state": {
            "_view_name": "HBoxView",
            "_dom_classes": [],
            "_model_name": "HBoxModel",
            "_view_module": "@jupyter-widgets/controls",
            "_model_module_version": "1.5.0",
            "_view_count": null,
            "_view_module_version": "1.5.0",
            "box_style": "",
            "layout": "IPY_MODEL_4425a797410c441e8e5e893751a2d0e9",
            "_model_module": "@jupyter-widgets/controls",
            "children": [
              "IPY_MODEL_7a2538beaa3743899d9198b7481ed8ec",
              "IPY_MODEL_83ccec3ae6bf4dc986eae84c2aa45dea"
            ]
          }
        },
        "4425a797410c441e8e5e893751a2d0e9": {
          "model_module": "@jupyter-widgets/base",
          "model_name": "LayoutModel",
          "state": {
            "_view_name": "LayoutView",
            "grid_template_rows": null,
            "right": null,
            "justify_content": null,
            "_view_module": "@jupyter-widgets/base",
            "overflow": null,
            "_model_module_version": "1.2.0",
            "_view_count": null,
            "flex_flow": null,
            "width": null,
            "min_width": null,
            "border": null,
            "align_items": null,
            "bottom": null,
            "_model_module": "@jupyter-widgets/base",
            "top": null,
            "grid_column": null,
            "overflow_y": null,
            "overflow_x": null,
            "grid_auto_flow": null,
            "grid_area": null,
            "grid_template_columns": null,
            "flex": null,
            "_model_name": "LayoutModel",
            "justify_items": null,
            "grid_row": null,
            "max_height": null,
            "align_content": null,
            "visibility": null,
            "align_self": null,
            "height": null,
            "min_height": null,
            "padding": null,
            "grid_auto_rows": null,
            "grid_gap": null,
            "max_width": null,
            "order": null,
            "_view_module_version": "1.2.0",
            "grid_template_areas": null,
            "object_position": null,
            "object_fit": null,
            "grid_auto_columns": null,
            "margin": null,
            "display": null,
            "left": null
          }
        },
        "7a2538beaa3743899d9198b7481ed8ec": {
          "model_module": "@jupyter-widgets/controls",
          "model_name": "FloatProgressModel",
          "state": {
            "_view_name": "ProgressView",
            "style": "IPY_MODEL_d6df65f2712a417c8e624d2fa96f4c9e",
            "_dom_classes": [],
            "description": "100%",
            "_model_name": "FloatProgressModel",
            "bar_style": "success",
            "max": 411,
            "_view_module": "@jupyter-widgets/controls",
            "_model_module_version": "1.5.0",
            "value": 411,
            "_view_count": null,
            "_view_module_version": "1.5.0",
            "orientation": "horizontal",
            "min": 0,
            "description_tooltip": null,
            "_model_module": "@jupyter-widgets/controls",
            "layout": "IPY_MODEL_cc84b80d4f414ca6bfc4dad4ced2dcad"
          }
        },
        "83ccec3ae6bf4dc986eae84c2aa45dea": {
          "model_module": "@jupyter-widgets/controls",
          "model_name": "HTMLModel",
          "state": {
            "_view_name": "HTMLView",
            "style": "IPY_MODEL_0d357b5bae524fa4b3ff7cd968c659bf",
            "_dom_classes": [],
            "description": "",
            "_model_name": "HTMLModel",
            "placeholder": "​",
            "_view_module": "@jupyter-widgets/controls",
            "_model_module_version": "1.5.0",
            "value": " 411/411 [00:00&lt;00:00, 5975.85it/s]",
            "_view_count": null,
            "_view_module_version": "1.5.0",
            "description_tooltip": null,
            "_model_module": "@jupyter-widgets/controls",
            "layout": "IPY_MODEL_eaa9204bdf804c69863405ba5950835f"
          }
        },
        "d6df65f2712a417c8e624d2fa96f4c9e": {
          "model_module": "@jupyter-widgets/controls",
          "model_name": "ProgressStyleModel",
          "state": {
            "_view_name": "StyleView",
            "_model_name": "ProgressStyleModel",
            "description_width": "initial",
            "_view_module": "@jupyter-widgets/base",
            "_model_module_version": "1.5.0",
            "_view_count": null,
            "_view_module_version": "1.2.0",
            "bar_color": null,
            "_model_module": "@jupyter-widgets/controls"
          }
        },
        "cc84b80d4f414ca6bfc4dad4ced2dcad": {
          "model_module": "@jupyter-widgets/base",
          "model_name": "LayoutModel",
          "state": {
            "_view_name": "LayoutView",
            "grid_template_rows": null,
            "right": null,
            "justify_content": null,
            "_view_module": "@jupyter-widgets/base",
            "overflow": null,
            "_model_module_version": "1.2.0",
            "_view_count": null,
            "flex_flow": null,
            "width": null,
            "min_width": null,
            "border": null,
            "align_items": null,
            "bottom": null,
            "_model_module": "@jupyter-widgets/base",
            "top": null,
            "grid_column": null,
            "overflow_y": null,
            "overflow_x": null,
            "grid_auto_flow": null,
            "grid_area": null,
            "grid_template_columns": null,
            "flex": null,
            "_model_name": "LayoutModel",
            "justify_items": null,
            "grid_row": null,
            "max_height": null,
            "align_content": null,
            "visibility": null,
            "align_self": null,
            "height": null,
            "min_height": null,
            "padding": null,
            "grid_auto_rows": null,
            "grid_gap": null,
            "max_width": null,
            "order": null,
            "_view_module_version": "1.2.0",
            "grid_template_areas": null,
            "object_position": null,
            "object_fit": null,
            "grid_auto_columns": null,
            "margin": null,
            "display": null,
            "left": null
          }
        },
        "0d357b5bae524fa4b3ff7cd968c659bf": {
          "model_module": "@jupyter-widgets/controls",
          "model_name": "DescriptionStyleModel",
          "state": {
            "_view_name": "StyleView",
            "_model_name": "DescriptionStyleModel",
            "description_width": "",
            "_view_module": "@jupyter-widgets/base",
            "_model_module_version": "1.5.0",
            "_view_count": null,
            "_view_module_version": "1.2.0",
            "_model_module": "@jupyter-widgets/controls"
          }
        },
        "eaa9204bdf804c69863405ba5950835f": {
          "model_module": "@jupyter-widgets/base",
          "model_name": "LayoutModel",
          "state": {
            "_view_name": "LayoutView",
            "grid_template_rows": null,
            "right": null,
            "justify_content": null,
            "_view_module": "@jupyter-widgets/base",
            "overflow": null,
            "_model_module_version": "1.2.0",
            "_view_count": null,
            "flex_flow": null,
            "width": null,
            "min_width": null,
            "border": null,
            "align_items": null,
            "bottom": null,
            "_model_module": "@jupyter-widgets/base",
            "top": null,
            "grid_column": null,
            "overflow_y": null,
            "overflow_x": null,
            "grid_auto_flow": null,
            "grid_area": null,
            "grid_template_columns": null,
            "flex": null,
            "_model_name": "LayoutModel",
            "justify_items": null,
            "grid_row": null,
            "max_height": null,
            "align_content": null,
            "visibility": null,
            "align_self": null,
            "height": null,
            "min_height": null,
            "padding": null,
            "grid_auto_rows": null,
            "grid_gap": null,
            "max_width": null,
            "order": null,
            "_view_module_version": "1.2.0",
            "grid_template_areas": null,
            "object_position": null,
            "object_fit": null,
            "grid_auto_columns": null,
            "margin": null,
            "display": null,
            "left": null
          }
        },
        "65c95ff741b44eb289d0f6efa2a73e34": {
          "model_module": "@jupyter-widgets/controls",
          "model_name": "HBoxModel",
          "state": {
            "_view_name": "HBoxView",
            "_dom_classes": [],
            "_model_name": "HBoxModel",
            "_view_module": "@jupyter-widgets/controls",
            "_model_module_version": "1.5.0",
            "_view_count": null,
            "_view_module_version": "1.5.0",
            "box_style": "",
            "layout": "IPY_MODEL_4dfb7e1322874aa0abba32fdc2c4e418",
            "_model_module": "@jupyter-widgets/controls",
            "children": [
              "IPY_MODEL_6484f5bf28a34505ab145f9c833c04e6",
              "IPY_MODEL_bf218880e0d34951bf279f1ea1c44250"
            ]
          }
        },
        "4dfb7e1322874aa0abba32fdc2c4e418": {
          "model_module": "@jupyter-widgets/base",
          "model_name": "LayoutModel",
          "state": {
            "_view_name": "LayoutView",
            "grid_template_rows": null,
            "right": null,
            "justify_content": null,
            "_view_module": "@jupyter-widgets/base",
            "overflow": null,
            "_model_module_version": "1.2.0",
            "_view_count": null,
            "flex_flow": null,
            "width": null,
            "min_width": null,
            "border": null,
            "align_items": null,
            "bottom": null,
            "_model_module": "@jupyter-widgets/base",
            "top": null,
            "grid_column": null,
            "overflow_y": null,
            "overflow_x": null,
            "grid_auto_flow": null,
            "grid_area": null,
            "grid_template_columns": null,
            "flex": null,
            "_model_name": "LayoutModel",
            "justify_items": null,
            "grid_row": null,
            "max_height": null,
            "align_content": null,
            "visibility": null,
            "align_self": null,
            "height": null,
            "min_height": null,
            "padding": null,
            "grid_auto_rows": null,
            "grid_gap": null,
            "max_width": null,
            "order": null,
            "_view_module_version": "1.2.0",
            "grid_template_areas": null,
            "object_position": null,
            "object_fit": null,
            "grid_auto_columns": null,
            "margin": null,
            "display": null,
            "left": null
          }
        },
        "6484f5bf28a34505ab145f9c833c04e6": {
          "model_module": "@jupyter-widgets/controls",
          "model_name": "FloatProgressModel",
          "state": {
            "_view_name": "ProgressView",
            "style": "IPY_MODEL_5edcadc80f0c4af38503dd60a8f6e4ba",
            "_dom_classes": [],
            "description": "100%",
            "_model_name": "FloatProgressModel",
            "bar_style": "success",
            "max": 411,
            "_view_module": "@jupyter-widgets/controls",
            "_model_module_version": "1.5.0",
            "value": 411,
            "_view_count": null,
            "_view_module_version": "1.5.0",
            "orientation": "horizontal",
            "min": 0,
            "description_tooltip": null,
            "_model_module": "@jupyter-widgets/controls",
            "layout": "IPY_MODEL_a702fadd84d548889cbbcae20697f74e"
          }
        },
        "bf218880e0d34951bf279f1ea1c44250": {
          "model_module": "@jupyter-widgets/controls",
          "model_name": "HTMLModel",
          "state": {
            "_view_name": "HTMLView",
            "style": "IPY_MODEL_f81a6493b54848439169c7275a127c49",
            "_dom_classes": [],
            "description": "",
            "_model_name": "HTMLModel",
            "placeholder": "​",
            "_view_module": "@jupyter-widgets/controls",
            "_model_module_version": "1.5.0",
            "value": " 411/411 [01:10&lt;00:00,  5.84it/s]",
            "_view_count": null,
            "_view_module_version": "1.5.0",
            "description_tooltip": null,
            "_model_module": "@jupyter-widgets/controls",
            "layout": "IPY_MODEL_c8cf8981a95e441b9be49cec5edbb821"
          }
        },
        "5edcadc80f0c4af38503dd60a8f6e4ba": {
          "model_module": "@jupyter-widgets/controls",
          "model_name": "ProgressStyleModel",
          "state": {
            "_view_name": "StyleView",
            "_model_name": "ProgressStyleModel",
            "description_width": "initial",
            "_view_module": "@jupyter-widgets/base",
            "_model_module_version": "1.5.0",
            "_view_count": null,
            "_view_module_version": "1.2.0",
            "bar_color": null,
            "_model_module": "@jupyter-widgets/controls"
          }
        },
        "a702fadd84d548889cbbcae20697f74e": {
          "model_module": "@jupyter-widgets/base",
          "model_name": "LayoutModel",
          "state": {
            "_view_name": "LayoutView",
            "grid_template_rows": null,
            "right": null,
            "justify_content": null,
            "_view_module": "@jupyter-widgets/base",
            "overflow": null,
            "_model_module_version": "1.2.0",
            "_view_count": null,
            "flex_flow": null,
            "width": null,
            "min_width": null,
            "border": null,
            "align_items": null,
            "bottom": null,
            "_model_module": "@jupyter-widgets/base",
            "top": null,
            "grid_column": null,
            "overflow_y": null,
            "overflow_x": null,
            "grid_auto_flow": null,
            "grid_area": null,
            "grid_template_columns": null,
            "flex": null,
            "_model_name": "LayoutModel",
            "justify_items": null,
            "grid_row": null,
            "max_height": null,
            "align_content": null,
            "visibility": null,
            "align_self": null,
            "height": null,
            "min_height": null,
            "padding": null,
            "grid_auto_rows": null,
            "grid_gap": null,
            "max_width": null,
            "order": null,
            "_view_module_version": "1.2.0",
            "grid_template_areas": null,
            "object_position": null,
            "object_fit": null,
            "grid_auto_columns": null,
            "margin": null,
            "display": null,
            "left": null
          }
        },
        "f81a6493b54848439169c7275a127c49": {
          "model_module": "@jupyter-widgets/controls",
          "model_name": "DescriptionStyleModel",
          "state": {
            "_view_name": "StyleView",
            "_model_name": "DescriptionStyleModel",
            "description_width": "",
            "_view_module": "@jupyter-widgets/base",
            "_model_module_version": "1.5.0",
            "_view_count": null,
            "_view_module_version": "1.2.0",
            "_model_module": "@jupyter-widgets/controls"
          }
        },
        "c8cf8981a95e441b9be49cec5edbb821": {
          "model_module": "@jupyter-widgets/base",
          "model_name": "LayoutModel",
          "state": {
            "_view_name": "LayoutView",
            "grid_template_rows": null,
            "right": null,
            "justify_content": null,
            "_view_module": "@jupyter-widgets/base",
            "overflow": null,
            "_model_module_version": "1.2.0",
            "_view_count": null,
            "flex_flow": null,
            "width": null,
            "min_width": null,
            "border": null,
            "align_items": null,
            "bottom": null,
            "_model_module": "@jupyter-widgets/base",
            "top": null,
            "grid_column": null,
            "overflow_y": null,
            "overflow_x": null,
            "grid_auto_flow": null,
            "grid_area": null,
            "grid_template_columns": null,
            "flex": null,
            "_model_name": "LayoutModel",
            "justify_items": null,
            "grid_row": null,
            "max_height": null,
            "align_content": null,
            "visibility": null,
            "align_self": null,
            "height": null,
            "min_height": null,
            "padding": null,
            "grid_auto_rows": null,
            "grid_gap": null,
            "max_width": null,
            "order": null,
            "_view_module_version": "1.2.0",
            "grid_template_areas": null,
            "object_position": null,
            "object_fit": null,
            "grid_auto_columns": null,
            "margin": null,
            "display": null,
            "left": null
          }
        },
        "9a2c5d0d3d77411fa536c545e84ab512": {
          "model_module": "@jupyter-widgets/controls",
          "model_name": "HBoxModel",
          "state": {
            "_view_name": "HBoxView",
            "_dom_classes": [],
            "_model_name": "HBoxModel",
            "_view_module": "@jupyter-widgets/controls",
            "_model_module_version": "1.5.0",
            "_view_count": null,
            "_view_module_version": "1.5.0",
            "box_style": "",
            "layout": "IPY_MODEL_e6655be4fcb0407a8b3f8e5091cfed08",
            "_model_module": "@jupyter-widgets/controls",
            "children": [
              "IPY_MODEL_f935fe92788e4fdabcce188a0b0da360",
              "IPY_MODEL_9653a0b4f3e248acb245d9fa2d8307b4"
            ]
          }
        },
        "e6655be4fcb0407a8b3f8e5091cfed08": {
          "model_module": "@jupyter-widgets/base",
          "model_name": "LayoutModel",
          "state": {
            "_view_name": "LayoutView",
            "grid_template_rows": null,
            "right": null,
            "justify_content": null,
            "_view_module": "@jupyter-widgets/base",
            "overflow": null,
            "_model_module_version": "1.2.0",
            "_view_count": null,
            "flex_flow": null,
            "width": null,
            "min_width": null,
            "border": null,
            "align_items": null,
            "bottom": null,
            "_model_module": "@jupyter-widgets/base",
            "top": null,
            "grid_column": null,
            "overflow_y": null,
            "overflow_x": null,
            "grid_auto_flow": null,
            "grid_area": null,
            "grid_template_columns": null,
            "flex": null,
            "_model_name": "LayoutModel",
            "justify_items": null,
            "grid_row": null,
            "max_height": null,
            "align_content": null,
            "visibility": null,
            "align_self": null,
            "height": null,
            "min_height": null,
            "padding": null,
            "grid_auto_rows": null,
            "grid_gap": null,
            "max_width": null,
            "order": null,
            "_view_module_version": "1.2.0",
            "grid_template_areas": null,
            "object_position": null,
            "object_fit": null,
            "grid_auto_columns": null,
            "margin": null,
            "display": null,
            "left": null
          }
        },
        "f935fe92788e4fdabcce188a0b0da360": {
          "model_module": "@jupyter-widgets/controls",
          "model_name": "FloatProgressModel",
          "state": {
            "_view_name": "ProgressView",
            "style": "IPY_MODEL_5af5d332dbf84fa9bc6b5283487ffdd9",
            "_dom_classes": [],
            "description": "100%",
            "_model_name": "FloatProgressModel",
            "bar_style": "success",
            "max": 411,
            "_view_module": "@jupyter-widgets/controls",
            "_model_module_version": "1.5.0",
            "value": 411,
            "_view_count": null,
            "_view_module_version": "1.5.0",
            "orientation": "horizontal",
            "min": 0,
            "description_tooltip": null,
            "_model_module": "@jupyter-widgets/controls",
            "layout": "IPY_MODEL_59e9f357283e41359882c9ef60050f04"
          }
        },
        "9653a0b4f3e248acb245d9fa2d8307b4": {
          "model_module": "@jupyter-widgets/controls",
          "model_name": "HTMLModel",
          "state": {
            "_view_name": "HTMLView",
            "style": "IPY_MODEL_b9701128a3c34e628965a102b1a433ba",
            "_dom_classes": [],
            "description": "",
            "_model_name": "HTMLModel",
            "placeholder": "​",
            "_view_module": "@jupyter-widgets/controls",
            "_model_module_version": "1.5.0",
            "value": " 411/411 [00:27&lt;00:00, 14.71it/s]",
            "_view_count": null,
            "_view_module_version": "1.5.0",
            "description_tooltip": null,
            "_model_module": "@jupyter-widgets/controls",
            "layout": "IPY_MODEL_6559ea8f590d45ca86adca0116e1c3ce"
          }
        },
        "5af5d332dbf84fa9bc6b5283487ffdd9": {
          "model_module": "@jupyter-widgets/controls",
          "model_name": "ProgressStyleModel",
          "state": {
            "_view_name": "StyleView",
            "_model_name": "ProgressStyleModel",
            "description_width": "initial",
            "_view_module": "@jupyter-widgets/base",
            "_model_module_version": "1.5.0",
            "_view_count": null,
            "_view_module_version": "1.2.0",
            "bar_color": null,
            "_model_module": "@jupyter-widgets/controls"
          }
        },
        "59e9f357283e41359882c9ef60050f04": {
          "model_module": "@jupyter-widgets/base",
          "model_name": "LayoutModel",
          "state": {
            "_view_name": "LayoutView",
            "grid_template_rows": null,
            "right": null,
            "justify_content": null,
            "_view_module": "@jupyter-widgets/base",
            "overflow": null,
            "_model_module_version": "1.2.0",
            "_view_count": null,
            "flex_flow": null,
            "width": null,
            "min_width": null,
            "border": null,
            "align_items": null,
            "bottom": null,
            "_model_module": "@jupyter-widgets/base",
            "top": null,
            "grid_column": null,
            "overflow_y": null,
            "overflow_x": null,
            "grid_auto_flow": null,
            "grid_area": null,
            "grid_template_columns": null,
            "flex": null,
            "_model_name": "LayoutModel",
            "justify_items": null,
            "grid_row": null,
            "max_height": null,
            "align_content": null,
            "visibility": null,
            "align_self": null,
            "height": null,
            "min_height": null,
            "padding": null,
            "grid_auto_rows": null,
            "grid_gap": null,
            "max_width": null,
            "order": null,
            "_view_module_version": "1.2.0",
            "grid_template_areas": null,
            "object_position": null,
            "object_fit": null,
            "grid_auto_columns": null,
            "margin": null,
            "display": null,
            "left": null
          }
        },
        "b9701128a3c34e628965a102b1a433ba": {
          "model_module": "@jupyter-widgets/controls",
          "model_name": "DescriptionStyleModel",
          "state": {
            "_view_name": "StyleView",
            "_model_name": "DescriptionStyleModel",
            "description_width": "",
            "_view_module": "@jupyter-widgets/base",
            "_model_module_version": "1.5.0",
            "_view_count": null,
            "_view_module_version": "1.2.0",
            "_model_module": "@jupyter-widgets/controls"
          }
        },
        "6559ea8f590d45ca86adca0116e1c3ce": {
          "model_module": "@jupyter-widgets/base",
          "model_name": "LayoutModel",
          "state": {
            "_view_name": "LayoutView",
            "grid_template_rows": null,
            "right": null,
            "justify_content": null,
            "_view_module": "@jupyter-widgets/base",
            "overflow": null,
            "_model_module_version": "1.2.0",
            "_view_count": null,
            "flex_flow": null,
            "width": null,
            "min_width": null,
            "border": null,
            "align_items": null,
            "bottom": null,
            "_model_module": "@jupyter-widgets/base",
            "top": null,
            "grid_column": null,
            "overflow_y": null,
            "overflow_x": null,
            "grid_auto_flow": null,
            "grid_area": null,
            "grid_template_columns": null,
            "flex": null,
            "_model_name": "LayoutModel",
            "justify_items": null,
            "grid_row": null,
            "max_height": null,
            "align_content": null,
            "visibility": null,
            "align_self": null,
            "height": null,
            "min_height": null,
            "padding": null,
            "grid_auto_rows": null,
            "grid_gap": null,
            "max_width": null,
            "order": null,
            "_view_module_version": "1.2.0",
            "grid_template_areas": null,
            "object_position": null,
            "object_fit": null,
            "grid_auto_columns": null,
            "margin": null,
            "display": null,
            "left": null
          }
        },
        "e68cb8fdd4e84ae984823d7d874e34ed": {
          "model_module": "@jupyter-widgets/controls",
          "model_name": "HBoxModel",
          "state": {
            "_view_name": "HBoxView",
            "_dom_classes": [],
            "_model_name": "HBoxModel",
            "_view_module": "@jupyter-widgets/controls",
            "_model_module_version": "1.5.0",
            "_view_count": null,
            "_view_module_version": "1.5.0",
            "box_style": "",
            "layout": "IPY_MODEL_c5d271e394b144918345ea0972eda296",
            "_model_module": "@jupyter-widgets/controls",
            "children": [
              "IPY_MODEL_c8c0094cbe114e71be3b25cfa1cf6a74",
              "IPY_MODEL_789fb2a3de0d416ba50c220d516a353d"
            ]
          }
        },
        "c5d271e394b144918345ea0972eda296": {
          "model_module": "@jupyter-widgets/base",
          "model_name": "LayoutModel",
          "state": {
            "_view_name": "LayoutView",
            "grid_template_rows": null,
            "right": null,
            "justify_content": null,
            "_view_module": "@jupyter-widgets/base",
            "overflow": null,
            "_model_module_version": "1.2.0",
            "_view_count": null,
            "flex_flow": null,
            "width": null,
            "min_width": null,
            "border": null,
            "align_items": null,
            "bottom": null,
            "_model_module": "@jupyter-widgets/base",
            "top": null,
            "grid_column": null,
            "overflow_y": null,
            "overflow_x": null,
            "grid_auto_flow": null,
            "grid_area": null,
            "grid_template_columns": null,
            "flex": null,
            "_model_name": "LayoutModel",
            "justify_items": null,
            "grid_row": null,
            "max_height": null,
            "align_content": null,
            "visibility": null,
            "align_self": null,
            "height": null,
            "min_height": null,
            "padding": null,
            "grid_auto_rows": null,
            "grid_gap": null,
            "max_width": null,
            "order": null,
            "_view_module_version": "1.2.0",
            "grid_template_areas": null,
            "object_position": null,
            "object_fit": null,
            "grid_auto_columns": null,
            "margin": null,
            "display": null,
            "left": null
          }
        },
        "c8c0094cbe114e71be3b25cfa1cf6a74": {
          "model_module": "@jupyter-widgets/controls",
          "model_name": "FloatProgressModel",
          "state": {
            "_view_name": "ProgressView",
            "style": "IPY_MODEL_d5bceb9a7c2341c9a59fbed218b9307c",
            "_dom_classes": [],
            "description": "Downloading: 100%",
            "_model_name": "FloatProgressModel",
            "bar_style": "success",
            "max": 963211760,
            "_view_module": "@jupyter-widgets/controls",
            "_model_module_version": "1.5.0",
            "value": 963211760,
            "_view_count": null,
            "_view_module_version": "1.5.0",
            "orientation": "horizontal",
            "min": 0,
            "description_tooltip": null,
            "_model_module": "@jupyter-widgets/controls",
            "layout": "IPY_MODEL_7c4f3a1a78c041429a31d7c704dc6eac"
          }
        },
        "789fb2a3de0d416ba50c220d516a353d": {
          "model_module": "@jupyter-widgets/controls",
          "model_name": "HTMLModel",
          "state": {
            "_view_name": "HTMLView",
            "style": "IPY_MODEL_a0da08b2397f47618802029ffbe4b435",
            "_dom_classes": [],
            "description": "",
            "_model_name": "HTMLModel",
            "placeholder": "​",
            "_view_module": "@jupyter-widgets/controls",
            "_model_module_version": "1.5.0",
            "value": " 963M/963M [00:22&lt;00:00, 42.4MB/s]",
            "_view_count": null,
            "_view_module_version": "1.5.0",
            "description_tooltip": null,
            "_model_module": "@jupyter-widgets/controls",
            "layout": "IPY_MODEL_4974603c97d2423d8e58040ed48a6ad3"
          }
        },
        "d5bceb9a7c2341c9a59fbed218b9307c": {
          "model_module": "@jupyter-widgets/controls",
          "model_name": "ProgressStyleModel",
          "state": {
            "_view_name": "StyleView",
            "_model_name": "ProgressStyleModel",
            "description_width": "initial",
            "_view_module": "@jupyter-widgets/base",
            "_model_module_version": "1.5.0",
            "_view_count": null,
            "_view_module_version": "1.2.0",
            "bar_color": null,
            "_model_module": "@jupyter-widgets/controls"
          }
        },
        "7c4f3a1a78c041429a31d7c704dc6eac": {
          "model_module": "@jupyter-widgets/base",
          "model_name": "LayoutModel",
          "state": {
            "_view_name": "LayoutView",
            "grid_template_rows": null,
            "right": null,
            "justify_content": null,
            "_view_module": "@jupyter-widgets/base",
            "overflow": null,
            "_model_module_version": "1.2.0",
            "_view_count": null,
            "flex_flow": null,
            "width": null,
            "min_width": null,
            "border": null,
            "align_items": null,
            "bottom": null,
            "_model_module": "@jupyter-widgets/base",
            "top": null,
            "grid_column": null,
            "overflow_y": null,
            "overflow_x": null,
            "grid_auto_flow": null,
            "grid_area": null,
            "grid_template_columns": null,
            "flex": null,
            "_model_name": "LayoutModel",
            "justify_items": null,
            "grid_row": null,
            "max_height": null,
            "align_content": null,
            "visibility": null,
            "align_self": null,
            "height": null,
            "min_height": null,
            "padding": null,
            "grid_auto_rows": null,
            "grid_gap": null,
            "max_width": null,
            "order": null,
            "_view_module_version": "1.2.0",
            "grid_template_areas": null,
            "object_position": null,
            "object_fit": null,
            "grid_auto_columns": null,
            "margin": null,
            "display": null,
            "left": null
          }
        },
        "a0da08b2397f47618802029ffbe4b435": {
          "model_module": "@jupyter-widgets/controls",
          "model_name": "DescriptionStyleModel",
          "state": {
            "_view_name": "StyleView",
            "_model_name": "DescriptionStyleModel",
            "description_width": "",
            "_view_module": "@jupyter-widgets/base",
            "_model_module_version": "1.5.0",
            "_view_count": null,
            "_view_module_version": "1.2.0",
            "_model_module": "@jupyter-widgets/controls"
          }
        },
        "4974603c97d2423d8e58040ed48a6ad3": {
          "model_module": "@jupyter-widgets/base",
          "model_name": "LayoutModel",
          "state": {
            "_view_name": "LayoutView",
            "grid_template_rows": null,
            "right": null,
            "justify_content": null,
            "_view_module": "@jupyter-widgets/base",
            "overflow": null,
            "_model_module_version": "1.2.0",
            "_view_count": null,
            "flex_flow": null,
            "width": null,
            "min_width": null,
            "border": null,
            "align_items": null,
            "bottom": null,
            "_model_module": "@jupyter-widgets/base",
            "top": null,
            "grid_column": null,
            "overflow_y": null,
            "overflow_x": null,
            "grid_auto_flow": null,
            "grid_area": null,
            "grid_template_columns": null,
            "flex": null,
            "_model_name": "LayoutModel",
            "justify_items": null,
            "grid_row": null,
            "max_height": null,
            "align_content": null,
            "visibility": null,
            "align_self": null,
            "height": null,
            "min_height": null,
            "padding": null,
            "grid_auto_rows": null,
            "grid_gap": null,
            "max_width": null,
            "order": null,
            "_view_module_version": "1.2.0",
            "grid_template_areas": null,
            "object_position": null,
            "object_fit": null,
            "grid_auto_columns": null,
            "margin": null,
            "display": null,
            "left": null
          }
        }
      }
    }
  },
  "cells": [
    {
      "cell_type": "markdown",
      "metadata": {
        "id": "nESEx5V8dlpI"
      },
      "source": [
        "**In this file we use Translation DeepSentiPers Dataset for binary SA**\n"
      ]
    },
    {
      "cell_type": "markdown",
      "metadata": {
        "id": "Z9kXKmxIY64w"
      },
      "source": [
        "# Prepare  sys"
      ]
    },
    {
      "cell_type": "markdown",
      "metadata": {
        "id": "7tJiFIDMyvy-"
      },
      "source": [
        "## check GPU"
      ]
    },
    {
      "cell_type": "code",
      "metadata": {
        "colab": {
          "base_uri": "https://localhost:8080/"
        },
        "id": "NST8XTKswGGx",
        "outputId": "24cb87c5-b2dd-482e-b4e7-e066b1abb3d2"
      },
      "source": [
        "!nvidia-smi #The NVIDIA System Management Interface (nvidia-smi) is a command line utility,\n",
        "            # intended to aid in the management and monitoring of NVIDIA GPU devices. "
      ],
      "execution_count": null,
      "outputs": [
        {
          "output_type": "stream",
          "text": [
            "Tue Jul  6 11:25:46 2021       \n",
            "+-----------------------------------------------------------------------------+\n",
            "| NVIDIA-SMI 465.27       Driver Version: 460.32.03    CUDA Version: 11.2     |\n",
            "|-------------------------------+----------------------+----------------------+\n",
            "| GPU  Name        Persistence-M| Bus-Id        Disp.A | Volatile Uncorr. ECC |\n",
            "| Fan  Temp  Perf  Pwr:Usage/Cap|         Memory-Usage | GPU-Util  Compute M. |\n",
            "|                               |                      |               MIG M. |\n",
            "|===============================+======================+======================|\n",
            "|   0  Tesla T4            Off  | 00000000:00:04.0 Off |                    0 |\n",
            "| N/A   58C    P8    10W /  70W |      0MiB / 15109MiB |      0%      Default |\n",
            "|                               |                      |                  N/A |\n",
            "+-------------------------------+----------------------+----------------------+\n",
            "                                                                               \n",
            "+-----------------------------------------------------------------------------+\n",
            "| Processes:                                                                  |\n",
            "|  GPU   GI   CI        PID   Type   Process name                  GPU Memory |\n",
            "|        ID   ID                                                   Usage      |\n",
            "|=============================================================================|\n",
            "|  No running processes found                                                 |\n",
            "+-----------------------------------------------------------------------------+\n"
          ],
          "name": "stdout"
        }
      ]
    },
    {
      "cell_type": "markdown",
      "metadata": {
        "id": "sw4kYH2HygE_"
      },
      "source": [
        "## Install required packages"
      ]
    },
    {
      "cell_type": "code",
      "metadata": {
        "id": "5g0lGX5uy7EG",
        "colab": {
          "base_uri": "https://localhost:8080/"
        },
        "outputId": "2088f5a5-0489-430b-eef8-3cb286b5b0ad"
      },
      "source": [
        "!pip install -q transformers==3\n",
        "\n",
        "!pip install -q hazm\n",
        "!pip install -q clean-text[gpl]"
      ],
      "execution_count": null,
      "outputs": [
        {
          "output_type": "stream",
          "text": [
            "\u001b[K     |████████████████████████████████| 757kB 7.7MB/s \n",
            "\u001b[K     |████████████████████████████████| 901kB 14.6MB/s \n",
            "\u001b[K     |████████████████████████████████| 3.0MB 35.2MB/s \n",
            "\u001b[K     |████████████████████████████████| 1.2MB 51.0MB/s \n",
            "\u001b[K     |████████████████████████████████| 317kB 7.4MB/s \n",
            "\u001b[K     |████████████████████████████████| 235kB 12.8MB/s \n",
            "\u001b[K     |████████████████████████████████| 1.4MB 13.9MB/s \n",
            "\u001b[?25h  Building wheel for libwapiti (setup.py) ... \u001b[?25l\u001b[?25hdone\n",
            "  Building wheel for nltk (setup.py) ... \u001b[?25l\u001b[?25hdone\n",
            "\u001b[K     |████████████████████████████████| 133kB 10.0MB/s \n",
            "\u001b[K     |████████████████████████████████| 71kB 9.9MB/s \n",
            "\u001b[K     |████████████████████████████████| 245kB 24.0MB/s \n",
            "\u001b[?25h  Building wheel for ftfy (setup.py) ... \u001b[?25l\u001b[?25hdone\n"
          ],
          "name": "stdout"
        }
      ]
    },
    {
      "cell_type": "markdown",
      "metadata": {
        "id": "tGGK1DeyzQdp"
      },
      "source": [
        "## Import required packages"
      ]
    },
    {
      "cell_type": "code",
      "metadata": {
        "id": "WQf66HJFzUcF"
      },
      "source": [
        "import numpy as np\n",
        "import pandas as pd\n",
        "\n",
        "from sklearn.model_selection import train_test_split\n",
        "from sklearn.metrics import classification_report\n",
        "from sklearn.metrics import f1_score\n",
        "from sklearn.utils import shuffle\n",
        "\n",
        "import hazm\n",
        "from cleantext import clean\n",
        "\n",
        "import plotly.express as px\n",
        "import plotly.graph_objects as go\n",
        "import matplotlib.pyplot as plt\n",
        "\n",
        "from tqdm.notebook import tqdm\n",
        "\n",
        "import requests\n",
        "import os\n",
        "import io\n",
        "import re\n",
        "import json\n",
        "import copy\n",
        "import collections"
      ],
      "execution_count": null,
      "outputs": []
    },
    {
      "cell_type": "markdown",
      "metadata": {
        "id": "XGXU4G0S1Grw"
      },
      "source": [
        "# Translation Dataset\n",
        "\n",
        "We are going to use [Translation DeepSentiPers Dataset](https://github.com/JoyeBright/DeepSentiPers/tree/master/Dataset) here.\n",
        "\n",
        "<table style=\"width:100%\">\n",
        "  <tr>\n",
        "    <th>Polarity</th>\n",
        "    <th>-2</th>\n",
        "    <th>-1</th>\n",
        "    <th>0</th>\n",
        "    <th>+1</th>\n",
        "    <th>+2</th>\n",
        "  </tr>\n",
        "  <tr>\n",
        "    <td>Original (SentiPers) DS</td>\n",
        "    <td>28</td>\n",
        "    <td>513</td>\n",
        "    <td>2409</td>\n",
        "    <td>1623</td>\n",
        "    <td>988</td>\n",
        "  </tr>\n",
        "  <tr>\n",
        "    <td>Translation DS</td>\n",
        "    <td>56</td>\n",
        "    <td>1026</td>\n",
        "    <td>4818</td>\n",
        "    <td>3246</td>\n",
        "    <td>1976</td>\n",
        "  </tr>\n",
        "</table>\n",
        "\n"
      ]
    },
    {
      "cell_type": "markdown",
      "metadata": {
        "id": "Ro4v3Wr2RX4q"
      },
      "source": [
        "## Load"
      ]
    },
    {
      "cell_type": "code",
      "metadata": {
        "colab": {
          "base_uri": "https://localhost:8080/"
        },
        "id": "klc0Wz-_zIic",
        "outputId": "40b8b8e0-07bd-4211-b1bd-465083eddd82"
      },
      "source": [
        "url = \"https://raw.githubusercontent.com/JoyeBright/DeepSentiPers/master/Dataset/translation.csv\" \n",
        "download = requests.get(url).content\n",
        "data = pd.read_csv(io.StringIO(download.decode('utf-8')))\n",
        "data.set_axis(['comment', 'rate'], axis='columns', inplace=True)\n",
        "print('The first 5 rows of the dataset: \\n', data.head())"
      ],
      "execution_count": null,
      "outputs": [
        {
          "output_type": "stream",
          "text": [
            "The first 5 rows of the dataset: \n",
            "                                              comment  rate\n",
            "0  کارتهای حافظه معمولاً در تلفنهای همراه به جای ...     0\n",
            "1          وضوح نمایشگر iPod دقیقاً مشابه آیفون است.     0\n",
            "2  اما صفحه نمایش JVC GZ-MG335 از نوع TFT 2.7 این...     0\n",
            "3  سرانجام ، در پشت گوشی ، دوربین از یک فلاش بلند...     0\n",
            "4  در انتهای گوشی ، ایسوس درگاهی را به نام MHL قر...     0\n"
          ],
          "name": "stdout"
        }
      ]
    },
    {
      "cell_type": "code",
      "metadata": {
        "colab": {
          "base_uri": "https://localhost:8080/"
        },
        "id": "sL6_21cGzLEb",
        "outputId": "c4ce5119-9dba-43cb-dae0-1f31983659b9"
      },
      "source": [
        "# print data information\n",
        "print('data information: \\n')\n",
        "print(data.info(), '\\n')"
      ],
      "execution_count": null,
      "outputs": [
        {
          "output_type": "stream",
          "text": [
            "data information: \n",
            "\n",
            "<class 'pandas.core.frame.DataFrame'>\n",
            "RangeIndex: 14045 entries, 0 to 14044\n",
            "Data columns (total 2 columns):\n",
            " #   Column   Non-Null Count  Dtype \n",
            "---  ------   --------------  ----- \n",
            " 0   comment  14045 non-null  object\n",
            " 1   rate     14045 non-null  int64 \n",
            "dtypes: int64(1), object(1)\n",
            "memory usage: 219.6+ KB\n",
            "None \n",
            "\n"
          ],
          "name": "stdout"
        }
      ]
    },
    {
      "cell_type": "markdown",
      "metadata": {
        "id": "IYD6ei8Jeb4W"
      },
      "source": [
        "## Preprocessing\n",
        "\n",
        "The comments have different lengths based on words! Detecting the most normal range could help us find the maximum length of the sequences for the preprocessing step."
      ]
    },
    {
      "cell_type": "code",
      "metadata": {
        "id": "35qF9kA9esGS"
      },
      "source": [
        "# calculate the length of comments based on their words\n",
        "data['comment_len_by_words'] = data['comment'].apply(lambda t: len(hazm.word_tokenize(t)))"
      ],
      "execution_count": null,
      "outputs": []
    },
    {
      "cell_type": "code",
      "metadata": {
        "colab": {
          "base_uri": "https://localhost:8080/"
        },
        "id": "0CO3wJr4Q3gK",
        "outputId": "3d383747-fd85-4f10-c267-e084c6a032b1"
      },
      "source": [
        "min_max_lenT = data[\"comment_len_by_words\"].min(), data[\"comment_len_by_words\"].max()\n",
        "print(f'Min of Translation DS: {min_max_lenT[0]} \\tMax Translation T DS: {min_max_lenT[1]}')"
      ],
      "execution_count": null,
      "outputs": [
        {
          "output_type": "stream",
          "text": [
            "Min of Translation DS: 1 \tMax Translation T DS: 281\n"
          ],
          "name": "stdout"
        }
      ]
    },
    {
      "cell_type": "code",
      "metadata": {
        "colab": {
          "base_uri": "https://localhost:8080/"
        },
        "id": "-jZtC8bpkJl6",
        "outputId": "6dcc3a24-5cb4-4a9f-b78f-7babc27c75dc"
      },
      "source": [
        "Rec = 0\n",
        "for j in range(len(data)):\n",
        "  if (data.iloc[j]['comment_len_by_words'] < 3):\n",
        "    Rec = Rec + 1\n",
        "    print(data.iloc[j]['comment'],data.iloc[j]['rate'],)\n",
        "print(Rec, ' records found with upper comments')"
      ],
      "execution_count": null,
      "outputs": [
        {
          "output_type": "stream",
          "text": [
            "دارای 264 0\n",
            "موفق باشید 0\n",
            "قدیمی است 0\n",
            "موفق باشید 0\n",
            "بسیار قوی 0\n",
            "فرومایه 0\n",
            "مشاهده کام 0\n",
            "سلام. 0\n",
            "پخش HD 0\n",
            "سلام 0\n",
            "سلام. 0\n",
            "سلام. 0\n",
            "موفق باشید 0\n",
            "فروشگاه برنامه 0\n",
            "با تشکر 0\n",
            "با تشکر 0\n",
            "دوربین نیست 0\n",
            "قضاوت شماست 0\n",
            "با تشکر 0\n",
            "دارای 264 0\n",
            "شیک زیبا 1\n",
            "خیلی باحال 1\n",
            "داشتنش خوبه 1\n",
            "مرسی دیجیکالا 1\n",
            "عالی 1\n",
            "سرعت خوب 1\n",
            "قیمت مناسب 1\n",
            "کالای عالی 1\n",
            "خارق العاده 1\n",
            "کامل 1\n",
            "بهتر بود 1\n",
            "داغ نیست 1\n",
            "رنگهای واضح 1\n",
            "موفق باشید 1\n",
            "بدون کنه 1\n",
            "واقعاً زیباست 1\n",
            "عالی بود 1\n",
            "بد نیست 1\n",
            "خیلی بزرگ 1\n",
            "کامل. 1\n",
            "چه جالب 1\n",
            "لمس عالی 1\n",
            "آویزان نیست 1\n",
            "شکرگذاری 1\n",
            "آویزان نیست 1\n",
            "بهترین گوشه 1\n",
            "کامل 2\n",
            "دوربین عالی 2\n",
            "سرعت عالی 2\n",
            "عالیه! 2\n",
            "بسیار جذاب 2\n",
            "عالی. 2\n",
            "خیلی راحت 2\n",
            "تلفن زیبا 2\n",
            "منحصر بفرد 2\n",
            "عالیه. 2\n",
            "واقعا عالیه 2\n",
            "واقعا عالیه 2\n",
            "سلام. 2\n",
            "تلفن عالی 2\n",
            "عجیب 2\n",
            "صدای عالی 2\n",
            "واقعا عالیه 2\n",
            "عالی بود 2\n",
            "عالیه! 2\n",
            "خیلی کوچک 2\n",
            "عالیه 2\n",
            "عالی 2\n",
            "واقعا عالیه 2\n",
            "دوباره عالی 2\n",
            "واقعا عالیه 2\n",
            "واقعا خوب 2\n",
            "عالیه 2\n",
            "عالیه 2\n",
            "عالیه 2\n",
            "کالای عالی 2\n",
            "واقعا قشنگه 2\n",
            "عالیه. 2\n",
            "خیلی خوب 2\n",
            "عالیه. 2\n",
            "واقعا عالیه 2\n",
            "عالیه 2\n",
            "خیلی خوب 2\n",
            "واقعا خوبه 2\n",
            "توقف کار 2\n",
            "فردی است 2\n",
            "عالیه 2\n",
            "واقعاً شیک 2\n",
            "عالی! 2\n",
            "مراقب باش -1\n",
            "کمی! -1\n",
            "ديروز گرفتم 0\n",
            "موفق باشيد 0\n",
            "قديمى شده 0\n",
            "موفق باشين 0\n",
            "با سلام 0\n",
            "موفق باشيد 0\n",
            "با تشکر 0\n",
            "با تشکر 0\n",
            "خدايا ممنونم 0\n",
            "با تشکر 0\n",
            "شارژش خوبه 1\n",
            "مرسي digikala 1\n",
            "دوربينش خوبه 1\n",
            "سرعتش خوبه 1\n",
            "حرف نداره 1\n",
            "گرم نميکنه 1\n",
            "واقعا متفاوت 1\n",
            "موفق باشين 1\n",
            "واقعا زيباست 1\n",
            "عالي بود 1\n",
            "چه جالب 1\n",
            "واقعاً ممنون 1\n",
            "ممنون DigiKala 1\n",
            "دوربين خوبيه 1\n",
            "واقعا محشره 2\n",
            "حرف نداره 2\n",
            "بي نظيره 2\n",
            "واقعاً عاليه 2\n",
            "واقعا عاليه 2\n",
            "گوشي فوق‌العاده‌ايه 2\n",
            "حيرت انگيزه 2\n",
            "واقعاً فوق‌العادست 2\n",
            "عالي بود 2\n",
            "بسيار عالي 2\n",
            "واقعا عاليه 2\n",
            "واقعاً فوق‌العادست 2\n",
            "عاشق دوربينشم 2\n",
            "فوق العادست 2\n",
            "خيلي عاليست 2\n",
            "واقعا معرکست 2\n",
            "واقعا عاليه 2\n",
            "واقعا محشره 2\n",
            "عاشق محصولاتشم 2\n",
            "کارش بيسته 2\n",
            "مراقب باشيد -1\n",
            "136  records found with upper comments\n"
          ],
          "name": "stdout"
        }
      ]
    },
    {
      "cell_type": "code",
      "metadata": {
        "id": "rnCj-iLe3cjb"
      },
      "source": [
        "def data_gl_than(data, less_than=100.0, greater_than=0.0, col='comment_len_by_words'):\n",
        "    data_length = data[col].values\n",
        "\n",
        "    data_glt = sum([1 for length in data_length if greater_than < length <= less_than])\n",
        "\n",
        "    data_glt_rate = (data_glt / len(data_length)) * 100\n",
        "\n",
        "    print(f'Texts with word length of greater than {greater_than} and less than {less_than} includes {data_glt_rate:.2f}% of the whole!')"
      ],
      "execution_count": null,
      "outputs": []
    },
    {
      "cell_type": "code",
      "metadata": {
        "id": "iket7VRN5cgG",
        "colab": {
          "base_uri": "https://localhost:8080/"
        },
        "outputId": "50bebdc0-3581-470c-a832-df9a14d307e9"
      },
      "source": [
        "data_gl_than(data, 256, 2)"
      ],
      "execution_count": null,
      "outputs": [
        {
          "output_type": "stream",
          "text": [
            "Texts with word length of greater than 2 and less than 256 includes 99.00% of the whole!\n"
          ],
          "name": "stdout"
        }
      ]
    },
    {
      "cell_type": "markdown",
      "metadata": {
        "id": "Dl_qea4MyEQp"
      },
      "source": [
        "Seems Texts with word length of greater than 2 and less than 256 includes 99% of the whole! so we can omit the others to have better dataset."
      ]
    },
    {
      "cell_type": "code",
      "metadata": {
        "id": "kNausH6L55fQ"
      },
      "source": [
        "minlim, maxlim = 2, 256"
      ],
      "execution_count": null,
      "outputs": []
    },
    {
      "cell_type": "code",
      "metadata": {
        "id": "kliWRX7-3U1c",
        "colab": {
          "base_uri": "https://localhost:8080/"
        },
        "outputId": "4feba5d5-6d1e-43e5-e99e-2d0fc3f659df"
      },
      "source": [
        "# remove comments with the length beetween 2 and 256 \n",
        "data['comment_len_by_words'] = data['comment_len_by_words'].apply(lambda len_t: len_t if minlim <= len_t <= maxlim else None)\n",
        "data = data.dropna(subset=['comment_len_by_words'])\n",
        "data = data.reset_index(drop=True)\n",
        "data.info()"
      ],
      "execution_count": null,
      "outputs": [
        {
          "output_type": "stream",
          "text": [
            "<class 'pandas.core.frame.DataFrame'>\n",
            "RangeIndex: 14027 entries, 0 to 14026\n",
            "Data columns (total 3 columns):\n",
            " #   Column                Non-Null Count  Dtype  \n",
            "---  ------                --------------  -----  \n",
            " 0   comment               14027 non-null  object \n",
            " 1   rate                  14027 non-null  int64  \n",
            " 2   comment_len_by_words  14027 non-null  float64\n",
            "dtypes: float64(1), int64(1), object(1)\n",
            "memory usage: 328.9+ KB\n"
          ],
          "name": "stdout"
        }
      ]
    },
    {
      "cell_type": "code",
      "metadata": {
        "colab": {
          "base_uri": "https://localhost:8080/",
          "height": 542
        },
        "id": "q5UgJoPlQ4l6",
        "outputId": "d18a3aec-cc86-4b62-a9e7-01a37e017717"
      },
      "source": [
        "fig = go.Figure()\n",
        "\n",
        "fig.add_trace(go.Histogram(\n",
        "    x=data['comment_len_by_words']\n",
        "))\n",
        "\n",
        "fig.update_layout(\n",
        "    title_text='Distribution of word counts within comments in Translation DS',\n",
        "    xaxis_title_text='Word Count',\n",
        "    yaxis_title_text='Frequency',\n",
        "    bargap=0.2,\n",
        "    bargroupgap=0.2)\n",
        "\n",
        "fig.show()"
      ],
      "execution_count": null,
      "outputs": [
        {
          "output_type": "display_data",
          "data": {
            "text/html": [
              "<html>\n",
              "<head><meta charset=\"utf-8\" /></head>\n",
              "<body>\n",
              "    <div>\n",
              "            <script src=\"https://cdnjs.cloudflare.com/ajax/libs/mathjax/2.7.5/MathJax.js?config=TeX-AMS-MML_SVG\"></script><script type=\"text/javascript\">if (window.MathJax) {MathJax.Hub.Config({SVG: {font: \"STIX-Web\"}});}</script>\n",
              "                <script type=\"text/javascript\">window.PlotlyConfig = {MathJaxConfig: 'local'};</script>\n",
              "        <script src=\"https://cdn.plot.ly/plotly-latest.min.js\"></script>    \n",
              "            <div id=\"278a7abe-a092-483b-a0c5-63f0e9b5cefa\" class=\"plotly-graph-div\" style=\"height:525px; width:100%;\"></div>\n",
              "            <script type=\"text/javascript\">\n",
              "                \n",
              "                    window.PLOTLYENV=window.PLOTLYENV || {};\n",
              "                    \n",
              "                if (document.getElementById(\"278a7abe-a092-483b-a0c5-63f0e9b5cefa\")) {\n",
              "                    Plotly.newPlot(\n",
              "                        '278a7abe-a092-483b-a0c5-63f0e9b5cefa',\n",
              "                        [{\"type\": \"histogram\", \"x\": [13.0, 8.0, 17.0, 15.0, 13.0, 37.0, 25.0, 39.0, 30.0, 6.0, 25.0, 11.0, 16.0, 15.0, 27.0, 27.0, 15.0, 4.0, 13.0, 13.0, 10.0, 33.0, 12.0, 32.0, 20.0, 22.0, 21.0, 17.0, 12.0, 23.0, 16.0, 32.0, 24.0, 22.0, 9.0, 20.0, 8.0, 14.0, 13.0, 17.0, 16.0, 10.0, 14.0, 24.0, 9.0, 20.0, 9.0, 35.0, 21.0, 15.0, 28.0, 22.0, 13.0, 11.0, 32.0, 25.0, 27.0, 17.0, 16.0, 21.0, 7.0, 21.0, 23.0, 18.0, 15.0, 20.0, 5.0, 24.0, 17.0, 27.0, 26.0, 24.0, 15.0, 17.0, 10.0, 37.0, 3.0, 28.0, 39.0, 21.0, 22.0, 22.0, 26.0, 13.0, 31.0, 31.0, 9.0, 17.0, 17.0, 10.0, 25.0, 5.0, 25.0, 22.0, 20.0, 17.0, 7.0, 32.0, 12.0, 23.0, 23.0, 18.0, 30.0, 12.0, 17.0, 25.0, 29.0, 19.0, 26.0, 24.0, 18.0, 19.0, 51.0, 11.0, 6.0, 30.0, 9.0, 29.0, 16.0, 8.0, 19.0, 11.0, 15.0, 27.0, 34.0, 8.0, 10.0, 14.0, 16.0, 13.0, 8.0, 5.0, 8.0, 21.0, 11.0, 9.0, 25.0, 66.0, 14.0, 25.0, 25.0, 25.0, 19.0, 20.0, 2.0, 27.0, 18.0, 12.0, 12.0, 19.0, 12.0, 38.0, 9.0, 28.0, 12.0, 7.0, 13.0, 22.0, 46.0, 40.0, 22.0, 17.0, 7.0, 41.0, 18.0, 5.0, 7.0, 19.0, 13.0, 34.0, 10.0, 15.0, 15.0, 11.0, 25.0, 19.0, 20.0, 51.0, 25.0, 28.0, 3.0, 12.0, 27.0, 26.0, 16.0, 13.0, 20.0, 14.0, 17.0, 44.0, 67.0, 4.0, 19.0, 25.0, 16.0, 22.0, 16.0, 16.0, 77.0, 12.0, 18.0, 17.0, 7.0, 16.0, 3.0, 16.0, 6.0, 25.0, 9.0, 31.0, 13.0, 14.0, 24.0, 16.0, 43.0, 12.0, 17.0, 16.0, 23.0, 11.0, 6.0, 6.0, 22.0, 13.0, 18.0, 14.0, 20.0, 9.0, 15.0, 5.0, 10.0, 11.0, 30.0, 41.0, 10.0, 22.0, 19.0, 12.0, 14.0, 11.0, 21.0, 7.0, 26.0, 13.0, 20.0, 19.0, 3.0, 29.0, 18.0, 21.0, 9.0, 11.0, 17.0, 43.0, 18.0, 30.0, 4.0, 11.0, 24.0, 15.0, 8.0, 13.0, 27.0, 10.0, 14.0, 13.0, 11.0, 13.0, 5.0, 5.0, 10.0, 18.0, 32.0, 3.0, 19.0, 24.0, 23.0, 9.0, 13.0, 21.0, 26.0, 21.0, 17.0, 31.0, 37.0, 22.0, 31.0, 13.0, 16.0, 32.0, 13.0, 15.0, 16.0, 20.0, 9.0, 10.0, 7.0, 6.0, 10.0, 30.0, 16.0, 21.0, 6.0, 7.0, 16.0, 34.0, 6.0, 15.0, 17.0, 27.0, 48.0, 15.0, 36.0, 16.0, 21.0, 12.0, 22.0, 13.0, 13.0, 15.0, 6.0, 48.0, 21.0, 17.0, 9.0, 17.0, 25.0, 17.0, 41.0, 26.0, 28.0, 23.0, 41.0, 32.0, 26.0, 16.0, 12.0, 24.0, 22.0, 7.0, 53.0, 12.0, 16.0, 11.0, 25.0, 38.0, 41.0, 5.0, 19.0, 20.0, 24.0, 10.0, 6.0, 16.0, 32.0, 37.0, 12.0, 13.0, 8.0, 19.0, 14.0, 29.0, 9.0, 16.0, 13.0, 21.0, 31.0, 13.0, 13.0, 16.0, 38.0, 12.0, 26.0, 23.0, 27.0, 16.0, 28.0, 18.0, 14.0, 14.0, 17.0, 15.0, 10.0, 22.0, 24.0, 6.0, 16.0, 9.0, 21.0, 19.0, 26.0, 14.0, 16.0, 21.0, 24.0, 15.0, 26.0, 24.0, 5.0, 22.0, 9.0, 15.0, 12.0, 16.0, 22.0, 16.0, 26.0, 17.0, 8.0, 30.0, 32.0, 19.0, 5.0, 22.0, 12.0, 9.0, 37.0, 10.0, 19.0, 15.0, 39.0, 18.0, 19.0, 20.0, 2.0, 64.0, 11.0, 23.0, 37.0, 11.0, 11.0, 8.0, 14.0, 9.0, 16.0, 14.0, 18.0, 39.0, 47.0, 4.0, 17.0, 52.0, 28.0, 7.0, 10.0, 26.0, 11.0, 24.0, 13.0, 5.0, 36.0, 19.0, 18.0, 10.0, 36.0, 13.0, 34.0, 27.0, 10.0, 21.0, 8.0, 22.0, 7.0, 10.0, 23.0, 33.0, 19.0, 17.0, 14.0, 13.0, 10.0, 5.0, 8.0, 25.0, 15.0, 12.0, 19.0, 10.0, 10.0, 5.0, 27.0, 17.0, 15.0, 14.0, 2.0, 3.0, 10.0, 14.0, 15.0, 6.0, 17.0, 32.0, 26.0, 12.0, 10.0, 3.0, 31.0, 44.0, 3.0, 2.0, 22.0, 25.0, 8.0, 12.0, 10.0, 29.0, 19.0, 22.0, 17.0, 8.0, 21.0, 17.0, 23.0, 10.0, 15.0, 13.0, 3.0, 2.0, 47.0, 24.0, 18.0, 34.0, 6.0, 36.0, 19.0, 18.0, 25.0, 11.0, 7.0, 26.0, 17.0, 14.0, 13.0, 8.0, 24.0, 5.0, 14.0, 16.0, 24.0, 22.0, 14.0, 28.0, 19.0, 37.0, 16.0, 14.0, 47.0, 18.0, 13.0, 9.0, 26.0, 3.0, 18.0, 22.0, 18.0, 14.0, 24.0, 44.0, 18.0, 2.0, 34.0, 11.0, 9.0, 24.0, 3.0, 10.0, 18.0, 9.0, 11.0, 23.0, 19.0, 31.0, 17.0, 9.0, 16.0, 37.0, 24.0, 3.0, 13.0, 12.0, 19.0, 16.0, 19.0, 10.0, 16.0, 14.0, 11.0, 24.0, 25.0, 26.0, 18.0, 44.0, 40.0, 19.0, 13.0, 23.0, 8.0, 37.0, 11.0, 9.0, 5.0, 44.0, 12.0, 26.0, 22.0, 4.0, 3.0, 11.0, 19.0, 11.0, 8.0, 23.0, 15.0, 31.0, 34.0, 22.0, 10.0, 66.0, 19.0, 31.0, 33.0, 22.0, 11.0, 34.0, 22.0, 12.0, 39.0, 38.0, 21.0, 27.0, 26.0, 16.0, 26.0, 28.0, 27.0, 17.0, 26.0, 24.0, 26.0, 18.0, 16.0, 11.0, 8.0, 9.0, 18.0, 17.0, 17.0, 13.0, 15.0, 7.0, 10.0, 19.0, 28.0, 34.0, 55.0, 14.0, 37.0, 35.0, 49.0, 18.0, 8.0, 9.0, 19.0, 10.0, 17.0, 28.0, 17.0, 26.0, 36.0, 9.0, 31.0, 31.0, 8.0, 28.0, 12.0, 14.0, 9.0, 6.0, 33.0, 30.0, 13.0, 4.0, 19.0, 22.0, 35.0, 8.0, 7.0, 28.0, 15.0, 11.0, 31.0, 4.0, 23.0, 15.0, 18.0, 21.0, 43.0, 9.0, 18.0, 13.0, 18.0, 10.0, 12.0, 16.0, 7.0, 15.0, 16.0, 29.0, 34.0, 11.0, 18.0, 13.0, 30.0, 21.0, 27.0, 18.0, 15.0, 2.0, 37.0, 24.0, 15.0, 28.0, 20.0, 21.0, 9.0, 24.0, 11.0, 3.0, 22.0, 23.0, 13.0, 18.0, 5.0, 32.0, 6.0, 25.0, 28.0, 22.0, 6.0, 16.0, 26.0, 12.0, 24.0, 30.0, 56.0, 17.0, 22.0, 9.0, 31.0, 17.0, 9.0, 24.0, 17.0, 24.0, 22.0, 27.0, 23.0, 16.0, 6.0, 32.0, 22.0, 18.0, 24.0, 10.0, 16.0, 24.0, 14.0, 20.0, 6.0, 9.0, 28.0, 8.0, 41.0, 14.0, 21.0, 10.0, 24.0, 41.0, 22.0, 15.0, 12.0, 3.0, 9.0, 17.0, 11.0, 14.0, 17.0, 19.0, 30.0, 21.0, 29.0, 14.0, 3.0, 10.0, 16.0, 9.0, 18.0, 14.0, 20.0, 25.0, 49.0, 10.0, 28.0, 22.0, 12.0, 14.0, 13.0, 2.0, 24.0, 16.0, 19.0, 6.0, 15.0, 12.0, 12.0, 10.0, 28.0, 12.0, 5.0, 18.0, 8.0, 11.0, 17.0, 30.0, 12.0, 25.0, 11.0, 3.0, 17.0, 11.0, 4.0, 17.0, 26.0, 41.0, 12.0, 24.0, 43.0, 12.0, 14.0, 12.0, 2.0, 24.0, 15.0, 8.0, 25.0, 31.0, 17.0, 18.0, 11.0, 36.0, 27.0, 13.0, 31.0, 18.0, 20.0, 8.0, 15.0, 9.0, 16.0, 25.0, 44.0, 29.0, 13.0, 25.0, 11.0, 7.0, 2.0, 18.0, 7.0, 12.0, 16.0, 20.0, 11.0, 15.0, 6.0, 24.0, 20.0, 11.0, 7.0, 13.0, 9.0, 18.0, 55.0, 20.0, 19.0, 5.0, 78.0, 7.0, 29.0, 17.0, 30.0, 25.0, 19.0, 30.0, 21.0, 13.0, 22.0, 25.0, 34.0, 7.0, 31.0, 29.0, 35.0, 37.0, 11.0, 10.0, 34.0, 33.0, 6.0, 8.0, 21.0, 12.0, 17.0, 13.0, 12.0, 20.0, 8.0, 29.0, 7.0, 6.0, 18.0, 15.0, 14.0, 80.0, 16.0, 16.0, 14.0, 21.0, 18.0, 21.0, 36.0, 33.0, 12.0, 16.0, 22.0, 11.0, 13.0, 9.0, 20.0, 12.0, 25.0, 20.0, 26.0, 15.0, 5.0, 63.0, 18.0, 23.0, 3.0, 31.0, 22.0, 24.0, 11.0, 14.0, 28.0, 11.0, 7.0, 17.0, 23.0, 12.0, 21.0, 7.0, 15.0, 24.0, 13.0, 22.0, 12.0, 10.0, 21.0, 12.0, 17.0, 31.0, 15.0, 13.0, 20.0, 13.0, 3.0, 13.0, 37.0, 8.0, 17.0, 20.0, 5.0, 9.0, 13.0, 13.0, 6.0, 7.0, 18.0, 13.0, 33.0, 13.0, 13.0, 13.0, 11.0, 30.0, 12.0, 21.0, 12.0, 7.0, 19.0, 14.0, 24.0, 10.0, 11.0, 18.0, 8.0, 16.0, 18.0, 19.0, 9.0, 22.0, 18.0, 14.0, 19.0, 10.0, 14.0, 13.0, 9.0, 36.0, 35.0, 45.0, 20.0, 17.0, 34.0, 13.0, 28.0, 26.0, 20.0, 13.0, 14.0, 31.0, 8.0, 5.0, 11.0, 20.0, 8.0, 32.0, 23.0, 21.0, 25.0, 11.0, 10.0, 15.0, 10.0, 13.0, 31.0, 13.0, 13.0, 14.0, 26.0, 16.0, 5.0, 17.0, 27.0, 26.0, 5.0, 21.0, 9.0, 14.0, 18.0, 9.0, 31.0, 19.0, 17.0, 10.0, 12.0, 6.0, 9.0, 15.0, 31.0, 31.0, 20.0, 15.0, 13.0, 3.0, 24.0, 27.0, 33.0, 32.0, 17.0, 16.0, 16.0, 2.0, 13.0, 28.0, 18.0, 23.0, 31.0, 17.0, 26.0, 19.0, 2.0, 16.0, 10.0, 9.0, 20.0, 4.0, 15.0, 27.0, 34.0, 11.0, 10.0, 12.0, 11.0, 14.0, 12.0, 91.0, 14.0, 26.0, 26.0, 17.0, 46.0, 16.0, 30.0, 42.0, 21.0, 11.0, 14.0, 15.0, 15.0, 14.0, 29.0, 17.0, 24.0, 26.0, 29.0, 10.0, 19.0, 32.0, 3.0, 8.0, 25.0, 33.0, 16.0, 21.0, 10.0, 8.0, 8.0, 25.0, 12.0, 22.0, 12.0, 28.0, 14.0, 3.0, 20.0, 12.0, 6.0, 17.0, 12.0, 21.0, 4.0, 4.0, 14.0, 12.0, 5.0, 24.0, 17.0, 10.0, 23.0, 12.0, 34.0, 6.0, 16.0, 7.0, 11.0, 17.0, 18.0, 20.0, 24.0, 12.0, 44.0, 23.0, 11.0, 11.0, 35.0, 19.0, 39.0, 12.0, 5.0, 26.0, 13.0, 28.0, 12.0, 41.0, 4.0, 16.0, 10.0, 37.0, 12.0, 20.0, 3.0, 22.0, 20.0, 9.0, 5.0, 31.0, 38.0, 10.0, 6.0, 12.0, 37.0, 6.0, 15.0, 22.0, 12.0, 7.0, 26.0, 15.0, 16.0, 9.0, 9.0, 21.0, 3.0, 27.0, 13.0, 30.0, 23.0, 19.0, 87.0, 13.0, 14.0, 32.0, 26.0, 15.0, 15.0, 18.0, 15.0, 19.0, 16.0, 15.0, 22.0, 29.0, 20.0, 13.0, 4.0, 33.0, 31.0, 3.0, 13.0, 20.0, 30.0, 11.0, 15.0, 30.0, 57.0, 13.0, 18.0, 7.0, 13.0, 7.0, 9.0, 12.0, 13.0, 16.0, 26.0, 5.0, 15.0, 9.0, 31.0, 9.0, 30.0, 10.0, 12.0, 11.0, 18.0, 28.0, 6.0, 17.0, 5.0, 39.0, 43.0, 12.0, 14.0, 10.0, 11.0, 47.0, 31.0, 40.0, 2.0, 29.0, 9.0, 18.0, 21.0, 16.0, 17.0, 17.0, 26.0, 13.0, 20.0, 4.0, 12.0, 10.0, 14.0, 16.0, 6.0, 21.0, 17.0, 9.0, 14.0, 13.0, 29.0, 26.0, 17.0, 21.0, 21.0, 15.0, 17.0, 16.0, 14.0, 14.0, 12.0, 15.0, 22.0, 19.0, 15.0, 10.0, 20.0, 28.0, 19.0, 51.0, 13.0, 17.0, 10.0, 28.0, 17.0, 19.0, 22.0, 17.0, 4.0, 11.0, 8.0, 10.0, 27.0, 13.0, 16.0, 19.0, 10.0, 22.0, 11.0, 16.0, 14.0, 24.0, 17.0, 8.0, 12.0, 27.0, 14.0, 17.0, 9.0, 9.0, 29.0, 17.0, 5.0, 22.0, 32.0, 19.0, 7.0, 16.0, 21.0, 14.0, 41.0, 15.0, 5.0, 5.0, 24.0, 26.0, 12.0, 12.0, 7.0, 14.0, 8.0, 8.0, 16.0, 19.0, 5.0, 24.0, 12.0, 24.0, 22.0, 27.0, 23.0, 16.0, 14.0, 12.0, 6.0, 24.0, 27.0, 26.0, 38.0, 20.0, 18.0, 11.0, 6.0, 15.0, 27.0, 24.0, 19.0, 32.0, 8.0, 7.0, 14.0, 17.0, 13.0, 12.0, 22.0, 6.0, 35.0, 18.0, 6.0, 6.0, 10.0, 12.0, 14.0, 15.0, 12.0, 23.0, 47.0, 17.0, 16.0, 15.0, 16.0, 24.0, 11.0, 36.0, 20.0, 17.0, 4.0, 18.0, 23.0, 8.0, 20.0, 18.0, 12.0, 7.0, 18.0, 40.0, 11.0, 15.0, 25.0, 13.0, 33.0, 15.0, 16.0, 22.0, 14.0, 21.0, 9.0, 8.0, 39.0, 7.0, 13.0, 14.0, 10.0, 14.0, 27.0, 32.0, 11.0, 26.0, 9.0, 48.0, 10.0, 11.0, 16.0, 15.0, 9.0, 30.0, 26.0, 12.0, 16.0, 23.0, 14.0, 14.0, 11.0, 30.0, 43.0, 12.0, 32.0, 11.0, 11.0, 16.0, 33.0, 13.0, 9.0, 22.0, 12.0, 18.0, 31.0, 16.0, 14.0, 37.0, 22.0, 16.0, 13.0, 15.0, 33.0, 16.0, 23.0, 13.0, 9.0, 11.0, 3.0, 4.0, 18.0, 19.0, 20.0, 31.0, 18.0, 25.0, 37.0, 8.0, 20.0, 34.0, 17.0, 29.0, 11.0, 22.0, 7.0, 22.0, 7.0, 13.0, 28.0, 7.0, 32.0, 9.0, 23.0, 34.0, 11.0, 9.0, 13.0, 6.0, 13.0, 22.0, 24.0, 10.0, 34.0, 10.0, 81.0, 22.0, 13.0, 14.0, 10.0, 16.0, 27.0, 25.0, 27.0, 2.0, 5.0, 12.0, 19.0, 14.0, 21.0, 28.0, 14.0, 10.0, 18.0, 2.0, 38.0, 8.0, 14.0, 27.0, 175.0, 11.0, 15.0, 8.0, 24.0, 4.0, 40.0, 11.0, 60.0, 11.0, 31.0, 11.0, 9.0, 13.0, 31.0, 17.0, 7.0, 16.0, 8.0, 8.0, 16.0, 10.0, 27.0, 16.0, 18.0, 15.0, 6.0, 10.0, 7.0, 6.0, 25.0, 14.0, 14.0, 25.0, 14.0, 7.0, 27.0, 48.0, 9.0, 22.0, 9.0, 12.0, 34.0, 14.0, 36.0, 23.0, 21.0, 20.0, 20.0, 18.0, 9.0, 18.0, 17.0, 27.0, 9.0, 14.0, 10.0, 11.0, 16.0, 11.0, 14.0, 18.0, 24.0, 23.0, 5.0, 11.0, 19.0, 2.0, 18.0, 15.0, 30.0, 3.0, 44.0, 19.0, 26.0, 3.0, 45.0, 10.0, 13.0, 9.0, 12.0, 15.0, 10.0, 10.0, 10.0, 17.0, 13.0, 34.0, 22.0, 32.0, 31.0, 14.0, 11.0, 14.0, 11.0, 25.0, 28.0, 17.0, 16.0, 15.0, 8.0, 20.0, 10.0, 14.0, 11.0, 12.0, 12.0, 8.0, 13.0, 28.0, 19.0, 10.0, 3.0, 31.0, 14.0, 17.0, 22.0, 30.0, 10.0, 23.0, 30.0, 12.0, 13.0, 16.0, 33.0, 19.0, 11.0, 13.0, 20.0, 12.0, 34.0, 26.0, 23.0, 56.0, 7.0, 19.0, 23.0, 11.0, 29.0, 14.0, 11.0, 18.0, 12.0, 23.0, 15.0, 6.0, 24.0, 20.0, 10.0, 4.0, 14.0, 23.0, 21.0, 18.0, 21.0, 16.0, 7.0, 19.0, 12.0, 24.0, 4.0, 15.0, 38.0, 12.0, 22.0, 10.0, 8.0, 10.0, 7.0, 3.0, 17.0, 8.0, 15.0, 11.0, 39.0, 17.0, 7.0, 13.0, 9.0, 26.0, 27.0, 11.0, 7.0, 21.0, 23.0, 15.0, 15.0, 3.0, 14.0, 11.0, 27.0, 10.0, 10.0, 31.0, 9.0, 35.0, 7.0, 26.0, 14.0, 13.0, 24.0, 14.0, 36.0, 17.0, 16.0, 20.0, 12.0, 34.0, 25.0, 31.0, 20.0, 15.0, 52.0, 32.0, 35.0, 7.0, 14.0, 9.0, 15.0, 21.0, 11.0, 9.0, 23.0, 18.0, 14.0, 17.0, 10.0, 13.0, 21.0, 61.0, 48.0, 33.0, 14.0, 34.0, 13.0, 19.0, 14.0, 13.0, 49.0, 17.0, 16.0, 17.0, 18.0, 11.0, 26.0, 7.0, 40.0, 33.0, 9.0, 26.0, 14.0, 28.0, 15.0, 14.0, 10.0, 32.0, 19.0, 3.0, 8.0, 16.0, 29.0, 9.0, 22.0, 15.0, 8.0, 31.0, 33.0, 16.0, 19.0, 32.0, 20.0, 16.0, 17.0, 19.0, 42.0, 27.0, 19.0, 21.0, 10.0, 5.0, 33.0, 5.0, 13.0, 14.0, 17.0, 9.0, 15.0, 4.0, 3.0, 11.0, 36.0, 11.0, 8.0, 9.0, 16.0, 17.0, 13.0, 24.0, 13.0, 19.0, 13.0, 31.0, 10.0, 17.0, 28.0, 11.0, 6.0, 38.0, 11.0, 16.0, 27.0, 8.0, 15.0, 13.0, 5.0, 20.0, 71.0, 10.0, 6.0, 25.0, 12.0, 19.0, 7.0, 17.0, 21.0, 22.0, 10.0, 8.0, 10.0, 19.0, 10.0, 11.0, 10.0, 27.0, 2.0, 8.0, 12.0, 25.0, 41.0, 41.0, 30.0, 14.0, 19.0, 5.0, 23.0, 12.0, 15.0, 25.0, 22.0, 8.0, 19.0, 23.0, 10.0, 32.0, 13.0, 11.0, 9.0, 13.0, 14.0, 14.0, 19.0, 7.0, 27.0, 15.0, 13.0, 12.0, 17.0, 8.0, 2.0, 9.0, 19.0, 9.0, 17.0, 12.0, 15.0, 46.0, 28.0, 16.0, 25.0, 29.0, 41.0, 22.0, 39.0, 22.0, 4.0, 22.0, 4.0, 25.0, 19.0, 10.0, 17.0, 33.0, 17.0, 13.0, 13.0, 9.0, 17.0, 19.0, 44.0, 23.0, 7.0, 7.0, 4.0, 22.0, 8.0, 11.0, 11.0, 45.0, 11.0, 25.0, 19.0, 23.0, 21.0, 10.0, 15.0, 6.0, 57.0, 33.0, 8.0, 14.0, 19.0, 24.0, 20.0, 12.0, 22.0, 27.0, 29.0, 16.0, 13.0, 12.0, 17.0, 16.0, 17.0, 13.0, 11.0, 10.0, 28.0, 26.0, 23.0, 16.0, 19.0, 4.0, 19.0, 9.0, 7.0, 10.0, 28.0, 7.0, 5.0, 15.0, 22.0, 9.0, 34.0, 4.0, 15.0, 2.0, 20.0, 10.0, 26.0, 2.0, 27.0, 46.0, 31.0, 23.0, 7.0, 25.0, 20.0, 12.0, 12.0, 27.0, 12.0, 14.0, 27.0, 14.0, 22.0, 38.0, 11.0, 16.0, 24.0, 67.0, 9.0, 23.0, 7.0, 9.0, 24.0, 26.0, 26.0, 11.0, 19.0, 19.0, 12.0, 16.0, 40.0, 20.0, 12.0, 20.0, 19.0, 11.0, 12.0, 4.0, 18.0, 57.0, 18.0, 48.0, 25.0, 26.0, 28.0, 19.0, 42.0, 22.0, 16.0, 21.0, 49.0, 21.0, 8.0, 33.0, 31.0, 12.0, 19.0, 7.0, 3.0, 25.0, 13.0, 14.0, 29.0, 2.0, 47.0, 43.0, 19.0, 9.0, 5.0, 41.0, 49.0, 22.0, 12.0, 30.0, 12.0, 25.0, 31.0, 13.0, 37.0, 11.0, 22.0, 9.0, 20.0, 33.0, 21.0, 16.0, 2.0, 15.0, 16.0, 16.0, 5.0, 13.0, 18.0, 23.0, 30.0, 13.0, 31.0, 21.0, 4.0, 24.0, 9.0, 62.0, 3.0, 18.0, 26.0, 12.0, 7.0, 10.0, 17.0, 21.0, 34.0, 47.0, 14.0, 24.0, 28.0, 26.0, 5.0, 27.0, 27.0, 21.0, 13.0, 5.0, 34.0, 19.0, 20.0, 6.0, 23.0, 15.0, 11.0, 28.0, 32.0, 20.0, 18.0, 21.0, 12.0, 25.0, 27.0, 32.0, 16.0, 22.0, 23.0, 13.0, 32.0, 40.0, 18.0, 23.0, 25.0, 5.0, 18.0, 29.0, 18.0, 34.0, 18.0, 11.0, 29.0, 17.0, 32.0, 27.0, 30.0, 16.0, 8.0, 42.0, 33.0, 6.0, 3.0, 7.0, 22.0, 22.0, 27.0, 31.0, 46.0, 15.0, 33.0, 9.0, 14.0, 19.0, 13.0, 19.0, 20.0, 19.0, 3.0, 12.0, 29.0, 8.0, 19.0, 21.0, 30.0, 18.0, 18.0, 10.0, 22.0, 15.0, 8.0, 100.0, 40.0, 29.0, 7.0, 16.0, 31.0, 26.0, 23.0, 18.0, 25.0, 5.0, 38.0, 26.0, 14.0, 53.0, 28.0, 13.0, 19.0, 16.0, 36.0, 11.0, 7.0, 16.0, 59.0, 20.0, 11.0, 47.0, 58.0, 20.0, 13.0, 32.0, 26.0, 14.0, 17.0, 35.0, 11.0, 55.0, 31.0, 22.0, 23.0, 7.0, 9.0, 9.0, 20.0, 15.0, 16.0, 21.0, 10.0, 28.0, 5.0, 23.0, 18.0, 21.0, 26.0, 15.0, 45.0, 50.0, 3.0, 30.0, 7.0, 14.0, 37.0, 9.0, 27.0, 7.0, 25.0, 8.0, 20.0, 18.0, 22.0, 17.0, 47.0, 12.0, 31.0, 13.0, 10.0, 36.0, 23.0, 18.0, 8.0, 17.0, 74.0, 17.0, 24.0, 53.0, 29.0, 17.0, 84.0, 21.0, 20.0, 17.0, 14.0, 24.0, 30.0, 9.0, 2.0, 17.0, 11.0, 33.0, 10.0, 8.0, 17.0, 28.0, 11.0, 23.0, 25.0, 28.0, 58.0, 2.0, 25.0, 23.0, 13.0, 8.0, 42.0, 26.0, 15.0, 6.0, 9.0, 7.0, 38.0, 19.0, 16.0, 23.0, 6.0, 12.0, 19.0, 16.0, 9.0, 16.0, 9.0, 21.0, 23.0, 13.0, 3.0, 25.0, 4.0, 17.0, 28.0, 20.0, 13.0, 38.0, 28.0, 17.0, 16.0, 18.0, 30.0, 15.0, 10.0, 10.0, 19.0, 8.0, 27.0, 24.0, 20.0, 30.0, 19.0, 18.0, 18.0, 20.0, 24.0, 16.0, 16.0, 20.0, 35.0, 8.0, 18.0, 14.0, 13.0, 18.0, 24.0, 11.0, 23.0, 24.0, 33.0, 14.0, 31.0, 29.0, 17.0, 4.0, 40.0, 27.0, 29.0, 14.0, 24.0, 18.0, 20.0, 11.0, 19.0, 10.0, 4.0, 25.0, 18.0, 32.0, 8.0, 27.0, 21.0, 24.0, 32.0, 16.0, 27.0, 7.0, 27.0, 21.0, 30.0, 34.0, 13.0, 6.0, 21.0, 13.0, 19.0, 36.0, 24.0, 19.0, 36.0, 15.0, 21.0, 41.0, 14.0, 3.0, 23.0, 18.0, 22.0, 11.0, 22.0, 23.0, 36.0, 39.0, 20.0, 11.0, 12.0, 17.0, 25.0, 47.0, 26.0, 23.0, 17.0, 15.0, 16.0, 35.0, 19.0, 7.0, 22.0, 18.0, 19.0, 24.0, 10.0, 41.0, 10.0, 6.0, 16.0, 21.0, 27.0, 31.0, 13.0, 22.0, 33.0, 22.0, 16.0, 22.0, 13.0, 12.0, 15.0, 14.0, 15.0, 13.0, 15.0, 32.0, 15.0, 28.0, 17.0, 11.0, 18.0, 12.0, 19.0, 33.0, 8.0, 18.0, 21.0, 19.0, 40.0, 26.0, 16.0, 43.0, 10.0, 11.0, 8.0, 4.0, 16.0, 35.0, 17.0, 23.0, 37.0, 37.0, 14.0, 11.0, 31.0, 43.0, 19.0, 19.0, 41.0, 20.0, 22.0, 22.0, 26.0, 24.0, 14.0, 32.0, 24.0, 8.0, 30.0, 2.0, 27.0, 5.0, 33.0, 37.0, 29.0, 28.0, 25.0, 66.0, 9.0, 34.0, 29.0, 31.0, 7.0, 21.0, 27.0, 19.0, 16.0, 25.0, 23.0, 40.0, 11.0, 21.0, 37.0, 9.0, 34.0, 23.0, 27.0, 24.0, 23.0, 22.0, 29.0, 9.0, 35.0, 31.0, 9.0, 27.0, 30.0, 20.0, 31.0, 42.0, 19.0, 3.0, 20.0, 7.0, 16.0, 16.0, 27.0, 6.0, 14.0, 21.0, 37.0, 20.0, 32.0, 10.0, 30.0, 38.0, 24.0, 24.0, 26.0, 23.0, 8.0, 102.0, 16.0, 28.0, 12.0, 26.0, 24.0, 31.0, 22.0, 21.0, 4.0, 13.0, 7.0, 21.0, 7.0, 25.0, 11.0, 12.0, 27.0, 15.0, 17.0, 40.0, 29.0, 26.0, 5.0, 35.0, 2.0, 32.0, 20.0, 15.0, 30.0, 19.0, 24.0, 22.0, 11.0, 17.0, 12.0, 13.0, 135.0, 36.0, 16.0, 31.0, 16.0, 12.0, 40.0, 7.0, 28.0, 12.0, 15.0, 13.0, 27.0, 6.0, 12.0, 30.0, 15.0, 47.0, 12.0, 15.0, 34.0, 23.0, 35.0, 19.0, 37.0, 23.0, 41.0, 23.0, 23.0, 21.0, 33.0, 8.0, 21.0, 23.0, 13.0, 27.0, 46.0, 12.0, 32.0, 45.0, 15.0, 9.0, 11.0, 24.0, 33.0, 107.0, 29.0, 25.0, 4.0, 36.0, 30.0, 24.0, 19.0, 24.0, 25.0, 9.0, 26.0, 4.0, 12.0, 37.0, 14.0, 5.0, 19.0, 22.0, 12.0, 15.0, 10.0, 7.0, 30.0, 11.0, 34.0, 14.0, 23.0, 22.0, 12.0, 19.0, 3.0, 22.0, 8.0, 44.0, 14.0, 30.0, 14.0, 12.0, 39.0, 21.0, 28.0, 20.0, 35.0, 8.0, 24.0, 14.0, 9.0, 57.0, 25.0, 44.0, 11.0, 8.0, 26.0, 22.0, 18.0, 34.0, 28.0, 17.0, 11.0, 18.0, 43.0, 52.0, 17.0, 15.0, 24.0, 31.0, 8.0, 38.0, 11.0, 28.0, 3.0, 18.0, 18.0, 19.0, 16.0, 13.0, 28.0, 18.0, 23.0, 32.0, 4.0, 9.0, 19.0, 11.0, 14.0, 18.0, 16.0, 21.0, 9.0, 15.0, 53.0, 24.0, 16.0, 5.0, 34.0, 28.0, 18.0, 20.0, 33.0, 18.0, 5.0, 13.0, 27.0, 5.0, 9.0, 12.0, 22.0, 15.0, 21.0, 10.0, 4.0, 34.0, 26.0, 5.0, 7.0, 17.0, 6.0, 16.0, 13.0, 11.0, 18.0, 14.0, 88.0, 2.0, 4.0, 5.0, 29.0, 4.0, 22.0, 21.0, 18.0, 7.0, 24.0, 24.0, 10.0, 28.0, 16.0, 33.0, 15.0, 31.0, 14.0, 12.0, 6.0, 11.0, 21.0, 10.0, 41.0, 39.0, 26.0, 30.0, 9.0, 15.0, 11.0, 34.0, 12.0, 39.0, 23.0, 3.0, 47.0, 23.0, 33.0, 13.0, 2.0, 20.0, 20.0, 90.0, 12.0, 20.0, 34.0, 20.0, 3.0, 20.0, 13.0, 46.0, 53.0, 11.0, 25.0, 15.0, 36.0, 24.0, 12.0, 10.0, 18.0, 16.0, 9.0, 16.0, 24.0, 84.0, 11.0, 8.0, 12.0, 8.0, 21.0, 6.0, 23.0, 9.0, 20.0, 15.0, 31.0, 33.0, 42.0, 10.0, 27.0, 26.0, 28.0, 21.0, 12.0, 23.0, 28.0, 25.0, 13.0, 22.0, 8.0, 17.0, 12.0, 5.0, 10.0, 14.0, 19.0, 28.0, 36.0, 17.0, 30.0, 9.0, 6.0, 25.0, 7.0, 4.0, 30.0, 10.0, 14.0, 20.0, 28.0, 36.0, 15.0, 32.0, 8.0, 22.0, 34.0, 11.0, 20.0, 26.0, 40.0, 18.0, 16.0, 15.0, 61.0, 6.0, 25.0, 5.0, 20.0, 13.0, 24.0, 29.0, 39.0, 15.0, 21.0, 26.0, 31.0, 17.0, 39.0, 7.0, 18.0, 4.0, 15.0, 31.0, 30.0, 34.0, 23.0, 7.0, 38.0, 12.0, 13.0, 22.0, 56.0, 3.0, 16.0, 22.0, 30.0, 22.0, 56.0, 23.0, 6.0, 14.0, 34.0, 6.0, 5.0, 31.0, 24.0, 29.0, 33.0, 30.0, 12.0, 7.0, 24.0, 21.0, 9.0, 25.0, 19.0, 29.0, 11.0, 8.0, 17.0, 28.0, 10.0, 32.0, 41.0, 31.0, 33.0, 8.0, 15.0, 11.0, 45.0, 21.0, 22.0, 21.0, 2.0, 48.0, 12.0, 17.0, 33.0, 35.0, 25.0, 17.0, 23.0, 7.0, 13.0, 9.0, 16.0, 8.0, 36.0, 11.0, 24.0, 13.0, 28.0, 16.0, 4.0, 25.0, 22.0, 24.0, 29.0, 19.0, 35.0, 21.0, 2.0, 41.0, 14.0, 32.0, 34.0, 17.0, 15.0, 31.0, 23.0, 22.0, 12.0, 14.0, 10.0, 43.0, 47.0, 26.0, 34.0, 28.0, 24.0, 39.0, 18.0, 16.0, 22.0, 17.0, 36.0, 24.0, 15.0, 30.0, 38.0, 39.0, 21.0, 17.0, 11.0, 9.0, 15.0, 25.0, 28.0, 38.0, 22.0, 23.0, 15.0, 21.0, 40.0, 23.0, 30.0, 40.0, 2.0, 15.0, 10.0, 27.0, 5.0, 131.0, 8.0, 2.0, 21.0, 53.0, 15.0, 21.0, 48.0, 22.0, 14.0, 15.0, 20.0, 15.0, 32.0, 17.0, 22.0, 25.0, 28.0, 9.0, 16.0, 20.0, 5.0, 21.0, 16.0, 13.0, 32.0, 18.0, 29.0, 41.0, 10.0, 26.0, 19.0, 2.0, 5.0, 19.0, 11.0, 22.0, 17.0, 44.0, 25.0, 31.0, 14.0, 25.0, 9.0, 14.0, 28.0, 9.0, 17.0, 34.0, 60.0, 8.0, 39.0, 16.0, 12.0, 25.0, 25.0, 22.0, 13.0, 28.0, 7.0, 23.0, 24.0, 9.0, 41.0, 14.0, 18.0, 25.0, 38.0, 16.0, 2.0, 40.0, 25.0, 12.0, 11.0, 42.0, 11.0, 10.0, 27.0, 4.0, 19.0, 24.0, 22.0, 25.0, 22.0, 13.0, 26.0, 16.0, 12.0, 30.0, 23.0, 11.0, 14.0, 9.0, 22.0, 27.0, 32.0, 20.0, 6.0, 20.0, 28.0, 16.0, 17.0, 6.0, 24.0, 38.0, 29.0, 6.0, 19.0, 2.0, 20.0, 28.0, 2.0, 49.0, 24.0, 19.0, 12.0, 38.0, 9.0, 86.0, 18.0, 42.0, 34.0, 21.0, 26.0, 29.0, 23.0, 19.0, 12.0, 4.0, 25.0, 7.0, 44.0, 40.0, 30.0, 21.0, 24.0, 69.0, 23.0, 24.0, 6.0, 20.0, 13.0, 25.0, 15.0, 25.0, 7.0, 14.0, 40.0, 33.0, 11.0, 32.0, 5.0, 46.0, 9.0, 16.0, 11.0, 9.0, 15.0, 11.0, 57.0, 29.0, 20.0, 21.0, 19.0, 8.0, 31.0, 9.0, 20.0, 24.0, 8.0, 17.0, 15.0, 24.0, 20.0, 20.0, 23.0, 4.0, 9.0, 40.0, 39.0, 22.0, 13.0, 7.0, 23.0, 11.0, 32.0, 20.0, 11.0, 24.0, 9.0, 13.0, 15.0, 14.0, 27.0, 52.0, 39.0, 22.0, 39.0, 55.0, 12.0, 35.0, 11.0, 121.0, 7.0, 31.0, 11.0, 27.0, 33.0, 13.0, 21.0, 12.0, 37.0, 7.0, 34.0, 17.0, 28.0, 9.0, 21.0, 26.0, 9.0, 16.0, 24.0, 11.0, 23.0, 69.0, 31.0, 57.0, 21.0, 20.0, 20.0, 5.0, 25.0, 34.0, 33.0, 10.0, 12.0, 29.0, 44.0, 21.0, 3.0, 14.0, 30.0, 9.0, 21.0, 16.0, 12.0, 15.0, 15.0, 42.0, 15.0, 14.0, 23.0, 11.0, 15.0, 8.0, 23.0, 40.0, 8.0, 33.0, 18.0, 47.0, 27.0, 10.0, 13.0, 22.0, 2.0, 14.0, 24.0, 17.0, 21.0, 7.0, 9.0, 35.0, 16.0, 37.0, 22.0, 18.0, 9.0, 49.0, 10.0, 33.0, 36.0, 6.0, 31.0, 49.0, 29.0, 47.0, 21.0, 13.0, 22.0, 10.0, 17.0, 38.0, 29.0, 20.0, 31.0, 14.0, 26.0, 14.0, 40.0, 33.0, 8.0, 23.0, 58.0, 42.0, 26.0, 21.0, 22.0, 22.0, 17.0, 7.0, 21.0, 23.0, 21.0, 23.0, 34.0, 7.0, 19.0, 27.0, 50.0, 24.0, 8.0, 35.0, 10.0, 11.0, 31.0, 19.0, 12.0, 19.0, 9.0, 32.0, 11.0, 15.0, 26.0, 29.0, 15.0, 3.0, 14.0, 71.0, 23.0, 29.0, 22.0, 18.0, 37.0, 17.0, 17.0, 20.0, 16.0, 58.0, 26.0, 35.0, 50.0, 16.0, 14.0, 50.0, 10.0, 18.0, 5.0, 35.0, 25.0, 27.0, 7.0, 25.0, 55.0, 7.0, 26.0, 24.0, 20.0, 15.0, 18.0, 28.0, 13.0, 27.0, 22.0, 9.0, 4.0, 2.0, 18.0, 33.0, 18.0, 42.0, 33.0, 18.0, 18.0, 9.0, 21.0, 14.0, 14.0, 21.0, 4.0, 34.0, 3.0, 7.0, 36.0, 12.0, 25.0, 21.0, 17.0, 21.0, 48.0, 14.0, 18.0, 24.0, 40.0, 12.0, 6.0, 22.0, 23.0, 13.0, 7.0, 25.0, 42.0, 5.0, 26.0, 8.0, 7.0, 37.0, 30.0, 24.0, 38.0, 33.0, 12.0, 31.0, 13.0, 6.0, 40.0, 19.0, 26.0, 8.0, 8.0, 40.0, 40.0, 9.0, 28.0, 12.0, 35.0, 21.0, 33.0, 32.0, 17.0, 7.0, 9.0, 11.0, 13.0, 13.0, 31.0, 19.0, 25.0, 17.0, 37.0, 53.0, 13.0, 20.0, 5.0, 94.0, 31.0, 27.0, 14.0, 23.0, 23.0, 14.0, 45.0, 17.0, 16.0, 45.0, 11.0, 7.0, 16.0, 34.0, 27.0, 22.0, 32.0, 10.0, 16.0, 35.0, 3.0, 26.0, 30.0, 16.0, 18.0, 22.0, 6.0, 30.0, 4.0, 33.0, 28.0, 4.0, 11.0, 32.0, 20.0, 34.0, 20.0, 36.0, 8.0, 24.0, 11.0, 24.0, 22.0, 15.0, 26.0, 25.0, 14.0, 37.0, 24.0, 13.0, 16.0, 33.0, 23.0, 58.0, 18.0, 25.0, 17.0, 22.0, 5.0, 32.0, 30.0, 15.0, 10.0, 38.0, 12.0, 20.0, 33.0, 47.0, 20.0, 13.0, 3.0, 17.0, 23.0, 19.0, 4.0, 34.0, 23.0, 34.0, 15.0, 8.0, 14.0, 21.0, 21.0, 13.0, 20.0, 11.0, 23.0, 25.0, 27.0, 31.0, 15.0, 10.0, 22.0, 23.0, 24.0, 25.0, 8.0, 35.0, 16.0, 43.0, 4.0, 3.0, 9.0, 13.0, 15.0, 17.0, 33.0, 14.0, 21.0, 34.0, 37.0, 15.0, 10.0, 50.0, 5.0, 5.0, 34.0, 24.0, 35.0, 20.0, 9.0, 8.0, 32.0, 8.0, 6.0, 12.0, 10.0, 76.0, 22.0, 15.0, 26.0, 9.0, 8.0, 15.0, 28.0, 5.0, 10.0, 20.0, 66.0, 33.0, 28.0, 22.0, 3.0, 30.0, 20.0, 25.0, 2.0, 16.0, 14.0, 21.0, 6.0, 5.0, 11.0, 12.0, 20.0, 43.0, 38.0, 81.0, 12.0, 10.0, 27.0, 17.0, 15.0, 11.0, 16.0, 31.0, 15.0, 18.0, 13.0, 56.0, 23.0, 16.0, 17.0, 62.0, 23.0, 11.0, 31.0, 12.0, 19.0, 34.0, 24.0, 6.0, 18.0, 17.0, 11.0, 17.0, 3.0, 41.0, 16.0, 20.0, 27.0, 25.0, 19.0, 24.0, 13.0, 12.0, 42.0, 24.0, 45.0, 10.0, 50.0, 19.0, 4.0, 21.0, 20.0, 14.0, 12.0, 6.0, 22.0, 24.0, 19.0, 14.0, 24.0, 18.0, 23.0, 15.0, 16.0, 6.0, 26.0, 21.0, 17.0, 22.0, 28.0, 24.0, 23.0, 18.0, 48.0, 116.0, 5.0, 34.0, 25.0, 16.0, 17.0, 31.0, 39.0, 28.0, 14.0, 20.0, 13.0, 51.0, 27.0, 31.0, 29.0, 33.0, 80.0, 33.0, 27.0, 26.0, 22.0, 13.0, 15.0, 30.0, 37.0, 30.0, 29.0, 8.0, 5.0, 31.0, 22.0, 29.0, 10.0, 6.0, 7.0, 26.0, 11.0, 8.0, 54.0, 16.0, 6.0, 54.0, 51.0, 15.0, 7.0, 22.0, 22.0, 44.0, 22.0, 16.0, 15.0, 9.0, 22.0, 10.0, 18.0, 21.0, 22.0, 22.0, 7.0, 21.0, 20.0, 11.0, 23.0, 40.0, 33.0, 29.0, 27.0, 36.0, 18.0, 23.0, 36.0, 10.0, 19.0, 16.0, 25.0, 6.0, 29.0, 18.0, 17.0, 19.0, 21.0, 13.0, 5.0, 20.0, 24.0, 41.0, 5.0, 2.0, 31.0, 3.0, 4.0, 64.0, 13.0, 11.0, 25.0, 23.0, 15.0, 3.0, 27.0, 28.0, 16.0, 116.0, 2.0, 27.0, 31.0, 18.0, 81.0, 22.0, 7.0, 4.0, 30.0, 31.0, 12.0, 24.0, 24.0, 10.0, 15.0, 59.0, 42.0, 23.0, 17.0, 17.0, 13.0, 11.0, 14.0, 17.0, 28.0, 14.0, 15.0, 14.0, 24.0, 43.0, 11.0, 35.0, 10.0, 24.0, 7.0, 57.0, 26.0, 40.0, 15.0, 16.0, 16.0, 6.0, 5.0, 28.0, 14.0, 11.0, 25.0, 28.0, 11.0, 24.0, 47.0, 32.0, 24.0, 20.0, 5.0, 13.0, 39.0, 3.0, 30.0, 8.0, 10.0, 44.0, 23.0, 28.0, 14.0, 25.0, 28.0, 25.0, 4.0, 37.0, 22.0, 7.0, 99.0, 14.0, 57.0, 42.0, 13.0, 7.0, 8.0, 10.0, 22.0, 5.0, 8.0, 16.0, 30.0, 16.0, 7.0, 20.0, 11.0, 7.0, 16.0, 22.0, 15.0, 19.0, 25.0, 36.0, 25.0, 29.0, 29.0, 21.0, 29.0, 9.0, 7.0, 24.0, 34.0, 27.0, 14.0, 17.0, 21.0, 19.0, 11.0, 5.0, 41.0, 62.0, 9.0, 8.0, 33.0, 13.0, 11.0, 21.0, 19.0, 16.0, 25.0, 10.0, 34.0, 22.0, 12.0, 7.0, 16.0, 15.0, 15.0, 25.0, 26.0, 28.0, 17.0, 3.0, 16.0, 35.0, 15.0, 85.0, 22.0, 17.0, 31.0, 11.0, 18.0, 10.0, 27.0, 3.0, 25.0, 37.0, 24.0, 29.0, 16.0, 39.0, 12.0, 20.0, 17.0, 12.0, 19.0, 21.0, 15.0, 13.0, 34.0, 56.0, 30.0, 34.0, 12.0, 70.0, 45.0, 15.0, 6.0, 24.0, 5.0, 24.0, 3.0, 20.0, 9.0, 19.0, 16.0, 25.0, 21.0, 32.0, 11.0, 15.0, 16.0, 25.0, 11.0, 57.0, 20.0, 17.0, 36.0, 24.0, 17.0, 7.0, 33.0, 7.0, 31.0, 39.0, 6.0, 16.0, 29.0, 9.0, 21.0, 16.0, 7.0, 16.0, 8.0, 21.0, 30.0, 15.0, 25.0, 25.0, 7.0, 21.0, 11.0, 20.0, 7.0, 7.0, 15.0, 24.0, 16.0, 20.0, 33.0, 36.0, 18.0, 11.0, 5.0, 8.0, 31.0, 9.0, 15.0, 20.0, 24.0, 11.0, 13.0, 12.0, 17.0, 15.0, 17.0, 22.0, 26.0, 19.0, 11.0, 26.0, 11.0, 10.0, 18.0, 11.0, 31.0, 26.0, 8.0, 16.0, 12.0, 6.0, 37.0, 3.0, 10.0, 8.0, 7.0, 14.0, 22.0, 9.0, 31.0, 29.0, 16.0, 17.0, 21.0, 31.0, 23.0, 26.0, 14.0, 45.0, 15.0, 23.0, 10.0, 23.0, 31.0, 12.0, 25.0, 138.0, 36.0, 11.0, 18.0, 28.0, 11.0, 34.0, 32.0, 18.0, 22.0, 11.0, 26.0, 36.0, 22.0, 5.0, 5.0, 15.0, 28.0, 16.0, 22.0, 35.0, 44.0, 21.0, 26.0, 19.0, 39.0, 9.0, 23.0, 58.0, 17.0, 14.0, 14.0, 38.0, 31.0, 27.0, 30.0, 40.0, 26.0, 12.0, 5.0, 14.0, 26.0, 23.0, 5.0, 42.0, 7.0, 22.0, 17.0, 31.0, 33.0, 14.0, 19.0, 9.0, 7.0, 22.0, 41.0, 15.0, 18.0, 35.0, 14.0, 30.0, 22.0, 15.0, 8.0, 11.0, 5.0, 31.0, 9.0, 45.0, 17.0, 41.0, 11.0, 16.0, 23.0, 6.0, 4.0, 29.0, 36.0, 14.0, 16.0, 19.0, 11.0, 17.0, 42.0, 13.0, 16.0, 33.0, 11.0, 20.0, 3.0, 19.0, 6.0, 13.0, 37.0, 14.0, 2.0, 16.0, 40.0, 13.0, 25.0, 30.0, 16.0, 4.0, 7.0, 22.0, 18.0, 31.0, 18.0, 36.0, 10.0, 85.0, 24.0, 2.0, 67.0, 39.0, 10.0, 18.0, 7.0, 21.0, 8.0, 13.0, 4.0, 7.0, 12.0, 5.0, 6.0, 30.0, 17.0, 18.0, 11.0, 7.0, 6.0, 28.0, 7.0, 20.0, 12.0, 15.0, 131.0, 14.0, 59.0, 12.0, 20.0, 10.0, 35.0, 15.0, 27.0, 51.0, 15.0, 12.0, 16.0, 35.0, 21.0, 20.0, 31.0, 9.0, 8.0, 22.0, 16.0, 5.0, 21.0, 13.0, 12.0, 18.0, 22.0, 35.0, 22.0, 4.0, 4.0, 23.0, 24.0, 10.0, 5.0, 11.0, 7.0, 22.0, 8.0, 28.0, 43.0, 13.0, 2.0, 36.0, 7.0, 14.0, 28.0, 7.0, 37.0, 4.0, 23.0, 21.0, 4.0, 6.0, 2.0, 35.0, 20.0, 19.0, 8.0, 18.0, 17.0, 15.0, 38.0, 41.0, 3.0, 13.0, 9.0, 8.0, 17.0, 20.0, 29.0, 16.0, 34.0, 23.0, 25.0, 3.0, 22.0, 33.0, 11.0, 28.0, 10.0, 40.0, 19.0, 19.0, 30.0, 17.0, 21.0, 22.0, 9.0, 38.0, 23.0, 9.0, 20.0, 57.0, 15.0, 31.0, 28.0, 57.0, 22.0, 10.0, 35.0, 37.0, 31.0, 18.0, 26.0, 9.0, 11.0, 24.0, 14.0, 6.0, 16.0, 24.0, 10.0, 37.0, 10.0, 35.0, 10.0, 14.0, 24.0, 9.0, 3.0, 11.0, 17.0, 7.0, 23.0, 25.0, 15.0, 16.0, 24.0, 19.0, 12.0, 4.0, 19.0, 26.0, 13.0, 48.0, 20.0, 8.0, 21.0, 24.0, 4.0, 13.0, 13.0, 25.0, 11.0, 2.0, 10.0, 16.0, 4.0, 12.0, 20.0, 11.0, 32.0, 5.0, 16.0, 12.0, 19.0, 11.0, 25.0, 11.0, 8.0, 18.0, 11.0, 19.0, 19.0, 13.0, 29.0, 15.0, 26.0, 15.0, 2.0, 12.0, 26.0, 13.0, 13.0, 30.0, 13.0, 23.0, 16.0, 10.0, 10.0, 11.0, 20.0, 50.0, 13.0, 26.0, 10.0, 28.0, 11.0, 18.0, 10.0, 12.0, 7.0, 8.0, 17.0, 61.0, 19.0, 16.0, 17.0, 20.0, 23.0, 2.0, 21.0, 7.0, 28.0, 6.0, 37.0, 16.0, 25.0, 27.0, 22.0, 12.0, 39.0, 17.0, 13.0, 11.0, 20.0, 19.0, 3.0, 11.0, 18.0, 7.0, 2.0, 13.0, 4.0, 12.0, 27.0, 32.0, 43.0, 7.0, 15.0, 2.0, 23.0, 36.0, 4.0, 7.0, 33.0, 13.0, 39.0, 14.0, 6.0, 64.0, 15.0, 25.0, 29.0, 27.0, 19.0, 12.0, 16.0, 45.0, 21.0, 35.0, 3.0, 28.0, 11.0, 10.0, 24.0, 28.0, 11.0, 23.0, 14.0, 24.0, 26.0, 31.0, 20.0, 36.0, 6.0, 19.0, 9.0, 32.0, 28.0, 75.0, 32.0, 29.0, 15.0, 43.0, 21.0, 13.0, 23.0, 16.0, 33.0, 22.0, 5.0, 21.0, 22.0, 23.0, 2.0, 2.0, 88.0, 29.0, 56.0, 25.0, 31.0, 26.0, 33.0, 8.0, 25.0, 21.0, 8.0, 25.0, 49.0, 27.0, 20.0, 15.0, 19.0, 25.0, 38.0, 4.0, 15.0, 46.0, 19.0, 8.0, 20.0, 4.0, 34.0, 28.0, 19.0, 5.0, 53.0, 16.0, 24.0, 27.0, 31.0, 11.0, 33.0, 11.0, 28.0, 10.0, 9.0, 26.0, 24.0, 14.0, 15.0, 48.0, 7.0, 13.0, 19.0, 56.0, 23.0, 6.0, 10.0, 48.0, 16.0, 25.0, 13.0, 31.0, 14.0, 8.0, 26.0, 49.0, 22.0, 13.0, 20.0, 34.0, 18.0, 19.0, 21.0, 13.0, 20.0, 24.0, 13.0, 8.0, 19.0, 3.0, 10.0, 7.0, 11.0, 22.0, 27.0, 25.0, 35.0, 17.0, 24.0, 7.0, 21.0, 16.0, 47.0, 57.0, 31.0, 44.0, 35.0, 26.0, 3.0, 25.0, 15.0, 23.0, 18.0, 3.0, 22.0, 9.0, 31.0, 29.0, 23.0, 115.0, 12.0, 14.0, 14.0, 9.0, 5.0, 9.0, 23.0, 41.0, 8.0, 58.0, 15.0, 19.0, 10.0, 14.0, 5.0, 19.0, 22.0, 20.0, 16.0, 22.0, 22.0, 5.0, 9.0, 3.0, 12.0, 29.0, 22.0, 33.0, 21.0, 39.0, 10.0, 26.0, 20.0, 16.0, 29.0, 39.0, 12.0, 4.0, 29.0, 12.0, 15.0, 5.0, 9.0, 21.0, 18.0, 8.0, 3.0, 8.0, 24.0, 18.0, 21.0, 16.0, 16.0, 25.0, 13.0, 4.0, 8.0, 25.0, 31.0, 8.0, 16.0, 17.0, 3.0, 77.0, 26.0, 18.0, 15.0, 22.0, 5.0, 8.0, 2.0, 23.0, 9.0, 38.0, 13.0, 16.0, 20.0, 11.0, 23.0, 13.0, 37.0, 9.0, 2.0, 31.0, 10.0, 12.0, 41.0, 41.0, 28.0, 19.0, 9.0, 6.0, 24.0, 10.0, 17.0, 40.0, 2.0, 44.0, 25.0, 73.0, 21.0, 18.0, 14.0, 15.0, 20.0, 29.0, 2.0, 22.0, 10.0, 21.0, 32.0, 34.0, 19.0, 13.0, 19.0, 22.0, 4.0, 31.0, 35.0, 69.0, 12.0, 14.0, 45.0, 21.0, 45.0, 17.0, 33.0, 19.0, 2.0, 26.0, 42.0, 54.0, 33.0, 21.0, 8.0, 35.0, 23.0, 16.0, 24.0, 16.0, 45.0, 12.0, 26.0, 61.0, 20.0, 24.0, 15.0, 21.0, 27.0, 10.0, 10.0, 9.0, 67.0, 19.0, 60.0, 14.0, 38.0, 10.0, 21.0, 20.0, 20.0, 10.0, 17.0, 24.0, 3.0, 12.0, 15.0, 12.0, 6.0, 31.0, 24.0, 21.0, 32.0, 10.0, 18.0, 20.0, 14.0, 25.0, 8.0, 22.0, 27.0, 10.0, 30.0, 16.0, 26.0, 42.0, 21.0, 53.0, 6.0, 14.0, 15.0, 29.0, 12.0, 28.0, 12.0, 2.0, 12.0, 18.0, 5.0, 4.0, 23.0, 6.0, 11.0, 6.0, 13.0, 5.0, 13.0, 19.0, 14.0, 23.0, 22.0, 24.0, 40.0, 23.0, 12.0, 4.0, 13.0, 12.0, 2.0, 14.0, 21.0, 12.0, 12.0, 28.0, 13.0, 16.0, 27.0, 13.0, 28.0, 9.0, 15.0, 4.0, 25.0, 21.0, 31.0, 11.0, 13.0, 11.0, 20.0, 33.0, 28.0, 5.0, 47.0, 33.0, 10.0, 20.0, 26.0, 11.0, 17.0, 3.0, 65.0, 27.0, 8.0, 10.0, 13.0, 13.0, 41.0, 20.0, 15.0, 35.0, 20.0, 30.0, 6.0, 39.0, 31.0, 37.0, 45.0, 21.0, 5.0, 14.0, 31.0, 2.0, 71.0, 6.0, 40.0, 12.0, 19.0, 26.0, 15.0, 17.0, 19.0, 20.0, 31.0, 28.0, 15.0, 26.0, 23.0, 26.0, 29.0, 7.0, 33.0, 25.0, 3.0, 14.0, 54.0, 4.0, 24.0, 8.0, 17.0, 20.0, 23.0, 6.0, 8.0, 17.0, 13.0, 40.0, 26.0, 13.0, 7.0, 3.0, 21.0, 7.0, 13.0, 7.0, 36.0, 12.0, 16.0, 22.0, 19.0, 17.0, 2.0, 8.0, 13.0, 32.0, 29.0, 24.0, 15.0, 25.0, 7.0, 21.0, 13.0, 16.0, 124.0, 13.0, 17.0, 17.0, 29.0, 16.0, 5.0, 27.0, 40.0, 25.0, 32.0, 37.0, 10.0, 9.0, 31.0, 47.0, 7.0, 41.0, 19.0, 12.0, 14.0, 20.0, 14.0, 11.0, 37.0, 4.0, 31.0, 33.0, 48.0, 42.0, 32.0, 12.0, 13.0, 17.0, 30.0, 23.0, 23.0, 3.0, 33.0, 56.0, 12.0, 48.0, 4.0, 2.0, 54.0, 9.0, 37.0, 11.0, 34.0, 13.0, 4.0, 34.0, 11.0, 6.0, 41.0, 18.0, 40.0, 12.0, 18.0, 25.0, 24.0, 23.0, 25.0, 12.0, 4.0, 18.0, 2.0, 4.0, 37.0, 14.0, 9.0, 12.0, 33.0, 30.0, 33.0, 34.0, 27.0, 43.0, 7.0, 11.0, 6.0, 23.0, 14.0, 56.0, 11.0, 14.0, 17.0, 9.0, 43.0, 24.0, 44.0, 49.0, 8.0, 30.0, 18.0, 24.0, 122.0, 6.0, 13.0, 28.0, 9.0, 13.0, 14.0, 18.0, 31.0, 16.0, 13.0, 36.0, 5.0, 20.0, 4.0, 30.0, 12.0, 23.0, 4.0, 13.0, 21.0, 23.0, 23.0, 19.0, 21.0, 7.0, 34.0, 17.0, 22.0, 5.0, 16.0, 36.0, 26.0, 24.0, 17.0, 27.0, 49.0, 15.0, 13.0, 56.0, 7.0, 24.0, 32.0, 17.0, 34.0, 25.0, 31.0, 22.0, 16.0, 8.0, 33.0, 15.0, 8.0, 18.0, 21.0, 16.0, 17.0, 8.0, 23.0, 4.0, 18.0, 16.0, 22.0, 9.0, 7.0, 15.0, 18.0, 23.0, 17.0, 104.0, 28.0, 21.0, 14.0, 6.0, 9.0, 10.0, 15.0, 17.0, 31.0, 27.0, 15.0, 25.0, 19.0, 60.0, 8.0, 10.0, 85.0, 23.0, 18.0, 38.0, 51.0, 4.0, 10.0, 7.0, 26.0, 37.0, 14.0, 50.0, 13.0, 20.0, 10.0, 20.0, 15.0, 18.0, 3.0, 18.0, 27.0, 13.0, 18.0, 15.0, 20.0, 26.0, 31.0, 12.0, 13.0, 11.0, 30.0, 75.0, 11.0, 15.0, 29.0, 18.0, 25.0, 42.0, 7.0, 33.0, 18.0, 38.0, 8.0, 15.0, 7.0, 23.0, 6.0, 25.0, 9.0, 4.0, 12.0, 20.0, 7.0, 15.0, 23.0, 13.0, 47.0, 5.0, 4.0, 9.0, 31.0, 9.0, 24.0, 31.0, 17.0, 32.0, 16.0, 19.0, 26.0, 20.0, 19.0, 7.0, 21.0, 29.0, 29.0, 8.0, 10.0, 17.0, 5.0, 19.0, 25.0, 15.0, 39.0, 31.0, 2.0, 30.0, 7.0, 22.0, 6.0, 35.0, 19.0, 40.0, 15.0, 123.0, 35.0, 7.0, 6.0, 21.0, 38.0, 21.0, 61.0, 13.0, 35.0, 23.0, 26.0, 17.0, 31.0, 17.0, 88.0, 5.0, 20.0, 21.0, 28.0, 15.0, 33.0, 10.0, 17.0, 13.0, 8.0, 21.0, 36.0, 16.0, 3.0, 31.0, 14.0, 10.0, 21.0, 28.0, 29.0, 72.0, 21.0, 23.0, 25.0, 7.0, 8.0, 6.0, 24.0, 69.0, 57.0, 59.0, 7.0, 6.0, 14.0, 12.0, 21.0, 19.0, 34.0, 28.0, 32.0, 2.0, 7.0, 31.0, 6.0, 41.0, 18.0, 20.0, 8.0, 39.0, 17.0, 6.0, 59.0, 12.0, 36.0, 36.0, 27.0, 33.0, 10.0, 32.0, 12.0, 9.0, 20.0, 22.0, 29.0, 32.0, 8.0, 25.0, 17.0, 22.0, 6.0, 7.0, 18.0, 36.0, 35.0, 16.0, 2.0, 42.0, 13.0, 17.0, 4.0, 28.0, 62.0, 27.0, 28.0, 11.0, 32.0, 46.0, 5.0, 3.0, 12.0, 20.0, 4.0, 10.0, 35.0, 6.0, 7.0, 6.0, 8.0, 16.0, 2.0, 34.0, 15.0, 16.0, 21.0, 42.0, 15.0, 5.0, 25.0, 43.0, 15.0, 6.0, 15.0, 2.0, 20.0, 12.0, 20.0, 17.0, 14.0, 16.0, 21.0, 41.0, 19.0, 12.0, 10.0, 40.0, 13.0, 26.0, 4.0, 14.0, 19.0, 20.0, 10.0, 7.0, 5.0, 27.0, 13.0, 12.0, 19.0, 9.0, 14.0, 18.0, 20.0, 12.0, 14.0, 17.0, 23.0, 3.0, 20.0, 12.0, 69.0, 12.0, 11.0, 18.0, 20.0, 21.0, 13.0, 33.0, 20.0, 12.0, 19.0, 20.0, 27.0, 3.0, 29.0, 22.0, 34.0, 21.0, 12.0, 21.0, 13.0, 24.0, 8.0, 29.0, 10.0, 31.0, 17.0, 11.0, 7.0, 28.0, 2.0, 20.0, 6.0, 23.0, 6.0, 17.0, 6.0, 10.0, 19.0, 23.0, 16.0, 13.0, 24.0, 32.0, 21.0, 17.0, 21.0, 6.0, 38.0, 10.0, 20.0, 21.0, 17.0, 31.0, 16.0, 41.0, 11.0, 15.0, 17.0, 8.0, 16.0, 4.0, 18.0, 34.0, 28.0, 19.0, 15.0, 19.0, 11.0, 9.0, 19.0, 22.0, 9.0, 12.0, 4.0, 8.0, 24.0, 27.0, 15.0, 16.0, 19.0, 16.0, 43.0, 22.0, 30.0, 99.0, 16.0, 22.0, 7.0, 16.0, 65.0, 8.0, 18.0, 11.0, 12.0, 15.0, 37.0, 16.0, 32.0, 35.0, 22.0, 17.0, 11.0, 15.0, 16.0, 18.0, 18.0, 10.0, 93.0, 18.0, 58.0, 16.0, 29.0, 16.0, 39.0, 3.0, 5.0, 45.0, 17.0, 24.0, 9.0, 13.0, 15.0, 8.0, 5.0, 33.0, 9.0, 8.0, 29.0, 18.0, 5.0, 31.0, 13.0, 16.0, 12.0, 5.0, 57.0, 10.0, 22.0, 19.0, 9.0, 13.0, 3.0, 28.0, 22.0, 17.0, 3.0, 10.0, 17.0, 9.0, 20.0, 2.0, 40.0, 11.0, 17.0, 19.0, 18.0, 23.0, 18.0, 11.0, 30.0, 49.0, 15.0, 19.0, 9.0, 2.0, 27.0, 33.0, 25.0, 17.0, 25.0, 19.0, 30.0, 12.0, 7.0, 54.0, 17.0, 25.0, 58.0, 60.0, 21.0, 92.0, 19.0, 4.0, 18.0, 30.0, 27.0, 19.0, 35.0, 36.0, 3.0, 30.0, 22.0, 15.0, 18.0, 21.0, 7.0, 101.0, 42.0, 27.0, 40.0, 4.0, 8.0, 14.0, 23.0, 18.0, 13.0, 76.0, 27.0, 47.0, 11.0, 19.0, 22.0, 10.0, 6.0, 20.0, 46.0, 10.0, 30.0, 36.0, 18.0, 23.0, 39.0, 16.0, 28.0, 41.0, 9.0, 9.0, 14.0, 13.0, 23.0, 5.0, 17.0, 29.0, 7.0, 21.0, 14.0, 23.0, 6.0, 34.0, 8.0, 4.0, 18.0, 20.0, 11.0, 18.0, 10.0, 26.0, 39.0, 7.0, 6.0, 48.0, 26.0, 6.0, 23.0, 9.0, 27.0, 10.0, 23.0, 7.0, 17.0, 17.0, 18.0, 4.0, 4.0, 20.0, 16.0, 43.0, 25.0, 2.0, 12.0, 69.0, 28.0, 9.0, 12.0, 18.0, 13.0, 19.0, 9.0, 17.0, 43.0, 15.0, 7.0, 10.0, 12.0, 21.0, 7.0, 9.0, 16.0, 16.0, 15.0, 16.0, 7.0, 3.0, 20.0, 24.0, 11.0, 33.0, 21.0, 22.0, 29.0, 10.0, 38.0, 11.0, 21.0, 5.0, 30.0, 24.0, 11.0, 9.0, 22.0, 80.0, 20.0, 17.0, 27.0, 15.0, 29.0, 12.0, 37.0, 34.0, 16.0, 12.0, 99.0, 7.0, 46.0, 13.0, 10.0, 8.0, 25.0, 4.0, 35.0, 39.0, 56.0, 27.0, 44.0, 19.0, 15.0, 17.0, 24.0, 17.0, 5.0, 16.0, 8.0, 31.0, 22.0, 10.0, 10.0, 4.0, 27.0, 19.0, 5.0, 22.0, 21.0, 26.0, 30.0, 14.0, 22.0, 32.0, 28.0, 36.0, 19.0, 15.0, 5.0, 7.0, 11.0, 48.0, 18.0, 15.0, 5.0, 3.0, 22.0, 19.0, 15.0, 12.0, 25.0, 22.0, 8.0, 7.0, 2.0, 18.0, 25.0, 22.0, 79.0, 14.0, 26.0, 10.0, 14.0, 14.0, 24.0, 17.0, 21.0, 13.0, 14.0, 8.0, 23.0, 63.0, 10.0, 46.0, 19.0, 16.0, 10.0, 78.0, 28.0, 7.0, 23.0, 8.0, 13.0, 35.0, 15.0, 24.0, 20.0, 26.0, 5.0, 30.0, 12.0, 22.0, 19.0, 14.0, 15.0, 22.0, 5.0, 3.0, 8.0, 36.0, 32.0, 44.0, 2.0, 5.0, 4.0, 31.0, 25.0, 5.0, 15.0, 22.0, 17.0, 14.0, 15.0, 23.0, 21.0, 28.0, 15.0, 11.0, 22.0, 10.0, 58.0, 7.0, 14.0, 9.0, 10.0, 13.0, 10.0, 12.0, 8.0, 13.0, 6.0, 28.0, 13.0, 31.0, 19.0, 26.0, 17.0, 35.0, 18.0, 10.0, 21.0, 2.0, 24.0, 15.0, 36.0, 41.0, 16.0, 13.0, 13.0, 24.0, 13.0, 33.0, 24.0, 6.0, 15.0, 21.0, 16.0, 29.0, 18.0, 14.0, 30.0, 5.0, 30.0, 34.0, 35.0, 19.0, 22.0, 72.0, 26.0, 12.0, 14.0, 30.0, 14.0, 24.0, 16.0, 69.0, 14.0, 4.0, 10.0, 16.0, 19.0, 7.0, 9.0, 10.0, 5.0, 12.0, 18.0, 11.0, 25.0, 31.0, 10.0, 22.0, 24.0, 23.0, 15.0, 15.0, 4.0, 8.0, 20.0, 5.0, 19.0, 20.0, 68.0, 44.0, 55.0, 25.0, 5.0, 9.0, 19.0, 24.0, 30.0, 7.0, 47.0, 20.0, 17.0, 25.0, 8.0, 15.0, 5.0, 20.0, 6.0, 4.0, 23.0, 14.0, 9.0, 12.0, 16.0, 20.0, 46.0, 32.0, 32.0, 26.0, 25.0, 20.0, 43.0, 5.0, 16.0, 14.0, 13.0, 20.0, 13.0, 11.0, 4.0, 19.0, 13.0, 16.0, 7.0, 11.0, 4.0, 16.0, 59.0, 15.0, 29.0, 4.0, 9.0, 23.0, 8.0, 35.0, 6.0, 22.0, 11.0, 14.0, 11.0, 20.0, 18.0, 3.0, 15.0, 9.0, 33.0, 14.0, 18.0, 31.0, 14.0, 17.0, 22.0, 17.0, 16.0, 11.0, 33.0, 36.0, 46.0, 21.0, 22.0, 8.0, 19.0, 10.0, 78.0, 11.0, 24.0, 9.0, 12.0, 25.0, 29.0, 131.0, 34.0, 22.0, 24.0, 18.0, 10.0, 13.0, 47.0, 11.0, 22.0, 30.0, 4.0, 27.0, 15.0, 11.0, 30.0, 29.0, 12.0, 22.0, 12.0, 38.0, 18.0, 22.0, 9.0, 66.0, 14.0, 36.0, 34.0, 31.0, 22.0, 7.0, 26.0, 35.0, 33.0, 7.0, 30.0, 47.0, 27.0, 33.0, 8.0, 26.0, 13.0, 12.0, 16.0, 23.0, 18.0, 31.0, 18.0, 28.0, 32.0, 16.0, 19.0, 18.0, 4.0, 28.0, 19.0, 29.0, 66.0, 15.0, 38.0, 16.0, 25.0, 6.0, 25.0, 21.0, 38.0, 21.0, 15.0, 17.0, 9.0, 26.0, 5.0, 13.0, 117.0, 23.0, 20.0, 5.0, 17.0, 5.0, 10.0, 17.0, 18.0, 8.0, 27.0, 7.0, 28.0, 31.0, 23.0, 10.0, 30.0, 7.0, 7.0, 18.0, 10.0, 18.0, 4.0, 15.0, 24.0, 20.0, 18.0, 24.0, 20.0, 11.0, 56.0, 9.0, 8.0, 8.0, 13.0, 28.0, 22.0, 19.0, 9.0, 26.0, 23.0, 26.0, 28.0, 19.0, 5.0, 28.0, 6.0, 25.0, 15.0, 15.0, 30.0, 23.0, 17.0, 36.0, 5.0, 18.0, 11.0, 11.0, 14.0, 25.0, 27.0, 16.0, 23.0, 35.0, 13.0, 14.0, 13.0, 11.0, 29.0, 40.0, 26.0, 13.0, 4.0, 26.0, 10.0, 12.0, 20.0, 37.0, 12.0, 9.0, 16.0, 18.0, 13.0, 16.0, 5.0, 14.0, 10.0, 14.0, 13.0, 6.0, 9.0, 20.0, 18.0, 29.0, 28.0, 7.0, 27.0, 17.0, 23.0, 19.0, 23.0, 5.0, 13.0, 14.0, 5.0, 22.0, 6.0, 29.0, 35.0, 17.0, 30.0, 13.0, 23.0, 12.0, 32.0, 33.0, 9.0, 5.0, 22.0, 11.0, 30.0, 12.0, 25.0, 11.0, 24.0, 35.0, 13.0, 28.0, 14.0, 17.0, 14.0, 21.0, 27.0, 20.0, 14.0, 31.0, 17.0, 32.0, 10.0, 37.0, 5.0, 32.0, 26.0, 16.0, 31.0, 29.0, 9.0, 22.0, 16.0, 18.0, 10.0, 17.0, 15.0, 10.0, 22.0, 28.0, 22.0, 32.0, 24.0, 23.0, 9.0, 6.0, 7.0, 10.0, 10.0, 13.0, 16.0, 10.0, 50.0, 7.0, 21.0, 12.0, 17.0, 30.0, 20.0, 20.0, 6.0, 42.0, 21.0, 7.0, 11.0, 10.0, 6.0, 12.0, 29.0, 21.0, 7.0, 23.0, 10.0, 13.0, 23.0, 88.0, 19.0, 11.0, 32.0, 21.0, 29.0, 22.0, 17.0, 10.0, 6.0, 9.0, 15.0, 17.0, 23.0, 16.0, 9.0, 53.0, 5.0, 20.0, 32.0, 27.0, 9.0, 3.0, 30.0, 27.0, 11.0, 33.0, 13.0, 33.0, 26.0, 7.0, 10.0, 55.0, 17.0, 20.0, 33.0, 11.0, 13.0, 22.0, 10.0, 14.0, 13.0, 21.0, 26.0, 18.0, 34.0, 14.0, 16.0, 5.0, 44.0, 11.0, 25.0, 25.0, 47.0, 27.0, 29.0, 22.0, 26.0, 23.0, 28.0, 27.0, 28.0, 14.0, 13.0, 8.0, 32.0, 61.0, 12.0, 38.0, 15.0, 6.0, 12.0, 9.0, 20.0, 28.0, 20.0, 13.0, 26.0, 20.0, 16.0, 5.0, 18.0, 36.0, 8.0, 34.0, 13.0, 25.0, 29.0, 15.0, 29.0, 8.0, 27.0, 18.0, 14.0, 7.0, 18.0, 25.0, 21.0, 25.0, 7.0, 23.0, 21.0, 20.0, 9.0, 17.0, 44.0, 29.0, 45.0, 19.0, 9.0, 39.0, 15.0, 7.0, 13.0, 20.0, 64.0, 29.0, 42.0, 59.0, 10.0, 4.0, 11.0, 16.0, 14.0, 93.0, 12.0, 26.0, 23.0, 10.0, 9.0, 36.0, 24.0, 31.0, 19.0, 17.0, 9.0, 44.0, 44.0, 9.0, 31.0, 37.0, 25.0, 8.0, 13.0, 10.0, 15.0, 16.0, 14.0, 19.0, 21.0, 15.0, 6.0, 27.0, 58.0, 8.0, 39.0, 68.0, 25.0, 29.0, 18.0, 29.0, 24.0, 18.0, 29.0, 3.0, 33.0, 19.0, 23.0, 19.0, 10.0, 25.0, 11.0, 6.0, 34.0, 24.0, 17.0, 10.0, 20.0, 12.0, 15.0, 19.0, 52.0, 27.0, 14.0, 30.0, 22.0, 28.0, 12.0, 41.0, 18.0, 6.0, 28.0, 11.0, 11.0, 24.0, 2.0, 45.0, 32.0, 14.0, 19.0, 21.0, 27.0, 57.0, 13.0, 8.0, 28.0, 14.0, 17.0, 14.0, 35.0, 13.0, 12.0, 58.0, 2.0, 14.0, 15.0, 29.0, 35.0, 18.0, 21.0, 12.0, 21.0, 16.0, 29.0, 13.0, 16.0, 34.0, 20.0, 15.0, 13.0, 12.0, 19.0, 15.0, 25.0, 8.0, 15.0, 18.0, 15.0, 34.0, 16.0, 9.0, 34.0, 10.0, 10.0, 50.0, 11.0, 18.0, 25.0, 27.0, 34.0, 6.0, 19.0, 17.0, 26.0, 14.0, 16.0, 11.0, 22.0, 22.0, 33.0, 6.0, 17.0, 29.0, 14.0, 9.0, 9.0, 43.0, 28.0, 16.0, 7.0, 26.0, 15.0, 22.0, 8.0, 13.0, 22.0, 26.0, 12.0, 20.0, 11.0, 21.0, 34.0, 9.0, 25.0, 22.0, 28.0, 12.0, 28.0, 26.0, 12.0, 13.0, 50.0, 12.0, 26.0, 39.0, 38.0, 42.0, 28.0, 52.0, 16.0, 16.0, 46.0, 27.0, 32.0, 11.0, 96.0, 9.0, 10.0, 13.0, 10.0, 24.0, 26.0, 24.0, 21.0, 22.0, 10.0, 19.0, 17.0, 12.0, 24.0, 11.0, 13.0, 30.0, 43.0, 15.0, 12.0, 10.0, 25.0, 10.0, 16.0, 12.0, 15.0, 14.0, 13.0, 14.0, 9.0, 33.0, 8.0, 27.0, 27.0, 13.0, 14.0, 32.0, 7.0, 20.0, 12.0, 29.0, 13.0, 15.0, 27.0, 7.0, 14.0, 11.0, 9.0, 11.0, 31.0, 22.0, 6.0, 32.0, 19.0, 47.0, 14.0, 58.0, 76.0, 11.0, 32.0, 4.0, 20.0, 31.0, 37.0, 19.0, 21.0, 15.0, 16.0, 8.0, 20.0, 19.0, 42.0, 40.0, 4.0, 33.0, 15.0, 12.0, 49.0, 46.0, 31.0, 15.0, 12.0, 39.0, 57.0, 15.0, 11.0, 29.0, 32.0, 21.0, 63.0, 21.0, 14.0, 22.0, 32.0, 18.0, 30.0, 10.0, 13.0, 17.0, 13.0, 31.0, 15.0, 5.0, 8.0, 11.0, 24.0, 24.0, 52.0, 17.0, 8.0, 34.0, 29.0, 18.0, 18.0, 13.0, 34.0, 16.0, 21.0, 10.0, 21.0, 37.0, 18.0, 23.0, 16.0, 10.0, 21.0, 31.0, 14.0, 28.0, 21.0, 61.0, 23.0, 18.0, 17.0, 8.0, 35.0, 14.0, 15.0, 14.0, 30.0, 17.0, 22.0, 60.0, 32.0, 11.0, 3.0, 28.0, 24.0, 13.0, 5.0, 11.0, 9.0, 24.0, 26.0, 23.0, 15.0, 50.0, 11.0, 21.0, 18.0, 11.0, 25.0, 23.0, 32.0, 30.0, 20.0, 22.0, 25.0, 14.0, 27.0, 28.0, 14.0, 12.0, 45.0, 13.0, 21.0, 33.0, 22.0, 22.0, 25.0, 13.0, 31.0, 11.0, 9.0, 32.0, 29.0, 12.0, 11.0, 21.0, 13.0, 25.0, 11.0, 29.0, 6.0, 33.0, 26.0, 19.0, 60.0, 37.0, 11.0, 53.0, 18.0, 16.0, 11.0, 27.0, 16.0, 27.0, 18.0, 22.0, 14.0, 23.0, 13.0, 21.0, 27.0, 36.0, 14.0, 21.0, 27.0, 8.0, 21.0, 35.0, 19.0, 14.0, 18.0, 27.0, 20.0, 18.0, 22.0, 56.0, 20.0, 54.0, 33.0, 22.0, 13.0, 12.0, 38.0, 19.0, 27.0, 6.0, 28.0, 18.0, 21.0, 13.0, 11.0, 19.0, 8.0, 10.0, 15.0, 35.0, 11.0, 13.0, 37.0, 35.0, 31.0, 86.0, 41.0, 36.0, 19.0, 45.0, 9.0, 23.0, 27.0, 7.0, 17.0, 5.0, 17.0, 30.0, 31.0, 4.0, 23.0, 17.0, 26.0, 22.0, 45.0, 5.0, 8.0, 87.0, 21.0, 15.0, 7.0, 23.0, 59.0, 13.0, 22.0, 37.0, 27.0, 16.0, 74.0, 83.0, 21.0, 23.0, 27.0, 13.0, 17.0, 29.0, 18.0, 13.0, 19.0, 24.0, 57.0, 19.0, 6.0, 7.0, 21.0, 20.0, 9.0, 13.0, 19.0, 10.0, 15.0, 37.0, 5.0, 3.0, 28.0, 16.0, 66.0, 11.0, 19.0, 17.0, 26.0, 40.0, 21.0, 59.0, 11.0, 6.0, 14.0, 34.0, 16.0, 7.0, 6.0, 43.0, 73.0, 15.0, 11.0, 38.0, 29.0, 26.0, 5.0, 27.0, 26.0, 71.0, 48.0, 50.0, 24.0, 37.0, 13.0, 7.0, 9.0, 16.0, 33.0, 20.0, 38.0, 6.0, 18.0, 7.0, 15.0, 15.0, 5.0, 42.0, 13.0, 50.0, 77.0, 47.0, 8.0, 15.0, 17.0, 19.0, 4.0, 22.0, 140.0, 8.0, 22.0, 109.0, 25.0, 46.0, 10.0, 7.0, 53.0, 12.0, 6.0, 25.0, 21.0, 15.0, 22.0, 21.0, 26.0, 16.0, 10.0, 25.0, 19.0, 16.0, 36.0, 33.0, 46.0, 31.0, 4.0, 45.0, 11.0, 14.0, 22.0, 29.0, 26.0, 18.0, 6.0, 11.0, 14.0, 8.0, 39.0, 14.0, 21.0, 21.0, 22.0, 15.0, 17.0, 13.0, 24.0, 15.0, 45.0, 23.0, 23.0, 6.0, 17.0, 11.0, 15.0, 16.0, 18.0, 14.0, 10.0, 15.0, 17.0, 9.0, 20.0, 13.0, 37.0, 26.0, 15.0, 29.0, 26.0, 12.0, 15.0, 41.0, 20.0, 29.0, 15.0, 19.0, 27.0, 5.0, 16.0, 24.0, 19.0, 16.0, 21.0, 3.0, 24.0, 19.0, 29.0, 28.0, 20.0, 17.0, 21.0, 7.0, 32.0, 3.0, 23.0, 42.0, 19.0, 24.0, 21.0, 33.0, 19.0, 26.0, 33.0, 10.0, 14.0, 18.0, 11.0, 38.0, 5.0, 26.0, 20.0, 24.0, 21.0, 7.0, 32.0, 13.0, 20.0, 19.0, 17.0, 36.0, 15.0, 21.0, 30.0, 26.0, 23.0, 27.0, 19.0, 18.0, 13.0, 44.0, 11.0, 7.0, 31.0, 7.0, 35.0, 12.0, 6.0, 15.0, 17.0, 16.0, 32.0, 31.0, 9.0, 11.0, 15.0, 17.0, 15.0, 8.0, 6.0, 6.0, 18.0, 12.0, 13.0, 25.0, 64.0, 16.0, 29.0, 26.0, 33.0, 19.0, 29.0, 4.0, 27.0, 22.0, 13.0, 13.0, 21.0, 15.0, 37.0, 8.0, 26.0, 11.0, 10.0, 14.0, 23.0, 45.0, 40.0, 25.0, 19.0, 8.0, 40.0, 18.0, 4.0, 9.0, 22.0, 15.0, 33.0, 11.0, 18.0, 16.0, 11.0, 26.0, 24.0, 20.0, 48.0, 24.0, 33.0, 6.0, 14.0, 23.0, 33.0, 22.0, 11.0, 21.0, 14.0, 26.0, 42.0, 61.0, 6.0, 12.0, 22.0, 17.0, 25.0, 14.0, 18.0, 74.0, 12.0, 22.0, 18.0, 6.0, 16.0, 3.0, 16.0, 7.0, 26.0, 8.0, 23.0, 15.0, 17.0, 22.0, 13.0, 45.0, 10.0, 15.0, 14.0, 23.0, 11.0, 6.0, 7.0, 21.0, 14.0, 15.0, 14.0, 23.0, 14.0, 17.0, 3.0, 11.0, 11.0, 31.0, 47.0, 11.0, 25.0, 22.0, 14.0, 21.0, 12.0, 25.0, 7.0, 22.0, 13.0, 22.0, 29.0, 3.0, 23.0, 20.0, 20.0, 11.0, 13.0, 14.0, 49.0, 27.0, 36.0, 8.0, 10.0, 26.0, 13.0, 12.0, 14.0, 22.0, 8.0, 18.0, 13.0, 16.0, 13.0, 7.0, 6.0, 8.0, 18.0, 31.0, 2.0, 19.0, 18.0, 25.0, 7.0, 13.0, 23.0, 26.0, 16.0, 18.0, 32.0, 40.0, 24.0, 30.0, 14.0, 20.0, 36.0, 12.0, 15.0, 20.0, 18.0, 9.0, 11.0, 10.0, 7.0, 10.0, 31.0, 19.0, 21.0, 6.0, 8.0, 15.0, 33.0, 9.0, 22.0, 19.0, 30.0, 52.0, 17.0, 39.0, 15.0, 24.0, 17.0, 20.0, 14.0, 14.0, 17.0, 11.0, 54.0, 26.0, 17.0, 14.0, 26.0, 29.0, 21.0, 37.0, 27.0, 30.0, 30.0, 38.0, 25.0, 26.0, 15.0, 12.0, 25.0, 26.0, 10.0, 46.0, 13.0, 14.0, 12.0, 32.0, 35.0, 42.0, 5.0, 19.0, 30.0, 22.0, 14.0, 9.0, 15.0, 30.0, 40.0, 9.0, 16.0, 9.0, 19.0, 18.0, 30.0, 9.0, 21.0, 13.0, 21.0, 33.0, 13.0, 11.0, 17.0, 41.0, 12.0, 28.0, 24.0, 35.0, 16.0, 29.0, 23.0, 12.0, 16.0, 26.0, 19.0, 9.0, 19.0, 23.0, 9.0, 17.0, 11.0, 27.0, 20.0, 29.0, 15.0, 18.0, 17.0, 19.0, 13.0, 21.0, 28.0, 5.0, 21.0, 13.0, 17.0, 13.0, 17.0, 19.0, 15.0, 23.0, 27.0, 12.0, 34.0, 35.0, 23.0, 3.0, 24.0, 15.0, 9.0, 33.0, 9.0, 15.0, 17.0, 38.0, 20.0, 22.0, 21.0, 2.0, 62.0, 11.0, 33.0, 45.0, 12.0, 12.0, 8.0, 18.0, 12.0, 16.0, 13.0, 20.0, 38.0, 43.0, 4.0, 27.0, 49.0, 16.0, 6.0, 9.0, 22.0, 17.0, 20.0, 20.0, 4.0, 42.0, 21.0, 22.0, 12.0, 40.0, 13.0, 32.0, 30.0, 12.0, 20.0, 6.0, 22.0, 6.0, 9.0, 23.0, 31.0, 18.0, 12.0, 12.0, 18.0, 9.0, 10.0, 5.0, 26.0, 19.0, 15.0, 19.0, 12.0, 12.0, 13.0, 29.0, 21.0, 13.0, 22.0, 2.0, 3.0, 7.0, 14.0, 20.0, 5.0, 18.0, 35.0, 24.0, 12.0, 14.0, 3.0, 36.0, 46.0, 3.0, 2.0, 18.0, 26.0, 8.0, 14.0, 13.0, 31.0, 23.0, 21.0, 22.0, 10.0, 23.0, 17.0, 29.0, 7.0, 22.0, 13.0, 3.0, 3.0, 42.0, 27.0, 17.0, 35.0, 6.0, 31.0, 18.0, 14.0, 26.0, 16.0, 6.0, 22.0, 24.0, 15.0, 14.0, 9.0, 21.0, 6.0, 18.0, 17.0, 26.0, 23.0, 15.0, 27.0, 3.0, 23.0, 39.0, 19.0, 15.0, 45.0, 14.0, 10.0, 7.0, 28.0, 3.0, 18.0, 22.0, 18.0, 11.0, 24.0, 44.0, 23.0, 4.0, 32.0, 15.0, 9.0, 24.0, 3.0, 14.0, 18.0, 11.0, 10.0, 26.0, 16.0, 28.0, 20.0, 13.0, 18.0, 46.0, 25.0, 5.0, 13.0, 21.0, 15.0, 14.0, 22.0, 11.0, 17.0, 14.0, 13.0, 29.0, 21.0, 33.0, 19.0, 46.0, 40.0, 19.0, 13.0, 22.0, 10.0, 41.0, 11.0, 9.0, 5.0, 44.0, 11.0, 28.0, 25.0, 5.0, 3.0, 14.0, 20.0, 12.0, 15.0, 28.0, 13.0, 22.0, 36.0, 21.0, 10.0, 61.0, 25.0, 25.0, 34.0, 24.0, 13.0, 36.0, 19.0, 15.0, 43.0, 35.0, 22.0, 28.0, 28.0, 15.0, 26.0, 38.0, 29.0, 14.0, 24.0, 24.0, 27.0, 20.0, 18.0, 11.0, 12.0, 8.0, 17.0, 19.0, 18.0, 17.0, 14.0, 7.0, 8.0, 22.0, 29.0, 36.0, 51.0, 11.0, 40.0, 35.0, 57.0, 16.0, 10.0, 11.0, 20.0, 8.0, 24.0, 28.0, 24.0, 31.0, 40.0, 13.0, 29.0, 35.0, 5.0, 27.0, 12.0, 17.0, 11.0, 6.0, 33.0, 32.0, 17.0, 6.0, 23.0, 19.0, 31.0, 10.0, 7.0, 36.0, 19.0, 13.0, 33.0, 8.0, 30.0, 16.0, 18.0, 20.0, 61.0, 14.0, 21.0, 14.0, 21.0, 13.0, 16.0, 21.0, 5.0, 14.0, 15.0, 33.0, 32.0, 11.0, 15.0, 14.0, 29.0, 20.0, 27.0, 18.0, 17.0, 3.0, 35.0, 20.0, 14.0, 26.0, 18.0, 25.0, 8.0, 24.0, 10.0, 4.0, 29.0, 28.0, 14.0, 22.0, 6.0, 30.0, 5.0, 26.0, 33.0, 22.0, 10.0, 20.0, 17.0, 19.0, 20.0, 29.0, 53.0, 21.0, 29.0, 7.0, 28.0, 22.0, 10.0, 29.0, 18.0, 25.0, 25.0, 26.0, 23.0, 21.0, 5.0, 37.0, 20.0, 18.0, 24.0, 11.0, 21.0, 24.0, 14.0, 27.0, 5.0, 9.0, 36.0, 9.0, 48.0, 11.0, 24.0, 10.0, 37.0, 47.0, 22.0, 17.0, 17.0, 3.0, 9.0, 18.0, 12.0, 20.0, 19.0, 18.0, 29.0, 19.0, 31.0, 19.0, 3.0, 13.0, 23.0, 11.0, 16.0, 15.0, 25.0, 33.0, 50.0, 11.0, 33.0, 27.0, 14.0, 16.0, 15.0, 3.0, 23.0, 18.0, 16.0, 4.0, 23.0, 16.0, 9.0, 10.0, 34.0, 14.0, 3.0, 18.0, 8.0, 13.0, 18.0, 29.0, 18.0, 22.0, 15.0, 5.0, 15.0, 12.0, 6.0, 17.0, 23.0, 39.0, 11.0, 23.0, 39.0, 2.0, 16.0, 12.0, 13.0, 3.0, 26.0, 22.0, 9.0, 21.0, 46.0, 17.0, 18.0, 23.0, 39.0, 22.0, 15.0, 33.0, 21.0, 14.0, 9.0, 17.0, 9.0, 12.0, 27.0, 46.0, 20.0, 14.0, 27.0, 11.0, 6.0, 3.0, 18.0, 5.0, 11.0, 15.0, 26.0, 20.0, 14.0, 7.0, 26.0, 21.0, 9.0, 5.0, 10.0, 9.0, 18.0, 77.0, 29.0, 29.0, 5.0, 81.0, 8.0, 31.0, 18.0, 30.0, 28.0, 26.0, 28.0, 26.0, 12.0, 22.0, 23.0, 40.0, 5.0, 37.0, 32.0, 37.0, 39.0, 11.0, 10.0, 33.0, 38.0, 6.0, 7.0, 25.0, 21.0, 15.0, 14.0, 14.0, 20.0, 12.0, 23.0, 7.0, 5.0, 21.0, 15.0, 16.0, 62.0, 13.0, 18.0, 13.0, 20.0, 18.0, 19.0, 31.0, 38.0, 13.0, 15.0, 23.0, 12.0, 12.0, 7.0, 26.0, 17.0, 26.0, 14.0, 23.0, 18.0, 6.0, 59.0, 18.0, 19.0, 4.0, 35.0, 23.0, 21.0, 10.0, 13.0, 31.0, 14.0, 6.0, 23.0, 27.0, 11.0, 27.0, 5.0, 20.0, 24.0, 14.0, 28.0, 9.0, 11.0, 26.0, 10.0, 18.0, 32.0, 17.0, 19.0, 21.0, 17.0, 3.0, 12.0, 39.0, 12.0, 17.0, 17.0, 4.0, 8.0, 23.0, 16.0, 7.0, 5.0, 21.0, 12.0, 36.0, 13.0, 12.0, 14.0, 9.0, 32.0, 11.0, 22.0, 15.0, 9.0, 19.0, 13.0, 27.0, 14.0, 9.0, 17.0, 8.0, 16.0, 18.0, 18.0, 10.0, 17.0, 20.0, 10.0, 24.0, 10.0, 13.0, 12.0, 7.0, 35.0, 33.0, 38.0, 21.0, 19.0, 36.0, 16.0, 23.0, 28.0, 21.0, 16.0, 16.0, 33.0, 8.0, 3.0, 16.0, 17.0, 9.0, 34.0, 27.0, 19.0, 26.0, 11.0, 16.0, 17.0, 9.0, 17.0, 31.0, 14.0, 11.0, 17.0, 32.0, 17.0, 9.0, 21.0, 28.0, 23.0, 7.0, 19.0, 7.0, 14.0, 14.0, 14.0, 31.0, 21.0, 16.0, 12.0, 14.0, 6.0, 12.0, 12.0, 28.0, 37.0, 25.0, 14.0, 14.0, 4.0, 29.0, 28.0, 36.0, 32.0, 20.0, 21.0, 18.0, 2.0, 13.0, 28.0, 20.0, 21.0, 25.0, 16.0, 30.0, 18.0, 3.0, 20.0, 12.0, 10.0, 20.0, 5.0, 15.0, 37.0, 32.0, 11.0, 11.0, 15.0, 13.0, 12.0, 14.0, 89.0, 10.0, 34.0, 28.0, 18.0, 55.0, 22.0, 32.0, 49.0, 27.0, 8.0, 14.0, 13.0, 14.0, 11.0, 34.0, 12.0, 30.0, 32.0, 32.0, 8.0, 20.0, 32.0, 3.0, 10.0, 23.0, 30.0, 16.0, 21.0, 9.0, 10.0, 8.0, 26.0, 15.0, 24.0, 13.0, 32.0, 14.0, 3.0, 22.0, 12.0, 6.0, 17.0, 9.0, 18.0, 7.0, 4.0, 11.0, 12.0, 5.0, 21.0, 18.0, 9.0, 21.0, 18.0, 38.0, 7.0, 19.0, 6.0, 11.0, 21.0, 17.0, 19.0, 22.0, 13.0, 44.0, 23.0, 10.0, 12.0, 40.0, 20.0, 34.0, 10.0, 5.0, 23.0, 18.0, 28.0, 10.0, 40.0, 4.0, 16.0, 11.0, 43.0, 12.0, 21.0, 3.0, 22.0, 18.0, 9.0, 6.0, 36.0, 43.0, 13.0, 6.0, 9.0, 35.0, 6.0, 13.0, 22.0, 11.0, 5.0, 22.0, 13.0, 18.0, 8.0, 10.0, 22.0, 4.0, 29.0, 14.0, 27.0, 25.0, 22.0, 79.0, 16.0, 16.0, 33.0, 36.0, 13.0, 14.0, 17.0, 22.0, 26.0, 21.0, 20.0, 22.0, 27.0, 17.0, 12.0, 6.0, 43.0, 36.0, 4.0, 16.0, 26.0, 23.0, 11.0, 17.0, 37.0, 55.0, 15.0, 18.0, 8.0, 8.0, 8.0, 10.0, 19.0, 11.0, 19.0, 37.0, 6.0, 17.0, 12.0, 35.0, 14.0, 26.0, 14.0, 10.0, 11.0, 27.0, 32.0, 5.0, 18.0, 4.0, 41.0, 45.0, 17.0, 14.0, 12.0, 8.0, 56.0, 38.0, 40.0, 2.0, 29.0, 10.0, 19.0, 19.0, 13.0, 20.0, 18.0, 30.0, 13.0, 23.0, 6.0, 17.0, 9.0, 13.0, 18.0, 8.0, 21.0, 20.0, 8.0, 12.0, 13.0, 24.0, 27.0, 14.0, 20.0, 20.0, 22.0, 20.0, 19.0, 18.0, 17.0, 14.0, 14.0, 22.0, 22.0, 17.0, 10.0, 31.0, 28.0, 20.0, 49.0, 11.0, 30.0, 9.0, 31.0, 13.0, 20.0, 21.0, 18.0, 4.0, 11.0, 6.0, 12.0, 33.0, 15.0, 15.0, 18.0, 8.0, 25.0, 11.0, 17.0, 14.0, 24.0, 16.0, 8.0, 13.0, 30.0, 12.0, 19.0, 12.0, 10.0, 29.0, 19.0, 9.0, 30.0, 32.0, 19.0, 6.0, 15.0, 25.0, 13.0, 42.0, 16.0, 4.0, 7.0, 33.0, 25.0, 8.0, 14.0, 7.0, 16.0, 7.0, 7.0, 17.0, 21.0, 5.0, 24.0, 14.0, 23.0, 21.0, 25.0, 22.0, 18.0, 14.0, 13.0, 7.0, 23.0, 30.0, 34.0, 39.0, 18.0, 21.0, 10.0, 5.0, 13.0, 39.0, 26.0, 21.0, 34.0, 11.0, 9.0, 14.0, 20.0, 13.0, 11.0, 24.0, 5.0, 35.0, 17.0, 6.0, 6.0, 12.0, 16.0, 15.0, 17.0, 15.0, 24.0, 49.0, 18.0, 21.0, 17.0, 15.0, 27.0, 14.0, 48.0, 24.0, 14.0, 4.0, 18.0, 22.0, 9.0, 18.0, 25.0, 9.0, 6.0, 26.0, 39.0, 19.0, 18.0, 26.0, 17.0, 38.0, 18.0, 19.0, 20.0, 14.0, 22.0, 9.0, 9.0, 49.0, 9.0, 16.0, 14.0, 15.0, 21.0, 26.0, 31.0, 13.0, 25.0, 13.0, 51.0, 18.0, 13.0, 17.0, 14.0, 11.0, 29.0, 22.0, 11.0, 23.0, 26.0, 13.0, 20.0, 13.0, 32.0, 42.0, 18.0, 27.0, 9.0, 11.0, 17.0, 32.0, 13.0, 13.0, 22.0, 15.0, 27.0, 25.0, 15.0, 11.0, 38.0, 25.0, 17.0, 12.0, 20.0, 37.0, 16.0, 23.0, 9.0, 8.0, 11.0, 3.0, 5.0, 17.0, 20.0, 27.0, 27.0, 17.0, 27.0, 38.0, 3.0, 22.0, 49.0, 14.0, 27.0, 13.0, 22.0, 6.0, 21.0, 7.0, 16.0, 30.0, 7.0, 44.0, 15.0, 22.0, 36.0, 11.0, 9.0, 12.0, 7.0, 11.0, 22.0, 22.0, 8.0, 40.0, 11.0, 92.0, 29.0, 12.0, 16.0, 11.0, 12.0, 24.0, 25.0, 31.0, 2.0, 5.0, 12.0, 21.0, 14.0, 28.0, 29.0, 17.0, 11.0, 17.0, 3.0, 45.0, 8.0, 13.0, 30.0, 207.0, 14.0, 9.0, 3.0, 27.0, 4.0, 43.0, 11.0, 55.0, 13.0, 35.0, 12.0, 7.0, 22.0, 25.0, 18.0, 10.0, 14.0, 10.0, 8.0, 15.0, 9.0, 33.0, 17.0, 20.0, 20.0, 5.0, 11.0, 10.0, 5.0, 28.0, 11.0, 14.0, 23.0, 18.0, 6.0, 23.0, 56.0, 8.0, 24.0, 12.0, 21.0, 39.0, 15.0, 37.0, 33.0, 23.0, 20.0, 17.0, 17.0, 8.0, 19.0, 16.0, 24.0, 6.0, 15.0, 9.0, 12.0, 15.0, 6.0, 13.0, 21.0, 22.0, 23.0, 6.0, 13.0, 16.0, 3.0, 27.0, 24.0, 29.0, 4.0, 51.0, 19.0, 28.0, 4.0, 42.0, 15.0, 12.0, 10.0, 13.0, 17.0, 8.0, 9.0, 11.0, 21.0, 15.0, 40.0, 27.0, 32.0, 33.0, 12.0, 13.0, 17.0, 14.0, 20.0, 16.0, 16.0, 15.0, 20.0, 9.0, 24.0, 8.0, 18.0, 12.0, 13.0, 12.0, 9.0, 18.0, 27.0, 19.0, 7.0, 4.0, 36.0, 17.0, 26.0, 18.0, 31.0, 11.0, 28.0, 32.0, 13.0, 19.0, 14.0, 36.0, 23.0, 12.0, 13.0, 21.0, 16.0, 34.0, 43.0, 22.0, 54.0, 7.0, 25.0, 19.0, 11.0, 29.0, 22.0, 13.0, 21.0, 8.0, 21.0, 21.0, 6.0, 22.0, 22.0, 9.0, 4.0, 21.0, 19.0, 14.0, 13.0, 18.0, 16.0, 5.0, 20.0, 18.0, 19.0, 4.0, 13.0, 50.0, 10.0, 23.0, 14.0, 9.0, 7.0, 9.0, 3.0, 17.0, 9.0, 19.0, 10.0, 40.0, 22.0, 7.0, 15.0, 8.0, 18.0, 26.0, 15.0, 6.0, 19.0, 34.0, 13.0, 16.0, 2.0, 14.0, 13.0, 31.0, 10.0, 11.0, 39.0, 8.0, 32.0, 9.0, 30.0, 15.0, 11.0, 22.0, 12.0, 33.0, 22.0, 16.0, 18.0, 14.0, 36.0, 22.0, 25.0, 21.0, 16.0, 51.0, 42.0, 31.0, 6.0, 12.0, 7.0, 18.0, 19.0, 10.0, 7.0, 19.0, 23.0, 16.0, 14.0, 15.0, 14.0, 20.0, 50.0, 44.0, 32.0, 17.0, 44.0, 16.0, 19.0, 16.0, 13.0, 53.0, 20.0, 13.0, 19.0, 23.0, 11.0, 28.0, 6.0, 54.0, 29.0, 8.0, 31.0, 17.0, 29.0, 16.0, 14.0, 8.0, 31.0, 22.0, 3.0, 12.0, 18.0, 27.0, 9.0, 21.0, 14.0, 8.0, 25.0, 43.0, 14.0, 21.0, 27.0, 21.0, 17.0, 19.0, 20.0, 40.0, 21.0, 22.0, 19.0, 12.0, 4.0, 28.0, 5.0, 13.0, 13.0, 15.0, 8.0, 16.0, 4.0, 4.0, 12.0, 36.0, 9.0, 7.0, 9.0, 22.0, 20.0, 14.0, 24.0, 14.0, 23.0, 13.0, 25.0, 12.0, 20.0, 28.0, 13.0, 6.0, 35.0, 11.0, 12.0, 26.0, 9.0, 24.0, 10.0, 6.0, 14.0, 68.0, 11.0, 7.0, 26.0, 17.0, 20.0, 9.0, 19.0, 21.0, 23.0, 14.0, 6.0, 13.0, 20.0, 10.0, 15.0, 14.0, 31.0, 2.0, 11.0, 12.0, 33.0, 41.0, 40.0, 34.0, 14.0, 16.0, 3.0, 20.0, 13.0, 15.0, 29.0, 23.0, 9.0, 22.0, 24.0, 9.0, 36.0, 13.0, 13.0, 9.0, 17.0, 14.0, 11.0, 23.0, 9.0, 18.0, 22.0, 17.0, 8.0, 15.0, 9.0, 4.0, 7.0, 22.0, 11.0, 19.0, 12.0, 16.0, 40.0, 33.0, 19.0, 23.0, 24.0, 46.0, 24.0, 43.0, 24.0, 5.0, 23.0, 4.0, 29.0, 21.0, 9.0, 16.0, 38.0, 14.0, 20.0, 13.0, 16.0, 18.0, 21.0, 46.0, 22.0, 7.0, 7.0, 4.0, 25.0, 9.0, 8.0, 13.0, 34.0, 12.0, 25.0, 23.0, 26.0, 26.0, 14.0, 16.0, 6.0, 50.0, 37.0, 8.0, 11.0, 21.0, 20.0, 20.0, 12.0, 15.0, 28.0, 35.0, 20.0, 16.0, 16.0, 13.0, 13.0, 16.0, 14.0, 10.0, 11.0, 25.0, 31.0, 22.0, 21.0, 16.0, 4.0, 20.0, 8.0, 6.0, 17.0, 27.0, 6.0, 5.0, 21.0, 19.0, 12.0, 41.0, 3.0, 18.0, 3.0, 19.0, 8.0, 31.0, 3.0, 24.0, 41.0, 31.0, 23.0, 5.0, 20.0, 20.0, 13.0, 14.0, 28.0, 13.0, 19.0, 36.0, 15.0, 25.0, 35.0, 14.0, 20.0, 16.0, 78.0, 12.0, 27.0, 7.0, 8.0, 26.0, 25.0, 27.0, 12.0, 31.0, 19.0, 11.0, 19.0, 29.0, 23.0, 11.0, 21.0, 16.0, 10.0, 10.0, 4.0, 20.0, 48.0, 19.0, 54.0, 33.0, 23.0, 26.0, 18.0, 36.0, 23.0, 16.0, 25.0, 54.0, 23.0, 10.0, 37.0, 39.0, 14.0, 24.0, 5.0, 2.0, 28.0, 13.0, 13.0, 33.0, 3.0, 41.0, 50.0, 18.0, 7.0, 3.0, 49.0, 50.0, 25.0, 10.0, 41.0, 12.0, 26.0, 28.0, 18.0, 43.0, 9.0, 26.0, 9.0, 13.0, 33.0, 22.0, 20.0, 2.0, 18.0, 15.0, 16.0, 6.0, 14.0, 16.0, 27.0, 31.0, 14.0, 38.0, 20.0, 3.0, 23.0, 15.0, 103.0, 4.0, 22.0, 25.0, 9.0, 5.0, 10.0, 14.0, 17.0, 32.0, 36.0, 11.0, 23.0, 25.0, 26.0, 4.0, 26.0, 26.0, 33.0, 10.0, 7.0, 42.0, 20.0, 21.0, 6.0, 24.0, 22.0, 11.0, 29.0, 23.0, 18.0, 25.0, 18.0, 12.0, 22.0, 24.0, 36.0, 15.0, 29.0, 26.0, 11.0, 29.0, 34.0, 15.0, 25.0, 32.0, 5.0, 15.0, 28.0, 15.0, 37.0, 19.0, 16.0, 22.0, 20.0, 29.0, 29.0, 36.0, 17.0, 6.0, 42.0, 36.0, 6.0, 2.0, 8.0, 19.0, 17.0, 23.0, 32.0, 54.0, 18.0, 43.0, 8.0, 21.0, 18.0, 14.0, 16.0, 18.0, 20.0, 3.0, 15.0, 27.0, 7.0, 18.0, 24.0, 29.0, 20.0, 19.0, 12.0, 17.0, 24.0, 6.0, 91.0, 3.0, 45.0, 34.0, 6.0, 14.0, 35.0, 22.0, 25.0, 34.0, 26.0, 7.0, 41.0, 26.0, 14.0, 48.0, 25.0, 14.0, 19.0, 17.0, 39.0, 8.0, 7.0, 15.0, 61.0, 25.0, 11.0, 52.0, 47.0, 23.0, 14.0, 21.0, 26.0, 12.0, 14.0, 40.0, 13.0, 59.0, 38.0, 19.0, 31.0, 5.0, 8.0, 10.0, 20.0, 13.0, 25.0, 23.0, 10.0, 27.0, 5.0, 28.0, 15.0, 19.0, 20.0, 15.0, 44.0, 59.0, 5.0, 36.0, 5.0, 15.0, 42.0, 6.0, 29.0, 4.0, 28.0, 8.0, 18.0, 13.0, 23.0, 14.0, 44.0, 10.0, 34.0, 13.0, 11.0, 41.0, 26.0, 20.0, 5.0, 22.0, 74.0, 18.0, 25.0, 63.0, 40.0, 15.0, 87.0, 23.0, 21.0, 16.0, 12.0, 25.0, 27.0, 9.0, 2.0, 13.0, 10.0, 31.0, 17.0, 7.0, 18.0, 29.0, 9.0, 24.0, 26.0, 23.0, 49.0, 3.0, 26.0, 29.0, 16.0, 6.0, 42.0, 23.0, 18.0, 6.0, 9.0, 6.0, 39.0, 21.0, 21.0, 25.0, 5.0, 13.0, 23.0, 15.0, 13.0, 16.0, 11.0, 15.0, 23.0, 12.0, 5.0, 22.0, 4.0, 16.0, 32.0, 17.0, 8.0, 37.0, 36.0, 13.0, 19.0, 34.0, 32.0, 17.0, 12.0, 9.0, 21.0, 8.0, 20.0, 21.0, 27.0, 31.0, 23.0, 22.0, 17.0, 26.0, 27.0, 19.0, 17.0, 23.0, 29.0, 10.0, 18.0, 16.0, 14.0, 16.0, 25.0, 13.0, 19.0, 27.0, 34.0, 15.0, 28.0, 36.0, 21.0, 5.0, 35.0, 22.0, 23.0, 10.0, 27.0, 23.0, 21.0, 7.0, 23.0, 14.0, 4.0, 45.0, 22.0, 33.0, 12.0, 26.0, 17.0, 27.0, 36.0, 16.0, 37.0, 8.0, 24.0, 20.0, 32.0, 34.0, 14.0, 6.0, 20.0, 11.0, 21.0, 35.0, 27.0, 20.0, 36.0, 20.0, 21.0, 43.0, 10.0, 3.0, 30.0, 14.0, 22.0, 14.0, 29.0, 21.0, 36.0, 37.0, 27.0, 16.0, 14.0, 15.0, 25.0, 55.0, 26.0, 25.0, 16.0, 15.0, 15.0, 32.0, 19.0, 6.0, 26.0, 22.0, 19.0, 30.0, 10.0, 40.0, 9.0, 7.0, 16.0, 17.0, 28.0, 36.0, 13.0, 20.0, 39.0, 19.0, 15.0, 17.0, 13.0, 6.0, 14.0, 20.0, 12.0, 17.0, 16.0, 35.0, 17.0, 23.0, 13.0, 11.0, 20.0, 14.0, 16.0, 22.0, 8.0, 19.0, 29.0, 18.0, 47.0, 26.0, 17.0, 37.0, 9.0, 14.0, 8.0, 6.0, 18.0, 33.0, 17.0, 21.0, 32.0, 48.0, 9.0, 10.0, 28.0, 37.0, 14.0, 14.0, 28.0, 16.0, 24.0, 24.0, 28.0, 29.0, 14.0, 26.0, 29.0, 8.0, 30.0, 6.0, 28.0, 3.0, 32.0, 38.0, 29.0, 29.0, 28.0, 71.0, 9.0, 33.0, 26.0, 45.0, 7.0, 24.0, 24.0, 18.0, 10.0, 21.0, 24.0, 45.0, 11.0, 29.0, 37.0, 14.0, 34.0, 31.0, 32.0, 25.0, 20.0, 27.0, 19.0, 10.0, 40.0, 33.0, 9.0, 23.0, 27.0, 25.0, 36.0, 48.0, 19.0, 4.0, 27.0, 9.0, 20.0, 20.0, 25.0, 3.0, 18.0, 21.0, 46.0, 26.0, 31.0, 10.0, 32.0, 49.0, 27.0, 28.0, 23.0, 30.0, 8.0, 90.0, 17.0, 25.0, 9.0, 28.0, 29.0, 30.0, 19.0, 23.0, 5.0, 10.0, 5.0, 26.0, 7.0, 32.0, 7.0, 18.0, 27.0, 14.0, 17.0, 49.0, 35.0, 26.0, 4.0, 31.0, 3.0, 29.0, 17.0, 21.0, 32.0, 16.0, 19.0, 21.0, 15.0, 18.0, 12.0, 11.0, 126.0, 38.0, 17.0, 35.0, 17.0, 12.0, 49.0, 5.0, 28.0, 13.0, 15.0, 14.0, 26.0, 5.0, 12.0, 29.0, 21.0, 53.0, 11.0, 16.0, 28.0, 26.0, 41.0, 17.0, 39.0, 22.0, 41.0, 24.0, 22.0, 16.0, 38.0, 6.0, 22.0, 25.0, 16.0, 29.0, 52.0, 14.0, 34.0, 52.0, 12.0, 6.0, 15.0, 23.0, 34.0, 118.0, 34.0, 24.0, 4.0, 32.0, 33.0, 25.0, 18.0, 27.0, 26.0, 12.0, 24.0, 4.0, 20.0, 2.0, 35.0, 17.0, 7.0, 20.0, 23.0, 10.0, 17.0, 9.0, 8.0, 30.0, 11.0, 41.0, 15.0, 25.0, 21.0, 13.0, 18.0, 2.0, 25.0, 11.0, 42.0, 19.0, 27.0, 20.0, 15.0, 39.0, 32.0, 27.0, 13.0, 34.0, 5.0, 30.0, 14.0, 9.0, 63.0, 27.0, 56.0, 6.0, 6.0, 34.0, 27.0, 18.0, 29.0, 33.0, 17.0, 13.0, 24.0, 50.0, 53.0, 22.0, 14.0, 21.0, 30.0, 9.0, 48.0, 10.0, 28.0, 4.0, 14.0, 22.0, 14.0, 16.0, 16.0, 33.0, 19.0, 24.0, 28.0, 3.0, 14.0, 21.0, 15.0, 17.0, 18.0, 18.0, 26.0, 8.0, 14.0, 63.0, 31.0, 17.0, 4.0, 37.0, 29.0, 20.0, 18.0, 32.0, 16.0, 5.0, 14.0, 27.0, 3.0, 13.0, 11.0, 18.0, 15.0, 27.0, 14.0, 5.0, 44.0, 20.0, 5.0, 9.0, 16.0, 8.0, 15.0, 15.0, 9.0, 20.0, 15.0, 87.0, 4.0, 3.0, 5.0, 31.0, 5.0, 27.0, 30.0, 20.0, 4.0, 22.0, 23.0, 6.0, 29.0, 19.0, 34.0, 17.0, 30.0, 16.0, 13.0, 7.0, 9.0, 23.0, 11.0, 40.0, 41.0, 29.0, 37.0, 8.0, 15.0, 9.0, 32.0, 12.0, 35.0, 23.0, 4.0, 52.0, 20.0, 32.0, 14.0, 3.0, 35.0, 19.0, 84.0, 9.0, 18.0, 40.0, 15.0, 2.0, 20.0, 13.0, 52.0, 50.0, 8.0, 28.0, 17.0, 36.0, 28.0, 14.0, 12.0, 15.0, 18.0, 11.0, 20.0, 25.0, 80.0, 11.0, 4.0, 10.0, 7.0, 20.0, 7.0, 26.0, 5.0, 18.0, 12.0, 34.0, 29.0, 39.0, 11.0, 31.0, 21.0, 31.0, 21.0, 14.0, 31.0, 29.0, 28.0, 13.0, 22.0, 6.0, 21.0, 9.0, 3.0, 12.0, 11.0, 21.0, 24.0, 33.0, 13.0, 29.0, 7.0, 6.0, 34.0, 8.0, 4.0, 32.0, 9.0, 12.0, 20.0, 27.0, 37.0, 18.0, 35.0, 10.0, 24.0, 40.0, 11.0, 20.0, 28.0, 43.0, 19.0, 18.0, 16.0, 54.0, 6.0, 23.0, 7.0, 24.0, 16.0, 23.0, 27.0, 37.0, 16.0, 20.0, 22.0, 39.0, 21.0, 44.0, 8.0, 17.0, 4.0, 18.0, 30.0, 31.0, 32.0, 21.0, 6.0, 32.0, 9.0, 9.0, 25.0, 57.0, 5.0, 16.0, 15.0, 38.0, 21.0, 52.0, 24.0, 4.0, 13.0, 29.0, 7.0, 7.0, 37.0, 23.0, 23.0, 30.0, 36.0, 9.0, 5.0, 27.0, 20.0, 8.0, 24.0, 21.0, 41.0, 15.0, 10.0, 15.0, 29.0, 11.0, 23.0, 39.0, 28.0, 28.0, 8.0, 12.0, 11.0, 42.0, 24.0, 27.0, 22.0, 4.0, 44.0, 22.0, 15.0, 27.0, 22.0, 29.0, 13.0, 25.0, 6.0, 16.0, 11.0, 23.0, 9.0, 37.0, 16.0, 22.0, 11.0, 31.0, 14.0, 5.0, 25.0, 27.0, 26.0, 28.0, 17.0, 39.0, 16.0, 2.0, 49.0, 13.0, 36.0, 32.0, 15.0, 13.0, 30.0, 23.0, 19.0, 19.0, 14.0, 17.0, 38.0, 50.0, 27.0, 33.0, 27.0, 22.0, 43.0, 19.0, 15.0, 25.0, 19.0, 36.0, 33.0, 14.0, 24.0, 39.0, 43.0, 21.0, 14.0, 12.0, 13.0, 15.0, 17.0, 31.0, 37.0, 23.0, 24.0, 16.0, 24.0, 36.0, 23.0, 32.0, 48.0, 4.0, 14.0, 9.0, 28.0, 5.0, 125.0, 9.0, 2.0, 24.0, 63.0, 17.0, 18.0, 51.0, 21.0, 14.0, 23.0, 29.0, 16.0, 31.0, 15.0, 23.0, 25.0, 28.0, 6.0, 14.0, 20.0, 4.0, 15.0, 17.0, 12.0, 30.0, 17.0, 22.0, 38.0, 7.0, 25.0, 23.0, 2.0, 4.0, 19.0, 11.0, 25.0, 17.0, 44.0, 28.0, 26.0, 14.0, 22.0, 9.0, 14.0, 30.0, 12.0, 23.0, 33.0, 59.0, 6.0, 41.0, 17.0, 13.0, 25.0, 26.0, 21.0, 15.0, 38.0, 6.0, 26.0, 22.0, 9.0, 37.0, 13.0, 26.0, 23.0, 32.0, 15.0, 4.0, 39.0, 24.0, 14.0, 11.0, 45.0, 12.0, 12.0, 24.0, 5.0, 24.0, 20.0, 28.0, 31.0, 22.0, 16.0, 28.0, 17.0, 16.0, 29.0, 28.0, 10.0, 16.0, 17.0, 21.0, 34.0, 33.0, 26.0, 8.0, 19.0, 32.0, 18.0, 15.0, 6.0, 24.0, 39.0, 36.0, 11.0, 20.0, 3.0, 24.0, 25.0, 3.0, 47.0, 23.0, 18.0, 9.0, 27.0, 7.0, 83.0, 25.0, 39.0, 33.0, 23.0, 29.0, 28.0, 21.0, 17.0, 12.0, 3.0, 24.0, 6.0, 41.0, 44.0, 30.0, 21.0, 26.0, 68.0, 27.0, 21.0, 7.0, 23.0, 14.0, 22.0, 16.0, 22.0, 7.0, 15.0, 40.0, 32.0, 11.0, 31.0, 3.0, 57.0, 12.0, 23.0, 10.0, 9.0, 16.0, 11.0, 55.0, 26.0, 18.0, 20.0, 16.0, 8.0, 30.0, 10.0, 19.0, 21.0, 7.0, 12.0, 12.0, 23.0, 22.0, 19.0, 24.0, 5.0, 8.0, 40.0, 40.0, 22.0, 20.0, 7.0, 27.0, 8.0, 33.0, 18.0, 10.0, 32.0, 10.0, 16.0, 13.0, 9.0, 25.0, 42.0, 35.0, 20.0, 34.0, 59.0, 7.0, 42.0, 11.0, 108.0, 9.0, 30.0, 11.0, 25.0, 27.0, 16.0, 20.0, 13.0, 39.0, 7.0, 41.0, 16.0, 29.0, 17.0, 27.0, 26.0, 9.0, 18.0, 28.0, 12.0, 19.0, 69.0, 32.0, 59.0, 16.0, 17.0, 16.0, 7.0, 28.0, 30.0, 39.0, 9.0, 10.0, 21.0, 41.0, 19.0, 5.0, 11.0, 29.0, 8.0, 28.0, 17.0, 13.0, 15.0, 16.0, 33.0, 21.0, 20.0, 23.0, 13.0, 13.0, 7.0, 20.0, 33.0, 11.0, 37.0, 23.0, 47.0, 21.0, 9.0, 20.0, 24.0, 2.0, 16.0, 27.0, 14.0, 19.0, 8.0, 9.0, 40.0, 14.0, 40.0, 27.0, 19.0, 12.0, 54.0, 13.0, 35.0, 39.0, 7.0, 40.0, 57.0, 36.0, 42.0, 22.0, 16.0, 23.0, 10.0, 16.0, 40.0, 34.0, 16.0, 34.0, 21.0, 28.0, 13.0, 40.0, 36.0, 9.0, 20.0, 76.0, 41.0, 35.0, 25.0, 22.0, 23.0, 17.0, 9.0, 21.0, 22.0, 25.0, 24.0, 40.0, 6.0, 21.0, 24.0, 47.0, 24.0, 8.0, 26.0, 9.0, 10.0, 27.0, 23.0, 14.0, 22.0, 14.0, 33.0, 10.0, 13.0, 34.0, 23.0, 16.0, 4.0, 20.0, 53.0, 24.0, 39.0, 24.0, 17.0, 39.0, 17.0, 23.0, 17.0, 16.0, 51.0, 24.0, 43.0, 52.0, 15.0, 14.0, 57.0, 9.0, 19.0, 6.0, 32.0, 29.0, 26.0, 8.0, 23.0, 47.0, 4.0, 24.0, 26.0, 24.0, 21.0, 20.0, 33.0, 17.0, 28.0, 21.0, 7.0, 2.0, 3.0, 15.0, 39.0, 23.0, 37.0, 37.0, 21.0, 15.0, 6.0, 23.0, 14.0, 13.0, 24.0, 3.0, 36.0, 3.0, 9.0, 35.0, 8.0, 23.0, 24.0, 15.0, 26.0, 55.0, 18.0, 23.0, 24.0, 41.0, 19.0, 7.0, 25.0, 17.0, 11.0, 8.0, 26.0, 47.0, 6.0, 35.0, 12.0, 5.0, 34.0, 30.0, 22.0, 49.0, 34.0, 14.0, 35.0, 9.0, 4.0, 39.0, 18.0, 22.0, 8.0, 7.0, 49.0, 47.0, 5.0, 35.0, 20.0, 34.0, 28.0, 41.0, 34.0, 11.0, 9.0, 14.0, 10.0, 11.0, 13.0, 25.0, 19.0, 25.0, 17.0, 36.0, 63.0, 14.0, 23.0, 5.0, 104.0, 38.0, 26.0, 12.0, 32.0, 30.0, 17.0, 50.0, 15.0, 12.0, 44.0, 10.0, 7.0, 16.0, 36.0, 30.0, 21.0, 38.0, 10.0, 23.0, 30.0, 3.0, 34.0, 32.0, 16.0, 20.0, 28.0, 3.0, 40.0, 4.0, 40.0, 30.0, 2.0, 7.0, 40.0, 20.0, 32.0, 22.0, 36.0, 7.0, 27.0, 11.0, 24.0, 27.0, 17.0, 24.0, 22.0, 18.0, 42.0, 17.0, 16.0, 18.0, 39.0, 19.0, 77.0, 20.0, 26.0, 18.0, 24.0, 8.0, 37.0, 36.0, 14.0, 9.0, 43.0, 12.0, 18.0, 37.0, 47.0, 28.0, 12.0, 3.0, 18.0, 30.0, 17.0, 3.0, 34.0, 21.0, 41.0, 13.0, 12.0, 13.0, 23.0, 23.0, 13.0, 20.0, 13.0, 23.0, 32.0, 29.0, 28.0, 21.0, 11.0, 31.0, 21.0, 23.0, 25.0, 6.0, 35.0, 21.0, 48.0, 4.0, 3.0, 10.0, 14.0, 16.0, 25.0, 34.0, 9.0, 21.0, 39.0, 37.0, 20.0, 10.0, 51.0, 4.0, 3.0, 37.0, 22.0, 33.0, 20.0, 9.0, 5.0, 32.0, 5.0, 5.0, 10.0, 12.0, 76.0, 25.0, 16.0, 38.0, 7.0, 10.0, 15.0, 28.0, 5.0, 9.0, 18.0, 60.0, 37.0, 29.0, 18.0, 3.0, 20.0, 18.0, 27.0, 3.0, 16.0, 16.0, 28.0, 7.0, 5.0, 10.0, 14.0, 25.0, 40.0, 36.0, 79.0, 10.0, 11.0, 29.0, 18.0, 11.0, 11.0, 21.0, 23.0, 15.0, 18.0, 15.0, 46.0, 19.0, 18.0, 18.0, 3.0, 55.0, 26.0, 7.0, 26.0, 11.0, 19.0, 39.0, 28.0, 5.0, 17.0, 20.0, 12.0, 17.0, 4.0, 49.0, 17.0, 20.0, 24.0, 26.0, 19.0, 25.0, 21.0, 15.0, 46.0, 25.0, 43.0, 11.0, 50.0, 22.0, 6.0, 18.0, 27.0, 17.0, 16.0, 5.0, 27.0, 24.0, 19.0, 17.0, 26.0, 20.0, 28.0, 21.0, 18.0, 6.0, 39.0, 26.0, 21.0, 25.0, 36.0, 19.0, 27.0, 22.0, 57.0, 100.0, 4.0, 40.0, 31.0, 10.0, 19.0, 31.0, 42.0, 33.0, 14.0, 18.0, 16.0, 53.0, 29.0, 34.0, 28.0, 40.0, 80.0, 43.0, 22.0, 27.0, 25.0, 15.0, 22.0, 32.0, 36.0, 30.0, 28.0, 11.0, 5.0, 28.0, 30.0, 41.0, 8.0, 10.0, 8.0, 24.0, 13.0, 10.0, 56.0, 14.0, 6.0, 61.0, 56.0, 14.0, 10.0, 23.0, 26.0, 48.0, 23.0, 21.0, 17.0, 7.0, 20.0, 9.0, 19.0, 22.0, 22.0, 24.0, 6.0, 20.0, 21.0, 12.0, 29.0, 41.0, 36.0, 32.0, 22.0, 35.0, 22.0, 23.0, 34.0, 9.0, 18.0, 25.0, 27.0, 8.0, 22.0, 19.0, 16.0, 20.0, 17.0, 11.0, 4.0, 20.0, 29.0, 37.0, 5.0, 3.0, 30.0, 3.0, 5.0, 62.0, 11.0, 13.0, 23.0, 25.0, 16.0, 2.0, 28.0, 33.0, 14.0, 116.0, 3.0, 29.0, 28.0, 23.0, 74.0, 24.0, 3.0, 4.0, 29.0, 34.0, 13.0, 25.0, 26.0, 9.0, 11.0, 66.0, 44.0, 26.0, 15.0, 16.0, 14.0, 11.0, 15.0, 15.0, 19.0, 13.0, 16.0, 13.0, 28.0, 36.0, 8.0, 32.0, 8.0, 22.0, 6.0, 57.0, 28.0, 35.0, 21.0, 11.0, 18.0, 6.0, 7.0, 26.0, 13.0, 11.0, 22.0, 30.0, 13.0, 21.0, 44.0, 23.0, 24.0, 25.0, 5.0, 11.0, 37.0, 3.0, 28.0, 10.0, 8.0, 35.0, 36.0, 28.0, 17.0, 26.0, 28.0, 26.0, 4.0, 37.0, 29.0, 5.0, 105.0, 15.0, 55.0, 38.0, 15.0, 5.0, 9.0, 12.0, 21.0, 3.0, 11.0, 13.0, 31.0, 10.0, 7.0, 18.0, 7.0, 6.0, 18.0, 22.0, 16.0, 14.0, 25.0, 35.0, 22.0, 29.0, 24.0, 19.0, 30.0, 10.0, 7.0, 29.0, 27.0, 32.0, 14.0, 15.0, 23.0, 18.0, 11.0, 3.0, 43.0, 60.0, 7.0, 8.0, 34.0, 15.0, 12.0, 25.0, 21.0, 13.0, 25.0, 12.0, 40.0, 26.0, 11.0, 4.0, 16.0, 21.0, 20.0, 25.0, 25.0, 30.0, 20.0, 3.0, 19.0, 43.0, 18.0, 88.0, 20.0, 22.0, 24.0, 11.0, 33.0, 9.0, 27.0, 2.0, 29.0, 37.0, 35.0, 31.0, 24.0, 38.0, 11.0, 19.0, 16.0, 13.0, 18.0, 28.0, 16.0, 21.0, 40.0, 55.0, 31.0, 33.0, 13.0, 60.0, 48.0, 16.0, 7.0, 32.0, 4.0, 23.0, 4.0, 26.0, 9.0, 15.0, 20.0, 29.0, 23.0, 32.0, 13.0, 19.0, 16.0, 22.0, 7.0, 51.0, 19.0, 22.0, 37.0, 26.0, 13.0, 11.0, 33.0, 6.0, 35.0, 36.0, 6.0, 17.0, 32.0, 10.0, 18.0, 16.0, 4.0, 18.0, 8.0, 22.0, 31.0, 16.0, 26.0, 33.0, 6.0, 20.0, 11.0, 19.0, 6.0, 7.0, 13.0, 31.0, 15.0, 25.0, 31.0, 40.0, 19.0, 9.0, 4.0, 7.0, 33.0, 9.0, 20.0, 25.0, 29.0, 17.0, 2.0, 14.0, 12.0, 18.0, 16.0, 15.0, 25.0, 33.0, 28.0, 9.0, 28.0, 11.0, 7.0, 19.0, 14.0, 30.0, 24.0, 6.0, 18.0, 15.0, 8.0, 39.0, 3.0, 11.0, 8.0, 7.0, 15.0, 25.0, 7.0, 30.0, 25.0, 17.0, 18.0, 22.0, 39.0, 35.0, 25.0, 18.0, 39.0, 16.0, 27.0, 9.0, 19.0, 30.0, 11.0, 26.0, 141.0, 48.0, 9.0, 17.0, 26.0, 11.0, 37.0, 35.0, 17.0, 19.0, 12.0, 26.0, 41.0, 27.0, 6.0, 4.0, 16.0, 38.0, 16.0, 25.0, 36.0, 50.0, 25.0, 29.0, 20.0, 36.0, 12.0, 27.0, 58.0, 13.0, 15.0, 17.0, 36.0, 30.0, 25.0, 32.0, 32.0, 21.0, 10.0, 9.0, 21.0, 29.0, 28.0, 6.0, 40.0, 7.0, 22.0, 14.0, 38.0, 32.0, 14.0, 16.0, 8.0, 4.0, 26.0, 34.0, 21.0, 19.0, 26.0, 22.0, 34.0, 22.0, 16.0, 9.0, 13.0, 5.0, 38.0, 9.0, 44.0, 16.0, 41.0, 11.0, 22.0, 36.0, 4.0, 5.0, 25.0, 35.0, 12.0, 11.0, 30.0, 11.0, 13.0, 40.0, 15.0, 13.0, 36.0, 10.0, 19.0, 3.0, 17.0, 8.0, 8.0, 44.0, 14.0, 3.0, 15.0, 31.0, 14.0, 28.0, 38.0, 17.0, 4.0, 9.0, 22.0, 20.0, 32.0, 21.0, 58.0, 9.0, 94.0, 24.0, 3.0, 64.0, 53.0, 7.0, 31.0, 6.0, 21.0, 9.0, 12.0, 4.0, 6.0, 13.0, 4.0, 6.0, 30.0, 16.0, 20.0, 14.0, 5.0, 5.0, 23.0, 7.0, 23.0, 16.0, 12.0, 117.0, 19.0, 61.0, 12.0, 24.0, 11.0, 34.0, 14.0, 23.0, 57.0, 13.0, 12.0, 22.0, 30.0, 22.0, 24.0, 28.0, 6.0, 13.0, 23.0, 15.0, 9.0, 21.0, 11.0, 8.0, 22.0, 18.0, 35.0, 22.0, 5.0, 6.0, 19.0, 35.0, 8.0, 6.0, 12.0, 7.0, 19.0, 7.0, 37.0, 43.0, 15.0, 3.0, 49.0, 9.0, 23.0, 28.0, 10.0, 42.0, 5.0, 30.0, 26.0, 6.0, 4.0, 3.0, 35.0, 20.0, 17.0, 8.0, 21.0, 13.0, 16.0, 37.0, 49.0, 3.0, 13.0, 9.0, 9.0, 15.0, 21.0, 20.0, 19.0, 25.0, 23.0, 23.0, 4.0, 22.0, 40.0, 10.0, 25.0, 10.0, 53.0, 9.0, 18.0, 29.0, 23.0, 16.0, 20.0, 10.0, 36.0, 27.0, 9.0, 25.0, 69.0, 12.0, 33.0, 30.0, 56.0, 26.0, 9.0, 38.0, 35.0, 33.0, 18.0, 32.0, 8.0, 9.0, 25.0, 15.0, 6.0, 18.0, 27.0, 9.0, 34.0, 9.0, 36.0, 7.0, 13.0, 21.0, 8.0, 4.0, 11.0, 18.0, 6.0, 21.0, 27.0, 14.0, 19.0, 22.0, 16.0, 11.0, 3.0, 18.0, 29.0, 15.0, 50.0, 25.0, 8.0, 21.0, 22.0, 5.0, 9.0, 12.0, 28.0, 14.0, 3.0, 15.0, 20.0, 4.0, 12.0, 16.0, 11.0, 33.0, 4.0, 14.0, 10.0, 20.0, 13.0, 24.0, 12.0, 7.0, 20.0, 13.0, 23.0, 18.0, 13.0, 27.0, 11.0, 22.0, 12.0, 3.0, 14.0, 26.0, 9.0, 11.0, 34.0, 9.0, 25.0, 17.0, 11.0, 13.0, 13.0, 24.0, 45.0, 12.0, 28.0, 12.0, 36.0, 10.0, 18.0, 12.0, 18.0, 7.0, 6.0, 18.0, 72.0, 19.0, 18.0, 14.0, 19.0, 24.0, 3.0, 20.0, 4.0, 37.0, 9.0, 36.0, 17.0, 26.0, 28.0, 25.0, 12.0, 37.0, 20.0, 17.0, 14.0, 19.0, 17.0, 4.0, 13.0, 22.0, 7.0, 2.0, 15.0, 4.0, 13.0, 29.0, 30.0, 40.0, 7.0, 14.0, 3.0, 25.0, 41.0, 3.0, 6.0, 27.0, 15.0, 39.0, 19.0, 6.0, 70.0, 9.0, 32.0, 28.0, 32.0, 19.0, 16.0, 19.0, 42.0, 18.0, 33.0, 4.0, 30.0, 15.0, 9.0, 31.0, 34.0, 14.0, 23.0, 20.0, 24.0, 28.0, 32.0, 22.0, 38.0, 5.0, 20.0, 9.0, 31.0, 25.0, 71.0, 35.0, 38.0, 13.0, 49.0, 21.0, 12.0, 21.0, 25.0, 31.0, 22.0, 6.0, 20.0, 26.0, 23.0, 2.0, 2.0, 90.0, 40.0, 55.0, 21.0, 31.0, 26.0, 34.0, 6.0, 25.0, 21.0, 9.0, 25.0, 55.0, 18.0, 20.0, 15.0, 22.0, 28.0, 41.0, 6.0, 21.0, 47.0, 16.0, 10.0, 21.0, 4.0, 39.0, 24.0, 15.0, 6.0, 53.0, 13.0, 24.0, 30.0, 32.0, 10.0, 30.0, 12.0, 25.0, 11.0, 8.0, 24.0, 22.0, 10.0, 21.0, 57.0, 7.0, 19.0, 23.0, 46.0, 23.0, 7.0, 9.0, 46.0, 18.0, 30.0, 14.0, 32.0, 16.0, 8.0, 29.0, 32.0, 22.0, 14.0, 22.0, 39.0, 17.0, 19.0, 19.0, 12.0, 22.0, 26.0, 15.0, 8.0, 19.0, 4.0, 9.0, 6.0, 15.0, 25.0, 27.0, 21.0, 38.0, 16.0, 21.0, 8.0, 22.0, 12.0, 35.0, 55.0, 32.0, 46.0, 40.0, 27.0, 3.0, 33.0, 16.0, 30.0, 19.0, 5.0, 22.0, 9.0, 27.0, 29.0, 24.0, 105.0, 13.0, 16.0, 15.0, 9.0, 10.0, 6.0, 24.0, 41.0, 11.0, 58.0, 18.0, 19.0, 9.0, 20.0, 6.0, 16.0, 24.0, 22.0, 17.0, 21.0, 24.0, 5.0, 7.0, 4.0, 10.0, 31.0, 22.0, 39.0, 21.0, 37.0, 11.0, 26.0, 27.0, 16.0, 35.0, 41.0, 14.0, 5.0, 30.0, 15.0, 16.0, 6.0, 9.0, 27.0, 16.0, 9.0, 5.0, 7.0, 14.0, 23.0, 18.0, 15.0, 19.0, 17.0, 15.0, 5.0, 6.0, 30.0, 29.0, 10.0, 14.0, 20.0, 6.0, 78.0, 29.0, 21.0, 16.0, 30.0, 4.0, 8.0, 6.0, 19.0, 10.0, 46.0, 12.0, 12.0, 21.0, 10.0, 26.0, 13.0, 28.0, 14.0, 2.0, 30.0, 11.0, 12.0, 36.0, 44.0, 35.0, 2.0, 16.0, 15.0, 6.0, 22.0, 8.0, 19.0, 32.0, 4.0, 44.0, 26.0, 75.0, 22.0, 17.0, 17.0, 13.0, 18.0, 32.0, 2.0, 20.0, 15.0, 20.0, 28.0, 28.0, 21.0, 14.0, 27.0, 26.0, 5.0, 31.0, 32.0, 63.0, 13.0, 17.0, 50.0, 26.0, 50.0, 19.0, 30.0, 17.0, 2.0, 24.0, 39.0, 53.0, 32.0, 17.0, 6.0, 33.0, 24.0, 16.0, 27.0, 19.0, 51.0, 11.0, 28.0, 64.0, 24.0, 23.0, 16.0, 20.0, 27.0, 9.0, 10.0, 9.0, 68.0, 23.0, 61.0, 16.0, 34.0, 7.0, 20.0, 20.0, 24.0, 9.0, 16.0, 26.0, 5.0, 7.0, 13.0, 12.0, 6.0, 31.0, 27.0, 19.0, 31.0, 10.0, 20.0, 17.0, 11.0, 29.0, 6.0, 26.0, 27.0, 7.0, 28.0, 20.0, 24.0, 42.0, 20.0, 53.0, 8.0, 15.0, 17.0, 28.0, 7.0, 36.0, 11.0, 3.0, 12.0, 22.0, 7.0, 7.0, 26.0, 5.0, 9.0, 6.0, 16.0, 4.0, 14.0, 22.0, 13.0, 26.0, 24.0, 21.0, 36.0, 18.0, 11.0, 6.0, 15.0, 18.0, 4.0, 17.0, 26.0, 12.0, 17.0, 31.0, 12.0, 17.0, 19.0, 14.0, 22.0, 11.0, 12.0, 3.0, 19.0, 24.0, 38.0, 12.0, 11.0, 11.0, 14.0, 32.0, 23.0, 5.0, 33.0, 38.0, 10.0, 26.0, 33.0, 15.0, 15.0, 4.0, 65.0, 26.0, 9.0, 7.0, 13.0, 16.0, 34.0, 20.0, 16.0, 44.0, 22.0, 26.0, 6.0, 41.0, 3.0, 2.0, 33.0, 46.0, 39.0, 24.0, 6.0, 15.0, 42.0, 2.0, 66.0, 6.0, 46.0, 16.0, 26.0, 27.0, 17.0, 18.0, 23.0, 30.0, 32.0, 30.0, 13.0, 23.0, 26.0, 26.0, 26.0, 7.0, 36.0, 22.0, 3.0, 17.0, 47.0, 4.0, 22.0, 10.0, 17.0, 22.0, 21.0, 9.0, 11.0, 19.0, 13.0, 30.0, 34.0, 11.0, 6.0, 3.0, 20.0, 7.0, 11.0, 6.0, 39.0, 14.0, 15.0, 22.0, 21.0, 23.0, 4.0, 9.0, 11.0, 32.0, 27.0, 19.0, 13.0, 31.0, 4.0, 22.0, 14.0, 17.0, 126.0, 9.0, 19.0, 13.0, 44.0, 14.0, 5.0, 22.0, 41.0, 26.0, 38.0, 44.0, 8.0, 11.0, 30.0, 46.0, 6.0, 30.0, 20.0, 15.0, 17.0, 34.0, 22.0, 13.0, 41.0, 4.0, 32.0, 25.0, 46.0, 34.0, 43.0, 9.0, 15.0, 23.0, 30.0, 27.0, 23.0, 3.0, 34.0, 55.0, 14.0, 42.0, 4.0, 2.0, 50.0, 8.0, 36.0, 9.0, 35.0, 10.0, 4.0, 28.0, 10.0, 8.0, 41.0, 20.0, 40.0, 16.0, 15.0, 34.0, 39.0, 24.0, 29.0, 11.0, 2.0, 19.0, 3.0, 6.0, 2.0, 39.0, 14.0, 9.0, 22.0, 34.0, 28.0, 34.0, 31.0, 20.0, 38.0, 7.0, 12.0, 7.0, 22.0, 13.0, 55.0, 11.0, 14.0, 15.0, 8.0, 3.0, 44.0, 24.0, 50.0, 40.0, 8.0, 34.0, 11.0, 22.0, 121.0, 4.0, 12.0, 27.0, 8.0, 12.0, 12.0, 24.0, 31.0, 16.0, 15.0, 35.0, 6.0, 26.0, 4.0, 47.0, 11.0, 22.0, 5.0, 8.0, 23.0, 23.0, 30.0, 23.0, 27.0, 10.0, 30.0, 23.0, 19.0, 5.0, 16.0, 35.0, 27.0, 22.0, 15.0, 29.0, 35.0, 13.0, 14.0, 55.0, 4.0, 19.0, 38.0, 14.0, 30.0, 24.0, 35.0, 25.0, 15.0, 6.0, 34.0, 17.0, 9.0, 17.0, 20.0, 19.0, 17.0, 6.0, 29.0, 4.0, 19.0, 17.0, 32.0, 9.0, 9.0, 21.0, 23.0, 25.0, 20.0, 110.0, 26.0, 18.0, 18.0, 5.0, 7.0, 13.0, 11.0, 17.0, 30.0, 35.0, 14.0, 28.0, 17.0, 61.0, 10.0, 9.0, 83.0, 27.0, 19.0, 38.0, 57.0, 6.0, 10.0, 9.0, 27.0, 36.0, 14.0, 41.0, 19.0, 21.0, 9.0, 14.0, 16.0, 17.0, 4.0, 17.0, 35.0, 16.0, 18.0, 14.0, 18.0, 26.0, 30.0, 10.0, 15.0, 12.0, 35.0, 75.0, 11.0, 14.0, 29.0, 19.0, 21.0, 47.0, 6.0, 44.0, 15.0, 39.0, 5.0, 14.0, 7.0, 17.0, 7.0, 28.0, 8.0, 5.0, 11.0, 16.0, 8.0, 14.0, 23.0, 12.0, 44.0, 4.0, 3.0, 9.0, 24.0, 13.0, 29.0, 27.0, 20.0, 36.0, 18.0, 22.0, 32.0, 21.0, 25.0, 2.0, 9.0, 25.0, 31.0, 29.0, 8.0, 14.0, 18.0, 5.0, 19.0, 26.0, 20.0, 35.0, 26.0, 6.0, 32.0, 9.0, 25.0, 6.0, 32.0, 22.0, 40.0, 13.0, 129.0, 38.0, 12.0, 7.0, 23.0, 43.0, 21.0, 58.0, 17.0, 40.0, 20.0, 32.0, 13.0, 41.0, 18.0, 93.0, 5.0, 15.0, 19.0, 27.0, 17.0, 32.0, 12.0, 21.0, 16.0, 7.0, 21.0, 35.0, 19.0, 5.0, 37.0, 16.0, 6.0, 21.0, 23.0, 24.0, 72.0, 20.0, 17.0, 29.0, 6.0, 6.0, 9.0, 29.0, 73.0, 60.0, 61.0, 7.0, 6.0, 13.0, 10.0, 24.0, 17.0, 35.0, 22.0, 31.0, 2.0, 12.0, 34.0, 5.0, 47.0, 17.0, 20.0, 5.0, 30.0, 19.0, 5.0, 58.0, 12.0, 36.0, 30.0, 27.0, 36.0, 13.0, 35.0, 11.0, 11.0, 20.0, 23.0, 32.0, 29.0, 8.0, 33.0, 23.0, 26.0, 5.0, 8.0, 15.0, 29.0, 34.0, 16.0, 3.0, 30.0, 11.0, 12.0, 5.0, 24.0, 68.0, 24.0, 31.0, 14.0, 33.0, 41.0, 4.0, 4.0, 14.0, 22.0, 3.0, 8.0, 29.0, 4.0, 7.0, 6.0, 9.0, 16.0, 3.0, 25.0, 12.0, 16.0, 24.0, 46.0, 15.0, 7.0, 32.0, 40.0, 15.0, 5.0, 13.0, 3.0, 20.0, 11.0, 21.0, 16.0, 15.0, 17.0, 29.0, 43.0, 22.0, 11.0, 10.0, 42.0, 15.0, 26.0, 6.0, 14.0, 19.0, 26.0, 12.0, 9.0, 6.0, 31.0, 13.0, 9.0, 25.0, 10.0, 16.0, 24.0, 16.0, 12.0, 18.0, 18.0, 21.0, 4.0, 21.0, 11.0, 70.0, 12.0, 10.0, 21.0, 21.0, 21.0, 12.0, 31.0, 20.0, 11.0, 24.0, 22.0, 26.0, 3.0, 30.0, 21.0, 33.0, 25.0, 19.0, 20.0, 15.0, 23.0, 8.0, 32.0, 11.0, 28.0, 14.0, 10.0, 9.0, 36.0, 2.0, 23.0, 5.0, 30.0, 8.0, 15.0, 6.0, 12.0, 25.0, 21.0, 16.0, 11.0, 29.0, 32.0, 26.0, 30.0, 22.0, 8.0, 39.0, 7.0, 19.0, 23.0, 22.0, 42.0, 19.0, 45.0, 13.0, 13.0, 18.0, 10.0, 20.0, 6.0, 19.0, 39.0, 28.0, 20.0, 16.0, 18.0, 3.0, 12.0, 11.0, 18.0, 18.0, 9.0, 8.0, 4.0, 8.0, 29.0, 22.0, 17.0, 16.0, 19.0, 17.0, 48.0, 23.0, 24.0, 92.0, 17.0, 16.0, 5.0, 16.0, 54.0, 9.0, 25.0, 13.0, 14.0, 13.0, 38.0, 16.0, 27.0, 26.0, 22.0, 19.0, 21.0, 18.0, 20.0, 18.0, 18.0, 8.0, 92.0, 13.0, 56.0, 18.0, 27.0, 19.0, 35.0, 3.0, 5.0, 52.0, 17.0, 29.0, 16.0, 12.0, 17.0, 9.0, 3.0, 38.0, 7.0, 9.0, 20.0, 17.0, 4.0, 25.0, 11.0, 17.0, 12.0, 6.0, 56.0, 11.0, 27.0, 21.0, 10.0, 11.0, 2.0, 30.0, 25.0, 13.0, 3.0, 11.0, 15.0, 8.0, 19.0, 3.0, 46.0, 12.0, 17.0, 22.0, 14.0, 25.0, 17.0, 11.0, 31.0, 48.0, 13.0, 22.0, 7.0, 3.0, 27.0, 36.0, 33.0, 13.0, 30.0, 17.0, 41.0, 16.0, 7.0, 37.0, 18.0, 26.0, 56.0, 55.0, 18.0, 89.0, 20.0, 2.0, 23.0, 30.0, 30.0, 23.0, 38.0, 38.0, 3.0, 32.0, 25.0, 19.0, 24.0, 20.0, 6.0, 97.0, 37.0, 25.0, 40.0, 6.0, 7.0, 13.0, 24.0, 17.0, 12.0, 77.0, 36.0, 47.0, 11.0, 16.0, 30.0, 15.0, 5.0, 19.0, 53.0, 9.0, 37.0, 38.0, 24.0, 17.0, 36.0, 20.0, 30.0, 44.0, 10.0, 9.0, 12.0, 11.0, 26.0, 4.0, 23.0, 31.0, 7.0, 24.0, 14.0, 26.0, 8.0, 32.0, 9.0, 5.0, 23.0, 19.0, 14.0, 20.0, 10.0, 32.0, 40.0, 6.0, 6.0, 48.0, 27.0, 6.0, 33.0, 8.0, 41.0, 8.0, 18.0, 6.0, 16.0, 15.0, 21.0, 5.0, 4.0, 27.0, 14.0, 42.0, 33.0, 2.0, 13.0, 55.0, 20.0, 6.0, 20.0, 17.0, 20.0, 23.0, 8.0, 19.0, 43.0, 19.0, 7.0, 12.0, 17.0, 26.0, 8.0, 10.0, 16.0, 19.0, 18.0, 20.0, 8.0, 4.0, 19.0, 27.0, 11.0, 34.0, 23.0, 18.0, 25.0, 10.0, 34.0, 14.0, 28.0, 5.0, 25.0, 26.0, 12.0, 9.0, 26.0, 90.0, 19.0, 20.0, 28.0, 14.0, 27.0, 10.0, 41.0, 30.0, 16.0, 7.0, 96.0, 5.0, 46.0, 13.0, 11.0, 11.0, 26.0, 5.0, 32.0, 51.0, 57.0, 38.0, 25.0, 16.0, 20.0, 15.0, 24.0, 18.0, 8.0, 20.0, 8.0, 30.0, 27.0, 11.0, 9.0, 4.0, 27.0, 20.0, 5.0, 19.0, 18.0, 26.0, 29.0, 17.0, 32.0, 47.0, 37.0, 34.0, 20.0, 17.0, 5.0, 11.0, 11.0, 51.0, 22.0, 14.0, 4.0, 4.0, 31.0, 16.0, 17.0, 15.0, 22.0, 20.0, 9.0, 8.0, 3.0, 22.0, 25.0, 22.0, 74.0, 23.0, 26.0, 8.0, 15.0, 15.0, 24.0, 16.0, 22.0, 13.0, 14.0, 11.0, 24.0, 55.0, 11.0, 45.0, 30.0, 17.0, 11.0, 74.0, 32.0, 12.0, 25.0, 11.0, 10.0, 40.0, 19.0, 18.0, 18.0, 27.0, 6.0, 36.0, 15.0, 25.0, 22.0, 15.0, 21.0, 20.0, 10.0, 3.0, 4.0, 8.0, 36.0, 32.0, 46.0, 5.0, 4.0, 3.0, 33.0, 30.0, 8.0, 16.0, 21.0, 18.0, 8.0, 16.0, 23.0, 23.0, 27.0, 23.0, 12.0, 21.0, 11.0, 56.0, 6.0, 14.0, 12.0, 9.0, 12.0, 12.0, 12.0, 9.0, 18.0, 6.0, 21.0, 15.0, 35.0, 15.0, 27.0, 14.0, 35.0, 23.0, 7.0, 29.0, 3.0, 20.0, 17.0, 38.0, 46.0, 15.0, 12.0, 11.0, 26.0, 9.0, 31.0, 22.0, 6.0, 13.0, 22.0, 13.0, 33.0, 18.0, 12.0, 30.0, 6.0, 42.0, 32.0, 28.0, 23.0, 21.0, 73.0, 29.0, 13.0, 16.0, 28.0, 10.0, 29.0, 16.0, 61.0, 19.0, 4.0, 14.0, 17.0, 27.0, 8.0, 10.0, 15.0, 6.0, 14.0, 32.0, 10.0, 22.0, 36.0, 9.0, 22.0, 20.0, 23.0, 15.0, 17.0, 4.0, 8.0, 22.0, 6.0, 15.0, 18.0, 64.0, 43.0, 54.0, 28.0, 4.0, 12.0, 25.0, 23.0, 42.0, 6.0, 70.0, 24.0, 19.0, 25.0, 6.0, 15.0, 5.0, 19.0, 6.0, 4.0, 24.0, 12.0, 11.0, 10.0, 16.0, 24.0, 43.0, 40.0, 34.0, 27.0, 23.0, 20.0, 44.0, 5.0, 15.0, 12.0, 12.0, 22.0, 12.0, 13.0, 7.0, 18.0, 16.0, 21.0, 10.0, 8.0, 6.0, 23.0, 77.0, 16.0, 26.0, 8.0, 17.0, 21.0, 8.0, 45.0, 8.0, 30.0, 7.0, 15.0, 10.0, 22.0, 21.0, 5.0, 15.0, 8.0, 38.0, 13.0, 22.0, 38.0, 10.0, 14.0, 28.0, 18.0, 20.0, 10.0, 37.0, 40.0, 45.0, 24.0, 19.0, 7.0, 18.0, 9.0, 81.0, 13.0, 23.0, 5.0, 12.0, 33.0, 30.0, 125.0, 28.0, 19.0, 34.0, 14.0, 15.0, 15.0, 58.0, 11.0, 19.0, 28.0, 4.0, 28.0, 13.0, 19.0, 30.0, 31.0, 10.0, 21.0, 16.0, 42.0, 16.0, 21.0, 8.0, 61.0, 10.0, 35.0, 36.0, 27.0, 23.0, 6.0, 24.0, 29.0, 43.0, 7.0, 36.0, 42.0, 28.0, 36.0, 7.0, 26.0, 13.0, 10.0, 13.0, 19.0, 20.0, 22.0, 22.0, 32.0, 37.0, 10.0, 20.0, 14.0, 4.0, 33.0, 23.0, 27.0, 64.0, 21.0, 51.0, 17.0, 21.0, 7.0, 25.0, 22.0, 41.0, 17.0, 13.0, 17.0, 8.0, 30.0, 3.0, 9.0, 124.0, 30.0, 21.0, 4.0, 18.0, 4.0, 6.0, 16.0, 19.0, 7.0, 32.0, 11.0, 36.0, 22.0, 19.0, 11.0, 29.0, 7.0, 7.0, 20.0, 11.0, 15.0, 6.0, 13.0, 21.0, 16.0, 21.0, 23.0, 21.0, 17.0, 54.0, 9.0, 8.0, 15.0, 11.0, 28.0, 25.0, 22.0, 14.0, 24.0, 18.0, 21.0, 31.0, 22.0, 6.0, 32.0, 13.0, 17.0, 20.0, 14.0, 33.0, 28.0, 22.0, 31.0, 6.0, 15.0, 12.0, 13.0, 11.0, 24.0, 26.0, 14.0, 28.0, 36.0, 13.0, 14.0, 16.0, 17.0, 35.0, 49.0, 22.0, 13.0, 5.0, 27.0, 10.0, 6.0, 24.0, 32.0, 10.0, 11.0, 16.0, 29.0, 12.0, 21.0, 5.0, 23.0, 12.0, 12.0, 14.0, 7.0, 14.0, 14.0, 13.0, 35.0, 29.0, 6.0, 30.0, 23.0, 20.0, 14.0, 21.0, 6.0, 12.0, 14.0, 7.0, 25.0, 4.0, 25.0, 41.0, 15.0, 35.0, 16.0, 23.0, 16.0, 37.0, 33.0, 12.0, 5.0, 27.0, 10.0, 23.0, 16.0, 21.0, 11.0, 34.0, 38.0, 13.0, 33.0, 16.0, 19.0, 16.0, 20.0, 34.0, 19.0, 14.0, 33.0, 19.0, 37.0, 13.0, 37.0, 5.0, 25.0, 33.0, 18.0, 38.0, 26.0, 11.0, 26.0, 13.0, 15.0, 8.0, 19.0, 11.0, 12.0, 18.0, 27.0, 23.0, 27.0, 19.0, 27.0, 9.0, 7.0, 9.0, 10.0, 11.0, 15.0, 20.0, 15.0, 53.0, 7.0, 14.0, 13.0, 21.0, 30.0, 23.0, 25.0, 6.0, 40.0, 19.0, 5.0, 12.0, 10.0, 5.0, 7.0, 32.0, 33.0, 6.0, 19.0, 9.0, 14.0, 24.0, 87.0, 15.0, 13.0, 32.0, 24.0, 30.0, 24.0, 15.0, 10.0, 6.0, 11.0, 11.0, 17.0, 26.0, 13.0, 9.0, 43.0, 10.0, 25.0, 34.0, 28.0, 9.0, 3.0, 37.0, 29.0, 9.0, 37.0, 9.0, 31.0, 22.0, 6.0, 14.0, 72.0, 26.0, 24.0, 36.0, 10.0, 23.0, 17.0, 10.0, 11.0, 13.0, 21.0, 30.0, 19.0, 39.0, 14.0, 19.0, 5.0, 42.0, 12.0, 24.0, 22.0, 41.0, 33.0, 21.0, 20.0, 18.0, 25.0, 27.0, 28.0, 26.0, 17.0, 13.0, 8.0, 34.0, 63.0, 14.0, 40.0, 21.0, 10.0, 12.0, 8.0, 21.0, 26.0, 21.0, 15.0, 26.0, 17.0, 20.0, 10.0, 20.0, 36.0, 8.0, 33.0, 10.0, 23.0, 33.0, 17.0, 25.0, 11.0, 47.0, 20.0, 13.0, 12.0, 21.0, 27.0, 16.0, 22.0, 7.0, 18.0, 22.0, 20.0, 10.0, 12.0, 48.0, 32.0, 53.0, 25.0, 8.0, 47.0, 14.0, 5.0, 12.0, 17.0, 68.0, 27.0, 37.0, 67.0, 8.0, 7.0, 9.0, 22.0, 14.0, 81.0, 19.0, 26.0, 24.0, 8.0, 10.0, 40.0, 27.0, 41.0, 20.0, 11.0, 7.0, 44.0, 43.0, 10.0, 35.0, 32.0, 32.0, 10.0, 16.0, 11.0, 24.0, 17.0, 15.0, 23.0, 17.0, 13.0, 6.0, 35.0, 64.0, 11.0, 42.0, 64.0, 24.0, 39.0, 18.0, 26.0, 19.0, 18.0, 26.0, 5.0, 36.0, 24.0, 24.0, 21.0, 8.0, 26.0, 12.0, 5.0, 35.0, 24.0, 18.0, 10.0, 24.0, 12.0, 15.0, 21.0, 60.0, 24.0, 16.0, 30.0, 25.0, 27.0, 15.0, 40.0, 17.0, 8.0, 29.0, 12.0, 7.0, 19.0, 2.0, 36.0, 38.0, 14.0, 25.0, 22.0, 30.0, 50.0, 11.0, 7.0, 28.0, 14.0, 19.0, 10.0, 34.0, 14.0, 13.0, 64.0, 3.0, 11.0, 14.0, 29.0, 30.0, 13.0, 22.0, 13.0, 20.0, 15.0, 28.0, 12.0, 27.0, 33.0, 18.0, 21.0, 12.0, 12.0, 18.0, 13.0, 32.0, 7.0, 13.0, 20.0, 17.0, 32.0, 13.0, 10.0, 33.0, 8.0, 7.0, 55.0, 11.0, 14.0, 28.0, 30.0, 33.0, 9.0, 19.0, 20.0, 26.0, 13.0, 17.0, 9.0, 18.0, 25.0, 31.0, 8.0, 16.0, 26.0, 14.0, 9.0, 7.0, 43.0, 22.0, 15.0, 4.0, 24.0, 15.0, 23.0, 7.0, 18.0, 22.0, 26.0, 12.0, 16.0, 11.0, 20.0, 36.0, 10.0, 33.0, 24.0, 32.0, 16.0, 27.0, 24.0, 14.0, 19.0, 49.0, 14.0, 23.0, 50.0, 51.0, 40.0, 32.0, 48.0, 13.0, 19.0, 52.0, 27.0, 29.0, 14.0, 89.0, 9.0, 14.0, 13.0, 12.0, 33.0, 26.0, 27.0, 20.0, 28.0, 14.0, 17.0, 14.0, 11.0, 29.0, 13.0, 13.0, 32.0, 46.0, 15.0, 12.0, 13.0, 25.0, 11.0, 17.0, 16.0, 18.0, 19.0, 15.0, 17.0, 12.0, 35.0, 7.0, 28.0, 34.0, 12.0, 14.0, 44.0, 6.0, 24.0, 8.0, 37.0, 7.0, 17.0, 29.0, 7.0, 15.0, 14.0, 8.0, 11.0, 37.0, 29.0, 5.0, 30.0, 22.0, 53.0, 11.0, 63.0, 58.0, 12.0, 31.0, 5.0, 31.0, 27.0, 27.0, 17.0, 29.0, 16.0, 18.0, 8.0, 27.0, 16.0, 45.0, 33.0, 6.0, 33.0, 17.0, 11.0, 39.0, 45.0, 33.0, 24.0, 12.0, 31.0, 52.0, 14.0, 12.0, 25.0, 28.0, 19.0, 76.0, 24.0, 13.0, 23.0, 30.0, 17.0, 29.0, 11.0, 12.0, 17.0, 11.0, 27.0, 12.0, 3.0, 8.0, 11.0, 29.0, 21.0, 54.0, 20.0, 10.0, 35.0, 32.0, 20.0, 19.0, 15.0, 33.0, 15.0, 24.0, 14.0, 22.0, 35.0, 14.0, 28.0, 14.0, 17.0, 18.0, 34.0, 14.0, 30.0, 18.0, 67.0, 23.0, 16.0, 20.0, 7.0, 33.0, 18.0, 13.0, 15.0, 45.0, 14.0, 25.0, 64.0, 39.0, 14.0, 7.0, 29.0, 29.0, 11.0, 5.0, 7.0, 10.0, 33.0, 35.0, 23.0, 14.0, 49.0, 11.0, 18.0, 23.0, 8.0, 22.0, 27.0, 30.0, 27.0, 24.0, 20.0, 22.0, 19.0, 27.0, 27.0, 18.0, 12.0, 45.0, 11.0, 21.0, 34.0, 20.0, 30.0, 21.0, 10.0, 31.0, 12.0, 8.0, 36.0, 27.0, 12.0, 14.0, 22.0, 14.0, 22.0, 10.0, 31.0, 6.0, 37.0, 23.0, 22.0, 62.0, 33.0, 15.0, 51.0, 22.0, 12.0, 12.0, 28.0, 9.0, 38.0, 10.0, 23.0, 15.0, 20.0, 12.0, 23.0, 25.0, 37.0, 17.0, 13.0, 27.0, 12.0, 21.0, 37.0, 17.0, 17.0, 14.0, 34.0, 17.0, 19.0, 28.0, 43.0, 22.0, 50.0, 31.0, 31.0, 16.0, 11.0, 41.0, 13.0, 29.0, 4.0, 16.0, 15.0, 21.0, 9.0, 10.0, 20.0, 7.0, 11.0, 16.0, 37.0, 10.0, 15.0, 36.0, 38.0, 38.0, 72.0, 40.0, 33.0, 19.0, 45.0, 10.0, 23.0, 29.0, 7.0, 15.0, 6.0, 19.0, 22.0, 35.0, 4.0, 25.0, 22.0, 29.0, 19.0, 47.0, 5.0, 10.0, 82.0, 21.0, 12.0, 6.0, 21.0, 48.0, 17.0, 22.0, 35.0, 29.0, 18.0, 64.0, 82.0, 18.0, 27.0, 30.0, 16.0, 17.0, 23.0, 17.0, 13.0, 18.0, 25.0, 60.0, 16.0, 5.0, 6.0, 24.0, 24.0, 8.0, 17.0, 21.0, 12.0, 14.0, 34.0, 6.0, 3.0, 21.0, 17.0, 68.0, 8.0, 18.0, 13.0, 22.0, 50.0, 22.0, 63.0, 11.0, 6.0, 17.0, 34.0, 16.0, 7.0, 4.0, 30.0, 66.0, 14.0, 9.0, 41.0, 27.0, 25.0, 4.0, 34.0, 27.0, 67.0, 48.0, 48.0, 31.0, 49.0, 20.0, 7.0, 7.0, 18.0, 35.0, 21.0, 40.0, 7.0, 21.0, 7.0, 18.0, 11.0, 4.0, 40.0, 10.0, 40.0, 83.0, 48.0, 7.0, 19.0, 19.0, 20.0, 4.0, 23.0, 157.0, 7.0, 24.0, 99.0, 27.0, 48.0, 16.0, 7.0, 49.0, 10.0, 6.0, 30.0, 28.0, 15.0, 20.0, 20.0]}],\n",
              "                        {\"bargap\": 0.2, \"bargroupgap\": 0.2, \"template\": {\"data\": {\"bar\": [{\"error_x\": {\"color\": \"#2a3f5f\"}, \"error_y\": {\"color\": \"#2a3f5f\"}, \"marker\": {\"line\": {\"color\": \"#E5ECF6\", \"width\": 0.5}}, \"type\": \"bar\"}], \"barpolar\": [{\"marker\": {\"line\": {\"color\": \"#E5ECF6\", \"width\": 0.5}}, \"type\": \"barpolar\"}], \"carpet\": [{\"aaxis\": {\"endlinecolor\": \"#2a3f5f\", \"gridcolor\": \"white\", \"linecolor\": \"white\", \"minorgridcolor\": \"white\", \"startlinecolor\": \"#2a3f5f\"}, \"baxis\": {\"endlinecolor\": \"#2a3f5f\", \"gridcolor\": \"white\", \"linecolor\": \"white\", \"minorgridcolor\": \"white\", \"startlinecolor\": \"#2a3f5f\"}, \"type\": \"carpet\"}], \"choropleth\": [{\"colorbar\": {\"outlinewidth\": 0, \"ticks\": \"\"}, \"type\": \"choropleth\"}], \"contour\": [{\"colorbar\": {\"outlinewidth\": 0, \"ticks\": \"\"}, \"colorscale\": [[0.0, \"#0d0887\"], [0.1111111111111111, \"#46039f\"], [0.2222222222222222, \"#7201a8\"], [0.3333333333333333, \"#9c179e\"], [0.4444444444444444, \"#bd3786\"], [0.5555555555555556, \"#d8576b\"], [0.6666666666666666, \"#ed7953\"], [0.7777777777777778, \"#fb9f3a\"], [0.8888888888888888, \"#fdca26\"], [1.0, \"#f0f921\"]], \"type\": \"contour\"}], \"contourcarpet\": [{\"colorbar\": {\"outlinewidth\": 0, \"ticks\": \"\"}, \"type\": \"contourcarpet\"}], \"heatmap\": [{\"colorbar\": {\"outlinewidth\": 0, \"ticks\": \"\"}, \"colorscale\": [[0.0, \"#0d0887\"], [0.1111111111111111, \"#46039f\"], [0.2222222222222222, \"#7201a8\"], [0.3333333333333333, \"#9c179e\"], [0.4444444444444444, \"#bd3786\"], [0.5555555555555556, \"#d8576b\"], [0.6666666666666666, \"#ed7953\"], [0.7777777777777778, \"#fb9f3a\"], [0.8888888888888888, \"#fdca26\"], [1.0, \"#f0f921\"]], \"type\": \"heatmap\"}], \"heatmapgl\": [{\"colorbar\": {\"outlinewidth\": 0, \"ticks\": \"\"}, \"colorscale\": [[0.0, \"#0d0887\"], [0.1111111111111111, \"#46039f\"], [0.2222222222222222, \"#7201a8\"], [0.3333333333333333, \"#9c179e\"], [0.4444444444444444, \"#bd3786\"], [0.5555555555555556, \"#d8576b\"], [0.6666666666666666, \"#ed7953\"], [0.7777777777777778, \"#fb9f3a\"], [0.8888888888888888, \"#fdca26\"], [1.0, \"#f0f921\"]], \"type\": \"heatmapgl\"}], \"histogram\": [{\"marker\": {\"colorbar\": {\"outlinewidth\": 0, \"ticks\": \"\"}}, \"type\": \"histogram\"}], \"histogram2d\": [{\"colorbar\": {\"outlinewidth\": 0, \"ticks\": \"\"}, \"colorscale\": [[0.0, \"#0d0887\"], [0.1111111111111111, \"#46039f\"], [0.2222222222222222, \"#7201a8\"], [0.3333333333333333, \"#9c179e\"], [0.4444444444444444, \"#bd3786\"], [0.5555555555555556, \"#d8576b\"], [0.6666666666666666, \"#ed7953\"], [0.7777777777777778, \"#fb9f3a\"], [0.8888888888888888, \"#fdca26\"], [1.0, \"#f0f921\"]], \"type\": \"histogram2d\"}], \"histogram2dcontour\": [{\"colorbar\": {\"outlinewidth\": 0, \"ticks\": \"\"}, \"colorscale\": [[0.0, \"#0d0887\"], [0.1111111111111111, \"#46039f\"], [0.2222222222222222, \"#7201a8\"], [0.3333333333333333, \"#9c179e\"], [0.4444444444444444, \"#bd3786\"], [0.5555555555555556, \"#d8576b\"], [0.6666666666666666, \"#ed7953\"], [0.7777777777777778, \"#fb9f3a\"], [0.8888888888888888, \"#fdca26\"], [1.0, \"#f0f921\"]], \"type\": \"histogram2dcontour\"}], \"mesh3d\": [{\"colorbar\": {\"outlinewidth\": 0, \"ticks\": \"\"}, \"type\": \"mesh3d\"}], \"parcoords\": [{\"line\": {\"colorbar\": {\"outlinewidth\": 0, \"ticks\": \"\"}}, \"type\": \"parcoords\"}], \"pie\": [{\"automargin\": true, \"type\": \"pie\"}], \"scatter\": [{\"marker\": {\"colorbar\": {\"outlinewidth\": 0, \"ticks\": \"\"}}, \"type\": \"scatter\"}], \"scatter3d\": [{\"line\": {\"colorbar\": {\"outlinewidth\": 0, \"ticks\": \"\"}}, \"marker\": {\"colorbar\": {\"outlinewidth\": 0, \"ticks\": \"\"}}, \"type\": \"scatter3d\"}], \"scattercarpet\": [{\"marker\": {\"colorbar\": {\"outlinewidth\": 0, \"ticks\": \"\"}}, \"type\": \"scattercarpet\"}], \"scattergeo\": [{\"marker\": {\"colorbar\": {\"outlinewidth\": 0, \"ticks\": \"\"}}, \"type\": \"scattergeo\"}], \"scattergl\": [{\"marker\": {\"colorbar\": {\"outlinewidth\": 0, \"ticks\": \"\"}}, \"type\": \"scattergl\"}], \"scattermapbox\": [{\"marker\": {\"colorbar\": {\"outlinewidth\": 0, \"ticks\": \"\"}}, \"type\": \"scattermapbox\"}], \"scatterpolar\": [{\"marker\": {\"colorbar\": {\"outlinewidth\": 0, \"ticks\": \"\"}}, \"type\": \"scatterpolar\"}], \"scatterpolargl\": [{\"marker\": {\"colorbar\": {\"outlinewidth\": 0, \"ticks\": \"\"}}, \"type\": \"scatterpolargl\"}], \"scatterternary\": [{\"marker\": {\"colorbar\": {\"outlinewidth\": 0, \"ticks\": \"\"}}, \"type\": \"scatterternary\"}], \"surface\": [{\"colorbar\": {\"outlinewidth\": 0, \"ticks\": \"\"}, \"colorscale\": [[0.0, \"#0d0887\"], [0.1111111111111111, \"#46039f\"], [0.2222222222222222, \"#7201a8\"], [0.3333333333333333, \"#9c179e\"], [0.4444444444444444, \"#bd3786\"], [0.5555555555555556, \"#d8576b\"], [0.6666666666666666, \"#ed7953\"], [0.7777777777777778, \"#fb9f3a\"], [0.8888888888888888, \"#fdca26\"], [1.0, \"#f0f921\"]], \"type\": \"surface\"}], \"table\": [{\"cells\": {\"fill\": {\"color\": \"#EBF0F8\"}, \"line\": {\"color\": \"white\"}}, \"header\": {\"fill\": {\"color\": \"#C8D4E3\"}, \"line\": {\"color\": \"white\"}}, \"type\": \"table\"}]}, \"layout\": {\"annotationdefaults\": {\"arrowcolor\": \"#2a3f5f\", \"arrowhead\": 0, \"arrowwidth\": 1}, \"coloraxis\": {\"colorbar\": {\"outlinewidth\": 0, \"ticks\": \"\"}}, \"colorscale\": {\"diverging\": [[0, \"#8e0152\"], [0.1, \"#c51b7d\"], [0.2, \"#de77ae\"], [0.3, \"#f1b6da\"], [0.4, \"#fde0ef\"], [0.5, \"#f7f7f7\"], [0.6, \"#e6f5d0\"], [0.7, \"#b8e186\"], [0.8, \"#7fbc41\"], [0.9, \"#4d9221\"], [1, \"#276419\"]], \"sequential\": [[0.0, \"#0d0887\"], [0.1111111111111111, \"#46039f\"], [0.2222222222222222, \"#7201a8\"], [0.3333333333333333, \"#9c179e\"], [0.4444444444444444, \"#bd3786\"], [0.5555555555555556, \"#d8576b\"], [0.6666666666666666, \"#ed7953\"], [0.7777777777777778, \"#fb9f3a\"], [0.8888888888888888, \"#fdca26\"], [1.0, \"#f0f921\"]], \"sequentialminus\": [[0.0, \"#0d0887\"], [0.1111111111111111, \"#46039f\"], [0.2222222222222222, \"#7201a8\"], [0.3333333333333333, \"#9c179e\"], [0.4444444444444444, \"#bd3786\"], [0.5555555555555556, \"#d8576b\"], [0.6666666666666666, \"#ed7953\"], [0.7777777777777778, \"#fb9f3a\"], [0.8888888888888888, \"#fdca26\"], [1.0, \"#f0f921\"]]}, \"colorway\": [\"#636efa\", \"#EF553B\", \"#00cc96\", \"#ab63fa\", \"#FFA15A\", \"#19d3f3\", \"#FF6692\", \"#B6E880\", \"#FF97FF\", \"#FECB52\"], \"font\": {\"color\": \"#2a3f5f\"}, \"geo\": {\"bgcolor\": \"white\", \"lakecolor\": \"white\", \"landcolor\": \"#E5ECF6\", \"showlakes\": true, \"showland\": true, \"subunitcolor\": \"white\"}, \"hoverlabel\": {\"align\": \"left\"}, \"hovermode\": \"closest\", \"mapbox\": {\"style\": \"light\"}, \"paper_bgcolor\": \"white\", \"plot_bgcolor\": \"#E5ECF6\", \"polar\": {\"angularaxis\": {\"gridcolor\": \"white\", \"linecolor\": \"white\", \"ticks\": \"\"}, \"bgcolor\": \"#E5ECF6\", \"radialaxis\": {\"gridcolor\": \"white\", \"linecolor\": \"white\", \"ticks\": \"\"}}, \"scene\": {\"xaxis\": {\"backgroundcolor\": \"#E5ECF6\", \"gridcolor\": \"white\", \"gridwidth\": 2, \"linecolor\": \"white\", \"showbackground\": true, \"ticks\": \"\", \"zerolinecolor\": \"white\"}, \"yaxis\": {\"backgroundcolor\": \"#E5ECF6\", \"gridcolor\": \"white\", \"gridwidth\": 2, \"linecolor\": \"white\", \"showbackground\": true, \"ticks\": \"\", \"zerolinecolor\": \"white\"}, \"zaxis\": {\"backgroundcolor\": \"#E5ECF6\", \"gridcolor\": \"white\", \"gridwidth\": 2, \"linecolor\": \"white\", \"showbackground\": true, \"ticks\": \"\", \"zerolinecolor\": \"white\"}}, \"shapedefaults\": {\"line\": {\"color\": \"#2a3f5f\"}}, \"ternary\": {\"aaxis\": {\"gridcolor\": \"white\", \"linecolor\": \"white\", \"ticks\": \"\"}, \"baxis\": {\"gridcolor\": \"white\", \"linecolor\": \"white\", \"ticks\": \"\"}, \"bgcolor\": \"#E5ECF6\", \"caxis\": {\"gridcolor\": \"white\", \"linecolor\": \"white\", \"ticks\": \"\"}}, \"title\": {\"x\": 0.05}, \"xaxis\": {\"automargin\": true, \"gridcolor\": \"white\", \"linecolor\": \"white\", \"ticks\": \"\", \"title\": {\"standoff\": 15}, \"zerolinecolor\": \"white\", \"zerolinewidth\": 2}, \"yaxis\": {\"automargin\": true, \"gridcolor\": \"white\", \"linecolor\": \"white\", \"ticks\": \"\", \"title\": {\"standoff\": 15}, \"zerolinecolor\": \"white\", \"zerolinewidth\": 2}}}, \"title\": {\"text\": \"Distribution of word counts within comments in Translation DS\"}, \"xaxis\": {\"title\": {\"text\": \"Word Count\"}}, \"yaxis\": {\"title\": {\"text\": \"Frequency\"}}},\n",
              "                        {\"responsive\": true}\n",
              "                    ).then(function(){\n",
              "                            \n",
              "var gd = document.getElementById('278a7abe-a092-483b-a0c5-63f0e9b5cefa');\n",
              "var x = new MutationObserver(function (mutations, observer) {{\n",
              "        var display = window.getComputedStyle(gd).display;\n",
              "        if (!display || display === 'none') {{\n",
              "            console.log([gd, 'removed!']);\n",
              "            Plotly.purge(gd);\n",
              "            observer.disconnect();\n",
              "        }}\n",
              "}});\n",
              "\n",
              "// Listen for the removal of the full notebook cells\n",
              "var notebookContainer = gd.closest('#notebook-container');\n",
              "if (notebookContainer) {{\n",
              "    x.observe(notebookContainer, {childList: true});\n",
              "}}\n",
              "\n",
              "// Listen for the clearing of the current output cell\n",
              "var outputEl = gd.closest('.output');\n",
              "if (outputEl) {{\n",
              "    x.observe(outputEl, {childList: true});\n",
              "}}\n",
              "\n",
              "                        })\n",
              "                };\n",
              "                \n",
              "            </script>\n",
              "        </div>\n",
              "</body>\n",
              "</html>"
            ]
          },
          "metadata": {
            "tags": []
          }
        }
      ]
    },
    {
      "cell_type": "code",
      "metadata": {
        "colab": {
          "base_uri": "https://localhost:8080/"
        },
        "id": "LcATQe21Q5w5",
        "outputId": "689ec2b4-b69d-4e3f-d3ef-4bca744ed515"
      },
      "source": [
        "unique_rates = list(sorted(data['rate'].unique()))\n",
        "print(f'We have #{len(unique_rates)} in translation DS:: {unique_rates}')"
      ],
      "execution_count": null,
      "outputs": [
        {
          "output_type": "stream",
          "text": [
            "We have #5 in translation DS:: [-2, -1, 0, 1, 2]\n"
          ],
          "name": "stdout"
        }
      ]
    },
    {
      "cell_type": "code",
      "metadata": {
        "colab": {
          "base_uri": "https://localhost:8080/",
          "height": 542
        },
        "id": "5LK7mKa2Q_VK",
        "outputId": "938468ca-8b4a-476d-d2f3-4bef0d0d68f1"
      },
      "source": [
        "fig = go.Figure()\n",
        "\n",
        "groupby_rate = data.groupby('rate')['rate'].count()\n",
        "\n",
        "fig.add_trace(go.Bar(\n",
        "    x=list(sorted(groupby_rate.index)),\n",
        "    y=groupby_rate.tolist(),\n",
        "    text=groupby_rate.tolist(),\n",
        "    textposition='auto'\n",
        "))\n",
        "\n",
        "fig.update_layout(\n",
        "    title_text='Distribution of rate within comments',\n",
        "    xaxis_title_text='Rate',\n",
        "    yaxis_title_text='Frequency',\n",
        "    bargap=0.2,\n",
        "    bargroupgap=0.2)\n",
        "\n",
        "fig.show()"
      ],
      "execution_count": null,
      "outputs": [
        {
          "output_type": "display_data",
          "data": {
            "text/html": [
              "<html>\n",
              "<head><meta charset=\"utf-8\" /></head>\n",
              "<body>\n",
              "    <div>\n",
              "            <script src=\"https://cdnjs.cloudflare.com/ajax/libs/mathjax/2.7.5/MathJax.js?config=TeX-AMS-MML_SVG\"></script><script type=\"text/javascript\">if (window.MathJax) {MathJax.Hub.Config({SVG: {font: \"STIX-Web\"}});}</script>\n",
              "                <script type=\"text/javascript\">window.PlotlyConfig = {MathJaxConfig: 'local'};</script>\n",
              "        <script src=\"https://cdn.plot.ly/plotly-latest.min.js\"></script>    \n",
              "            <div id=\"8522d766-939c-4cc1-bca5-1a13f4555992\" class=\"plotly-graph-div\" style=\"height:525px; width:100%;\"></div>\n",
              "            <script type=\"text/javascript\">\n",
              "                \n",
              "                    window.PLOTLYENV=window.PLOTLYENV || {};\n",
              "                    \n",
              "                if (document.getElementById(\"8522d766-939c-4cc1-bca5-1a13f4555992\")) {\n",
              "                    Plotly.newPlot(\n",
              "                        '8522d766-939c-4cc1-bca5-1a13f4555992',\n",
              "                        [{\"text\": [\"316\", \"1874\", \"3997\", \"3997\", \"3843\"], \"textposition\": \"auto\", \"type\": \"bar\", \"x\": [-2, -1, 0, 1, 2], \"y\": [316, 1874, 3997, 3997, 3843]}],\n",
              "                        {\"bargap\": 0.2, \"bargroupgap\": 0.2, \"template\": {\"data\": {\"bar\": [{\"error_x\": {\"color\": \"#2a3f5f\"}, \"error_y\": {\"color\": \"#2a3f5f\"}, \"marker\": {\"line\": {\"color\": \"#E5ECF6\", \"width\": 0.5}}, \"type\": \"bar\"}], \"barpolar\": [{\"marker\": {\"line\": {\"color\": \"#E5ECF6\", \"width\": 0.5}}, \"type\": \"barpolar\"}], \"carpet\": [{\"aaxis\": {\"endlinecolor\": \"#2a3f5f\", \"gridcolor\": \"white\", \"linecolor\": \"white\", \"minorgridcolor\": \"white\", \"startlinecolor\": \"#2a3f5f\"}, \"baxis\": {\"endlinecolor\": \"#2a3f5f\", \"gridcolor\": \"white\", \"linecolor\": \"white\", \"minorgridcolor\": \"white\", \"startlinecolor\": \"#2a3f5f\"}, \"type\": \"carpet\"}], \"choropleth\": [{\"colorbar\": {\"outlinewidth\": 0, \"ticks\": \"\"}, \"type\": \"choropleth\"}], \"contour\": [{\"colorbar\": {\"outlinewidth\": 0, \"ticks\": \"\"}, \"colorscale\": [[0.0, \"#0d0887\"], [0.1111111111111111, \"#46039f\"], [0.2222222222222222, \"#7201a8\"], [0.3333333333333333, \"#9c179e\"], [0.4444444444444444, \"#bd3786\"], [0.5555555555555556, \"#d8576b\"], [0.6666666666666666, \"#ed7953\"], [0.7777777777777778, \"#fb9f3a\"], [0.8888888888888888, \"#fdca26\"], [1.0, \"#f0f921\"]], \"type\": \"contour\"}], \"contourcarpet\": [{\"colorbar\": {\"outlinewidth\": 0, \"ticks\": \"\"}, \"type\": \"contourcarpet\"}], \"heatmap\": [{\"colorbar\": {\"outlinewidth\": 0, \"ticks\": \"\"}, \"colorscale\": [[0.0, \"#0d0887\"], [0.1111111111111111, \"#46039f\"], [0.2222222222222222, \"#7201a8\"], [0.3333333333333333, \"#9c179e\"], [0.4444444444444444, \"#bd3786\"], [0.5555555555555556, \"#d8576b\"], [0.6666666666666666, \"#ed7953\"], [0.7777777777777778, \"#fb9f3a\"], [0.8888888888888888, \"#fdca26\"], [1.0, \"#f0f921\"]], \"type\": \"heatmap\"}], \"heatmapgl\": [{\"colorbar\": {\"outlinewidth\": 0, \"ticks\": \"\"}, \"colorscale\": [[0.0, \"#0d0887\"], [0.1111111111111111, \"#46039f\"], [0.2222222222222222, \"#7201a8\"], [0.3333333333333333, \"#9c179e\"], [0.4444444444444444, \"#bd3786\"], [0.5555555555555556, \"#d8576b\"], [0.6666666666666666, \"#ed7953\"], [0.7777777777777778, \"#fb9f3a\"], [0.8888888888888888, \"#fdca26\"], [1.0, \"#f0f921\"]], \"type\": \"heatmapgl\"}], \"histogram\": [{\"marker\": {\"colorbar\": {\"outlinewidth\": 0, \"ticks\": \"\"}}, \"type\": \"histogram\"}], \"histogram2d\": [{\"colorbar\": {\"outlinewidth\": 0, \"ticks\": \"\"}, \"colorscale\": [[0.0, \"#0d0887\"], [0.1111111111111111, \"#46039f\"], [0.2222222222222222, \"#7201a8\"], [0.3333333333333333, \"#9c179e\"], [0.4444444444444444, \"#bd3786\"], [0.5555555555555556, \"#d8576b\"], [0.6666666666666666, \"#ed7953\"], [0.7777777777777778, \"#fb9f3a\"], [0.8888888888888888, \"#fdca26\"], [1.0, \"#f0f921\"]], \"type\": \"histogram2d\"}], \"histogram2dcontour\": [{\"colorbar\": {\"outlinewidth\": 0, \"ticks\": \"\"}, \"colorscale\": [[0.0, \"#0d0887\"], [0.1111111111111111, \"#46039f\"], [0.2222222222222222, \"#7201a8\"], [0.3333333333333333, \"#9c179e\"], [0.4444444444444444, \"#bd3786\"], [0.5555555555555556, \"#d8576b\"], [0.6666666666666666, \"#ed7953\"], [0.7777777777777778, \"#fb9f3a\"], [0.8888888888888888, \"#fdca26\"], [1.0, \"#f0f921\"]], \"type\": \"histogram2dcontour\"}], \"mesh3d\": [{\"colorbar\": {\"outlinewidth\": 0, \"ticks\": \"\"}, \"type\": \"mesh3d\"}], \"parcoords\": [{\"line\": {\"colorbar\": {\"outlinewidth\": 0, \"ticks\": \"\"}}, \"type\": \"parcoords\"}], \"pie\": [{\"automargin\": true, \"type\": \"pie\"}], \"scatter\": [{\"marker\": {\"colorbar\": {\"outlinewidth\": 0, \"ticks\": \"\"}}, \"type\": \"scatter\"}], \"scatter3d\": [{\"line\": {\"colorbar\": {\"outlinewidth\": 0, \"ticks\": \"\"}}, \"marker\": {\"colorbar\": {\"outlinewidth\": 0, \"ticks\": \"\"}}, \"type\": \"scatter3d\"}], \"scattercarpet\": [{\"marker\": {\"colorbar\": {\"outlinewidth\": 0, \"ticks\": \"\"}}, \"type\": \"scattercarpet\"}], \"scattergeo\": [{\"marker\": {\"colorbar\": {\"outlinewidth\": 0, \"ticks\": \"\"}}, \"type\": \"scattergeo\"}], \"scattergl\": [{\"marker\": {\"colorbar\": {\"outlinewidth\": 0, \"ticks\": \"\"}}, \"type\": \"scattergl\"}], \"scattermapbox\": [{\"marker\": {\"colorbar\": {\"outlinewidth\": 0, \"ticks\": \"\"}}, \"type\": \"scattermapbox\"}], \"scatterpolar\": [{\"marker\": {\"colorbar\": {\"outlinewidth\": 0, \"ticks\": \"\"}}, \"type\": \"scatterpolar\"}], \"scatterpolargl\": [{\"marker\": {\"colorbar\": {\"outlinewidth\": 0, \"ticks\": \"\"}}, \"type\": \"scatterpolargl\"}], \"scatterternary\": [{\"marker\": {\"colorbar\": {\"outlinewidth\": 0, \"ticks\": \"\"}}, \"type\": \"scatterternary\"}], \"surface\": [{\"colorbar\": {\"outlinewidth\": 0, \"ticks\": \"\"}, \"colorscale\": [[0.0, \"#0d0887\"], [0.1111111111111111, \"#46039f\"], [0.2222222222222222, \"#7201a8\"], [0.3333333333333333, \"#9c179e\"], [0.4444444444444444, \"#bd3786\"], [0.5555555555555556, \"#d8576b\"], [0.6666666666666666, \"#ed7953\"], [0.7777777777777778, \"#fb9f3a\"], [0.8888888888888888, \"#fdca26\"], [1.0, \"#f0f921\"]], \"type\": \"surface\"}], \"table\": [{\"cells\": {\"fill\": {\"color\": \"#EBF0F8\"}, \"line\": {\"color\": \"white\"}}, \"header\": {\"fill\": {\"color\": \"#C8D4E3\"}, \"line\": {\"color\": \"white\"}}, \"type\": \"table\"}]}, \"layout\": {\"annotationdefaults\": {\"arrowcolor\": \"#2a3f5f\", \"arrowhead\": 0, \"arrowwidth\": 1}, \"coloraxis\": {\"colorbar\": {\"outlinewidth\": 0, \"ticks\": \"\"}}, \"colorscale\": {\"diverging\": [[0, \"#8e0152\"], [0.1, \"#c51b7d\"], [0.2, \"#de77ae\"], [0.3, \"#f1b6da\"], [0.4, \"#fde0ef\"], [0.5, \"#f7f7f7\"], [0.6, \"#e6f5d0\"], [0.7, \"#b8e186\"], [0.8, \"#7fbc41\"], [0.9, \"#4d9221\"], [1, \"#276419\"]], \"sequential\": [[0.0, \"#0d0887\"], [0.1111111111111111, \"#46039f\"], [0.2222222222222222, \"#7201a8\"], [0.3333333333333333, \"#9c179e\"], [0.4444444444444444, \"#bd3786\"], [0.5555555555555556, \"#d8576b\"], [0.6666666666666666, \"#ed7953\"], [0.7777777777777778, \"#fb9f3a\"], [0.8888888888888888, \"#fdca26\"], [1.0, \"#f0f921\"]], \"sequentialminus\": [[0.0, \"#0d0887\"], [0.1111111111111111, \"#46039f\"], [0.2222222222222222, \"#7201a8\"], [0.3333333333333333, \"#9c179e\"], [0.4444444444444444, \"#bd3786\"], [0.5555555555555556, \"#d8576b\"], [0.6666666666666666, \"#ed7953\"], [0.7777777777777778, \"#fb9f3a\"], [0.8888888888888888, \"#fdca26\"], [1.0, \"#f0f921\"]]}, \"colorway\": [\"#636efa\", \"#EF553B\", \"#00cc96\", \"#ab63fa\", \"#FFA15A\", \"#19d3f3\", \"#FF6692\", \"#B6E880\", \"#FF97FF\", \"#FECB52\"], \"font\": {\"color\": \"#2a3f5f\"}, \"geo\": {\"bgcolor\": \"white\", \"lakecolor\": \"white\", \"landcolor\": \"#E5ECF6\", \"showlakes\": true, \"showland\": true, \"subunitcolor\": \"white\"}, \"hoverlabel\": {\"align\": \"left\"}, \"hovermode\": \"closest\", \"mapbox\": {\"style\": \"light\"}, \"paper_bgcolor\": \"white\", \"plot_bgcolor\": \"#E5ECF6\", \"polar\": {\"angularaxis\": {\"gridcolor\": \"white\", \"linecolor\": \"white\", \"ticks\": \"\"}, \"bgcolor\": \"#E5ECF6\", \"radialaxis\": {\"gridcolor\": \"white\", \"linecolor\": \"white\", \"ticks\": \"\"}}, \"scene\": {\"xaxis\": {\"backgroundcolor\": \"#E5ECF6\", \"gridcolor\": \"white\", \"gridwidth\": 2, \"linecolor\": \"white\", \"showbackground\": true, \"ticks\": \"\", \"zerolinecolor\": \"white\"}, \"yaxis\": {\"backgroundcolor\": \"#E5ECF6\", \"gridcolor\": \"white\", \"gridwidth\": 2, \"linecolor\": \"white\", \"showbackground\": true, \"ticks\": \"\", \"zerolinecolor\": \"white\"}, \"zaxis\": {\"backgroundcolor\": \"#E5ECF6\", \"gridcolor\": \"white\", \"gridwidth\": 2, \"linecolor\": \"white\", \"showbackground\": true, \"ticks\": \"\", \"zerolinecolor\": \"white\"}}, \"shapedefaults\": {\"line\": {\"color\": \"#2a3f5f\"}}, \"ternary\": {\"aaxis\": {\"gridcolor\": \"white\", \"linecolor\": \"white\", \"ticks\": \"\"}, \"baxis\": {\"gridcolor\": \"white\", \"linecolor\": \"white\", \"ticks\": \"\"}, \"bgcolor\": \"#E5ECF6\", \"caxis\": {\"gridcolor\": \"white\", \"linecolor\": \"white\", \"ticks\": \"\"}}, \"title\": {\"x\": 0.05}, \"xaxis\": {\"automargin\": true, \"gridcolor\": \"white\", \"linecolor\": \"white\", \"ticks\": \"\", \"title\": {\"standoff\": 15}, \"zerolinecolor\": \"white\", \"zerolinewidth\": 2}, \"yaxis\": {\"automargin\": true, \"gridcolor\": \"white\", \"linecolor\": \"white\", \"ticks\": \"\", \"title\": {\"standoff\": 15}, \"zerolinecolor\": \"white\", \"zerolinewidth\": 2}}}, \"title\": {\"text\": \"Distribution of rate within comments\"}, \"xaxis\": {\"title\": {\"text\": \"Rate\"}}, \"yaxis\": {\"title\": {\"text\": \"Frequency\"}}},\n",
              "                        {\"responsive\": true}\n",
              "                    ).then(function(){\n",
              "                            \n",
              "var gd = document.getElementById('8522d766-939c-4cc1-bca5-1a13f4555992');\n",
              "var x = new MutationObserver(function (mutations, observer) {{\n",
              "        var display = window.getComputedStyle(gd).display;\n",
              "        if (!display || display === 'none') {{\n",
              "            console.log([gd, 'removed!']);\n",
              "            Plotly.purge(gd);\n",
              "            observer.disconnect();\n",
              "        }}\n",
              "}});\n",
              "\n",
              "// Listen for the removal of the full notebook cells\n",
              "var notebookContainer = gd.closest('#notebook-container');\n",
              "if (notebookContainer) {{\n",
              "    x.observe(notebookContainer, {childList: true});\n",
              "}}\n",
              "\n",
              "// Listen for the clearing of the current output cell\n",
              "var outputEl = gd.closest('.output');\n",
              "if (outputEl) {{\n",
              "    x.observe(outputEl, {childList: true});\n",
              "}}\n",
              "\n",
              "                        })\n",
              "                };\n",
              "                \n",
              "            </script>\n",
              "        </div>\n",
              "</body>\n",
              "</html>"
            ]
          },
          "metadata": {
            "tags": []
          }
        }
      ]
    },
    {
      "cell_type": "markdown",
      "metadata": {
        "id": "4T81eTa0z6cY"
      },
      "source": [
        "### Binarization DS using NR approch"
      ]
    },
    {
      "cell_type": "markdown",
      "metadata": {
        "id": "our_ZLZBn0ec"
      },
      "source": [
        "NR: Removing neutral emotions\n",
        "\n",
        "To a binary form of negative (0) or positive (1) with a threshold. If the rate is greater than 0, it labeled as positive otherwise specified as negative."
      ]
    },
    {
      "cell_type": "code",
      "metadata": {
        "id": "9U0NGd2OPZyv"
      },
      "source": [
        "# remove the 0 rate recordes from DS\n",
        "data['rate'] = data['rate'].apply(lambda r: r if r != 0 else None)\n",
        "\n",
        "data = data.dropna(subset=['rate'])\n",
        "data = data.dropna(subset=['comment'])\n",
        "\n",
        "data = data.drop_duplicates(subset=['comment'], keep='first')\n",
        "data = data.reset_index(drop=True)\n"
      ],
      "execution_count": null,
      "outputs": []
    },
    {
      "cell_type": "code",
      "metadata": {
        "colab": {
          "base_uri": "https://localhost:8080/"
        },
        "id": "U5MkRX6NQSB2",
        "outputId": "b9c80edb-2d20-4cd7-f0dc-4504acfbd674"
      },
      "source": [
        "data.info()"
      ],
      "execution_count": null,
      "outputs": [
        {
          "output_type": "stream",
          "text": [
            "<class 'pandas.core.frame.DataFrame'>\n",
            "RangeIndex: 9138 entries, 0 to 9137\n",
            "Data columns (total 3 columns):\n",
            " #   Column                Non-Null Count  Dtype  \n",
            "---  ------                --------------  -----  \n",
            " 0   comment               9138 non-null   object \n",
            " 1   rate                  9138 non-null   float64\n",
            " 2   comment_len_by_words  9138 non-null   float64\n",
            "dtypes: float64(2), object(1)\n",
            "memory usage: 214.3+ KB\n"
          ],
          "name": "stdout"
        }
      ]
    },
    {
      "cell_type": "code",
      "metadata": {
        "id": "dvWE2ayX2n-h"
      },
      "source": [
        "def rate_to_label(rate):\n",
        "    if rate < 1:\n",
        "        return 'negative'\n",
        "    else:\n",
        "      return 'positive'\n"
      ],
      "execution_count": null,
      "outputs": []
    },
    {
      "cell_type": "code",
      "metadata": {
        "colab": {
          "base_uri": "https://localhost:8080/",
          "height": 206
        },
        "id": "4QEvHMKz3Dsj",
        "outputId": "94a53ee4-76ba-48f2-a5f9-6e108c5ddc85"
      },
      "source": [
        "data['label'] = data['rate'].apply(lambda r: rate_to_label(r))\n",
        "labels = list(sorted(data['label'].unique()))\n",
        "\n",
        "data.head()"
      ],
      "execution_count": null,
      "outputs": [
        {
          "output_type": "execute_result",
          "data": {
            "text/html": [
              "<div>\n",
              "<style scoped>\n",
              "    .dataframe tbody tr th:only-of-type {\n",
              "        vertical-align: middle;\n",
              "    }\n",
              "\n",
              "    .dataframe tbody tr th {\n",
              "        vertical-align: top;\n",
              "    }\n",
              "\n",
              "    .dataframe thead th {\n",
              "        text-align: right;\n",
              "    }\n",
              "</style>\n",
              "<table border=\"1\" class=\"dataframe\">\n",
              "  <thead>\n",
              "    <tr style=\"text-align: right;\">\n",
              "      <th></th>\n",
              "      <th>comment</th>\n",
              "      <th>rate</th>\n",
              "      <th>comment_len_by_words</th>\n",
              "      <th>label</th>\n",
              "    </tr>\n",
              "  </thead>\n",
              "  <tbody>\n",
              "    <tr>\n",
              "      <th>0</th>\n",
              "      <td>همچنین یک برنامه کاربردی بسیار مفید برای ارائه...</td>\n",
              "      <td>1.0</td>\n",
              "      <td>10.0</td>\n",
              "      <td>positive</td>\n",
              "    </tr>\n",
              "    <tr>\n",
              "      <th>1</th>\n",
              "      <td>این استاندارد بدان معنی است که دستگاه نسبت به ...</td>\n",
              "      <td>1.0</td>\n",
              "      <td>28.0</td>\n",
              "      <td>positive</td>\n",
              "    </tr>\n",
              "    <tr>\n",
              "      <th>2</th>\n",
              "      <td>در حقیقت هنگام معرفی دوربین ، قابلیت بزرگنمایی...</td>\n",
              "      <td>1.0</td>\n",
              "      <td>26.0</td>\n",
              "      <td>positive</td>\n",
              "    </tr>\n",
              "    <tr>\n",
              "      <th>3</th>\n",
              "      <td>این گوشی از رابط کاربری TimeScape سونی اریکسون...</td>\n",
              "      <td>1.0</td>\n",
              "      <td>23.0</td>\n",
              "      <td>positive</td>\n",
              "    </tr>\n",
              "    <tr>\n",
              "      <th>4</th>\n",
              "      <td>در مرور اواسط روز Wi-Fi ، رایانه لوحی توانست ب...</td>\n",
              "      <td>1.0</td>\n",
              "      <td>16.0</td>\n",
              "      <td>positive</td>\n",
              "    </tr>\n",
              "  </tbody>\n",
              "</table>\n",
              "</div>"
            ],
            "text/plain": [
              "                                             comment  ...     label\n",
              "0  همچنین یک برنامه کاربردی بسیار مفید برای ارائه...  ...  positive\n",
              "1  این استاندارد بدان معنی است که دستگاه نسبت به ...  ...  positive\n",
              "2  در حقیقت هنگام معرفی دوربین ، قابلیت بزرگنمایی...  ...  positive\n",
              "3  این گوشی از رابط کاربری TimeScape سونی اریکسون...  ...  positive\n",
              "4  در مرور اواسط روز Wi-Fi ، رایانه لوحی توانست ب...  ...  positive\n",
              "\n",
              "[5 rows x 4 columns]"
            ]
          },
          "metadata": {
            "tags": []
          },
          "execution_count": 19
        }
      ]
    },
    {
      "cell_type": "code",
      "metadata": {
        "colab": {
          "base_uri": "https://localhost:8080/"
        },
        "id": "XDlYAnTX3gxb",
        "outputId": "e850b992-00ac-4f25-b593-7b6780df0c24"
      },
      "source": [
        "Tgroupby_label = data.groupby('label')['label'].count()\n",
        "\n",
        "Tgroupby_label = dict(Tgroupby_label)\n",
        "print(Tgroupby_label)"
      ],
      "execution_count": null,
      "outputs": [
        {
          "output_type": "stream",
          "text": [
            "{'negative': 2055, 'positive': 7083}\n"
          ],
          "name": "stdout"
        }
      ]
    },
    {
      "cell_type": "code",
      "metadata": {
        "colab": {
          "base_uri": "https://localhost:8080/",
          "height": 542
        },
        "id": "P9JGPBZ_5Cgq",
        "outputId": "488d3875-524a-485c-b547-fda1cc1a11d8"
      },
      "source": [
        "fig = go.Figure()\n",
        "\n",
        "T_groupby_rate = data.groupby('rate')['rate'].count()\n",
        "\n",
        "fig.add_trace(go.Bar(\n",
        "    x=list(sorted(T_groupby_rate.index)),\n",
        "    y=T_groupby_rate.tolist(),\n",
        "    text=T_groupby_rate.tolist(),\n",
        "    textposition='auto'\n",
        "))\n",
        "\n",
        "fig.update_layout(\n",
        "    title_text='Distribution of rate within comments',\n",
        "    xaxis_title_text='Rate',\n",
        "    yaxis_title_text='Frequency',\n",
        "    bargap=0.2,\n",
        "    bargroupgap=0.2)\n",
        "\n",
        "fig.show()"
      ],
      "execution_count": null,
      "outputs": [
        {
          "output_type": "display_data",
          "data": {
            "text/html": [
              "<html>\n",
              "<head><meta charset=\"utf-8\" /></head>\n",
              "<body>\n",
              "    <div>\n",
              "            <script src=\"https://cdnjs.cloudflare.com/ajax/libs/mathjax/2.7.5/MathJax.js?config=TeX-AMS-MML_SVG\"></script><script type=\"text/javascript\">if (window.MathJax) {MathJax.Hub.Config({SVG: {font: \"STIX-Web\"}});}</script>\n",
              "                <script type=\"text/javascript\">window.PlotlyConfig = {MathJaxConfig: 'local'};</script>\n",
              "        <script src=\"https://cdn.plot.ly/plotly-latest.min.js\"></script>    \n",
              "            <div id=\"55be2c6e-aa12-4183-9e8c-cc4c5dc9b98f\" class=\"plotly-graph-div\" style=\"height:525px; width:100%;\"></div>\n",
              "            <script type=\"text/javascript\">\n",
              "                \n",
              "                    window.PLOTLYENV=window.PLOTLYENV || {};\n",
              "                    \n",
              "                if (document.getElementById(\"55be2c6e-aa12-4183-9e8c-cc4c5dc9b98f\")) {\n",
              "                    Plotly.newPlot(\n",
              "                        '55be2c6e-aa12-4183-9e8c-cc4c5dc9b98f',\n",
              "                        [{\"text\": [\"303\", \"1752\", \"3784\", \"3299\"], \"textposition\": \"auto\", \"type\": \"bar\", \"x\": [-2.0, -1.0, 1.0, 2.0], \"y\": [303, 1752, 3784, 3299]}],\n",
              "                        {\"bargap\": 0.2, \"bargroupgap\": 0.2, \"template\": {\"data\": {\"bar\": [{\"error_x\": {\"color\": \"#2a3f5f\"}, \"error_y\": {\"color\": \"#2a3f5f\"}, \"marker\": {\"line\": {\"color\": \"#E5ECF6\", \"width\": 0.5}}, \"type\": \"bar\"}], \"barpolar\": [{\"marker\": {\"line\": {\"color\": \"#E5ECF6\", \"width\": 0.5}}, \"type\": \"barpolar\"}], \"carpet\": [{\"aaxis\": {\"endlinecolor\": \"#2a3f5f\", \"gridcolor\": \"white\", \"linecolor\": \"white\", \"minorgridcolor\": \"white\", \"startlinecolor\": \"#2a3f5f\"}, \"baxis\": {\"endlinecolor\": \"#2a3f5f\", \"gridcolor\": \"white\", \"linecolor\": \"white\", \"minorgridcolor\": \"white\", \"startlinecolor\": \"#2a3f5f\"}, \"type\": \"carpet\"}], \"choropleth\": [{\"colorbar\": {\"outlinewidth\": 0, \"ticks\": \"\"}, \"type\": \"choropleth\"}], \"contour\": [{\"colorbar\": {\"outlinewidth\": 0, \"ticks\": \"\"}, \"colorscale\": [[0.0, \"#0d0887\"], [0.1111111111111111, \"#46039f\"], [0.2222222222222222, \"#7201a8\"], [0.3333333333333333, \"#9c179e\"], [0.4444444444444444, \"#bd3786\"], [0.5555555555555556, \"#d8576b\"], [0.6666666666666666, \"#ed7953\"], [0.7777777777777778, \"#fb9f3a\"], [0.8888888888888888, \"#fdca26\"], [1.0, \"#f0f921\"]], \"type\": \"contour\"}], \"contourcarpet\": [{\"colorbar\": {\"outlinewidth\": 0, \"ticks\": \"\"}, \"type\": \"contourcarpet\"}], \"heatmap\": [{\"colorbar\": {\"outlinewidth\": 0, \"ticks\": \"\"}, \"colorscale\": [[0.0, \"#0d0887\"], [0.1111111111111111, \"#46039f\"], [0.2222222222222222, \"#7201a8\"], [0.3333333333333333, \"#9c179e\"], [0.4444444444444444, \"#bd3786\"], [0.5555555555555556, \"#d8576b\"], [0.6666666666666666, \"#ed7953\"], [0.7777777777777778, \"#fb9f3a\"], [0.8888888888888888, \"#fdca26\"], [1.0, \"#f0f921\"]], \"type\": \"heatmap\"}], \"heatmapgl\": [{\"colorbar\": {\"outlinewidth\": 0, \"ticks\": \"\"}, \"colorscale\": [[0.0, \"#0d0887\"], [0.1111111111111111, \"#46039f\"], [0.2222222222222222, \"#7201a8\"], [0.3333333333333333, \"#9c179e\"], [0.4444444444444444, \"#bd3786\"], [0.5555555555555556, \"#d8576b\"], [0.6666666666666666, \"#ed7953\"], [0.7777777777777778, \"#fb9f3a\"], [0.8888888888888888, \"#fdca26\"], [1.0, \"#f0f921\"]], \"type\": \"heatmapgl\"}], \"histogram\": [{\"marker\": {\"colorbar\": {\"outlinewidth\": 0, \"ticks\": \"\"}}, \"type\": \"histogram\"}], \"histogram2d\": [{\"colorbar\": {\"outlinewidth\": 0, \"ticks\": \"\"}, \"colorscale\": [[0.0, \"#0d0887\"], [0.1111111111111111, \"#46039f\"], [0.2222222222222222, \"#7201a8\"], [0.3333333333333333, \"#9c179e\"], [0.4444444444444444, \"#bd3786\"], [0.5555555555555556, \"#d8576b\"], [0.6666666666666666, \"#ed7953\"], [0.7777777777777778, \"#fb9f3a\"], [0.8888888888888888, \"#fdca26\"], [1.0, \"#f0f921\"]], \"type\": \"histogram2d\"}], \"histogram2dcontour\": [{\"colorbar\": {\"outlinewidth\": 0, \"ticks\": \"\"}, \"colorscale\": [[0.0, \"#0d0887\"], [0.1111111111111111, \"#46039f\"], [0.2222222222222222, \"#7201a8\"], [0.3333333333333333, \"#9c179e\"], [0.4444444444444444, \"#bd3786\"], [0.5555555555555556, \"#d8576b\"], [0.6666666666666666, \"#ed7953\"], [0.7777777777777778, \"#fb9f3a\"], [0.8888888888888888, \"#fdca26\"], [1.0, \"#f0f921\"]], \"type\": \"histogram2dcontour\"}], \"mesh3d\": [{\"colorbar\": {\"outlinewidth\": 0, \"ticks\": \"\"}, \"type\": \"mesh3d\"}], \"parcoords\": [{\"line\": {\"colorbar\": {\"outlinewidth\": 0, \"ticks\": \"\"}}, \"type\": \"parcoords\"}], \"pie\": [{\"automargin\": true, \"type\": \"pie\"}], \"scatter\": [{\"marker\": {\"colorbar\": {\"outlinewidth\": 0, \"ticks\": \"\"}}, \"type\": \"scatter\"}], \"scatter3d\": [{\"line\": {\"colorbar\": {\"outlinewidth\": 0, \"ticks\": \"\"}}, \"marker\": {\"colorbar\": {\"outlinewidth\": 0, \"ticks\": \"\"}}, \"type\": \"scatter3d\"}], \"scattercarpet\": [{\"marker\": {\"colorbar\": {\"outlinewidth\": 0, \"ticks\": \"\"}}, \"type\": \"scattercarpet\"}], \"scattergeo\": [{\"marker\": {\"colorbar\": {\"outlinewidth\": 0, \"ticks\": \"\"}}, \"type\": \"scattergeo\"}], \"scattergl\": [{\"marker\": {\"colorbar\": {\"outlinewidth\": 0, \"ticks\": \"\"}}, \"type\": \"scattergl\"}], \"scattermapbox\": [{\"marker\": {\"colorbar\": {\"outlinewidth\": 0, \"ticks\": \"\"}}, \"type\": \"scattermapbox\"}], \"scatterpolar\": [{\"marker\": {\"colorbar\": {\"outlinewidth\": 0, \"ticks\": \"\"}}, \"type\": \"scatterpolar\"}], \"scatterpolargl\": [{\"marker\": {\"colorbar\": {\"outlinewidth\": 0, \"ticks\": \"\"}}, \"type\": \"scatterpolargl\"}], \"scatterternary\": [{\"marker\": {\"colorbar\": {\"outlinewidth\": 0, \"ticks\": \"\"}}, \"type\": \"scatterternary\"}], \"surface\": [{\"colorbar\": {\"outlinewidth\": 0, \"ticks\": \"\"}, \"colorscale\": [[0.0, \"#0d0887\"], [0.1111111111111111, \"#46039f\"], [0.2222222222222222, \"#7201a8\"], [0.3333333333333333, \"#9c179e\"], [0.4444444444444444, \"#bd3786\"], [0.5555555555555556, \"#d8576b\"], [0.6666666666666666, \"#ed7953\"], [0.7777777777777778, \"#fb9f3a\"], [0.8888888888888888, \"#fdca26\"], [1.0, \"#f0f921\"]], \"type\": \"surface\"}], \"table\": [{\"cells\": {\"fill\": {\"color\": \"#EBF0F8\"}, \"line\": {\"color\": \"white\"}}, \"header\": {\"fill\": {\"color\": \"#C8D4E3\"}, \"line\": {\"color\": \"white\"}}, \"type\": \"table\"}]}, \"layout\": {\"annotationdefaults\": {\"arrowcolor\": \"#2a3f5f\", \"arrowhead\": 0, \"arrowwidth\": 1}, \"coloraxis\": {\"colorbar\": {\"outlinewidth\": 0, \"ticks\": \"\"}}, \"colorscale\": {\"diverging\": [[0, \"#8e0152\"], [0.1, \"#c51b7d\"], [0.2, \"#de77ae\"], [0.3, \"#f1b6da\"], [0.4, \"#fde0ef\"], [0.5, \"#f7f7f7\"], [0.6, \"#e6f5d0\"], [0.7, \"#b8e186\"], [0.8, \"#7fbc41\"], [0.9, \"#4d9221\"], [1, \"#276419\"]], \"sequential\": [[0.0, \"#0d0887\"], [0.1111111111111111, \"#46039f\"], [0.2222222222222222, \"#7201a8\"], [0.3333333333333333, \"#9c179e\"], [0.4444444444444444, \"#bd3786\"], [0.5555555555555556, \"#d8576b\"], [0.6666666666666666, \"#ed7953\"], [0.7777777777777778, \"#fb9f3a\"], [0.8888888888888888, \"#fdca26\"], [1.0, \"#f0f921\"]], \"sequentialminus\": [[0.0, \"#0d0887\"], [0.1111111111111111, \"#46039f\"], [0.2222222222222222, \"#7201a8\"], [0.3333333333333333, \"#9c179e\"], [0.4444444444444444, \"#bd3786\"], [0.5555555555555556, \"#d8576b\"], [0.6666666666666666, \"#ed7953\"], [0.7777777777777778, \"#fb9f3a\"], [0.8888888888888888, \"#fdca26\"], [1.0, \"#f0f921\"]]}, \"colorway\": [\"#636efa\", \"#EF553B\", \"#00cc96\", \"#ab63fa\", \"#FFA15A\", \"#19d3f3\", \"#FF6692\", \"#B6E880\", \"#FF97FF\", \"#FECB52\"], \"font\": {\"color\": \"#2a3f5f\"}, \"geo\": {\"bgcolor\": \"white\", \"lakecolor\": \"white\", \"landcolor\": \"#E5ECF6\", \"showlakes\": true, \"showland\": true, \"subunitcolor\": \"white\"}, \"hoverlabel\": {\"align\": \"left\"}, \"hovermode\": \"closest\", \"mapbox\": {\"style\": \"light\"}, \"paper_bgcolor\": \"white\", \"plot_bgcolor\": \"#E5ECF6\", \"polar\": {\"angularaxis\": {\"gridcolor\": \"white\", \"linecolor\": \"white\", \"ticks\": \"\"}, \"bgcolor\": \"#E5ECF6\", \"radialaxis\": {\"gridcolor\": \"white\", \"linecolor\": \"white\", \"ticks\": \"\"}}, \"scene\": {\"xaxis\": {\"backgroundcolor\": \"#E5ECF6\", \"gridcolor\": \"white\", \"gridwidth\": 2, \"linecolor\": \"white\", \"showbackground\": true, \"ticks\": \"\", \"zerolinecolor\": \"white\"}, \"yaxis\": {\"backgroundcolor\": \"#E5ECF6\", \"gridcolor\": \"white\", \"gridwidth\": 2, \"linecolor\": \"white\", \"showbackground\": true, \"ticks\": \"\", \"zerolinecolor\": \"white\"}, \"zaxis\": {\"backgroundcolor\": \"#E5ECF6\", \"gridcolor\": \"white\", \"gridwidth\": 2, \"linecolor\": \"white\", \"showbackground\": true, \"ticks\": \"\", \"zerolinecolor\": \"white\"}}, \"shapedefaults\": {\"line\": {\"color\": \"#2a3f5f\"}}, \"ternary\": {\"aaxis\": {\"gridcolor\": \"white\", \"linecolor\": \"white\", \"ticks\": \"\"}, \"baxis\": {\"gridcolor\": \"white\", \"linecolor\": \"white\", \"ticks\": \"\"}, \"bgcolor\": \"#E5ECF6\", \"caxis\": {\"gridcolor\": \"white\", \"linecolor\": \"white\", \"ticks\": \"\"}}, \"title\": {\"x\": 0.05}, \"xaxis\": {\"automargin\": true, \"gridcolor\": \"white\", \"linecolor\": \"white\", \"ticks\": \"\", \"title\": {\"standoff\": 15}, \"zerolinecolor\": \"white\", \"zerolinewidth\": 2}, \"yaxis\": {\"automargin\": true, \"gridcolor\": \"white\", \"linecolor\": \"white\", \"ticks\": \"\", \"title\": {\"standoff\": 15}, \"zerolinecolor\": \"white\", \"zerolinewidth\": 2}}}, \"title\": {\"text\": \"Distribution of rate within comments\"}, \"xaxis\": {\"title\": {\"text\": \"Rate\"}}, \"yaxis\": {\"title\": {\"text\": \"Frequency\"}}},\n",
              "                        {\"responsive\": true}\n",
              "                    ).then(function(){\n",
              "                            \n",
              "var gd = document.getElementById('55be2c6e-aa12-4183-9e8c-cc4c5dc9b98f');\n",
              "var x = new MutationObserver(function (mutations, observer) {{\n",
              "        var display = window.getComputedStyle(gd).display;\n",
              "        if (!display || display === 'none') {{\n",
              "            console.log([gd, 'removed!']);\n",
              "            Plotly.purge(gd);\n",
              "            observer.disconnect();\n",
              "        }}\n",
              "}});\n",
              "\n",
              "// Listen for the removal of the full notebook cells\n",
              "var notebookContainer = gd.closest('#notebook-container');\n",
              "if (notebookContainer) {{\n",
              "    x.observe(notebookContainer, {childList: true});\n",
              "}}\n",
              "\n",
              "// Listen for the clearing of the current output cell\n",
              "var outputEl = gd.closest('.output');\n",
              "if (outputEl) {{\n",
              "    x.observe(outputEl, {childList: true});\n",
              "}}\n",
              "\n",
              "                        })\n",
              "                };\n",
              "                \n",
              "            </script>\n",
              "        </div>\n",
              "</body>\n",
              "</html>"
            ]
          },
          "metadata": {
            "tags": []
          }
        }
      ]
    },
    {
      "cell_type": "markdown",
      "metadata": {
        "id": "jJxf-DvhGxYv"
      },
      "source": [
        "### Cleaning \n",
        "is the final step in this section, and becase **DeepSentiPers** had five different preprocessing steps were applied to all the sentences (Normalization, Punctuation rmoval, Single character removal, Digits removal and Lemmatization), so Our cleaned method includes these steps:\n",
        "- fixing unicodes\n",
        "- removing specials like an email, url, new lines, ...\n",
        "- cleaning HTMLs\n",
        "- removing emojis"
      ]
    },
    {
      "cell_type": "code",
      "metadata": {
        "id": "Fl54AAGXkwNf"
      },
      "source": [
        "import re\n",
        "def cleanhtml(raw_html):\n",
        "    cleanr = re.compile('<.*?>')\n",
        "    cleantext = re.sub(cleanr, '', raw_html)\n",
        "    return cleantext\n",
        "\n",
        "\n",
        "def cleaning(text):\n",
        "    text = text.strip()\n",
        "    \n",
        "    # regular cleaning\n",
        "    text = clean(text,\n",
        "        fix_unicode=True,                 # fix various unicode errors\n",
        "        to_ascii=False,                   # transliterate to closest ASCII representation\n",
        "        lower=True,                       # lowercase text\n",
        "        no_line_breaks=True,              # fully strip line breaks as opposed to only normalizing them\n",
        "        no_urls=True,                     # replace all URLs with a special token\n",
        "        no_emails=True,                   # replace all email addresses with a special token\n",
        "        no_phone_numbers=True,            # replace all phone numbers with a special token\n",
        "        no_numbers=False,                 # replace all numbers with a special token\n",
        "        no_digits=False,                  # replace all digits with a special token\n",
        "        no_currency_symbols=True,         # replace all currency symbols with a special token\n",
        "        no_punct=False,                   # remove punctuations\n",
        "        replace_with_url=\"\",              # instead of removing URL replace them by noyhing\n",
        "        replace_with_email=\"\",\n",
        "        replace_with_phone_number=\"\",\n",
        "        replace_with_number=\"\",\n",
        "        replace_with_digit=\"0\",\n",
        "        replace_with_currency_symbol=\"\",  \n",
        "        #lang=\"en\"                       # set to 'de' for German special handling\n",
        "        # So far, only English and German are fully supported. It should work for the majority of western languages.\n",
        "    )\n",
        "\n",
        "\n",
        "    # cleaning htmls\n",
        "    text = cleanhtml(text) \n",
        "   \n",
        "    # removing wierd patterns\n",
        "    wierd_pattern = re.compile(\"[\"\n",
        "        u\"\\U0001F600-\\U0001F64F\"  # emoticons\n",
        "        u\"\\U0001F300-\\U0001F5FF\"  # symbols & pictographs\n",
        "        u\"\\U0001F680-\\U0001F6FF\"  # transport & map symbols\n",
        "        u\"\\U0001F1E0-\\U0001F1FF\"  # flags (iOS)\n",
        "        u\"\\U00002702-\\U000027B0\"\n",
        "        u\"\\U000024C2-\\U0001F251\"\n",
        "        u\"\\U0001f926-\\U0001f937\"\n",
        "        u'\\U00010000-\\U0010ffff'\n",
        "        u\"\\u200d\"\n",
        "        u\"\\u2640-\\u2642\"\n",
        "        u\"\\u2600-\\u2B55\"\n",
        "        u\"\\u23cf\"\n",
        "        u\"\\u23e9\"\n",
        "        u\"\\u231a\"\n",
        "        u\"\\u3030\"\n",
        "        u\"\\ufe0f\"\n",
        "        u\"\\u2069\"\n",
        "        u\"\\u2066\"\n",
        "        # u\"\\u200c\"\n",
        "        u\"\\u2068\"\n",
        "        u\"\\u2067\"\n",
        "        \"]+\", flags=re.UNICODE)\n",
        "    \n",
        "    text = wierd_pattern.sub(r'', text)\n",
        "    \n",
        "    # removing extra spaces, hashtags\n",
        "    text = re.sub(\"#\", \"\", text)\n",
        "    text = re.sub(\"\\s+\", \" \", text)\n",
        "    \n",
        "    return text"
      ],
      "execution_count": null,
      "outputs": []
    },
    {
      "cell_type": "code",
      "metadata": {
        "colab": {
          "base_uri": "https://localhost:8080/",
          "height": 293
        },
        "id": "9Q3EzsXelEyW",
        "outputId": "d0cc7727-15d7-45ec-8545-5f57fe12cbe2"
      },
      "source": [
        "# cleaning comments\n",
        "data['cleaned_comment'] = data['comment'].apply(cleaning)\n",
        "\n",
        "\n",
        "# calculate the length of comments based on their words\n",
        "data['cleaned_comment_len_by_words'] = data['cleaned_comment'].apply(lambda t: len(hazm.word_tokenize(t)))\n",
        "\n",
        "# remove comments with the length of fewer than 2 words\n",
        "data['cleaned_comment_len_by_words'] = data['cleaned_comment_len_by_words'].apply(lambda len_t: len_t if minlim <= len_t <= maxlim else len_t)\n",
        "data = data.dropna(subset=['cleaned_comment_len_by_words'])\n",
        "data = data.reset_index(drop=True)\n",
        "\n",
        "data.head()"
      ],
      "execution_count": null,
      "outputs": [
        {
          "output_type": "execute_result",
          "data": {
            "text/html": [
              "<div>\n",
              "<style scoped>\n",
              "    .dataframe tbody tr th:only-of-type {\n",
              "        vertical-align: middle;\n",
              "    }\n",
              "\n",
              "    .dataframe tbody tr th {\n",
              "        vertical-align: top;\n",
              "    }\n",
              "\n",
              "    .dataframe thead th {\n",
              "        text-align: right;\n",
              "    }\n",
              "</style>\n",
              "<table border=\"1\" class=\"dataframe\">\n",
              "  <thead>\n",
              "    <tr style=\"text-align: right;\">\n",
              "      <th></th>\n",
              "      <th>comment</th>\n",
              "      <th>rate</th>\n",
              "      <th>comment_len_by_words</th>\n",
              "      <th>label</th>\n",
              "      <th>cleaned_comment</th>\n",
              "      <th>cleaned_comment_len_by_words</th>\n",
              "    </tr>\n",
              "  </thead>\n",
              "  <tbody>\n",
              "    <tr>\n",
              "      <th>0</th>\n",
              "      <td>همچنین یک برنامه کاربردی بسیار مفید برای ارائه...</td>\n",
              "      <td>1.0</td>\n",
              "      <td>10.0</td>\n",
              "      <td>positive</td>\n",
              "      <td>همچنین یک برنامه کاربردی بسیار مفید برای ارائه...</td>\n",
              "      <td>10</td>\n",
              "    </tr>\n",
              "    <tr>\n",
              "      <th>1</th>\n",
              "      <td>این استاندارد بدان معنی است که دستگاه نسبت به ...</td>\n",
              "      <td>1.0</td>\n",
              "      <td>28.0</td>\n",
              "      <td>positive</td>\n",
              "      <td>این استاندارد بدان معنی است که دستگاه نسبت به ...</td>\n",
              "      <td>28</td>\n",
              "    </tr>\n",
              "    <tr>\n",
              "      <th>2</th>\n",
              "      <td>در حقیقت هنگام معرفی دوربین ، قابلیت بزرگنمایی...</td>\n",
              "      <td>1.0</td>\n",
              "      <td>26.0</td>\n",
              "      <td>positive</td>\n",
              "      <td>در حقیقت هنگام معرفی دوربین ، قابلیت بزرگنمایی...</td>\n",
              "      <td>26</td>\n",
              "    </tr>\n",
              "    <tr>\n",
              "      <th>3</th>\n",
              "      <td>این گوشی از رابط کاربری TimeScape سونی اریکسون...</td>\n",
              "      <td>1.0</td>\n",
              "      <td>23.0</td>\n",
              "      <td>positive</td>\n",
              "      <td>این گوشی از رابط کاربری timescape سونی اریکسون...</td>\n",
              "      <td>23</td>\n",
              "    </tr>\n",
              "    <tr>\n",
              "      <th>4</th>\n",
              "      <td>در مرور اواسط روز Wi-Fi ، رایانه لوحی توانست ب...</td>\n",
              "      <td>1.0</td>\n",
              "      <td>16.0</td>\n",
              "      <td>positive</td>\n",
              "      <td>در مرور اواسط روز wi-fi ، رایانه لوحی توانست ب...</td>\n",
              "      <td>16</td>\n",
              "    </tr>\n",
              "  </tbody>\n",
              "</table>\n",
              "</div>"
            ],
            "text/plain": [
              "                                             comment  ...  cleaned_comment_len_by_words\n",
              "0  همچنین یک برنامه کاربردی بسیار مفید برای ارائه...  ...                            10\n",
              "1  این استاندارد بدان معنی است که دستگاه نسبت به ...  ...                            28\n",
              "2  در حقیقت هنگام معرفی دوربین ، قابلیت بزرگنمایی...  ...                            26\n",
              "3  این گوشی از رابط کاربری TimeScape سونی اریکسون...  ...                            23\n",
              "4  در مرور اواسط روز Wi-Fi ، رایانه لوحی توانست ب...  ...                            16\n",
              "\n",
              "[5 rows x 6 columns]"
            ]
          },
          "metadata": {
            "tags": []
          },
          "execution_count": 24
        }
      ]
    },
    {
      "cell_type": "code",
      "metadata": {
        "colab": {
          "base_uri": "https://localhost:8080/"
        },
        "id": "n3oD0ezNFpRQ",
        "outputId": "16a09bb0-627a-4e60-adb0-917171eb18c9"
      },
      "source": [
        "data.info()"
      ],
      "execution_count": null,
      "outputs": [
        {
          "output_type": "stream",
          "text": [
            "<class 'pandas.core.frame.DataFrame'>\n",
            "RangeIndex: 9138 entries, 0 to 9137\n",
            "Data columns (total 6 columns):\n",
            " #   Column                        Non-Null Count  Dtype  \n",
            "---  ------                        --------------  -----  \n",
            " 0   comment                       9138 non-null   object \n",
            " 1   rate                          9138 non-null   float64\n",
            " 2   comment_len_by_words          9138 non-null   float64\n",
            " 3   label                         9138 non-null   object \n",
            " 4   cleaned_comment               9138 non-null   object \n",
            " 5   cleaned_comment_len_by_words  9138 non-null   int64  \n",
            "dtypes: float64(2), int64(1), object(3)\n",
            "memory usage: 428.5+ KB\n"
          ],
          "name": "stdout"
        }
      ]
    },
    {
      "cell_type": "code",
      "metadata": {
        "colab": {
          "base_uri": "https://localhost:8080/",
          "height": 206
        },
        "id": "kwEUclOJnNLq",
        "outputId": "3d14ef6f-6142-4daf-dd26-21f103c8b0c0"
      },
      "source": [
        "data = data[['cleaned_comment', 'label']]\n",
        "data.columns = ['comment', 'label']\n",
        "data.head()"
      ],
      "execution_count": null,
      "outputs": [
        {
          "output_type": "execute_result",
          "data": {
            "text/html": [
              "<div>\n",
              "<style scoped>\n",
              "    .dataframe tbody tr th:only-of-type {\n",
              "        vertical-align: middle;\n",
              "    }\n",
              "\n",
              "    .dataframe tbody tr th {\n",
              "        vertical-align: top;\n",
              "    }\n",
              "\n",
              "    .dataframe thead th {\n",
              "        text-align: right;\n",
              "    }\n",
              "</style>\n",
              "<table border=\"1\" class=\"dataframe\">\n",
              "  <thead>\n",
              "    <tr style=\"text-align: right;\">\n",
              "      <th></th>\n",
              "      <th>comment</th>\n",
              "      <th>label</th>\n",
              "    </tr>\n",
              "  </thead>\n",
              "  <tbody>\n",
              "    <tr>\n",
              "      <th>0</th>\n",
              "      <td>همچنین یک برنامه کاربردی بسیار مفید برای ارائه...</td>\n",
              "      <td>positive</td>\n",
              "    </tr>\n",
              "    <tr>\n",
              "      <th>1</th>\n",
              "      <td>این استاندارد بدان معنی است که دستگاه نسبت به ...</td>\n",
              "      <td>positive</td>\n",
              "    </tr>\n",
              "    <tr>\n",
              "      <th>2</th>\n",
              "      <td>در حقیقت هنگام معرفی دوربین ، قابلیت بزرگنمایی...</td>\n",
              "      <td>positive</td>\n",
              "    </tr>\n",
              "    <tr>\n",
              "      <th>3</th>\n",
              "      <td>این گوشی از رابط کاربری timescape سونی اریکسون...</td>\n",
              "      <td>positive</td>\n",
              "    </tr>\n",
              "    <tr>\n",
              "      <th>4</th>\n",
              "      <td>در مرور اواسط روز wi-fi ، رایانه لوحی توانست ب...</td>\n",
              "      <td>positive</td>\n",
              "    </tr>\n",
              "  </tbody>\n",
              "</table>\n",
              "</div>"
            ],
            "text/plain": [
              "                                             comment     label\n",
              "0  همچنین یک برنامه کاربردی بسیار مفید برای ارائه...  positive\n",
              "1  این استاندارد بدان معنی است که دستگاه نسبت به ...  positive\n",
              "2  در حقیقت هنگام معرفی دوربین ، قابلیت بزرگنمایی...  positive\n",
              "3  این گوشی از رابط کاربری timescape سونی اریکسون...  positive\n",
              "4  در مرور اواسط روز wi-fi ، رایانه لوحی توانست ب...  positive"
            ]
          },
          "metadata": {
            "tags": []
          },
          "execution_count": 26
        }
      ]
    },
    {
      "cell_type": "code",
      "metadata": {
        "colab": {
          "base_uri": "https://localhost:8080/"
        },
        "id": "JZHuzYFMna2n",
        "outputId": "021a3d19-f420-4683-8d17-593d06cc7802"
      },
      "source": [
        "print(f'We have #{len(labels)} labels: {labels}')"
      ],
      "execution_count": null,
      "outputs": [
        {
          "output_type": "stream",
          "text": [
            "We have #2 labels: ['negative', 'positive']\n"
          ],
          "name": "stdout"
        }
      ]
    },
    {
      "cell_type": "code",
      "metadata": {
        "colab": {
          "base_uri": "https://localhost:8080/"
        },
        "id": "rLbMRuVqOSmn",
        "outputId": "a990ecdb-443e-4fed-bd2d-fe9b14d9e5b4"
      },
      "source": [
        "# See the data number of sentence in each category and is it balanced?\n",
        "GroupbyLabel = data.groupby('label')['label'].count()\n",
        "\n",
        "GroupbyLabel = dict(GroupbyLabel)\n",
        "print(GroupbyLabel)"
      ],
      "execution_count": null,
      "outputs": [
        {
          "output_type": "stream",
          "text": [
            "{'negative': 2055, 'positive': 7083}\n"
          ],
          "name": "stdout"
        }
      ]
    },
    {
      "cell_type": "code",
      "metadata": {
        "colab": {
          "base_uri": "https://localhost:8080/",
          "height": 297
        },
        "id": "GEGDgOO7O2Ih",
        "outputId": "9fef2f03-6131-415d-8f21-4db7ba2ce4e5"
      },
      "source": [
        "labels = list(GroupbyLabel.keys())\n",
        "sizes = list(GroupbyLabel.values())\n",
        "colors = ['#3fba36', '#66b3ff','#ffcc99','#ff9999', '#d44444']\n",
        "fig1, ax1 = plt.subplots()\n",
        "ax1.pie(sizes, labels=labels, colors=colors,\n",
        "        autopct='%1.1f%%', startangle=90)\n",
        "#draw circle\n",
        "centre_circle = plt.Circle((0,0),0.70,fc='white')\n",
        "fig = plt.gcf()\n",
        "fig.gca().add_artist(centre_circle)\n",
        "# Equal aspect ratio ensures that pie is drawn as a circle\n",
        "ax1.axis('equal')  \n",
        "plt.tight_layout()\n",
        "# Decomment following line if you want to save the figure\n",
        "plt.show()"
      ],
      "execution_count": null,
      "outputs": [
        {
          "output_type": "display_data",
          "data": {
            "image/png": "[encoded data removed]",
            "text/plain": [
              "<Figure size 432x288 with 1 Axes>"
            ]
          },
          "metadata": {
            "tags": []
          }
        }
      ]
    },
    {
      "cell_type": "markdown",
      "metadata": {
        "id": "1Q0yEPxd-tb-"
      },
      "source": [
        "### Blanced DS\n",
        "We can cut the dataset randomly based on the fewer label (Negative), to make it blanced.\n",
        "But note that this make DS smaller :("
      ]
    },
    {
      "cell_type": "code",
      "metadata": {
        "id": "7go47tYozdZI",
        "colab": {
          "base_uri": "https://localhost:8080/"
        },
        "outputId": "b9e596e6-e387-4578-9d23-fbee73f2ddb8"
      },
      "source": [
        "negative_data = data[data['label'] == 'negative']\n",
        "positive_data = data[data['label'] == 'positive']\n",
        "\n",
        "cutting_point = min(len(negative_data), len(positive_data))\n",
        "\n",
        "if cutting_point <= len(negative_data):\n",
        "    negative_data = negative_data.sample(n=cutting_point).reset_index(drop=True)\n",
        "\n",
        "if cutting_point <= len(positive_data):\n",
        "    positive_data = positive_data.sample(n=cutting_point).reset_index(drop=True)\n",
        "\n",
        "new_data = pd.concat([negative_data, positive_data])\n",
        "new_data = new_data.sample(frac=1).reset_index(drop=True)# we shuffle the order of the DataFrame's rows,\n",
        "                                                          # so that all Type's are mixed.\n",
        "new_data.info()"
      ],
      "execution_count": null,
      "outputs": [
        {
          "output_type": "stream",
          "text": [
            "<class 'pandas.core.frame.DataFrame'>\n",
            "RangeIndex: 4110 entries, 0 to 4109\n",
            "Data columns (total 2 columns):\n",
            " #   Column   Non-Null Count  Dtype \n",
            "---  ------   --------------  ----- \n",
            " 0   comment  4110 non-null   object\n",
            " 1   label    4110 non-null   object\n",
            "dtypes: object(2)\n",
            "memory usage: 64.3+ KB\n"
          ],
          "name": "stdout"
        }
      ]
    },
    {
      "cell_type": "code",
      "metadata": {
        "colab": {
          "base_uri": "https://localhost:8080/"
        },
        "id": "f7ASzZZpUUwR",
        "outputId": "331f3834-c85a-4396-a114-2547c68b652a"
      },
      "source": [
        "# See the data number of sentence in each category and is it balanced?\n",
        "GroupbyLabel = new_data.groupby('label')['label'].count()\n",
        "\n",
        "GroupbyLabel = dict(GroupbyLabel)\n",
        "print(GroupbyLabel)"
      ],
      "execution_count": null,
      "outputs": [
        {
          "output_type": "stream",
          "text": [
            "{'negative': 2055, 'positive': 2055}\n"
          ],
          "name": "stdout"
        }
      ]
    },
    {
      "cell_type": "code",
      "metadata": {
        "id": "NczPnoRI0WPq",
        "colab": {
          "base_uri": "https://localhost:8080/",
          "height": 206
        },
        "outputId": "b2b24aad-7339-4216-bdfc-6e1253bd9d2b"
      },
      "source": [
        "new_data.head()"
      ],
      "execution_count": null,
      "outputs": [
        {
          "output_type": "execute_result",
          "data": {
            "text/html": [
              "<div>\n",
              "<style scoped>\n",
              "    .dataframe tbody tr th:only-of-type {\n",
              "        vertical-align: middle;\n",
              "    }\n",
              "\n",
              "    .dataframe tbody tr th {\n",
              "        vertical-align: top;\n",
              "    }\n",
              "\n",
              "    .dataframe thead th {\n",
              "        text-align: right;\n",
              "    }\n",
              "</style>\n",
              "<table border=\"1\" class=\"dataframe\">\n",
              "  <thead>\n",
              "    <tr style=\"text-align: right;\">\n",
              "      <th></th>\n",
              "      <th>comment</th>\n",
              "      <th>label</th>\n",
              "    </tr>\n",
              "  </thead>\n",
              "  <tbody>\n",
              "    <tr>\n",
              "      <th>0</th>\n",
              "      <td>عکسبرداری با این دوربین بسیار ساده است ، فقط ک...</td>\n",
              "      <td>positive</td>\n",
              "    </tr>\n",
              "    <tr>\n",
              "      <th>1</th>\n",
              "      <td>باز هم ، آیفون بهترین گوشی جهان بود ، اما نکته...</td>\n",
              "      <td>positive</td>\n",
              "    </tr>\n",
              "    <tr>\n",
              "      <th>2</th>\n",
              "      <td>از جمله باتري، دوربين عکاسي کم کيفيت جنس بد بد...</td>\n",
              "      <td>negative</td>\n",
              "    </tr>\n",
              "    <tr>\n",
              "      <th>3</th>\n",
              "      <td>به خاطر داشته باشید که تمرکز اصلی نوکیا روی کی...</td>\n",
              "      <td>positive</td>\n",
              "    </tr>\n",
              "    <tr>\n",
              "      <th>4</th>\n",
              "      <td>چرا که تبلت surface rt برای استفاده های معمولی...</td>\n",
              "      <td>negative</td>\n",
              "    </tr>\n",
              "  </tbody>\n",
              "</table>\n",
              "</div>"
            ],
            "text/plain": [
              "                                             comment     label\n",
              "0  عکسبرداری با این دوربین بسیار ساده است ، فقط ک...  positive\n",
              "1  باز هم ، آیفون بهترین گوشی جهان بود ، اما نکته...  positive\n",
              "2  از جمله باتري، دوربين عکاسي کم کيفيت جنس بد بد...  negative\n",
              "3  به خاطر داشته باشید که تمرکز اصلی نوکیا روی کی...  positive\n",
              "4  چرا که تبلت surface rt برای استفاده های معمولی...  negative"
            ]
          },
          "metadata": {
            "tags": []
          },
          "execution_count": 32
        }
      ]
    },
    {
      "cell_type": "markdown",
      "metadata": {
        "id": "Ia2X8LySA913"
      },
      "source": [
        "# Train,Validation,Test split\n",
        "\n",
        "We need to split the balanced cleaned dataset into train, valid and test sets due to size of the data. \n",
        "\n",
        "In this tutorial, we have considered a rate of **0.1** for both *valid*, *test* sets. For splitting, we use `train_test_split` provided by Sklearn package with stratifying on the label for preserving the distribution balance."
      ]
    },
    {
      "cell_type": "code",
      "metadata": {
        "colab": {
          "base_uri": "https://localhost:8080/"
        },
        "id": "_E37MIZrJcru",
        "outputId": "fc564718-5bec-47c3-8b10-93f7396b7474"
      },
      "source": [
        "new_data['label_id'] = new_data['label'].apply(lambda t: labels.index(t))\n",
        "\n",
        "train, test = train_test_split(new_data, test_size=0.1, random_state=1, stratify=new_data['label'])\n",
        "train, valid = train_test_split(train, test_size=0.1, random_state=1, stratify=train['label'])\n",
        "\n",
        "train = train.reset_index(drop=True)\n",
        "valid = valid.reset_index(drop=True)\n",
        "test = test.reset_index(drop=True)\n",
        "\n",
        "x_train, y_train = train['comment'].values.tolist(), train['label_id'].values.tolist()\n",
        "x_valid, y_valid = valid['comment'].values.tolist(), valid['label_id'].values.tolist()\n",
        "x_test, y_test = test['comment'].values.tolist(), test['label_id'].values.tolist()\n",
        "\n",
        "print(train.shape)\n",
        "print(valid.shape)\n",
        "print(test.shape)"
      ],
      "execution_count": null,
      "outputs": [
        {
          "output_type": "stream",
          "text": [
            "(3329, 3)\n",
            "(370, 3)\n",
            "(411, 3)\n"
          ],
          "name": "stdout"
        }
      ]
    },
    {
      "cell_type": "code",
      "metadata": {
        "colab": {
          "base_uri": "https://localhost:8080/",
          "height": 206
        },
        "id": "52P4WrJ3NJch",
        "outputId": "dd644c93-b207-4547-e437-66b9e5156761"
      },
      "source": [
        "new_data.head()"
      ],
      "execution_count": null,
      "outputs": [
        {
          "output_type": "execute_result",
          "data": {
            "text/html": [
              "<div>\n",
              "<style scoped>\n",
              "    .dataframe tbody tr th:only-of-type {\n",
              "        vertical-align: middle;\n",
              "    }\n",
              "\n",
              "    .dataframe tbody tr th {\n",
              "        vertical-align: top;\n",
              "    }\n",
              "\n",
              "    .dataframe thead th {\n",
              "        text-align: right;\n",
              "    }\n",
              "</style>\n",
              "<table border=\"1\" class=\"dataframe\">\n",
              "  <thead>\n",
              "    <tr style=\"text-align: right;\">\n",
              "      <th></th>\n",
              "      <th>comment</th>\n",
              "      <th>label</th>\n",
              "      <th>label_id</th>\n",
              "    </tr>\n",
              "  </thead>\n",
              "  <tbody>\n",
              "    <tr>\n",
              "      <th>0</th>\n",
              "      <td>عکسبرداری با این دوربین بسیار ساده است ، فقط ک...</td>\n",
              "      <td>positive</td>\n",
              "      <td>1</td>\n",
              "    </tr>\n",
              "    <tr>\n",
              "      <th>1</th>\n",
              "      <td>باز هم ، آیفون بهترین گوشی جهان بود ، اما نکته...</td>\n",
              "      <td>positive</td>\n",
              "      <td>1</td>\n",
              "    </tr>\n",
              "    <tr>\n",
              "      <th>2</th>\n",
              "      <td>از جمله باتري، دوربين عکاسي کم کيفيت جنس بد بد...</td>\n",
              "      <td>negative</td>\n",
              "      <td>0</td>\n",
              "    </tr>\n",
              "    <tr>\n",
              "      <th>3</th>\n",
              "      <td>به خاطر داشته باشید که تمرکز اصلی نوکیا روی کی...</td>\n",
              "      <td>positive</td>\n",
              "      <td>1</td>\n",
              "    </tr>\n",
              "    <tr>\n",
              "      <th>4</th>\n",
              "      <td>چرا که تبلت surface rt برای استفاده های معمولی...</td>\n",
              "      <td>negative</td>\n",
              "      <td>0</td>\n",
              "    </tr>\n",
              "  </tbody>\n",
              "</table>\n",
              "</div>"
            ],
            "text/plain": [
              "                                             comment     label  label_id\n",
              "0  عکسبرداری با این دوربین بسیار ساده است ، فقط ک...  positive         1\n",
              "1  باز هم ، آیفون بهترین گوشی جهان بود ، اما نکته...  positive         1\n",
              "2  از جمله باتري، دوربين عکاسي کم کيفيت جنس بد بد...  negative         0\n",
              "3  به خاطر داشته باشید که تمرکز اصلی نوکیا روی کی...  positive         1\n",
              "4  چرا که تبلت surface rt برای استفاده های معمولی...  negative         0"
            ]
          },
          "metadata": {
            "tags": []
          },
          "execution_count": 34
        }
      ]
    },
    {
      "cell_type": "markdown",
      "metadata": {
        "id": "Mk-T5EvIRc6t"
      },
      "source": [
        "## Using PyTorch"
      ]
    },
    {
      "cell_type": "code",
      "metadata": {
        "id": "LjfRss-DR3fu"
      },
      "source": [
        "from transformers import BertConfig, BertTokenizer\n",
        "from transformers import BertModel\n",
        "\n",
        "from transformers import AdamW\n",
        "from transformers import get_linear_schedule_with_warmup\n",
        "\n",
        "import torch\n",
        "import torch.nn as nn\n",
        "import torch.nn.functional as F"
      ],
      "execution_count": null,
      "outputs": []
    },
    {
      "cell_type": "markdown",
      "metadata": {
        "id": "SperdZDDWKxT"
      },
      "source": [
        "### Configuration"
      ]
    },
    {
      "cell_type": "code",
      "metadata": {
        "id": "WFpUoggdpU3x",
        "colab": {
          "base_uri": "https://localhost:8080/"
        },
        "outputId": "164fb41f-a8f7-4cce-ad59-8bce36750f18"
      },
      "source": [
        "device = torch.device(\"cuda:0\" if torch.cuda.is_available() else \"cpu\")\n",
        "print(f'device: {device}')\n",
        "\n",
        "train_on_gpu = torch.cuda.is_available()\n",
        "\n",
        "if not train_on_gpu:\n",
        "    print('CUDA is not available.  Training on CPU ...')\n",
        "else:\n",
        "    print('CUDA is available!  Training on GPU ...')"
      ],
      "execution_count": null,
      "outputs": [
        {
          "output_type": "stream",
          "text": [
            "device: cuda:0\n",
            "CUDA is available!  Training on GPU ...\n"
          ],
          "name": "stdout"
        }
      ]
    },
    {
      "cell_type": "code",
      "metadata": {
        "id": "mH38OJU0X7rd"
      },
      "source": [
        "# general config\n",
        "MAX_LEN = 128\n",
        "TRAIN_BATCH_SIZE = 16\n",
        "VALID_BATCH_SIZE = 16\n",
        "TEST_BATCH_SIZE = 16\n",
        "\n",
        "EPOCHS = 5\n",
        "EEVERY_EPOCH = 1000\n",
        "LEARNING_RATE = 2e-5\n",
        "CLIP = 0.0\n",
        "\n",
        "MODEL_NAME_OR_PATH = 'HooshvareLab/bert-fa-base-uncased'\n",
        "OUTPUT_PATH = '/content/bert-fa-base-uncased-sentiment-taaghceh/pytorch_model.bin'\n",
        "\n",
        "os.makedirs(os.path.dirname(OUTPUT_PATH), exist_ok=True)"
      ],
      "execution_count": null,
      "outputs": []
    },
    {
      "cell_type": "code",
      "metadata": {
        "id": "qK02AC0pYIPj",
        "colab": {
          "base_uri": "https://localhost:8080/"
        },
        "outputId": "41e80d67-7b4e-4c2f-ea86-5db05fda9b6c"
      },
      "source": [
        "# create a key finder based on label 2 id and id to label\n",
        "\n",
        "label2id = {label: i for i, label in enumerate(labels)}\n",
        "id2label = {v: k for k, v in label2id.items()}\n",
        "\n",
        "print(f'label2id: {label2id}')\n",
        "print(f'id2label: {id2label}')"
      ],
      "execution_count": null,
      "outputs": [
        {
          "output_type": "stream",
          "text": [
            "label2id: {'negative': 0, 'positive': 1}\n",
            "id2label: {0: 'negative', 1: 'positive'}\n"
          ],
          "name": "stdout"
        }
      ]
    },
    {
      "cell_type": "code",
      "metadata": {
        "id": "qGJRNBXFYOcx",
        "colab": {
          "base_uri": "https://localhost:8080/",
          "height": 619,
          "referenced_widgets": [
            "43c26f2a00f248b78848b5ad0cd2d862",
            "079106a2507b415aabae4fe0162452b4",
            "259a19a76eae4bf5a3e2537726633f0b",
            "58e0dcfcc8a74b5b902f4a8011f7d0dd",
            "b74081f203064ed5a0afc3572b737933",
            "db44bcd412bf473782b42253f526f2a6",
            "d46bdb901e5b4b4fa4d1a193d7bd6f4b",
            "e64b06b721dd4fe6b7f9272c0f4e54a1",
            "08c17666422240fe82079fb4befbe071",
            "450f7db91f8c4201b628a884d1ade302",
            "9f8b4f1884ca4c399c11fa5b4005e6d5",
            "26707389fd9745f884c1165f72e1366e",
            "6d7d867bbaf546beb5e95b425b53eab1",
            "b45b4b993abd4dacac5449a2f009bdac",
            "42303eebd89c431a8604ab2dc7c32e55",
            "fa8d930379a94c09a04b3bade8edc286"
          ]
        },
        "outputId": "a0c4bd4d-bd5d-49e9-fdca-fd57179a6a6a"
      },
      "source": [
        "# setup the tokenizer and configuration\n",
        "\n",
        "tokenizer = BertTokenizer.from_pretrained(MODEL_NAME_OR_PATH)\n",
        "config = BertConfig.from_pretrained(\n",
        "    MODEL_NAME_OR_PATH, **{\n",
        "        'label2id': label2id,\n",
        "        'id2label': id2label,\n",
        "    })\n",
        "\n",
        "print(config.to_json_string())"
      ],
      "execution_count": null,
      "outputs": [
        {
          "output_type": "display_data",
          "data": {
            "application/vnd.jupyter.widget-view+json": {
              "model_id": "43c26f2a00f248b78848b5ad0cd2d862",
              "version_minor": 0,
              "version_major": 2
            },
            "text/plain": [
              "HBox(children=(FloatProgress(value=0.0, description='Downloading', max=1198122.0, style=ProgressStyle(descript…"
            ]
          },
          "metadata": {
            "tags": []
          }
        },
        {
          "output_type": "stream",
          "text": [
            "\n"
          ],
          "name": "stdout"
        },
        {
          "output_type": "display_data",
          "data": {
            "application/vnd.jupyter.widget-view+json": {
              "model_id": "08c17666422240fe82079fb4befbe071",
              "version_minor": 0,
              "version_major": 2
            },
            "text/plain": [
              "HBox(children=(FloatProgress(value=0.0, description='Downloading', max=440.0, style=ProgressStyle(description_…"
            ]
          },
          "metadata": {
            "tags": []
          }
        },
        {
          "output_type": "stream",
          "text": [
            "\n",
            "{\n",
            "  \"architectures\": [\n",
            "    \"BertForMaskedLM\"\n",
            "  ],\n",
            "  \"attention_probs_dropout_prob\": 0.1,\n",
            "  \"gradient_checkpointing\": false,\n",
            "  \"hidden_act\": \"gelu\",\n",
            "  \"hidden_dropout_prob\": 0.1,\n",
            "  \"hidden_size\": 768,\n",
            "  \"id2label\": {\n",
            "    \"0\": \"negative\",\n",
            "    \"1\": \"positive\"\n",
            "  },\n",
            "  \"initializer_range\": 0.02,\n",
            "  \"intermediate_size\": 3072,\n",
            "  \"label2id\": {\n",
            "    \"negative\": 0,\n",
            "    \"positive\": 1\n",
            "  },\n",
            "  \"layer_norm_eps\": 1e-12,\n",
            "  \"max_position_embeddings\": 512,\n",
            "  \"model_type\": \"bert\",\n",
            "  \"num_attention_heads\": 12,\n",
            "  \"num_hidden_layers\": 12,\n",
            "  \"pad_token_id\": 0,\n",
            "  \"type_vocab_size\": 2,\n",
            "  \"vocab_size\": 100000\n",
            "}\n",
            "\n"
          ],
          "name": "stdout"
        }
      ]
    },
    {
      "cell_type": "markdown",
      "metadata": {
        "id": "cr9L9N91gSpm"
      },
      "source": [
        "### Input Embeddings"
      ]
    },
    {
      "cell_type": "code",
      "metadata": {
        "id": "3BIajCqGgYEG",
        "colab": {
          "base_uri": "https://localhost:8080/"
        },
        "outputId": "a9948ec4-7ff4-4475-d994-b80b34919f7d"
      },
      "source": [
        "idx = np.random.randint(0, len(train))\n",
        "sample_comment = train.iloc[idx]['comment']\n",
        "sample_label = train.iloc[idx]['label']\n",
        "\n",
        "print(f'Sample: \\n{sample_comment}\\n{sample_label}')"
      ],
      "execution_count": null,
      "outputs": [
        {
          "output_type": "stream",
          "text": [
            "Sample: \n",
            "حیف است که این گوشی حافظه جانبی نداشته باشد!\n",
            "negative\n"
          ],
          "name": "stdout"
        }
      ]
    },
    {
      "cell_type": "code",
      "metadata": {
        "id": "ygnLJu8uhjPT",
        "colab": {
          "base_uri": "https://localhost:8080/"
        },
        "outputId": "e32810af-e844-47fd-9799-1a1a9dc0c52c"
      },
      "source": [
        "tokens = tokenizer.tokenize(sample_comment)\n",
        "token_ids = tokenizer.convert_tokens_to_ids(tokens)\n",
        "\n",
        "print(f'  Comment: {sample_comment}')\n",
        "print(f'   Tokens: {tokenizer.convert_tokens_to_string(tokens)}')\n",
        "print(f'Token IDs: {token_ids}')"
      ],
      "execution_count": null,
      "outputs": [
        {
          "output_type": "stream",
          "text": [
            "  Comment: حیف است که این گوشی حافظه جانبی نداشته باشد!\n",
            "   Tokens: حیف است که این گوشی حافظه جانبی نداشته باشد !\n",
            "Token IDs: [23317, 2806, 2800, 2802, 4013, 5738, 7423, 5102, 3048, 1001]\n"
          ],
          "name": "stdout"
        }
      ]
    },
    {
      "cell_type": "code",
      "metadata": {
        "id": "jgsgZ2b5h2I4",
        "colab": {
          "base_uri": "https://localhost:8080/"
        },
        "outputId": "732f81f4-9415-49eb-c025-19d488ee5e99"
      },
      "source": [
        "encoding = tokenizer.encode_plus(\n",
        "    sample_comment,\n",
        "    max_length=32,\n",
        "    truncation=True,\n",
        "    add_special_tokens=True, # Add '[CLS]' and '[SEP]'\n",
        "    return_token_type_ids=True,\n",
        "    return_attention_mask=True,\n",
        "    padding='max_length',\n",
        "    return_tensors='pt',  # Return PyTorch tensors\n",
        ")\n",
        "\n",
        "print(f'Keys: {encoding.keys()}\\n')\n",
        "for k in encoding.keys():\n",
        "    print(f'{k}:\\n{encoding[k]}')"
      ],
      "execution_count": null,
      "outputs": [
        {
          "output_type": "stream",
          "text": [
            "Keys: dict_keys(['input_ids', 'token_type_ids', 'attention_mask'])\n",
            "\n",
            "input_ids:\n",
            "tensor([[    2, 23317,  2806,  2800,  2802,  4013,  5738,  7423,  5102,  3048,\n",
            "          1001,     4,     0,     0,     0,     0,     0,     0,     0,     0,\n",
            "             0,     0,     0,     0,     0,     0,     0,     0,     0,     0,\n",
            "             0,     0]])\n",
            "token_type_ids:\n",
            "tensor([[0, 0, 0, 0, 0, 0, 0, 0, 0, 0, 0, 0, 0, 0, 0, 0, 0, 0, 0, 0, 0, 0, 0, 0,\n",
            "         0, 0, 0, 0, 0, 0, 0, 0]])\n",
            "attention_mask:\n",
            "tensor([[1, 1, 1, 1, 1, 1, 1, 1, 1, 1, 1, 1, 0, 0, 0, 0, 0, 0, 0, 0, 0, 0, 0, 0,\n",
            "         0, 0, 0, 0, 0, 0, 0, 0]])\n"
          ],
          "name": "stdout"
        }
      ]
    },
    {
      "cell_type": "markdown",
      "metadata": {
        "id": "Pr8cRm9xiyKh"
      },
      "source": [
        "### Dataset"
      ]
    },
    {
      "cell_type": "code",
      "metadata": {
        "id": "TaJBSSuMizgr"
      },
      "source": [
        "class TranslationDataset(torch.utils.data.Dataset):\n",
        "    \"\"\" Create a PyTorch dataset for Translation DeepSP Dataset. \"\"\"\n",
        "\n",
        "    def __init__(self, tokenizer, comments, targets=None, label_list=None, max_len=128):\n",
        "        self.comments = comments\n",
        "        self.targets = targets\n",
        "        self.has_target = isinstance(targets, list) or isinstance(targets, np.ndarray)\n",
        "\n",
        "        self.tokenizer = tokenizer\n",
        "        self.max_len = max_len\n",
        "\n",
        "        \n",
        "        self.label_map = {label: i for i, label in enumerate(label_list)} if isinstance(label_list, list) else {}\n",
        "    \n",
        "    def __len__(self):\n",
        "        return len(self.comments)\n",
        "\n",
        "    def __getitem__(self, item):\n",
        "        comment = str(self.comments[item])\n",
        "\n",
        "        if self.has_target:\n",
        "            target = self.label_map.get(str(self.targets[item]), str(self.targets[item]))\n",
        "\n",
        "        encoding = self.tokenizer.encode_plus(\n",
        "            comment,\n",
        "            add_special_tokens=True,\n",
        "            truncation=True,\n",
        "            max_length=self.max_len,\n",
        "            return_token_type_ids=True,\n",
        "            padding='max_length',\n",
        "            return_attention_mask=True,\n",
        "            return_tensors='pt')\n",
        "        \n",
        "        inputs = {\n",
        "            'comment': comment,\n",
        "            'input_ids': encoding['input_ids'].flatten(),\n",
        "            'attention_mask': encoding['attention_mask'].flatten(),\n",
        "            'token_type_ids': encoding['token_type_ids'].flatten(),\n",
        "        }\n",
        "\n",
        "        if self.has_target:\n",
        "            inputs['targets'] = torch.tensor(target, dtype=torch.long)\n",
        "        \n",
        "        return inputs\n",
        "\n",
        "\n",
        "def create_data_loader(x, y, tokenizer, max_len, batch_size, label_list):\n",
        "    dataset = TranslationDataset(\n",
        "        comments=x,\n",
        "        targets=y,\n",
        "        tokenizer=tokenizer,\n",
        "        max_len=max_len, \n",
        "        label_list=label_list)\n",
        "    \n",
        "    return torch.utils.data.DataLoader(dataset, batch_size=batch_size)"
      ],
      "execution_count": null,
      "outputs": []
    },
    {
      "cell_type": "code",
      "metadata": {
        "id": "JEcefj6fkZFl"
      },
      "source": [
        "label_list = ['negative', 'positive']\n",
        "train_data_loader = create_data_loader(train['comment'].to_numpy(), train['label'].to_numpy(), tokenizer, MAX_LEN, TRAIN_BATCH_SIZE, label_list)\n",
        "valid_data_loader = create_data_loader(valid['comment'].to_numpy(), valid['label'].to_numpy(), tokenizer, MAX_LEN, VALID_BATCH_SIZE, label_list)\n",
        "test_data_loader = create_data_loader(test['comment'].to_numpy(), None, tokenizer, MAX_LEN, TEST_BATCH_SIZE, label_list)"
      ],
      "execution_count": null,
      "outputs": []
    },
    {
      "cell_type": "code",
      "metadata": {
        "id": "_qSxzPU2krDk",
        "colab": {
          "base_uri": "https://localhost:8080/"
        },
        "outputId": "5199a12a-9f69-473a-e809-5c5e89fd303f"
      },
      "source": [
        "sample_data = next(iter(train_data_loader))\n",
        "\n",
        "print(sample_data.keys())\n",
        "\n",
        "print(sample_data['comment'])\n",
        "print(sample_data['input_ids'].shape)\n",
        "print(sample_data['input_ids'][0, :])\n",
        "print(sample_data['attention_mask'].shape)\n",
        "print(sample_data['attention_mask'][0, :])\n",
        "print(sample_data['token_type_ids'].shape)\n",
        "print(sample_data['token_type_ids'][0, :])\n",
        "print(sample_data['targets'].shape)\n",
        "print(sample_data['targets'][0])"
      ],
      "execution_count": null,
      "outputs": [
        {
          "output_type": "stream",
          "text": [
            "dict_keys(['comment', 'input_ids', 'attention_mask', 'token_type_ids', 'targets'])\n",
            "['در کل ، همانطور که گفتیم ، m50 یکی دیگر از دوربین فیلمبرداری بسیار خوب از canon است که در عین استفاده از ویژگی های فناوری پیشرفته ، از نظر سبک بسیار کمی است.', 'به نظرم از لحاظ قيمتي اگر در حد نوت بود خوب بود.', 'اگرچه عملکرد کلی صفحه نمایش جدید ipad هنوز در بین تبلت ها برتر است ، اما در واقع از نظر هر دوی آنها باید بگوییم که عملکرد صفحه نمایش surface حتی با نسبت تصویر 16: 9 بسیار خوب است. در مقایسه با نسبت تصویر 4: 3 آیپد ، ابعاد بزرگتر تصاویر را ارائه می دهد.', 'baslam متاسفانه در معرفی این محصول یکی از مهمترین ویژگی های آن عدم توجه به تناسب اندام است.', 'برای خلاصه کردن ، باید بگوییم که برخی از ویژگی های این تبلت تاکنون بی نظیر است.', '2.روشنايي صفحش خيلي کمه.', 'البته لازم به ذکر است که این گوشی نسبت به ابعادی که دارد، بسیار قطور بوده ضخامت زیادی (14 میلی\\u200cمتر) دارد.', 'گرافيکش چندان قوي نيست ميتونست قوي تر باشه', 'به هر صورت به نظر می رسد برای مبتدیانی که به کار کردن با نمایشگرهای لمسی گوشی های تلفن همراه تبلت های خود عادت کرده اند، قرار دادن نمایشگر لمسی بر روی dslr سطح مبتدی فکر بدی نباشد.', 'علاوه بر این ، ft3 اگر از ارتفاع متر سقوط کند ، ضرری نخواهد داشت که احتمالاً بیشتر از ارتفاع شما خواهد بود.', 'البته جنس آن به گونه ایست که براق بوده خط خش کمی را می\\u200cپذیرد.', 'يکي از بهترين صفحه نمايش هايي که از نظر غلظت رنگ رزولوشن داره.', 'سلام تلويزيون خيلي خوبيه ولي واقعا متاسفم که بايد يه تلويزيون خارجي رو انتخاب کنم..', 'باتری آن کمی ضعیف به نظر می رسد', 'اما صفحه برای من خیلی بزرگ است', 'صفحه نمایش بلندگو در نسل پنجم ipod touch همان صفحه نمایش عالی ips آیفون را در اختیار شما قرار می دهد.']\n",
            "torch.Size([16, 128])\n",
            "tensor([    2,  2786,  3142,  1348,  5785,  2800, 10709,  1348,     1,  3036,\n",
            "         2972,  2791,  4834,  8281,  3177,  4124,  2791, 82098,  2806,  2800,\n",
            "         2786,  5266,  2988,  2791,  4274,  6343,  4066,  6783,  1348,  2791,\n",
            "         3138,  4523,  3177,  3744,  2806,  1012,     4,     0,     0,     0,\n",
            "            0,     0,     0,     0,     0,     0,     0,     0,     0,     0,\n",
            "            0,     0,     0,     0,     0,     0,     0,     0,     0,     0,\n",
            "            0,     0,     0,     0,     0,     0,     0,     0,     0,     0,\n",
            "            0,     0,     0,     0,     0,     0,     0,     0,     0,     0,\n",
            "            0,     0,     0,     0,     0,     0,     0,     0,     0,     0,\n",
            "            0,     0,     0,     0,     0,     0,     0,     0,     0,     0,\n",
            "            0,     0,     0,     0,     0,     0,     0,     0,     0,     0,\n",
            "            0,     0,     0,     0,     0,     0,     0,     0,     0,     0,\n",
            "            0,     0,     0,     0,     0,     0,     0,     0])\n",
            "torch.Size([16, 128])\n",
            "tensor([1, 1, 1, 1, 1, 1, 1, 1, 1, 1, 1, 1, 1, 1, 1, 1, 1, 1, 1, 1, 1, 1, 1, 1,\n",
            "        1, 1, 1, 1, 1, 1, 1, 1, 1, 1, 1, 1, 1, 0, 0, 0, 0, 0, 0, 0, 0, 0, 0, 0,\n",
            "        0, 0, 0, 0, 0, 0, 0, 0, 0, 0, 0, 0, 0, 0, 0, 0, 0, 0, 0, 0, 0, 0, 0, 0,\n",
            "        0, 0, 0, 0, 0, 0, 0, 0, 0, 0, 0, 0, 0, 0, 0, 0, 0, 0, 0, 0, 0, 0, 0, 0,\n",
            "        0, 0, 0, 0, 0, 0, 0, 0, 0, 0, 0, 0, 0, 0, 0, 0, 0, 0, 0, 0, 0, 0, 0, 0,\n",
            "        0, 0, 0, 0, 0, 0, 0, 0])\n",
            "torch.Size([16, 128])\n",
            "tensor([0, 0, 0, 0, 0, 0, 0, 0, 0, 0, 0, 0, 0, 0, 0, 0, 0, 0, 0, 0, 0, 0, 0, 0,\n",
            "        0, 0, 0, 0, 0, 0, 0, 0, 0, 0, 0, 0, 0, 0, 0, 0, 0, 0, 0, 0, 0, 0, 0, 0,\n",
            "        0, 0, 0, 0, 0, 0, 0, 0, 0, 0, 0, 0, 0, 0, 0, 0, 0, 0, 0, 0, 0, 0, 0, 0,\n",
            "        0, 0, 0, 0, 0, 0, 0, 0, 0, 0, 0, 0, 0, 0, 0, 0, 0, 0, 0, 0, 0, 0, 0, 0,\n",
            "        0, 0, 0, 0, 0, 0, 0, 0, 0, 0, 0, 0, 0, 0, 0, 0, 0, 0, 0, 0, 0, 0, 0, 0,\n",
            "        0, 0, 0, 0, 0, 0, 0, 0])\n",
            "torch.Size([16])\n",
            "tensor(1)\n"
          ],
          "name": "stdout"
        }
      ]
    },
    {
      "cell_type": "code",
      "metadata": {
        "id": "tDUNgRODuOTK",
        "colab": {
          "base_uri": "https://localhost:8080/"
        },
        "outputId": "da9c324e-5b7b-4ad9-88b6-0c32918aa545"
      },
      "source": [
        "sample_test = next(iter(test_data_loader))\n",
        "print(sample_test.keys())"
      ],
      "execution_count": null,
      "outputs": [
        {
          "output_type": "stream",
          "text": [
            "dict_keys(['comment', 'input_ids', 'attention_mask', 'token_type_ids'])\n"
          ],
          "name": "stdout"
        }
      ]
    },
    {
      "cell_type": "markdown",
      "metadata": {
        "id": "doP5OE1OWP38"
      },
      "source": [
        "### Model"
      ]
    },
    {
      "cell_type": "code",
      "metadata": {
        "id": "Mv75ARn_R_Dt"
      },
      "source": [
        "class SentimentModel(nn.Module):\n",
        "\n",
        "    def __init__(self, config):\n",
        "        super(SentimentModel, self).__init__()\n",
        "\n",
        "        self.bert = BertModel.from_pretrained(MODEL_NAME_OR_PATH)\n",
        "        self.dropout = nn.Dropout(config.hidden_dropout_prob)\n",
        "        self.classifier = nn.Linear(config.hidden_size, config.num_labels)\n",
        "    \n",
        "    def forward(self, input_ids, attention_mask, token_type_ids):\n",
        "        _, pooled_output = self.bert(\n",
        "            input_ids=input_ids, \n",
        "            attention_mask=attention_mask, \n",
        "            token_type_ids=token_type_ids)\n",
        "        \n",
        "        pooled_output = self.dropout(pooled_output)\n",
        "        logits = self.classifier(pooled_output)\n",
        "        return logits "
      ],
      "execution_count": null,
      "outputs": []
    },
    {
      "cell_type": "code",
      "metadata": {
        "id": "VrObbZAdNTNl",
        "colab": {
          "base_uri": "https://localhost:8080/"
        },
        "outputId": "6559b3b0-545a-4686-aa69-7b191bb893fa"
      },
      "source": [
        "import torch, gc\n",
        "\n",
        "gc.collect()\n",
        "torch.cuda.empty_cache()\n",
        "pt_model = None\n",
        "\n",
        "!nvidia-smi"
      ],
      "execution_count": null,
      "outputs": [
        {
          "output_type": "stream",
          "text": [
            "Tue Jul  6 11:34:08 2021       \n",
            "+-----------------------------------------------------------------------------+\n",
            "| NVIDIA-SMI 465.27       Driver Version: 460.32.03    CUDA Version: 11.2     |\n",
            "|-------------------------------+----------------------+----------------------+\n",
            "| GPU  Name        Persistence-M| Bus-Id        Disp.A | Volatile Uncorr. ECC |\n",
            "| Fan  Temp  Perf  Pwr:Usage/Cap|         Memory-Usage | GPU-Util  Compute M. |\n",
            "|                               |                      |               MIG M. |\n",
            "|===============================+======================+======================|\n",
            "|   0  Tesla T4            Off  | 00000000:00:04.0 Off |                    0 |\n",
            "| N/A   43C    P8    10W /  70W |      3MiB / 15109MiB |      0%      Default |\n",
            "|                               |                      |                  N/A |\n",
            "+-------------------------------+----------------------+----------------------+\n",
            "                                                                               \n",
            "+-----------------------------------------------------------------------------+\n",
            "| Processes:                                                                  |\n",
            "|  GPU   GI   CI        PID   Type   Process name                  GPU Memory |\n",
            "|        ID   ID                                                   Usage      |\n",
            "|=============================================================================|\n",
            "|  No running processes found                                                 |\n",
            "+-----------------------------------------------------------------------------+\n"
          ],
          "name": "stdout"
        }
      ]
    },
    {
      "cell_type": "code",
      "metadata": {
        "id": "7vzQGZGUmw3-",
        "colab": {
          "base_uri": "https://localhost:8080/",
          "height": 156,
          "referenced_widgets": [
            "724c86b8fb7545dbb99fb4fbab2db9a9",
            "f8ab4329ff454830a61f7512d26a11de",
            "9b33932ff85840aca94bd1dc281a75cc",
            "b1e3b5fac5b7494b94cd0f255325f590",
            "3a46fdd5956b4d2894e8a66db58d05aa",
            "e5461e7b7a7a4439a56200d7bebe0b67",
            "3364273d91cd441a90d7c9ac5374b69c",
            "25e8bf06b5ae4507a333f6cd300acb30"
          ]
        },
        "outputId": "43a52a67-eb09-4276-9688-e94fd47b0511"
      },
      "source": [
        "pt_model = SentimentModel(config=config)\n",
        "pt_model = pt_model.to(device)\n",
        "\n",
        "print('pt_model', type(pt_model))"
      ],
      "execution_count": null,
      "outputs": [
        {
          "output_type": "display_data",
          "data": {
            "application/vnd.jupyter.widget-view+json": {
              "model_id": "724c86b8fb7545dbb99fb4fbab2db9a9",
              "version_minor": 0,
              "version_major": 2
            },
            "text/plain": [
              "HBox(children=(FloatProgress(value=0.0, description='Downloading', max=654226731.0, style=ProgressStyle(descri…"
            ]
          },
          "metadata": {
            "tags": []
          }
        },
        {
          "output_type": "stream",
          "text": [
            "\n"
          ],
          "name": "stdout"
        },
        {
          "output_type": "stream",
          "text": [
            "Some weights of the model checkpoint at HooshvareLab/bert-fa-base-uncased were not used when initializing BertModel: ['bert.embeddings.position_ids']\n",
            "- This IS expected if you are initializing BertModel from the checkpoint of a model trained on another task or with another architecture (e.g. initializing a BertForSequenceClassification model from a BertForPretraining model).\n",
            "- This IS NOT expected if you are initializing BertModel from the checkpoint of a model that you expect to be exactly identical (initializing a BertForSequenceClassification model from a BertForSequenceClassification model).\n"
          ],
          "name": "stderr"
        },
        {
          "output_type": "stream",
          "text": [
            "pt_model <class '__main__.SentimentModel'>\n"
          ],
          "name": "stdout"
        }
      ]
    },
    {
      "cell_type": "code",
      "metadata": {
        "id": "68gIBEpiqBZc",
        "colab": {
          "base_uri": "https://localhost:8080/"
        },
        "outputId": "74324981-f041-4650-bec7-6fb6c383f9bd"
      },
      "source": [
        "# sample data output\n",
        "\n",
        "sample_data_comment = sample_data['comment']\n",
        "sample_data_input_ids = sample_data['input_ids']\n",
        "sample_data_attention_mask = sample_data['attention_mask']\n",
        "sample_data_token_type_ids = sample_data['token_type_ids']\n",
        "sample_data_targets = sample_data['targets']\n",
        "\n",
        "# available for using in GPU\n",
        "sample_data_input_ids = sample_data_input_ids.to(device)\n",
        "sample_data_attention_mask = sample_data_attention_mask.to(device)\n",
        "sample_data_token_type_ids = sample_data_token_type_ids.to(device)\n",
        "sample_data_targets = sample_data_targets.to(device)\n",
        "\n",
        "\n",
        "# outputs = F.softmax(\n",
        "#     pt_model(sample_data_input_ids, sample_data_attention_mask, sample_data_token_type_ids), \n",
        "#     dim=1)\n",
        "\n",
        "outputs = pt_model(sample_data_input_ids, sample_data_attention_mask, sample_data_token_type_ids)\n",
        "_, preds = torch.max(outputs, dim=1)\n",
        "\n",
        "print(outputs[:5, :])\n",
        "print(preds[:5])"
      ],
      "execution_count": null,
      "outputs": [
        {
          "output_type": "stream",
          "text": [
            "tensor([[ 0.4803,  0.3638],\n",
            "        [ 0.1766, -0.4871],\n",
            "        [ 0.0697, -0.1898],\n",
            "        [ 0.6020,  0.2984],\n",
            "        [-0.1018, -0.1889]], device='cuda:0', grad_fn=<SliceBackward>)\n",
            "tensor([0, 0, 0, 0, 0], device='cuda:0')\n"
          ],
          "name": "stdout"
        }
      ]
    },
    {
      "cell_type": "markdown",
      "metadata": {
        "id": "tFZQDfLlp0Sf"
      },
      "source": [
        "### Training"
      ]
    },
    {
      "cell_type": "code",
      "metadata": {
        "id": "e044fZSfBoKe"
      },
      "source": [
        "def simple_accuracy(y_true, y_pred):\n",
        "    return (y_true == y_pred).mean()\n",
        "\n",
        "def acc_and_f1(y_true, y_pred, average='weighted'):\n",
        "    acc = simple_accuracy(y_true, y_pred)\n",
        "    f1 = f1_score(y_true=y_true, y_pred=y_pred, average=average)\n",
        "    return {\n",
        "        \"acc\": acc,\n",
        "        \"f1\": f1,\n",
        "    }\n",
        "\n",
        "def y_loss(y_true, y_pred, losses):\n",
        "    y_true = torch.stack(y_true).cpu().detach().numpy()\n",
        "    y_pred = torch.stack(y_pred).cpu().detach().numpy()\n",
        "    y = [y_true, y_pred]\n",
        "    loss = np.mean(losses)\n",
        "\n",
        "    return y, loss\n",
        "\n",
        "\n",
        "def eval_op(model, data_loader, loss_fn):\n",
        "    model.eval()\n",
        "\n",
        "    losses = []\n",
        "    y_pred = []\n",
        "    y_true = []\n",
        "\n",
        "    with torch.no_grad():\n",
        "        for dl in tqdm(data_loader, total=len(data_loader), desc=\"Evaluation... \"):\n",
        "            \n",
        "            input_ids = dl['input_ids']\n",
        "            attention_mask = dl['attention_mask']\n",
        "            token_type_ids = dl['token_type_ids']\n",
        "            targets = dl['targets']\n",
        "\n",
        "            # move tensors to GPU if CUDA is available\n",
        "            input_ids = input_ids.to(device)\n",
        "            attention_mask = attention_mask.to(device)\n",
        "            token_type_ids = token_type_ids.to(device)\n",
        "            targets = targets.to(device)\n",
        "\n",
        "            # compute predicted outputs by passing inputs to the model\n",
        "            outputs = model(\n",
        "                input_ids=input_ids,\n",
        "                attention_mask=attention_mask,\n",
        "                token_type_ids=token_type_ids)\n",
        "            \n",
        "            # convert output probabilities to predicted class\n",
        "            _, preds = torch.max(outputs, dim=1)\n",
        "\n",
        "            # calculate the batch loss\n",
        "            loss = loss_fn(outputs, targets)\n",
        "\n",
        "            # accumulate all the losses\n",
        "            losses.append(loss.item())\n",
        "\n",
        "            y_pred.extend(preds)\n",
        "            y_true.extend(targets)\n",
        "    \n",
        "    eval_y, eval_loss = y_loss(y_true, y_pred, losses)\n",
        "    return eval_y, eval_loss\n",
        "\n",
        "\n",
        "def train_op(model, \n",
        "             data_loader, \n",
        "             loss_fn, \n",
        "             optimizer, \n",
        "             scheduler, \n",
        "             step=0, \n",
        "             print_every_step=100, \n",
        "             eval=False,\n",
        "             eval_cb=None,\n",
        "             eval_loss_min=np.Inf,\n",
        "             eval_data_loader=None, \n",
        "             clip=0.0):\n",
        "    \n",
        "    model.train()\n",
        "\n",
        "    losses = []\n",
        "    y_pred = []\n",
        "    y_true = []\n",
        "\n",
        "    for dl in tqdm(data_loader, total=len(data_loader), desc=\"Training... \"):\n",
        "        step += 1\n",
        "\n",
        "        input_ids = dl['input_ids']\n",
        "        attention_mask = dl['attention_mask']\n",
        "        token_type_ids = dl['token_type_ids']\n",
        "        targets = dl['targets']\n",
        "\n",
        "        # move tensors to GPU if CUDA is available\n",
        "        input_ids = input_ids.to(device)\n",
        "        attention_mask = attention_mask.to(device)\n",
        "        token_type_ids = token_type_ids.to(device)\n",
        "        targets = targets.to(device)\n",
        "\n",
        "        # clear the gradients of all optimized variables\n",
        "        optimizer.zero_grad()\n",
        "\n",
        "        # compute predicted outputs by passing inputs to the model\n",
        "        outputs = model(\n",
        "            input_ids=input_ids,\n",
        "            attention_mask=attention_mask,\n",
        "            token_type_ids=token_type_ids)\n",
        "        \n",
        "        # convert output probabilities to predicted class\n",
        "        _, preds = torch.max(outputs, dim=1)\n",
        "\n",
        "        # calculate the batch loss\n",
        "        loss = loss_fn(outputs, targets)\n",
        "\n",
        "        # accumulate all the losses\n",
        "        losses.append(loss.item())\n",
        "\n",
        "        # compute gradient of the loss with respect to model parameters\n",
        "        loss.backward()\n",
        "\n",
        "        # `clip_grad_norm` helps prevent the exploding gradient problem in RNNs / LSTMs.\n",
        "        if clip > 0.0:\n",
        "            nn.utils.clip_grad_norm_(model.parameters(), max_norm=clip)\n",
        "\n",
        "        # perform optimization step\n",
        "        optimizer.step()\n",
        "\n",
        "        # perform scheduler step\n",
        "        scheduler.step()\n",
        "\n",
        "        y_pred.extend(preds)\n",
        "        y_true.extend(targets)\n",
        "\n",
        "        if eval:\n",
        "            train_y, train_loss = y_loss(y_true, y_pred, losses)\n",
        "            train_score = acc_and_f1(train_y[0], train_y[1], average='weighted')\n",
        "\n",
        "            if step % print_every_step == 0:\n",
        "                eval_y, eval_loss = eval_op(model, eval_data_loader, loss_fn)\n",
        "                eval_score = acc_and_f1(eval_y[0], eval_y[1], average='weighted')\n",
        "\n",
        "                if hasattr(eval_cb, '__call__'):\n",
        "                    eval_loss_min = eval_cb(model, step, train_score, train_loss, eval_score, eval_loss, eval_loss_min)\n",
        "\n",
        "    train_y, train_loss = y_loss(y_true, y_pred, losses)\n",
        "\n",
        "    return train_y, train_loss, step, eval_loss_min"
      ],
      "execution_count": null,
      "outputs": []
    },
    {
      "cell_type": "code",
      "metadata": {
        "id": "wTWrdialDAtN",
        "colab": {
          "base_uri": "https://localhost:8080/",
          "height": 644,
          "referenced_widgets": [
            "9911f9945256497fbe9e6e39c354c496",
            "5354408cd4d745bc8c0f195f7e03f948",
            "ca9910b0ff7846a98efa1f2464761a04",
            "d42f5309054a438cb15038340ffc8271",
            "9b18717bc83c4c9f96dee4a48ff2f1ac",
            "00a0e329c5af4aee9e08f325ead21351",
            "0b613b9fee49451d92f21fa388c94106",
            "98cd8f873b4a4256aaed51056d19375e",
            "222aa98d1f5c44e8b029f37635d1bd77",
            "0e5d357027044ec580b1f8a102688171",
            "c40e16ddb8a840b4803080be6bac1b36",
            "c2e4cf02cafe4f9e9789b2067485d2d8",
            "0f2196411cc24590ab0160ba9f26fb11",
            "01d95c3f5e1b45d0a79b799f28c8c32b",
            "ffd932c5a5e14e74a1dd8dabc3e6d170",
            "e1ddc01ba76b49a6a0ae581d92df5c52",
            "5a4eb91e03a6431ba7ac8c0e1c036516",
            "697c1f02180e4318b9bbfaa4100f644c",
            "b838e86c51c24555bd9a92b7cb3c4e59",
            "63dfd3a8891f4d23ac3fc3b2485f5f91",
            "489c5f1df2414b10ad396e91ce97402e",
            "20d250471e804f76b25f511f3fd813df",
            "aa47a62ff35946fa9d19b57e4ab6b42a",
            "c600354258b0475d976518e1425cdd21",
            "c013ed50c72c49ceb2c8c6e8994b4a62",
            "ee9c99bcd7aa4956afb9b10381ac7d54",
            "6a8a09072c78410898250e8cce1c027a",
            "07653d6904fb4d3baa5954e109be117a",
            "4a92288542784e2491010fa9ec1814a0",
            "68ef481ef2dd4fccb2ac61e5b352a8e8",
            "279513442686420daf01582170c08e56",
            "be29159fc64945ab99fa08808da3bd10",
            "42d167cceaab45b0bdf39c3500eedc13",
            "e35bc616f61d491bafbade1a4955e260",
            "e42f82e448674082ad1a45e67552d9f4",
            "23bab9ec0a5e452e96a8feac72d1fcd4",
            "af2d3859da8b4142a4f18c72a95a6a5e",
            "fa854ee9ebcc42debed6824aa17cd0c4",
            "9fe47251abac43949695f1b46f2147f1",
            "2bdfd3f67c754769b2f95bf409780e8d",
            "4d74f1c2144d46cebc1d9bcd467c7a1e",
            "e54112300e9f4288a303b74f5bac1c15",
            "f2dc9dc41e444243b3c98ea40a692605",
            "0f654beb13444a4eaa1e600fe09fe605",
            "c085f1f09a4243a3b66bb1530cee0715",
            "3e1a1b3db52a40efb24cce450dff2f50",
            "d4b9c4c1e47640e98c66683e47ca3429",
            "1ccb7bc0025f42688bb9063378135cca",
            "3ad2dcffd7204f5e838504363b72c6d7",
            "96f4b88f643547f9b90598f93472bded",
            "e81a539d52bf4416b1c63db2755ce346",
            "56862074642f45288802a3841621a0fc",
            "e4651a41a4874a32aa59a41af1874368",
            "b7038838b8c34a95b20c20ea104347c6",
            "f1cc9440ab57486cb0b0d057116391cb",
            "74e56d11dc544e9ea6042f7ae13cea8d",
            "67bd35116323410c92c475c2be4bd5a8",
            "d965c2deda8c4f7e83261ece412372dc",
            "e30414ceb73e48d1ad37700a2f16b09f",
            "b3ef4cb4de0c4755852ff605e080203c",
            "7df97b564a0a4176891f08a25455a10d",
            "439baee0938f4614aed5aa73421cd8fa",
            "4febd45daf46487aa0e25ad78177c9f2",
            "d354482cb33849d2a3e1db952bf776ec",
            "fca670a312a24fbc9e0a6e109c34826a",
            "f52ab08cffd5410ca641fa8d0ef57994",
            "c50517514c804ee9bdf10492ae331d1a",
            "066303b88a7041c5ade9220bf18e9937",
            "86ca976e3b794eb79e6b3d401773525e",
            "df16449c521e4378a91b63072e6cc77b",
            "8ee0651b910a484484028c0435d644d9",
            "614cd0b819b546d6abe331c8a997004a",
            "f66d725bd3044d169e4504335547a264",
            "05f61b0e1a444e739e1ef9b9678639f8",
            "ada180f062b340beadc10ef720c483c9",
            "f16dd6a7be254fe09b303cd59edd7c3f",
            "d908afd4e75e4338a472a0fa760f7fb2",
            "39de140d62ce4565a527c633af7027da",
            "59062eeed7c348a99192bb3c784302e7",
            "fccef916e1924b10b221563a6ac62fa5",
            "2ce8141e1ef5440f9f308e9f8fe9cbbb",
            "5f8bf5209bcd425f955c2791f031139c",
            "7b63f91464b94181a1553cfd080c530c",
            "a29425e0d93f4ff1963212f838985866",
            "2f6a1bfa42e54e64b8390ab383c512d0",
            "5dcc0b0ecba1490e8d9e8d1449d037b3",
            "ec23cff17d2a46638d1a03cc3de7c93b",
            "420e3cd0b28e45cb8d430b1dea6167ea",
            "bd74ed575a444b6eb7c92372231f75dc",
            "ff4a46b6768e499490ecab15fa2c638d",
            "31b4c0032dcd4e7e9c06c5679ba4a641",
            "2077dc2f91d14233898cd2729bff856b",
            "d3001638449a43389eaf71b469f897f6",
            "cf3e2bffa3084278b9cb3fe4c9612740",
            "4480f664c870471db86edbf29ecf0995",
            "da109abc4421406f94fdad8b918f5c7d"
          ]
        },
        "outputId": "49c7232f-eaba-4573-de6c-1144cbe14a25"
      },
      "source": [
        "optimizer = AdamW(pt_model.parameters(), lr=LEARNING_RATE, correct_bias=False)\n",
        "total_steps = len(train_data_loader) * EPOCHS\n",
        "scheduler = get_linear_schedule_with_warmup(\n",
        "    optimizer,\n",
        "    num_warmup_steps=0,\n",
        "    num_training_steps=total_steps\n",
        ")\n",
        "\n",
        "loss_fn = nn.CrossEntropyLoss()\n",
        "\n",
        "step = 0\n",
        "eval_loss_min = np.Inf\n",
        "history = collections.defaultdict(list)\n",
        "\n",
        "\n",
        "def eval_callback(epoch, epochs, output_path):\n",
        "    def eval_cb(model, step, train_score, train_loss, eval_score, eval_loss, eval_loss_min):\n",
        "        statement = ''\n",
        "        statement += 'Epoch: {}/{}...'.format(epoch, epochs)\n",
        "        statement += 'Step: {}...'.format(step)\n",
        "        \n",
        "        statement += 'Train Loss: {:.6f}...'.format(train_loss)\n",
        "        statement += 'Train Acc: {:.3f}...'.format(train_score['acc'])\n",
        "\n",
        "        statement += 'Valid Loss: {:.6f}...'.format(eval_loss)\n",
        "        statement += 'Valid Acc: {:.3f}...'.format(eval_score['acc'])\n",
        "\n",
        "        print(statement)\n",
        "\n",
        "        if eval_loss <= eval_loss_min:\n",
        "            print('Validation loss decreased ({:.6f} --> {:.6f}).  Saving model ...'.format(\n",
        "                eval_loss_min,\n",
        "                eval_loss))\n",
        "            \n",
        "            torch.save(model.state_dict(), output_path)\n",
        "            eval_loss_min = eval_loss\n",
        "        \n",
        "        return eval_loss_min\n",
        "\n",
        "\n",
        "    return eval_cb\n",
        "\n",
        "\n",
        "for epoch in tqdm(range(1, EPOCHS + 1), desc=\"Epochs... \"):\n",
        "    train_y, train_loss, step, eval_loss_min = train_op(\n",
        "        model=pt_model, \n",
        "        data_loader=train_data_loader, \n",
        "        loss_fn=loss_fn, \n",
        "        optimizer=optimizer, \n",
        "        scheduler=scheduler, \n",
        "        step=step, \n",
        "        print_every_step=EEVERY_EPOCH, \n",
        "        eval=True,\n",
        "        eval_cb=eval_callback(epoch, EPOCHS, OUTPUT_PATH),\n",
        "        eval_loss_min=eval_loss_min,\n",
        "        eval_data_loader=valid_data_loader, \n",
        "        clip=CLIP)\n",
        "    \n",
        "    train_score = acc_and_f1(train_y[0], train_y[1], average='weighted')\n",
        "    \n",
        "    eval_y, eval_loss = eval_op(\n",
        "        model=pt_model, \n",
        "        data_loader=valid_data_loader, \n",
        "        loss_fn=loss_fn)\n",
        "    \n",
        "    eval_score = acc_and_f1(eval_y[0], eval_y[1], average='weighted')\n",
        "    \n",
        "    history['train_acc'].append(train_score['acc'])\n",
        "    history['train_loss'].append(train_loss)\n",
        "    history['val_acc'].append(eval_score['acc'])\n",
        "    history['val_loss'].append(eval_loss)"
      ],
      "execution_count": null,
      "outputs": [
        {
          "output_type": "display_data",
          "data": {
            "application/vnd.jupyter.widget-view+json": {
              "model_id": "9911f9945256497fbe9e6e39c354c496",
              "version_minor": 0,
              "version_major": 2
            },
            "text/plain": [
              "HBox(children=(FloatProgress(value=0.0, description='Epochs... ', max=5.0, style=ProgressStyle(description_wid…"
            ]
          },
          "metadata": {
            "tags": []
          }
        },
        {
          "output_type": "display_data",
          "data": {
            "application/vnd.jupyter.widget-view+json": {
              "model_id": "222aa98d1f5c44e8b029f37635d1bd77",
              "version_minor": 0,
              "version_major": 2
            },
            "text/plain": [
              "HBox(children=(FloatProgress(value=0.0, description='Training... ', max=209.0, style=ProgressStyle(description…"
            ]
          },
          "metadata": {
            "tags": []
          }
        },
        {
          "output_type": "stream",
          "text": [
            "\n"
          ],
          "name": "stdout"
        },
        {
          "output_type": "display_data",
          "data": {
            "application/vnd.jupyter.widget-view+json": {
              "model_id": "5a4eb91e03a6431ba7ac8c0e1c036516",
              "version_minor": 0,
              "version_major": 2
            },
            "text/plain": [
              "HBox(children=(FloatProgress(value=0.0, description='Evaluation... ', max=24.0, style=ProgressStyle(descriptio…"
            ]
          },
          "metadata": {
            "tags": []
          }
        },
        {
          "output_type": "stream",
          "text": [
            "\n"
          ],
          "name": "stdout"
        },
        {
          "output_type": "display_data",
          "data": {
            "application/vnd.jupyter.widget-view+json": {
              "model_id": "c013ed50c72c49ceb2c8c6e8994b4a62",
              "version_minor": 0,
              "version_major": 2
            },
            "text/plain": [
              "HBox(children=(FloatProgress(value=0.0, description='Training... ', max=209.0, style=ProgressStyle(description…"
            ]
          },
          "metadata": {
            "tags": []
          }
        },
        {
          "output_type": "stream",
          "text": [
            "\n"
          ],
          "name": "stdout"
        },
        {
          "output_type": "display_data",
          "data": {
            "application/vnd.jupyter.widget-view+json": {
              "model_id": "42d167cceaab45b0bdf39c3500eedc13",
              "version_minor": 0,
              "version_major": 2
            },
            "text/plain": [
              "HBox(children=(FloatProgress(value=0.0, description='Evaluation... ', max=24.0, style=ProgressStyle(descriptio…"
            ]
          },
          "metadata": {
            "tags": []
          }
        },
        {
          "output_type": "stream",
          "text": [
            "\n"
          ],
          "name": "stdout"
        },
        {
          "output_type": "display_data",
          "data": {
            "application/vnd.jupyter.widget-view+json": {
              "model_id": "4d74f1c2144d46cebc1d9bcd467c7a1e",
              "version_minor": 0,
              "version_major": 2
            },
            "text/plain": [
              "HBox(children=(FloatProgress(value=0.0, description='Training... ', max=209.0, style=ProgressStyle(description…"
            ]
          },
          "metadata": {
            "tags": []
          }
        },
        {
          "output_type": "stream",
          "text": [
            "\n"
          ],
          "name": "stdout"
        },
        {
          "output_type": "display_data",
          "data": {
            "application/vnd.jupyter.widget-view+json": {
              "model_id": "3ad2dcffd7204f5e838504363b72c6d7",
              "version_minor": 0,
              "version_major": 2
            },
            "text/plain": [
              "HBox(children=(FloatProgress(value=0.0, description='Evaluation... ', max=24.0, style=ProgressStyle(descriptio…"
            ]
          },
          "metadata": {
            "tags": []
          }
        },
        {
          "output_type": "stream",
          "text": [
            "\n"
          ],
          "name": "stdout"
        },
        {
          "output_type": "display_data",
          "data": {
            "application/vnd.jupyter.widget-view+json": {
              "model_id": "67bd35116323410c92c475c2be4bd5a8",
              "version_minor": 0,
              "version_major": 2
            },
            "text/plain": [
              "HBox(children=(FloatProgress(value=0.0, description='Training... ', max=209.0, style=ProgressStyle(description…"
            ]
          },
          "metadata": {
            "tags": []
          }
        },
        {
          "output_type": "stream",
          "text": [
            "\n"
          ],
          "name": "stdout"
        },
        {
          "output_type": "display_data",
          "data": {
            "application/vnd.jupyter.widget-view+json": {
              "model_id": "fca670a312a24fbc9e0a6e109c34826a",
              "version_minor": 0,
              "version_major": 2
            },
            "text/plain": [
              "HBox(children=(FloatProgress(value=0.0, description='Evaluation... ', max=24.0, style=ProgressStyle(descriptio…"
            ]
          },
          "metadata": {
            "tags": []
          }
        },
        {
          "output_type": "stream",
          "text": [
            "\n"
          ],
          "name": "stdout"
        },
        {
          "output_type": "display_data",
          "data": {
            "application/vnd.jupyter.widget-view+json": {
              "model_id": "f66d725bd3044d169e4504335547a264",
              "version_minor": 0,
              "version_major": 2
            },
            "text/plain": [
              "HBox(children=(FloatProgress(value=0.0, description='Training... ', max=209.0, style=ProgressStyle(description…"
            ]
          },
          "metadata": {
            "tags": []
          }
        },
        {
          "output_type": "display_data",
          "data": {
            "application/vnd.jupyter.widget-view+json": {
              "model_id": "2ce8141e1ef5440f9f308e9f8fe9cbbb",
              "version_minor": 0,
              "version_major": 2
            },
            "text/plain": [
              "HBox(children=(FloatProgress(value=0.0, description='Evaluation... ', max=24.0, style=ProgressStyle(descriptio…"
            ]
          },
          "metadata": {
            "tags": []
          }
        },
        {
          "output_type": "stream",
          "text": [
            "\n",
            "Epoch: 5/5...Step: 1000...Train Loss: 0.010552...Train Acc: 0.998...Valid Loss: 0.399946...Valid Acc: 0.903...\n",
            "Validation loss decreased (inf --> 0.399946).  Saving model ...\n",
            "\n"
          ],
          "name": "stdout"
        },
        {
          "output_type": "display_data",
          "data": {
            "application/vnd.jupyter.widget-view+json": {
              "model_id": "bd74ed575a444b6eb7c92372231f75dc",
              "version_minor": 0,
              "version_major": 2
            },
            "text/plain": [
              "HBox(children=(FloatProgress(value=0.0, description='Evaluation... ', max=24.0, style=ProgressStyle(descriptio…"
            ]
          },
          "metadata": {
            "tags": []
          }
        },
        {
          "output_type": "stream",
          "text": [
            "\n",
            "\n"
          ],
          "name": "stdout"
        }
      ]
    },
    {
      "cell_type": "markdown",
      "metadata": {
        "id": "C-ZvVuRsoYRK"
      },
      "source": [
        "### Prediction"
      ]
    },
    {
      "cell_type": "code",
      "metadata": {
        "id": "dlpDbg0wDqKP"
      },
      "source": [
        "def predict(model, comments, tokenizer, max_len=128, batch_size=32):\n",
        "    data_loader = create_data_loader(comments, None, tokenizer, max_len, batch_size, None)\n",
        "    \n",
        "    predictions = []\n",
        "    prediction_probs = []\n",
        "\n",
        "    \n",
        "    model.eval()\n",
        "    with torch.no_grad():\n",
        "        for dl in tqdm(data_loader, position=0):\n",
        "            input_ids = dl['input_ids']\n",
        "            attention_mask = dl['attention_mask']\n",
        "            token_type_ids = dl['token_type_ids']\n",
        "\n",
        "            # move tensors to GPU if CUDA is available\n",
        "            input_ids = input_ids.to(device)\n",
        "            attention_mask = attention_mask.to(device)\n",
        "            token_type_ids = token_type_ids.to(device)\n",
        "            \n",
        "            # compute predicted outputs by passing inputs to the model\n",
        "            outputs = model(\n",
        "                input_ids=input_ids,\n",
        "                attention_mask=attention_mask,\n",
        "                token_type_ids=token_type_ids)\n",
        "            \n",
        "            # convert output probabilities to predicted class\n",
        "            _, preds = torch.max(outputs, dim=1)\n",
        "\n",
        "            predictions.extend(preds)\n",
        "            prediction_probs.extend(F.softmax(outputs, dim=1))\n",
        "\n",
        "    predictions = torch.stack(predictions).cpu().detach().numpy()\n",
        "    prediction_probs = torch.stack(prediction_probs).cpu().detach().numpy()\n",
        "\n",
        "    return predictions, prediction_probs"
      ],
      "execution_count": null,
      "outputs": []
    },
    {
      "cell_type": "code",
      "metadata": {
        "id": "RRpWTfwdoWoS",
        "colab": {
          "base_uri": "https://localhost:8080/",
          "height": 84,
          "referenced_widgets": [
            "6b1bda99ffc445849721036ea809f116",
            "43c1169e8d98407db9d67991514409bb",
            "10b4d5eac8924d0bb77c617e61d5a660",
            "34df8c0763e34860b2b0b726befddba5",
            "cbe0622625f642e68b0550678e01bfe3",
            "3a3f638f753a4814b8531b8abeb7f410",
            "bdb6ce18a804446ab9b97e39dde0517c",
            "8471898c2b0342fa96ed11973b389d34"
          ]
        },
        "outputId": "f4c6b545-9d2e-4fd5-b2b1-2beeabfa1021"
      },
      "source": [
        "test_comments = test['comment'].to_numpy()\n",
        "preds, probs = predict(pt_model, test_comments, tokenizer, max_len=128)\n",
        "\n",
        "print(preds.shape, probs.shape)"
      ],
      "execution_count": null,
      "outputs": [
        {
          "output_type": "display_data",
          "data": {
            "application/vnd.jupyter.widget-view+json": {
              "model_id": "6b1bda99ffc445849721036ea809f116",
              "version_minor": 0,
              "version_major": 2
            },
            "text/plain": [
              "HBox(children=(FloatProgress(value=0.0, max=13.0), HTML(value='')))"
            ]
          },
          "metadata": {
            "tags": []
          }
        },
        {
          "output_type": "stream",
          "text": [
            "\n",
            "(411,) (411, 2)\n"
          ],
          "name": "stdout"
        }
      ]
    },
    {
      "cell_type": "code",
      "metadata": {
        "id": "ZRL2bgDDpUG0",
        "colab": {
          "base_uri": "https://localhost:8080/"
        },
        "outputId": "5f8a6b8b-63c1-4a0b-ef28-5f420ea7723a"
      },
      "source": [
        "y_test, y_pred = [label_list.index(label) for label in test['label'].values], preds\n",
        "\n",
        "print(f'F1: {f1_score(y_test, y_pred, average=\"weighted\")}')\n",
        "print()\n",
        "print(classification_report(y_test, y_pred, target_names=label_list))"
      ],
      "execution_count": null,
      "outputs": [
        {
          "output_type": "stream",
          "text": [
            "F1: 0.8734478518923732\n",
            "\n",
            "              precision    recall  f1-score   support\n",
            "\n",
            "    negative       0.88      0.86      0.87       205\n",
            "    positive       0.86      0.89      0.88       206\n",
            "\n",
            "    accuracy                           0.87       411\n",
            "   macro avg       0.87      0.87      0.87       411\n",
            "weighted avg       0.87      0.87      0.87       411\n",
            "\n"
          ],
          "name": "stdout"
        }
      ]
    },
    {
      "cell_type": "markdown",
      "metadata": {
        "id": "G9eY5tJrwLUZ"
      },
      "source": [
        "## Using TensorFlow"
      ]
    },
    {
      "cell_type": "code",
      "metadata": {
        "id": "BuiOuFkxv_to"
      },
      "source": [
        "from transformers import BertConfig, BertTokenizer\n",
        "from transformers import TFBertModel, TFBertForSequenceClassification\n",
        "from transformers import glue_convert_examples_to_features\n",
        "\n",
        "import tensorflow as tf"
      ],
      "execution_count": null,
      "outputs": []
    },
    {
      "cell_type": "markdown",
      "metadata": {
        "id": "X7Ro-8_pw_uw"
      },
      "source": [
        "### Configuration"
      ]
    },
    {
      "cell_type": "code",
      "metadata": {
        "id": "zx6k3XBxw_Nw"
      },
      "source": [
        "# general config\n",
        "MAX_LEN = 128\n",
        "TRAIN_BATCH_SIZE = 16\n",
        "VALID_BATCH_SIZE = 16\n",
        "TEST_BATCH_SIZE = 16\n",
        "\n",
        "EPOCHS = 5\n",
        "EEVERY_EPOCH = 1000\n",
        "LEARNING_RATE = 2e-5\n",
        "CLIP = 0.0\n",
        "\n",
        "MODEL_NAME_OR_PATH = 'HooshvareLab/bert-fa-base-uncased'\n",
        "OUTPUT_PATH = '/content/bert-fa-base-uncased-sentiment-taaghceh/pytorch_model.bin'\n",
        "\n",
        "os.makedirs(os.path.dirname(OUTPUT_PATH), exist_ok=True)"
      ],
      "execution_count": null,
      "outputs": []
    },
    {
      "cell_type": "code",
      "metadata": {
        "id": "X8uZ7728RmCw",
        "colab": {
          "base_uri": "https://localhost:8080/"
        },
        "outputId": "3cc60226-854c-4f0c-f145-8babdde384df"
      },
      "source": [
        "label2id = {label: i for i, label in enumerate(labels)}\n",
        "id2label = {v: k for k, v in label2id.items()}\n",
        "\n",
        "print(f'label2id: {label2id}')\n",
        "print(f'id2label: {id2label}')"
      ],
      "execution_count": null,
      "outputs": [
        {
          "output_type": "stream",
          "text": [
            "label2id: {'negative': 0, 'positive': 1}\n",
            "id2label: {0: 'negative', 1: 'positive'}\n"
          ],
          "name": "stdout"
        }
      ]
    },
    {
      "cell_type": "code",
      "metadata": {
        "id": "j4iFFI0lR5Nr",
        "colab": {
          "base_uri": "https://localhost:8080/"
        },
        "outputId": "679dd929-8bec-4c54-9ec3-653f0cf31e15"
      },
      "source": [
        "tokenizer = BertTokenizer.from_pretrained(MODEL_NAME_OR_PATH)\n",
        "config = BertConfig.from_pretrained(\n",
        "    MODEL_NAME_OR_PATH, **{\n",
        "        'label2id': label2id,\n",
        "        'id2label': id2label,\n",
        "    })\n",
        "\n",
        "print(config.to_json_string())"
      ],
      "execution_count": null,
      "outputs": [
        {
          "output_type": "stream",
          "text": [
            "{\n",
            "  \"architectures\": [\n",
            "    \"BertForMaskedLM\"\n",
            "  ],\n",
            "  \"attention_probs_dropout_prob\": 0.1,\n",
            "  \"gradient_checkpointing\": false,\n",
            "  \"hidden_act\": \"gelu\",\n",
            "  \"hidden_dropout_prob\": 0.1,\n",
            "  \"hidden_size\": 768,\n",
            "  \"id2label\": {\n",
            "    \"0\": \"negative\",\n",
            "    \"1\": \"positive\"\n",
            "  },\n",
            "  \"initializer_range\": 0.02,\n",
            "  \"intermediate_size\": 3072,\n",
            "  \"label2id\": {\n",
            "    \"negative\": 0,\n",
            "    \"positive\": 1\n",
            "  },\n",
            "  \"layer_norm_eps\": 1e-12,\n",
            "  \"max_position_embeddings\": 512,\n",
            "  \"model_type\": \"bert\",\n",
            "  \"num_attention_heads\": 12,\n",
            "  \"num_hidden_layers\": 12,\n",
            "  \"pad_token_id\": 0,\n",
            "  \"type_vocab_size\": 2,\n",
            "  \"vocab_size\": 100000\n",
            "}\n",
            "\n"
          ],
          "name": "stdout"
        }
      ]
    },
    {
      "cell_type": "markdown",
      "metadata": {
        "id": "ppvfKLczSFAG"
      },
      "source": [
        "### Input Embeddings / Dataset"
      ]
    },
    {
      "cell_type": "code",
      "metadata": {
        "id": "5_YqB7S7R9AK"
      },
      "source": [
        "class InputExample:\n",
        "    \"\"\" A single example for simple sequence classification. \"\"\"\n",
        "\n",
        "    def __init__(self, guid, text_a, text_b=None, label=None):\n",
        "        \"\"\" Constructs a InputExample. \"\"\"\n",
        "        self.guid = guid\n",
        "        self.text_a = text_a\n",
        "        self.text_b = text_b\n",
        "        self.label = label\n",
        "\n",
        "\n",
        "def make_examples(tokenizer, x, y=None, maxlen=128, output_mode=\"classification\", is_tf_dataset=True):\n",
        "    examples = []\n",
        "    y = y if isinstance(y, list) or isinstance(y, np.ndarray) else [None] * len(x)\n",
        "\n",
        "    for i, (_x, _y) in tqdm(enumerate(zip(x, y)), position=0, total=len(x)):\n",
        "        guid = \"%s\" % i\n",
        "        label = int(_y)\n",
        "        \n",
        "        if isinstance(_x, str):\n",
        "            text_a = _x\n",
        "            text_b = None\n",
        "        else:\n",
        "            assert len(_x) == 2\n",
        "            text_a = _x[0]\n",
        "            text_b = _x[1]\n",
        "        \n",
        "        examples.append(InputExample(guid=guid, text_a=text_a, text_b=text_b, label=label))\n",
        "    \n",
        "    features = glue_convert_examples_to_features(\n",
        "        examples, \n",
        "        tokenizer, \n",
        "        maxlen, \n",
        "        output_mode=output_mode, \n",
        "        label_list=list(np.unique(y)))\n",
        "\n",
        "    all_input_ids = []\n",
        "    all_attention_masks = []\n",
        "    all_token_type_ids = []\n",
        "    all_labels = []\n",
        "\n",
        "    for f in tqdm(features, position=0, total=len(examples)):\n",
        "        if is_tf_dataset:\n",
        "            all_input_ids.append(tf.constant(f.input_ids))\n",
        "            all_attention_masks.append(tf.constant(f.attention_mask))\n",
        "            all_token_type_ids.append(tf.constant(f.token_type_ids))\n",
        "            all_labels.append(tf.constant(f.label))\n",
        "        else:\n",
        "            all_input_ids.append(f.input_ids)\n",
        "            all_attention_masks.append(f.attention_mask)\n",
        "            all_token_type_ids.append(f.token_type_ids)\n",
        "            all_labels.append(f.label)\n",
        "\n",
        "    if is_tf_dataset:\n",
        "        dataset = tf.data.Dataset.from_tensor_slices(({\n",
        "            'input_ids': all_input_ids,\n",
        "            'attention_mask': all_attention_masks,\n",
        "            'token_type_ids': all_token_type_ids\n",
        "        }, all_labels))\n",
        "\n",
        "        return dataset, features\n",
        "    \n",
        "    xdata = [np.array(all_input_ids), np.array(all_attention_masks), np.array(all_token_type_ids)]\n",
        "    ydata = all_labels\n",
        "\n",
        "    return [xdata, ydata], features"
      ],
      "execution_count": null,
      "outputs": []
    },
    {
      "cell_type": "code",
      "metadata": {
        "id": "I7x5C4XPSLFz",
        "colab": {
          "base_uri": "https://localhost:8080/",
          "height": 412,
          "referenced_widgets": [
            "f974942cdbdd4e94a7fb3dc48205e62b",
            "914baa208ba74ab8915c3d74e3744ac0",
            "aa57c498271b495f8f427897ecc6f5df",
            "22b9e6fe03d84cccadd0ba349ac4290d",
            "e60bd0892f6340ebabdabf592ce48e91",
            "5eb7c04f3bbb43d5bccf8545743c8641",
            "dec28cbf9d2347268fb4c2ce3b90c575",
            "8f5f4a314cca4b6595b3fd6c27623eb3",
            "337ba51d5327427fb32561f2ba28b027",
            "7b39bb7f16c74495973e3a3ba9fab54c",
            "820a19b09fa947989787d278134d1288",
            "422be40f21754a518c2c627ee94344ce",
            "3a17c04ffa814e4291ea33465a62c6ae",
            "2a81fd8c1c9947648316c23c2863b669",
            "82f3258c3ecb45d0981a4e8cc817bf4c",
            "e4aa6cf6a542422ea869ec6f431b7a96",
            "8e49e5d5322a4d26937b1ae05028a4a6",
            "45e186cbe96d421e9ad4ae40c78f2792",
            "9fbdc6678e7f456484e322af0ef1447d",
            "2e2cf59c5bf242a091cbb7ffc74e0254",
            "645ab43e43f848c880593aa7b4e7f45f",
            "7e9bed0b2cfe4fb4ad8d8f4a9fbcda87",
            "0f196741aa4242a78185d7e69c89bdaf",
            "d3d3229e7fdc4f7a8e19f46336bd0085",
            "496386cc9bd44ef5aaa930c61770bfce",
            "0f81a40e8d6344ed8ce15d396f406459",
            "e277cdc77b404d95bed5a2e5b95bf70a",
            "e6b4937cd2924846b527d13b96408be3",
            "6f9e1e993fa14f49a9959b30d4e03016",
            "e8791a25a3fd4c7e94b1534cb9e0c92c",
            "0a943a53241d4c90b68ff2f65a543f9f",
            "48a64478336e4691aa3c6d4dcc9d5a9b",
            "a5478a4e7dc6454086e84d42faf3abe2",
            "1dad69beb063405eb9093e9dd619f5bf",
            "362f706b5a4545b8935cd6ed1993bdc0",
            "dd88247ff713457cb4ebad14feea7f71",
            "8d0a3701a1c5494d8fdb92b12c2d9e30",
            "9b60299132e5417bb2a322394b6dc3cc",
            "89c0e98df7d045588f0b0a88f41f3867",
            "aa06acc36969480d9a3d62b59cf0b388",
            "c5023515f0234d31b6cebbcececa0845",
            "4425a797410c441e8e5e893751a2d0e9",
            "7a2538beaa3743899d9198b7481ed8ec",
            "83ccec3ae6bf4dc986eae84c2aa45dea",
            "d6df65f2712a417c8e624d2fa96f4c9e",
            "cc84b80d4f414ca6bfc4dad4ced2dcad",
            "0d357b5bae524fa4b3ff7cd968c659bf",
            "eaa9204bdf804c69863405ba5950835f",
            "65c95ff741b44eb289d0f6efa2a73e34",
            "4dfb7e1322874aa0abba32fdc2c4e418",
            "6484f5bf28a34505ab145f9c833c04e6",
            "bf218880e0d34951bf279f1ea1c44250",
            "5edcadc80f0c4af38503dd60a8f6e4ba",
            "a702fadd84d548889cbbcae20697f74e",
            "f81a6493b54848439169c7275a127c49",
            "c8cf8981a95e441b9be49cec5edbb821",
            "9a2c5d0d3d77411fa536c545e84ab512",
            "e6655be4fcb0407a8b3f8e5091cfed08",
            "f935fe92788e4fdabcce188a0b0da360",
            "9653a0b4f3e248acb245d9fa2d8307b4",
            "5af5d332dbf84fa9bc6b5283487ffdd9",
            "59e9f357283e41359882c9ef60050f04",
            "b9701128a3c34e628965a102b1a433ba",
            "6559ea8f590d45ca86adca0116e1c3ce"
          ]
        },
        "outputId": "40563be9-753c-4f0b-f4a7-11bd8a13e9d2"
      },
      "source": [
        "train_dataset_base, train_examples = make_examples(tokenizer, x_train, y_train, maxlen=128)\n",
        "valid_dataset_base, valid_examples = make_examples(tokenizer, x_valid, y_valid, maxlen=128)\n",
        "\n",
        "test_dataset_base, test_examples = make_examples(tokenizer, x_test, y_test, maxlen=128)\n",
        "[xtest, ytest], test_examples = make_examples(tokenizer, x_test, y_test, maxlen=128, is_tf_dataset=False)"
      ],
      "execution_count": null,
      "outputs": [
        {
          "output_type": "display_data",
          "data": {
            "application/vnd.jupyter.widget-view+json": {
              "model_id": "f974942cdbdd4e94a7fb3dc48205e62b",
              "version_minor": 0,
              "version_major": 2
            },
            "text/plain": [
              "HBox(children=(FloatProgress(value=0.0, max=3329.0), HTML(value='')))"
            ]
          },
          "metadata": {
            "tags": []
          }
        },
        {
          "output_type": "stream",
          "text": [
            "\n"
          ],
          "name": "stdout"
        },
        {
          "output_type": "display_data",
          "data": {
            "application/vnd.jupyter.widget-view+json": {
              "model_id": "337ba51d5327427fb32561f2ba28b027",
              "version_minor": 0,
              "version_major": 2
            },
            "text/plain": [
              "HBox(children=(FloatProgress(value=0.0, max=3329.0), HTML(value='')))"
            ]
          },
          "metadata": {
            "tags": []
          }
        },
        {
          "output_type": "stream",
          "text": [
            "\n"
          ],
          "name": "stdout"
        },
        {
          "output_type": "display_data",
          "data": {
            "application/vnd.jupyter.widget-view+json": {
              "model_id": "8e49e5d5322a4d26937b1ae05028a4a6",
              "version_minor": 0,
              "version_major": 2
            },
            "text/plain": [
              "HBox(children=(FloatProgress(value=0.0, max=370.0), HTML(value='')))"
            ]
          },
          "metadata": {
            "tags": []
          }
        },
        {
          "output_type": "stream",
          "text": [
            "\n"
          ],
          "name": "stdout"
        },
        {
          "output_type": "display_data",
          "data": {
            "application/vnd.jupyter.widget-view+json": {
              "model_id": "496386cc9bd44ef5aaa930c61770bfce",
              "version_minor": 0,
              "version_major": 2
            },
            "text/plain": [
              "HBox(children=(FloatProgress(value=0.0, max=370.0), HTML(value='')))"
            ]
          },
          "metadata": {
            "tags": []
          }
        },
        {
          "output_type": "stream",
          "text": [
            "\n"
          ],
          "name": "stdout"
        },
        {
          "output_type": "display_data",
          "data": {
            "application/vnd.jupyter.widget-view+json": {
              "model_id": "a5478a4e7dc6454086e84d42faf3abe2",
              "version_minor": 0,
              "version_major": 2
            },
            "text/plain": [
              "HBox(children=(FloatProgress(value=0.0, max=411.0), HTML(value='')))"
            ]
          },
          "metadata": {
            "tags": []
          }
        },
        {
          "output_type": "stream",
          "text": [
            "\n"
          ],
          "name": "stdout"
        },
        {
          "output_type": "display_data",
          "data": {
            "application/vnd.jupyter.widget-view+json": {
              "model_id": "c5023515f0234d31b6cebbcececa0845",
              "version_minor": 0,
              "version_major": 2
            },
            "text/plain": [
              "HBox(children=(FloatProgress(value=0.0, max=411.0), HTML(value='')))"
            ]
          },
          "metadata": {
            "tags": []
          }
        },
        {
          "output_type": "stream",
          "text": [
            "\n"
          ],
          "name": "stdout"
        },
        {
          "output_type": "display_data",
          "data": {
            "application/vnd.jupyter.widget-view+json": {
              "model_id": "65c95ff741b44eb289d0f6efa2a73e34",
              "version_minor": 0,
              "version_major": 2
            },
            "text/plain": [
              "HBox(children=(FloatProgress(value=0.0, max=411.0), HTML(value='')))"
            ]
          },
          "metadata": {
            "tags": []
          }
        },
        {
          "output_type": "stream",
          "text": [
            "\n"
          ],
          "name": "stdout"
        },
        {
          "output_type": "display_data",
          "data": {
            "application/vnd.jupyter.widget-view+json": {
              "model_id": "9a2c5d0d3d77411fa536c545e84ab512",
              "version_minor": 0,
              "version_major": 2
            },
            "text/plain": [
              "HBox(children=(FloatProgress(value=0.0, max=411.0), HTML(value='')))"
            ]
          },
          "metadata": {
            "tags": []
          }
        },
        {
          "output_type": "stream",
          "text": [
            "\n"
          ],
          "name": "stdout"
        }
      ]
    },
    {
      "cell_type": "code",
      "metadata": {
        "id": "eOkiA4c6SeKP",
        "colab": {
          "base_uri": "https://localhost:8080/"
        },
        "outputId": "24179322-6082-40c1-dc6d-5cb41d1696c0"
      },
      "source": [
        "for value in train_dataset_base.take(1):\n",
        "    print(f'     input_ids: {value[0][\"input_ids\"]}')\n",
        "    print(f'attention_mask: {value[0][\"attention_mask\"]}')\n",
        "    print(f'token_type_ids: {value[0][\"token_type_ids\"]}')\n",
        "    print(f'        target: {value[1]}')"
      ],
      "execution_count": null,
      "outputs": [
        {
          "output_type": "stream",
          "text": [
            "     input_ids: [    2  2786  3142  1348  5785  2800 10709  1348     1  3036  2972  2791\n",
            "  4834  8281  3177  4124  2791 82098  2806  2800  2786  5266  2988  2791\n",
            "  4274  6343  4066  6783  1348  2791  3138  4523  3177  3744  2806  1012\n",
            "     4     0     0     0     0     0     0     0     0     0     0     0\n",
            "     0     0     0     0     0     0     0     0     0     0     0     0\n",
            "     0     0     0     0     0     0     0     0     0     0     0     0\n",
            "     0     0     0     0     0     0     0     0     0     0     0     0\n",
            "     0     0     0     0     0     0     0     0     0     0     0     0\n",
            "     0     0     0     0     0     0     0     0     0     0     0     0\n",
            "     0     0     0     0     0     0     0     0     0     0     0     0\n",
            "     0     0     0     0     0     0     0     0]\n",
            "attention_mask: [1 1 1 1 1 1 1 1 1 1 1 1 1 1 1 1 1 1 1 1 1 1 1 1 1 1 1 1 1 1 1 1 1 1 1 1 1\n",
            " 0 0 0 0 0 0 0 0 0 0 0 0 0 0 0 0 0 0 0 0 0 0 0 0 0 0 0 0 0 0 0 0 0 0 0 0 0\n",
            " 0 0 0 0 0 0 0 0 0 0 0 0 0 0 0 0 0 0 0 0 0 0 0 0 0 0 0 0 0 0 0 0 0 0 0 0 0\n",
            " 0 0 0 0 0 0 0 0 0 0 0 0 0 0 0 0 0]\n",
            "token_type_ids: [0 0 0 0 0 0 0 0 0 0 0 0 0 0 0 0 0 0 0 0 0 0 0 0 0 0 0 0 0 0 0 0 0 0 0 0 0\n",
            " 0 0 0 0 0 0 0 0 0 0 0 0 0 0 0 0 0 0 0 0 0 0 0 0 0 0 0 0 0 0 0 0 0 0 0 0 0\n",
            " 0 0 0 0 0 0 0 0 0 0 0 0 0 0 0 0 0 0 0 0 0 0 0 0 0 0 0 0 0 0 0 0 0 0 0 0 0\n",
            " 0 0 0 0 0 0 0 0 0 0 0 0 0 0 0 0 0]\n",
            "        target: 1\n"
          ],
          "name": "stdout"
        }
      ]
    },
    {
      "cell_type": "code",
      "metadata": {
        "id": "sGPW0b6PSsMN"
      },
      "source": [
        "def get_training_dataset(dataset, batch_size):\n",
        "    dataset = dataset.repeat()\n",
        "    dataset = dataset.shuffle(2048)\n",
        "    dataset = dataset.batch(batch_size)\n",
        "\n",
        "    return dataset\n",
        "\n",
        "def get_validation_dataset(dataset, batch_size):\n",
        "    dataset = dataset.batch(batch_size)\n",
        "\n",
        "    return dataset"
      ],
      "execution_count": null,
      "outputs": []
    },
    {
      "cell_type": "code",
      "metadata": {
        "id": "3JC5rd6YVEHc",
        "colab": {
          "base_uri": "https://localhost:8080/"
        },
        "outputId": "b2706e1e-cf93-4031-a0da-28909d0be7b9"
      },
      "source": [
        "train_dataset = get_training_dataset(train_dataset_base, TRAIN_BATCH_SIZE)\n",
        "valid_dataset = get_training_dataset(valid_dataset_base, VALID_BATCH_SIZE)\n",
        "\n",
        "train_steps = len(train_examples) // TRAIN_BATCH_SIZE\n",
        "valid_steps = len(valid_examples) // VALID_BATCH_SIZE\n",
        "\n",
        "train_steps, valid_steps"
      ],
      "execution_count": null,
      "outputs": [
        {
          "output_type": "execute_result",
          "data": {
            "text/plain": [
              "(208, 23)"
            ]
          },
          "metadata": {
            "tags": []
          },
          "execution_count": 67
        }
      ]
    },
    {
      "cell_type": "markdown",
      "metadata": {
        "id": "PAi2TF78VNux"
      },
      "source": [
        "### Model"
      ]
    },
    {
      "cell_type": "code",
      "metadata": {
        "id": "WwsARx2QVLjK"
      },
      "source": [
        "def build_model(model_name, config, learning_rate=3e-5):\n",
        "    model = TFBertForSequenceClassification.from_pretrained(model_name, config=config)\n",
        "\n",
        "    optimizer = tf.keras.optimizers.Adam(learning_rate=learning_rate)\n",
        "    loss = tf.keras.losses.SparseCategoricalCrossentropy(from_logits=True)\n",
        "    metric = tf.keras.metrics.SparseCategoricalAccuracy('accuracy')\n",
        "    model.compile(optimizer=optimizer, loss=loss, metrics=[metric])\n",
        "\n",
        "    return model"
      ],
      "execution_count": null,
      "outputs": []
    },
    {
      "cell_type": "code",
      "metadata": {
        "id": "8aFLw-MQVT_V",
        "colab": {
          "base_uri": "https://localhost:8080/",
          "height": 173,
          "referenced_widgets": [
            "e68cb8fdd4e84ae984823d7d874e34ed",
            "c5d271e394b144918345ea0972eda296",
            "c8c0094cbe114e71be3b25cfa1cf6a74",
            "789fb2a3de0d416ba50c220d516a353d",
            "d5bceb9a7c2341c9a59fbed218b9307c",
            "7c4f3a1a78c041429a31d7c704dc6eac",
            "a0da08b2397f47618802029ffbe4b435",
            "4974603c97d2423d8e58040ed48a6ad3"
          ]
        },
        "outputId": "109800b5-66f8-4fe6-a362-183deb5259e2"
      },
      "source": [
        "model = build_model(MODEL_NAME_OR_PATH, config, learning_rate=LEARNING_RATE)"
      ],
      "execution_count": null,
      "outputs": [
        {
          "output_type": "display_data",
          "data": {
            "application/vnd.jupyter.widget-view+json": {
              "model_id": "e68cb8fdd4e84ae984823d7d874e34ed",
              "version_minor": 0,
              "version_major": 2
            },
            "text/plain": [
              "HBox(children=(FloatProgress(value=0.0, description='Downloading', max=963211760.0, style=ProgressStyle(descri…"
            ]
          },
          "metadata": {
            "tags": []
          }
        },
        {
          "output_type": "stream",
          "text": [
            "\n"
          ],
          "name": "stdout"
        },
        {
          "output_type": "stream",
          "text": [
            "Some weights of the model checkpoint at HooshvareLab/bert-fa-base-uncased were not used when initializing TFBertForSequenceClassification: ['nsp___cls', 'mlm___cls']\n",
            "- This IS expected if you are initializing TFBertForSequenceClassification from the checkpoint of a model trained on another task or with another architecture (e.g. initializing a BertForSequenceClassification model from a BertForPretraining model).\n",
            "- This IS NOT expected if you are initializing TFBertForSequenceClassification from the checkpoint of a model that you expect to be exactly identical (initializing a BertForSequenceClassification model from a BertForSequenceClassification model).\n",
            "Some weights of TFBertForSequenceClassification were not initialized from the model checkpoint at HooshvareLab/bert-fa-base-uncased and are newly initialized: ['classifier', 'dropout_37']\n",
            "You should probably TRAIN this model on a down-stream task to be able to use it for predictions and inference.\n"
          ],
          "name": "stderr"
        }
      ]
    },
    {
      "cell_type": "markdown",
      "metadata": {
        "id": "jJrah6BGVfA2"
      },
      "source": [
        "### Training"
      ]
    },
    {
      "cell_type": "code",
      "metadata": {
        "id": "i3qOIz1WVZLw",
        "colab": {
          "base_uri": "https://localhost:8080/"
        },
        "outputId": "47f4e7af-f85b-4b23-f7e6-3b1a76bedbd7"
      },
      "source": [
        "%%time\n",
        "\n",
        "r = model.fit(\n",
        "    train_dataset,\n",
        "    validation_data=valid_dataset,\n",
        "    steps_per_epoch=train_steps,\n",
        "    validation_steps=valid_steps,\n",
        "    epochs=EPOCHS,\n",
        "    verbose=1)\n",
        "\n",
        "final_accuracy = r.history['val_accuracy']\n",
        "print('FINAL ACCURACY MEAN: ', np.mean(final_accuracy))"
      ],
      "execution_count": null,
      "outputs": [
        {
          "output_type": "stream",
          "text": [
            "Epoch 1/5\n",
            "WARNING:tensorflow:From /usr/local/lib/python3.7/dist-packages/tensorflow/python/ops/array_ops.py:5049: calling gather (from tensorflow.python.ops.array_ops) with validate_indices is deprecated and will be removed in a future version.\n",
            "Instructions for updating:\n",
            "The `validate_indices` argument has no effect. Indices are always validated on CPU and never validated on GPU.\n",
            "208/208 [==============================] - 114s 473ms/step - loss: 0.4075 - accuracy: 0.8164 - val_loss: 0.2501 - val_accuracy: 0.8913\n",
            "Epoch 2/5\n",
            "208/208 [==============================] - 96s 460ms/step - loss: 0.2263 - accuracy: 0.9129 - val_loss: 0.2348 - val_accuracy: 0.9076\n",
            "Epoch 3/5\n",
            "208/208 [==============================] - 96s 460ms/step - loss: 0.1009 - accuracy: 0.9654 - val_loss: 0.3015 - val_accuracy: 0.9103\n",
            "Epoch 4/5\n",
            "208/208 [==============================] - 95s 459ms/step - loss: 0.0635 - accuracy: 0.9781 - val_loss: 0.4007 - val_accuracy: 0.9076\n",
            "Epoch 5/5\n",
            "208/208 [==============================] - 96s 459ms/step - loss: 0.0512 - accuracy: 0.9829 - val_loss: 0.2762 - val_accuracy: 0.8940\n",
            "FINAL ACCURACY MEAN:  0.902173912525177\n",
            "CPU times: user 2min 34s, sys: 1min, total: 3min 35s\n",
            "Wall time: 8min 37s\n"
          ],
          "name": "stdout"
        }
      ]
    },
    {
      "cell_type": "code",
      "metadata": {
        "id": "JwIpJ1PIiOf6"
      },
      "source": [
        "# save the model\n",
        "model.save_pretrained(os.path.dirname(OUTPUT_PATH))"
      ],
      "execution_count": null,
      "outputs": []
    },
    {
      "cell_type": "markdown",
      "metadata": {
        "id": "hdJdgOecf3Ez"
      },
      "source": [
        "### Evaluation / Prediction"
      ]
    },
    {
      "cell_type": "code",
      "metadata": {
        "id": "VsgURdVH9V5w",
        "colab": {
          "base_uri": "https://localhost:8080/"
        },
        "outputId": "95f49268-8075-4be5-80a5-a5407522b7df"
      },
      "source": [
        "ev = model.evaluate(test_dataset_base.batch(TEST_BATCH_SIZE))\n",
        "print()\n",
        "print(f'Evaluation: {ev}')\n",
        "print()\n",
        "\n",
        "predictions = model.predict(xtest)\n",
        "ypred = predictions[0].argmax(axis=-1).tolist()\n",
        "\n",
        "print()\n",
        "print(classification_report(ytest, ypred, target_names=labels))\n",
        "print()\n",
        "\n",
        "print(f'F1: {f1_score(ytest, ypred, average=\"weighted\")}')"
      ],
      "execution_count": null,
      "outputs": [
        {
          "output_type": "stream",
          "text": [
            "26/26 [==============================] - 4s 147ms/step - loss: 0.3330 - accuracy: 0.8832\n",
            "\n",
            "Evaluation: [0.3330109417438507, 0.8832116723060608]\n",
            "\n",
            "\n",
            "              precision    recall  f1-score   support\n",
            "\n",
            "    negative       0.87      0.90      0.88       205\n",
            "    positive       0.90      0.87      0.88       206\n",
            "\n",
            "    accuracy                           0.88       411\n",
            "   macro avg       0.88      0.88      0.88       411\n",
            "weighted avg       0.88      0.88      0.88       411\n",
            "\n",
            "\n",
            "F1: 0.8831909344116744\n"
          ],
          "name": "stdout"
        }
      ]
    },
    {
      "cell_type": "markdown",
      "metadata": {
        "id": "8AkJL6fmRFsX"
      },
      "source": [
        "# Source\n",
        "[Loading a csv file from GitHub in Python](https://medium.com/towards-entrepreneurship/importing-a-csv-file-from-github-in-a-jupyter-notebook-e2c28e7e74a5)"
      ]
    }
  ]
}